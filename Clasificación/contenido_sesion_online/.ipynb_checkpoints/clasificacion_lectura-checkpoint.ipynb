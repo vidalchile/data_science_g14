{
 "cells": [
  {
   "cell_type": "code",
   "execution_count": 1,
   "metadata": {},
   "outputs": [],
   "source": [
    "# Imporatamos la triada clásica\n",
    "import numpy as np\n",
    "import pandas as pd\n",
    "import matplotlib.pyplot as plt\n",
    "%matplotlib inline\n",
    "# seaborn\n",
    "import seaborn as sns\n",
    "# scipy stats para simular\n",
    "import scipy.stats as stats\n",
    "# statsmodels para modelación\n",
    "import statsmodels.api as sm\n",
    "import statsmodels.formula.api as smf\n",
    "import warnings\n",
    "warnings.filterwarnings(\"ignore\")\n",
    "import lec6_graphs as gfx\n",
    "plt.style.use('seaborn') # Gráficos estilo seaborn\n",
    "# plt.rcParams[\"figure.figsize\"] = (6, 3) # Tamaño gráficos\n",
    "# plt.rcParams[\"figure.dpi\"] = 200 # resolución gráficos"
   ]
  },
  {
   "cell_type": "code",
   "execution_count": 2,
   "metadata": {},
   "outputs": [],
   "source": [
    "# ingresamos la base de datos\n",
    "df = pd.read_csv('wells.csv')\n",
    "# La base de datos incluye una columna de índice. Eliminemosla para evitar futuros conflictos\n",
    "df = df.drop(\"index\", axis =1)"
   ]
  },
  {
   "cell_type": "code",
   "execution_count": 3,
   "metadata": {},
   "outputs": [
    {
     "name": "stdout",
     "output_type": "stream",
     "text": [
      "La base de datos tiene  3020 observaciones y  5  columnas\n",
      "Las variables de la base de datos son  Index(['y', 'dist100', 'arsenic', 'educ4', 'assoc'], dtype='object')\n"
     ]
    }
   ],
   "source": [
    "print(\"La base de datos tiene \", df.shape[0], \"observaciones y \", df.shape[1], \" columnas\")\n",
    "print(\"Las variables de la base de datos son \", df.columns)"
   ]
  },
  {
   "cell_type": "code",
   "execution_count": 4,
   "metadata": {},
   "outputs": [
    {
     "name": "stdout",
     "output_type": "stream",
     "text": [
      "1    0.575166\n",
      "0    0.424834\n",
      "Name: y, dtype: float64 \n",
      "\n",
      "count    3020.000000\n",
      "mean        0.483319\n",
      "std         0.384787\n",
      "min         0.003870\n",
      "25%         0.211172\n",
      "50%         0.367615\n",
      "75%         0.640410\n",
      "max         3.395310\n",
      "Name: dist100, dtype: float64 \n",
      "\n",
      "count    3020.000000\n",
      "mean        1.656930\n",
      "std         1.107387\n",
      "min         0.510000\n",
      "25%         0.820000\n",
      "50%         1.300000\n",
      "75%         2.200000\n",
      "max         9.650000\n",
      "Name: arsenic, dtype: float64 \n",
      "\n",
      "count    3020.000000\n",
      "mean        1.207119\n",
      "std         1.004329\n",
      "min         0.000000\n",
      "25%         0.000000\n",
      "50%         1.250000\n",
      "75%         2.000000\n",
      "max         4.250000\n",
      "Name: educ4, dtype: float64 \n",
      "\n",
      "0    0.577152\n",
      "1    0.422848\n",
      "Name: assoc, dtype: float64 \n",
      "\n"
     ]
    }
   ],
   "source": [
    "for i in df:\n",
    "    if len(df[i].value_counts()) > 2:\n",
    "        print(df[i].describe(), \"\\n\")\n",
    "    else:\n",
    "        print(df[i].value_counts('%'), \"\\n\")"
   ]
  },
  {
   "cell_type": "code",
   "execution_count": 5,
   "metadata": {},
   "outputs": [
    {
     "data": {
      "text/html": [
       "<div>\n",
       "<style scoped>\n",
       "    .dataframe tbody tr th:only-of-type {\n",
       "        vertical-align: middle;\n",
       "    }\n",
       "\n",
       "    .dataframe tbody tr th {\n",
       "        vertical-align: top;\n",
       "    }\n",
       "\n",
       "    .dataframe thead th {\n",
       "        text-align: right;\n",
       "    }\n",
       "</style>\n",
       "<table border=\"1\" class=\"dataframe\">\n",
       "  <thead>\n",
       "    <tr style=\"text-align: right;\">\n",
       "      <th></th>\n",
       "      <th>y</th>\n",
       "      <th>dist100</th>\n",
       "      <th>arsenic</th>\n",
       "      <th>educ4</th>\n",
       "      <th>assoc</th>\n",
       "    </tr>\n",
       "  </thead>\n",
       "  <tbody>\n",
       "    <tr>\n",
       "      <th>count</th>\n",
       "      <td>3020.000000</td>\n",
       "      <td>3020.000000</td>\n",
       "      <td>3020.000000</td>\n",
       "      <td>3020.000000</td>\n",
       "      <td>3020.000000</td>\n",
       "    </tr>\n",
       "    <tr>\n",
       "      <th>mean</th>\n",
       "      <td>0.575166</td>\n",
       "      <td>0.483319</td>\n",
       "      <td>1.656930</td>\n",
       "      <td>1.207119</td>\n",
       "      <td>0.422848</td>\n",
       "    </tr>\n",
       "    <tr>\n",
       "      <th>std</th>\n",
       "      <td>0.494400</td>\n",
       "      <td>0.384787</td>\n",
       "      <td>1.107387</td>\n",
       "      <td>1.004329</td>\n",
       "      <td>0.494093</td>\n",
       "    </tr>\n",
       "    <tr>\n",
       "      <th>min</th>\n",
       "      <td>0.000000</td>\n",
       "      <td>0.003870</td>\n",
       "      <td>0.510000</td>\n",
       "      <td>0.000000</td>\n",
       "      <td>0.000000</td>\n",
       "    </tr>\n",
       "    <tr>\n",
       "      <th>25%</th>\n",
       "      <td>0.000000</td>\n",
       "      <td>0.211172</td>\n",
       "      <td>0.820000</td>\n",
       "      <td>0.000000</td>\n",
       "      <td>0.000000</td>\n",
       "    </tr>\n",
       "    <tr>\n",
       "      <th>50%</th>\n",
       "      <td>1.000000</td>\n",
       "      <td>0.367615</td>\n",
       "      <td>1.300000</td>\n",
       "      <td>1.250000</td>\n",
       "      <td>0.000000</td>\n",
       "    </tr>\n",
       "    <tr>\n",
       "      <th>75%</th>\n",
       "      <td>1.000000</td>\n",
       "      <td>0.640410</td>\n",
       "      <td>2.200000</td>\n",
       "      <td>2.000000</td>\n",
       "      <td>1.000000</td>\n",
       "    </tr>\n",
       "    <tr>\n",
       "      <th>max</th>\n",
       "      <td>1.000000</td>\n",
       "      <td>3.395310</td>\n",
       "      <td>9.650000</td>\n",
       "      <td>4.250000</td>\n",
       "      <td>1.000000</td>\n",
       "    </tr>\n",
       "  </tbody>\n",
       "</table>\n",
       "</div>"
      ],
      "text/plain": [
       "                 y      dist100      arsenic        educ4        assoc\n",
       "count  3020.000000  3020.000000  3020.000000  3020.000000  3020.000000\n",
       "mean      0.575166     0.483319     1.656930     1.207119     0.422848\n",
       "std       0.494400     0.384787     1.107387     1.004329     0.494093\n",
       "min       0.000000     0.003870     0.510000     0.000000     0.000000\n",
       "25%       0.000000     0.211172     0.820000     0.000000     0.000000\n",
       "50%       1.000000     0.367615     1.300000     1.250000     0.000000\n",
       "75%       1.000000     0.640410     2.200000     2.000000     1.000000\n",
       "max       1.000000     3.395310     9.650000     4.250000     1.000000"
      ]
     },
     "execution_count": 5,
     "metadata": {},
     "output_type": "execute_result"
    }
   ],
   "source": [
    "df.describe()"
   ]
  },
  {
   "cell_type": "markdown",
   "metadata": {},
   "source": [
    "INTERPRETACION:\n",
    "\n",
    "Respecto a las variables con atributos discretos __(nuestra variable dependiente y , y assoc )__,\n",
    "observamos que alrededor del __58%__ de las familias componentes de la muestra __se cambiaron de\n",
    "pozo a uno más seguro__. Encontramos lo opuesto __con assoc__ , cerca del __58%__ de los jefe de hogar\n",
    "en la familia __no participan en asociaciones comunitarias__. El nivel educacional de los encuestados se\n",
    "mide en el máximo grado académico desde __0 (Sin educación formal)__ a __4 (Secundaria completa)__. La\n",
    "media reportada sugiere que gran parte de la población posee __niveles bajos de educación__.\n",
    "La __mayoría__ de las familias se sitúan en una __distancia de 48 metros de un pozo seguro__, y el nivel de\n",
    "__arsénico promedio en el agua es de 1.65___, entre el rango de .51 y 9.65, lo cual es __relativamente bajo__."
   ]
  },
  {
   "cell_type": "code",
   "execution_count": 6,
   "metadata": {},
   "outputs": [
    {
     "data": {
      "image/png": "[encoded data removed]",
      "text/plain": [
       "<Figure size 432x288 with 5 Axes>"
      ]
     },
     "metadata": {
      "needs_background": "light"
     },
     "output_type": "display_data"
    }
   ],
   "source": [
    "for n, i in enumerate(df):\n",
    "    plt.subplot(2, 3, n+1)\n",
    "    if len(df[i].value_counts()) > 2:\n",
    "        sns.distplot(df[i])\n",
    "        plt.title(i)\n",
    "        plt.xlabel(\"\")\n",
    "    else:\n",
    "        sns.countplot(y=df[i])\n",
    "        plt.title(i)\n",
    "        plt.xlabel(\"\")\n",
    "        plt.tight_layout()"
   ]
  },
  {
   "cell_type": "markdown",
   "metadata": {},
   "source": [
    "____INTERPRETACION___:\n",
    "\n",
    "Observamos que para __dist100__ , __arsenic__ y __educ4__ existe un __sesgo__ hacia los __valores bajos__, lo\n",
    "cual sugiere que los casos donde la distancia y el nivel de arsénico son substancialmente grandes\n",
    "son relativamente anómalos.\n",
    "Respecto a las __variables discretas__, observamos que las __clases__ están __relativamente bien\n",
    "equilibradas__, lo cual facilita nuestra modelación."
   ]
  },
  {
   "cell_type": "markdown",
   "metadata": {},
   "source": [
    "### Digresión: ¿Qué hacer ante clases desbalanceadas?"
   ]
  },
  {
   "cell_type": "markdown",
   "metadata": {},
   "source": [
    "### sns.heatmap() | gráfico sobre la intensidad de las asociaciones entre las variables de una base de datos"
   ]
  },
  {
   "cell_type": "code",
   "execution_count": 7,
   "metadata": {},
   "outputs": [
    {
     "data": {
      "image/png": "[encoded data removed]",
      "text/plain": [
       "<Figure size 432x288 with 2 Axes>"
      ]
     },
     "metadata": {
      "needs_background": "light"
     },
     "output_type": "display_data"
    }
   ],
   "source": [
    "sns.heatmap(df.corr(), cmap='Blues', annot=True);"
   ]
  },
  {
   "cell_type": "markdown",
   "metadata": {},
   "source": [
    "ITERPRETACION\n",
    "\n",
    "Los resultados de la matriz de correlación pueden ser desalentadores, dado que no hay\n",
    "asociaciones fuertes entre las variables. Por defecto utilizamos la correlación de pearson, que no\n",
    "tiene un buen desempeño con variables que no sean estrictamente normales. Como ya se ha\n",
    "mencionado antes, ésto no es un impedimiento para seguir con la modelación ya que muchas\n",
    "relaciones no son estrictamente lineales."
   ]
  },
  {
   "cell_type": "markdown",
   "metadata": {},
   "source": [
    "### El modelo de probabilidad lineal"
   ]
  },
  {
   "cell_type": "markdown",
   "metadata": {},
   "source": [
    "implementamos una regresión lineal con nuestra variable dependiente binaria"
   ]
  },
  {
   "cell_type": "code",
   "execution_count": 8,
   "metadata": {},
   "outputs": [],
   "source": [
    "# ejecutemos nuestro modelo\n",
    "m1_ols = smf.ols('y ~ dist100', df).fit()"
   ]
  },
  {
   "cell_type": "code",
   "execution_count": 9,
   "metadata": {},
   "outputs": [
    {
     "data": {
      "text/plain": [
       "<statsmodels.regression.linear_model.RegressionResultsWrapper at 0x7f8f8e267be0>"
      ]
     },
     "execution_count": 9,
     "metadata": {},
     "output_type": "execute_result"
    }
   ],
   "source": [
    "m1_ols"
   ]
  },
  {
   "cell_type": "markdown",
   "metadata": {},
   "source": [
    "### concise_summary()"
   ]
  },
  {
   "cell_type": "markdown",
   "metadata": {},
   "source": [
    "### función para obtener sólo los parámetros necesarios en nuestro modelo"
   ]
  },
  {
   "cell_type": "code",
   "execution_count": 10,
   "metadata": {},
   "outputs": [],
   "source": [
    "def concise_summary(mod, print_fit=True):\n",
    "    #guardamos los parámetros asociados a estadísticas de ajuste\n",
    "    fit = pd.DataFrame({'Statistics': mod.summary2().tables[0][2][2:],\n",
    "    'Value': mod.summary2().tables[0][3][2:]})\n",
    "    # guardamos los parámetros estimados por cada regresor.\n",
    "    estimates = pd.DataFrame(mod.summary2().tables[1].loc[:, 'Coef.': 'Std.Err.'])\n",
    "    # imprimir fit es opcional\n",
    "    if print_fit is True:\n",
    "        print(\"\\nGoodness of Fit statistics\\n\", fit)\n",
    "    print(\"\\nPoint Estimates\\n\\n\", estimates)"
   ]
  },
  {
   "cell_type": "code",
   "execution_count": 11,
   "metadata": {},
   "outputs": [
    {
     "name": "stdout",
     "output_type": "stream",
     "text": [
      "\n",
      "Goodness of Fit statistics\n",
      "             Statistics      Value\n",
      "2                 BIC:  4288.4686\n",
      "3      Log-Likelihood:    -2136.2\n",
      "4         F-statistic:      42.57\n",
      "5  Prob (F-statistic):   7.95e-11\n",
      "6               Scale:    0.24111\n",
      "\n",
      "Point Estimates\n",
      "\n",
      "               Coef.  Std.Err.\n",
      "Intercept  0.648407  0.014347\n",
      "dist100   -0.151539  0.023225\n"
     ]
    }
   ],
   "source": [
    "# solicitemos las características del modelo\n",
    "concise_summary(m1_ols)"
   ]
  },
  {
   "cell_type": "markdown",
   "metadata": {},
   "source": [
    "__¿dónde está nuestro R-cuadrado?__\n",
    "\n",
    "no es tan relevante para nuestro modelo\n",
    "\n",
    "Preferimos concentrarnos en aspectos __menos triviales__ como si por lo menos uno de nuestros parámetros es distinto a cero, que se mide con __Prob (F-statistic)__ . Aspectos como el __BIC (Bayesian Information Criteria)__ y el __Log-Likelihood__ son __más informativos sobre la optimización de nuestro método__ que el R-cuadrado."
   ]
  },
  {
   "cell_type": "markdown",
   "metadata": {},
   "source": [
    "INTERPRETACION:\n",
    "\n",
    "El intercepto (b0) se puede interpretar al considerar __dist100=0__ . Una familia que esté a 0\n",
    "metros de distancia de un pozo __tendrá una probabilidad del 65%__ de cambiarse de pozo\n",
    "(asumiendo que está limpio)."
   ]
  },
  {
   "cell_type": "code",
   "execution_count": 12,
   "metadata": {},
   "outputs": [
    {
     "data": {
      "image/png": "[encoded data removed]",
      "text/plain": [
       "<Figure size 360x360 with 1 Axes>"
      ]
     },
     "metadata": {
      "needs_background": "light"
     },
     "output_type": "display_data"
    }
   ],
   "source": [
    "sns.lmplot('dist100','y', df,\n",
    "line_kws={'color':'tomato'},\n",
    "scatter_kws={'color': 'grey', 'alpha': .5});"
   ]
  },
  {
   "cell_type": "markdown",
   "metadata": {},
   "source": [
    "__De forma intuitiva se demuestra que en la medida que\n",
    "la probabilidad de cambiarse de pozo disminuye en la medida que la familia se encuentra más\n",
    "alejada de un pozo.__"
   ]
  },
  {
   "cell_type": "markdown",
   "metadata": {},
   "source": [
    "### Regresión Logística al rescate | método de máxima verosimilitud"
   ]
  },
  {
   "cell_type": "markdown",
   "metadata": {},
   "source": [
    "### desarrollar un modelo predictivo para la probabilidad de ocurrencia"
   ]
  },
  {
   "cell_type": "markdown",
   "metadata": {},
   "source": [
    "###  El método requiere que nuestra variable dependiente sea binaria"
   ]
  },
  {
   "cell_type": "markdown",
   "metadata": {},
   "source": [
    "### Los regresores independientes pueden ser contínuos y/o categóricos. | log-odds"
   ]
  },
  {
   "cell_type": "code",
   "execution_count": 13,
   "metadata": {},
   "outputs": [
    {
     "name": "stdout",
     "output_type": "stream",
     "text": [
      "Optimization terminated successfully.\n",
      "         Current function value: 0.674874\n",
      "         Iterations 4\n",
      "\n",
      "Goodness of Fit statistics\n",
      "         Statistics       Value\n",
      "2             BIC:   4092.2639\n",
      "3  Log-Likelihood:     -2038.1\n",
      "4         LL-Null:     -2059.0\n",
      "5     LLR p-value:  9.7978e-11\n",
      "6           Scale:      1.0000\n",
      "7                             \n",
      "\n",
      "Point Estimates\n",
      "\n",
      "               Coef.  Std.Err.\n",
      "Intercept  0.605959  0.060310\n",
      "dist100   -0.621882  0.097426\n"
     ]
    }
   ],
   "source": [
    "m1_logit = smf.logit('y ~ dist100', df).fit()\n",
    "concise_summary(m1_logit)"
   ]
  },
  {
   "cell_type": "markdown",
   "metadata": {},
   "source": [
    "INTERPRETACION OJO PERO NO ES CORRECTA:\n",
    "    \n",
    "La diferencia entre dos individuos que tienen similares características pero difieren en 100 metros de distancia de un pozo seguro conlleva a una disminución de un .62 en la probabilidad de cambiarse de pozo.\n",
    "__Esto no es correcto__, dado que los parámetros estimados mediante la regresión logística se conocen\n",
    "como log-odds, que representan el logaritmo de la chance de ocurrencia de un evento en\n",
    "específico"
   ]
  },
  {
   "cell_type": "markdown",
   "metadata": {},
   "source": [
    "### ¿Y qué significa todo esto para nosotros?"
   ]
  },
  {
   "cell_type": "markdown",
   "metadata": {},
   "source": [
    "__log-odds, que representan el logaritmo de la chance de ocurrencia de un evento en\n",
    "específico__"
   ]
  },
  {
   "cell_type": "markdown",
   "metadata": {},
   "source": [
    "### Digresión: Chance de ocurrencia es distinto a probabilidad."
   ]
  },
  {
   "cell_type": "markdown",
   "metadata": {},
   "source": [
    "La diferencia entre chance de ocurrencia y probabilidad es que la chance de ocurrencia nos dice\n",
    "qué tanto del espacio de eventos posibles está siendo utilizado por el evento de interés, mientras\n",
    "que la probabilidad nos dice qué tan \"seguros\" podemos estar el resultado final"
   ]
  },
  {
   "cell_type": "markdown",
   "metadata": {},
   "source": [
    "### Aplicar la función  ́logit ́ a la probabilidad nos entrega el logaritmo de las chances (odds)."
   ]
  },
  {
   "cell_type": "markdown",
   "metadata": {},
   "source": [
    "### El objetivo es traducir los valores del log odds en una declaración de probabilidad entre 0 y 1"
   ]
  },
  {
   "cell_type": "markdown",
   "metadata": {},
   "source": [
    "### Como obtener la probabilidad de cambiarse a un pozo seguro para toda la muestra"
   ]
  },
  {
   "cell_type": "markdown",
   "metadata": {},
   "source": [
    "* __1. Calcular el log odds promedio cuando dist100 es igual al promedio__"
   ]
  },
  {
   "cell_type": "code",
   "execution_count": 14,
   "metadata": {},
   "outputs": [
    {
     "name": "stdout",
     "output_type": "stream",
     "text": [
      "La media es de  0.48\n",
      "El log odds estimado es de  0.31\n"
     ]
    }
   ],
   "source": [
    "# guardamos la media en un objeto\n",
    "dist100_mean = df['dist100'].mean()\n",
    "print(\"La media es de \", round(dist100_mean, 2))\n",
    "\n",
    "# accedemos a los parámetros con la sintáxis modelo.params['parametro]\n",
    "estimate_y = m1_logit.params['Intercept'] + (m1_logit.params['dist100'] * dist100_mean)\n",
    "# chance de ocurrencia de un evento en específico\n",
    "print(\"El log odds estimado es de \", round(estimate_y, 2))"
   ]
  },
  {
   "cell_type": "markdown",
   "metadata": {},
   "source": [
    "* __2. Convertir nuestro log odds estimado en una probabilidad__"
   ]
  },
  {
   "cell_type": "code",
   "execution_count": 15,
   "metadata": {},
   "outputs": [
    {
     "name": "stdout",
     "output_type": "stream",
     "text": [
      "La probabilidad promedio de cambiarse de pozo cuando tenemos una distancia de 48 metros es: 0.58\n"
     ]
    }
   ],
   "source": [
    "def invlogit(x):\n",
    "    return 1 / (1+np.exp(-x))\n",
    "\n",
    "print(\"La probabilidad promedio de cambiarse de pozo cuando tenemos una distancia de 48 metros es:\", \n",
    "      round(invlogit(estimate_y), 2))"
   ]
  },
  {
   "cell_type": "markdown",
   "metadata": {},
   "source": [
    "__En resumen si queremos saber cual es la probabilidad promedio para una variable binaria de que ocurra determinado sucedo para determinado evento especifico es necesario realizar odds + invlogit:__"
   ]
  },
  {
   "cell_type": "markdown",
   "metadata": {},
   "source": [
    "### Calculando el efecto diferencial | estimar la probabilidad de dos eventos"
   ]
  },
  {
   "cell_type": "markdown",
   "metadata": {},
   "source": [
    "Vamos a generar cuatro escenarios donde se estimará la probabilidad de cambio para 100, 200,\n",
    "300 y 400 metros"
   ]
  },
  {
   "cell_type": "code",
   "execution_count": 16,
   "metadata": {},
   "outputs": [],
   "source": [
    "pr_dist_100 = invlogit(m1_logit.params['Intercept'] + (m1_logit.params['dist100'] * 1))\n",
    "pr_dist_200 = invlogit(m1_logit.params['Intercept'] + (m1_logit.params['dist100'] * 2))\n",
    "pr_dist_300 = invlogit(m1_logit.params['Intercept'] + (m1_logit.params['dist100'] * 3))\n",
    "pr_dist_400 = invlogit(m1_logit.params['Intercept'] + (m1_logit.params['dist100'] * 4))"
   ]
  },
  {
   "cell_type": "code",
   "execution_count": 17,
   "metadata": {},
   "outputs": [
    {
     "data": {
      "text/plain": [
       "0.4960194411878717"
      ]
     },
     "execution_count": 17,
     "metadata": {},
     "output_type": "execute_result"
    }
   ],
   "source": [
    "pr_dist_100"
   ]
  },
  {
   "cell_type": "code",
   "execution_count": 18,
   "metadata": {},
   "outputs": [
    {
     "name": "stdout",
     "output_type": "stream",
     "text": [
      "La probabilidad de cambiar de pozo entre 100 y 200 metros:  0.15\n",
      "La probabilidad de cambiar de pozo entre 200 y 300 metros:  0.125\n",
      "La probabilidad de cambiar de pozo entre 300 y 400 metros:  0.089\n"
     ]
    }
   ],
   "source": [
    "print(\"La probabilidad de cambiar de pozo entre 100 y 200 metros: \", round(pr_dist_100 - pr_dist_200,\n",
    "3))\n",
    "print(\"La probabilidad de cambiar de pozo entre 200 y 300 metros: \", round(pr_dist_200 - pr_dist_300,\n",
    "3))\n",
    "print(\"La probabilidad de cambiar de pozo entre 300 y 400 metros: \", round(pr_dist_300 - pr_dist_400,\n",
    "3))"
   ]
  },
  {
   "cell_type": "markdown",
   "metadata": {},
   "source": [
    "INTERPRETACION:\n",
    "    \n",
    "Se observa que el tránsito entre distintos valores conlleva a distintos cambios en las probabilidades.\n",
    "Este es uno de los principales motivos de esta cautela en la interpretación del modelo logístico: __No\n",
    "se puede asumir monotonicidad estricta en los parámetros__. La probabilidad de un cambio entre\n",
    "200 y 300 (Pr(x) = .124) es distinta a la probabilidad entre 300 y 400 (Pr(x) = .088)."
   ]
  },
  {
   "cell_type": "markdown",
   "metadata": {},
   "source": [
    "### estimar la recta de ajuste en función a los log-odds"
   ]
  },
  {
   "cell_type": "markdown",
   "metadata": {},
   "source": [
    "### La línea azul vertical se conoce como el límite de decisión, situación hipotética donde una observación tiene iguales chances del evento en cuestion. | estimar el límite de decisión"
   ]
  },
  {
   "cell_type": "code",
   "execution_count": 19,
   "metadata": {},
   "outputs": [
    {
     "name": "stdout",
     "output_type": "stream",
     "text": [
      "Una observación tiene igual probabilidad en ambos sucesos cuando x =  0.974\n"
     ]
    },
    {
     "data": {
      "image/png": "[encoded data removed]",
      "text/plain": [
       "<Figure size 360x360 with 1 Axes>"
      ]
     },
     "metadata": {
      "needs_background": "light"
     },
     "output_type": "display_data"
    }
   ],
   "source": [
    "sns.lmplot('dist100', \n",
    "           'y',\n",
    "           df,\n",
    "           logistic=True,\n",
    "           line_kws={'color':'tomato', 'lw': 3},\n",
    "           scatter_kws={'color': 'lightgrey', 'alpha': .5})\n",
    "\n",
    "decision_boundary = - m1_logit.params['Intercept'] / m1_logit.params['dist100']\n",
    "\n",
    "plt.axvline(decision_boundary, lw=1, color='dodgerblue')\n",
    "plt.axhline(.5, linestyle='--', color='grey', lw=1)\n",
    "plt.text(decision_boundary+.2, .5+.05, r'Caso donde $\\hat{p}=.5$', color='forestgreen')\n",
    "plt.plot(decision_boundary, .5, 'o', color='forestgreen')\n",
    "\n",
    "print(\"Una observación tiene igual probabilidad en ambos sucesos cuando x = \",\n",
    "round(decision_boundary, 3));"
   ]
  },
  {
   "cell_type": "markdown",
   "metadata": {},
   "source": [
    "INTERPRETACION:\n",
    "\n",
    "__En este este caso, cuando una familia se encuentre aproximadamente a 97 metros de un pozo\n",
    "seguro, tendrán iguales chances de cambiarse o no__"
   ]
  },
  {
   "cell_type": "markdown",
   "metadata": {},
   "source": [
    "### Relación entre LPM y Logit"
   ]
  },
  {
   "cell_type": "markdown",
   "metadata": {},
   "source": [
    "### Digresión: Aspectos formales de la regla dividir en 4"
   ]
  },
  {
   "cell_type": "code",
   "execution_count": 20,
   "metadata": {},
   "outputs": [
    {
     "name": "stdout",
     "output_type": "stream",
     "text": [
      "\n",
      "OLS\n",
      "\n",
      "Point Estimates\n",
      "\n",
      "               Coef.  Std.Err.\n",
      "Intercept  0.648407  0.014347\n",
      "dist100   -0.151539  0.023225\n"
     ]
    }
   ],
   "source": [
    "print(\"\\nOLS\")\n",
    "concise_summary(m1_ols, print_fit=False)"
   ]
  },
  {
   "cell_type": "code",
   "execution_count": 21,
   "metadata": {},
   "outputs": [
    {
     "name": "stdout",
     "output_type": "stream",
     "text": [
      "\n",
      "Logit\n",
      "\n",
      "Point Estimates\n",
      "\n",
      "               Coef.  Std.Err.\n",
      "Intercept  0.605959  0.060310\n",
      "dist100   -0.621882  0.097426\n"
     ]
    }
   ],
   "source": [
    "print(\"\\nLogit\")\n",
    "concise_summary(m1_logit, print_fit=False)"
   ]
  },
  {
   "cell_type": "code",
   "execution_count": 22,
   "metadata": {},
   "outputs": [
    {
     "name": "stdout",
     "output_type": "stream",
     "text": [
      "La probabilidad de cambiar de pozo entre 100 y 200 metros:  0.15\n"
     ]
    }
   ],
   "source": [
    "print(\"La probabilidad de cambiar de pozo entre 100 y 200 metros: \", round(pr_dist_100 - pr_dist_200,\n",
    "3))"
   ]
  },
  {
   "cell_type": "markdown",
   "metadata": {},
   "source": [
    "### El problema de clasificación desde Machine Learning"
   ]
  },
  {
   "cell_type": "markdown",
   "metadata": {},
   "source": [
    "El objetivo de la clasificación es enseñarle a la máquina a discriminar entre un número finito de\n",
    "clases en base a una serie de atributos."
   ]
  },
  {
   "cell_type": "markdown",
   "metadata": {},
   "source": [
    "__falsos positivos__: situaciones donde se clasifica de forma errónea"
   ]
  },
  {
   "cell_type": "markdown",
   "metadata": {},
   "source": [
    "__falsos negativos__: situaciones donde el clasificador ignora clasificaciones exitosas"
   ]
  },
  {
   "cell_type": "markdown",
   "metadata": {},
   "source": [
    "### situaciones donde el clasificador ignora clasificaciones exitosas"
   ]
  },
  {
   "cell_type": "markdown",
   "metadata": {},
   "source": [
    "#### LogisticRegression | linear_model | sklearn"
   ]
  },
  {
   "cell_type": "markdown",
   "metadata": {},
   "source": [
    "Comencemos por segmentar nuestra base de datos en entrenamiento y validación siguiendo la\n",
    "nomenclatura clásica, guardando el 33% de la muestra como validación"
   ]
  },
  {
   "cell_type": "code",
   "execution_count": 23,
   "metadata": {},
   "outputs": [],
   "source": [
    "from sklearn.linear_model import LogisticRegression\n",
    "from sklearn.model_selection import train_test_split\n",
    "X_train, X_test, y_train, y_test = train_test_split(df.loc[:, 'dist100':'assoc'],\n",
    "                                                    df['y'],\n",
    "                                                    test_size=.33,\n",
    "                                                    random_state=11238)"
   ]
  },
  {
   "cell_type": "markdown",
   "metadata": {},
   "source": [
    "### estandarizaremos cada atributo de nuestra muestras con StandardScaler | sklearn.preprocessing"
   ]
  },
  {
   "cell_type": "code",
   "execution_count": 24,
   "metadata": {},
   "outputs": [],
   "source": [
    "from sklearn.preprocessing import StandardScaler\n",
    "\n",
    "# estandarizamos la matriz de entrenamiento\n",
    "X_train_std = StandardScaler().fit_transform(X_train)\n",
    "\n",
    "# estandarizamos la matriz de validación\n",
    "X_test_std = StandardScaler().fit_transform(X_test)\n",
    "\n",
    "# iniciamos el modelo con la clase LogisticRegression y pasamos los datos en fit.\n",
    "default_model = LogisticRegression().fit(X_train_std, y_train)"
   ]
  },
  {
   "cell_type": "code",
   "execution_count": 25,
   "metadata": {},
   "outputs": [
    {
     "data": {
      "text/plain": [
       "array([[-0.33263063,  0.59061437,  0.14254114, -0.05194878]])"
      ]
     },
     "execution_count": 25,
     "metadata": {},
     "output_type": "execute_result"
    }
   ],
   "source": [
    "default_model.coef_"
   ]
  },
  {
   "cell_type": "markdown",
   "metadata": {},
   "source": [
    "__Al solicitar los coeficientes del modelo, observamos que son distintos a los estimados con nuestro\n",
    "modelo econométrico dado que no están estandarizados__"
   ]
  },
  {
   "cell_type": "markdown",
   "metadata": {},
   "source": [
    "### generar las predicciones (predict, predict_proba, predict_log_proba)"
   ]
  },
  {
   "cell_type": "markdown",
   "metadata": {},
   "source": [
    "__predict__: solicitamos las clases en las nuevas observaciones\n",
    "\n",
    "__predict_proba__: obtendremos el mapeo Pr(y) -> [0,1] lo cual nos será útil cuando midamos tasas de falsos positivos y negativos en el modelo\n",
    "\n",
    "__predict_log_proba__: devuelve el logaritmo de la probabilidad generada con __predict_proba__"
   ]
  },
  {
   "cell_type": "code",
   "execution_count": 26,
   "metadata": {},
   "outputs": [
    {
     "data": {
      "text/plain": [
       "array([0, 1, 1, 0, 1, 1, 1, 1, 1, 1, 1, 1, 1, 0, 0, 0, 0, 1, 1, 1])"
      ]
     },
     "execution_count": 26,
     "metadata": {},
     "output_type": "execute_result"
    }
   ],
   "source": [
    "yhat = default_model.predict(X_test_std)\n",
    "# solicitemos las primeras 20 observaciones del vector predicho.\n",
    "yhat[:20]"
   ]
  },
  {
   "cell_type": "markdown",
   "metadata": {},
   "source": [
    "### Métricas de desempeño para las tareas de clasificación"
   ]
  },
  {
   "cell_type": "markdown",
   "metadata": {},
   "source": [
    "Para el caso de los modelos donde nuestro vector objetivo era contínuo utilizabamos el Promedio\n",
    "del Error Cuadrático, que cuantificaba qué tan separados están los datos de nuestra recta de ajuste\n",
    "predictivo."
   ]
  },
  {
   "cell_type": "markdown",
   "metadata": {},
   "source": [
    "__Los modelos predictivos generan dos tipos de\n",
    "predicciones de utilidad:__\n",
    "* 1. Una predicción de probabilidad contínua entre los límites de cero y uno.\n",
    "* 2. Una predicción de clase, que establece cuál es la clase más adecuada para una nueva observación.\n",
    "\n",
    "__Para medir el desempeño de éstos modelos, nos centramos en la predicción de clase.__"
   ]
  },
  {
   "cell_type": "markdown",
   "metadata": {},
   "source": [
    "### Matriz de Confusión | evaluar desempeño | permite observar la cantidad de observaciones predichas de forma correcta."
   ]
  },
  {
   "cell_type": "markdown",
   "metadata": {},
   "source": [
    "#### sklearn confusion_matrix modulo confusion_matrix | pd.crosstab()"
   ]
  },
  {
   "cell_type": "code",
   "execution_count": 27,
   "metadata": {},
   "outputs": [
    {
     "data": {
      "text/plain": [
       "array([[171, 251],\n",
       "       [117, 458]])"
      ]
     },
     "execution_count": 27,
     "metadata": {},
     "output_type": "execute_result"
    }
   ],
   "source": [
    "from sklearn.metrics import confusion_matrix\n",
    "m1_confusion = confusion_matrix(y_test, yhat)\n",
    "m1_confusion"
   ]
  },
  {
   "cell_type": "code",
   "execution_count": 28,
   "metadata": {},
   "outputs": [
    {
     "data": {
      "text/html": [
       "<div>\n",
       "<style scoped>\n",
       "    .dataframe tbody tr th:only-of-type {\n",
       "        vertical-align: middle;\n",
       "    }\n",
       "\n",
       "    .dataframe tbody tr th {\n",
       "        vertical-align: top;\n",
       "    }\n",
       "\n",
       "    .dataframe thead th {\n",
       "        text-align: right;\n",
       "    }\n",
       "</style>\n",
       "<table border=\"1\" class=\"dataframe\">\n",
       "  <thead>\n",
       "    <tr style=\"text-align: right;\">\n",
       "      <th>col_0</th>\n",
       "      <th>0</th>\n",
       "      <th>1</th>\n",
       "    </tr>\n",
       "    <tr>\n",
       "      <th>y</th>\n",
       "      <th></th>\n",
       "      <th></th>\n",
       "    </tr>\n",
       "  </thead>\n",
       "  <tbody>\n",
       "    <tr>\n",
       "      <th>0</th>\n",
       "      <td>171</td>\n",
       "      <td>251</td>\n",
       "    </tr>\n",
       "    <tr>\n",
       "      <th>1</th>\n",
       "      <td>117</td>\n",
       "      <td>458</td>\n",
       "    </tr>\n",
       "  </tbody>\n",
       "</table>\n",
       "</div>"
      ],
      "text/plain": [
       "col_0    0    1\n",
       "y              \n",
       "0      171  251\n",
       "1      117  458"
      ]
     },
     "execution_count": 28,
     "metadata": {},
     "output_type": "execute_result"
    }
   ],
   "source": [
    "# comparemos con pd.crosstab\n",
    "m1_conf_pd = pd.crosstab(y_test, yhat)\n",
    "m1_conf_pd"
   ]
  },
  {
   "cell_type": "markdown",
   "metadata": {},
   "source": [
    "__La tabla resultante permite observar las categorías predichas con las observadas. La diagonal\n",
    "principal reporta los casos exitosamente predichos. Una de las primeras medidas de desempeño es\n",
    "medir el porcentaje de casos predichos correctamente por sobre el total de casos.__"
   ]
  },
  {
   "cell_type": "markdown",
   "metadata": {},
   "source": [
    "__falsos positivos:__ situaciones donde se clasifica de forma errónea\n",
    "\n",
    "__falsos negativos:__ situaciones donde el clasificador ignora clasificaciones exitosas"
   ]
  },
  {
   "cell_type": "markdown",
   "metadata": {},
   "source": [
    "__sklearn__ implementa el método __accuracy_score__ en el módulo __metrics__ . El método pide como\n",
    "argumentos el vector objetivo de prueba __( y_test )__ y el vector de etiquetas predichas __( yhat )__ y\n",
    "__devuelve__ un valor entre __0 y 1__, donde __valores más altos reflejan mayores niveles de concordancia\n",
    "entre ambos vectores__."
   ]
  },
  {
   "cell_type": "code",
   "execution_count": 29,
   "metadata": {},
   "outputs": [
    {
     "data": {
      "text/plain": [
       "0.6308926780341023"
      ]
     },
     "execution_count": 29,
     "metadata": {},
     "output_type": "execute_result"
    }
   ],
   "source": [
    "from sklearn.metrics import accuracy_score\n",
    "m1_acc = accuracy_score(y_test, yhat)\n",
    "m1_acc"
   ]
  },
  {
   "cell_type": "markdown",
   "metadata": {},
   "source": [
    "INTERPRETACION\n",
    "\n",
    "La métrica reportada de __.631__ sugiere cierta exactitud de nuestro modelo. El __problema es que no\n",
    "sabemos frente a qué criterio nuestro modelo es eficiente__. Para evaluar su desempeño necesitamos\n",
    "encontrar un __benchmark (punto de referencia)__ que refleje capacidad de predicción al azar, sin la\n",
    "necesidad de un modelo."
   ]
  },
  {
   "cell_type": "code",
   "execution_count": 30,
   "metadata": {},
   "outputs": [
    {
     "name": "stdout",
     "output_type": "stream",
     "text": [
      "¿Qué proporción de indentificaciones positivas fue correcta?\n",
      "0.6459802538787024\n",
      "-------------------------------------------------------------------\n",
      "¿Qué proporción de positivos reales se identificó correctamente?\n",
      "0.7965217391304348\n"
     ]
    }
   ],
   "source": [
    "from sklearn.metrics import precision_score, recall_score\n",
    "m1_prec = precision_score(y_test, yhat)\n",
    "m1_rec = recall_score(y_test, yhat)\n",
    "\n",
    "print('¿Qué proporción de indentificaciones positivas fue correcta?')\n",
    "print(m1_prec)\n",
    "print('-------------------------------------------------------------------')\n",
    "print('¿Qué proporción de positivos reales se identificó correctamente?')\n",
    "print(m1_rec)"
   ]
  },
  {
   "cell_type": "markdown",
   "metadata": {},
   "source": [
    "INTERPRETACION:\n",
    "    \n",
    "Los puntajes de precision y recall para el modelo sugieren que el modelo tiene un desempeño\n",
    "aceptable, pero que se puede mejorar de forma substancial. Un punto a destacar es la alta tasa de\n",
    "recall que tiene, rescatando gran parte de los valores etiquetados como 1."
   ]
  },
  {
   "cell_type": "markdown",
   "metadata": {},
   "source": [
    "### F1 | classification_report"
   ]
  },
  {
   "cell_type": "code",
   "execution_count": 31,
   "metadata": {},
   "outputs": [
    {
     "name": "stdout",
     "output_type": "stream",
     "text": [
      "              precision    recall  f1-score   support\n",
      "\n",
      "           0       0.59      0.41      0.48       422\n",
      "           1       0.65      0.80      0.71       575\n",
      "\n",
      "   micro avg       0.63      0.63      0.63       997\n",
      "   macro avg       0.62      0.60      0.60       997\n",
      "weighted avg       0.62      0.63      0.62       997\n",
      "\n"
     ]
    }
   ],
   "source": [
    "from sklearn.metrics import classification_report\n",
    "print(classification_report(y_test, yhat))"
   ]
  },
  {
   "cell_type": "markdown",
   "metadata": {},
   "source": [
    "INTERPRETACION\n",
    "\n",
    "Resulta que nuestro modelo tiene problemas para clasificar correctectamente los casos donde __Yi=0__, donde sus métricas presentan tasas bajas cercanas al __50%__. Esto sugiere que el modelo debe ser refactorizado y encontrar predictores que estén asociados con los casos donde Yi=0\n"
   ]
  },
  {
   "cell_type": "markdown",
   "metadata": {},
   "source": [
    "### Receiving Operating Characteristics (Curva ROC)"
   ]
  },
  {
   "cell_type": "markdown",
   "metadata": {},
   "source": [
    "__Con Precision, Recall y F1 logramos caracterizar las tasas de predicción exitosa del modelo ROC (Receiving Operating Characteristics), que evalúa la relación entre ambos errores condicional en todo el rango del clasificador.__"
   ]
  },
  {
   "cell_type": "markdown",
   "metadata": {},
   "source": [
    "Para generar un gráfico de curva __ROC__ con sklearn , utilizamos el método __roc_curve__ dentro del\n",
    "módulo metrics . El método __devuelve__ tres objetos: Un array con la __tasa de falsos positivos__, un\n",
    "array con la __tasa de verdaderos positivos__ y un array con los __umbrales de decisión entre 0 y 1__."
   ]
  },
  {
   "cell_type": "code",
   "execution_count": 32,
   "metadata": {},
   "outputs": [
    {
     "data": {
      "text/plain": [
       "Text(0.5, 0, 'Falsos Positivos')"
      ]
     },
     "execution_count": 32,
     "metadata": {},
     "output_type": "execute_result"
    },
    {
     "data": {
      "image/png": "[encoded data removed]",
      "text/plain": [
       "<Figure size 432x288 with 1 Axes>"
      ]
     },
     "metadata": {
      "needs_background": "light"
     },
     "output_type": "display_data"
    }
   ],
   "source": [
    "from sklearn.metrics import roc_curve\n",
    "\n",
    "# reestimamos los valores predichos de nuestro modelo para obtener la probabilidad entre 0 y 1.\n",
    "yhat = default_model.predict_proba(X_test)[:, 1]\n",
    "\n",
    "# generamos los objetos de roc_cruve\n",
    "false_positive, true_positive, threshold = roc_curve(y_test, yhat)\n",
    "\n",
    "# generamos los objetos de roc_cruve\n",
    "false_positive, true_positive, threshold = roc_curve(y_test, yhat)\n",
    "\n",
    "# Plot ROC curve\n",
    "plt.title('Curva ROC')\n",
    "plt.plot(false_positive, true_positive, lw=1)\n",
    "plt.plot([0, 1], ls=\"--\", lw=1)\n",
    "plt.plot([0, 0], [1, 0] , c='limegreen', lw=3), plt.plot([1, 1] , c='limegreen', lw=3)\n",
    "plt.ylabel('Verdaderos Positivos')\n",
    "plt.xlabel('Falsos Positivos')"
   ]
  },
  {
   "cell_type": "markdown",
   "metadata": {},
   "source": [
    "A primera vista un modelo con una capacidad predictiva __adecuada__ debe tener una __curva por sobre\n",
    "la bisectriz__, la cual indica la tasa de clasificación aleatoria. Un modelo con __desempeño deficiente__\n",
    "presentará __curvas ROC bajo la bisectriz__. Una curva ROC con capacidad predictiva adecuada siempre se posicionará por sobre la bisectriz, dado que la tasa de verdaderos positivos será mayor que la tasa de falsos positivos. La calidad de una curva ROC también se puede resumir con una métrica simple llamada la __área\n",
    "debajo de la curva__. Valores mayores de ésta cifra van a estar asociados con un __mejor desempeño\n",
    "del modelo en predecir__ más verdaderos positivos que falsos positivos"
   ]
  },
  {
   "cell_type": "markdown",
   "metadata": {},
   "source": [
    "#### estimar el área debajo"
   ]
  },
  {
   "cell_type": "code",
   "execution_count": 33,
   "metadata": {},
   "outputs": [
    {
     "data": {
      "text/plain": [
       "0.6267010096847311"
      ]
     },
     "execution_count": 33,
     "metadata": {},
     "output_type": "execute_result"
    }
   ],
   "source": [
    "from sklearn.metrics import roc_auc_score\n",
    "roc_auc_score(y_test, yhat)"
   ]
  },
  {
   "cell_type": "markdown",
   "metadata": {},
   "source": [
    "INTERPRETACION:\n",
    "\n",
    "Con un valor de __.64__, nuestro modelo tiene un desempeño de __14%__ superior a un mecanismo de\n",
    "clasificación aleatoria. __Es aceptable, pero se puede mejorar__"
   ]
  },
  {
   "cell_type": "markdown",
   "metadata": {},
   "source": [
    "### Métodos de resampling (remuestreo)"
   ]
  },
  {
   "cell_type": "markdown",
   "metadata": {},
   "source": [
    "### k-Fold Cross Validation (Validación Cruzada repetida k veces)"
   ]
  },
  {
   "cell_type": "markdown",
   "metadata": {},
   "source": [
    "* Entrenar un modelo con todas las muestras, excluyendo la primera.\n",
    "* El modelo entrenado busca predecir el vector objetivo de la primera submuestra, y se calcula algún estadístico de desempeño. Éste se guarda como estadístico de prueba 1.\n",
    "* Se vuelve a entrenar el modelo con todas las muestras, volviendo a ingresar la primera muestra y excluyendo la segunda. Se computa el estadístico de desempeño y se guarda como estadístico de prueba 2.\n",
    "* Se repite el procedimiento hasta que toda submuestra sea considerada como muestra de validación.\n",
    "* Se promedian los estadísticos en una media y desviación estandar."
   ]
  },
  {
   "cell_type": "code",
   "execution_count": 34,
   "metadata": {},
   "outputs": [
    {
     "data": {
      "text/plain": [
       "array([0.70499244, 0.68932806, 0.69954476])"
      ]
     },
     "execution_count": 34,
     "metadata": {},
     "output_type": "execute_result"
    }
   ],
   "source": [
    "from sklearn.model_selection import cross_val_score\n",
    "m1_cv = cross_val_score(LogisticRegression(), #estimador a utilizar\n",
    "                        X=df.loc[:,'dist100':'assoc'], #matriz de atributos\n",
    "                        y=df.loc[:, 'y'], #vector objetivo\n",
    "                        cv=3, #cantidad de segmentaciones a realizar\n",
    "                        scoring='f1' #métrica de desempeño a evaluar\n",
    "                       )\n",
    "m1_cv"
   ]
  },
  {
   "cell_type": "code",
   "execution_count": 35,
   "metadata": {},
   "outputs": [
    {
     "name": "stdout",
     "output_type": "stream",
     "text": [
      "El puntaje F1 para la muestra 1 es 0.7\n",
      "El puntaje F1 para la muestra 2 es 0.69\n",
      "El puntaje F1 para la muestra 3 es 0.7\n"
     ]
    }
   ],
   "source": [
    "for i, n in enumerate(m1_cv):\n",
    "    print(\"El puntaje F1 para la muestra {0} es {1}\".format(i+1, round(n, 2)))"
   ]
  },
  {
   "cell_type": "code",
   "execution_count": 36,
   "metadata": {},
   "outputs": [
    {
     "name": "stdout",
     "output_type": "stream",
     "text": [
      "El puntaje F1 promedio para el modelo es de:  0.7\n",
      "La desviación estandar F1 promedio para el modelo es de:  0.01\n"
     ]
    }
   ],
   "source": [
    "print(\"El puntaje F1 promedio para el modelo es de: \", round(np.mean(m1_cv), 2))\n",
    "print(\"La desviación estandar F1 promedio para el modelo es de: \", round(np.std(m1_cv),2))"
   ]
  },
  {
   "cell_type": "markdown",
   "metadata": {},
   "source": [
    "INTERPRETACION\n",
    "\n",
    "Cuando promediamos los puntajes, la evaluación del modelo se mantiene relativamente estable\n",
    "alrededor de un 70% con una desviación estandar baja. En comparación a nuestro F1 original del\n",
    "modelo sin validación cruzada, observamos un incremento de 8% aproximadamente."
   ]
  },
  {
   "cell_type": "markdown",
   "metadata": {},
   "source": [
    "### Leave-one-out Crossvalidation (deja-una-afuera)"
   ]
  },
  {
   "cell_type": "code",
   "execution_count": 37,
   "metadata": {},
   "outputs": [],
   "source": [
    "#%%time\n",
    "from sklearn.model_selection import LeaveOneOut\n",
    "m1_loocv = cross_val_score( LogisticRegression(),\n",
    "                            df.loc[:, 'dist100': 'assoc'],\n",
    "                            df.loc[:,'y'],\n",
    "                            cv=LeaveOneOut(), # acá asignamos la clase LeaveOneOut()\n",
    "                            scoring='accuracy')"
   ]
  },
  {
   "cell_type": "code",
   "execution_count": 38,
   "metadata": {},
   "outputs": [
    {
     "data": {
      "text/plain": [
       "array([1., 0., 0., 1., 1., 1., 1., 1., 1., 1., 1., 1., 1., 1., 0., 1., 1.,\n",
       "       1., 1., 1.])"
      ]
     },
     "execution_count": 38,
     "metadata": {},
     "output_type": "execute_result"
    }
   ],
   "source": [
    "# pidamos las primeras 20 observaciones del array\n",
    "m1_loocv[:20]"
   ]
  },
  {
   "cell_type": "code",
   "execution_count": 39,
   "metadata": {},
   "outputs": [
    {
     "name": "stdout",
     "output_type": "stream",
     "text": [
      "El puntaje de accuracy promedio para el modelo es de:  0.61\n",
      "La desviación estandar de accuracy promedio para el modelo es de:  0.49\n"
     ]
    }
   ],
   "source": [
    "print(\"El puntaje de accuracy promedio para el modelo es de: \", round(np.mean(m1_loocv), 2))\n",
    "print(\"La desviación estandar de accuracy promedio para el modelo es de: \", round(np.std(m1_loocv),2))"
   ]
  },
  {
   "cell_type": "markdown",
   "metadata": {},
   "source": [
    "INTERPRETACION \n",
    "\n",
    "Si comparamos la accuracy promedio estimada con loo __(.61)__ en comparación a la estimada con\n",
    "nuestra estimación original __(.63)__, observamos que disminuyó en 2 puntos aproximadamente. Esto\n",
    "indica cierta inestabilidad de la métrica, punto que ve apoyado por la alta varianza presentada (con\n",
    "una desviación estandar de __.49__)."
   ]
  },
  {
   "cell_type": "markdown",
   "metadata": {},
   "source": [
    "### ¿Y qué es mejor?"
   ]
  },
  {
   "cell_type": "code",
   "execution_count": 41,
   "metadata": {},
   "outputs": [
    {
     "data": {
      "image/png": "[encoded data removed]",
      "text/plain": [
       "<Figure size 432x288 with 4 Axes>"
      ]
     },
     "metadata": {
      "needs_background": "light"
     },
     "output_type": "display_data"
    }
   ],
   "source": [
    "# definimos los criterios en un array\n",
    "k_fold = [3, 5, 10, 20]\n",
    "\n",
    "# generamos un gráfico vacío que contenga los gráficos\n",
    "fig, ax = plt.subplots(1, len(k_fold), sharey='row')\n",
    "\n",
    "# por cada elemento y su posición en el array\n",
    "for n, i in enumerate(k_fold):\n",
    "    # estimar la validación cruzada con el elemento\n",
    "    tmp = cross_val_score(LogisticRegression(),\n",
    "                          df.loc[:, 'dist100':'assoc'],\n",
    "                          df.loc[:,'y'], \n",
    "                          cv = i, \n",
    "                          scoring = 'f1')\n",
    "    # guardar el gráfico en la posición declarada\n",
    "    ax[n].boxplot(tmp)\n",
    "    ax[n].set_title('k={0}'.format(i))"
   ]
  },
  {
   "cell_type": "markdown",
   "metadata": {},
   "source": [
    "INTERPRETACION\n",
    "\n",
    "En el gráfico creado se visualiza que el riesgo de utilizar un número alto de segmentaciones __(k=20)__\n",
    "implica aumentar la variablidad de nuestra métrica de desempeño y __levanta dudas__ sobre la utilidad\n",
    "del modelo para desarrollar nuevas predicciones.\n",
    "Cuando el número de validaciones es bajo __(k=3)__, el riesgo es en considerar que la métrica\n",
    "promediada es la óptima. Disminuímos la variabilidad de la predicción a expensas de aumentar el\n",
    "sesgo y obtener un parámetro que dista del óptimo empírico.\n",
    "Las situaciones graficadas con __k=5__ y __k=10__ se consideran como norma en la cantidad de\n",
    "validaciones a generar. Investigaciones sugieren que se generan resultados similares entre una\n",
    "validación con __k=10__ y una validación __Leave-one-out__."
   ]
  },
  {
   "cell_type": "markdown",
   "metadata": {},
   "source": [
    "### Refactorizando nuestro modelo"
   ]
  },
  {
   "cell_type": "code",
   "execution_count": null,
   "metadata": {},
   "outputs": [],
   "source": []
  }
 ],
 "metadata": {
  "kernelspec": {
   "display_name": "Python 3",
   "language": "python",
   "name": "python3"
  },
  "language_info": {
   "codemirror_mode": {
    "name": "ipython",
    "version": 3
   },
   "file_extension": ".py",
   "mimetype": "text/x-python",
   "name": "python",
   "nbconvert_exporter": "python",
   "pygments_lexer": "ipython3",
   "version": "3.7.3"
  }
 },
 "nbformat": 4,
 "nbformat_minor": 2
}
