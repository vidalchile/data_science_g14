{
 "cells": [
  {
   "cell_type": "markdown",
   "metadata": {},
   "source": [
    "## Desafío - Clasificación desde la econometría\n",
    "## Jose Gomez\n",
    "## Dia de clase: Lunes 08-05-2020"
   ]
  },
  {
   "cell_type": "markdown",
   "metadata": {},
   "source": [
    "### Descripción\n",
    "En esta sesión trabajaremos con:\n",
    "- sbp : Presión Sanguínea Sistólica.\n",
    "- tobacco : Promedio tabaco consumido por día.\n",
    "- ldl : Lipoproteína de baja densidad.\n",
    "- adiposity : Adiposidad.\n",
    "- famhist : Antecedentes familiares de enfermedades cardiácas. (Binaria)\n",
    "- types : Personalidad tipo A\n",
    "- obesity : Obesidad.\n",
    "- alcohol : Consumo actual de alcohol.\n",
    "- age : edad.\n",
    "- chd : Enfermedad coronaria. (dummy)\n",
    "\n",
    "### Desafío 1: Preparar el ambiente de trabajo"
   ]
  },
  {
   "cell_type": "code",
   "execution_count": 1,
   "metadata": {},
   "outputs": [],
   "source": [
    "import pandas as pd\n",
    "import numpy as np\n",
    "import matplotlib.pyplot as plt\n",
    "import seaborn as sns\n",
    "\n",
    "import statsmodels.api as sm\n",
    "import statsmodels.formula.api as smf\n",
    "\n",
    "import warnings\n",
    "warnings.filterwarnings('ignore')"
   ]
  },
  {
   "cell_type": "code",
   "execution_count": 5,
   "metadata": {},
   "outputs": [],
   "source": [
    "df = pd.read_csv('southafricanheart.csv').drop(columns=['Unnamed: 0'])"
   ]
  },
  {
   "cell_type": "code",
   "execution_count": 6,
   "metadata": {},
   "outputs": [
    {
     "data": {
      "text/html": [
       "<div>\n",
       "<style scoped>\n",
       "    .dataframe tbody tr th:only-of-type {\n",
       "        vertical-align: middle;\n",
       "    }\n",
       "\n",
       "    .dataframe tbody tr th {\n",
       "        vertical-align: top;\n",
       "    }\n",
       "\n",
       "    .dataframe thead th {\n",
       "        text-align: right;\n",
       "    }\n",
       "</style>\n",
       "<table border=\"1\" class=\"dataframe\">\n",
       "  <thead>\n",
       "    <tr style=\"text-align: right;\">\n",
       "      <th></th>\n",
       "      <th>sbp</th>\n",
       "      <th>tobacco</th>\n",
       "      <th>ldl</th>\n",
       "      <th>adiposity</th>\n",
       "      <th>famhist</th>\n",
       "      <th>typea</th>\n",
       "      <th>obesity</th>\n",
       "      <th>alcohol</th>\n",
       "      <th>age</th>\n",
       "      <th>chd</th>\n",
       "    </tr>\n",
       "  </thead>\n",
       "  <tbody>\n",
       "    <tr>\n",
       "      <th>0</th>\n",
       "      <td>160</td>\n",
       "      <td>12.00</td>\n",
       "      <td>5.73</td>\n",
       "      <td>23.11</td>\n",
       "      <td>Present</td>\n",
       "      <td>49</td>\n",
       "      <td>25.30</td>\n",
       "      <td>97.20</td>\n",
       "      <td>52</td>\n",
       "      <td>1</td>\n",
       "    </tr>\n",
       "    <tr>\n",
       "      <th>1</th>\n",
       "      <td>144</td>\n",
       "      <td>0.01</td>\n",
       "      <td>4.41</td>\n",
       "      <td>28.61</td>\n",
       "      <td>Absent</td>\n",
       "      <td>55</td>\n",
       "      <td>28.87</td>\n",
       "      <td>2.06</td>\n",
       "      <td>63</td>\n",
       "      <td>1</td>\n",
       "    </tr>\n",
       "    <tr>\n",
       "      <th>2</th>\n",
       "      <td>118</td>\n",
       "      <td>0.08</td>\n",
       "      <td>3.48</td>\n",
       "      <td>32.28</td>\n",
       "      <td>Present</td>\n",
       "      <td>52</td>\n",
       "      <td>29.14</td>\n",
       "      <td>3.81</td>\n",
       "      <td>46</td>\n",
       "      <td>0</td>\n",
       "    </tr>\n",
       "    <tr>\n",
       "      <th>3</th>\n",
       "      <td>170</td>\n",
       "      <td>7.50</td>\n",
       "      <td>6.41</td>\n",
       "      <td>38.03</td>\n",
       "      <td>Present</td>\n",
       "      <td>51</td>\n",
       "      <td>31.99</td>\n",
       "      <td>24.26</td>\n",
       "      <td>58</td>\n",
       "      <td>1</td>\n",
       "    </tr>\n",
       "    <tr>\n",
       "      <th>4</th>\n",
       "      <td>134</td>\n",
       "      <td>13.60</td>\n",
       "      <td>3.50</td>\n",
       "      <td>27.78</td>\n",
       "      <td>Present</td>\n",
       "      <td>60</td>\n",
       "      <td>25.99</td>\n",
       "      <td>57.34</td>\n",
       "      <td>49</td>\n",
       "      <td>1</td>\n",
       "    </tr>\n",
       "  </tbody>\n",
       "</table>\n",
       "</div>"
      ],
      "text/plain": [
       "   sbp  tobacco   ldl  adiposity  famhist  typea  obesity  alcohol  age  chd\n",
       "0  160    12.00  5.73      23.11  Present     49    25.30    97.20   52    1\n",
       "1  144     0.01  4.41      28.61   Absent     55    28.87     2.06   63    1\n",
       "2  118     0.08  3.48      32.28  Present     52    29.14     3.81   46    0\n",
       "3  170     7.50  6.41      38.03  Present     51    31.99    24.26   58    1\n",
       "4  134    13.60  3.50      27.78  Present     60    25.99    57.34   49    1"
      ]
     },
     "execution_count": 6,
     "metadata": {},
     "output_type": "execute_result"
    }
   ],
   "source": [
    "df.head()"
   ]
  },
  {
   "cell_type": "code",
   "execution_count": 7,
   "metadata": {},
   "outputs": [
    {
     "data": {
      "text/plain": [
       "Absent     270\n",
       "Present    192\n",
       "Name: famhist, dtype: int64"
      ]
     },
     "execution_count": 7,
     "metadata": {},
     "output_type": "execute_result"
    }
   ],
   "source": [
    "df.famhist.value_counts()"
   ]
  },
  {
   "cell_type": "markdown",
   "metadata": {},
   "source": [
    "### Desafío 2\n",
    "1. Recodifique famhist a dummy, asignando 1 a la categoría minoritaria\n",
    "2. Utilice smf.logit para estimar el modelo.\n",
    "3. Implemente una función inverse_logit que realize el mapeo de log-odds a probabilidad.\n",
    "4. Con el modelo estimado, responda lo siguiente:\n",
    "> - ¿Cuál es la probabilidad de un individuo con antecedentes familiares de tener una enfermedad coronaria?\n",
    " - ¿Cuál es la probabilidad de un individuo sin antecedentes familiares de tener una enfermedad coronaria?\n",
    " - ¿Cuál es la diferencia en la probabilidad entre un individuo con antecedentes y otro sin antecedentes?\n",
    " - Replique el modelo con smf.ols y comente las similitudes entre los coeficientes estimados.\n",
    "<br>tip: Utilice B/4\n",
    " - Estime el mismo modelo con LPM"
   ]
  },
  {
   "cell_type": "code",
   "execution_count": 10,
   "metadata": {},
   "outputs": [],
   "source": [
    "# 2.1\n",
    "df['dum_famhist'] = np.where(df['famhist'] == 'Present', 1, 0)"
   ]
  },
  {
   "cell_type": "code",
   "execution_count": 17,
   "metadata": {},
   "outputs": [],
   "source": [
    "#df['asdasd'] = df.famhist.replace(['Present', 'Absent'], [1,0])"
   ]
  },
  {
   "cell_type": "code",
   "execution_count": 15,
   "metadata": {},
   "outputs": [],
   "source": [
    "df2 = df.copy()\n",
    "df2.drop('famhist', axis=1, inplace=True)"
   ]
  },
  {
   "cell_type": "code",
   "execution_count": 21,
   "metadata": {},
   "outputs": [
    {
     "name": "stdout",
     "output_type": "stream",
     "text": [
      "Optimization terminated successfully.\n",
      "         Current function value: 0.608111\n",
      "         Iterations 5\n"
     ]
    }
   ],
   "source": [
    "# 2.2\n",
    "m1_logit = smf.logit('chd ~ dum_famhist', data=df2).fit()"
   ]
  },
  {
   "cell_type": "code",
   "execution_count": 16,
   "metadata": {},
   "outputs": [],
   "source": [
    "# 2.3\n",
    "def invlogit(x):\n",
    "    return 1 / (1+np.exp(-x))"
   ]
  },
  {
   "cell_type": "code",
   "execution_count": 26,
   "metadata": {},
   "outputs": [],
   "source": [
    "# 2.4 \n",
    "famhist_1 = invlogit(m1_logit.params['Intercept'] + (m1_logit.params['dum_famhist'] * 1)) \n",
    "famhist_0 = invlogit(m1_logit.params['Intercept'] + (m1_logit.params['dum_famhist'] * 0)) \n"
   ]
  },
  {
   "cell_type": "code",
   "execution_count": 27,
   "metadata": {},
   "outputs": [
    {
     "name": "stdout",
     "output_type": "stream",
     "text": [
      "probb con antecedentes : 0.5\n",
      "probb sin antecedentes : 0.24\n"
     ]
    }
   ],
   "source": [
    "print(\"probb con antecedentes : {}\".format(round(famhist_1,2)))\n",
    "print(\"probb sin antecedentes : {}\".format(round(famhist_0,2)))\n"
   ]
  },
  {
   "cell_type": "code",
   "execution_count": 29,
   "metadata": {},
   "outputs": [
    {
     "name": "stdout",
     "output_type": "stream",
     "text": [
      "La diferencia en la probabilidad entre un individuo con antecedentes y otro sin antecedentes es: 0.26\n"
     ]
    }
   ],
   "source": [
    "print(\"La diferencia en la probabilidad entre un individuo con antecedentes y otro sin antecedentes es: {}\".format(round(famhist_1-famhist_0,2)))"
   ]
  },
  {
   "cell_type": "markdown",
   "metadata": {},
   "source": [
    "#### Replique el modelo con smf.ols y comente las similitudes entre los coeficientes estimados."
   ]
  },
  {
   "cell_type": "code",
   "execution_count": 30,
   "metadata": {},
   "outputs": [],
   "source": [
    "m1_ols = smf.ols('chd ~ dum_famhist', data=df2).fit()"
   ]
  },
  {
   "cell_type": "code",
   "execution_count": 35,
   "metadata": {},
   "outputs": [],
   "source": [
    " \n",
    "def concise_summary(mod, print_fit=True):\n",
    "    #guardamos los parámetros asociados a estadísticas de ajuste \n",
    "    fit = pd.DataFrame({'Statistics': mod.summary2().tables[0][2][2:],\n",
    "                        'Value': mod.summary2().tables[0][3][2:]})\n",
    "    # guardamos los parámetros estimados por cada regresor.\n",
    "    estimates = pd.DataFrame(mod.summary2().tables[1].loc[:, 'Coef.': 'Std.Err.']) # imprimir fit es opcional\n",
    "    if print_fit is True:\n",
    "        print(\"\\nGoodness of Fit statistics\\n\", fit) \n",
    "    print(\"\\nPoint Estimates\\n\\n\", estimates)"
   ]
  },
  {
   "cell_type": "code",
   "execution_count": 43,
   "metadata": {},
   "outputs": [
    {
     "name": "stdout",
     "output_type": "stream",
     "text": [
      "\n",
      "## OLS ##\n",
      "\n",
      "Goodness of Fit statistics\n",
      "             Statistics     Value\n",
      "2                 BIC:  601.4437\n",
      "3      Log-Likelihood:   -294.59\n",
      "4         F-statistic:     36.86\n",
      "5  Prob (F-statistic):  2.66e-09\n",
      "6               Scale:   0.21050\n",
      "\n",
      "Point Estimates\n",
      "\n",
      "                 Coef.  Std.Err.\n",
      "Intercept    0.237037  0.027922\n",
      "dum_famhist  0.262963  0.043313\n",
      "########################################\n",
      "\n",
      "## Logit ##\n",
      "\n",
      "Goodness of Fit statistics\n",
      "         Statistics       Value\n",
      "2             BIC:    574.1655\n",
      "3  Log-Likelihood:     -280.95\n",
      "4         LL-Null:     -298.05\n",
      "5     LLR p-value:  4.9371e-09\n",
      "6           Scale:      1.0000\n",
      "7                             \n",
      "\n",
      "Point Estimates\n",
      "\n",
      "                 Coef.  Std.Err.\n",
      "Intercept   -1.168993  0.143106\n",
      "dum_famhist  1.168993  0.203255\n"
     ]
    }
   ],
   "source": [
    "print(\"\\n## OLS ##\")\n",
    "concise_summary(m1_ols, print_fit=True) \n",
    "print('#'*40)\n",
    "print(\"\\n## Logit ##\")\n",
    "concise_summary(m1_logit, print_fit=True)"
   ]
  },
  {
   "cell_type": "code",
   "execution_count": 54,
   "metadata": {},
   "outputs": [
    {
     "data": {
      "text/plain": [
       "0.29"
      ]
     },
     "execution_count": 54,
     "metadata": {},
     "output_type": "execute_result"
    }
   ],
   "source": [
    "1.16/4  # \"Casi\" el coeficiente con OLS"
   ]
  },
  {
   "cell_type": "code",
   "execution_count": 45,
   "metadata": {},
   "outputs": [
    {
     "data": {
      "text/plain": [
       "0.7629629475129226"
      ]
     },
     "execution_count": 45,
     "metadata": {},
     "output_type": "execute_result"
    }
   ],
   "source": [
    "# logit\n",
    "invlogit(1.168993)"
   ]
  },
  {
   "cell_type": "code",
   "execution_count": 46,
   "metadata": {},
   "outputs": [
    {
     "data": {
      "text/plain": [
       "0.5653645228311851"
      ]
     },
     "execution_count": 46,
     "metadata": {},
     "output_type": "execute_result"
    }
   ],
   "source": [
    "# ols\n",
    "invlogit(0.262963)"
   ]
  },
  {
   "cell_type": "markdown",
   "metadata": {},
   "source": [
    "<div class=\"alert alert-block alert-warning\">\n",
    "<b>Comentario:</b> \n",
    "    Los coeficientes usando OLS son mayores que usando LOGIT, sin embargo, se muestra una mayor probabilidad de LOGIT\n",
    "</div><br>"
   ]
  },
  {
   "cell_type": "markdown",
   "metadata": {},
   "source": [
    "## Desafío 3: Estimación completa"
   ]
  },
  {
   "cell_type": "code",
   "execution_count": 51,
   "metadata": {},
   "outputs": [
    {
     "name": "stdout",
     "output_type": "stream",
     "text": [
      "Optimization terminated successfully.\n",
      "         Current function value: 0.510974\n",
      "         Iterations 6\n"
     ]
    }
   ],
   "source": [
    "m2_logit = smf.logit('chd~sbp+tobacco+ldl+adiposity+typea+obesity+alcohol+age+dum_famhist', data=df2).fit()"
   ]
  },
  {
   "cell_type": "code",
   "execution_count": 52,
   "metadata": {},
   "outputs": [
    {
     "name": "stdout",
     "output_type": "stream",
     "text": [
      "\n",
      "Goodness of Fit statistics\n",
      "         Statistics       Value\n",
      "2             BIC:    533.4957\n",
      "3  Log-Likelihood:     -236.07\n",
      "4         LL-Null:     -298.05\n",
      "5     LLR p-value:  2.0548e-22\n",
      "6           Scale:      1.0000\n",
      "7                             \n",
      "\n",
      "Point Estimates\n",
      "\n",
      "                 Coef.  Std.Err.\n",
      "Intercept   -6.150721  1.308260\n",
      "sbp          0.006504  0.005730\n",
      "tobacco      0.079376  0.026603\n",
      "ldl          0.173924  0.059662\n",
      "adiposity    0.018587  0.029289\n",
      "typea        0.039595  0.012320\n",
      "obesity     -0.062910  0.044248\n",
      "alcohol      0.000122  0.004483\n",
      "age          0.045225  0.012130\n",
      "dum_famhist  0.925370  0.227894\n"
     ]
    }
   ],
   "source": [
    "concise_summary(m2_logit, print_fit=True)"
   ]
  },
  {
   "cell_type": "markdown",
   "metadata": {},
   "source": [
    "- Depure el modelo manteniendo las variables con significancia estadística al 95%.\n",
    "- Compare los estadísticos de bondad de ajuste entre ambos."
   ]
  },
  {
   "cell_type": "code",
   "execution_count": 58,
   "metadata": {},
   "outputs": [
    {
     "data": {
      "text/html": [
       "<table class=\"simpletable\">\n",
       "<caption>Logit Regression Results</caption>\n",
       "<tr>\n",
       "  <th>Dep. Variable:</th>          <td>chd</td>       <th>  No. Observations:  </th>  <td>   462</td>  \n",
       "</tr>\n",
       "<tr>\n",
       "  <th>Model:</th>                 <td>Logit</td>      <th>  Df Residuals:      </th>  <td>   452</td>  \n",
       "</tr>\n",
       "<tr>\n",
       "  <th>Method:</th>                 <td>MLE</td>       <th>  Df Model:          </th>  <td>     9</td>  \n",
       "</tr>\n",
       "<tr>\n",
       "  <th>Date:</th>            <td>Mon, 08 Jun 2020</td> <th>  Pseudo R-squ.:     </th>  <td>0.2080</td>  \n",
       "</tr>\n",
       "<tr>\n",
       "  <th>Time:</th>                <td>21:18:40</td>     <th>  Log-Likelihood:    </th> <td> -236.07</td> \n",
       "</tr>\n",
       "<tr>\n",
       "  <th>converged:</th>             <td>True</td>       <th>  LL-Null:           </th> <td> -298.05</td> \n",
       "</tr>\n",
       "<tr>\n",
       "  <th>Covariance Type:</th>     <td>nonrobust</td>    <th>  LLR p-value:       </th> <td>2.055e-22</td>\n",
       "</tr>\n",
       "</table>\n",
       "<table class=\"simpletable\">\n",
       "<tr>\n",
       "       <td></td>          <th>coef</th>     <th>std err</th>      <th>z</th>      <th>P>|z|</th>  <th>[0.025</th>    <th>0.975]</th>  \n",
       "</tr>\n",
       "<tr>\n",
       "  <th>Intercept</th>   <td>   -6.1507</td> <td>    1.308</td> <td>   -4.701</td> <td> 0.000</td> <td>   -8.715</td> <td>   -3.587</td>\n",
       "</tr>\n",
       "<tr>\n",
       "  <th>sbp</th>         <td>    0.0065</td> <td>    0.006</td> <td>    1.135</td> <td> 0.256</td> <td>   -0.005</td> <td>    0.018</td>\n",
       "</tr>\n",
       "<tr>\n",
       "  <th>tobacco</th>     <td>    0.0794</td> <td>    0.027</td> <td>    2.984</td> <td> 0.003</td> <td>    0.027</td> <td>    0.132</td>\n",
       "</tr>\n",
       "<tr>\n",
       "  <th>ldl</th>         <td>    0.1739</td> <td>    0.060</td> <td>    2.915</td> <td> 0.004</td> <td>    0.057</td> <td>    0.291</td>\n",
       "</tr>\n",
       "<tr>\n",
       "  <th>adiposity</th>   <td>    0.0186</td> <td>    0.029</td> <td>    0.635</td> <td> 0.526</td> <td>   -0.039</td> <td>    0.076</td>\n",
       "</tr>\n",
       "<tr>\n",
       "  <th>typea</th>       <td>    0.0396</td> <td>    0.012</td> <td>    3.214</td> <td> 0.001</td> <td>    0.015</td> <td>    0.064</td>\n",
       "</tr>\n",
       "<tr>\n",
       "  <th>obesity</th>     <td>   -0.0629</td> <td>    0.044</td> <td>   -1.422</td> <td> 0.155</td> <td>   -0.150</td> <td>    0.024</td>\n",
       "</tr>\n",
       "<tr>\n",
       "  <th>alcohol</th>     <td>    0.0001</td> <td>    0.004</td> <td>    0.027</td> <td> 0.978</td> <td>   -0.009</td> <td>    0.009</td>\n",
       "</tr>\n",
       "<tr>\n",
       "  <th>age</th>         <td>    0.0452</td> <td>    0.012</td> <td>    3.728</td> <td> 0.000</td> <td>    0.021</td> <td>    0.069</td>\n",
       "</tr>\n",
       "<tr>\n",
       "  <th>dum_famhist</th> <td>    0.9254</td> <td>    0.228</td> <td>    4.061</td> <td> 0.000</td> <td>    0.479</td> <td>    1.372</td>\n",
       "</tr>\n",
       "</table>"
      ],
      "text/plain": [
       "<class 'statsmodels.iolib.summary.Summary'>\n",
       "\"\"\"\n",
       "                           Logit Regression Results                           \n",
       "==============================================================================\n",
       "Dep. Variable:                    chd   No. Observations:                  462\n",
       "Model:                          Logit   Df Residuals:                      452\n",
       "Method:                           MLE   Df Model:                            9\n",
       "Date:                Mon, 08 Jun 2020   Pseudo R-squ.:                  0.2080\n",
       "Time:                        21:18:40   Log-Likelihood:                -236.07\n",
       "converged:                       True   LL-Null:                       -298.05\n",
       "Covariance Type:            nonrobust   LLR p-value:                 2.055e-22\n",
       "===============================================================================\n",
       "                  coef    std err          z      P>|z|      [0.025      0.975]\n",
       "-------------------------------------------------------------------------------\n",
       "Intercept      -6.1507      1.308     -4.701      0.000      -8.715      -3.587\n",
       "sbp             0.0065      0.006      1.135      0.256      -0.005       0.018\n",
       "tobacco         0.0794      0.027      2.984      0.003       0.027       0.132\n",
       "ldl             0.1739      0.060      2.915      0.004       0.057       0.291\n",
       "adiposity       0.0186      0.029      0.635      0.526      -0.039       0.076\n",
       "typea           0.0396      0.012      3.214      0.001       0.015       0.064\n",
       "obesity        -0.0629      0.044     -1.422      0.155      -0.150       0.024\n",
       "alcohol         0.0001      0.004      0.027      0.978      -0.009       0.009\n",
       "age             0.0452      0.012      3.728      0.000       0.021       0.069\n",
       "dum_famhist     0.9254      0.228      4.061      0.000       0.479       1.372\n",
       "===============================================================================\n",
       "\"\"\""
      ]
     },
     "execution_count": 58,
     "metadata": {},
     "output_type": "execute_result"
    }
   ],
   "source": [
    "m2_logit.summary()"
   ]
  },
  {
   "cell_type": "markdown",
   "metadata": {},
   "source": [
    "<div class=\"alert alert-block alert-warning\">\n",
    "<b>Comentario:</b> \n",
    "<br>Observando los P>|z|, las variables con significancia estadística al 95% serian tobacco, ldl, typea, age y dum_famhist.\n",
    "</div><br>"
   ]
  },
  {
   "cell_type": "code",
   "execution_count": 57,
   "metadata": {},
   "outputs": [
    {
     "name": "stdout",
     "output_type": "stream",
     "text": [
      "Optimization terminated successfully.\n",
      "         Current function value: 0.514811\n",
      "         Iterations 6\n"
     ]
    }
   ],
   "source": [
    "m3_logit = smf.logit('chd~tobacco+ldl+typea+age+dum_famhist', data=df2).fit()"
   ]
  },
  {
   "cell_type": "code",
   "execution_count": 61,
   "metadata": {},
   "outputs": [
    {
     "name": "stdout",
     "output_type": "stream",
     "text": [
      "\n",
      "Goodness of Fit statistics\n",
      "         Statistics       Value\n",
      "2             BIC:    512.4990\n",
      "3  Log-Likelihood:     -237.84\n",
      "4         LL-Null:     -298.05\n",
      "5     LLR p-value:  2.5537e-24\n",
      "6           Scale:      1.0000\n",
      "7                             \n",
      "\n",
      "Point Estimates\n",
      "\n",
      "                 Coef.  Std.Err.\n",
      "Intercept   -6.446445  0.920872\n",
      "tobacco      0.080375  0.025880\n",
      "ldl          0.161992  0.054969\n",
      "typea        0.037115  0.012167\n",
      "age          0.050460  0.010206\n",
      "dum_famhist  0.908175  0.225758\n"
     ]
    }
   ],
   "source": [
    "concise_summary(m3_logit, print_fit=True)"
   ]
  },
  {
   "cell_type": "code",
   "execution_count": 62,
   "metadata": {},
   "outputs": [
    {
     "name": "stdout",
     "output_type": "stream",
     "text": [
      "\n",
      "Goodness of Fit statistics\n",
      "         Statistics       Value\n",
      "2             BIC:    533.4957\n",
      "3  Log-Likelihood:     -236.07\n",
      "4         LL-Null:     -298.05\n",
      "5     LLR p-value:  2.0548e-22\n",
      "6           Scale:      1.0000\n",
      "7                             \n",
      "\n",
      "Point Estimates\n",
      "\n",
      "                 Coef.  Std.Err.\n",
      "Intercept   -6.150721  1.308260\n",
      "sbp          0.006504  0.005730\n",
      "tobacco      0.079376  0.026603\n",
      "ldl          0.173924  0.059662\n",
      "adiposity    0.018587  0.029289\n",
      "typea        0.039595  0.012320\n",
      "obesity     -0.062910  0.044248\n",
      "alcohol      0.000122  0.004483\n",
      "age          0.045225  0.012130\n",
      "dum_famhist  0.925370  0.227894\n"
     ]
    }
   ],
   "source": [
    "concise_summary(m2_logit, print_fit=True)"
   ]
  },
  {
   "cell_type": "markdown",
   "metadata": {},
   "source": [
    "- Reporte de forma sucinta el efecto de las variables en el log-odds de tener una enfermedad coronaria."
   ]
  },
  {
   "cell_type": "code",
   "execution_count": 74,
   "metadata": {},
   "outputs": [],
   "source": [
    "probb_coronaria = invlogit(m3_logit.params['Intercept'] + \n",
    "                     (m3_logit.params['dum_famhist']* df2['dum_famhist'].mean()) + \n",
    "                     (m3_logit.params['age']* df2['age'].mean()) + \n",
    "                     (m3_logit.params['typea']* df2['typea'].mean()) + \n",
    "                     (m3_logit.params['ldl']* df2['ldl'].mean()) + \n",
    "                     (m3_logit.params['tobacco']* df2['tobacco'].mean()))"
   ]
  },
  {
   "cell_type": "code",
   "execution_count": 75,
   "metadata": {},
   "outputs": [],
   "source": [
    "probb_coronaria2 = invlogit(m2_logit.params['Intercept'] + \n",
    "                     (m2_logit.params['dum_famhist']* df2['dum_famhist'].mean()) + \n",
    "                     (m2_logit.params['age']* df2['age'].mean()) + \n",
    "                     (m2_logit.params['typea']* df2['typea'].mean()) + \n",
    "                     (m2_logit.params['ldl']* df2['ldl'].mean()) + \n",
    "                     (m2_logit.params['tobacco']* df2['tobacco'].mean()) +\n",
    "                     (m2_logit.params['alcohol']* df2['alcohol'].mean()) + \n",
    "                     (m2_logit.params['obesity']* df2['obesity'].mean()) + \n",
    "                     (m2_logit.params['adiposity']* df2['adiposity'].mean()) + \n",
    "                     (m2_logit.params['sbp']* df2['sbp'].mean())\n",
    "                    )"
   ]
  },
  {
   "cell_type": "code",
   "execution_count": 78,
   "metadata": {},
   "outputs": [
    {
     "name": "stdout",
     "output_type": "stream",
     "text": [
      "Probb de tener una enfermedad coronaria segun modelo con las variables significativas: 0.29\n",
      "Probb de tener una enfermedad coronaria segun modelo con todas las variables: 0.29\n"
     ]
    }
   ],
   "source": [
    "print(\"Probb de tener una enfermedad coronaria segun modelo con las variables significativas: {}\\n\\\n",
    "Probb de tener una enfermedad coronaria segun modelo con todas las variables: {}\".format(round(probb_coronaria,2), round(probb_coronaria2,2))\n",
    "     )"
   ]
  },
  {
   "cell_type": "markdown",
   "metadata": {},
   "source": [
    "## Desafío 4: Estimación de perfiles"
   ]
  },
  {
   "cell_type": "code",
   "execution_count": 63,
   "metadata": {},
   "outputs": [],
   "source": [
    "probb = invlogit(m3_logit.params['Intercept'] + \n",
    "                     (m3_logit.params['dum_famhist']* df2['dum_famhist'].mean()) + \n",
    "                     (m3_logit.params['age']* df2['age'].mean()) + \n",
    "                     (m3_logit.params['typea']* df2['typea'].mean()) + \n",
    "                     (m3_logit.params['ldl']* df2['ldl'].mean()) + \n",
    "                     (m3_logit.params['tobacco']* df2['tobacco'].mean()))"
   ]
  },
  {
   "cell_type": "code",
   "execution_count": 66,
   "metadata": {},
   "outputs": [
    {
     "name": "stdout",
     "output_type": "stream",
     "text": [
      "La probabilidad de tener una enfermedad coronaria para un individuo con características similares a la muestra es:\n",
      " 0.29\n"
     ]
    }
   ],
   "source": [
    "print('La probabilidad de tener una enfermedad coronaria para un individuo con características similares a la muestra es:\\n {}'.format(round(probb, 2)))"
   ]
  },
  {
   "cell_type": "code",
   "execution_count": 67,
   "metadata": {},
   "outputs": [],
   "source": [
    "probb2 = invlogit(m3_logit.params['Intercept'] + \n",
    "                     (m3_logit.params['dum_famhist']* df2['dum_famhist'].mean()) + \n",
    "                     (m3_logit.params['age']* df2['age'].mean()) + \n",
    "                     (m3_logit.params['typea']* df2['typea'].mean()) + \n",
    "                     (m3_logit.params['ldl']* df2['ldl'].max()) + \n",
    "                     (m3_logit.params['tobacco']* df2['tobacco'].mean()))"
   ]
  },
  {
   "cell_type": "code",
   "execution_count": 69,
   "metadata": {},
   "outputs": [
    {
     "name": "stdout",
     "output_type": "stream",
     "text": [
      "La probabilidad de tener una enfemerdad coronaria para un individuo con altos niveles de lipoproteína de baja densidad, manteniendo todas las demás características constantes es: 0.7\n"
     ]
    }
   ],
   "source": [
    "print(\"La probabilidad de tener una enfemerdad coronaria para un individuo con altos niveles de lipoproteína de baja densidad, manteniendo todas las demás características constantes es: {}\".format(round(probb2,2)) )"
   ]
  },
  {
   "cell_type": "code",
   "execution_count": 70,
   "metadata": {},
   "outputs": [],
   "source": [
    "probb3 = invlogit(m3_logit.params['Intercept'] + \n",
    "                     (m3_logit.params['dum_famhist']* df2['dum_famhist'].mean()) + \n",
    "                     (m3_logit.params['age']* df2['age'].mean()) + \n",
    "                     (m3_logit.params['typea']* df2['typea'].mean()) + \n",
    "                     (m3_logit.params['ldl']* df2['ldl'].min()) + \n",
    "                     (m3_logit.params['tobacco']* df2['tobacco'].mean()))"
   ]
  },
  {
   "cell_type": "code",
   "execution_count": 71,
   "metadata": {},
   "outputs": [
    {
     "name": "stdout",
     "output_type": "stream",
     "text": [
      "La probabilidad de tener una enfemerdad coronaria para un individuo con bajos niveles de lipoproteína de baja densidad, manteniendo todas las demás características constantes es: 0.18\n"
     ]
    }
   ],
   "source": [
    "print(\"La probabilidad de tener una enfemerdad coronaria para un individuo con bajos niveles de lipoproteína de baja densidad, manteniendo todas las demás características constantes es: {}\".format(round(probb3, 2)))"
   ]
  },
  {
   "cell_type": "code",
   "execution_count": null,
   "metadata": {},
   "outputs": [],
   "source": []
  },
  {
   "cell_type": "code",
   "execution_count": null,
   "metadata": {},
   "outputs": [],
   "source": []
  }
 ],
 "metadata": {
  "kernelspec": {
   "display_name": "Python 3",
   "language": "python",
   "name": "python3"
  },
  "language_info": {
   "codemirror_mode": {
    "name": "ipython",
    "version": 3
   },
   "file_extension": ".py",
   "mimetype": "text/x-python",
   "name": "python",
   "nbconvert_exporter": "python",
   "pygments_lexer": "ipython3",
   "version": "3.7.3"
  }
 },
 "nbformat": 4,
 "nbformat_minor": 2
}
