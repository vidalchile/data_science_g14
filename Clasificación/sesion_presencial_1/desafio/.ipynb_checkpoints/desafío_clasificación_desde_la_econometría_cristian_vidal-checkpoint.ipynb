{
 "cells": [
  {
   "cell_type": "markdown",
   "metadata": {},
   "source": [
    "## Desafío - Clasificación desde la econometría\n",
    "### Cristian Vidal"
   ]
  },
  {
   "cell_type": "markdown",
   "metadata": {},
   "source": [
    "### Descripción\n",
    "En esta sesión trabajaremos con:\n",
    "* __sbp__ : Presión Sanguínea Sistólica.\n",
    "* __tobacco__ : Promedio tabaco consumido por día.\n",
    "* __ldl__ : Lipoproteína de baja densidad.\n",
    "* __adiposity__ : Adiposidad.\n",
    "* __famhist__ : Antecedentes familiares de enfermedades cardiácas. (Binaria)\n",
    "* __types__ : Personalidad tipo A\n",
    "* __obesity__ : Obesidad.\n",
    "* __alcohol__ : Consumo actual de alcohol.\n",
    "* __age__ : edad.\n",
    "* __chd__ : Enfermedad coronaria. (dummy)"
   ]
  },
  {
   "cell_type": "markdown",
   "metadata": {},
   "source": [
    "### Desafío 1: Preparar el ambiente de trabajo"
   ]
  },
  {
   "cell_type": "code",
   "execution_count": 1,
   "metadata": {},
   "outputs": [],
   "source": [
    "import pandas as pd\n",
    "import numpy as np\n",
    "import matplotlib.pyplot as plt\n",
    "import seaborn as sns\n",
    "import scipy.stats as stats\n",
    "import statsmodels.api as sm\n",
    "import statsmodels.formula.api as smf\n",
    "plt.style.use('seaborn')\n",
    "plt.rcParams['figure.figsize'] = (6,3)"
   ]
  },
  {
   "cell_type": "code",
   "execution_count": 2,
   "metadata": {},
   "outputs": [],
   "source": [
    "df = pd.read_csv('southafricanheart.csv')\n",
    "df = df.drop(\"Unnamed: 0\", axis =1)"
   ]
  },
  {
   "cell_type": "code",
   "execution_count": 3,
   "metadata": {},
   "outputs": [
    {
     "name": "stdout",
     "output_type": "stream",
     "text": [
      "La base de datos tiene  462 observaciones y  10  columnas\n",
      "Las variables de la base de datos son  Index(['sbp', 'tobacco', 'ldl', 'adiposity', 'famhist', 'typea', 'obesity',\n",
      "       'alcohol', 'age', 'chd'],\n",
      "      dtype='object')\n"
     ]
    }
   ],
   "source": [
    "print(\"La base de datos tiene \", df.shape[0], \"observaciones y \", df.shape[1], \" columnas\")\n",
    "print(\"Las variables de la base de datos son \", df.columns)"
   ]
  },
  {
   "cell_type": "code",
   "execution_count": 4,
   "metadata": {
    "scrolled": false
   },
   "outputs": [
    {
     "name": "stdout",
     "output_type": "stream",
     "text": [
      "count    462.00\n",
      "mean     138.33\n",
      "std       20.50\n",
      "min      101.00\n",
      "25%      124.00\n",
      "50%      134.00\n",
      "75%      148.00\n",
      "max      218.00\n",
      "Name: sbp, dtype: float64 \n",
      "\n",
      "count    462.00\n",
      "mean       3.64\n",
      "std        4.59\n",
      "min        0.00\n",
      "25%        0.05\n",
      "50%        2.00\n",
      "75%        5.50\n",
      "max       31.20\n",
      "Name: tobacco, dtype: float64 \n",
      "\n",
      "count    462.00\n",
      "mean       4.74\n",
      "std        2.07\n",
      "min        0.98\n",
      "25%        3.28\n",
      "50%        4.34\n",
      "75%        5.79\n",
      "max       15.33\n",
      "Name: ldl, dtype: float64 \n",
      "\n",
      "count    462.00\n",
      "mean      25.41\n",
      "std        7.78\n",
      "min        6.74\n",
      "25%       19.77\n",
      "50%       26.12\n",
      "75%       31.23\n",
      "max       42.49\n",
      "Name: adiposity, dtype: float64 \n",
      "\n",
      "Absent     0.58\n",
      "Present    0.42\n",
      "Name: famhist, dtype: float64 \n",
      "\n",
      "count    462.00\n",
      "mean      53.10\n",
      "std        9.82\n",
      "min       13.00\n",
      "25%       47.00\n",
      "50%       53.00\n",
      "75%       60.00\n",
      "max       78.00\n",
      "Name: typea, dtype: float64 \n",
      "\n",
      "count    462.00\n",
      "mean      26.04\n",
      "std        4.21\n",
      "min       14.70\n",
      "25%       22.98\n",
      "50%       25.80\n",
      "75%       28.50\n",
      "max       46.58\n",
      "Name: obesity, dtype: float64 \n",
      "\n",
      "count    462.00\n",
      "mean      17.04\n",
      "std       24.48\n",
      "min        0.00\n",
      "25%        0.51\n",
      "50%        7.51\n",
      "75%       23.89\n",
      "max      147.19\n",
      "Name: alcohol, dtype: float64 \n",
      "\n",
      "count    462.00\n",
      "mean      42.82\n",
      "std       14.61\n",
      "min       15.00\n",
      "25%       31.00\n",
      "50%       45.00\n",
      "75%       55.00\n",
      "max       64.00\n",
      "Name: age, dtype: float64 \n",
      "\n",
      "0    0.65\n",
      "1    0.35\n",
      "Name: chd, dtype: float64 \n",
      "\n"
     ]
    }
   ],
   "source": [
    "for i in df:\n",
    "    if len(df[i].value_counts()) > 2:\n",
    "        print(round(df[i].describe(),2), \"\\n\")\n",
    "    else:\n",
    "        print(round(df[i].value_counts('%'),2), \"\\n\")"
   ]
  },
  {
   "cell_type": "code",
   "execution_count": 5,
   "metadata": {},
   "outputs": [
    {
     "data": {
      "text/html": [
       "<div>\n",
       "<style scoped>\n",
       "    .dataframe tbody tr th:only-of-type {\n",
       "        vertical-align: middle;\n",
       "    }\n",
       "\n",
       "    .dataframe tbody tr th {\n",
       "        vertical-align: top;\n",
       "    }\n",
       "\n",
       "    .dataframe thead th {\n",
       "        text-align: right;\n",
       "    }\n",
       "</style>\n",
       "<table border=\"1\" class=\"dataframe\">\n",
       "  <thead>\n",
       "    <tr style=\"text-align: right;\">\n",
       "      <th></th>\n",
       "      <th>sbp</th>\n",
       "      <th>tobacco</th>\n",
       "      <th>ldl</th>\n",
       "      <th>adiposity</th>\n",
       "      <th>typea</th>\n",
       "      <th>obesity</th>\n",
       "      <th>alcohol</th>\n",
       "      <th>age</th>\n",
       "      <th>chd</th>\n",
       "    </tr>\n",
       "  </thead>\n",
       "  <tbody>\n",
       "    <tr>\n",
       "      <th>count</th>\n",
       "      <td>462.000000</td>\n",
       "      <td>462.000000</td>\n",
       "      <td>462.000000</td>\n",
       "      <td>462.000000</td>\n",
       "      <td>462.000000</td>\n",
       "      <td>462.000000</td>\n",
       "      <td>462.000000</td>\n",
       "      <td>462.000000</td>\n",
       "      <td>462.000000</td>\n",
       "    </tr>\n",
       "    <tr>\n",
       "      <th>mean</th>\n",
       "      <td>138.326840</td>\n",
       "      <td>3.635649</td>\n",
       "      <td>4.740325</td>\n",
       "      <td>25.406732</td>\n",
       "      <td>53.103896</td>\n",
       "      <td>26.044113</td>\n",
       "      <td>17.044394</td>\n",
       "      <td>42.816017</td>\n",
       "      <td>0.346320</td>\n",
       "    </tr>\n",
       "    <tr>\n",
       "      <th>std</th>\n",
       "      <td>20.496317</td>\n",
       "      <td>4.593024</td>\n",
       "      <td>2.070909</td>\n",
       "      <td>7.780699</td>\n",
       "      <td>9.817534</td>\n",
       "      <td>4.213680</td>\n",
       "      <td>24.481059</td>\n",
       "      <td>14.608956</td>\n",
       "      <td>0.476313</td>\n",
       "    </tr>\n",
       "    <tr>\n",
       "      <th>min</th>\n",
       "      <td>101.000000</td>\n",
       "      <td>0.000000</td>\n",
       "      <td>0.980000</td>\n",
       "      <td>6.740000</td>\n",
       "      <td>13.000000</td>\n",
       "      <td>14.700000</td>\n",
       "      <td>0.000000</td>\n",
       "      <td>15.000000</td>\n",
       "      <td>0.000000</td>\n",
       "    </tr>\n",
       "    <tr>\n",
       "      <th>25%</th>\n",
       "      <td>124.000000</td>\n",
       "      <td>0.052500</td>\n",
       "      <td>3.282500</td>\n",
       "      <td>19.775000</td>\n",
       "      <td>47.000000</td>\n",
       "      <td>22.985000</td>\n",
       "      <td>0.510000</td>\n",
       "      <td>31.000000</td>\n",
       "      <td>0.000000</td>\n",
       "    </tr>\n",
       "    <tr>\n",
       "      <th>50%</th>\n",
       "      <td>134.000000</td>\n",
       "      <td>2.000000</td>\n",
       "      <td>4.340000</td>\n",
       "      <td>26.115000</td>\n",
       "      <td>53.000000</td>\n",
       "      <td>25.805000</td>\n",
       "      <td>7.510000</td>\n",
       "      <td>45.000000</td>\n",
       "      <td>0.000000</td>\n",
       "    </tr>\n",
       "    <tr>\n",
       "      <th>75%</th>\n",
       "      <td>148.000000</td>\n",
       "      <td>5.500000</td>\n",
       "      <td>5.790000</td>\n",
       "      <td>31.227500</td>\n",
       "      <td>60.000000</td>\n",
       "      <td>28.497500</td>\n",
       "      <td>23.892500</td>\n",
       "      <td>55.000000</td>\n",
       "      <td>1.000000</td>\n",
       "    </tr>\n",
       "    <tr>\n",
       "      <th>max</th>\n",
       "      <td>218.000000</td>\n",
       "      <td>31.200000</td>\n",
       "      <td>15.330000</td>\n",
       "      <td>42.490000</td>\n",
       "      <td>78.000000</td>\n",
       "      <td>46.580000</td>\n",
       "      <td>147.190000</td>\n",
       "      <td>64.000000</td>\n",
       "      <td>1.000000</td>\n",
       "    </tr>\n",
       "  </tbody>\n",
       "</table>\n",
       "</div>"
      ],
      "text/plain": [
       "              sbp     tobacco         ldl   adiposity       typea     obesity  \\\n",
       "count  462.000000  462.000000  462.000000  462.000000  462.000000  462.000000   \n",
       "mean   138.326840    3.635649    4.740325   25.406732   53.103896   26.044113   \n",
       "std     20.496317    4.593024    2.070909    7.780699    9.817534    4.213680   \n",
       "min    101.000000    0.000000    0.980000    6.740000   13.000000   14.700000   \n",
       "25%    124.000000    0.052500    3.282500   19.775000   47.000000   22.985000   \n",
       "50%    134.000000    2.000000    4.340000   26.115000   53.000000   25.805000   \n",
       "75%    148.000000    5.500000    5.790000   31.227500   60.000000   28.497500   \n",
       "max    218.000000   31.200000   15.330000   42.490000   78.000000   46.580000   \n",
       "\n",
       "          alcohol         age         chd  \n",
       "count  462.000000  462.000000  462.000000  \n",
       "mean    17.044394   42.816017    0.346320  \n",
       "std     24.481059   14.608956    0.476313  \n",
       "min      0.000000   15.000000    0.000000  \n",
       "25%      0.510000   31.000000    0.000000  \n",
       "50%      7.510000   45.000000    0.000000  \n",
       "75%     23.892500   55.000000    1.000000  \n",
       "max    147.190000   64.000000    1.000000  "
      ]
     },
     "execution_count": 5,
     "metadata": {},
     "output_type": "execute_result"
    }
   ],
   "source": [
    "df.describe()"
   ]
  },
  {
   "cell_type": "markdown",
   "metadata": {},
   "source": [
    "__Resumen de algunas variables (Estadísticas descriptivas):__\n",
    "\n",
    "Respecto a las variables con atributos discretos (__famhist__ y __chd__), observamos que alrededor del __65%__ de los individuos tienen una enfermedad coronaria. Cerca del __58%__ de las peronas __NO__ presentan __\"Antecedentes familiares de enfermedades cardiácas\"__. La Presión Sanguínea Sistólica maxima es de 218 y la minima es de 101. Los individuos de la muestra tienen __42.8__ años en promedio. El promedio de tabaco consumido por dia de las personas es de 3.6, entre el rango de .0 y 31.2, lo cual es relativamente bajo. La media de \"Lipoproteína de baja densidad\" es de 4.7 lo cual es relativamente bajo comparado con sus rangos maximo y minimo."
   ]
  },
  {
   "cell_type": "code",
   "execution_count": 6,
   "metadata": {},
   "outputs": [
    {
     "data": {
      "text/html": [
       "<div>\n",
       "<style scoped>\n",
       "    .dataframe tbody tr th:only-of-type {\n",
       "        vertical-align: middle;\n",
       "    }\n",
       "\n",
       "    .dataframe tbody tr th {\n",
       "        vertical-align: top;\n",
       "    }\n",
       "\n",
       "    .dataframe thead th {\n",
       "        text-align: right;\n",
       "    }\n",
       "</style>\n",
       "<table border=\"1\" class=\"dataframe\">\n",
       "  <thead>\n",
       "    <tr style=\"text-align: right;\">\n",
       "      <th></th>\n",
       "      <th>sbp</th>\n",
       "      <th>tobacco</th>\n",
       "      <th>ldl</th>\n",
       "      <th>adiposity</th>\n",
       "      <th>famhist</th>\n",
       "      <th>typea</th>\n",
       "      <th>obesity</th>\n",
       "      <th>alcohol</th>\n",
       "      <th>age</th>\n",
       "      <th>chd</th>\n",
       "    </tr>\n",
       "  </thead>\n",
       "  <tbody>\n",
       "    <tr>\n",
       "      <th>399</th>\n",
       "      <td>126</td>\n",
       "      <td>0.00</td>\n",
       "      <td>3.57</td>\n",
       "      <td>26.01</td>\n",
       "      <td>Absent</td>\n",
       "      <td>61</td>\n",
       "      <td>26.30</td>\n",
       "      <td>7.97</td>\n",
       "      <td>47</td>\n",
       "      <td>0</td>\n",
       "    </tr>\n",
       "    <tr>\n",
       "      <th>112</th>\n",
       "      <td>134</td>\n",
       "      <td>2.00</td>\n",
       "      <td>3.66</td>\n",
       "      <td>14.69</td>\n",
       "      <td>Absent</td>\n",
       "      <td>52</td>\n",
       "      <td>21.03</td>\n",
       "      <td>2.06</td>\n",
       "      <td>37</td>\n",
       "      <td>0</td>\n",
       "    </tr>\n",
       "    <tr>\n",
       "      <th>189</th>\n",
       "      <td>126</td>\n",
       "      <td>0.00</td>\n",
       "      <td>5.98</td>\n",
       "      <td>29.06</td>\n",
       "      <td>Present</td>\n",
       "      <td>56</td>\n",
       "      <td>25.39</td>\n",
       "      <td>11.52</td>\n",
       "      <td>64</td>\n",
       "      <td>1</td>\n",
       "    </tr>\n",
       "    <tr>\n",
       "      <th>143</th>\n",
       "      <td>130</td>\n",
       "      <td>4.50</td>\n",
       "      <td>5.86</td>\n",
       "      <td>37.43</td>\n",
       "      <td>Absent</td>\n",
       "      <td>61</td>\n",
       "      <td>31.21</td>\n",
       "      <td>32.30</td>\n",
       "      <td>58</td>\n",
       "      <td>0</td>\n",
       "    </tr>\n",
       "    <tr>\n",
       "      <th>171</th>\n",
       "      <td>118</td>\n",
       "      <td>0.75</td>\n",
       "      <td>2.58</td>\n",
       "      <td>20.25</td>\n",
       "      <td>Absent</td>\n",
       "      <td>59</td>\n",
       "      <td>24.46</td>\n",
       "      <td>0.00</td>\n",
       "      <td>32</td>\n",
       "      <td>0</td>\n",
       "    </tr>\n",
       "  </tbody>\n",
       "</table>\n",
       "</div>"
      ],
      "text/plain": [
       "     sbp  tobacco   ldl  adiposity  famhist  typea  obesity  alcohol  age  chd\n",
       "399  126     0.00  3.57      26.01   Absent     61    26.30     7.97   47    0\n",
       "112  134     2.00  3.66      14.69   Absent     52    21.03     2.06   37    0\n",
       "189  126     0.00  5.98      29.06  Present     56    25.39    11.52   64    1\n",
       "143  130     4.50  5.86      37.43   Absent     61    31.21    32.30   58    0\n",
       "171  118     0.75  2.58      20.25   Absent     59    24.46     0.00   32    0"
      ]
     },
     "execution_count": 6,
     "metadata": {},
     "output_type": "execute_result"
    }
   ],
   "source": [
    "df.sample(5)"
   ]
  },
  {
   "cell_type": "markdown",
   "metadata": {},
   "source": [
    "### Desafío 2"
   ]
  },
  {
   "cell_type": "markdown",
   "metadata": {},
   "source": [
    "Ejecute los siguientes pasos:"
   ]
  },
  {
   "cell_type": "markdown",
   "metadata": {},
   "source": [
    "#### 1. Recodifique famhist a dummy, asignando 1 a la categoría minoritaria."
   ]
  },
  {
   "cell_type": "code",
   "execution_count": 7,
   "metadata": {},
   "outputs": [],
   "source": [
    "df['famhist_present'] = np.where(df['famhist'] == 'Present', 1, 0)"
   ]
  },
  {
   "cell_type": "code",
   "execution_count": 8,
   "metadata": {},
   "outputs": [
    {
     "data": {
      "text/plain": [
       "0    270\n",
       "1    192\n",
       "Name: famhist_present, dtype: int64"
      ]
     },
     "execution_count": 8,
     "metadata": {},
     "output_type": "execute_result"
    }
   ],
   "source": [
    "df['famhist_present'].value_counts()"
   ]
  },
  {
   "cell_type": "code",
   "execution_count": 9,
   "metadata": {},
   "outputs": [
    {
     "data": {
      "text/plain": [
       "0    0.584416\n",
       "1    0.415584\n",
       "Name: famhist_present, dtype: float64"
      ]
     },
     "execution_count": 9,
     "metadata": {},
     "output_type": "execute_result"
    }
   ],
   "source": [
    "df['famhist_present'].value_counts('%')"
   ]
  },
  {
   "cell_type": "code",
   "execution_count": 10,
   "metadata": {},
   "outputs": [
    {
     "data": {
      "text/html": [
       "<div>\n",
       "<style scoped>\n",
       "    .dataframe tbody tr th:only-of-type {\n",
       "        vertical-align: middle;\n",
       "    }\n",
       "\n",
       "    .dataframe tbody tr th {\n",
       "        vertical-align: top;\n",
       "    }\n",
       "\n",
       "    .dataframe thead th {\n",
       "        text-align: right;\n",
       "    }\n",
       "</style>\n",
       "<table border=\"1\" class=\"dataframe\">\n",
       "  <thead>\n",
       "    <tr style=\"text-align: right;\">\n",
       "      <th></th>\n",
       "      <th>sbp</th>\n",
       "      <th>tobacco</th>\n",
       "      <th>ldl</th>\n",
       "      <th>adiposity</th>\n",
       "      <th>famhist</th>\n",
       "      <th>typea</th>\n",
       "      <th>obesity</th>\n",
       "      <th>alcohol</th>\n",
       "      <th>age</th>\n",
       "      <th>chd</th>\n",
       "      <th>famhist_present</th>\n",
       "    </tr>\n",
       "  </thead>\n",
       "  <tbody>\n",
       "    <tr>\n",
       "      <th>71</th>\n",
       "      <td>130</td>\n",
       "      <td>1.72</td>\n",
       "      <td>2.66</td>\n",
       "      <td>10.38</td>\n",
       "      <td>Absent</td>\n",
       "      <td>68</td>\n",
       "      <td>17.81</td>\n",
       "      <td>11.10</td>\n",
       "      <td>26</td>\n",
       "      <td>0</td>\n",
       "      <td>0</td>\n",
       "    </tr>\n",
       "    <tr>\n",
       "      <th>89</th>\n",
       "      <td>122</td>\n",
       "      <td>0.72</td>\n",
       "      <td>4.04</td>\n",
       "      <td>32.38</td>\n",
       "      <td>Absent</td>\n",
       "      <td>34</td>\n",
       "      <td>28.34</td>\n",
       "      <td>0.00</td>\n",
       "      <td>55</td>\n",
       "      <td>0</td>\n",
       "      <td>0</td>\n",
       "    </tr>\n",
       "    <tr>\n",
       "      <th>253</th>\n",
       "      <td>146</td>\n",
       "      <td>7.50</td>\n",
       "      <td>7.21</td>\n",
       "      <td>25.93</td>\n",
       "      <td>Present</td>\n",
       "      <td>55</td>\n",
       "      <td>22.51</td>\n",
       "      <td>0.51</td>\n",
       "      <td>42</td>\n",
       "      <td>0</td>\n",
       "      <td>1</td>\n",
       "    </tr>\n",
       "    <tr>\n",
       "      <th>379</th>\n",
       "      <td>154</td>\n",
       "      <td>4.50</td>\n",
       "      <td>4.68</td>\n",
       "      <td>39.97</td>\n",
       "      <td>Absent</td>\n",
       "      <td>61</td>\n",
       "      <td>33.17</td>\n",
       "      <td>1.54</td>\n",
       "      <td>64</td>\n",
       "      <td>1</td>\n",
       "      <td>0</td>\n",
       "    </tr>\n",
       "    <tr>\n",
       "      <th>282</th>\n",
       "      <td>206</td>\n",
       "      <td>0.00</td>\n",
       "      <td>4.17</td>\n",
       "      <td>33.23</td>\n",
       "      <td>Absent</td>\n",
       "      <td>69</td>\n",
       "      <td>27.36</td>\n",
       "      <td>6.17</td>\n",
       "      <td>50</td>\n",
       "      <td>1</td>\n",
       "      <td>0</td>\n",
       "    </tr>\n",
       "  </tbody>\n",
       "</table>\n",
       "</div>"
      ],
      "text/plain": [
       "     sbp  tobacco   ldl  adiposity  famhist  typea  obesity  alcohol  age  \\\n",
       "71   130     1.72  2.66      10.38   Absent     68    17.81    11.10   26   \n",
       "89   122     0.72  4.04      32.38   Absent     34    28.34     0.00   55   \n",
       "253  146     7.50  7.21      25.93  Present     55    22.51     0.51   42   \n",
       "379  154     4.50  4.68      39.97   Absent     61    33.17     1.54   64   \n",
       "282  206     0.00  4.17      33.23   Absent     69    27.36     6.17   50   \n",
       "\n",
       "     chd  famhist_present  \n",
       "71     0                0  \n",
       "89     0                0  \n",
       "253    0                1  \n",
       "379    1                0  \n",
       "282    1                0  "
      ]
     },
     "execution_count": 10,
     "metadata": {},
     "output_type": "execute_result"
    }
   ],
   "source": [
    "df.sample(5)"
   ]
  },
  {
   "cell_type": "markdown",
   "metadata": {},
   "source": [
    "#### Utilice smf.logit para estimar el modelo."
   ]
  },
  {
   "cell_type": "code",
   "execution_count": 11,
   "metadata": {},
   "outputs": [
    {
     "name": "stdout",
     "output_type": "stream",
     "text": [
      "Optimization terminated successfully.\n",
      "         Current function value: 0.608111\n",
      "         Iterations 5\n"
     ]
    }
   ],
   "source": [
    "m1_logit = smf.logit('chd ~ famhist_present', df).fit()"
   ]
  },
  {
   "cell_type": "code",
   "execution_count": 12,
   "metadata": {},
   "outputs": [
    {
     "data": {
      "text/html": [
       "<table class=\"simpletable\">\n",
       "<caption>Logit Regression Results</caption>\n",
       "<tr>\n",
       "  <th>Dep. Variable:</th>        <td>chd</td>       <th>  No. Observations:  </th>  <td>   462</td>  \n",
       "</tr>\n",
       "<tr>\n",
       "  <th>Model:</th>               <td>Logit</td>      <th>  Df Residuals:      </th>  <td>   460</td>  \n",
       "</tr>\n",
       "<tr>\n",
       "  <th>Method:</th>               <td>MLE</td>       <th>  Df Model:          </th>  <td>     1</td>  \n",
       "</tr>\n",
       "<tr>\n",
       "  <th>Date:</th>          <td>Sat, 04 Jul 2020</td> <th>  Pseudo R-squ.:     </th>  <td>0.05740</td> \n",
       "</tr>\n",
       "<tr>\n",
       "  <th>Time:</th>              <td>12:51:59</td>     <th>  Log-Likelihood:    </th> <td> -280.95</td> \n",
       "</tr>\n",
       "<tr>\n",
       "  <th>converged:</th>           <td>True</td>       <th>  LL-Null:           </th> <td> -298.05</td> \n",
       "</tr>\n",
       "<tr>\n",
       "  <th> </th>                      <td> </td>        <th>  LLR p-value:       </th> <td>4.937e-09</td>\n",
       "</tr>\n",
       "</table>\n",
       "<table class=\"simpletable\">\n",
       "<tr>\n",
       "         <td></td>            <th>coef</th>     <th>std err</th>      <th>z</th>      <th>P>|z|</th>  <th>[0.025</th>    <th>0.975]</th>  \n",
       "</tr>\n",
       "<tr>\n",
       "  <th>Intercept</th>       <td>   -1.1690</td> <td>    0.143</td> <td>   -8.169</td> <td> 0.000</td> <td>   -1.449</td> <td>   -0.889</td>\n",
       "</tr>\n",
       "<tr>\n",
       "  <th>famhist_present</th> <td>    1.1690</td> <td>    0.203</td> <td>    5.751</td> <td> 0.000</td> <td>    0.771</td> <td>    1.567</td>\n",
       "</tr>\n",
       "</table>"
      ],
      "text/plain": [
       "<class 'statsmodels.iolib.summary.Summary'>\n",
       "\"\"\"\n",
       "                           Logit Regression Results                           \n",
       "==============================================================================\n",
       "Dep. Variable:                    chd   No. Observations:                  462\n",
       "Model:                          Logit   Df Residuals:                      460\n",
       "Method:                           MLE   Df Model:                            1\n",
       "Date:                Sat, 04 Jul 2020   Pseudo R-squ.:                 0.05740\n",
       "Time:                        12:51:59   Log-Likelihood:                -280.95\n",
       "converged:                       True   LL-Null:                       -298.05\n",
       "                                        LLR p-value:                 4.937e-09\n",
       "===================================================================================\n",
       "                      coef    std err          z      P>|z|      [0.025      0.975]\n",
       "-----------------------------------------------------------------------------------\n",
       "Intercept          -1.1690      0.143     -8.169      0.000      -1.449      -0.889\n",
       "famhist_present     1.1690      0.203      5.751      0.000       0.771       1.567\n",
       "===================================================================================\n",
       "\"\"\""
      ]
     },
     "execution_count": 12,
     "metadata": {},
     "output_type": "execute_result"
    }
   ],
   "source": [
    "m1_logit.summary()"
   ]
  },
  {
   "cell_type": "markdown",
   "metadata": {},
   "source": [
    "__3. Implemente una función inverse_logit que realize el mapeo de log-odds a probabilidad.__"
   ]
  },
  {
   "cell_type": "code",
   "execution_count": 13,
   "metadata": {},
   "outputs": [],
   "source": [
    "def inverse_logit(x):\n",
    "    return 1 / (1+np.exp(-x))"
   ]
  },
  {
   "cell_type": "markdown",
   "metadata": {},
   "source": [
    "__4. Con el modelo estimado, responda lo siguiente:__"
   ]
  },
  {
   "cell_type": "markdown",
   "metadata": {},
   "source": [
    "__¿Cuál es la probabilidad de un individuo con antecedentes familiares de tener una\n",
    "enfermedad coronaria?__"
   ]
  },
  {
   "cell_type": "code",
   "execution_count": 14,
   "metadata": {},
   "outputs": [
    {
     "name": "stdout",
     "output_type": "stream",
     "text": [
      "El log odds estimado es de  0.0\n"
     ]
    }
   ],
   "source": [
    "# accedemos a los parámetros con la sintáxis modelo.params['parametro]\n",
    "estamcion_chd_1 = m1_logit.params['Intercept'] + m1_logit.params['famhist_present']\n",
    "print(\"El log odds estimado es de \", round(estamcion_chd_1, 3))"
   ]
  },
  {
   "cell_type": "code",
   "execution_count": 15,
   "metadata": {},
   "outputs": [
    {
     "name": "stdout",
     "output_type": "stream",
     "text": [
      "La probabilidad de un individuo con Antecedentes familiares de tener una enfermedad coronaria es: 0.5\n"
     ]
    }
   ],
   "source": [
    "probabilidad_chd_1 = inverse_logit(estamcion_chd_1)\n",
    "print(\"La probabilidad de un individuo con Antecedentes familiares de tener una enfermedad coronaria es: {}\".format(round(probabilidad_chd_1, 3)))"
   ]
  },
  {
   "cell_type": "markdown",
   "metadata": {},
   "source": [
    "__¿Cuál es la probabilidad de un individuo sin antecedentes familiares de tener una\n",
    "enfermedad coronaria?__"
   ]
  },
  {
   "cell_type": "code",
   "execution_count": 16,
   "metadata": {},
   "outputs": [
    {
     "name": "stdout",
     "output_type": "stream",
     "text": [
      "El log odds estimado es de -1.1689930854299098\n"
     ]
    }
   ],
   "source": [
    "estamcion_chd_2 = m1_logit.params['Intercept']\n",
    "print(\"El log odds estimado es de {}\".format(estamcion_chd_2))"
   ]
  },
  {
   "cell_type": "code",
   "execution_count": 17,
   "metadata": {},
   "outputs": [
    {
     "name": "stdout",
     "output_type": "stream",
     "text": [
      "La probabilidad de un individuo sin antecedentes familiares de tener una enfermedad coronaria es: 0.237\n"
     ]
    }
   ],
   "source": [
    "probabilidad_chd_2 = inverse_logit(estamcion_chd_2)\n",
    "print(\"La probabilidad de un individuo sin antecedentes familiares de tener una enfermedad coronaria es: {}\".format(round(probabilidad_chd_2, 3)))"
   ]
  },
  {
   "cell_type": "markdown",
   "metadata": {},
   "source": [
    "__¿Cuál es la diferencia en la probabilidad entre un individuo con antecedentes y otro sin\n",
    "antecedentes?__"
   ]
  },
  {
   "cell_type": "code",
   "execution_count": 18,
   "metadata": {},
   "outputs": [
    {
     "name": "stdout",
     "output_type": "stream",
     "text": [
      "La diferencia en la probabilidad entre un individuo con antecedentes y otro sin antecedentes es: 0.263\n"
     ]
    }
   ],
   "source": [
    "print(\"La diferencia en la probabilidad entre un individuo con antecedentes y otro sin antecedentes es:\", round(probabilidad_chd_1 - probabilidad_chd_2,\n",
    "3))"
   ]
  },
  {
   "cell_type": "markdown",
   "metadata": {},
   "source": [
    "__Replique el modelo con smf.ols y comente las similitudes entre los coeficientes estimados.__\n",
    "* Estime el mismo modelo con LPM"
   ]
  },
  {
   "cell_type": "code",
   "execution_count": 19,
   "metadata": {},
   "outputs": [],
   "source": [
    "m1_ols = smf.ols('chd ~famhist_present', df).fit()"
   ]
  },
  {
   "cell_type": "code",
   "execution_count": 20,
   "metadata": {},
   "outputs": [
    {
     "data": {
      "text/html": [
       "<table class=\"simpletable\">\n",
       "<caption>OLS Regression Results</caption>\n",
       "<tr>\n",
       "  <th>Dep. Variable:</th>           <td>chd</td>       <th>  R-squared:         </th> <td>   0.074</td>\n",
       "</tr>\n",
       "<tr>\n",
       "  <th>Model:</th>                   <td>OLS</td>       <th>  Adj. R-squared:    </th> <td>   0.072</td>\n",
       "</tr>\n",
       "<tr>\n",
       "  <th>Method:</th>             <td>Least Squares</td>  <th>  F-statistic:       </th> <td>   36.86</td>\n",
       "</tr>\n",
       "<tr>\n",
       "  <th>Date:</th>             <td>Sat, 04 Jul 2020</td> <th>  Prob (F-statistic):</th> <td>2.66e-09</td>\n",
       "</tr>\n",
       "<tr>\n",
       "  <th>Time:</th>                 <td>12:52:00</td>     <th>  Log-Likelihood:    </th> <td> -294.59</td>\n",
       "</tr>\n",
       "<tr>\n",
       "  <th>No. Observations:</th>      <td>   462</td>      <th>  AIC:               </th> <td>   593.2</td>\n",
       "</tr>\n",
       "<tr>\n",
       "  <th>Df Residuals:</th>          <td>   460</td>      <th>  BIC:               </th> <td>   601.4</td>\n",
       "</tr>\n",
       "<tr>\n",
       "  <th>Df Model:</th>              <td>     1</td>      <th>                     </th>     <td> </td>   \n",
       "</tr>\n",
       "<tr>\n",
       "  <th>Covariance Type:</th>      <td>nonrobust</td>    <th>                     </th>     <td> </td>   \n",
       "</tr>\n",
       "</table>\n",
       "<table class=\"simpletable\">\n",
       "<tr>\n",
       "         <td></td>            <th>coef</th>     <th>std err</th>      <th>t</th>      <th>P>|t|</th>  <th>[0.025</th>    <th>0.975]</th>  \n",
       "</tr>\n",
       "<tr>\n",
       "  <th>Intercept</th>       <td>    0.2370</td> <td>    0.028</td> <td>    8.489</td> <td> 0.000</td> <td>    0.182</td> <td>    0.292</td>\n",
       "</tr>\n",
       "<tr>\n",
       "  <th>famhist_present</th> <td>    0.2630</td> <td>    0.043</td> <td>    6.071</td> <td> 0.000</td> <td>    0.178</td> <td>    0.348</td>\n",
       "</tr>\n",
       "</table>\n",
       "<table class=\"simpletable\">\n",
       "<tr>\n",
       "  <th>Omnibus:</th>       <td>768.898</td> <th>  Durbin-Watson:     </th> <td>   1.961</td>\n",
       "</tr>\n",
       "<tr>\n",
       "  <th>Prob(Omnibus):</th> <td> 0.000</td>  <th>  Jarque-Bera (JB):  </th> <td>  58.778</td>\n",
       "</tr>\n",
       "<tr>\n",
       "  <th>Skew:</th>          <td> 0.579</td>  <th>  Prob(JB):          </th> <td>1.72e-13</td>\n",
       "</tr>\n",
       "<tr>\n",
       "  <th>Kurtosis:</th>      <td> 1.692</td>  <th>  Cond. No.          </th> <td>    2.47</td>\n",
       "</tr>\n",
       "</table><br/><br/>Warnings:<br/>[1] Standard Errors assume that the covariance matrix of the errors is correctly specified."
      ],
      "text/plain": [
       "<class 'statsmodels.iolib.summary.Summary'>\n",
       "\"\"\"\n",
       "                            OLS Regression Results                            \n",
       "==============================================================================\n",
       "Dep. Variable:                    chd   R-squared:                       0.074\n",
       "Model:                            OLS   Adj. R-squared:                  0.072\n",
       "Method:                 Least Squares   F-statistic:                     36.86\n",
       "Date:                Sat, 04 Jul 2020   Prob (F-statistic):           2.66e-09\n",
       "Time:                        12:52:00   Log-Likelihood:                -294.59\n",
       "No. Observations:                 462   AIC:                             593.2\n",
       "Df Residuals:                     460   BIC:                             601.4\n",
       "Df Model:                           1                                         \n",
       "Covariance Type:            nonrobust                                         \n",
       "===================================================================================\n",
       "                      coef    std err          t      P>|t|      [0.025      0.975]\n",
       "-----------------------------------------------------------------------------------\n",
       "Intercept           0.2370      0.028      8.489      0.000       0.182       0.292\n",
       "famhist_present     0.2630      0.043      6.071      0.000       0.178       0.348\n",
       "==============================================================================\n",
       "Omnibus:                      768.898   Durbin-Watson:                   1.961\n",
       "Prob(Omnibus):                  0.000   Jarque-Bera (JB):               58.778\n",
       "Skew:                           0.579   Prob(JB):                     1.72e-13\n",
       "Kurtosis:                       1.692   Cond. No.                         2.47\n",
       "==============================================================================\n",
       "\n",
       "Warnings:\n",
       "[1] Standard Errors assume that the covariance matrix of the errors is correctly specified.\n",
       "\"\"\""
      ]
     },
     "execution_count": 20,
     "metadata": {},
     "output_type": "execute_result"
    }
   ],
   "source": [
    "m1_ols.summary()"
   ]
  },
  {
   "cell_type": "code",
   "execution_count": 21,
   "metadata": {},
   "outputs": [
    {
     "data": {
      "text/plain": [
       "0.29"
      ]
     },
     "execution_count": 21,
     "metadata": {},
     "output_type": "execute_result"
    }
   ],
   "source": [
    "1.16/4"
   ]
  },
  {
   "cell_type": "markdown",
   "metadata": {},
   "source": [
    "__Podemos obsevar que para nuestro modelo OLS, la probabilidad de un individuo sin antecedentes familiares de tener una enfermedad coronaria es de 0.237, identico valor que el modelo Logit.__"
   ]
  },
  {
   "cell_type": "markdown",
   "metadata": {},
   "source": [
    "__Si dividimos el coeficiente estimado de nuestra regresión logística 1.16 / 4 = .29, veremos que es una aproximación razonable del coeficiente estimado en nuestro modelo LPM.__"
   ]
  },
  {
   "cell_type": "markdown",
   "metadata": {},
   "source": [
    "### Desafío 3: Estimación completa"
   ]
  },
  {
   "cell_type": "markdown",
   "metadata": {},
   "source": [
    "* Depure el modelo manteniendo las variables con significancia estadística al 95%."
   ]
  },
  {
   "cell_type": "code",
   "execution_count": 22,
   "metadata": {},
   "outputs": [
    {
     "name": "stdout",
     "output_type": "stream",
     "text": [
      "Optimization terminated successfully.\n",
      "         Current function value: 0.510974\n",
      "         Iterations 6\n"
     ]
    }
   ],
   "source": [
    "modelo_depurado_aux = smf.logit('chd ~famhist_present + sbp + tobacco + ldl + adiposity + typea + obesity + alcohol + age', df).fit()"
   ]
  },
  {
   "cell_type": "code",
   "execution_count": 23,
   "metadata": {},
   "outputs": [
    {
     "data": {
      "text/html": [
       "<table class=\"simpletable\">\n",
       "<caption>Logit Regression Results</caption>\n",
       "<tr>\n",
       "  <th>Dep. Variable:</th>        <td>chd</td>       <th>  No. Observations:  </th>  <td>   462</td>  \n",
       "</tr>\n",
       "<tr>\n",
       "  <th>Model:</th>               <td>Logit</td>      <th>  Df Residuals:      </th>  <td>   452</td>  \n",
       "</tr>\n",
       "<tr>\n",
       "  <th>Method:</th>               <td>MLE</td>       <th>  Df Model:          </th>  <td>     9</td>  \n",
       "</tr>\n",
       "<tr>\n",
       "  <th>Date:</th>          <td>Sat, 04 Jul 2020</td> <th>  Pseudo R-squ.:     </th>  <td>0.2080</td>  \n",
       "</tr>\n",
       "<tr>\n",
       "  <th>Time:</th>              <td>12:52:00</td>     <th>  Log-Likelihood:    </th> <td> -236.07</td> \n",
       "</tr>\n",
       "<tr>\n",
       "  <th>converged:</th>           <td>True</td>       <th>  LL-Null:           </th> <td> -298.05</td> \n",
       "</tr>\n",
       "<tr>\n",
       "  <th> </th>                      <td> </td>        <th>  LLR p-value:       </th> <td>2.055e-22</td>\n",
       "</tr>\n",
       "</table>\n",
       "<table class=\"simpletable\">\n",
       "<tr>\n",
       "         <td></td>            <th>coef</th>     <th>std err</th>      <th>z</th>      <th>P>|z|</th>  <th>[0.025</th>    <th>0.975]</th>  \n",
       "</tr>\n",
       "<tr>\n",
       "  <th>Intercept</th>       <td>   -6.1507</td> <td>    1.308</td> <td>   -4.701</td> <td> 0.000</td> <td>   -8.715</td> <td>   -3.587</td>\n",
       "</tr>\n",
       "<tr>\n",
       "  <th>famhist_present</th> <td>    0.9254</td> <td>    0.228</td> <td>    4.061</td> <td> 0.000</td> <td>    0.479</td> <td>    1.372</td>\n",
       "</tr>\n",
       "<tr>\n",
       "  <th>sbp</th>             <td>    0.0065</td> <td>    0.006</td> <td>    1.135</td> <td> 0.256</td> <td>   -0.005</td> <td>    0.018</td>\n",
       "</tr>\n",
       "<tr>\n",
       "  <th>tobacco</th>         <td>    0.0794</td> <td>    0.027</td> <td>    2.984</td> <td> 0.003</td> <td>    0.027</td> <td>    0.132</td>\n",
       "</tr>\n",
       "<tr>\n",
       "  <th>ldl</th>             <td>    0.1739</td> <td>    0.060</td> <td>    2.915</td> <td> 0.004</td> <td>    0.057</td> <td>    0.291</td>\n",
       "</tr>\n",
       "<tr>\n",
       "  <th>adiposity</th>       <td>    0.0186</td> <td>    0.029</td> <td>    0.635</td> <td> 0.526</td> <td>   -0.039</td> <td>    0.076</td>\n",
       "</tr>\n",
       "<tr>\n",
       "  <th>typea</th>           <td>    0.0396</td> <td>    0.012</td> <td>    3.214</td> <td> 0.001</td> <td>    0.015</td> <td>    0.064</td>\n",
       "</tr>\n",
       "<tr>\n",
       "  <th>obesity</th>         <td>   -0.0629</td> <td>    0.044</td> <td>   -1.422</td> <td> 0.155</td> <td>   -0.150</td> <td>    0.024</td>\n",
       "</tr>\n",
       "<tr>\n",
       "  <th>alcohol</th>         <td>    0.0001</td> <td>    0.004</td> <td>    0.027</td> <td> 0.978</td> <td>   -0.009</td> <td>    0.009</td>\n",
       "</tr>\n",
       "<tr>\n",
       "  <th>age</th>             <td>    0.0452</td> <td>    0.012</td> <td>    3.728</td> <td> 0.000</td> <td>    0.021</td> <td>    0.069</td>\n",
       "</tr>\n",
       "</table>"
      ],
      "text/plain": [
       "<class 'statsmodels.iolib.summary.Summary'>\n",
       "\"\"\"\n",
       "                           Logit Regression Results                           \n",
       "==============================================================================\n",
       "Dep. Variable:                    chd   No. Observations:                  462\n",
       "Model:                          Logit   Df Residuals:                      452\n",
       "Method:                           MLE   Df Model:                            9\n",
       "Date:                Sat, 04 Jul 2020   Pseudo R-squ.:                  0.2080\n",
       "Time:                        12:52:00   Log-Likelihood:                -236.07\n",
       "converged:                       True   LL-Null:                       -298.05\n",
       "                                        LLR p-value:                 2.055e-22\n",
       "===================================================================================\n",
       "                      coef    std err          z      P>|z|      [0.025      0.975]\n",
       "-----------------------------------------------------------------------------------\n",
       "Intercept          -6.1507      1.308     -4.701      0.000      -8.715      -3.587\n",
       "famhist_present     0.9254      0.228      4.061      0.000       0.479       1.372\n",
       "sbp                 0.0065      0.006      1.135      0.256      -0.005       0.018\n",
       "tobacco             0.0794      0.027      2.984      0.003       0.027       0.132\n",
       "ldl                 0.1739      0.060      2.915      0.004       0.057       0.291\n",
       "adiposity           0.0186      0.029      0.635      0.526      -0.039       0.076\n",
       "typea               0.0396      0.012      3.214      0.001       0.015       0.064\n",
       "obesity            -0.0629      0.044     -1.422      0.155      -0.150       0.024\n",
       "alcohol             0.0001      0.004      0.027      0.978      -0.009       0.009\n",
       "age                 0.0452      0.012      3.728      0.000       0.021       0.069\n",
       "===================================================================================\n",
       "\"\"\""
      ]
     },
     "execution_count": 23,
     "metadata": {},
     "output_type": "execute_result"
    }
   ],
   "source": [
    "modelo_depurado_aux.summary()"
   ]
  },
  {
   "cell_type": "markdown",
   "metadata": {},
   "source": [
    "__Las variables independientes que tienen un efecto significativo sobre las probabilidades logarítmicas de tener una efermedad coronaria como lo indican los valores de P>|z| < 0.05 son famhist_present, age, typea, ldl y tobacco ( significancia estadística al 95% ).__"
   ]
  },
  {
   "cell_type": "code",
   "execution_count": 24,
   "metadata": {},
   "outputs": [
    {
     "name": "stdout",
     "output_type": "stream",
     "text": [
      "Optimization terminated successfully.\n",
      "         Current function value: 0.514811\n",
      "         Iterations 6\n"
     ]
    }
   ],
   "source": [
    "modelo_depurado = smf.logit('chd ~famhist_present + age + typea + ldl +  tobacco', df).fit()"
   ]
  },
  {
   "cell_type": "code",
   "execution_count": 25,
   "metadata": {},
   "outputs": [
    {
     "data": {
      "text/html": [
       "<table class=\"simpletable\">\n",
       "<caption>Logit Regression Results</caption>\n",
       "<tr>\n",
       "  <th>Dep. Variable:</th>        <td>chd</td>       <th>  No. Observations:  </th>  <td>   462</td>  \n",
       "</tr>\n",
       "<tr>\n",
       "  <th>Model:</th>               <td>Logit</td>      <th>  Df Residuals:      </th>  <td>   456</td>  \n",
       "</tr>\n",
       "<tr>\n",
       "  <th>Method:</th>               <td>MLE</td>       <th>  Df Model:          </th>  <td>     5</td>  \n",
       "</tr>\n",
       "<tr>\n",
       "  <th>Date:</th>          <td>Sat, 04 Jul 2020</td> <th>  Pseudo R-squ.:     </th>  <td>0.2020</td>  \n",
       "</tr>\n",
       "<tr>\n",
       "  <th>Time:</th>              <td>12:52:00</td>     <th>  Log-Likelihood:    </th> <td> -237.84</td> \n",
       "</tr>\n",
       "<tr>\n",
       "  <th>converged:</th>           <td>True</td>       <th>  LL-Null:           </th> <td> -298.05</td> \n",
       "</tr>\n",
       "<tr>\n",
       "  <th> </th>                      <td> </td>        <th>  LLR p-value:       </th> <td>2.554e-24</td>\n",
       "</tr>\n",
       "</table>\n",
       "<table class=\"simpletable\">\n",
       "<tr>\n",
       "         <td></td>            <th>coef</th>     <th>std err</th>      <th>z</th>      <th>P>|z|</th>  <th>[0.025</th>    <th>0.975]</th>  \n",
       "</tr>\n",
       "<tr>\n",
       "  <th>Intercept</th>       <td>   -6.4464</td> <td>    0.921</td> <td>   -7.000</td> <td> 0.000</td> <td>   -8.251</td> <td>   -4.642</td>\n",
       "</tr>\n",
       "<tr>\n",
       "  <th>famhist_present</th> <td>    0.9082</td> <td>    0.226</td> <td>    4.023</td> <td> 0.000</td> <td>    0.466</td> <td>    1.351</td>\n",
       "</tr>\n",
       "<tr>\n",
       "  <th>age</th>             <td>    0.0505</td> <td>    0.010</td> <td>    4.944</td> <td> 0.000</td> <td>    0.030</td> <td>    0.070</td>\n",
       "</tr>\n",
       "<tr>\n",
       "  <th>typea</th>           <td>    0.0371</td> <td>    0.012</td> <td>    3.051</td> <td> 0.002</td> <td>    0.013</td> <td>    0.061</td>\n",
       "</tr>\n",
       "<tr>\n",
       "  <th>ldl</th>             <td>    0.1620</td> <td>    0.055</td> <td>    2.947</td> <td> 0.003</td> <td>    0.054</td> <td>    0.270</td>\n",
       "</tr>\n",
       "<tr>\n",
       "  <th>tobacco</th>         <td>    0.0804</td> <td>    0.026</td> <td>    3.106</td> <td> 0.002</td> <td>    0.030</td> <td>    0.131</td>\n",
       "</tr>\n",
       "</table>"
      ],
      "text/plain": [
       "<class 'statsmodels.iolib.summary.Summary'>\n",
       "\"\"\"\n",
       "                           Logit Regression Results                           \n",
       "==============================================================================\n",
       "Dep. Variable:                    chd   No. Observations:                  462\n",
       "Model:                          Logit   Df Residuals:                      456\n",
       "Method:                           MLE   Df Model:                            5\n",
       "Date:                Sat, 04 Jul 2020   Pseudo R-squ.:                  0.2020\n",
       "Time:                        12:52:00   Log-Likelihood:                -237.84\n",
       "converged:                       True   LL-Null:                       -298.05\n",
       "                                        LLR p-value:                 2.554e-24\n",
       "===================================================================================\n",
       "                      coef    std err          z      P>|z|      [0.025      0.975]\n",
       "-----------------------------------------------------------------------------------\n",
       "Intercept          -6.4464      0.921     -7.000      0.000      -8.251      -4.642\n",
       "famhist_present     0.9082      0.226      4.023      0.000       0.466       1.351\n",
       "age                 0.0505      0.010      4.944      0.000       0.030       0.070\n",
       "typea               0.0371      0.012      3.051      0.002       0.013       0.061\n",
       "ldl                 0.1620      0.055      2.947      0.003       0.054       0.270\n",
       "tobacco             0.0804      0.026      3.106      0.002       0.030       0.131\n",
       "===================================================================================\n",
       "\"\"\""
      ]
     },
     "execution_count": 25,
     "metadata": {},
     "output_type": "execute_result"
    }
   ],
   "source": [
    "modelo_depurado.summary()"
   ]
  },
  {
   "cell_type": "markdown",
   "metadata": {},
   "source": [
    "* Compare los estadísticos de bondad de ajuste entre ambos."
   ]
  },
  {
   "cell_type": "code",
   "execution_count": 26,
   "metadata": {},
   "outputs": [],
   "source": [
    "diff_estadistico_bondad = 0.2080 - 0.2020"
   ]
  },
  {
   "cell_type": "code",
   "execution_count": 27,
   "metadata": {},
   "outputs": [
    {
     "data": {
      "text/plain": [
       "0.006"
      ]
     },
     "execution_count": 27,
     "metadata": {},
     "output_type": "execute_result"
    }
   ],
   "source": [
    "round(diff_estadistico_bondad, 3)"
   ]
  },
  {
   "cell_type": "markdown",
   "metadata": {},
   "source": [
    "__Podemos observar que la diferencia entre los estadisticos de bondad de ajuste es 0.006, lo cual es relativamente bajo, es decir no hay diferencias significativas__"
   ]
  },
  {
   "cell_type": "markdown",
   "metadata": {},
   "source": [
    "* Reporte de forma sucinta el efecto de las variables en el log-odds de tener una enfermedad coronaria."
   ]
  },
  {
   "cell_type": "markdown",
   "metadata": {},
   "source": [
    "__Las chances de ocurrencia para cada una de nuestras variables independientes es positiva, por lo cual aumentan las chances (probabilidad logaritmica) de que un individuo tenga una enfermedad coronaria. La variable mas significativa es \"Antecedentes familiares\" con un valor de 0.90.__"
   ]
  },
  {
   "cell_type": "markdown",
   "metadata": {},
   "source": [
    "### Desafío 4: Estimación de perfiles"
   ]
  },
  {
   "cell_type": "markdown",
   "metadata": {},
   "source": [
    "A partir del modelo depurado, genere las estimaciones en log-odds y posteriormente transfórmelas\n",
    "a probabilidades con __inverse_logit__ . Los perfiles a estimar son los siguientes:"
   ]
  },
  {
   "cell_type": "markdown",
   "metadata": {},
   "source": [
    "__La probabilidad de tener una enfermedad coronaria para un individuo con características similares a la muestra.__ "
   ]
  },
  {
   "cell_type": "code",
   "execution_count": 28,
   "metadata": {},
   "outputs": [
    {
     "name": "stdout",
     "output_type": "stream",
     "text": [
      "La probabilidad de tener una enfermedad coronaria para un individuo con características similares a la muestra es:\n",
      " 0.29\n"
     ]
    }
   ],
   "source": [
    "probabilidad_1 = inverse_logit(modelo_depurado.params['Intercept'] + \n",
    "                              (modelo_depurado.params['famhist_present']* df['famhist_present'].mean()) + \n",
    "                              (modelo_depurado.params['age']* df['age'].mean()) + \n",
    "                              (modelo_depurado.params['typea']* df['typea'].mean()) + \n",
    "                              (modelo_depurado.params['ldl']* df['ldl'].mean()) + \n",
    "                              (modelo_depurado.params['tobacco']* df['tobacco'].mean()))\n",
    "\n",
    "print('La probabilidad de tener una enfermedad coronaria para un individuo con características similares a la muestra es:\\n {}'.format(round(probabilidad_1, 2)))"
   ]
  },
  {
   "cell_type": "markdown",
   "metadata": {},
   "source": [
    "__La probabilidad de tener una enfemerdad coronaria para un individuo con altos niveles de lipoproteína de baja densidad, manteniendo todas las demás características constantes.__"
   ]
  },
  {
   "cell_type": "code",
   "execution_count": 29,
   "metadata": {},
   "outputs": [
    {
     "name": "stdout",
     "output_type": "stream",
     "text": [
      "La probabilidad de tener una enfemerdad coronaria para un individuo con altos niveles de lipoproteína de baja densidad, manteniendo todas las demás características constantes es: 0.7\n"
     ]
    }
   ],
   "source": [
    "probabilidad_2 = inverse_logit(modelo_depurado.params['Intercept'] + \n",
    "                              (modelo_depurado.params['famhist_present']* df['famhist_present'].mean()) + \n",
    "                              (modelo_depurado.params['age']* df['age'].mean()) + \n",
    "                              (modelo_depurado.params['typea']* df['typea'].mean()) + \n",
    "                              (modelo_depurado.params['ldl']* df['ldl'].max()) + \n",
    "                              (modelo_depurado.params['tobacco']* df['tobacco'].mean()))\n",
    "\n",
    "print(\"La probabilidad de tener una enfemerdad coronaria para un individuo con altos niveles de lipoproteína de baja densidad, manteniendo todas las demás características constantes es: {}\".format(round(probabilidad_2,2)) )"
   ]
  },
  {
   "cell_type": "markdown",
   "metadata": {},
   "source": [
    "__La probabilidad de tener una enfemerdad coronaria para un individuo con bajos niveles de lipoproteína de baja densidad, manteniendo todas las demás características constantes.__"
   ]
  },
  {
   "cell_type": "code",
   "execution_count": 30,
   "metadata": {},
   "outputs": [
    {
     "name": "stdout",
     "output_type": "stream",
     "text": [
      "La probabilidad de tener una enfemerdad coronaria para un individuo con bajos niveles de lipoproteína de baja densidad, manteniendo todas las demás características constantes es: 0.18\n"
     ]
    }
   ],
   "source": [
    "probabilidad_3 = inverse_logit(modelo_depurado.params['Intercept'] + \n",
    "                              (modelo_depurado.params['famhist_present']* df['famhist_present'].mean()) + \n",
    "                              (modelo_depurado.params['age']* df['age'].mean()) + \n",
    "                              (modelo_depurado.params['typea']* df['typea'].mean()) + \n",
    "                              (modelo_depurado.params['ldl']* df['ldl'].min()) + \n",
    "                              (modelo_depurado.params['tobacco']* df['tobacco'].mean()))\n",
    "\n",
    "print(\"La probabilidad de tener una enfemerdad coronaria para un individuo con bajos niveles de lipoproteína de baja densidad, manteniendo todas las demás características constantes es: {}\".format(round(probabilidad_3, 2)))"
   ]
  }
 ],
 "metadata": {
  "kernelspec": {
   "display_name": "Python 3",
   "language": "python",
   "name": "python3"
  },
  "language_info": {
   "codemirror_mode": {
    "name": "ipython",
    "version": 3
   },
   "file_extension": ".py",
   "mimetype": "text/x-python",
   "name": "python",
   "nbconvert_exporter": "python",
   "pygments_lexer": "ipython3",
   "version": "3.7.3"
  }
 },
 "nbformat": 4,
 "nbformat_minor": 2
}
