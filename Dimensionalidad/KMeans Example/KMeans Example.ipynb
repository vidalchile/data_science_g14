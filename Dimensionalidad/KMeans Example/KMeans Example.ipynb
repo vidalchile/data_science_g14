{
 "cells": [
  {
   "cell_type": "code",
   "execution_count": null,
   "metadata": {},
   "outputs": [],
   "source": [
    "import pandas as pd\n",
    "import numpy as np\n",
    "from sklearn.cluster import KMeans\n",
    "import pandas_profiling\n",
    "from sklearn.preprocessing import StandardScaler\n",
    "import matplotlib.pyplot as plt\n",
    "%matplotlib inline\n",
    "import seaborn as sn\n",
    "\n",
    "df = pd.read_csv('OnlineNewsPopularity/OnlineNewsPopularity.csv')\n",
    "df.rename(columns=lambda x: x.strip(), inplace = True)"
   ]
  },
  {
   "cell_type": "code",
   "execution_count": null,
   "metadata": {},
   "outputs": [],
   "source": [
    "df.head()"
   ]
  },
  {
   "cell_type": "code",
   "execution_count": null,
   "metadata": {},
   "outputs": [],
   "source": [
    "df_boston = pd.read_csv('Boston.csv')\n",
    "df_boston.head()"
   ]
  },
  {
   "cell_type": "code",
   "execution_count": null,
   "metadata": {
    "scrolled": true
   },
   "outputs": [],
   "source": [
    "pandas_profiling.ProfileReport(df, correlation_threshold = 1)"
   ]
  },
  {
   "cell_type": "code",
   "execution_count": null,
   "metadata": {},
   "outputs": [],
   "source": [
    "rejected = pandas_profiling.ProfileReport(df).get_rejected_variables()\n",
    "rejected"
   ]
  },
  {
   "cell_type": "code",
   "execution_count": null,
   "metadata": {},
   "outputs": [],
   "source": [
    "df_uncorrelated = df.drop(rejected+['url'], axis = 1)\n",
    "df_uncorrelated.head()"
   ]
  },
  {
   "cell_type": "code",
   "execution_count": null,
   "metadata": {},
   "outputs": [],
   "source": [
    "scaled_data = StandardScaler().fit_transform(df_uncorrelated)"
   ]
  },
  {
   "cell_type": "code",
   "execution_count": null,
   "metadata": {},
   "outputs": [],
   "source": [
    "kmeans = KMeans(n_clusters = 5).fit(scaled_data)"
   ]
  },
  {
   "cell_type": "code",
   "execution_count": null,
   "metadata": {},
   "outputs": [],
   "source": [
    "kmeans.labels_"
   ]
  },
  {
   "cell_type": "code",
   "execution_count": null,
   "metadata": {},
   "outputs": [],
   "source": [
    "df_uncorrelated['cluster_label'] = kmeans.labels_\n",
    "df_uncorrelated.head()"
   ]
  },
  {
   "cell_type": "code",
   "execution_count": null,
   "metadata": {},
   "outputs": [],
   "source": [
    "df_uncorrelated.columns"
   ]
  },
  {
   "cell_type": "code",
   "execution_count": null,
   "metadata": {},
   "outputs": [],
   "source": [
    "sn.scatterplot('abs_title_sentiment_polarity', 'shares', data = df_uncorrelated, hue = 'cluster_label')"
   ]
  },
  {
   "cell_type": "code",
   "execution_count": null,
   "metadata": {},
   "outputs": [],
   "source": [
    "sn.scatterplot('global_sentiment_polarity', 'shares', data = df_uncorrelated, hue = 'cluster_label')\n"
   ]
  },
  {
   "cell_type": "code",
   "execution_count": null,
   "metadata": {},
   "outputs": [],
   "source": [
    "sn.scatterplot('data_channel_is_tech', 'n_tokens_content', data = df_uncorrelated, hue = 'cluster_label')"
   ]
  },
  {
   "cell_type": "code",
   "execution_count": null,
   "metadata": {},
   "outputs": [],
   "source": [
    "sn.scatterplot('rate_negative_words', 'n_tokens_content', data = df_uncorrelated, hue = 'cluster_label')"
   ]
  },
  {
   "cell_type": "code",
   "execution_count": null,
   "metadata": {},
   "outputs": [],
   "source": [
    "sn.scatterplot('data_channel_is_bus', 'n_tokens_content', data = df_uncorrelated, hue = 'cluster_label')"
   ]
  },
  {
   "cell_type": "markdown",
   "metadata": {},
   "source": [
    "# Cluster membership analysis\n",
    "Veamos si hay algún patrón reconocible en los elementos asignados a cada cluster\n"
   ]
  },
  {
   "cell_type": "code",
   "execution_count": null,
   "metadata": {},
   "outputs": [],
   "source": [
    "cluster_0 = df_uncorrelated[df_uncorrelated['cluster_label'] == 0]\n",
    "cluster_1 = df_uncorrelated[df_uncorrelated['cluster_label'] == 1]\n",
    "cluster_2 = df_uncorrelated[df_uncorrelated['cluster_label'] == 2]\n",
    "cluster_3 = df_uncorrelated[df_uncorrelated['cluster_label'] == 3]\n",
    "cluster_4 = df_uncorrelated[df_uncorrelated['cluster_label'] == 4]\n"
   ]
  },
  {
   "cell_type": "code",
   "execution_count": null,
   "metadata": {},
   "outputs": [],
   "source": [
    "for i,cluster in enumerate([cluster_0, cluster_1, cluster_2, cluster_3, cluster_4]):\n",
    "#    print('\\n##################### cluster {} #####################'.format(i))\n",
    "    print('Cluster {0}: {1} elementos'.format(i,cluster.shape[0] ))"
   ]
  },
  {
   "cell_type": "code",
   "execution_count": null,
   "metadata": {},
   "outputs": [],
   "source": [
    "sn.barplot(x = ['cluster 0', 'cluster 1', 'cluster 2', 'cluster 3', 'cluster 4'],\n",
    "           y =np.array(df_uncorrelated['cluster_label'].value_counts()))\n",
    "plt.title('Cantidad de elementos en cada cluster');\n",
    "\n"
   ]
  },
  {
   "cell_type": "code",
   "execution_count": null,
   "metadata": {},
   "outputs": [],
   "source": [
    "fig, ax = plt.subplots(1,5, figsize = (20,7))\n",
    "\n",
    "sn.distplot(df_uncorrelated[df_uncorrelated['cluster_label'] == 0]['global_sentiment_polarity'], ax = ax[0])\n",
    "ax[0].set_title('Cluster 0')\n",
    "sn.distplot(df_uncorrelated[df_uncorrelated['cluster_label'] == 1]['global_sentiment_polarity'], ax = ax[1])\n",
    "ax[1].set_title('Cluster 1')\n",
    "sn.distplot(df_uncorrelated[df_uncorrelated['cluster_label'] == 2]['global_sentiment_polarity'], ax = ax[2])\n",
    "ax[2].set_title('Cluster 2')\n",
    "sn.distplot(df_uncorrelated[df_uncorrelated['cluster_label'] == 3]['global_sentiment_polarity'], ax = ax[3])\n",
    "ax[3].set_title('Cluster 3')\n",
    "sn.distplot(df_uncorrelated[df_uncorrelated['cluster_label'] == 4]['global_sentiment_polarity'], ax = ax[4])\n",
    "ax[4].set_title('Cluster 4');"
   ]
  },
  {
   "cell_type": "code",
   "execution_count": null,
   "metadata": {},
   "outputs": [],
   "source": [
    "sn.distplot(df_uncorrelated[df_uncorrelated['cluster_label'] == 0]['global_sentiment_polarity'],\n",
    "            label = 'Cluster 0', norm_hist= True)\n",
    "sn.distplot(df_uncorrelated[df_uncorrelated['cluster_label'] == 1]['global_sentiment_polarity'],\n",
    "            label = 'Cluster 1', norm_hist= True)\n",
    "sn.distplot(df_uncorrelated[df_uncorrelated['cluster_label'] == 2]['global_sentiment_polarity'],\n",
    "            label = 'Cluster 2', norm_hist= True)\n",
    "#sn.distplot(df_uncorrelated[df_uncorrelated['cluster_label'] == 3]['global_sentiment_polarity'],\n",
    "#            label = 'Cluster 3', norm_hist= True)\n",
    "sn.distplot(df_uncorrelated[df_uncorrelated['cluster_label'] == 4]['global_sentiment_polarity'],\n",
    "            label = 'Cluster 4', norm_hist=True)\n",
    "plt.legend();\n",
    "plt.title('Global Sentiment Polarity per cluster');"
   ]
  },
  {
   "cell_type": "markdown",
   "metadata": {},
   "source": [
    "Que es exactamente el cluster 3?"
   ]
  },
  {
   "cell_type": "code",
   "execution_count": null,
   "metadata": {},
   "outputs": [],
   "source": [
    "pandas_profiling.ProfileReport(df_uncorrelated[df_uncorrelated['cluster_label'] == 3])"
   ]
  },
  {
   "cell_type": "code",
   "execution_count": null,
   "metadata": {},
   "outputs": [],
   "source": []
  }
 ],
 "metadata": {
  "kernelspec": {
   "display_name": "Python 3",
   "language": "python",
   "name": "python3"
  },
  "language_info": {
   "codemirror_mode": {
    "name": "ipython",
    "version": 3
   },
   "file_extension": ".py",
   "mimetype": "text/x-python",
   "name": "python",
   "nbconvert_exporter": "python",
   "pygments_lexer": "ipython3",
   "version": "3.7.3"
  }
 },
 "nbformat": 4,
 "nbformat_minor": 4
}
