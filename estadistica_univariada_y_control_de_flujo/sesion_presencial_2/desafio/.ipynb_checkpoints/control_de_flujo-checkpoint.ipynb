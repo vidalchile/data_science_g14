{
 "cells": [
  {
   "cell_type": "markdown",
   "metadata": {},
   "source": [
    "# Desafío - Control de Flujo"
   ]
  },
  {
   "cell_type": "markdown",
   "metadata": {},
   "source": [
    "## Cristian Vidal Muñoz"
   ]
  },
  {
   "cell_type": "markdown",
   "metadata": {},
   "source": [
    "### Desafío 1\n",
    "Generar un par de arrays ficticios con numpy\n",
    "* tip: utilice la función linspace para generar un array entre 1 y 50, y un array entre 50 y 150."
   ]
  },
  {
   "cell_type": "code",
   "execution_count": 1,
   "metadata": {},
   "outputs": [],
   "source": [
    "import numpy as np"
   ]
  },
  {
   "cell_type": "code",
   "execution_count": 2,
   "metadata": {},
   "outputs": [],
   "source": [
    "arreglo_uno = np.linspace(start=1,stop=50, dtype = int)\n",
    "arreglo_dos = np.linspace(start=50,stop=150, num=101, dtype = int)"
   ]
  },
  {
   "cell_type": "code",
   "execution_count": 3,
   "metadata": {},
   "outputs": [
    {
     "data": {
      "text/plain": [
       "array([ 1,  2,  3,  4,  5,  6,  7,  8,  9, 10, 11, 12, 13, 14, 15, 16, 17,\n",
       "       18, 19, 20, 21, 22, 23, 24, 25, 26, 27, 28, 29, 30, 31, 32, 33, 34,\n",
       "       35, 36, 37, 38, 39, 40, 41, 42, 43, 44, 45, 46, 47, 48, 49, 50])"
      ]
     },
     "execution_count": 3,
     "metadata": {},
     "output_type": "execute_result"
    }
   ],
   "source": [
    "arreglo_uno"
   ]
  },
  {
   "cell_type": "code",
   "execution_count": 4,
   "metadata": {},
   "outputs": [
    {
     "data": {
      "text/plain": [
       "array([ 50,  51,  52,  53,  54,  55,  56,  57,  58,  59,  60,  61,  62,\n",
       "        63,  64,  65,  66,  67,  68,  69,  70,  71,  72,  73,  74,  75,\n",
       "        76,  77,  78,  79,  80,  81,  82,  83,  84,  85,  86,  87,  88,\n",
       "        89,  90,  91,  92,  93,  94,  95,  96,  97,  98,  99, 100, 101,\n",
       "       102, 103, 104, 105, 106, 107, 108, 109, 110, 111, 112, 113, 114,\n",
       "       115, 116, 117, 118, 119, 120, 121, 122, 123, 124, 125, 126, 127,\n",
       "       128, 129, 130, 131, 132, 133, 134, 135, 136, 137, 138, 139, 140,\n",
       "       141, 142, 143, 144, 145, 146, 147, 148, 149, 150])"
      ]
     },
     "execution_count": 4,
     "metadata": {},
     "output_type": "execute_result"
    }
   ],
   "source": [
    "arreglo_dos"
   ]
  },
  {
   "cell_type": "markdown",
   "metadata": {},
   "source": [
    "### Desafío 2\n",
    "Ejecute un loop que devuelva si el número en el primer array es par o impar\n",
    "* tip: utilice la función módulo para encontrar si el número es divisible por 2"
   ]
  },
  {
   "cell_type": "code",
   "execution_count": 5,
   "metadata": {},
   "outputs": [
    {
     "name": "stdout",
     "output_type": "stream",
     "text": [
      "El número 1 es impar\n",
      "El número 2 es par\n",
      "El número 3 es impar\n",
      "El número 4 es par\n",
      "El número 5 es impar\n",
      "El número 6 es par\n",
      "El número 7 es impar\n",
      "El número 8 es par\n",
      "El número 9 es impar\n",
      "El número 10 es par\n",
      "El número 11 es impar\n",
      "El número 12 es par\n",
      "El número 13 es impar\n",
      "El número 14 es par\n",
      "El número 15 es impar\n",
      "El número 16 es par\n",
      "El número 17 es impar\n",
      "El número 18 es par\n",
      "El número 19 es impar\n",
      "El número 20 es par\n",
      "El número 21 es impar\n",
      "El número 22 es par\n",
      "El número 23 es impar\n",
      "El número 24 es par\n",
      "El número 25 es impar\n",
      "El número 26 es par\n",
      "El número 27 es impar\n",
      "El número 28 es par\n",
      "El número 29 es impar\n",
      "El número 30 es par\n",
      "El número 31 es impar\n",
      "El número 32 es par\n",
      "El número 33 es impar\n",
      "El número 34 es par\n",
      "El número 35 es impar\n",
      "El número 36 es par\n",
      "El número 37 es impar\n",
      "El número 38 es par\n",
      "El número 39 es impar\n",
      "El número 40 es par\n",
      "El número 41 es impar\n",
      "El número 42 es par\n",
      "El número 43 es impar\n",
      "El número 44 es par\n",
      "El número 45 es impar\n",
      "El número 46 es par\n",
      "El número 47 es impar\n",
      "El número 48 es par\n",
      "El número 49 es impar\n",
      "El número 50 es par\n"
     ]
    }
   ],
   "source": [
    "for numero in arreglo_uno:\n",
    "    if numero %2 == 0:\n",
    "        print('El número {} es par'.format(numero))\n",
    "    else:\n",
    "        print('El número {} es impar'.format(numero))"
   ]
  },
  {
   "cell_type": "markdown",
   "metadata": {},
   "source": [
    "### Desafío 3\n",
    "Genere un loop con el segundo array que cuente las siguientes condiciones\n",
    "* Si el número es divisible por 2 o 3\n",
    "* Si el número es divisible por 2 y 3\n",
    "* Si el número es divisible por 3 pero no por 2\n",
    "* si el número no es divisible por 2 ni 3"
   ]
  },
  {
   "cell_type": "code",
   "execution_count": 6,
   "metadata": {},
   "outputs": [
    {
     "name": "stdout",
     "output_type": "stream",
     "text": [
      "El número 50 es divisible por 2 o 3\n",
      "El número 51 es divisible por 2 o 3\n",
      "El número 51 es divisible por 3 pero no por 2\n",
      "El número 52 es divisible por 2 o 3\n",
      "El número 53 no es divisible por 2 ni 3\n",
      "El número 54 es divisible por 2 o 3\n",
      "El número 54 es divisible por 2 y 3\n",
      "El número 55 no es divisible por 2 ni 3\n",
      "El número 56 es divisible por 2 o 3\n",
      "El número 57 es divisible por 2 o 3\n",
      "El número 57 es divisible por 3 pero no por 2\n",
      "El número 58 es divisible por 2 o 3\n",
      "El número 59 no es divisible por 2 ni 3\n",
      "El número 60 es divisible por 2 o 3\n",
      "El número 60 es divisible por 2 y 3\n",
      "El número 61 no es divisible por 2 ni 3\n",
      "El número 62 es divisible por 2 o 3\n",
      "El número 63 es divisible por 2 o 3\n",
      "El número 63 es divisible por 3 pero no por 2\n",
      "El número 64 es divisible por 2 o 3\n",
      "El número 65 no es divisible por 2 ni 3\n",
      "El número 66 es divisible por 2 o 3\n",
      "El número 66 es divisible por 2 y 3\n",
      "El número 67 no es divisible por 2 ni 3\n",
      "El número 68 es divisible por 2 o 3\n",
      "El número 69 es divisible por 2 o 3\n",
      "El número 69 es divisible por 3 pero no por 2\n",
      "El número 70 es divisible por 2 o 3\n",
      "El número 71 no es divisible por 2 ni 3\n",
      "El número 72 es divisible por 2 o 3\n",
      "El número 72 es divisible por 2 y 3\n",
      "El número 73 no es divisible por 2 ni 3\n",
      "El número 74 es divisible por 2 o 3\n",
      "El número 75 es divisible por 2 o 3\n",
      "El número 75 es divisible por 3 pero no por 2\n",
      "El número 76 es divisible por 2 o 3\n",
      "El número 77 no es divisible por 2 ni 3\n",
      "El número 78 es divisible por 2 o 3\n",
      "El número 78 es divisible por 2 y 3\n",
      "El número 79 no es divisible por 2 ni 3\n",
      "El número 80 es divisible por 2 o 3\n",
      "El número 81 es divisible por 2 o 3\n",
      "El número 81 es divisible por 3 pero no por 2\n",
      "El número 82 es divisible por 2 o 3\n",
      "El número 83 no es divisible por 2 ni 3\n",
      "El número 84 es divisible por 2 o 3\n",
      "El número 84 es divisible por 2 y 3\n",
      "El número 85 no es divisible por 2 ni 3\n",
      "El número 86 es divisible por 2 o 3\n",
      "El número 87 es divisible por 2 o 3\n",
      "El número 87 es divisible por 3 pero no por 2\n",
      "El número 88 es divisible por 2 o 3\n",
      "El número 89 no es divisible por 2 ni 3\n",
      "El número 90 es divisible por 2 o 3\n",
      "El número 90 es divisible por 2 y 3\n",
      "El número 91 no es divisible por 2 ni 3\n",
      "El número 92 es divisible por 2 o 3\n",
      "El número 93 es divisible por 2 o 3\n",
      "El número 93 es divisible por 3 pero no por 2\n",
      "El número 94 es divisible por 2 o 3\n",
      "El número 95 no es divisible por 2 ni 3\n",
      "El número 96 es divisible por 2 o 3\n",
      "El número 96 es divisible por 2 y 3\n",
      "El número 97 no es divisible por 2 ni 3\n",
      "El número 98 es divisible por 2 o 3\n",
      "El número 99 es divisible por 2 o 3\n",
      "El número 99 es divisible por 3 pero no por 2\n",
      "El número 100 es divisible por 2 o 3\n",
      "El número 101 no es divisible por 2 ni 3\n",
      "El número 102 es divisible por 2 o 3\n",
      "El número 102 es divisible por 2 y 3\n",
      "El número 103 no es divisible por 2 ni 3\n",
      "El número 104 es divisible por 2 o 3\n",
      "El número 105 es divisible por 2 o 3\n",
      "El número 105 es divisible por 3 pero no por 2\n",
      "El número 106 es divisible por 2 o 3\n",
      "El número 107 no es divisible por 2 ni 3\n",
      "El número 108 es divisible por 2 o 3\n",
      "El número 108 es divisible por 2 y 3\n",
      "El número 109 no es divisible por 2 ni 3\n",
      "El número 110 es divisible por 2 o 3\n",
      "El número 111 es divisible por 2 o 3\n",
      "El número 111 es divisible por 3 pero no por 2\n",
      "El número 112 es divisible por 2 o 3\n",
      "El número 113 no es divisible por 2 ni 3\n",
      "El número 114 es divisible por 2 o 3\n",
      "El número 114 es divisible por 2 y 3\n",
      "El número 115 no es divisible por 2 ni 3\n",
      "El número 116 es divisible por 2 o 3\n",
      "El número 117 es divisible por 2 o 3\n",
      "El número 117 es divisible por 3 pero no por 2\n",
      "El número 118 es divisible por 2 o 3\n",
      "El número 119 no es divisible por 2 ni 3\n",
      "El número 120 es divisible por 2 o 3\n",
      "El número 120 es divisible por 2 y 3\n",
      "El número 121 no es divisible por 2 ni 3\n",
      "El número 122 es divisible por 2 o 3\n",
      "El número 123 es divisible por 2 o 3\n",
      "El número 123 es divisible por 3 pero no por 2\n",
      "El número 124 es divisible por 2 o 3\n",
      "El número 125 no es divisible por 2 ni 3\n",
      "El número 126 es divisible por 2 o 3\n",
      "El número 126 es divisible por 2 y 3\n",
      "El número 127 no es divisible por 2 ni 3\n",
      "El número 128 es divisible por 2 o 3\n",
      "El número 129 es divisible por 2 o 3\n",
      "El número 129 es divisible por 3 pero no por 2\n",
      "El número 130 es divisible por 2 o 3\n",
      "El número 131 no es divisible por 2 ni 3\n",
      "El número 132 es divisible por 2 o 3\n",
      "El número 132 es divisible por 2 y 3\n",
      "El número 133 no es divisible por 2 ni 3\n",
      "El número 134 es divisible por 2 o 3\n",
      "El número 135 es divisible por 2 o 3\n",
      "El número 135 es divisible por 3 pero no por 2\n",
      "El número 136 es divisible por 2 o 3\n",
      "El número 137 no es divisible por 2 ni 3\n",
      "El número 138 es divisible por 2 o 3\n",
      "El número 138 es divisible por 2 y 3\n",
      "El número 139 no es divisible por 2 ni 3\n",
      "El número 140 es divisible por 2 o 3\n",
      "El número 141 es divisible por 2 o 3\n",
      "El número 141 es divisible por 3 pero no por 2\n",
      "El número 142 es divisible por 2 o 3\n",
      "El número 143 no es divisible por 2 ni 3\n",
      "El número 144 es divisible por 2 o 3\n",
      "El número 144 es divisible por 2 y 3\n",
      "El número 145 no es divisible por 2 ni 3\n",
      "El número 146 es divisible por 2 o 3\n",
      "El número 147 es divisible por 2 o 3\n",
      "El número 147 es divisible por 3 pero no por 2\n",
      "El número 148 es divisible por 2 o 3\n",
      "El número 149 no es divisible por 2 ni 3\n",
      "El número 150 es divisible por 2 o 3\n",
      "El número 150 es divisible por 2 y 3\n"
     ]
    }
   ],
   "source": [
    "for numero in arreglo_dos:\n",
    "    if numero %2 == 0 or numero %3 == 0:\n",
    "        print('El número {} es divisible por 2 o 3'.format(numero))\n",
    "    if numero %2 == 0 and numero %3 == 0:\n",
    "        print('El número {} es divisible por 2 y 3'.format(numero))\n",
    "    if numero %3 == 0 and numero %2 != 0:\n",
    "        print('El número {} es divisible por 3 pero no por 2'.format(numero))\n",
    "    if numero %3 != 0 and numero %2 != 0:\n",
    "        print('El número {} no es divisible por 2 ni 3'.format(numero))  "
   ]
  },
  {
   "cell_type": "markdown",
   "metadata": {},
   "source": [
    "### Desafío 4\n",
    "Corrección de errores"
   ]
  },
  {
   "cell_type": "code",
   "execution_count": 7,
   "metadata": {},
   "outputs": [
    {
     "name": "stdout",
     "output_type": "stream",
     "text": [
      "0\n",
      "1\n",
      "4\n",
      "9\n",
      "16\n",
      "25\n",
      "36\n",
      "49\n",
      "64\n",
      "81\n",
      "100\n",
      "121\n",
      "144\n",
      "169\n",
      "196\n",
      "225\n",
      "256\n",
      "289\n",
      "324\n",
      "361\n",
      "400\n",
      "441\n",
      "484\n",
      "529\n",
      "576\n",
      "625\n",
      "676\n",
      "729\n",
      "784\n",
      "841\n",
      "900\n",
      "961\n",
      "1024\n",
      "1089\n",
      "1156\n",
      "1225\n",
      "1296\n",
      "1369\n",
      "1444\n",
      "1521\n",
      "1600\n",
      "1681\n",
      "1764\n",
      "1849\n",
      "1936\n",
      "2025\n",
      "2116\n",
      "2209\n",
      "2304\n",
      "2401\n",
      "2500\n",
      "2601\n",
      "2704\n",
      "2809\n",
      "2916\n",
      "3025\n",
      "3136\n",
      "3249\n",
      "3364\n",
      "3481\n",
      "3600\n",
      "3721\n",
      "3844\n",
      "3969\n",
      "4096\n",
      "4225\n",
      "4356\n",
      "4489\n",
      "4624\n",
      "4761\n",
      "4900\n",
      "5041\n",
      "5184\n",
      "5329\n",
      "5476\n",
      "5625\n",
      "5776\n",
      "5929\n",
      "6084\n",
      "6241\n",
      "6400\n",
      "6561\n",
      "6724\n",
      "6889\n",
      "7056\n",
      "7225\n",
      "7396\n",
      "7569\n",
      "7744\n",
      "7921\n",
      "8100\n",
      "8281\n",
      "8464\n",
      "8649\n",
      "8836\n",
      "9025\n",
      "9216\n",
      "9409\n",
      "9604\n",
      "9801\n"
     ]
    }
   ],
   "source": [
    "for i in range(100):\n",
    "    print(i**2)"
   ]
  },
  {
   "cell_type": "markdown",
   "metadata": {},
   "source": [
    "### Desafío 5\n",
    "* Utilizando la misma base flights.csv hacer un loop y clasificar los meses con una cantidad\n",
    "de pasajeros menor a la media"
   ]
  },
  {
   "cell_type": "code",
   "execution_count": 10,
   "metadata": {},
   "outputs": [],
   "source": [
    "import pandas as pd\n",
    "import numpy as np\n",
    "\n",
    "df = pd.read_csv('flights.csv')"
   ]
  },
  {
   "cell_type": "markdown",
   "metadata": {},
   "source": [
    "* Para ello, generen un nuevo objeto que represente la media de passengers"
   ]
  },
  {
   "cell_type": "code",
   "execution_count": 11,
   "metadata": {},
   "outputs": [],
   "source": [
    "media_passengers = df['passengers'].mean()"
   ]
  },
  {
   "cell_type": "code",
   "execution_count": null,
   "metadata": {},
   "outputs": [],
   "source": [
    "media_passengers"
   ]
  },
  {
   "cell_type": "markdown",
   "metadata": {},
   "source": [
    "* Generen una columna en la base de datos que se llame underperforming y asígnele 0."
   ]
  },
  {
   "cell_type": "code",
   "execution_count": null,
   "metadata": {},
   "outputs": [],
   "source": [
    "df['underperforming'] = 0"
   ]
  },
  {
   "cell_type": "code",
   "execution_count": null,
   "metadata": {},
   "outputs": [],
   "source": [
    "df.head()"
   ]
  },
  {
   "cell_type": "markdown",
   "metadata": {},
   "source": [
    "* Ejecuten un loop que recorra cada observación de passengers , donde si la observación es menor a la media de passengers se le asigne a underperforming un 1.\n",
    "* Para asignar unos en la columna underperforming ya creada, utilice la función set_value"
   ]
  },
  {
   "cell_type": "code",
   "execution_count": null,
   "metadata": {},
   "outputs": [],
   "source": [
    "for indice, rowseries in df.iterrows():\n",
    "    if rowseries['passengers'] < media_passengers:\n",
    "        #df.set_value(indice, 'underperforming', 1)\n",
    "        df.at[indice, 'underperforming'] = 1"
   ]
  },
  {
   "cell_type": "code",
   "execution_count": null,
   "metadata": {},
   "outputs": [],
   "source": [
    "df.sample(10)"
   ]
  },
  {
   "cell_type": "markdown",
   "metadata": {},
   "source": [
    "### Desafío 6\n",
    "* Hacer un loop que clasifique los meses donde la cantidad de pasajeros se escapa de la tendencia."
   ]
  },
  {
   "cell_type": "markdown",
   "metadata": {},
   "source": [
    "* Para ello, genere dos objetos que guarden la media general y la desviación estandar general de passengers ."
   ]
  },
  {
   "cell_type": "code",
   "execution_count": null,
   "metadata": {},
   "outputs": [],
   "source": [
    "media_general_passengers = df[\"passengers\"].mean()\n",
    "desviacion_estandar_passengers = np.std(df[\"passengers\"])"
   ]
  },
  {
   "cell_type": "code",
   "execution_count": null,
   "metadata": {},
   "outputs": [],
   "source": [
    "media_general_passengers"
   ]
  },
  {
   "cell_type": "code",
   "execution_count": null,
   "metadata": {},
   "outputs": [],
   "source": [
    "desviacion_estandar_passengers"
   ]
  },
  {
   "cell_type": "markdown",
   "metadata": {},
   "source": [
    "* Genere una nueva columna en la tabla de datos que se llame outlier y asignele 0."
   ]
  },
  {
   "cell_type": "code",
   "execution_count": null,
   "metadata": {},
   "outputs": [],
   "source": [
    "df['outlier'] = 0"
   ]
  },
  {
   "cell_type": "code",
   "execution_count": null,
   "metadata": {},
   "outputs": [],
   "source": [
    "df.head()"
   ]
  },
  {
   "cell_type": "markdown",
   "metadata": {},
   "source": [
    "* Ejecuten un loop que recorra cada observación de passengers , donde si la observación se escapa de la tendencia sea 1, de lo contrario 0.\n",
    "* Para clasificar los casos que se escapen la tendencia, la observación debe satisfacer una de las siguientes condiciones:\n",
    "    - La observación debe ser menor a la media menos la desviación estándar, o\n",
    "    - La observación debe ser mayor a la media más la desviación estándar"
   ]
  },
  {
   "cell_type": "code",
   "execution_count": null,
   "metadata": {},
   "outputs": [],
   "source": [
    "for indice, rowseries in df.iterrows():\n",
    "    if rowseries['passengers'] < (media_general_passengers - desviacion_estandar_passengers):\n",
    "        #df.set_value(indice, 'outlier', 1)\n",
    "        df.at[indice, 'outlier'] = 1\n",
    "    if rowseries['passengers'] > (media_general_passengers + desviacion_estandar_passengers):\n",
    "        #df.set_value(indice, 'outlier', 1)\n",
    "        df.at[indice, 'outlier'] = 1"
   ]
  },
  {
   "cell_type": "code",
   "execution_count": null,
   "metadata": {},
   "outputs": [],
   "source": [
    "df.sample(5)"
   ]
  },
  {
   "cell_type": "markdown",
   "metadata": {},
   "source": [
    "* ¿Cuántas observaciones se pueden clasificar como casos extremos?"
   ]
  },
  {
   "cell_type": "code",
   "execution_count": null,
   "metadata": {},
   "outputs": [],
   "source": [
    "casos_extremos = df[df['outlier'] == 1]"
   ]
  },
  {
   "cell_type": "code",
   "execution_count": null,
   "metadata": {},
   "outputs": [],
   "source": [
    "cantidad_casos_extremos = len(casos_extremos)"
   ]
  },
  {
   "cell_type": "code",
   "execution_count": null,
   "metadata": {},
   "outputs": [],
   "source": [
    "cantidad_casos_extremos"
   ]
  },
  {
   "cell_type": "code",
   "execution_count": null,
   "metadata": {},
   "outputs": [],
   "source": [
    "df['outlier'].value_counts()"
   ]
  },
  {
   "cell_type": "markdown",
   "metadata": {},
   "source": [
    "### Se puede observar que existen 53 observaciones consideradas como casos extremos "
   ]
  }
 ],
 "metadata": {
  "kernelspec": {
   "display_name": "Python 3",
   "language": "python",
   "name": "python3"
  },
  "language_info": {
   "codemirror_mode": {
    "name": "ipython",
    "version": 3
   },
   "file_extension": ".py",
   "mimetype": "text/x-python",
   "name": "python",
   "nbconvert_exporter": "python",
   "pygments_lexer": "ipython3",
   "version": "3.7.3"
  }
 },
 "nbformat": 4,
 "nbformat_minor": 2
}
