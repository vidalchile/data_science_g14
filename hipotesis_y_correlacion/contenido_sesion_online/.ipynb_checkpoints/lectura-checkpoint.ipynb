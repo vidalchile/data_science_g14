{
 "cells": [
  {
   "cell_type": "markdown",
   "metadata": {},
   "source": [
    "## Hipótesis y correlación"
   ]
  },
  {
   "cell_type": "code",
   "execution_count": 1,
   "metadata": {},
   "outputs": [],
   "source": [
    "%matplotlib inline\n",
    "# importamos la triada de Data Science\n",
    "import numpy as np\n",
    "import pandas as pd\n",
    "import matplotlib.pyplot as plt\n",
    "# importamos scipy.stats que ayudará a generar distribuciones\n",
    "import scipy.stats as stats\n",
    "# importamos seaborn, siguiendo la convención de renombrarlo como sns\n",
    "import seaborn as sns\n",
    "# archivo con funciones de visualización\n",
    "import lec4_graphs as gfx\n",
    "# evitar warnings y deprecaciones\n",
    "import warnings\n",
    "warnings.filterwarnings(action=\"ignore\")\n",
    "plt.style.use('seaborn') # gráficos estilo seaborn\n",
    "plt.style.use('seaborn') # gráficos estilo seaborn\n",
    "plt.rcParams[\"figure.figsize\"] = (6,4) # Tamaño gráficos\n",
    "plt.rcParams[\"figure.dpi\"] = 400 # resolución gráficos\n",
    "\n",
    "#plt.rcParams[\"figure.figsize\"] = (60, 20) # Tamaño gráficos\n",
    "#plt.rcParams[\"figure.dpi\"] = 600 # resolución gráficos\n",
    "# importamos la base de datos\n",
    "df = pd.read_csv('qog_std_cs_jan18.csv')"
   ]
  },
  {
   "cell_type": "code",
   "execution_count": 2,
   "metadata": {},
   "outputs": [
    {
     "data": {
      "text/html": [
       "<div>\n",
       "<style scoped>\n",
       "    .dataframe tbody tr th:only-of-type {\n",
       "        vertical-align: middle;\n",
       "    }\n",
       "\n",
       "    .dataframe tbody tr th {\n",
       "        vertical-align: top;\n",
       "    }\n",
       "\n",
       "    .dataframe thead th {\n",
       "        text-align: right;\n",
       "    }\n",
       "</style>\n",
       "<table border=\"1\" class=\"dataframe\">\n",
       "  <thead>\n",
       "    <tr style=\"text-align: right;\">\n",
       "      <th></th>\n",
       "      <th>ccode</th>\n",
       "      <th>cname</th>\n",
       "      <th>ccodealp</th>\n",
       "      <th>ccodecow</th>\n",
       "      <th>ccodewb</th>\n",
       "      <th>version</th>\n",
       "      <th>aid_cpnc</th>\n",
       "      <th>aid_cpsc</th>\n",
       "      <th>aid_crnc</th>\n",
       "      <th>aid_crnio</th>\n",
       "      <th>...</th>\n",
       "      <th>wvs_relacc</th>\n",
       "      <th>wvs_relsch</th>\n",
       "      <th>wvs_relsci</th>\n",
       "      <th>wvs_satfin</th>\n",
       "      <th>wvs_satlif</th>\n",
       "      <th>wvs_screl</th>\n",
       "      <th>wvs_subh</th>\n",
       "      <th>wvs_survself</th>\n",
       "      <th>wvs_tradrat</th>\n",
       "      <th>wvs_trust</th>\n",
       "    </tr>\n",
       "  </thead>\n",
       "  <tbody>\n",
       "    <tr>\n",
       "      <th>0</th>\n",
       "      <td>4</td>\n",
       "      <td>Afghanistan</td>\n",
       "      <td>AFG</td>\n",
       "      <td>700.0</td>\n",
       "      <td>4.0</td>\n",
       "      <td>QoGStdCSJan18</td>\n",
       "      <td>NaN</td>\n",
       "      <td>NaN</td>\n",
       "      <td>29.0</td>\n",
       "      <td>13.0</td>\n",
       "      <td>...</td>\n",
       "      <td>NaN</td>\n",
       "      <td>NaN</td>\n",
       "      <td>NaN</td>\n",
       "      <td>NaN</td>\n",
       "      <td>NaN</td>\n",
       "      <td>NaN</td>\n",
       "      <td>NaN</td>\n",
       "      <td>NaN</td>\n",
       "      <td>NaN</td>\n",
       "      <td>NaN</td>\n",
       "    </tr>\n",
       "    <tr>\n",
       "      <th>1</th>\n",
       "      <td>8</td>\n",
       "      <td>Albania</td>\n",
       "      <td>ALB</td>\n",
       "      <td>339.0</td>\n",
       "      <td>8.0</td>\n",
       "      <td>QoGStdCSJan18</td>\n",
       "      <td>NaN</td>\n",
       "      <td>NaN</td>\n",
       "      <td>26.0</td>\n",
       "      <td>13.0</td>\n",
       "      <td>...</td>\n",
       "      <td>NaN</td>\n",
       "      <td>NaN</td>\n",
       "      <td>NaN</td>\n",
       "      <td>NaN</td>\n",
       "      <td>NaN</td>\n",
       "      <td>NaN</td>\n",
       "      <td>NaN</td>\n",
       "      <td>NaN</td>\n",
       "      <td>NaN</td>\n",
       "      <td>NaN</td>\n",
       "    </tr>\n",
       "    <tr>\n",
       "      <th>2</th>\n",
       "      <td>12</td>\n",
       "      <td>Algeria</td>\n",
       "      <td>DZA</td>\n",
       "      <td>615.0</td>\n",
       "      <td>12.0</td>\n",
       "      <td>QoGStdCSJan18</td>\n",
       "      <td>NaN</td>\n",
       "      <td>NaN</td>\n",
       "      <td>21.0</td>\n",
       "      <td>6.0</td>\n",
       "      <td>...</td>\n",
       "      <td>3.710616</td>\n",
       "      <td>1.704692</td>\n",
       "      <td>3.681347</td>\n",
       "      <td>5.988125</td>\n",
       "      <td>6.301029</td>\n",
       "      <td>5.339371</td>\n",
       "      <td>3.805579</td>\n",
       "      <td>-0.409807</td>\n",
       "      <td>-0.498164</td>\n",
       "      <td>0.179286</td>\n",
       "    </tr>\n",
       "    <tr>\n",
       "      <th>3</th>\n",
       "      <td>20</td>\n",
       "      <td>Andorra</td>\n",
       "      <td>AND</td>\n",
       "      <td>232.0</td>\n",
       "      <td>20.0</td>\n",
       "      <td>QoGStdCSJan18</td>\n",
       "      <td>NaN</td>\n",
       "      <td>NaN</td>\n",
       "      <td>NaN</td>\n",
       "      <td>NaN</td>\n",
       "      <td>...</td>\n",
       "      <td>NaN</td>\n",
       "      <td>NaN</td>\n",
       "      <td>NaN</td>\n",
       "      <td>NaN</td>\n",
       "      <td>NaN</td>\n",
       "      <td>NaN</td>\n",
       "      <td>NaN</td>\n",
       "      <td>NaN</td>\n",
       "      <td>NaN</td>\n",
       "      <td>NaN</td>\n",
       "    </tr>\n",
       "    <tr>\n",
       "      <th>4</th>\n",
       "      <td>24</td>\n",
       "      <td>Angola</td>\n",
       "      <td>AGO</td>\n",
       "      <td>540.0</td>\n",
       "      <td>24.0</td>\n",
       "      <td>QoGStdCSJan18</td>\n",
       "      <td>NaN</td>\n",
       "      <td>NaN</td>\n",
       "      <td>22.0</td>\n",
       "      <td>13.0</td>\n",
       "      <td>...</td>\n",
       "      <td>NaN</td>\n",
       "      <td>NaN</td>\n",
       "      <td>NaN</td>\n",
       "      <td>NaN</td>\n",
       "      <td>NaN</td>\n",
       "      <td>NaN</td>\n",
       "      <td>NaN</td>\n",
       "      <td>NaN</td>\n",
       "      <td>NaN</td>\n",
       "      <td>NaN</td>\n",
       "    </tr>\n",
       "    <tr>\n",
       "      <th>5</th>\n",
       "      <td>28</td>\n",
       "      <td>Antigua and Barbuda</td>\n",
       "      <td>ATG</td>\n",
       "      <td>58.0</td>\n",
       "      <td>28.0</td>\n",
       "      <td>QoGStdCSJan18</td>\n",
       "      <td>NaN</td>\n",
       "      <td>NaN</td>\n",
       "      <td>11.0</td>\n",
       "      <td>3.0</td>\n",
       "      <td>...</td>\n",
       "      <td>NaN</td>\n",
       "      <td>NaN</td>\n",
       "      <td>NaN</td>\n",
       "      <td>NaN</td>\n",
       "      <td>NaN</td>\n",
       "      <td>NaN</td>\n",
       "      <td>NaN</td>\n",
       "      <td>NaN</td>\n",
       "      <td>NaN</td>\n",
       "      <td>NaN</td>\n",
       "    </tr>\n",
       "    <tr>\n",
       "      <th>6</th>\n",
       "      <td>31</td>\n",
       "      <td>Azerbaijan</td>\n",
       "      <td>AZE</td>\n",
       "      <td>373.0</td>\n",
       "      <td>31.0</td>\n",
       "      <td>QoGStdCSJan18</td>\n",
       "      <td>NaN</td>\n",
       "      <td>NaN</td>\n",
       "      <td>25.0</td>\n",
       "      <td>15.0</td>\n",
       "      <td>...</td>\n",
       "      <td>2.922372</td>\n",
       "      <td>2.025111</td>\n",
       "      <td>2.305843</td>\n",
       "      <td>5.581910</td>\n",
       "      <td>6.662893</td>\n",
       "      <td>4.948389</td>\n",
       "      <td>3.753472</td>\n",
       "      <td>-0.667609</td>\n",
       "      <td>-0.416085</td>\n",
       "      <td>0.152803</td>\n",
       "    </tr>\n",
       "    <tr>\n",
       "      <th>7</th>\n",
       "      <td>32</td>\n",
       "      <td>Argentina</td>\n",
       "      <td>ARG</td>\n",
       "      <td>160.0</td>\n",
       "      <td>32.0</td>\n",
       "      <td>QoGStdCSJan18</td>\n",
       "      <td>NaN</td>\n",
       "      <td>NaN</td>\n",
       "      <td>23.0</td>\n",
       "      <td>7.0</td>\n",
       "      <td>...</td>\n",
       "      <td>1.850180</td>\n",
       "      <td>2.163982</td>\n",
       "      <td>2.091454</td>\n",
       "      <td>6.517899</td>\n",
       "      <td>7.488213</td>\n",
       "      <td>6.504242</td>\n",
       "      <td>3.989496</td>\n",
       "      <td>0.161507</td>\n",
       "      <td>-0.103415</td>\n",
       "      <td>0.198548</td>\n",
       "    </tr>\n",
       "    <tr>\n",
       "      <th>8</th>\n",
       "      <td>36</td>\n",
       "      <td>Australia</td>\n",
       "      <td>AUS</td>\n",
       "      <td>900.0</td>\n",
       "      <td>36.0</td>\n",
       "      <td>QoGStdCSJan18</td>\n",
       "      <td>134.0</td>\n",
       "      <td>2.866382e+09</td>\n",
       "      <td>NaN</td>\n",
       "      <td>NaN</td>\n",
       "      <td>...</td>\n",
       "      <td>1.606337</td>\n",
       "      <td>2.209082</td>\n",
       "      <td>1.755517</td>\n",
       "      <td>6.321970</td>\n",
       "      <td>7.203336</td>\n",
       "      <td>4.063055</td>\n",
       "      <td>4.069681</td>\n",
       "      <td>1.044364</td>\n",
       "      <td>0.422270</td>\n",
       "      <td>0.518140</td>\n",
       "    </tr>\n",
       "    <tr>\n",
       "      <th>9</th>\n",
       "      <td>40</td>\n",
       "      <td>Austria</td>\n",
       "      <td>AUT</td>\n",
       "      <td>305.0</td>\n",
       "      <td>40.0</td>\n",
       "      <td>QoGStdCSJan18</td>\n",
       "      <td>103.0</td>\n",
       "      <td>3.775100e+08</td>\n",
       "      <td>NaN</td>\n",
       "      <td>NaN</td>\n",
       "      <td>...</td>\n",
       "      <td>NaN</td>\n",
       "      <td>NaN</td>\n",
       "      <td>NaN</td>\n",
       "      <td>NaN</td>\n",
       "      <td>NaN</td>\n",
       "      <td>NaN</td>\n",
       "      <td>NaN</td>\n",
       "      <td>NaN</td>\n",
       "      <td>NaN</td>\n",
       "      <td>NaN</td>\n",
       "    </tr>\n",
       "  </tbody>\n",
       "</table>\n",
       "<p>10 rows × 1882 columns</p>\n",
       "</div>"
      ],
      "text/plain": [
       "   ccode                cname ccodealp  ccodecow  ccodewb        version  \\\n",
       "0      4          Afghanistan      AFG     700.0      4.0  QoGStdCSJan18   \n",
       "1      8              Albania      ALB     339.0      8.0  QoGStdCSJan18   \n",
       "2     12              Algeria      DZA     615.0     12.0  QoGStdCSJan18   \n",
       "3     20              Andorra      AND     232.0     20.0  QoGStdCSJan18   \n",
       "4     24               Angola      AGO     540.0     24.0  QoGStdCSJan18   \n",
       "5     28  Antigua and Barbuda      ATG      58.0     28.0  QoGStdCSJan18   \n",
       "6     31           Azerbaijan      AZE     373.0     31.0  QoGStdCSJan18   \n",
       "7     32            Argentina      ARG     160.0     32.0  QoGStdCSJan18   \n",
       "8     36            Australia      AUS     900.0     36.0  QoGStdCSJan18   \n",
       "9     40              Austria      AUT     305.0     40.0  QoGStdCSJan18   \n",
       "\n",
       "   aid_cpnc      aid_cpsc  aid_crnc  aid_crnio  ...  wvs_relacc  wvs_relsch  \\\n",
       "0       NaN           NaN      29.0       13.0  ...         NaN         NaN   \n",
       "1       NaN           NaN      26.0       13.0  ...         NaN         NaN   \n",
       "2       NaN           NaN      21.0        6.0  ...    3.710616    1.704692   \n",
       "3       NaN           NaN       NaN        NaN  ...         NaN         NaN   \n",
       "4       NaN           NaN      22.0       13.0  ...         NaN         NaN   \n",
       "5       NaN           NaN      11.0        3.0  ...         NaN         NaN   \n",
       "6       NaN           NaN      25.0       15.0  ...    2.922372    2.025111   \n",
       "7       NaN           NaN      23.0        7.0  ...    1.850180    2.163982   \n",
       "8     134.0  2.866382e+09       NaN        NaN  ...    1.606337    2.209082   \n",
       "9     103.0  3.775100e+08       NaN        NaN  ...         NaN         NaN   \n",
       "\n",
       "   wvs_relsci  wvs_satfin  wvs_satlif  wvs_screl  wvs_subh  wvs_survself  \\\n",
       "0         NaN         NaN         NaN        NaN       NaN           NaN   \n",
       "1         NaN         NaN         NaN        NaN       NaN           NaN   \n",
       "2    3.681347    5.988125    6.301029   5.339371  3.805579     -0.409807   \n",
       "3         NaN         NaN         NaN        NaN       NaN           NaN   \n",
       "4         NaN         NaN         NaN        NaN       NaN           NaN   \n",
       "5         NaN         NaN         NaN        NaN       NaN           NaN   \n",
       "6    2.305843    5.581910    6.662893   4.948389  3.753472     -0.667609   \n",
       "7    2.091454    6.517899    7.488213   6.504242  3.989496      0.161507   \n",
       "8    1.755517    6.321970    7.203336   4.063055  4.069681      1.044364   \n",
       "9         NaN         NaN         NaN        NaN       NaN           NaN   \n",
       "\n",
       "   wvs_tradrat  wvs_trust  \n",
       "0          NaN        NaN  \n",
       "1          NaN        NaN  \n",
       "2    -0.498164   0.179286  \n",
       "3          NaN        NaN  \n",
       "4          NaN        NaN  \n",
       "5          NaN        NaN  \n",
       "6    -0.416085   0.152803  \n",
       "7    -0.103415   0.198548  \n",
       "8     0.422270   0.518140  \n",
       "9          NaN        NaN  \n",
       "\n",
       "[10 rows x 1882 columns]"
      ]
     },
     "execution_count": 2,
     "metadata": {},
     "output_type": "execute_result"
    }
   ],
   "source": [
    "df.head(10)"
   ]
  },
  {
   "cell_type": "markdown",
   "metadata": {},
   "source": [
    "## Refactorizando nuestros gráficos "
   ]
  },
  {
   "cell_type": "code",
   "execution_count": 3,
   "metadata": {},
   "outputs": [
    {
     "data": {
      "image/png": "[encoded data removed]",
      "text/plain": [
       "<Figure size 432x288 with 1 Axes>"
      ]
     },
     "metadata": {
      "needs_background": "light"
     },
     "output_type": "display_data"
    }
   ],
   "source": [
    "plt.hist(df['undp_hdi'].dropna());"
   ]
  },
  {
   "cell_type": "markdown",
   "metadata": {},
   "source": [
    "## seaborn | distplot"
   ]
  },
  {
   "cell_type": "code",
   "execution_count": 4,
   "metadata": {},
   "outputs": [
    {
     "data": {
      "image/png": "[encoded data removed]",
      "text/plain": [
       "<Figure size 432x288 with 1 Axes>"
      ]
     },
     "metadata": {
      "needs_background": "light"
     },
     "output_type": "display_data"
    }
   ],
   "source": [
    "sns.distplot(df['undp_hdi'].dropna(), rug=True,\n",
    "axlabel=\"Indice de Desarrollo Humano\",\n",
    "fit=stats.norm, color='sienna').set_title('Distribución del Indice de Desarrollo Humano');"
   ]
  },
  {
   "cell_type": "code",
   "execution_count": 5,
   "metadata": {},
   "outputs": [
    {
     "data": {
      "image/png": "[encoded data removed]",
      "text/plain": [
       "<Figure size 432x288 with 1 Axes>"
      ]
     },
     "metadata": {
      "needs_background": "light"
     },
     "output_type": "display_data"
    }
   ],
   "source": [
    "# generemos una variable para agregar los nombres asociados a cada número\n",
    "df['region_recod'] = df['ht_region'].replace([1, 2, 3, 4, 5, 6, 7, 8, 9, 10],\n",
    "['EastEurope', 'LatAm', 'NorthAfrica',\n",
    "'SubSaharian', 'WesternDem', 'EastAsia',\n",
    "'SouthEastAsia','SouthAsia','Pacific', 'Caribbean' ])\n",
    "# gráficamos en barras el resultado de value_counts.\n",
    "df['region_recod'].value_counts().plot(kind='bar').set_title('Cantidad de registros por región');"
   ]
  },
  {
   "cell_type": "markdown",
   "metadata": {},
   "source": [
    "## seaborn | countplot"
   ]
  },
  {
   "cell_type": "code",
   "execution_count": 6,
   "metadata": {},
   "outputs": [
    {
     "data": {
      "image/png": "[encoded data removed]",
      "text/plain": [
       "<Figure size 432x288 with 1 Axes>"
      ]
     },
     "metadata": {
      "needs_background": "light"
     },
     "output_type": "display_data"
    }
   ],
   "source": [
    "sns.countplot(y= df['region_recod'],\n",
    "order = df['region_recod'].value_counts().index).set_title('Cantidad de registros por región');"
   ]
  },
  {
   "cell_type": "code",
   "execution_count": 7,
   "metadata": {},
   "outputs": [
    {
     "data": {
      "text/html": [
       "<div>\n",
       "<style scoped>\n",
       "    .dataframe tbody tr th:only-of-type {\n",
       "        vertical-align: middle;\n",
       "    }\n",
       "\n",
       "    .dataframe tbody tr th {\n",
       "        vertical-align: top;\n",
       "    }\n",
       "\n",
       "    .dataframe thead th {\n",
       "        text-align: right;\n",
       "    }\n",
       "</style>\n",
       "<table border=\"1\" class=\"dataframe\">\n",
       "  <thead>\n",
       "    <tr style=\"text-align: right;\">\n",
       "      <th></th>\n",
       "      <th>undp_hdi</th>\n",
       "      <th>ccodealp</th>\n",
       "      <th>cname</th>\n",
       "      <th>ht_region</th>\n",
       "      <th>gle_cgdpc</th>\n",
       "      <th>gol_inst</th>\n",
       "      <th>democracies</th>\n",
       "    </tr>\n",
       "  </thead>\n",
       "  <tbody>\n",
       "    <tr>\n",
       "      <th>94</th>\n",
       "      <td>0.763</td>\n",
       "      <td>LBN</td>\n",
       "      <td>Lebanon</td>\n",
       "      <td>3</td>\n",
       "      <td>14711.97000</td>\n",
       "      <td>0.0</td>\n",
       "      <td>Democracia</td>\n",
       "    </tr>\n",
       "    <tr>\n",
       "      <th>33</th>\n",
       "      <td>0.764</td>\n",
       "      <td>LKA</td>\n",
       "      <td>Sri Lanka</td>\n",
       "      <td>8</td>\n",
       "      <td>5466.87010</td>\n",
       "      <td>2.0</td>\n",
       "      <td>Democracia</td>\n",
       "    </tr>\n",
       "    <tr>\n",
       "      <th>19</th>\n",
       "      <td>0.698</td>\n",
       "      <td>BWA</td>\n",
       "      <td>Botswana</td>\n",
       "      <td>4</td>\n",
       "      <td>12770.73000</td>\n",
       "      <td>NaN</td>\n",
       "      <td>No democracia</td>\n",
       "    </tr>\n",
       "    <tr>\n",
       "      <th>34</th>\n",
       "      <td>0.394</td>\n",
       "      <td>TCD</td>\n",
       "      <td>Chad</td>\n",
       "      <td>4</td>\n",
       "      <td>1651.05000</td>\n",
       "      <td>NaN</td>\n",
       "      <td>No democracia</td>\n",
       "    </tr>\n",
       "    <tr>\n",
       "      <th>145</th>\n",
       "      <td>0.762</td>\n",
       "      <td>KNA</td>\n",
       "      <td>St Kitts and Nevis</td>\n",
       "      <td>10</td>\n",
       "      <td>11237.75000</td>\n",
       "      <td>0.0</td>\n",
       "      <td>Democracia</td>\n",
       "    </tr>\n",
       "    <tr>\n",
       "      <th>148</th>\n",
       "      <td>NaN</td>\n",
       "      <td>SMR</td>\n",
       "      <td>San Marino</td>\n",
       "      <td>5</td>\n",
       "      <td>42664.21100</td>\n",
       "      <td>0.0</td>\n",
       "      <td>Democracia</td>\n",
       "    </tr>\n",
       "    <tr>\n",
       "      <th>59</th>\n",
       "      <td>0.894</td>\n",
       "      <td>FRA</td>\n",
       "      <td>France (1963-)</td>\n",
       "      <td>5</td>\n",
       "      <td>34007.89800</td>\n",
       "      <td>1.0</td>\n",
       "      <td>Democracia</td>\n",
       "    </tr>\n",
       "    <tr>\n",
       "      <th>126</th>\n",
       "      <td>0.525</td>\n",
       "      <td>NGA</td>\n",
       "      <td>Nigeria</td>\n",
       "      <td>4</td>\n",
       "      <td>2246.82010</td>\n",
       "      <td>2.0</td>\n",
       "      <td>Democracia</td>\n",
       "    </tr>\n",
       "    <tr>\n",
       "      <th>187</th>\n",
       "      <td>0.399</td>\n",
       "      <td>BFA</td>\n",
       "      <td>Burkina Faso</td>\n",
       "      <td>4</td>\n",
       "      <td>1095.96000</td>\n",
       "      <td>NaN</td>\n",
       "      <td>No democracia</td>\n",
       "    </tr>\n",
       "    <tr>\n",
       "      <th>54</th>\n",
       "      <td>0.441</td>\n",
       "      <td>ETH</td>\n",
       "      <td>Ethiopia (1993-)</td>\n",
       "      <td>4</td>\n",
       "      <td>900.77002</td>\n",
       "      <td>NaN</td>\n",
       "      <td>No democracia</td>\n",
       "    </tr>\n",
       "    <tr>\n",
       "      <th>114</th>\n",
       "      <td>0.804</td>\n",
       "      <td>MNE</td>\n",
       "      <td>Montenegro</td>\n",
       "      <td>1</td>\n",
       "      <td>14538.52000</td>\n",
       "      <td>NaN</td>\n",
       "      <td>No democracia</td>\n",
       "    </tr>\n",
       "    <tr>\n",
       "      <th>115</th>\n",
       "      <td>0.645</td>\n",
       "      <td>MAR</td>\n",
       "      <td>Morocco</td>\n",
       "      <td>3</td>\n",
       "      <td>3999.56010</td>\n",
       "      <td>NaN</td>\n",
       "      <td>No democracia</td>\n",
       "    </tr>\n",
       "    <tr>\n",
       "      <th>35</th>\n",
       "      <td>0.845</td>\n",
       "      <td>CHL</td>\n",
       "      <td>Chile</td>\n",
       "      <td>2</td>\n",
       "      <td>15519.08000</td>\n",
       "      <td>2.0</td>\n",
       "      <td>Democracia</td>\n",
       "    </tr>\n",
       "    <tr>\n",
       "      <th>75</th>\n",
       "      <td>0.919</td>\n",
       "      <td>ISL</td>\n",
       "      <td>Iceland</td>\n",
       "      <td>5</td>\n",
       "      <td>31313.60900</td>\n",
       "      <td>1.0</td>\n",
       "      <td>Democracia</td>\n",
       "    </tr>\n",
       "    <tr>\n",
       "      <th>14</th>\n",
       "      <td>0.794</td>\n",
       "      <td>BRB</td>\n",
       "      <td>Barbados</td>\n",
       "      <td>10</td>\n",
       "      <td>22888.97100</td>\n",
       "      <td>0.0</td>\n",
       "      <td>Democracia</td>\n",
       "    </tr>\n",
       "    <tr>\n",
       "      <th>6</th>\n",
       "      <td>0.758</td>\n",
       "      <td>AZE</td>\n",
       "      <td>Azerbaijan</td>\n",
       "      <td>1</td>\n",
       "      <td>9793.30960</td>\n",
       "      <td>NaN</td>\n",
       "      <td>No democracia</td>\n",
       "    </tr>\n",
       "    <tr>\n",
       "      <th>150</th>\n",
       "      <td>0.845</td>\n",
       "      <td>SAU</td>\n",
       "      <td>Saudi Arabia</td>\n",
       "      <td>3</td>\n",
       "      <td>20872.71100</td>\n",
       "      <td>NaN</td>\n",
       "      <td>No democracia</td>\n",
       "    </tr>\n",
       "    <tr>\n",
       "      <th>43</th>\n",
       "      <td>0.823</td>\n",
       "      <td>HRV</td>\n",
       "      <td>Croatia</td>\n",
       "      <td>1</td>\n",
       "      <td>18020.41000</td>\n",
       "      <td>1.0</td>\n",
       "      <td>Democracia</td>\n",
       "    </tr>\n",
       "    <tr>\n",
       "      <th>77</th>\n",
       "      <td>0.686</td>\n",
       "      <td>IDN</td>\n",
       "      <td>Indonesia</td>\n",
       "      <td>7</td>\n",
       "      <td>4780.00980</td>\n",
       "      <td>2.0</td>\n",
       "      <td>Democracia</td>\n",
       "    </tr>\n",
       "    <tr>\n",
       "      <th>32</th>\n",
       "      <td>0.347</td>\n",
       "      <td>CAF</td>\n",
       "      <td>Central African Republic</td>\n",
       "      <td>4</td>\n",
       "      <td>690.03998</td>\n",
       "      <td>1.0</td>\n",
       "      <td>Democracia</td>\n",
       "    </tr>\n",
       "  </tbody>\n",
       "</table>\n",
       "</div>"
      ],
      "text/plain": [
       "     undp_hdi ccodealp                     cname  ht_region    gle_cgdpc  \\\n",
       "94      0.763      LBN                   Lebanon          3  14711.97000   \n",
       "33      0.764      LKA                 Sri Lanka          8   5466.87010   \n",
       "19      0.698      BWA                  Botswana          4  12770.73000   \n",
       "34      0.394      TCD                      Chad          4   1651.05000   \n",
       "145     0.762      KNA        St Kitts and Nevis         10  11237.75000   \n",
       "148       NaN      SMR                San Marino          5  42664.21100   \n",
       "59      0.894      FRA            France (1963-)          5  34007.89800   \n",
       "126     0.525      NGA                   Nigeria          4   2246.82010   \n",
       "187     0.399      BFA              Burkina Faso          4   1095.96000   \n",
       "54      0.441      ETH          Ethiopia (1993-)          4    900.77002   \n",
       "114     0.804      MNE                Montenegro          1  14538.52000   \n",
       "115     0.645      MAR                   Morocco          3   3999.56010   \n",
       "35      0.845      CHL                     Chile          2  15519.08000   \n",
       "75      0.919      ISL                   Iceland          5  31313.60900   \n",
       "14      0.794      BRB                  Barbados         10  22888.97100   \n",
       "6       0.758      AZE                Azerbaijan          1   9793.30960   \n",
       "150     0.845      SAU              Saudi Arabia          3  20872.71100   \n",
       "43      0.823      HRV                   Croatia          1  18020.41000   \n",
       "77      0.686      IDN                 Indonesia          7   4780.00980   \n",
       "32      0.347      CAF  Central African Republic          4    690.03998   \n",
       "\n",
       "     gol_inst    democracies  \n",
       "94        0.0     Democracia  \n",
       "33        2.0     Democracia  \n",
       "19        NaN  No democracia  \n",
       "34        NaN  No democracia  \n",
       "145       0.0     Democracia  \n",
       "148       0.0     Democracia  \n",
       "59        1.0     Democracia  \n",
       "126       2.0     Democracia  \n",
       "187       NaN  No democracia  \n",
       "54        NaN  No democracia  \n",
       "114       NaN  No democracia  \n",
       "115       NaN  No democracia  \n",
       "35        2.0     Democracia  \n",
       "75        1.0     Democracia  \n",
       "14        0.0     Democracia  \n",
       "6         NaN  No democracia  \n",
       "150       NaN  No democracia  \n",
       "43        1.0     Democracia  \n",
       "77        2.0     Democracia  \n",
       "32        1.0     Democracia  "
      ]
     },
     "execution_count": 7,
     "metadata": {},
     "output_type": "execute_result"
    }
   ],
   "source": [
    "# generamos una recodificación binaria con np.where\n",
    "df['democracies'] = np.where(df['gol_inst'] <= 2, 'Democracia', 'No democracia')\n",
    "submuestra = df.loc[:,['undp_hdi', 'ccodealp', 'cname', 'ht_region', 'gle_cgdpc', 'gol_inst', 'democracies']]\n",
    "submuestra.sample(20)"
   ]
  },
  {
   "cell_type": "code",
   "execution_count": 8,
   "metadata": {},
   "outputs": [
    {
     "data": {
      "text/plain": [
       "Text(0.5, 1.0, 'Cantidad de gobiernos en cada región, según tipo de gobierno')"
      ]
     },
     "execution_count": 8,
     "metadata": {},
     "output_type": "execute_result"
    },
    {
     "data": {
      "image/png": "[encoded data removed]",
      "text/plain": [
       "<Figure size 432x288 with 1 Axes>"
      ]
     },
     "metadata": {
      "needs_background": "light"
     },
     "output_type": "display_data"
    }
   ],
   "source": [
    "sns.countplot(y = df['region_recod'], hue=df['democracies'],\n",
    "order = df['region_recod'].value_counts().index).set_title('Cantidad de gobiernos en cada región, según tipo de gobierno')"
   ]
  },
  {
   "cell_type": "markdown",
   "metadata": {},
   "source": [
    "## swarmplot"
   ]
  },
  {
   "cell_type": "code",
   "execution_count": 9,
   "metadata": {},
   "outputs": [
    {
     "data": {
      "image/png": "[encoded data removed]",
      "text/plain": [
       "<Figure size 432x288 with 1 Axes>"
      ]
     },
     "metadata": {
      "needs_background": "light"
     },
     "output_type": "display_data"
    }
   ],
   "source": [
    "sns.swarmplot(y=df['region_recod'], x=df['undp_hdi']).set_title('Distribución del IDH por zona geográfica');"
   ]
  },
  {
   "cell_type": "code",
   "execution_count": 10,
   "metadata": {},
   "outputs": [
    {
     "data": {
      "image/png": "[encoded data removed]",
      "text/plain": [
       "<Figure size 432x288 with 1 Axes>"
      ]
     },
     "metadata": {
      "needs_background": "light"
     },
     "output_type": "display_data"
    }
   ],
   "source": [
    "plt.xticks(rotation = 45)\n",
    "sns.swarmplot(x=df['region_recod'], y=df['undp_hdi'], hue = df['democracies']).set_title(\n",
    "'Distribución del IDH por región y tipo de gobierno');"
   ]
  },
  {
   "cell_type": "markdown",
   "metadata": {},
   "source": [
    "## FacetGrid"
   ]
  },
  {
   "cell_type": "markdown",
   "metadata": {},
   "source": [
    "## Iniciar un objeto FacetGrid"
   ]
  },
  {
   "cell_type": "code",
   "execution_count": 11,
   "metadata": {},
   "outputs": [
    {
     "data": {
      "text/plain": [
       "0.0    54\n",
       "2.0    41\n",
       "1.0    32\n",
       "4.0     2\n",
       "Name: gol_inst, dtype: int64"
      ]
     },
     "execution_count": 11,
     "metadata": {},
     "output_type": "execute_result"
    }
   ],
   "source": [
    "df['gol_inst'].value_counts()"
   ]
  },
  {
   "cell_type": "code",
   "execution_count": 12,
   "metadata": {},
   "outputs": [
    {
     "data": {
      "image/png": "[encoded data removed]",
      "text/plain": [
       "<Figure size 432x432 with 4 Axes>"
      ]
     },
     "metadata": {
      "needs_background": "light"
     },
     "output_type": "display_data"
    }
   ],
   "source": [
    "grid = sns.FacetGrid(df, col=\"gol_inst\", col_wrap = 2)"
   ]
  },
  {
   "cell_type": "markdown",
   "metadata": {},
   "source": [
    "## Aplicar gráficos a nuestro objeto"
   ]
  },
  {
   "cell_type": "code",
   "execution_count": 13,
   "metadata": {},
   "outputs": [
    {
     "data": {
      "image/png": "[encoded data removed]",
      "text/plain": [
       "<Figure size 432x432 with 4 Axes>"
      ]
     },
     "metadata": {
      "needs_background": "light"
     },
     "output_type": "display_data"
    }
   ],
   "source": [
    "#sns.set(font_scale=0.8) # Escalamiento de los titulos para que no sean tan grandes\n",
    "grid = sns.FacetGrid(df, col=\"gol_inst\", col_wrap=2)\n",
    "axes = grid.axes.flatten() # Obtener los ejes de ploteo para poder darle titulo a cada grafico\n",
    "axes[0].set_title('gol_inst = 0.0 regímenes parlamentarios')\n",
    "axes[1].set_title('gol_inst = 1.0 semi-presidenciales')\n",
    "axes[2].set_title('gol_inst = 2.0 presidenciales')\n",
    "axes[3].set_title('gol_inst = 4.0 dictaduras militares')\n",
    "grid = grid.map(sns.distplot, \"undp_hdi\")"
   ]
  },
  {
   "cell_type": "markdown",
   "metadata": {},
   "source": [
    "Al visualizar los histogramas, observamos que las distribuciones del índice de desarrollo humano\n",
    "tienden a ser similares entre los regímenes parlamentarios ( gol_inst=0.0 ), semi-presidenciales\n",
    "( gol_inst=1.0 ) y presidenciales ( gol_inst=2.0 ). Se observa que los regímenes presidenciales\n",
    "tienden a presentar niveles de desarrollo más bajo, en comparación a los regímenes parlamentarios\n",
    "y semi parlamentarios.\n",
    "Con respecto al error, si investigamos un poco, encontraremos que el error con el que nos topamos\n",
    "se produce cuanto un método se encuentra con un argumento de largo nulo, el error se produce\n",
    "específicamente al graficar la distribución del Índice de Desarrollo Humano para las dictaduras\n",
    "militares ( gol_inst=4.0 ), analicemos los datos que debían ser graficados:"
   ]
  },
  {
   "cell_type": "code",
   "execution_count": 14,
   "metadata": {},
   "outputs": [
    {
     "name": "stdout",
     "output_type": "stream",
     "text": [
      "Cantidad de dictaduras militares registradas: 2\n",
      "Cantidad de NaN en la columna 'undp_hdi' para las dictaduras militares: 1\n"
     ]
    }
   ],
   "source": [
    "print('Cantidad de dictaduras militares registradas: %d' %len(df.loc[df['gol_inst'] == 4.0]))\n",
    "print('Cantidad de NaN en la columna \\'undp_hdi\\' para las dictaduras militares: %d'%df.loc[df['gol_inst'] == 4.0]['undp_hdi'].isnull().sum())"
   ]
  },
  {
   "cell_type": "markdown",
   "metadata": {},
   "source": [
    "La baja cantidad de dictaduras militares ( gol_inst=4.0 ) nos impide sacar cualquier conclusión\n",
    "general válida con respecto al Índice de Desarrollo Humano de este tipo de gobiernos."
   ]
  },
  {
   "cell_type": "markdown",
   "metadata": {},
   "source": [
    "## Scatterplots"
   ]
  },
  {
   "cell_type": "code",
   "execution_count": 15,
   "metadata": {},
   "outputs": [
    {
     "data": {
      "image/png": "[encoded data removed]",
      "text/plain": [
       "<Figure size 432x288 with 1 Axes>"
      ]
     },
     "metadata": {
      "needs_background": "light"
     },
     "output_type": "display_data"
    }
   ],
   "source": [
    "# generamos el gráfico\n",
    "# X = Independiente\n",
    "# Y = Dependiente\n",
    "plt.scatter(x=df['undp_hdi'], y=df['icrg_qog'])\n",
    "plt.title('Calidad de Gobierno en función del IDH')\n",
    "plt.xlabel(\"Indice de Desarrollo Humano\")\n",
    "plt.ylabel(\"Calidad del Gobierno\");"
   ]
  },
  {
   "cell_type": "markdown",
   "metadata": {},
   "source": [
    "A simple vista, el gráfico enseña que en la medida que el índice de desarrollo humano va\n",
    "aumentando en la escala, la calidad del gobierno mejora de igual manera. Este comportamiento se\n",
    "conoce como una relación directamente proporcional. Esto nos servirá para hablar de medidas de\n",
    "asociación."
   ]
  },
  {
   "cell_type": "markdown",
   "metadata": {},
   "source": [
    "## Refactorizando el gráfico"
   ]
  },
  {
   "cell_type": "markdown",
   "metadata": {},
   "source": [
    "## matplotlib | np.polyfit"
   ]
  },
  {
   "cell_type": "code",
   "execution_count": 16,
   "metadata": {},
   "outputs": [
    {
     "data": {
      "text/html": [
       "<div>\n",
       "<style scoped>\n",
       "    .dataframe tbody tr th:only-of-type {\n",
       "        vertical-align: middle;\n",
       "    }\n",
       "\n",
       "    .dataframe tbody tr th {\n",
       "        vertical-align: top;\n",
       "    }\n",
       "\n",
       "    .dataframe thead th {\n",
       "        text-align: right;\n",
       "    }\n",
       "</style>\n",
       "<table border=\"1\" class=\"dataframe\">\n",
       "  <thead>\n",
       "    <tr style=\"text-align: right;\">\n",
       "      <th></th>\n",
       "      <th>undp_hdi</th>\n",
       "      <th>icrg_qog</th>\n",
       "      <th>ccodealp</th>\n",
       "    </tr>\n",
       "  </thead>\n",
       "  <tbody>\n",
       "    <tr>\n",
       "      <th>50</th>\n",
       "      <td>0.718</td>\n",
       "      <td>0.317130</td>\n",
       "      <td>DOM</td>\n",
       "    </tr>\n",
       "    <tr>\n",
       "      <th>181</th>\n",
       "      <td>0.748</td>\n",
       "      <td>0.388889</td>\n",
       "      <td>UKR</td>\n",
       "    </tr>\n",
       "    <tr>\n",
       "      <th>91</th>\n",
       "      <td>0.799</td>\n",
       "      <td>0.567130</td>\n",
       "      <td>KWT</td>\n",
       "    </tr>\n",
       "    <tr>\n",
       "      <th>12</th>\n",
       "      <td>0.575</td>\n",
       "      <td>0.444444</td>\n",
       "      <td>BGD</td>\n",
       "    </tr>\n",
       "    <tr>\n",
       "      <th>136</th>\n",
       "      <td>0.679</td>\n",
       "      <td>0.527778</td>\n",
       "      <td>PHL</td>\n",
       "    </tr>\n",
       "    <tr>\n",
       "      <th>171</th>\n",
       "      <td>0.738</td>\n",
       "      <td>0.416667</td>\n",
       "      <td>THA</td>\n",
       "    </tr>\n",
       "    <tr>\n",
       "      <th>113</th>\n",
       "      <td>0.701</td>\n",
       "      <td>0.416667</td>\n",
       "      <td>MDA</td>\n",
       "    </tr>\n",
       "    <tr>\n",
       "      <th>84</th>\n",
       "      <td>0.729</td>\n",
       "      <td>0.500000</td>\n",
       "      <td>JAM</td>\n",
       "    </tr>\n",
       "    <tr>\n",
       "      <th>168</th>\n",
       "      <td>0.938</td>\n",
       "      <td>0.888889</td>\n",
       "      <td>CHE</td>\n",
       "    </tr>\n",
       "    <tr>\n",
       "      <th>65</th>\n",
       "      <td>0.575</td>\n",
       "      <td>0.488426</td>\n",
       "      <td>GHA</td>\n",
       "    </tr>\n",
       "  </tbody>\n",
       "</table>\n",
       "</div>"
      ],
      "text/plain": [
       "     undp_hdi  icrg_qog ccodealp\n",
       "50      0.718  0.317130      DOM\n",
       "181     0.748  0.388889      UKR\n",
       "91      0.799  0.567130      KWT\n",
       "12      0.575  0.444444      BGD\n",
       "136     0.679  0.527778      PHL\n",
       "171     0.738  0.416667      THA\n",
       "113     0.701  0.416667      MDA\n",
       "84      0.729  0.500000      JAM\n",
       "168     0.938  0.888889      CHE\n",
       "65      0.575  0.488426      GHA"
      ]
     },
     "execution_count": 16,
     "metadata": {},
     "output_type": "execute_result"
    }
   ],
   "source": [
    "# Separemos las columnas a trabajar y eliminemos los datos perdidos.\n",
    "scatter_data = df.loc[:, ['undp_hdi', 'icrg_qog', 'ccodealp']].dropna()\n",
    "scatter_data.sample(10)"
   ]
  },
  {
   "cell_type": "code",
   "execution_count": 17,
   "metadata": {},
   "outputs": [],
   "source": [
    "# calculamos los valores de la recta\n",
    "pendiente, intercepto = np.polyfit(scatter_data['undp_hdi'], scatter_data['icrg_qog'], 1)"
   ]
  },
  {
   "cell_type": "code",
   "execution_count": 18,
   "metadata": {},
   "outputs": [
    {
     "data": {
      "text/plain": [
       "1.0077917998503934"
      ]
     },
     "execution_count": 18,
     "metadata": {},
     "output_type": "execute_result"
    }
   ],
   "source": [
    "pendiente"
   ]
  },
  {
   "cell_type": "code",
   "execution_count": 19,
   "metadata": {},
   "outputs": [
    {
     "data": {
      "text/plain": [
       "-0.1954107728917399"
      ]
     },
     "execution_count": 19,
     "metadata": {},
     "output_type": "execute_result"
    }
   ],
   "source": [
    "intercepto"
   ]
  },
  {
   "cell_type": "code",
   "execution_count": 20,
   "metadata": {},
   "outputs": [
    {
     "name": "stdout",
     "output_type": "stream",
     "text": [
      "La pendiente es de:  1.008\n",
      "El intercepto es de:  -0.195\n"
     ]
    }
   ],
   "source": [
    "# pidamos los valores\n",
    "print(\"La pendiente es de: \", pendiente.round(3))\n",
    "print(\"El intercepto es de: \", intercepto.round(3))"
   ]
  },
  {
   "cell_type": "markdown",
   "metadata": {},
   "source": [
    "## Digresión: Comprensiones de Lista"
   ]
  },
  {
   "cell_type": "markdown",
   "metadata": {},
   "source": [
    "[expresion_a_evaluar for variable in secuencia_de_valores]"
   ]
  },
  {
   "cell_type": "code",
   "execution_count": 21,
   "metadata": {},
   "outputs": [
    {
     "data": {
      "image/png": "[encoded data removed]",
      "text/plain": [
       "<Figure size 432x288 with 1 Axes>"
      ]
     },
     "metadata": {
      "needs_background": "light"
     },
     "output_type": "display_data"
    }
   ],
   "source": [
    "# para separar los elementos del gráfico, generamos dos objetos a partir de subplots\n",
    "fig, ax = plt.subplots()\n",
    "# generamos el gráfico, declaramos que los puntos sean lo más pequeños posible con marker=\",\" y\n",
    "s=.1\n",
    "ax.scatter(x=scatter_data['undp_hdi'], y=scatter_data['icrg_qog'], marker=\",\", s=.1)\n",
    "# graficamos la recta a lo largo de undp_hdi\n",
    "ax.plot(scatter_data['undp_hdi'],\n",
    "# generamos un list comprehension que calcule el valor de la recta a lo largo de undp_hdi\n",
    "[pendiente * j + intercepto for j in scatter_data['undp_hdi']],color='tomato')\n",
    "ax.set_title('Tendencia de la Calidad de gobierno dependiendo del IDH')\n",
    "ax.set_xlabel(\"Indice de Desarrollo Humano\")\n",
    "ax.set_ylabel(\"Calidad del Gobierno\");"
   ]
  },
  {
   "cell_type": "code",
   "execution_count": 22,
   "metadata": {},
   "outputs": [
    {
     "data": {
      "text/html": [
       "<div>\n",
       "<style scoped>\n",
       "    .dataframe tbody tr th:only-of-type {\n",
       "        vertical-align: middle;\n",
       "    }\n",
       "\n",
       "    .dataframe tbody tr th {\n",
       "        vertical-align: top;\n",
       "    }\n",
       "\n",
       "    .dataframe thead th {\n",
       "        text-align: right;\n",
       "    }\n",
       "</style>\n",
       "<table border=\"1\" class=\"dataframe\">\n",
       "  <thead>\n",
       "    <tr style=\"text-align: right;\">\n",
       "      <th></th>\n",
       "      <th>undp_hdi</th>\n",
       "      <th>icrg_qog</th>\n",
       "      <th>ccodealp</th>\n",
       "    </tr>\n",
       "  </thead>\n",
       "  <tbody>\n",
       "    <tr>\n",
       "      <th>1</th>\n",
       "      <td>0.762</td>\n",
       "      <td>0.425926</td>\n",
       "      <td>ALB</td>\n",
       "    </tr>\n",
       "    <tr>\n",
       "      <th>2</th>\n",
       "      <td>0.743</td>\n",
       "      <td>0.444444</td>\n",
       "      <td>DZA</td>\n",
       "    </tr>\n",
       "    <tr>\n",
       "      <th>4</th>\n",
       "      <td>0.531</td>\n",
       "      <td>0.344907</td>\n",
       "      <td>AGO</td>\n",
       "    </tr>\n",
       "  </tbody>\n",
       "</table>\n",
       "</div>"
      ],
      "text/plain": [
       "   undp_hdi  icrg_qog ccodealp\n",
       "1     0.762  0.425926      ALB\n",
       "2     0.743  0.444444      DZA\n",
       "4     0.531  0.344907      AGO"
      ]
     },
     "execution_count": 22,
     "metadata": {},
     "output_type": "execute_result"
    }
   ],
   "source": [
    "scatter_data.head(3)"
   ]
  },
  {
   "cell_type": "code",
   "execution_count": 23,
   "metadata": {},
   "outputs": [
    {
     "data": {
      "image/png": "[encoded data removed]",
      "text/plain": [
       "<Figure size 432x288 with 1 Axes>"
      ]
     },
     "metadata": {
      "needs_background": "light"
     },
     "output_type": "display_data"
    }
   ],
   "source": [
    "fig, ax = plt.subplots()\n",
    "ax.scatter(x=scatter_data['undp_hdi'], y=scatter_data['icrg_qog'], marker=\",\", s=.1)\n",
    "ax.plot(scatter_data['undp_hdi'],\n",
    "[pendiente * j + intercepto for j in scatter_data['undp_hdi']],\n",
    "color='tomato')\n",
    "for i in scatter_data.index:\n",
    "    ax.text(scatter_data.loc[i, 'undp_hdi'],\n",
    "    scatter_data.loc[i, 'icrg_qog'],str(scatter_data.loc[i, 'ccodealp']),\n",
    "    fontsize = 5.5)\n",
    "ax.set_title('Calidad del Gobierno e IDH por país')\n",
    "ax.set_xlabel(\"Indice de Desarrollo Humano\")\n",
    "ax.set_ylabel(\"Calidad del Gobierno\");"
   ]
  },
  {
   "cell_type": "markdown",
   "metadata": {},
   "source": [
    "El gráfico nos informa de la posición de países como Haití, con un nivel bajo de desarrollo humano\n",
    "y de calidad de gobierno, así como de un cluster importante de países con niveles de desarrollo\n",
    "humano sobre el .90 y calidad de gobierno substancialmente alto."
   ]
  },
  {
   "cell_type": "markdown",
   "metadata": {},
   "source": [
    "## Refactorización con seaborn"
   ]
  },
  {
   "cell_type": "markdown",
   "metadata": {},
   "source": [
    "## seaborn | jointplot"
   ]
  },
  {
   "cell_type": "markdown",
   "metadata": {},
   "source": [
    "permite\n",
    "realizar una diagrama de dispersión con más información"
   ]
  },
  {
   "cell_type": "code",
   "execution_count": 24,
   "metadata": {},
   "outputs": [
    {
     "data": {
      "image/png": "[encoded data removed]",
      "text/plain": [
       "<Figure size 432x432 with 3 Axes>"
      ]
     },
     "metadata": {
      "needs_background": "light"
     },
     "output_type": "display_data"
    }
   ],
   "source": [
    "sns.jointplot(df['undp_hdi'], df['icrg_qog']);"
   ]
  },
  {
   "cell_type": "markdown",
   "metadata": {},
   "source": [
    "## agregar una recta de ajuste"
   ]
  },
  {
   "cell_type": "code",
   "execution_count": 25,
   "metadata": {},
   "outputs": [
    {
     "data": {
      "image/png": "[encoded data removed]",
      "text/plain": [
       "<Figure size 432x432 with 3 Axes>"
      ]
     },
     "metadata": {
      "needs_background": "light"
     },
     "output_type": "display_data"
    }
   ],
   "source": [
    "sns.jointplot(scatter_data['undp_hdi'], scatter_data['icrg_qog'], kind='reg');"
   ]
  },
  {
   "cell_type": "markdown",
   "metadata": {},
   "source": [
    "E reporta un estadístico pearsonr = 0.77; p = 1.8e-25 . La primera cifra resume la intensidad y\n",
    "dirección de la asociación, mientras que la segunda reporta su plausibilidad bajo condiciones\n",
    "similares.\n",
    "El primer elemento se conoce como Correlación de Pearson, y el segundo como p Value.\n",
    "Dedicaremos el resto de la lectura a estudiarlos."
   ]
  },
  {
   "cell_type": "markdown",
   "metadata": {},
   "source": [
    "## Correlación y Covarianza"
   ]
  },
  {
   "cell_type": "markdown",
   "metadata": {},
   "source": [
    "<b>El único objetivo de la correlación y covarianza en cuantificar el grado en que dos variables viajan\n",
    "juntas.</b>"
   ]
  },
  {
   "cell_type": "code",
   "execution_count": 26,
   "metadata": {},
   "outputs": [
    {
     "data": {
      "image/png": "[encoded data removed]",
      "text/plain": [
       "<Figure size 432x288 with 20 Axes>"
      ]
     },
     "metadata": {
      "needs_background": "light"
     },
     "output_type": "display_data"
    }
   ],
   "source": [
    "gfx.generate_corr_matrix();"
   ]
  },
  {
   "cell_type": "markdown",
   "metadata": {},
   "source": [
    "<b>El gráfico de seaborn nos indicaba que su pearsonr era de .77. Esperamos que en la\n",
    "medida que aumenten los valores del índice de desarrollo humano, también lo hagan los valores de\n",
    "la calidad de gobierno</b>"
   ]
  },
  {
   "cell_type": "markdown",
   "metadata": {},
   "source": [
    "## pandas | corr"
   ]
  },
  {
   "cell_type": "code",
   "execution_count": 27,
   "metadata": {},
   "outputs": [
    {
     "data": {
      "text/plain": [
       "0.7694078965882"
      ]
     },
     "execution_count": 27,
     "metadata": {},
     "output_type": "execute_result"
    }
   ],
   "source": [
    "scatter_data['undp_hdi'].corr(scatter_data['icrg_qog'])"
   ]
  },
  {
   "cell_type": "markdown",
   "metadata": {},
   "source": [
    "## Matrices de correlación"
   ]
  },
  {
   "cell_type": "code",
   "execution_count": 28,
   "metadata": {},
   "outputs": [
    {
     "data": {
      "text/html": [
       "<div>\n",
       "<style scoped>\n",
       "    .dataframe tbody tr th:only-of-type {\n",
       "        vertical-align: middle;\n",
       "    }\n",
       "\n",
       "    .dataframe tbody tr th {\n",
       "        vertical-align: top;\n",
       "    }\n",
       "\n",
       "    .dataframe thead th {\n",
       "        text-align: right;\n",
       "    }\n",
       "</style>\n",
       "<table border=\"1\" class=\"dataframe\">\n",
       "  <thead>\n",
       "    <tr style=\"text-align: right;\">\n",
       "      <th></th>\n",
       "      <th>wvs_auton</th>\n",
       "      <th>wvs_confaf</th>\n",
       "      <th>wvs_confch</th>\n",
       "      <th>wvs_confcs</th>\n",
       "      <th>wvs_confenv</th>\n",
       "      <th>wvs_confgov</th>\n",
       "      <th>wvs_confjs</th>\n",
       "      <th>wvs_conflu</th>\n",
       "      <th>wvs_confpar</th>\n",
       "      <th>wvs_confpol</th>\n",
       "      <th>...</th>\n",
       "      <th>wvs_relacc</th>\n",
       "      <th>wvs_relsch</th>\n",
       "      <th>wvs_relsci</th>\n",
       "      <th>wvs_satfin</th>\n",
       "      <th>wvs_satlif</th>\n",
       "      <th>wvs_screl</th>\n",
       "      <th>wvs_subh</th>\n",
       "      <th>wvs_survself</th>\n",
       "      <th>wvs_tradrat</th>\n",
       "      <th>wvs_trust</th>\n",
       "    </tr>\n",
       "  </thead>\n",
       "  <tbody>\n",
       "    <tr>\n",
       "      <th>38</th>\n",
       "      <td>0.659392</td>\n",
       "      <td>2.655585</td>\n",
       "      <td>3.168547</td>\n",
       "      <td>1.871829</td>\n",
       "      <td>2.993271</td>\n",
       "      <td>2.250667</td>\n",
       "      <td>2.122901</td>\n",
       "      <td>1.799864</td>\n",
       "      <td>1.790713</td>\n",
       "      <td>2.384207</td>\n",
       "      <td>...</td>\n",
       "      <td>2.410116</td>\n",
       "      <td>2.700542</td>\n",
       "      <td>2.677375</td>\n",
       "      <td>6.696889</td>\n",
       "      <td>8.388227</td>\n",
       "      <td>6.85924</td>\n",
       "      <td>4.005294</td>\n",
       "      <td>0.252633</td>\n",
       "      <td>-1.00909</td>\n",
       "      <td>0.041306</td>\n",
       "    </tr>\n",
       "    <tr>\n",
       "      <th>170</th>\n",
       "      <td>NaN</td>\n",
       "      <td>NaN</td>\n",
       "      <td>NaN</td>\n",
       "      <td>NaN</td>\n",
       "      <td>NaN</td>\n",
       "      <td>NaN</td>\n",
       "      <td>NaN</td>\n",
       "      <td>NaN</td>\n",
       "      <td>NaN</td>\n",
       "      <td>NaN</td>\n",
       "      <td>...</td>\n",
       "      <td>NaN</td>\n",
       "      <td>NaN</td>\n",
       "      <td>NaN</td>\n",
       "      <td>NaN</td>\n",
       "      <td>NaN</td>\n",
       "      <td>NaN</td>\n",
       "      <td>NaN</td>\n",
       "      <td>NaN</td>\n",
       "      <td>NaN</td>\n",
       "      <td>NaN</td>\n",
       "    </tr>\n",
       "    <tr>\n",
       "      <th>94</th>\n",
       "      <td>-0.121667</td>\n",
       "      <td>2.425021</td>\n",
       "      <td>2.370757</td>\n",
       "      <td>2.188317</td>\n",
       "      <td>2.372703</td>\n",
       "      <td>1.954035</td>\n",
       "      <td>2.338583</td>\n",
       "      <td>2.141187</td>\n",
       "      <td>2.061883</td>\n",
       "      <td>2.343129</td>\n",
       "      <td>...</td>\n",
       "      <td>2.532534</td>\n",
       "      <td>2.734483</td>\n",
       "      <td>2.695132</td>\n",
       "      <td>5.998332</td>\n",
       "      <td>6.503772</td>\n",
       "      <td>5.74750</td>\n",
       "      <td>3.979933</td>\n",
       "      <td>-0.462340</td>\n",
       "      <td>-0.07072</td>\n",
       "      <td>0.109057</td>\n",
       "    </tr>\n",
       "    <tr>\n",
       "      <th>166</th>\n",
       "      <td>NaN</td>\n",
       "      <td>NaN</td>\n",
       "      <td>NaN</td>\n",
       "      <td>NaN</td>\n",
       "      <td>NaN</td>\n",
       "      <td>NaN</td>\n",
       "      <td>NaN</td>\n",
       "      <td>NaN</td>\n",
       "      <td>NaN</td>\n",
       "      <td>NaN</td>\n",
       "      <td>...</td>\n",
       "      <td>NaN</td>\n",
       "      <td>NaN</td>\n",
       "      <td>NaN</td>\n",
       "      <td>NaN</td>\n",
       "      <td>NaN</td>\n",
       "      <td>NaN</td>\n",
       "      <td>NaN</td>\n",
       "      <td>NaN</td>\n",
       "      <td>NaN</td>\n",
       "      <td>NaN</td>\n",
       "    </tr>\n",
       "    <tr>\n",
       "      <th>0</th>\n",
       "      <td>NaN</td>\n",
       "      <td>NaN</td>\n",
       "      <td>NaN</td>\n",
       "      <td>NaN</td>\n",
       "      <td>NaN</td>\n",
       "      <td>NaN</td>\n",
       "      <td>NaN</td>\n",
       "      <td>NaN</td>\n",
       "      <td>NaN</td>\n",
       "      <td>NaN</td>\n",
       "      <td>...</td>\n",
       "      <td>NaN</td>\n",
       "      <td>NaN</td>\n",
       "      <td>NaN</td>\n",
       "      <td>NaN</td>\n",
       "      <td>NaN</td>\n",
       "      <td>NaN</td>\n",
       "      <td>NaN</td>\n",
       "      <td>NaN</td>\n",
       "      <td>NaN</td>\n",
       "      <td>NaN</td>\n",
       "    </tr>\n",
       "  </tbody>\n",
       "</table>\n",
       "<p>5 rows × 42 columns</p>\n",
       "</div>"
      ],
      "text/plain": [
       "     wvs_auton  wvs_confaf  wvs_confch  wvs_confcs  wvs_confenv  wvs_confgov  \\\n",
       "38    0.659392    2.655585    3.168547    1.871829     2.993271     2.250667   \n",
       "170        NaN         NaN         NaN         NaN          NaN          NaN   \n",
       "94   -0.121667    2.425021    2.370757    2.188317     2.372703     1.954035   \n",
       "166        NaN         NaN         NaN         NaN          NaN          NaN   \n",
       "0          NaN         NaN         NaN         NaN          NaN          NaN   \n",
       "\n",
       "     wvs_confjs  wvs_conflu  wvs_confpar  wvs_confpol  ...  wvs_relacc  \\\n",
       "38     2.122901    1.799864     1.790713     2.384207  ...    2.410116   \n",
       "170         NaN         NaN          NaN          NaN  ...         NaN   \n",
       "94     2.338583    2.141187     2.061883     2.343129  ...    2.532534   \n",
       "166         NaN         NaN          NaN          NaN  ...         NaN   \n",
       "0           NaN         NaN          NaN          NaN  ...         NaN   \n",
       "\n",
       "     wvs_relsch  wvs_relsci  wvs_satfin  wvs_satlif  wvs_screl  wvs_subh  \\\n",
       "38     2.700542    2.677375    6.696889    8.388227    6.85924  4.005294   \n",
       "170         NaN         NaN         NaN         NaN        NaN       NaN   \n",
       "94     2.734483    2.695132    5.998332    6.503772    5.74750  3.979933   \n",
       "166         NaN         NaN         NaN         NaN        NaN       NaN   \n",
       "0           NaN         NaN         NaN         NaN        NaN       NaN   \n",
       "\n",
       "     wvs_survself  wvs_tradrat  wvs_trust  \n",
       "38       0.252633     -1.00909   0.041306  \n",
       "170           NaN          NaN        NaN  \n",
       "94      -0.462340     -0.07072   0.109057  \n",
       "166           NaN          NaN        NaN  \n",
       "0             NaN          NaN        NaN  \n",
       "\n",
       "[5 rows x 42 columns]"
      ]
     },
     "execution_count": 28,
     "metadata": {},
     "output_type": "execute_result"
    }
   ],
   "source": [
    "wvs_subset = df.loc[: , 'wvs_auton':'wvs_trust']\n",
    "wvs_subset.sample(5)"
   ]
  },
  {
   "cell_type": "code",
   "execution_count": 29,
   "metadata": {},
   "outputs": [
    {
     "data": {
      "text/html": [
       "<div>\n",
       "<style scoped>\n",
       "    .dataframe tbody tr th:only-of-type {\n",
       "        vertical-align: middle;\n",
       "    }\n",
       "\n",
       "    .dataframe tbody tr th {\n",
       "        vertical-align: top;\n",
       "    }\n",
       "\n",
       "    .dataframe thead th {\n",
       "        text-align: right;\n",
       "    }\n",
       "</style>\n",
       "<table border=\"1\" class=\"dataframe\">\n",
       "  <thead>\n",
       "    <tr style=\"text-align: right;\">\n",
       "      <th></th>\n",
       "      <th>wvs_auton</th>\n",
       "      <th>wvs_confaf</th>\n",
       "      <th>wvs_confch</th>\n",
       "      <th>wvs_confcs</th>\n",
       "      <th>wvs_confenv</th>\n",
       "      <th>wvs_confgov</th>\n",
       "      <th>wvs_confjs</th>\n",
       "      <th>wvs_conflu</th>\n",
       "      <th>wvs_confpar</th>\n",
       "      <th>wvs_confpol</th>\n",
       "      <th>...</th>\n",
       "      <th>wvs_relsci</th>\n",
       "      <th>wvs_satfin</th>\n",
       "      <th>wvs_satlif</th>\n",
       "      <th>wvs_screl</th>\n",
       "      <th>wvs_subh</th>\n",
       "      <th>wvs_survself</th>\n",
       "      <th>wvs_tradrat</th>\n",
       "      <th>wvs_trust</th>\n",
       "      <th>region</th>\n",
       "      <th>country</th>\n",
       "    </tr>\n",
       "  </thead>\n",
       "  <tbody>\n",
       "    <tr>\n",
       "      <th>34</th>\n",
       "      <td>NaN</td>\n",
       "      <td>NaN</td>\n",
       "      <td>NaN</td>\n",
       "      <td>NaN</td>\n",
       "      <td>NaN</td>\n",
       "      <td>NaN</td>\n",
       "      <td>NaN</td>\n",
       "      <td>NaN</td>\n",
       "      <td>NaN</td>\n",
       "      <td>NaN</td>\n",
       "      <td>...</td>\n",
       "      <td>NaN</td>\n",
       "      <td>NaN</td>\n",
       "      <td>NaN</td>\n",
       "      <td>NaN</td>\n",
       "      <td>NaN</td>\n",
       "      <td>NaN</td>\n",
       "      <td>NaN</td>\n",
       "      <td>NaN</td>\n",
       "      <td>SubSaharian</td>\n",
       "      <td>Chad</td>\n",
       "    </tr>\n",
       "    <tr>\n",
       "      <th>6</th>\n",
       "      <td>-0.723759</td>\n",
       "      <td>3.035106</td>\n",
       "      <td>2.321194</td>\n",
       "      <td>2.670265</td>\n",
       "      <td>2.351506</td>\n",
       "      <td>3.167506</td>\n",
       "      <td>2.629432</td>\n",
       "      <td>2.289796</td>\n",
       "      <td>2.786036</td>\n",
       "      <td>2.639084</td>\n",
       "      <td>...</td>\n",
       "      <td>2.305843</td>\n",
       "      <td>5.58191</td>\n",
       "      <td>6.662893</td>\n",
       "      <td>4.948389</td>\n",
       "      <td>3.753472</td>\n",
       "      <td>-0.667609</td>\n",
       "      <td>-0.416085</td>\n",
       "      <td>0.152803</td>\n",
       "      <td>EastEurope</td>\n",
       "      <td>Azerbaijan</td>\n",
       "    </tr>\n",
       "    <tr>\n",
       "      <th>52</th>\n",
       "      <td>NaN</td>\n",
       "      <td>NaN</td>\n",
       "      <td>NaN</td>\n",
       "      <td>NaN</td>\n",
       "      <td>NaN</td>\n",
       "      <td>NaN</td>\n",
       "      <td>NaN</td>\n",
       "      <td>NaN</td>\n",
       "      <td>NaN</td>\n",
       "      <td>NaN</td>\n",
       "      <td>...</td>\n",
       "      <td>NaN</td>\n",
       "      <td>NaN</td>\n",
       "      <td>NaN</td>\n",
       "      <td>NaN</td>\n",
       "      <td>NaN</td>\n",
       "      <td>NaN</td>\n",
       "      <td>NaN</td>\n",
       "      <td>NaN</td>\n",
       "      <td>LatAm</td>\n",
       "      <td>El Salvador</td>\n",
       "    </tr>\n",
       "    <tr>\n",
       "      <th>77</th>\n",
       "      <td>NaN</td>\n",
       "      <td>NaN</td>\n",
       "      <td>NaN</td>\n",
       "      <td>NaN</td>\n",
       "      <td>NaN</td>\n",
       "      <td>NaN</td>\n",
       "      <td>NaN</td>\n",
       "      <td>NaN</td>\n",
       "      <td>NaN</td>\n",
       "      <td>NaN</td>\n",
       "      <td>...</td>\n",
       "      <td>NaN</td>\n",
       "      <td>NaN</td>\n",
       "      <td>NaN</td>\n",
       "      <td>NaN</td>\n",
       "      <td>NaN</td>\n",
       "      <td>NaN</td>\n",
       "      <td>NaN</td>\n",
       "      <td>NaN</td>\n",
       "      <td>SouthEastAsia</td>\n",
       "      <td>Indonesia</td>\n",
       "    </tr>\n",
       "    <tr>\n",
       "      <th>96</th>\n",
       "      <td>NaN</td>\n",
       "      <td>NaN</td>\n",
       "      <td>NaN</td>\n",
       "      <td>NaN</td>\n",
       "      <td>NaN</td>\n",
       "      <td>NaN</td>\n",
       "      <td>NaN</td>\n",
       "      <td>NaN</td>\n",
       "      <td>NaN</td>\n",
       "      <td>NaN</td>\n",
       "      <td>...</td>\n",
       "      <td>NaN</td>\n",
       "      <td>NaN</td>\n",
       "      <td>NaN</td>\n",
       "      <td>NaN</td>\n",
       "      <td>NaN</td>\n",
       "      <td>NaN</td>\n",
       "      <td>NaN</td>\n",
       "      <td>NaN</td>\n",
       "      <td>EastEurope</td>\n",
       "      <td>Latvia</td>\n",
       "    </tr>\n",
       "  </tbody>\n",
       "</table>\n",
       "<p>5 rows × 44 columns</p>\n",
       "</div>"
      ],
      "text/plain": [
       "    wvs_auton  wvs_confaf  wvs_confch  wvs_confcs  wvs_confenv  wvs_confgov  \\\n",
       "34        NaN         NaN         NaN         NaN          NaN          NaN   \n",
       "6   -0.723759    3.035106    2.321194    2.670265     2.351506     3.167506   \n",
       "52        NaN         NaN         NaN         NaN          NaN          NaN   \n",
       "77        NaN         NaN         NaN         NaN          NaN          NaN   \n",
       "96        NaN         NaN         NaN         NaN          NaN          NaN   \n",
       "\n",
       "    wvs_confjs  wvs_conflu  wvs_confpar  wvs_confpol  ...  wvs_relsci  \\\n",
       "34         NaN         NaN          NaN          NaN  ...         NaN   \n",
       "6     2.629432    2.289796     2.786036     2.639084  ...    2.305843   \n",
       "52         NaN         NaN          NaN          NaN  ...         NaN   \n",
       "77         NaN         NaN          NaN          NaN  ...         NaN   \n",
       "96         NaN         NaN          NaN          NaN  ...         NaN   \n",
       "\n",
       "    wvs_satfin  wvs_satlif  wvs_screl  wvs_subh  wvs_survself  wvs_tradrat  \\\n",
       "34         NaN         NaN        NaN       NaN           NaN          NaN   \n",
       "6      5.58191    6.662893   4.948389  3.753472     -0.667609    -0.416085   \n",
       "52         NaN         NaN        NaN       NaN           NaN          NaN   \n",
       "77         NaN         NaN        NaN       NaN           NaN          NaN   \n",
       "96         NaN         NaN        NaN       NaN           NaN          NaN   \n",
       "\n",
       "    wvs_trust         region      country  \n",
       "34        NaN    SubSaharian         Chad  \n",
       "6    0.152803     EastEurope   Azerbaijan  \n",
       "52        NaN          LatAm  El Salvador  \n",
       "77        NaN  SouthEastAsia    Indonesia  \n",
       "96        NaN     EastEurope       Latvia  \n",
       "\n",
       "[5 rows x 44 columns]"
      ]
     },
     "execution_count": 29,
     "metadata": {},
     "output_type": "execute_result"
    }
   ],
   "source": [
    "wvs_subset['region'] = df['region_recod']\n",
    "wvs_subset['country'] = df['cname']\n",
    "wvs_subset.sample(5)"
   ]
  },
  {
   "cell_type": "code",
   "execution_count": 30,
   "metadata": {},
   "outputs": [],
   "source": [
    "wvs_subset = wvs_subset.dropna()"
   ]
  },
  {
   "cell_type": "code",
   "execution_count": 31,
   "metadata": {},
   "outputs": [
    {
     "data": {
      "text/html": [
       "<div>\n",
       "<style scoped>\n",
       "    .dataframe tbody tr th:only-of-type {\n",
       "        vertical-align: middle;\n",
       "    }\n",
       "\n",
       "    .dataframe tbody tr th {\n",
       "        vertical-align: top;\n",
       "    }\n",
       "\n",
       "    .dataframe thead th {\n",
       "        text-align: right;\n",
       "    }\n",
       "</style>\n",
       "<table border=\"1\" class=\"dataframe\">\n",
       "  <thead>\n",
       "    <tr style=\"text-align: right;\">\n",
       "      <th></th>\n",
       "      <th>wvs_auton</th>\n",
       "      <th>wvs_confaf</th>\n",
       "      <th>wvs_confch</th>\n",
       "      <th>wvs_confcs</th>\n",
       "      <th>wvs_confenv</th>\n",
       "      <th>wvs_confgov</th>\n",
       "      <th>wvs_confjs</th>\n",
       "      <th>wvs_conflu</th>\n",
       "      <th>wvs_confpar</th>\n",
       "      <th>wvs_confpol</th>\n",
       "      <th>...</th>\n",
       "      <th>wvs_relsci</th>\n",
       "      <th>wvs_satfin</th>\n",
       "      <th>wvs_satlif</th>\n",
       "      <th>wvs_screl</th>\n",
       "      <th>wvs_subh</th>\n",
       "      <th>wvs_survself</th>\n",
       "      <th>wvs_tradrat</th>\n",
       "      <th>wvs_trust</th>\n",
       "      <th>region</th>\n",
       "      <th>country</th>\n",
       "    </tr>\n",
       "  </thead>\n",
       "  <tbody>\n",
       "    <tr>\n",
       "      <th>13</th>\n",
       "      <td>0.015506</td>\n",
       "      <td>3.439688</td>\n",
       "      <td>3.187937</td>\n",
       "      <td>2.137950</td>\n",
       "      <td>2.331321</td>\n",
       "      <td>2.176698</td>\n",
       "      <td>2.027538</td>\n",
       "      <td>1.759222</td>\n",
       "      <td>1.947258</td>\n",
       "      <td>2.156231</td>\n",
       "      <td>...</td>\n",
       "      <td>2.358851</td>\n",
       "      <td>4.248916</td>\n",
       "      <td>5.240819</td>\n",
       "      <td>6.825514</td>\n",
       "      <td>3.317059</td>\n",
       "      <td>-0.592649</td>\n",
       "      <td>-0.479951</td>\n",
       "      <td>0.110230</td>\n",
       "      <td>EastEurope</td>\n",
       "      <td>Armenia</td>\n",
       "    </tr>\n",
       "    <tr>\n",
       "      <th>136</th>\n",
       "      <td>0.057441</td>\n",
       "      <td>2.883594</td>\n",
       "      <td>3.680651</td>\n",
       "      <td>2.775429</td>\n",
       "      <td>3.116524</td>\n",
       "      <td>2.623608</td>\n",
       "      <td>2.819785</td>\n",
       "      <td>2.492409</td>\n",
       "      <td>2.659032</td>\n",
       "      <td>2.812310</td>\n",
       "      <td>...</td>\n",
       "      <td>2.716455</td>\n",
       "      <td>6.339219</td>\n",
       "      <td>7.326415</td>\n",
       "      <td>5.644417</td>\n",
       "      <td>3.691490</td>\n",
       "      <td>0.076220</td>\n",
       "      <td>-0.683717</td>\n",
       "      <td>0.031671</td>\n",
       "      <td>SouthEastAsia</td>\n",
       "      <td>Philippines</td>\n",
       "    </tr>\n",
       "    <tr>\n",
       "      <th>160</th>\n",
       "      <td>-0.172764</td>\n",
       "      <td>2.478569</td>\n",
       "      <td>3.170746</td>\n",
       "      <td>2.379346</td>\n",
       "      <td>2.529673</td>\n",
       "      <td>2.427486</td>\n",
       "      <td>2.516612</td>\n",
       "      <td>2.371201</td>\n",
       "      <td>2.378740</td>\n",
       "      <td>2.413865</td>\n",
       "      <td>...</td>\n",
       "      <td>3.186284</td>\n",
       "      <td>6.129374</td>\n",
       "      <td>6.626737</td>\n",
       "      <td>6.825221</td>\n",
       "      <td>4.213035</td>\n",
       "      <td>0.045268</td>\n",
       "      <td>-0.074119</td>\n",
       "      <td>0.234122</td>\n",
       "      <td>SubSaharian</td>\n",
       "      <td>South Africa</td>\n",
       "    </tr>\n",
       "    <tr>\n",
       "      <th>20</th>\n",
       "      <td>0.354662</td>\n",
       "      <td>2.647916</td>\n",
       "      <td>2.810610</td>\n",
       "      <td>2.367870</td>\n",
       "      <td>2.654232</td>\n",
       "      <td>2.148636</td>\n",
       "      <td>2.373079</td>\n",
       "      <td>2.137752</td>\n",
       "      <td>1.704346</td>\n",
       "      <td>2.219243</td>\n",
       "      <td>...</td>\n",
       "      <td>2.431594</td>\n",
       "      <td>6.214656</td>\n",
       "      <td>7.840864</td>\n",
       "      <td>4.016381</td>\n",
       "      <td>3.923859</td>\n",
       "      <td>0.096261</td>\n",
       "      <td>-0.420442</td>\n",
       "      <td>0.071162</td>\n",
       "      <td>LatAm</td>\n",
       "      <td>Brazil</td>\n",
       "    </tr>\n",
       "    <tr>\n",
       "      <th>177</th>\n",
       "      <td>0.006440</td>\n",
       "      <td>3.109386</td>\n",
       "      <td>3.020517</td>\n",
       "      <td>2.628980</td>\n",
       "      <td>2.498549</td>\n",
       "      <td>2.706388</td>\n",
       "      <td>2.876104</td>\n",
       "      <td>2.320682</td>\n",
       "      <td>2.597923</td>\n",
       "      <td>3.037958</td>\n",
       "      <td>...</td>\n",
       "      <td>3.100911</td>\n",
       "      <td>6.174196</td>\n",
       "      <td>7.244892</td>\n",
       "      <td>5.968442</td>\n",
       "      <td>3.816401</td>\n",
       "      <td>-0.290703</td>\n",
       "      <td>-0.621699</td>\n",
       "      <td>0.122955</td>\n",
       "      <td>NorthAfrica</td>\n",
       "      <td>Turkey</td>\n",
       "    </tr>\n",
       "  </tbody>\n",
       "</table>\n",
       "<p>5 rows × 44 columns</p>\n",
       "</div>"
      ],
      "text/plain": [
       "     wvs_auton  wvs_confaf  wvs_confch  wvs_confcs  wvs_confenv  wvs_confgov  \\\n",
       "13    0.015506    3.439688    3.187937    2.137950     2.331321     2.176698   \n",
       "136   0.057441    2.883594    3.680651    2.775429     3.116524     2.623608   \n",
       "160  -0.172764    2.478569    3.170746    2.379346     2.529673     2.427486   \n",
       "20    0.354662    2.647916    2.810610    2.367870     2.654232     2.148636   \n",
       "177   0.006440    3.109386    3.020517    2.628980     2.498549     2.706388   \n",
       "\n",
       "     wvs_confjs  wvs_conflu  wvs_confpar  wvs_confpol  ...  wvs_relsci  \\\n",
       "13     2.027538    1.759222     1.947258     2.156231  ...    2.358851   \n",
       "136    2.819785    2.492409     2.659032     2.812310  ...    2.716455   \n",
       "160    2.516612    2.371201     2.378740     2.413865  ...    3.186284   \n",
       "20     2.373079    2.137752     1.704346     2.219243  ...    2.431594   \n",
       "177    2.876104    2.320682     2.597923     3.037958  ...    3.100911   \n",
       "\n",
       "     wvs_satfin  wvs_satlif  wvs_screl  wvs_subh  wvs_survself  wvs_tradrat  \\\n",
       "13     4.248916    5.240819   6.825514  3.317059     -0.592649    -0.479951   \n",
       "136    6.339219    7.326415   5.644417  3.691490      0.076220    -0.683717   \n",
       "160    6.129374    6.626737   6.825221  4.213035      0.045268    -0.074119   \n",
       "20     6.214656    7.840864   4.016381  3.923859      0.096261    -0.420442   \n",
       "177    6.174196    7.244892   5.968442  3.816401     -0.290703    -0.621699   \n",
       "\n",
       "     wvs_trust         region       country  \n",
       "13    0.110230     EastEurope       Armenia  \n",
       "136   0.031671  SouthEastAsia   Philippines  \n",
       "160   0.234122    SubSaharian  South Africa  \n",
       "20    0.071162          LatAm        Brazil  \n",
       "177   0.122955    NorthAfrica        Turkey  \n",
       "\n",
       "[5 rows x 44 columns]"
      ]
     },
     "execution_count": 31,
     "metadata": {},
     "output_type": "execute_result"
    }
   ],
   "source": [
    "wvs_subset.sample(5)"
   ]
  },
  {
   "cell_type": "markdown",
   "metadata": {},
   "source": [
    "## sns.heatmap"
   ]
  },
  {
   "cell_type": "code",
   "execution_count": 32,
   "metadata": {},
   "outputs": [
    {
     "data": {
      "image/png": "[encoded data removed]",
      "text/plain": [
       "<Figure size 432x288 with 2 Axes>"
      ]
     },
     "metadata": {
      "needs_background": "light"
     },
     "output_type": "display_data"
    }
   ],
   "source": [
    "corr_mat = wvs_subset.corr()\n",
    "# output omitido\n",
    "# corr_mat\n",
    "sns.heatmap(corr_mat, cmap='Blues');"
   ]
  },
  {
   "cell_type": "markdown",
   "metadata": {},
   "source": [
    "Para este ejemplo, exploraremos las relaciones entre las creencias religiosas y felicidad de las\n",
    "naciones. Partamos por seleccionar las columnas con .loc :"
   ]
  },
  {
   "cell_type": "code",
   "execution_count": 33,
   "metadata": {},
   "outputs": [],
   "source": [
    "working_subset = wvs_subset.loc[:, ['wvs_godbel', 'wvs_godimp', 'wvs_hap', 'wvs_imprel']]"
   ]
  },
  {
   "cell_type": "markdown",
   "metadata": {},
   "source": [
    "Las variables que seleccionamos son:\n",
    "* wvs_godbel : Porcentaje de gente que cree en Dios.\n",
    "* wvs_godimp : Qué tan importante es Dios en la vida de las personas.\n",
    "* wvs_hap : Felicidad reportada por los encuestados.\n",
    "* wvs_imprel : Qué tan importante es la religión en la vida de las personas."
   ]
  },
  {
   "cell_type": "code",
   "execution_count": 34,
   "metadata": {},
   "outputs": [
    {
     "data": {
      "text/html": [
       "<div>\n",
       "<style scoped>\n",
       "    .dataframe tbody tr th:only-of-type {\n",
       "        vertical-align: middle;\n",
       "    }\n",
       "\n",
       "    .dataframe tbody tr th {\n",
       "        vertical-align: top;\n",
       "    }\n",
       "\n",
       "    .dataframe thead th {\n",
       "        text-align: right;\n",
       "    }\n",
       "</style>\n",
       "<table border=\"1\" class=\"dataframe\">\n",
       "  <thead>\n",
       "    <tr style=\"text-align: right;\">\n",
       "      <th></th>\n",
       "      <th>wvs_godbel</th>\n",
       "      <th>wvs_godimp</th>\n",
       "      <th>wvs_hap</th>\n",
       "      <th>wvs_imprel</th>\n",
       "    </tr>\n",
       "  </thead>\n",
       "  <tbody>\n",
       "    <tr>\n",
       "      <th>98</th>\n",
       "      <td>0.997463</td>\n",
       "      <td>9.724662</td>\n",
       "      <td>3.243026</td>\n",
       "      <td>3.960743</td>\n",
       "    </tr>\n",
       "  </tbody>\n",
       "</table>\n",
       "</div>"
      ],
      "text/plain": [
       "    wvs_godbel  wvs_godimp   wvs_hap  wvs_imprel\n",
       "98    0.997463    9.724662  3.243026    3.960743"
      ]
     },
     "execution_count": 34,
     "metadata": {},
     "output_type": "execute_result"
    }
   ],
   "source": [
    "working_subset.sample(1)"
   ]
  },
  {
   "cell_type": "code",
   "execution_count": 35,
   "metadata": {},
   "outputs": [
    {
     "data": {
      "image/png": "[encoded data removed]",
      "text/plain": [
       "<Figure size 432x288 with 2 Axes>"
      ]
     },
     "metadata": {
      "needs_background": "light"
     },
     "output_type": "display_data"
    }
   ],
   "source": [
    "corr_mat = working_subset.corr()\n",
    "sns.heatmap(corr_mat, cmap='Blues', annot=True);"
   ]
  },
  {
   "cell_type": "markdown",
   "metadata": {},
   "source": [
    "* Hay correlaciones de una magnitud susbtancial entre la importancia de Dios, de la religión y la\n",
    "creencia a nivel mundial.\n",
    "* No hay correlaciones substanciales entre los niveles de felicidad reportados y la importancia\n",
    "asignada a la reglión en general."
   ]
  },
  {
   "cell_type": "markdown",
   "metadata": {},
   "source": [
    "# Pruebas de Hipótesis"
   ]
  },
  {
   "cell_type": "markdown",
   "metadata": {},
   "source": [
    "## Ejemplo: Niveles de confianza interpersonal"
   ]
  },
  {
   "cell_type": "markdown",
   "metadata": {},
   "source": [
    "## ¿El nivel de confianza interpersonal a nivel mundial es distinto a .7.?"
   ]
  },
  {
   "cell_type": "markdown",
   "metadata": {},
   "source": [
    "<b>Hipótesis nula (Ho): el nivel de confianza interpersonal no es distinto al criterio propuesto de .7.</b>"
   ]
  },
  {
   "cell_type": "markdown",
   "metadata": {},
   "source": [
    "<b>hipótesis alternativa (H1): el nivel de confianza interpersonal es distinto al criterio propuesto de .7</b>"
   ]
  },
  {
   "cell_type": "markdown",
   "metadata": {},
   "source": [
    "## ¿  Que necesitamos para generar una prueba de hipótesis ?"
   ]
  },
  {
   "cell_type": "markdown",
   "metadata": {},
   "source": [
    "<b>Un estadístico de prueba que refleje un punto estimado por nosotros (proporción estimada en la muestra).</b>"
   ]
  },
  {
   "cell_type": "markdown",
   "metadata": {},
   "source": [
    "<b>Una distribución nula que refleje el nulo efecto de nuestro punto estimado (criterio propuesto de .7.).</b>"
   ]
  },
  {
   "cell_type": "markdown",
   "metadata": {},
   "source": [
    "<b>Un puntaje de corte o criterio arbitrario que permita evaluar nuestro estadístico de prueba</b>"
   ]
  },
  {
   "cell_type": "markdown",
   "metadata": {},
   "source": [
    "## Calculando estadísticos de prueba"
   ]
  },
  {
   "cell_type": "markdown",
   "metadata": {},
   "source": [
    "<b>Primer paso para generar una prueba de hipótesis es similar a calcular un puntaje z</b>"
   ]
  },
  {
   "cell_type": "markdown",
   "metadata": {},
   "source": [
    "* Primero calculemos la diferencia entre la media de la variable y el valor a contrastar"
   ]
  },
  {
   "cell_type": "code",
   "execution_count": 37,
   "metadata": {},
   "outputs": [
    {
     "data": {
      "text/plain": [
       "-0.4762302169777777"
      ]
     },
     "execution_count": 37,
     "metadata": {},
     "output_type": "execute_result"
    }
   ],
   "source": [
    "diff = np.mean(wvs_subset['wvs_trust']) - 0.7\n",
    "diff"
   ]
  },
  {
   "cell_type": "markdown",
   "metadata": {},
   "source": [
    "* Ahora estimemos la varianza ajustada por la muestra. Esto se logra al dividirla por N y sacar su raíz cuadrada"
   ]
  },
  {
   "cell_type": "code",
   "execution_count": 38,
   "metadata": {},
   "outputs": [
    {
     "data": {
      "text/plain": [
       "0.0253710754471492"
      ]
     },
     "execution_count": 38,
     "metadata": {},
     "output_type": "execute_result"
    }
   ],
   "source": [
    "std_err = np.sqrt(np.var(wvs_subset['wvs_trust'], ddof=1) / float(wvs_subset['wvs_trust'].shape[0]))\n",
    "std_err"
   ]
  },
  {
   "cell_type": "markdown",
   "metadata": {},
   "source": [
    "Al dividir la diferencia por la varianza, obtenemos el puntaje a evaluar. Esta es la distribución de la hipótesis nula"
   ]
  },
  {
   "cell_type": "markdown",
   "metadata": {},
   "source": [
    "En este ejemplo, buscamos evidencia a favor para rechazar la hipótesis nula si nuestro puntaje está\n",
    "más alejado que cierto criterio predefinido"
   ]
  },
  {
   "cell_type": "code",
   "execution_count": 40,
   "metadata": {},
   "outputs": [
    {
     "data": {
      "text/plain": [
       "-18.770596381293284"
      ]
     },
     "execution_count": 40,
     "metadata": {},
     "output_type": "execute_result"
    }
   ],
   "source": [
    "diff / std_err"
   ]
  },
  {
   "cell_type": "markdown",
   "metadata": {},
   "source": [
    "## P-values: criterios arbitrarios"
   ]
  },
  {
   "cell_type": "markdown",
   "metadata": {},
   "source": [
    "<b>Rechazo de la Hipótesis Nula</b>: Situación donde nuestro <b>puntaje de prueba calculado</b> es\n",
    "<b>mayor</b> que el <b>criterio de corte</b>. Bajo este caso, nuestro efecto tiene un mayor respaldo que sea\n",
    "estadísticamente significativo."
   ]
  },
  {
   "cell_type": "markdown",
   "metadata": {},
   "source": [
    "<b>Fallar en Rechazar la Hipótesis Nula:</b> Situación donde nuestro puntaje de prueba calculado\n",
    "es menor que el criterio de corte. En este escenario nuestro efecto no tiene el respaldo\n",
    "suficiente como para decir que es estadísticamente significativo."
   ]
  },
  {
   "cell_type": "markdown",
   "metadata": {},
   "source": [
    "### ¿Nuestra hipótesis cae en la región de la hipótesis nula o no?"
   ]
  },
  {
   "cell_type": "markdown",
   "metadata": {},
   "source": [
    "* Al 90% de la distribución, equivalente a un puntaje de corte de 1.68.\n",
    "* Al 95% de la distribución, equivalente a un puntaje de corte de 1.96.\n",
    "* Al 99% de la distribución, equivalente a un puntaje de corte de 2.58."
   ]
  },
  {
   "cell_type": "code",
   "execution_count": 42,
   "metadata": {},
   "outputs": [
    {
     "data": {
      "image/png": "[encoded data removed]",
      "text/plain": [
       "<Figure size 432x288 with 1 Axes>"
      ]
     },
     "metadata": {
      "needs_background": "light"
     },
     "output_type": "display_data"
    }
   ],
   "source": [
    "gfx.graph_significance();"
   ]
  },
  {
   "cell_type": "markdown",
   "metadata": {},
   "source": [
    "Puntaje de la prueba: -18.770596381293284"
   ]
  },
  {
   "cell_type": "markdown",
   "metadata": {},
   "source": [
    "Si sabemos que el puntaje de la prueba <b>-18.7</b> y seguimos los criterios\n",
    "comunes de evaluar el estadístico al <b>95%</b> de confianza <b>(1.96)</b>, \n",
    "hay evidencia como para <b>rechazar la hipótesis nula</b> dado que nuestro puntaje de <b>|-18.7|</b> \n",
    "es mayor a <b>1.96</b>. De esta forma, se concluye que la media de la confianza interpersonal \n",
    "en el mundo distinta a .7, siendo significativa al <b>95%</b> de <b>\"confianza\"</b>."
   ]
  },
  {
   "cell_type": "markdown",
   "metadata": {},
   "source": [
    "## ttest_1samp | scipy.stats (estadístico de prueba y agrega el pvalue)"
   ]
  },
  {
   "cell_type": "code",
   "execution_count": 44,
   "metadata": {},
   "outputs": [
    {
     "data": {
      "text/plain": [
       "Ttest_1sampResult(statistic=-18.770596381293288, pvalue=1.2609756204715342e-22)"
      ]
     },
     "execution_count": 44,
     "metadata": {},
     "output_type": "execute_result"
    }
   ],
   "source": [
    "stats.ttest_1samp(wvs_subset['wvs_trust'], .7)"
   ]
  },
  {
   "cell_type": "markdown",
   "metadata": {},
   "source": [
    "### ¿ Como puedo fallar en contra de la hipótesis nula? o ¿Como puedo aceptar la hipostesis alternativa e investigadora?"
   ]
  },
  {
   "cell_type": "markdown",
   "metadata": {},
   "source": [
    "Si nuestro <b>p-valor</b> es menor o igual a <b>0.05 (5%)</b>, entonces podemos decir que \n",
    "tenemos un <b>95%</b> de certeza de que podemos que podemos rechazar la hipotesis nula <b>(la media muestral\n",
    "es igual a la media poblacional de 0.7)</b>. \n",
    "Nuestra hipotesis alternativa o investigadora es cierta <b>(el nivel de confianza interpersonal es distinto al criterio propuesto de .7.)</b>. Prácticamente un 100% de certeza."
   ]
  },
  {
   "cell_type": "code",
   "execution_count": 45,
   "metadata": {},
   "outputs": [
    {
     "data": {
      "image/png": "[encoded data removed]",
      "text/plain": [
       "<Figure size 432x288 with 1 Axes>"
      ]
     },
     "metadata": {
      "needs_background": "light"
     },
     "output_type": "display_data"
    }
   ],
   "source": [
    "gfx.confidence_intervals()\n",
    "plt.title(r'Iteración del experimento donde $H_{0} = \\theta\\sim\\mathcal{N}(0,1)$');"
   ]
  },
  {
   "cell_type": "markdown",
   "metadata": {},
   "source": [
    "## Prueba de hipótesis para muestras independientes"
   ]
  },
  {
   "cell_type": "markdown",
   "metadata": {},
   "source": [
    "## Ejemplo: Vamos a comparar medias de dos grupos"
   ]
  },
  {
   "cell_type": "markdown",
   "metadata": {},
   "source": [
    "## 1- Definir Hipotesis\n",
    "* ¿Las tasas de confianza interpersonal son distintas entre los países de europa occidental y el resto del mundo?"
   ]
  },
  {
   "cell_type": "markdown",
   "metadata": {},
   "source": [
    "<b>(H0) Hipótesis Nula</b>: Las tasas de confianza interpersonal son similares entre los países de europa\n",
    "occidental y el resto del mundo."
   ]
  },
  {
   "cell_type": "markdown",
   "metadata": {},
   "source": [
    "<b>(H1) Hipótesis Alternativa:</b> Las tasas de confianza interpersonal son distintas entre los países de\n",
    "europa occidental y el resto del mundo."
   ]
  },
  {
   "cell_type": "code",
   "execution_count": 59,
   "metadata": {},
   "outputs": [],
   "source": [
    "wvs_subset['western_dm'] = np.where(wvs_subset['region'] == 'WesternDem', 1, 0)"
   ]
  },
  {
   "cell_type": "code",
   "execution_count": 60,
   "metadata": {},
   "outputs": [
    {
     "data": {
      "text/html": [
       "<div>\n",
       "<style scoped>\n",
       "    .dataframe tbody tr th:only-of-type {\n",
       "        vertical-align: middle;\n",
       "    }\n",
       "\n",
       "    .dataframe tbody tr th {\n",
       "        vertical-align: top;\n",
       "    }\n",
       "\n",
       "    .dataframe thead th {\n",
       "        text-align: right;\n",
       "    }\n",
       "</style>\n",
       "<table border=\"1\" class=\"dataframe\">\n",
       "  <thead>\n",
       "    <tr style=\"text-align: right;\">\n",
       "      <th></th>\n",
       "      <th>wvs_auton</th>\n",
       "      <th>wvs_confaf</th>\n",
       "      <th>wvs_confch</th>\n",
       "      <th>wvs_confcs</th>\n",
       "      <th>wvs_confenv</th>\n",
       "      <th>wvs_confgov</th>\n",
       "      <th>wvs_confjs</th>\n",
       "      <th>wvs_conflu</th>\n",
       "      <th>wvs_confpar</th>\n",
       "      <th>wvs_confpol</th>\n",
       "      <th>...</th>\n",
       "      <th>wvs_satfin</th>\n",
       "      <th>wvs_satlif</th>\n",
       "      <th>wvs_screl</th>\n",
       "      <th>wvs_subh</th>\n",
       "      <th>wvs_survself</th>\n",
       "      <th>wvs_tradrat</th>\n",
       "      <th>wvs_trust</th>\n",
       "      <th>region</th>\n",
       "      <th>country</th>\n",
       "      <th>western_dm</th>\n",
       "    </tr>\n",
       "  </thead>\n",
       "  <tbody>\n",
       "    <tr>\n",
       "      <th>123</th>\n",
       "      <td>-0.619501</td>\n",
       "      <td>3.017995</td>\n",
       "      <td>2.405298</td>\n",
       "      <td>2.487671</td>\n",
       "      <td>2.609164</td>\n",
       "      <td>2.486842</td>\n",
       "      <td>2.750636</td>\n",
       "      <td>2.134978</td>\n",
       "      <td>2.332026</td>\n",
       "      <td>3.082294</td>\n",
       "      <td>...</td>\n",
       "      <td>6.881995</td>\n",
       "      <td>7.648975</td>\n",
       "      <td>4.909091</td>\n",
       "      <td>4.146135</td>\n",
       "      <td>1.259925</td>\n",
       "      <td>0.371845</td>\n",
       "      <td>0.567766</td>\n",
       "      <td>WesternDem</td>\n",
       "      <td>New Zealand</td>\n",
       "      <td>1</td>\n",
       "    </tr>\n",
       "    <tr>\n",
       "      <th>136</th>\n",
       "      <td>0.057441</td>\n",
       "      <td>2.883594</td>\n",
       "      <td>3.680651</td>\n",
       "      <td>2.775429</td>\n",
       "      <td>3.116524</td>\n",
       "      <td>2.623608</td>\n",
       "      <td>2.819785</td>\n",
       "      <td>2.492409</td>\n",
       "      <td>2.659032</td>\n",
       "      <td>2.812310</td>\n",
       "      <td>...</td>\n",
       "      <td>6.339219</td>\n",
       "      <td>7.326415</td>\n",
       "      <td>5.644417</td>\n",
       "      <td>3.691490</td>\n",
       "      <td>0.076220</td>\n",
       "      <td>-0.683717</td>\n",
       "      <td>0.031671</td>\n",
       "      <td>SouthEastAsia</td>\n",
       "      <td>Philippines</td>\n",
       "      <td>0</td>\n",
       "    </tr>\n",
       "    <tr>\n",
       "      <th>7</th>\n",
       "      <td>0.224245</td>\n",
       "      <td>2.122968</td>\n",
       "      <td>2.539607</td>\n",
       "      <td>1.868847</td>\n",
       "      <td>2.518353</td>\n",
       "      <td>2.110704</td>\n",
       "      <td>1.859460</td>\n",
       "      <td>1.840580</td>\n",
       "      <td>2.006855</td>\n",
       "      <td>1.969954</td>\n",
       "      <td>...</td>\n",
       "      <td>6.517899</td>\n",
       "      <td>7.488213</td>\n",
       "      <td>6.504242</td>\n",
       "      <td>3.989496</td>\n",
       "      <td>0.161507</td>\n",
       "      <td>-0.103415</td>\n",
       "      <td>0.198548</td>\n",
       "      <td>LatAm</td>\n",
       "      <td>Argentina</td>\n",
       "      <td>0</td>\n",
       "    </tr>\n",
       "    <tr>\n",
       "      <th>121</th>\n",
       "      <td>-0.582019</td>\n",
       "      <td>2.529307</td>\n",
       "      <td>1.973219</td>\n",
       "      <td>2.270056</td>\n",
       "      <td>2.423122</td>\n",
       "      <td>2.218974</td>\n",
       "      <td>2.691886</td>\n",
       "      <td>2.343143</td>\n",
       "      <td>2.234596</td>\n",
       "      <td>2.697118</td>\n",
       "      <td>...</td>\n",
       "      <td>6.916266</td>\n",
       "      <td>7.492561</td>\n",
       "      <td>3.861832</td>\n",
       "      <td>3.875066</td>\n",
       "      <td>1.063929</td>\n",
       "      <td>0.753645</td>\n",
       "      <td>0.674169</td>\n",
       "      <td>WesternDem</td>\n",
       "      <td>Netherlands</td>\n",
       "      <td>1</td>\n",
       "    </tr>\n",
       "    <tr>\n",
       "      <th>92</th>\n",
       "      <td>-0.497333</td>\n",
       "      <td>2.724230</td>\n",
       "      <td>2.483176</td>\n",
       "      <td>2.627845</td>\n",
       "      <td>2.559572</td>\n",
       "      <td>2.566644</td>\n",
       "      <td>2.434404</td>\n",
       "      <td>2.536504</td>\n",
       "      <td>2.522148</td>\n",
       "      <td>2.539799</td>\n",
       "      <td>...</td>\n",
       "      <td>6.380667</td>\n",
       "      <td>6.963087</td>\n",
       "      <td>5.668449</td>\n",
       "      <td>3.908545</td>\n",
       "      <td>-0.355836</td>\n",
       "      <td>-0.341541</td>\n",
       "      <td>0.380420</td>\n",
       "      <td>EastEurope</td>\n",
       "      <td>Kyrgyzstan</td>\n",
       "      <td>0</td>\n",
       "    </tr>\n",
       "    <tr>\n",
       "      <th>144</th>\n",
       "      <td>0.371316</td>\n",
       "      <td>2.784545</td>\n",
       "      <td>2.709889</td>\n",
       "      <td>2.706614</td>\n",
       "      <td>2.506876</td>\n",
       "      <td>2.781925</td>\n",
       "      <td>2.695481</td>\n",
       "      <td>2.524558</td>\n",
       "      <td>2.745252</td>\n",
       "      <td>2.736084</td>\n",
       "      <td>...</td>\n",
       "      <td>6.092993</td>\n",
       "      <td>6.467584</td>\n",
       "      <td>5.297315</td>\n",
       "      <td>4.125082</td>\n",
       "      <td>-0.302333</td>\n",
       "      <td>-0.651231</td>\n",
       "      <td>0.166339</td>\n",
       "      <td>SubSaharian</td>\n",
       "      <td>Rwanda</td>\n",
       "      <td>0</td>\n",
       "    </tr>\n",
       "    <tr>\n",
       "      <th>56</th>\n",
       "      <td>-0.423809</td>\n",
       "      <td>2.851419</td>\n",
       "      <td>2.695976</td>\n",
       "      <td>2.732372</td>\n",
       "      <td>2.838188</td>\n",
       "      <td>2.471703</td>\n",
       "      <td>2.717542</td>\n",
       "      <td>2.559539</td>\n",
       "      <td>2.262802</td>\n",
       "      <td>2.928694</td>\n",
       "      <td>...</td>\n",
       "      <td>5.343462</td>\n",
       "      <td>6.251011</td>\n",
       "      <td>5.006933</td>\n",
       "      <td>3.512901</td>\n",
       "      <td>-0.301599</td>\n",
       "      <td>0.826210</td>\n",
       "      <td>0.400747</td>\n",
       "      <td>EastEurope</td>\n",
       "      <td>Estonia</td>\n",
       "      <td>0</td>\n",
       "    </tr>\n",
       "    <tr>\n",
       "      <th>162</th>\n",
       "      <td>-0.386295</td>\n",
       "      <td>2.460377</td>\n",
       "      <td>2.026476</td>\n",
       "      <td>2.276417</td>\n",
       "      <td>2.582531</td>\n",
       "      <td>1.931376</td>\n",
       "      <td>2.325540</td>\n",
       "      <td>1.925435</td>\n",
       "      <td>2.208483</td>\n",
       "      <td>2.585104</td>\n",
       "      <td>...</td>\n",
       "      <td>5.557984</td>\n",
       "      <td>6.792777</td>\n",
       "      <td>5.291526</td>\n",
       "      <td>3.896562</td>\n",
       "      <td>0.346304</td>\n",
       "      <td>0.494688</td>\n",
       "      <td>0.195657</td>\n",
       "      <td>WesternDem</td>\n",
       "      <td>Spain</td>\n",
       "      <td>1</td>\n",
       "    </tr>\n",
       "    <tr>\n",
       "      <th>167</th>\n",
       "      <td>-0.872751</td>\n",
       "      <td>2.526960</td>\n",
       "      <td>2.434595</td>\n",
       "      <td>2.578491</td>\n",
       "      <td>2.778236</td>\n",
       "      <td>2.598207</td>\n",
       "      <td>2.926639</td>\n",
       "      <td>2.492113</td>\n",
       "      <td>2.616901</td>\n",
       "      <td>2.916005</td>\n",
       "      <td>...</td>\n",
       "      <td>6.944547</td>\n",
       "      <td>7.548718</td>\n",
       "      <td>3.235888</td>\n",
       "      <td>4.032868</td>\n",
       "      <td>1.513079</td>\n",
       "      <td>1.188317</td>\n",
       "      <td>0.617692</td>\n",
       "      <td>WesternDem</td>\n",
       "      <td>Sweden</td>\n",
       "      <td>1</td>\n",
       "    </tr>\n",
       "    <tr>\n",
       "      <th>65</th>\n",
       "      <td>0.696861</td>\n",
       "      <td>3.140650</td>\n",
       "      <td>3.532123</td>\n",
       "      <td>2.817027</td>\n",
       "      <td>2.920933</td>\n",
       "      <td>2.732990</td>\n",
       "      <td>2.720919</td>\n",
       "      <td>2.672168</td>\n",
       "      <td>2.605052</td>\n",
       "      <td>2.662275</td>\n",
       "      <td>...</td>\n",
       "      <td>4.521121</td>\n",
       "      <td>6.142305</td>\n",
       "      <td>5.961647</td>\n",
       "      <td>4.343649</td>\n",
       "      <td>-0.421358</td>\n",
       "      <td>-1.138105</td>\n",
       "      <td>0.050309</td>\n",
       "      <td>SubSaharian</td>\n",
       "      <td>Ghana</td>\n",
       "      <td>0</td>\n",
       "    </tr>\n",
       "  </tbody>\n",
       "</table>\n",
       "<p>10 rows × 45 columns</p>\n",
       "</div>"
      ],
      "text/plain": [
       "     wvs_auton  wvs_confaf  wvs_confch  wvs_confcs  wvs_confenv  wvs_confgov  \\\n",
       "123  -0.619501    3.017995    2.405298    2.487671     2.609164     2.486842   \n",
       "136   0.057441    2.883594    3.680651    2.775429     3.116524     2.623608   \n",
       "7     0.224245    2.122968    2.539607    1.868847     2.518353     2.110704   \n",
       "121  -0.582019    2.529307    1.973219    2.270056     2.423122     2.218974   \n",
       "92   -0.497333    2.724230    2.483176    2.627845     2.559572     2.566644   \n",
       "144   0.371316    2.784545    2.709889    2.706614     2.506876     2.781925   \n",
       "56   -0.423809    2.851419    2.695976    2.732372     2.838188     2.471703   \n",
       "162  -0.386295    2.460377    2.026476    2.276417     2.582531     1.931376   \n",
       "167  -0.872751    2.526960    2.434595    2.578491     2.778236     2.598207   \n",
       "65    0.696861    3.140650    3.532123    2.817027     2.920933     2.732990   \n",
       "\n",
       "     wvs_confjs  wvs_conflu  wvs_confpar  wvs_confpol  ...  wvs_satfin  \\\n",
       "123    2.750636    2.134978     2.332026     3.082294  ...    6.881995   \n",
       "136    2.819785    2.492409     2.659032     2.812310  ...    6.339219   \n",
       "7      1.859460    1.840580     2.006855     1.969954  ...    6.517899   \n",
       "121    2.691886    2.343143     2.234596     2.697118  ...    6.916266   \n",
       "92     2.434404    2.536504     2.522148     2.539799  ...    6.380667   \n",
       "144    2.695481    2.524558     2.745252     2.736084  ...    6.092993   \n",
       "56     2.717542    2.559539     2.262802     2.928694  ...    5.343462   \n",
       "162    2.325540    1.925435     2.208483     2.585104  ...    5.557984   \n",
       "167    2.926639    2.492113     2.616901     2.916005  ...    6.944547   \n",
       "65     2.720919    2.672168     2.605052     2.662275  ...    4.521121   \n",
       "\n",
       "     wvs_satlif  wvs_screl  wvs_subh  wvs_survself  wvs_tradrat  wvs_trust  \\\n",
       "123    7.648975   4.909091  4.146135      1.259925     0.371845   0.567766   \n",
       "136    7.326415   5.644417  3.691490      0.076220    -0.683717   0.031671   \n",
       "7      7.488213   6.504242  3.989496      0.161507    -0.103415   0.198548   \n",
       "121    7.492561   3.861832  3.875066      1.063929     0.753645   0.674169   \n",
       "92     6.963087   5.668449  3.908545     -0.355836    -0.341541   0.380420   \n",
       "144    6.467584   5.297315  4.125082     -0.302333    -0.651231   0.166339   \n",
       "56     6.251011   5.006933  3.512901     -0.301599     0.826210   0.400747   \n",
       "162    6.792777   5.291526  3.896562      0.346304     0.494688   0.195657   \n",
       "167    7.548718   3.235888  4.032868      1.513079     1.188317   0.617692   \n",
       "65     6.142305   5.961647  4.343649     -0.421358    -1.138105   0.050309   \n",
       "\n",
       "            region      country  western_dm  \n",
       "123     WesternDem  New Zealand           1  \n",
       "136  SouthEastAsia  Philippines           0  \n",
       "7            LatAm    Argentina           0  \n",
       "121     WesternDem  Netherlands           1  \n",
       "92      EastEurope   Kyrgyzstan           0  \n",
       "144    SubSaharian       Rwanda           0  \n",
       "56      EastEurope      Estonia           0  \n",
       "162     WesternDem        Spain           1  \n",
       "167     WesternDem       Sweden           1  \n",
       "65     SubSaharian        Ghana           0  \n",
       "\n",
       "[10 rows x 45 columns]"
      ]
     },
     "execution_count": 60,
     "metadata": {},
     "output_type": "execute_result"
    }
   ],
   "source": [
    "wvs_subset.sample(10)"
   ]
  },
  {
   "cell_type": "markdown",
   "metadata": {},
   "source": [
    "## 2- Escoger el test estadistico"
   ]
  },
  {
   "cell_type": "code",
   "execution_count": 61,
   "metadata": {},
   "outputs": [
    {
     "data": {
      "text/plain": [
       "Ttest_indResult(statistic=5.108950860705963, pvalue=7.079387187592779e-06)"
      ]
     },
     "execution_count": 61,
     "metadata": {},
     "output_type": "execute_result"
    }
   ],
   "source": [
    "stats.ttest_ind(wvs_subset.query('western_dm == 1')['wvs_trust'],\n",
    "                wvs_subset.query('western_dm == 0')['wvs_trust'])"
   ]
  },
  {
   "cell_type": "code",
   "execution_count": 62,
   "metadata": {},
   "outputs": [
    {
     "name": "stdout",
     "output_type": "stream",
     "text": [
      "Media Europa Occidental: 0.48746986333333336\n",
      "Media Resto del Mundo: 0.18320053989743593\n"
     ]
    }
   ],
   "source": [
    "print(\"Media Europa Occidental:\", wvs_subset.query('western_dm ==1')['wvs_trust'].mean())\n",
    "print(\"Media Resto del Mundo:\", wvs_subset.query('western_dm ==0')['wvs_trust'].mean())"
   ]
  },
  {
   "cell_type": "markdown",
   "metadata": {},
   "source": [
    "### Interpretar resultado:\n",
    "La evidencia entregada por <b>ttest_ind</b> sugiere que la diferencia en las tasas de confianza\n",
    "interpersonal entre ambos grupos es significativa al <b>95%</b>. Las tasas para europa occidental\n",
    "corresponden a <b>.48</b>, mientras que en el resto del mundo son <b>.18</b>. En promedio esperamos que los\n",
    "europeos presenten mayores tasas de confianza entre sí."
   ]
  },
  {
   "cell_type": "markdown",
   "metadata": {},
   "source": [
    "## Distribución T"
   ]
  },
  {
   "cell_type": "markdown",
   "metadata": {},
   "source": [
    "Es de utilidad cuando nuestras <b>muestras son pequeñas</b> y deseamos genear pruebas de hipótesis\n",
    "más exactas."
   ]
  },
  {
   "cell_type": "code",
   "execution_count": 63,
   "metadata": {},
   "outputs": [
    {
     "data": {
      "image/png": "[encoded data removed]",
      "text/plain": [
       "<Figure size 432x288 with 1 Axes>"
      ]
     },
     "metadata": {
      "needs_background": "light"
     },
     "output_type": "display_data"
    }
   ],
   "source": [
    "gfx.t_distribution()"
   ]
  },
  {
   "cell_type": "code",
   "execution_count": null,
   "metadata": {},
   "outputs": [],
   "source": []
  }
 ],
 "metadata": {
  "kernelspec": {
   "display_name": "Python 3",
   "language": "python",
   "name": "python3"
  },
  "language_info": {
   "codemirror_mode": {
    "name": "ipython",
    "version": 3
   },
   "file_extension": ".py",
   "mimetype": "text/x-python",
   "name": "python",
   "nbconvert_exporter": "python",
   "pygments_lexer": "ipython3",
   "version": "3.7.3"
  }
 },
 "nbformat": 4,
 "nbformat_minor": 2
}
