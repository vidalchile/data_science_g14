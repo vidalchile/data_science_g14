{
 "cells": [
  {
   "cell_type": "code",
   "execution_count": 1,
   "metadata": {},
   "outputs": [
    {
     "name": "stdout",
     "output_type": "stream",
     "text": [
      "Hola mundo\n"
     ]
    }
   ],
   "source": [
    "print(\"Hola mundo\")"
   ]
  },
  {
   "cell_type": "markdown",
   "metadata": {},
   "source": [
    "# Hola mundo"
   ]
  },
  {
   "cell_type": "code",
   "execution_count": 3,
   "metadata": {},
   "outputs": [
    {
     "name": "stdout",
     "output_type": "stream",
     "text": [
      "Yo tenía 0 perritos\n",
      "Yo tenía 1 perritos\n",
      "Yo tenía 2 perritos\n",
      "Yo tenía 3 perritos\n",
      "Yo tenía 4 perritos\n",
      "Yo tenía 5 perritos\n",
      "Yo tenía 6 perritos\n",
      "Yo tenía 7 perritos\n",
      "Yo tenía 8 perritos\n",
      "Yo tenía 9 perritos\n"
     ]
    }
   ],
   "source": [
    "for cantidad in range(10):\n",
    "    print(\"Yo tenía {} perritos\".format(cantidad))"
   ]
  },
  {
   "cell_type": "markdown",
   "metadata": {},
   "source": [
    "# Este es un chunk dentro de Markdown\n",
    "* Podemos hacer listas:\n",
    "    - Y otras cosas dentro de las listas\n",
    "* _También podemos hacer_ __tablas__\n",
    "\n",
    "|lorem |ipsum|\n",
    "|------|-----|\n",
    "|Dolor | sit | "
   ]
  }
 ],
 "metadata": {
  "kernelspec": {
   "display_name": "Python 3",
   "language": "python",
   "name": "python3"
  },
  "language_info": {
   "codemirror_mode": {
    "name": "ipython",
    "version": 3
   },
   "file_extension": ".py",
   "mimetype": "text/x-python",
   "name": "python",
   "nbconvert_exporter": "python",
   "pygments_lexer": "ipython3",
   "version": "3.7.3"
  }
 },
 "nbformat": 4,
 "nbformat_minor": 2
}
