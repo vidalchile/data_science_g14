{
 "cells": [
  {
   "cell_type": "code",
   "execution_count": 3,
   "metadata": {},
   "outputs": [],
   "source": [
    "import pandas as pd\n",
    "import numpy as np\n",
    "#import lec2_graphs as gfx\n",
    "import matplotlib.pyplot as plt\n",
    "import scipy.stats as stats\n",
    "plt.style.use('seaborn-whitegrid') # Gráficos estilo seaborn\n",
    "plt.rcParams[\"figure.figsize\"] = (4, 6) # Tamaño gráficos\n",
    "plt.rcParams[\"figure.dpi\"] = 100 # resolución gráficos"
   ]
  },
  {
   "cell_type": "code",
   "execution_count": 4,
   "metadata": {},
   "outputs": [],
   "source": [
    "df = pd.read_csv('got_battles.csv')"
   ]
  },
  {
   "cell_type": "code",
   "execution_count": 5,
   "metadata": {},
   "outputs": [
    {
     "data": {
      "text/html": [
       "<div>\n",
       "<style scoped>\n",
       "    .dataframe tbody tr th:only-of-type {\n",
       "        vertical-align: middle;\n",
       "    }\n",
       "\n",
       "    .dataframe tbody tr th {\n",
       "        vertical-align: top;\n",
       "    }\n",
       "\n",
       "    .dataframe thead th {\n",
       "        text-align: right;\n",
       "    }\n",
       "</style>\n",
       "<table border=\"1\" class=\"dataframe\">\n",
       "  <thead>\n",
       "    <tr style=\"text-align: right;\">\n",
       "      <th></th>\n",
       "      <th>name</th>\n",
       "      <th>year</th>\n",
       "      <th>battle_number</th>\n",
       "      <th>attacker_king</th>\n",
       "      <th>defender_king</th>\n",
       "      <th>attacker_1</th>\n",
       "      <th>attacker_2</th>\n",
       "      <th>attacker_3</th>\n",
       "      <th>attacker_4</th>\n",
       "      <th>defender_1</th>\n",
       "      <th>...</th>\n",
       "      <th>major_death</th>\n",
       "      <th>major_capture</th>\n",
       "      <th>attacker_size</th>\n",
       "      <th>defender_size</th>\n",
       "      <th>attacker_commander</th>\n",
       "      <th>defender_commander</th>\n",
       "      <th>summer</th>\n",
       "      <th>location</th>\n",
       "      <th>region</th>\n",
       "      <th>note</th>\n",
       "    </tr>\n",
       "  </thead>\n",
       "  <tbody>\n",
       "    <tr>\n",
       "      <th>0</th>\n",
       "      <td>Battle of the Golden Tooth</td>\n",
       "      <td>298</td>\n",
       "      <td>1</td>\n",
       "      <td>Joffrey/Tommen Baratheon</td>\n",
       "      <td>Robb Stark</td>\n",
       "      <td>Lannister</td>\n",
       "      <td>NaN</td>\n",
       "      <td>NaN</td>\n",
       "      <td>NaN</td>\n",
       "      <td>Tully</td>\n",
       "      <td>...</td>\n",
       "      <td>1.0</td>\n",
       "      <td>0.0</td>\n",
       "      <td>15000.0</td>\n",
       "      <td>4000.0</td>\n",
       "      <td>Jaime Lannister</td>\n",
       "      <td>Clement Piper, Vance</td>\n",
       "      <td>1.0</td>\n",
       "      <td>Golden Tooth</td>\n",
       "      <td>The Westerlands</td>\n",
       "      <td>NaN</td>\n",
       "    </tr>\n",
       "    <tr>\n",
       "      <th>1</th>\n",
       "      <td>Battle at the Mummer's Ford</td>\n",
       "      <td>298</td>\n",
       "      <td>2</td>\n",
       "      <td>Joffrey/Tommen Baratheon</td>\n",
       "      <td>Robb Stark</td>\n",
       "      <td>Lannister</td>\n",
       "      <td>NaN</td>\n",
       "      <td>NaN</td>\n",
       "      <td>NaN</td>\n",
       "      <td>Baratheon</td>\n",
       "      <td>...</td>\n",
       "      <td>1.0</td>\n",
       "      <td>0.0</td>\n",
       "      <td>NaN</td>\n",
       "      <td>120.0</td>\n",
       "      <td>Gregor Clegane</td>\n",
       "      <td>Beric Dondarrion</td>\n",
       "      <td>1.0</td>\n",
       "      <td>Mummer's Ford</td>\n",
       "      <td>The Riverlands</td>\n",
       "      <td>NaN</td>\n",
       "    </tr>\n",
       "    <tr>\n",
       "      <th>2</th>\n",
       "      <td>Battle of Riverrun</td>\n",
       "      <td>298</td>\n",
       "      <td>3</td>\n",
       "      <td>Joffrey/Tommen Baratheon</td>\n",
       "      <td>Robb Stark</td>\n",
       "      <td>Lannister</td>\n",
       "      <td>NaN</td>\n",
       "      <td>NaN</td>\n",
       "      <td>NaN</td>\n",
       "      <td>Tully</td>\n",
       "      <td>...</td>\n",
       "      <td>0.0</td>\n",
       "      <td>1.0</td>\n",
       "      <td>15000.0</td>\n",
       "      <td>10000.0</td>\n",
       "      <td>Jaime Lannister, Andros Brax</td>\n",
       "      <td>Edmure Tully, Tytos Blackwood</td>\n",
       "      <td>1.0</td>\n",
       "      <td>Riverrun</td>\n",
       "      <td>The Riverlands</td>\n",
       "      <td>NaN</td>\n",
       "    </tr>\n",
       "    <tr>\n",
       "      <th>3</th>\n",
       "      <td>Battle of the Green Fork</td>\n",
       "      <td>298</td>\n",
       "      <td>4</td>\n",
       "      <td>Robb Stark</td>\n",
       "      <td>Joffrey/Tommen Baratheon</td>\n",
       "      <td>Stark</td>\n",
       "      <td>NaN</td>\n",
       "      <td>NaN</td>\n",
       "      <td>NaN</td>\n",
       "      <td>Lannister</td>\n",
       "      <td>...</td>\n",
       "      <td>1.0</td>\n",
       "      <td>1.0</td>\n",
       "      <td>18000.0</td>\n",
       "      <td>20000.0</td>\n",
       "      <td>Roose Bolton, Wylis Manderly, Medger Cerwyn, H...</td>\n",
       "      <td>Tywin Lannister, Gregor Clegane, Kevan Lannist...</td>\n",
       "      <td>1.0</td>\n",
       "      <td>Green Fork</td>\n",
       "      <td>The Riverlands</td>\n",
       "      <td>NaN</td>\n",
       "    </tr>\n",
       "    <tr>\n",
       "      <th>4</th>\n",
       "      <td>Battle of the Whispering Wood</td>\n",
       "      <td>298</td>\n",
       "      <td>5</td>\n",
       "      <td>Robb Stark</td>\n",
       "      <td>Joffrey/Tommen Baratheon</td>\n",
       "      <td>Stark</td>\n",
       "      <td>Tully</td>\n",
       "      <td>NaN</td>\n",
       "      <td>NaN</td>\n",
       "      <td>Lannister</td>\n",
       "      <td>...</td>\n",
       "      <td>1.0</td>\n",
       "      <td>1.0</td>\n",
       "      <td>1875.0</td>\n",
       "      <td>6000.0</td>\n",
       "      <td>Robb Stark, Brynden Tully</td>\n",
       "      <td>Jaime Lannister</td>\n",
       "      <td>1.0</td>\n",
       "      <td>Whispering Wood</td>\n",
       "      <td>The Riverlands</td>\n",
       "      <td>NaN</td>\n",
       "    </tr>\n",
       "  </tbody>\n",
       "</table>\n",
       "<p>5 rows × 25 columns</p>\n",
       "</div>"
      ],
      "text/plain": [
       "                            name  year  battle_number  \\\n",
       "0     Battle of the Golden Tooth   298              1   \n",
       "1    Battle at the Mummer's Ford   298              2   \n",
       "2             Battle of Riverrun   298              3   \n",
       "3       Battle of the Green Fork   298              4   \n",
       "4  Battle of the Whispering Wood   298              5   \n",
       "\n",
       "              attacker_king             defender_king attacker_1 attacker_2  \\\n",
       "0  Joffrey/Tommen Baratheon                Robb Stark  Lannister        NaN   \n",
       "1  Joffrey/Tommen Baratheon                Robb Stark  Lannister        NaN   \n",
       "2  Joffrey/Tommen Baratheon                Robb Stark  Lannister        NaN   \n",
       "3                Robb Stark  Joffrey/Tommen Baratheon      Stark        NaN   \n",
       "4                Robb Stark  Joffrey/Tommen Baratheon      Stark      Tully   \n",
       "\n",
       "  attacker_3 attacker_4 defender_1  ... major_death  major_capture  \\\n",
       "0        NaN        NaN      Tully  ...         1.0            0.0   \n",
       "1        NaN        NaN  Baratheon  ...         1.0            0.0   \n",
       "2        NaN        NaN      Tully  ...         0.0            1.0   \n",
       "3        NaN        NaN  Lannister  ...         1.0            1.0   \n",
       "4        NaN        NaN  Lannister  ...         1.0            1.0   \n",
       "\n",
       "   attacker_size defender_size  \\\n",
       "0        15000.0        4000.0   \n",
       "1            NaN         120.0   \n",
       "2        15000.0       10000.0   \n",
       "3        18000.0       20000.0   \n",
       "4         1875.0        6000.0   \n",
       "\n",
       "                                  attacker_commander  \\\n",
       "0                                    Jaime Lannister   \n",
       "1                                     Gregor Clegane   \n",
       "2                       Jaime Lannister, Andros Brax   \n",
       "3  Roose Bolton, Wylis Manderly, Medger Cerwyn, H...   \n",
       "4                          Robb Stark, Brynden Tully   \n",
       "\n",
       "                                  defender_commander  summer         location  \\\n",
       "0                               Clement Piper, Vance     1.0     Golden Tooth   \n",
       "1                                   Beric Dondarrion     1.0    Mummer's Ford   \n",
       "2                      Edmure Tully, Tytos Blackwood     1.0         Riverrun   \n",
       "3  Tywin Lannister, Gregor Clegane, Kevan Lannist...     1.0       Green Fork   \n",
       "4                                    Jaime Lannister     1.0  Whispering Wood   \n",
       "\n",
       "            region note  \n",
       "0  The Westerlands  NaN  \n",
       "1   The Riverlands  NaN  \n",
       "2   The Riverlands  NaN  \n",
       "3   The Riverlands  NaN  \n",
       "4   The Riverlands  NaN  \n",
       "\n",
       "[5 rows x 25 columns]"
      ]
     },
     "execution_count": 5,
     "metadata": {},
     "output_type": "execute_result"
    }
   ],
   "source": [
    "df.head()"
   ]
  },
  {
   "cell_type": "code",
   "execution_count": 6,
   "metadata": {},
   "outputs": [
    {
     "data": {
      "text/plain": [
       "Index(['name', 'year', 'battle_number', 'attacker_king', 'defender_king',\n",
       "       'attacker_1', 'attacker_2', 'attacker_3', 'attacker_4', 'defender_1',\n",
       "       'defender_2', 'defender_3', 'defender_4', 'attacker_outcome',\n",
       "       'battle_type', 'major_death', 'major_capture', 'attacker_size',\n",
       "       'defender_size', 'attacker_commander', 'defender_commander', 'summer',\n",
       "       'location', 'region', 'note'],\n",
       "      dtype='object')"
      ]
     },
     "execution_count": 6,
     "metadata": {},
     "output_type": "execute_result"
    }
   ],
   "source": [
    "df.columns"
   ]
  },
  {
   "cell_type": "code",
   "execution_count": 7,
   "metadata": {},
   "outputs": [
    {
     "data": {
      "text/plain": [
       "(38, 25)"
      ]
     },
     "execution_count": 7,
     "metadata": {},
     "output_type": "execute_result"
    }
   ],
   "source": [
    "df.shape"
   ]
  },
  {
   "cell_type": "code",
   "execution_count": 8,
   "metadata": {},
   "outputs": [
    {
     "data": {
      "text/plain": [
       "Joffrey/Tommen Baratheon    14\n",
       "Robb Stark                  10\n",
       "Balon/Euron Greyjoy          7\n",
       "Stannis Baratheon            5\n",
       "Name: attacker_king, dtype: int64"
      ]
     },
     "execution_count": 8,
     "metadata": {},
     "output_type": "execute_result"
    }
   ],
   "source": [
    "df['attacker_king'].value_counts()"
   ]
  },
  {
   "cell_type": "markdown",
   "metadata": {},
   "source": [
    "Observamos que los Baratheon concentran 14 de 38 batallas, seguidos por los Starks. Stannis\n",
    "Baratheon, el \"tío\" de Joffrey, se posición como el que generó menos batallas con 5 de 35."
   ]
  },
  {
   "cell_type": "code",
   "execution_count": 9,
   "metadata": {},
   "outputs": [
    {
     "data": {
      "text/plain": [
       "Joffrey/Tommen Baratheon    0.368421\n",
       "Robb Stark                  0.263158\n",
       "Balon/Euron Greyjoy         0.184211\n",
       "Stannis Baratheon           0.131579\n",
       "Name: attacker_king, dtype: float64"
      ]
     },
     "execution_count": 9,
     "metadata": {},
     "output_type": "execute_result"
    }
   ],
   "source": [
    "df['attacker_king'].value_counts() / len(df)"
   ]
  },
  {
   "cell_type": "markdown",
   "metadata": {},
   "source": [
    "Se observa que entre Joffrey y Tomen Baratheon se concentra el 37% de las batallas, seguidas por\n",
    "un 26% de Robb Stark.\n",
    "la probabilidad que un Baratheon inicie una batalla es del 50%"
   ]
  },
  {
   "cell_type": "markdown",
   "metadata": {},
   "source": [
    "Un ejemplo de ésto es la probabilidad que se produzca una muerte importante (medida con la\n",
    "variable major_death )"
   ]
  },
  {
   "cell_type": "code",
   "execution_count": 10,
   "metadata": {},
   "outputs": [
    {
     "data": {
      "text/plain": [
       "0.0    0.631579\n",
       "1.0    0.342105\n",
       "Name: major_death, dtype: float64"
      ]
     },
     "execution_count": 10,
     "metadata": {},
     "output_type": "execute_result"
    }
   ],
   "source": [
    "df['major_death'].value_counts() / len(df)"
   ]
  },
  {
   "cell_type": "markdown",
   "metadata": {},
   "source": [
    "La información solicitada es que hay un 34% de probabilidad que en una batalla cualquiera muera\n",
    "un personaje importante."
   ]
  },
  {
   "cell_type": "markdown",
   "metadata": {},
   "source": [
    "## Contando unión e intersección de eventos"
   ]
  },
  {
   "cell_type": "code",
   "execution_count": null,
   "metadata": {},
   "outputs": [],
   "source": []
  }
 ],
 "metadata": {
  "kernelspec": {
   "display_name": "Python 3",
   "language": "python",
   "name": "python3"
  },
  "language_info": {
   "codemirror_mode": {
    "name": "ipython",
    "version": 3
   },
   "file_extension": ".py",
   "mimetype": "text/x-python",
   "name": "python",
   "nbconvert_exporter": "python",
   "pygments_lexer": "ipython3",
   "version": "3.7.3"
  }
 },
 "nbformat": 4,
 "nbformat_minor": 2
}
