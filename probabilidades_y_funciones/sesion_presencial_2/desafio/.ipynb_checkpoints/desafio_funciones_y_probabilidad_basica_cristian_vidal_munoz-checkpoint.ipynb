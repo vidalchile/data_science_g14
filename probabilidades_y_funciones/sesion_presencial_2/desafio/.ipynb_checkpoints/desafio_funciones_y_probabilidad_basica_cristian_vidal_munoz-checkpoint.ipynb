{
 "cells": [
  {
   "cell_type": "markdown",
   "metadata": {},
   "source": [
    "## Desafío - Funciones y probabilidad básica\n",
    "### Cristian Vidal Muñoz"
   ]
  },
  {
   "cell_type": "code",
   "execution_count": 1,
   "metadata": {},
   "outputs": [],
   "source": [
    "import pandas as pd\n",
    "import numpy as np"
   ]
  },
  {
   "cell_type": "code",
   "execution_count": 2,
   "metadata": {},
   "outputs": [],
   "source": [
    "df = pd.read_csv('worldcup2014.csv')"
   ]
  },
  {
   "cell_type": "code",
   "execution_count": 3,
   "metadata": {},
   "outputs": [
    {
     "data": {
      "text/html": [
       "<div>\n",
       "<style scoped>\n",
       "    .dataframe tbody tr th:only-of-type {\n",
       "        vertical-align: middle;\n",
       "    }\n",
       "\n",
       "    .dataframe tbody tr th {\n",
       "        vertical-align: top;\n",
       "    }\n",
       "\n",
       "    .dataframe thead th {\n",
       "        text-align: right;\n",
       "    }\n",
       "</style>\n",
       "<table border=\"1\" class=\"dataframe\">\n",
       "  <thead>\n",
       "    <tr style=\"text-align: right;\">\n",
       "      <th></th>\n",
       "      <th>team</th>\n",
       "      <th>continent</th>\n",
       "      <th>group</th>\n",
       "      <th>group_pos</th>\n",
       "      <th>cantidad_juegos</th>\n",
       "      <th>juegos_ganados</th>\n",
       "      <th>juegos_empatados</th>\n",
       "      <th>juegos_perdidos</th>\n",
       "      <th>goles_favor</th>\n",
       "      <th>goles_contra</th>\n",
       "      <th>goles_diferencia</th>\n",
       "      <th>puntos</th>\n",
       "      <th>clasificado</th>\n",
       "    </tr>\n",
       "  </thead>\n",
       "  <tbody>\n",
       "    <tr>\n",
       "      <th>15</th>\n",
       "      <td>England</td>\n",
       "      <td>europe</td>\n",
       "      <td>D</td>\n",
       "      <td>4</td>\n",
       "      <td>3</td>\n",
       "      <td>0</td>\n",
       "      <td>1</td>\n",
       "      <td>2</td>\n",
       "      <td>2</td>\n",
       "      <td>4</td>\n",
       "      <td>−2</td>\n",
       "      <td>1</td>\n",
       "      <td>0</td>\n",
       "    </tr>\n",
       "    <tr>\n",
       "      <th>16</th>\n",
       "      <td>France</td>\n",
       "      <td>europe</td>\n",
       "      <td>E</td>\n",
       "      <td>1</td>\n",
       "      <td>3</td>\n",
       "      <td>2</td>\n",
       "      <td>1</td>\n",
       "      <td>0</td>\n",
       "      <td>8</td>\n",
       "      <td>2</td>\n",
       "      <td>6</td>\n",
       "      <td>7</td>\n",
       "      <td>1</td>\n",
       "    </tr>\n",
       "    <tr>\n",
       "      <th>3</th>\n",
       "      <td>Cameroon</td>\n",
       "      <td>africa</td>\n",
       "      <td>A</td>\n",
       "      <td>4</td>\n",
       "      <td>3</td>\n",
       "      <td>0</td>\n",
       "      <td>0</td>\n",
       "      <td>3</td>\n",
       "      <td>1</td>\n",
       "      <td>9</td>\n",
       "      <td>−8</td>\n",
       "      <td>0</td>\n",
       "      <td>0</td>\n",
       "    </tr>\n",
       "    <tr>\n",
       "      <th>1</th>\n",
       "      <td>Mexico</td>\n",
       "      <td>northamerica</td>\n",
       "      <td>A</td>\n",
       "      <td>2</td>\n",
       "      <td>3</td>\n",
       "      <td>2</td>\n",
       "      <td>1</td>\n",
       "      <td>0</td>\n",
       "      <td>4</td>\n",
       "      <td>1</td>\n",
       "      <td>3</td>\n",
       "      <td>7</td>\n",
       "      <td>1</td>\n",
       "    </tr>\n",
       "    <tr>\n",
       "      <th>5</th>\n",
       "      <td>Chile</td>\n",
       "      <td>southamerica</td>\n",
       "      <td>B</td>\n",
       "      <td>2</td>\n",
       "      <td>3</td>\n",
       "      <td>2</td>\n",
       "      <td>0</td>\n",
       "      <td>1</td>\n",
       "      <td>5</td>\n",
       "      <td>3</td>\n",
       "      <td>2</td>\n",
       "      <td>6</td>\n",
       "      <td>1</td>\n",
       "    </tr>\n",
       "  </tbody>\n",
       "</table>\n",
       "</div>"
      ],
      "text/plain": [
       "        team     continent group  group_pos  cantidad_juegos  juegos_ganados  \\\n",
       "15   England        europe     D          4                3               0   \n",
       "16    France        europe     E          1                3               2   \n",
       "3   Cameroon        africa     A          4                3               0   \n",
       "1     Mexico  northamerica     A          2                3               2   \n",
       "5      Chile  southamerica     B          2                3               2   \n",
       "\n",
       "    juegos_empatados  juegos_perdidos  goles_favor  goles_contra  \\\n",
       "15                 1                2            2             4   \n",
       "16                 1                0            8             2   \n",
       "3                  0                3            1             9   \n",
       "1                  1                0            4             1   \n",
       "5                  0                1            5             3   \n",
       "\n",
       "   goles_diferencia  puntos  clasificado  \n",
       "15               −2       1            0  \n",
       "16                6       7            1  \n",
       "3                −8       0            0  \n",
       "1                 3       7            1  \n",
       "5                 2       6            1  "
      ]
     },
     "execution_count": 3,
     "metadata": {},
     "output_type": "execute_result"
    }
   ],
   "source": [
    "df.sample(5)"
   ]
  },
  {
   "cell_type": "markdown",
   "metadata": {},
   "source": [
    "### Desafío 1: Generación de funciones"
   ]
  },
  {
   "cell_type": "markdown",
   "metadata": {},
   "source": [
    "##### Genere funciones para calcular la media y varianza de un vector. Debe cumplir con los siguientes requistos:\n",
    "* Ambas funciones deben ingresar un argumento x .\n",
    "* Las funciones deben contener docstrings con la documentación asociada a la variable.\n",
    "* Deben retornar el resultado (tip: utilice return ).\n",
    "* La función de la varianza debe llamar a la función de la media.\n",
    "##### Utilice las funciones para reportar la información sobre goles_favor , goles_contra , puntos"
   ]
  },
  {
   "cell_type": "code",
   "execution_count": 4,
   "metadata": {},
   "outputs": [],
   "source": [
    "def media(x):\n",
    "    \"\"\"\n",
    "    media:\n",
    "    Función que permite obtener el promedio de un conjunto de datos o población\n",
    "    parameters:\n",
    "        x: vector con el conjunto de datos\n",
    "    returns:\n",
    "        float: retorna la media de un conjunto de datos\n",
    "    \"\"\"\n",
    "    return np.mean(x)"
   ]
  },
  {
   "cell_type": "code",
   "execution_count": 5,
   "metadata": {},
   "outputs": [],
   "source": [
    "def varianza(x):\n",
    "    \"\"\"\n",
    "    varianza:\n",
    "        función que permite medir qué tan disperso es un conjunto de datos\n",
    "    parameters:\n",
    "        x: vector con el conjunto de datos\n",
    "    returns:\n",
    "        float: retorna la varianza de un conjunto de datos\n",
    "    \"\"\"\n",
    "    return sum((xi - media(x)) ** 2 for xi in x) / len(x)"
   ]
  },
  {
   "cell_type": "code",
   "execution_count": 6,
   "metadata": {},
   "outputs": [
    {
     "name": "stdout",
     "output_type": "stream",
     "text": [
      "Media goles a favor: 4.25\n",
      "Varianza goles a favor: 5.1875\n",
      "Media goles en contra: 4.25\n",
      "Varianza goles en contra: 4.8125\n",
      "Media puntos: 4.21875\n",
      "Varianza puntos: 8.0458984375\n"
     ]
    }
   ],
   "source": [
    "print('Media goles a favor: {}'.format(media(df['goles_favor'])))\n",
    "print('Varianza goles a favor: {}'.format(varianza(df['goles_favor'])))\n",
    "print('Media goles en contra: {}'.format(media(df['goles_contra'])))\n",
    "print('Varianza goles en contra: {}'.format(varianza(df['goles_contra'])))\n",
    "print('Media puntos: {}'.format(media(df['puntos'])))\n",
    "print('Varianza puntos: {}'.format(varianza(df['puntos'])))"
   ]
  },
  {
   "cell_type": "markdown",
   "metadata": {},
   "source": [
    "### Desafío 2"
   ]
  },
  {
   "cell_type": "markdown",
   "metadata": {},
   "source": [
    "A continuación se presenta el siguiente código para obtener la media y varianza de una variable para\n",
    "distintos continentes"
   ]
  },
  {
   "cell_type": "code",
   "execution_count": 7,
   "metadata": {},
   "outputs": [],
   "source": [
    "europe_df = df[df['continent'] == 'europe']\n",
    "southamerica_df = df[df['continent'] == 'southamerica']\n",
    "africa_df = df[df['continent'] == 'africa']\n",
    "asia_df = df[df['continent'] == 'asia']\n",
    "northamerica_df = df[df['continent'] == 'northamerica']\n",
    "continentes = [europe_df,southamerica_df,africa_df,asia_df,northamerica_df]"
   ]
  },
  {
   "cell_type": "markdown",
   "metadata": {},
   "source": [
    "* En base a la información disponible, genere una función con los argumentos group_by y var para ingresar una lista de submuestras y una variable a analizar, respectivamente\n",
    "* La función debe retornar un DataFrame .\n",
    "* Implemente la función para extraer la información sobre la cantidad de goles a favor, en contra y la cantidad de puntos.\n",
    "* Reporte en qué continente se encuentra la mayor cantidad de goles a favor, en contra y cantidad de puntos."
   ]
  },
  {
   "cell_type": "code",
   "execution_count": 9,
   "metadata": {},
   "outputs": [],
   "source": [
    "def  group_by_continent(group_by, var):\n",
    "    \n",
    "    nombre_continente = []\n",
    "    total_variable = []\n",
    "    \n",
    "    for continente_df in group_by:\n",
    "    \n",
    "        # Obtener el nombre del continente\n",
    "        nombre_continente.append(continente_df.iloc[0,1])\n",
    "        \n",
    "        # Obtener el total de la variable a analizar\n",
    "        total_variable.append(continente_df[var].sum())\n",
    "        \n",
    "        # Crear un DataFrame con lo datos consolidados\n",
    "        tmp = pd.DataFrame({\n",
    "            'continente': nombre_continente, \n",
    "            'total': total_variable\n",
    "        })\n",
    "        \n",
    "    return tmp"
   ]
  },
  {
   "cell_type": "code",
   "execution_count": 10,
   "metadata": {},
   "outputs": [
    {
     "data": {
      "text/html": [
       "<div>\n",
       "<style scoped>\n",
       "    .dataframe tbody tr th:only-of-type {\n",
       "        vertical-align: middle;\n",
       "    }\n",
       "\n",
       "    .dataframe tbody tr th {\n",
       "        vertical-align: top;\n",
       "    }\n",
       "\n",
       "    .dataframe thead th {\n",
       "        text-align: right;\n",
       "    }\n",
       "</style>\n",
       "<table border=\"1\" class=\"dataframe\">\n",
       "  <thead>\n",
       "    <tr style=\"text-align: right;\">\n",
       "      <th></th>\n",
       "      <th>continente</th>\n",
       "      <th>total</th>\n",
       "    </tr>\n",
       "  </thead>\n",
       "  <tbody>\n",
       "    <tr>\n",
       "      <th>0</th>\n",
       "      <td>europe</td>\n",
       "      <td>62</td>\n",
       "    </tr>\n",
       "    <tr>\n",
       "      <th>1</th>\n",
       "      <td>southamerica</td>\n",
       "      <td>34</td>\n",
       "    </tr>\n",
       "    <tr>\n",
       "      <th>2</th>\n",
       "      <td>africa</td>\n",
       "      <td>18</td>\n",
       "    </tr>\n",
       "    <tr>\n",
       "      <th>3</th>\n",
       "      <td>asia</td>\n",
       "      <td>9</td>\n",
       "    </tr>\n",
       "    <tr>\n",
       "      <th>4</th>\n",
       "      <td>northamerica</td>\n",
       "      <td>13</td>\n",
       "    </tr>\n",
       "  </tbody>\n",
       "</table>\n",
       "</div>"
      ],
      "text/plain": [
       "     continente  total\n",
       "0        europe     62\n",
       "1  southamerica     34\n",
       "2        africa     18\n",
       "3          asia      9\n",
       "4  northamerica     13"
      ]
     },
     "execution_count": 10,
     "metadata": {},
     "output_type": "execute_result"
    }
   ],
   "source": [
    "group_by_continent(continentes, 'goles_favor')"
   ]
  },
  {
   "cell_type": "markdown",
   "metadata": {},
   "source": [
    "<b>Se observa que el continente con mayor cantidad de goles a favor es europa con un total de 62.</b>"
   ]
  },
  {
   "cell_type": "code",
   "execution_count": 17,
   "metadata": {},
   "outputs": [
    {
     "data": {
      "text/html": [
       "<div>\n",
       "<style scoped>\n",
       "    .dataframe tbody tr th:only-of-type {\n",
       "        vertical-align: middle;\n",
       "    }\n",
       "\n",
       "    .dataframe tbody tr th {\n",
       "        vertical-align: top;\n",
       "    }\n",
       "\n",
       "    .dataframe thead th {\n",
       "        text-align: right;\n",
       "    }\n",
       "</style>\n",
       "<table border=\"1\" class=\"dataframe\">\n",
       "  <thead>\n",
       "    <tr style=\"text-align: right;\">\n",
       "      <th></th>\n",
       "      <th>continente</th>\n",
       "      <th>total</th>\n",
       "    </tr>\n",
       "  </thead>\n",
       "  <tbody>\n",
       "    <tr>\n",
       "      <th>0</th>\n",
       "      <td>europe</td>\n",
       "      <td>52</td>\n",
       "    </tr>\n",
       "    <tr>\n",
       "      <th>1</th>\n",
       "      <td>southamerica</td>\n",
       "      <td>17</td>\n",
       "    </tr>\n",
       "    <tr>\n",
       "      <th>2</th>\n",
       "      <td>africa</td>\n",
       "      <td>28</td>\n",
       "    </tr>\n",
       "    <tr>\n",
       "      <th>3</th>\n",
       "      <td>asia</td>\n",
       "      <td>25</td>\n",
       "    </tr>\n",
       "    <tr>\n",
       "      <th>4</th>\n",
       "      <td>northamerica</td>\n",
       "      <td>14</td>\n",
       "    </tr>\n",
       "  </tbody>\n",
       "</table>\n",
       "</div>"
      ],
      "text/plain": [
       "     continente  total\n",
       "0        europe     52\n",
       "1  southamerica     17\n",
       "2        africa     28\n",
       "3          asia     25\n",
       "4  northamerica     14"
      ]
     },
     "execution_count": 17,
     "metadata": {},
     "output_type": "execute_result"
    }
   ],
   "source": [
    "group_by_continent(continentes, 'goles_contra')"
   ]
  },
  {
   "cell_type": "markdown",
   "metadata": {},
   "source": [
    "<b>Se observa que el continente con mayor cantidad de goles en contra es europa con un total de 52.</b>"
   ]
  },
  {
   "cell_type": "code",
   "execution_count": 18,
   "metadata": {},
   "outputs": [
    {
     "data": {
      "text/html": [
       "<div>\n",
       "<style scoped>\n",
       "    .dataframe tbody tr th:only-of-type {\n",
       "        vertical-align: middle;\n",
       "    }\n",
       "\n",
       "    .dataframe tbody tr th {\n",
       "        vertical-align: top;\n",
       "    }\n",
       "\n",
       "    .dataframe thead th {\n",
       "        text-align: right;\n",
       "    }\n",
       "</style>\n",
       "<table border=\"1\" class=\"dataframe\">\n",
       "  <thead>\n",
       "    <tr style=\"text-align: right;\">\n",
       "      <th></th>\n",
       "      <th>continente</th>\n",
       "      <th>total</th>\n",
       "    </tr>\n",
       "  </thead>\n",
       "  <tbody>\n",
       "    <tr>\n",
       "      <th>0</th>\n",
       "      <td>europe</td>\n",
       "      <td>61</td>\n",
       "    </tr>\n",
       "    <tr>\n",
       "      <th>1</th>\n",
       "      <td>southamerica</td>\n",
       "      <td>41</td>\n",
       "    </tr>\n",
       "    <tr>\n",
       "      <th>2</th>\n",
       "      <td>africa</td>\n",
       "      <td>12</td>\n",
       "    </tr>\n",
       "    <tr>\n",
       "      <th>3</th>\n",
       "      <td>asia</td>\n",
       "      <td>3</td>\n",
       "    </tr>\n",
       "    <tr>\n",
       "      <th>4</th>\n",
       "      <td>northamerica</td>\n",
       "      <td>18</td>\n",
       "    </tr>\n",
       "  </tbody>\n",
       "</table>\n",
       "</div>"
      ],
      "text/plain": [
       "     continente  total\n",
       "0        europe     61\n",
       "1  southamerica     41\n",
       "2        africa     12\n",
       "3          asia      3\n",
       "4  northamerica     18"
      ]
     },
     "execution_count": 18,
     "metadata": {},
     "output_type": "execute_result"
    }
   ],
   "source": [
    "group_by_continent(continentes, 'puntos')"
   ]
  },
  {
   "cell_type": "markdown",
   "metadata": {},
   "source": [
    "<b>Se observa que el continente con mayor cantidad de puntos fue europa con un total de 61.</b>"
   ]
  },
  {
   "cell_type": "markdown",
   "metadata": {},
   "source": [
    "### Desafío 3: Simulaciones"
   ]
  },
  {
   "cell_type": "markdown",
   "metadata": {},
   "source": [
    "* Genere una función generate_pet que devuelva de forma aleatoria un string 'perro' o 'gato' . Ejecútela un par de veces.\n",
    "  * tip: Puede utilizar la función np.random.choice para retornar elementos al azar."
   ]
  },
  {
   "cell_type": "code",
   "execution_count": 13,
   "metadata": {},
   "outputs": [],
   "source": [
    "np.random.seed(2)\n",
    "\n",
    "def generate_pet():\n",
    "    lista_animales = ['perro', 'gato']\n",
    "    animal = np.random.choice(a=lista_animales)\n",
    "    return animal"
   ]
  },
  {
   "cell_type": "markdown",
   "metadata": {},
   "source": [
    "* Aplique la función generate_pet 20 veces mediante un loop y guarde los resultados en una lista.\n",
    "    * tip: Puede generar una lista vacía con [ ] y asignarla a un objeto. Puede añadir elementos a la lista con .append ."
   ]
  },
  {
   "cell_type": "code",
   "execution_count": 14,
   "metadata": {},
   "outputs": [],
   "source": [
    "resultado = []\n",
    "for i in range(20):\n",
    "    animal = generate_pet()\n",
    "    resultado.append(animal)\n",
    "animal_df = pd.DataFrame(data={'animal':resultado})"
   ]
  },
  {
   "cell_type": "code",
   "execution_count": 15,
   "metadata": {},
   "outputs": [
    {
     "data": {
      "text/html": [
       "<div>\n",
       "<style scoped>\n",
       "    .dataframe tbody tr th:only-of-type {\n",
       "        vertical-align: middle;\n",
       "    }\n",
       "\n",
       "    .dataframe tbody tr th {\n",
       "        vertical-align: top;\n",
       "    }\n",
       "\n",
       "    .dataframe thead th {\n",
       "        text-align: right;\n",
       "    }\n",
       "</style>\n",
       "<table border=\"1\" class=\"dataframe\">\n",
       "  <thead>\n",
       "    <tr style=\"text-align: right;\">\n",
       "      <th></th>\n",
       "      <th>animal</th>\n",
       "    </tr>\n",
       "  </thead>\n",
       "  <tbody>\n",
       "    <tr>\n",
       "      <th>0</th>\n",
       "      <td>perro</td>\n",
       "    </tr>\n",
       "    <tr>\n",
       "      <th>1</th>\n",
       "      <td>gato</td>\n",
       "    </tr>\n",
       "    <tr>\n",
       "      <th>2</th>\n",
       "      <td>gato</td>\n",
       "    </tr>\n",
       "    <tr>\n",
       "      <th>3</th>\n",
       "      <td>perro</td>\n",
       "    </tr>\n",
       "    <tr>\n",
       "      <th>4</th>\n",
       "      <td>perro</td>\n",
       "    </tr>\n",
       "    <tr>\n",
       "      <th>5</th>\n",
       "      <td>gato</td>\n",
       "    </tr>\n",
       "    <tr>\n",
       "      <th>6</th>\n",
       "      <td>perro</td>\n",
       "    </tr>\n",
       "    <tr>\n",
       "      <th>7</th>\n",
       "      <td>gato</td>\n",
       "    </tr>\n",
       "    <tr>\n",
       "      <th>8</th>\n",
       "      <td>perro</td>\n",
       "    </tr>\n",
       "    <tr>\n",
       "      <th>9</th>\n",
       "      <td>gato</td>\n",
       "    </tr>\n",
       "    <tr>\n",
       "      <th>10</th>\n",
       "      <td>perro</td>\n",
       "    </tr>\n",
       "    <tr>\n",
       "      <th>11</th>\n",
       "      <td>gato</td>\n",
       "    </tr>\n",
       "    <tr>\n",
       "      <th>12</th>\n",
       "      <td>gato</td>\n",
       "    </tr>\n",
       "    <tr>\n",
       "      <th>13</th>\n",
       "      <td>gato</td>\n",
       "    </tr>\n",
       "    <tr>\n",
       "      <th>14</th>\n",
       "      <td>gato</td>\n",
       "    </tr>\n",
       "    <tr>\n",
       "      <th>15</th>\n",
       "      <td>gato</td>\n",
       "    </tr>\n",
       "    <tr>\n",
       "      <th>16</th>\n",
       "      <td>gato</td>\n",
       "    </tr>\n",
       "    <tr>\n",
       "      <th>17</th>\n",
       "      <td>gato</td>\n",
       "    </tr>\n",
       "    <tr>\n",
       "      <th>18</th>\n",
       "      <td>perro</td>\n",
       "    </tr>\n",
       "    <tr>\n",
       "      <th>19</th>\n",
       "      <td>perro</td>\n",
       "    </tr>\n",
       "  </tbody>\n",
       "</table>\n",
       "</div>"
      ],
      "text/plain": [
       "   animal\n",
       "0   perro\n",
       "1    gato\n",
       "2    gato\n",
       "3   perro\n",
       "4   perro\n",
       "5    gato\n",
       "6   perro\n",
       "7    gato\n",
       "8   perro\n",
       "9    gato\n",
       "10  perro\n",
       "11   gato\n",
       "12   gato\n",
       "13   gato\n",
       "14   gato\n",
       "15   gato\n",
       "16   gato\n",
       "17   gato\n",
       "18  perro\n",
       "19  perro"
      ]
     },
     "execution_count": 15,
     "metadata": {},
     "output_type": "execute_result"
    }
   ],
   "source": [
    "animal_df"
   ]
  },
  {
   "cell_type": "markdown",
   "metadata": {},
   "source": [
    "<b>¿Cuál es la probabilidad de elegir un perro al azar? ¿Y un gato?</b>"
   ]
  },
  {
   "cell_type": "code",
   "execution_count": 16,
   "metadata": {},
   "outputs": [
    {
     "data": {
      "text/plain": [
       "gato     0.6\n",
       "perro    0.4\n",
       "Name: animal, dtype: float64"
      ]
     },
     "execution_count": 16,
     "metadata": {},
     "output_type": "execute_result"
    }
   ],
   "source": [
    "animal_df['animal'].value_counts('%')"
   ]
  },
  {
   "cell_type": "markdown",
   "metadata": {},
   "source": [
    "La probabilidad de elegir un perro al azar es de un 40% y la probabilidad de elegir un gato es de un 60%."
   ]
  },
  {
   "cell_type": "markdown",
   "metadata": {},
   "source": [
    "<b>Agrege np.random.seed(2) al inicio del chunk. ¿Qué hace éste método en la simulación?</b>"
   ]
  },
  {
   "cell_type": "markdown",
   "metadata": {},
   "source": [
    "Utilizar la función \"np.random.seed(2)\" permite generar números pseudoaleatorios, proporcionar un valor \"inicial\", las \"semillas\" aseguran obtener siempre el mismo resultado, pero si el parámetro ingresado en la semilla es diferente ejemplo \"np.random.seed(1)\" se producirá una salida distinta."
   ]
  },
  {
   "cell_type": "markdown",
   "metadata": {},
   "source": [
    "### Desafío 4: Función simuladora"
   ]
  },
  {
   "cell_type": "markdown",
   "metadata": {},
   "source": [
    "* Genere un método llamado simulate_pets_prob que tome como argumento un número finito de simulaciones a generar.\n",
    "* El método debe simular dos situaciones young_pet y old_pet , y contar la ocurrencia de los siguientes casos:\n",
    "    * 1. De los dos animales simulados, contar las ocasiones donde por lo menos uno de los animales sea un perro. \n",
    "    * De los dos animales simulados, contar las ocasiones donde por lo menos uno sea un perro viejo.\n",
    "    * De los dos animales simulados, contar las ocasiones donde los dos sean perros\n",
    "* El método debe tener una semilla pseudoaleatoria de 1.\n",
    "* De los tres escenarios, ¿Cuál es el menos probable? ¿Cuál es el más probable?"
   ]
  },
  {
   "cell_type": "code",
   "execution_count": 33,
   "metadata": {},
   "outputs": [],
   "source": [
    "def simulate_pets_prob(simulaciones):\n",
    "    \n",
    "    np.random.seed(1)\n",
    "    \n",
    "    young_pet = []\n",
    "    old_pet = []\n",
    "    \n",
    "    # Simulaciones\n",
    "    for i in range(simulaciones):\n",
    "        young_pet.append(generate_pet())\n",
    "        old_pet.append(generate_pet())\n",
    "    \n",
    "    # Crear DataFrame\n",
    "    animales_df = pd.DataFrame(data={'young_pet': young_pet, 'old_pet': old_pet})\n",
    "    \n",
    "     # 1- Contar las ocasiones donde por lo menos uno de los animales sea un perro\n",
    "    animales_df['uno_es_perro'] = np.where((animales_df['young_pet'] == 'perro') | (animales_df['old_pet'] == 'perro'), 1, 0)\n",
    "    \n",
    "    # 2- Contar las ocasiones donde por lo menos uno sea un perro viejo\n",
    "    animales_df['uno_es_perro_viejo'] = np.where(animales_df['old_pet'] == 'perro', 1, 0)\n",
    "    \n",
    "    # 3- Contar las ocasiones donde los dos sean perros\n",
    "    animales_df['ambos_son_perros'] = np.where((animales_df['young_pet'] == 'perro') & (animales_df['old_pet'] == 'perro'), 1, 0)\n",
    "    \n",
    "    # Consolidar resultados\n",
    "    resultado_final = pd.DataFrame({\n",
    "        'Situacion': [\n",
    "            'Uno de los animales es un perro', \n",
    "            'Al menos un animal es un perro viejo',\n",
    "            'Los dos animales son perros'\n",
    "        ], \n",
    "        'Probabilidad %':[\n",
    "            animales_df['uno_es_perro'].value_counts('%')[1],\n",
    "            animales_df['uno_es_perro_viejo'].value_counts('%')[1],\n",
    "            animales_df['ambos_son_perros'].value_counts('%')[1]\n",
    "        ]\n",
    "    })\n",
    "    \n",
    "    return resultado_final"
   ]
  },
  {
   "cell_type": "code",
   "execution_count": 35,
   "metadata": {},
   "outputs": [
    {
     "data": {
      "text/html": [
       "<div>\n",
       "<style scoped>\n",
       "    .dataframe tbody tr th:only-of-type {\n",
       "        vertical-align: middle;\n",
       "    }\n",
       "\n",
       "    .dataframe tbody tr th {\n",
       "        vertical-align: top;\n",
       "    }\n",
       "\n",
       "    .dataframe thead th {\n",
       "        text-align: right;\n",
       "    }\n",
       "</style>\n",
       "<table border=\"1\" class=\"dataframe\">\n",
       "  <thead>\n",
       "    <tr style=\"text-align: right;\">\n",
       "      <th></th>\n",
       "      <th>Situacion</th>\n",
       "      <th>Probabilidad %</th>\n",
       "    </tr>\n",
       "  </thead>\n",
       "  <tbody>\n",
       "    <tr>\n",
       "      <th>0</th>\n",
       "      <td>Uno de los animales es un perro</td>\n",
       "      <td>0.72</td>\n",
       "    </tr>\n",
       "    <tr>\n",
       "      <th>1</th>\n",
       "      <td>Al menos un animal es un perro viejo</td>\n",
       "      <td>0.51</td>\n",
       "    </tr>\n",
       "    <tr>\n",
       "      <th>2</th>\n",
       "      <td>Los dos animales son perros</td>\n",
       "      <td>0.27</td>\n",
       "    </tr>\n",
       "  </tbody>\n",
       "</table>\n",
       "</div>"
      ],
      "text/plain": [
       "                              Situacion  Probabilidad %\n",
       "0       Uno de los animales es un perro            0.72\n",
       "1  Al menos un animal es un perro viejo            0.51\n",
       "2           Los dos animales son perros            0.27"
      ]
     },
     "execution_count": 35,
     "metadata": {},
     "output_type": "execute_result"
    }
   ],
   "source": [
    "simulate_pets_prob(100)"
   ]
  },
  {
   "cell_type": "markdown",
   "metadata": {},
   "source": [
    "#### De los tres escenarios, ¿Cuál es el menos probable? ¿Cuál es el más probable?"
   ]
  },
  {
   "cell_type": "markdown",
   "metadata": {},
   "source": [
    "Se puede observar que el escenario menos probable es \"Los dos animales son perros\" con un 27% y el escenario más probable es \"Uno de los animales es un perro\" con un 72%."
   ]
  }
 ],
 "metadata": {
  "kernelspec": {
   "display_name": "Python 3",
   "language": "python",
   "name": "python3"
  },
  "language_info": {
   "codemirror_mode": {
    "name": "ipython",
    "version": 3
   },
   "file_extension": ".py",
   "mimetype": "text/x-python",
   "name": "python",
   "nbconvert_exporter": "python",
   "pygments_lexer": "ipython3",
   "version": "3.7.3"
  }
 },
 "nbformat": 4,
 "nbformat_minor": 2
}
