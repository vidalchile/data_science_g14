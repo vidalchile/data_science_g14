{
 "cells": [
  {
   "cell_type": "markdown",
   "metadata": {},
   "source": [
    "## Prueba - Fundamentos Data Science | Desafío 1: Determinantes del ingreso\n",
    "### Cristian Vidal Muñoz"
   ]
  },
  {
   "cell_type": "markdown",
   "metadata": {},
   "source": [
    "## Prueba - Hito 1"
   ]
  },
  {
   "cell_type": "markdown",
   "metadata": {},
   "source": [
    "### Objetivo\n",
    "Completar el punto de __Preliminares__, así como __Aspectos computacionales__."
   ]
  },
  {
   "cell_type": "markdown",
   "metadata": {},
   "source": [
    "__Elementos a considerar__\n",
    "* Los dos enunciados deben estar clarificados, considerando el tipo de problema a resolver (regresión o clasificación). Para cada uno de los enunciados y su problema identificado, se debe justificar el uso de métricas para medir el desempeño del problema. __(3 puntos)__\n",
    "* Se debe considerar el uso de las librerías asociadas para la ingesta, preprocesamiento, visualización y modelación, así como métricas de evaluación. __(1 punto)__\n",
    "* Se debe detallar y considerar el proceso de preprocesamiento y recodificación de datos. __(1punto)__"
   ]
  },
  {
   "cell_type": "markdown",
   "metadata": {},
   "source": [
    "__INTRODUCCION PROBLEMA:__\n",
    "\n",
    "Con el objetivo de conocer las dinámicas socioeconómicas que determinan la desigualdad de ingreso y la erradicación de la pobreza extrema, enmarcado dentro de los objetivos del desarrollo del nuevo milenio del Programa de las Naciones Unidas para el Desarrollo, debemos desarrollar un modelo predictivo sobre la posibilidad de que un individuo presente salarios por sobre o bajo los 50.000 dólares anuales, en base\n",
    "a una serie de atributos sociodemográficos.\n",
    "\n",
    "__TIPO DE PROYECTO:__\n",
    "\n",
    "Este caso vamos a implementar un predictor de __clasificación binario__. El resultado o variable objetivo es de naturaleza __dicotómica__, donde tenemos que predecir si la salida pertenece a la __clase 1__ (sobre los 50.000 dolares anuales) o __clase 2__ (bajo los 50.000 dolares anuales). Utilizaremos algoritmos de __machine learning de clasificación__ con probabilidades como __LogisticRegression__, aplicaremos la __función logística__ o también llamada __sigmoide__ para obtener la probabilidad, si la salida de la __función sigmoide__ es mayor que 0.5, podemos clasificar el resultado como 1 o sobre50 (sobre los 50.000 dólares anuales) , y si es menor que 0.5 podemos clasificarlo como 0 o bajo50 (bajo los 50.000 dólares anuales). Por su parte si el resultado por ejemplo es .80, podemos decir en términos de probabilidad como, hay un 80% de probabilidades de que el individuo tenga un salario sobre los 50.000 dólares anuales y un 20% de probabilidades de tener un salario bajo los 50.000 dólares anuales.\n",
    "\n",
    "__METRICAS:__\n",
    "\n",
    "Algunas de las métricas que utilizaremos para evaluar el __desempeño__ y __precisión__ de nuestro modelo serán:\n",
    "la __Matriz de Confusión__, analizaremos los resultados predichos por nuestro modelo con los datos __\"reales\"__ (Verdaderos Positivos, Verdaderos Negativos, Falsos Positivos, Falsos Negativos). Las medidas de desempeño a medir serán las siguientes: __Exactitud, Precisión, Sensibilidad o Recall y Puntaje de F1__. Tambien es importante saber \"que tan bueno\" puede distinguir el modelo entre dos cosas, para esto utilizaremos __La curva AUC-ROC__.\n",
    "\n",
    "__LIBRERIAS Y MODULOS:__\n",
    "\n",
    "Desarrollaremos este caso utilizando la __Suite__ de __Anaconda python__. Para la manipulación, operaciones y preparación de los datos usaremos __Pandas__ y __NumPy__.  Para la visualización de los datos utilizaremos __missingno (matrix)__, __matplotlib (plt)__ y __Seaborn (sns)__. Nuestro análisis estadístico y econométrico lo haremos con __Statsmodels (smf.logit)__. Para los algoritmos de Machine Learning, validaciones y metricas de desempeño utilizaremos __Scikit-learn (LogisticRegression, train_test_split, classification_report, auc, roc_auc_score, roc_curve)__."
   ]
  },
  {
   "cell_type": "code",
   "execution_count": null,
   "metadata": {},
   "outputs": [],
   "source": []
  }
 ],
 "metadata": {
  "kernelspec": {
   "display_name": "Python 3",
   "language": "python",
   "name": "python3"
  },
  "language_info": {
   "codemirror_mode": {
    "name": "ipython",
    "version": 3
   },
   "file_extension": ".py",
   "mimetype": "text/x-python",
   "name": "python",
   "nbconvert_exporter": "python",
   "pygments_lexer": "ipython3",
   "version": "3.7.3"
  }
 },
 "nbformat": 4,
 "nbformat_minor": 2
}
