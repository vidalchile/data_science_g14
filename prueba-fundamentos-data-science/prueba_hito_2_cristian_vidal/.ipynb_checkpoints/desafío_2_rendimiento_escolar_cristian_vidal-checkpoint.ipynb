{
 "cells": [
  {
   "cell_type": "markdown",
   "metadata": {},
   "source": [
    "# Prueba - Fundamentos Data Science | Desafío 2: Rendimiento escolar\n",
    "### Cristian Vidal Muñoz"
   ]
  },
  {
   "cell_type": "markdown",
   "metadata": {},
   "source": [
    "# Prueba - Hito 1"
   ]
  },
  {
   "cell_type": "markdown",
   "metadata": {},
   "source": [
    "### Objetivo\n",
    "Completar el punto de __Preliminares__, así como __Aspectos computacionales__."
   ]
  },
  {
   "cell_type": "markdown",
   "metadata": {},
   "source": [
    "__Elementos a considerar__\n",
    "* Los dos enunciados deben estar clarificados, considerando el tipo de problema a resolver (regresión o clasificación). Para cada uno de los enunciados y su problema identificado, se debe justificar el uso de métricas para medir el desempeño del problema. __(3 puntos)__\n",
    "* Se debe considerar el uso de las librerías asociadas para la ingesta, preprocesamiento, visualización y modelación, así como métricas de evaluación. __(1 punto)__\n",
    "* Se debe detallar y considerar el proceso de preprocesamiento y recodificación de datos. __(1punto)__"
   ]
  },
  {
   "cell_type": "markdown",
   "metadata": {},
   "source": [
    "__INTRODUCCIÓN PROBLEMA:__\n",
    "\n",
    "Con el objetivo de identificar a los alumnos que presentan un bajo desempeño académico en una escuela Portuguesa, debemos desarrollar un modelo predictivo sobre el promedio final de un alumno en base a una serie de atributos sociodemográficos, conductuales y aspectos ambientales.\n",
    "\n",
    "__TIPO DE PROYECTO__\n",
    "\n",
    "Este caso vamos a implementar un predictor de __regresión lineal múltiple__, donde tenemos que predecir un valor numérico continuo, queremos predecir el promedio final de un alumno, para este algoritmo necesitamos \n",
    "obtener la relación entre variables independientes (X) y una variable dependiente (Y). El algoritmo de machine learning que utilizaremos sera __LinearRegression__. Para determinar cuáles van a ser los principales atributos a incluir en el modelo lo haremos mediante la generación de correlaciones parciales entre cada atributo y el vector objetivo.\n",
    "\n",
    "__MÉTRICAS__\n",
    "\n",
    "Algunas de las métricas que utilizaremos para evaluar el desempeño y precisión de nuestro modelo serán: Promedio del Error Cuadrático __(Mean Squared Error)__ y el estadístico __R-cuadrado__.\n",
    "\n",
    "__LIBRERÍAS Y MÓDULOS__\n",
    "\n",
    "Desarrollaremos este caso utilizando la __Suite__ de __Anaconda python__. Para la manipulación, operaciones y preparación de los datos usaremos __Pandas__ y __NumPy__. Para la visualización de los datos utilizaremos __missingno (matrix)__, __matplotlib (plt)__ y __Seaborn (sns)__. Nuestro análisis estadístico y econométrico lo haremos con __Statsmodels (ols)__. Los algoritmos de Machine Learning, validación y metricas de desempeño utilizaremos __Scikit-learn (LinearRegression, train_test_split, mean_squared_error, r2_score)__.\n",
    "\n",
    "__ASPECTOS COMPUTACIONALES__\n",
    "* python: 3.7.3.final.0\n",
    "* python-bits: 64\n",
    "* jupyter notebook 5.7.8\n",
    "* conda 4.8.3\n",
    "* pandas: 0.24.2\n",
    "* pip: 19.0.3\n",
    "* numpy: 1.16.2\n",
    "* scipy: 1.2.1\n",
    "* matplotlib: 3.0.3\n",
    "* seaborn 0.9.0\n",
    "* statsmodels 0.9.0\n",
    "* sklearn 0.20.3"
   ]
  },
  {
   "cell_type": "markdown",
   "metadata": {},
   "source": [
    "# Prueba - Hito 2"
   ]
  },
  {
   "cell_type": "markdown",
   "metadata": {},
   "source": [
    "### Objetivo\n",
    "\n",
    "Completar el punto de __Descripción__.\n",
    "\n",
    "sección llamada __Descripción__ donde se generará un análisis descriptivo considerando el\n",
    "tipo de variables (desde el punto de vista estadístico así como computacional). Esta sección\n",
    "debe considerar medidas univariadas/ frecuencias, datos perdidos y gráficos distributivos sobre\n",
    "las variables a analizar. A partir de ésta se debe clarificar la estrategia de preprocesamiento\n",
    "(datos perdidos, recodificaciones)."
   ]
  },
  {
   "cell_type": "markdown",
   "metadata": {},
   "source": [
    "### Elementos a considerar\n",
    "* La inspección visual del vector objetivo. (2 puntos)\n",
    "* La inspección visual de las variables. (2 puntos)\n",
    "* La inspección de datos perdidos en las variables. (1 punto)\n",
    "\n",
    "De ser necesario, se puede iterar en el proceso de preprocesamiento y recodificación de las variables"
   ]
  },
  {
   "cell_type": "code",
   "execution_count": 1,
   "metadata": {},
   "outputs": [],
   "source": [
    "#Importar librerias\n",
    "import pandas as pd\n",
    "import numpy as np\n",
    "import seaborn as sns\n",
    "import matplotlib.pyplot as plt\n",
    "import missingno\n",
    "\n",
    "#Importamos funciones auxiliares\n",
    "import helpers as funcion_auxiliar\n",
    "\n",
    "#Configuración de graficos\n",
    "plt.style.use('ggplot')\n",
    "\n",
    "#Ignorar Avisos\n",
    "import warnings\n",
    "warnings.filterwarnings(\"ignore\")"
   ]
  },
  {
   "cell_type": "markdown",
   "metadata": {},
   "source": [
    "## Aspectos adicionales a considerar"
   ]
  },
  {
   "cell_type": "markdown",
   "metadata": {},
   "source": [
    "* La base de datos presenta una serie de anomalías. En la escuela no tienen buenas prácticas sobre cómo ingresar datos, por lo que existen datos perdidos que están registrados bajo tres categorías: nulidade, sem validade, zero. De manera adicional, hay 3 variables numéricas que se registraron como strings, cuya interpretación en pandas devuelve una estructura de datos genérica. Finalmente, la base está con un encoding distinto al normal y los delimitadores son distintos."
   ]
  },
  {
   "cell_type": "code",
   "execution_count": 2,
   "metadata": {},
   "outputs": [
    {
     "data": {
      "text/html": [
       "<div>\n",
       "<style scoped>\n",
       "    .dataframe tbody tr th:only-of-type {\n",
       "        vertical-align: middle;\n",
       "    }\n",
       "\n",
       "    .dataframe tbody tr th {\n",
       "        vertical-align: top;\n",
       "    }\n",
       "\n",
       "    .dataframe thead th {\n",
       "        text-align: right;\n",
       "    }\n",
       "</style>\n",
       "<table border=\"1\" class=\"dataframe\">\n",
       "  <thead>\n",
       "    <tr style=\"text-align: right;\">\n",
       "      <th></th>\n",
       "      <th>school</th>\n",
       "      <th>sex</th>\n",
       "      <th>age</th>\n",
       "      <th>address</th>\n",
       "      <th>famsize</th>\n",
       "      <th>Pstatus</th>\n",
       "      <th>Medu</th>\n",
       "      <th>Fedu</th>\n",
       "      <th>Mjob</th>\n",
       "      <th>Fjob</th>\n",
       "      <th>...</th>\n",
       "      <th>famrel</th>\n",
       "      <th>freetime</th>\n",
       "      <th>goout</th>\n",
       "      <th>Dalc</th>\n",
       "      <th>Walc</th>\n",
       "      <th>health</th>\n",
       "      <th>absences</th>\n",
       "      <th>G1</th>\n",
       "      <th>G2</th>\n",
       "      <th>G3</th>\n",
       "    </tr>\n",
       "  </thead>\n",
       "  <tbody>\n",
       "    <tr>\n",
       "      <th>0</th>\n",
       "      <td>GP</td>\n",
       "      <td>F</td>\n",
       "      <td>nulidade</td>\n",
       "      <td>U</td>\n",
       "      <td>GT3</td>\n",
       "      <td>A</td>\n",
       "      <td>4</td>\n",
       "      <td>4</td>\n",
       "      <td>at_home</td>\n",
       "      <td>teacher</td>\n",
       "      <td>...</td>\n",
       "      <td>4</td>\n",
       "      <td>3</td>\n",
       "      <td>\"4\"</td>\n",
       "      <td>1</td>\n",
       "      <td>1</td>\n",
       "      <td>\"3\"</td>\n",
       "      <td>6</td>\n",
       "      <td>5</td>\n",
       "      <td>6</td>\n",
       "      <td>6</td>\n",
       "    </tr>\n",
       "    <tr>\n",
       "      <th>1</th>\n",
       "      <td>GP</td>\n",
       "      <td>F</td>\n",
       "      <td>\"17\"</td>\n",
       "      <td>U</td>\n",
       "      <td>GT3</td>\n",
       "      <td>T</td>\n",
       "      <td>1</td>\n",
       "      <td>1</td>\n",
       "      <td>at_home</td>\n",
       "      <td>other</td>\n",
       "      <td>...</td>\n",
       "      <td>5</td>\n",
       "      <td>3</td>\n",
       "      <td>\"3\"</td>\n",
       "      <td>1</td>\n",
       "      <td>1</td>\n",
       "      <td>\"3\"</td>\n",
       "      <td>4</td>\n",
       "      <td>5</td>\n",
       "      <td>5</td>\n",
       "      <td>6</td>\n",
       "    </tr>\n",
       "    <tr>\n",
       "      <th>2</th>\n",
       "      <td>GP</td>\n",
       "      <td>F</td>\n",
       "      <td>\"15\"</td>\n",
       "      <td>U</td>\n",
       "      <td>LE3</td>\n",
       "      <td>T</td>\n",
       "      <td>1</td>\n",
       "      <td>1</td>\n",
       "      <td>at_home</td>\n",
       "      <td>other</td>\n",
       "      <td>...</td>\n",
       "      <td>4</td>\n",
       "      <td>3</td>\n",
       "      <td>\"2\"</td>\n",
       "      <td>2</td>\n",
       "      <td>3</td>\n",
       "      <td>\"3\"</td>\n",
       "      <td>10</td>\n",
       "      <td>zero</td>\n",
       "      <td>8</td>\n",
       "      <td>10</td>\n",
       "    </tr>\n",
       "    <tr>\n",
       "      <th>3</th>\n",
       "      <td>GP</td>\n",
       "      <td>F</td>\n",
       "      <td>\"15\"</td>\n",
       "      <td>U</td>\n",
       "      <td>GT3</td>\n",
       "      <td>T</td>\n",
       "      <td>4</td>\n",
       "      <td>2</td>\n",
       "      <td>health</td>\n",
       "      <td>services</td>\n",
       "      <td>...</td>\n",
       "      <td>3</td>\n",
       "      <td>2</td>\n",
       "      <td>\"2\"</td>\n",
       "      <td>1</td>\n",
       "      <td>1</td>\n",
       "      <td>\"5\"</td>\n",
       "      <td>2</td>\n",
       "      <td>15</td>\n",
       "      <td>14</td>\n",
       "      <td>15</td>\n",
       "    </tr>\n",
       "    <tr>\n",
       "      <th>4</th>\n",
       "      <td>GP</td>\n",
       "      <td>F</td>\n",
       "      <td>sem validade</td>\n",
       "      <td>U</td>\n",
       "      <td>GT3</td>\n",
       "      <td>T</td>\n",
       "      <td>3</td>\n",
       "      <td>3</td>\n",
       "      <td>other</td>\n",
       "      <td>other</td>\n",
       "      <td>...</td>\n",
       "      <td>4</td>\n",
       "      <td>3</td>\n",
       "      <td>\"2\"</td>\n",
       "      <td>1</td>\n",
       "      <td>2</td>\n",
       "      <td>\"5\"</td>\n",
       "      <td>4</td>\n",
       "      <td>6</td>\n",
       "      <td>10</td>\n",
       "      <td>10</td>\n",
       "    </tr>\n",
       "  </tbody>\n",
       "</table>\n",
       "<p>5 rows × 33 columns</p>\n",
       "</div>"
      ],
      "text/plain": [
       "  school sex           age address famsize Pstatus Medu Fedu     Mjob  \\\n",
       "0     GP   F      nulidade       U     GT3       A    4    4  at_home   \n",
       "1     GP   F          \"17\"       U     GT3       T    1    1  at_home   \n",
       "2     GP   F          \"15\"       U     LE3       T    1    1  at_home   \n",
       "3     GP   F          \"15\"       U     GT3       T    4    2   health   \n",
       "4     GP   F  sem validade       U     GT3       T    3    3    other   \n",
       "\n",
       "       Fjob  ... famrel freetime goout Dalc Walc health absences    G1  G2  G3  \n",
       "0   teacher  ...      4        3   \"4\"    1    1    \"3\"        6     5   6   6  \n",
       "1     other  ...      5        3   \"3\"    1    1    \"3\"        4     5   5   6  \n",
       "2     other  ...      4        3   \"2\"    2    3    \"3\"       10  zero   8  10  \n",
       "3  services  ...      3        2   \"2\"    1    1    \"5\"        2    15  14  15  \n",
       "4     other  ...      4        3   \"2\"    1    2    \"5\"        4     6  10  10  \n",
       "\n",
       "[5 rows x 33 columns]"
      ]
     },
     "execution_count": 2,
     "metadata": {},
     "output_type": "execute_result"
    }
   ],
   "source": [
    "df = pd.read_csv('students.csv', sep='|', encoding='iso-8859-1').drop(columns = 'Unnamed: 0', axis = 1)\n",
    "df.head()"
   ]
  },
  {
   "cell_type": "markdown",
   "metadata": {},
   "source": [
    "* Corregir datos Perdidos nulidade, sem validade, zero"
   ]
  },
  {
   "cell_type": "code",
   "execution_count": 3,
   "metadata": {},
   "outputs": [
    {
     "data": {
      "text/html": [
       "<div>\n",
       "<style scoped>\n",
       "    .dataframe tbody tr th:only-of-type {\n",
       "        vertical-align: middle;\n",
       "    }\n",
       "\n",
       "    .dataframe tbody tr th {\n",
       "        vertical-align: top;\n",
       "    }\n",
       "\n",
       "    .dataframe thead th {\n",
       "        text-align: right;\n",
       "    }\n",
       "</style>\n",
       "<table border=\"1\" class=\"dataframe\">\n",
       "  <thead>\n",
       "    <tr style=\"text-align: right;\">\n",
       "      <th></th>\n",
       "      <th>school</th>\n",
       "      <th>sex</th>\n",
       "      <th>age</th>\n",
       "      <th>address</th>\n",
       "      <th>famsize</th>\n",
       "      <th>Pstatus</th>\n",
       "      <th>Medu</th>\n",
       "      <th>Fedu</th>\n",
       "      <th>Mjob</th>\n",
       "      <th>Fjob</th>\n",
       "      <th>...</th>\n",
       "      <th>famrel</th>\n",
       "      <th>freetime</th>\n",
       "      <th>goout</th>\n",
       "      <th>Dalc</th>\n",
       "      <th>Walc</th>\n",
       "      <th>health</th>\n",
       "      <th>absences</th>\n",
       "      <th>G1</th>\n",
       "      <th>G2</th>\n",
       "      <th>G3</th>\n",
       "    </tr>\n",
       "  </thead>\n",
       "  <tbody>\n",
       "    <tr>\n",
       "      <th>0</th>\n",
       "      <td>GP</td>\n",
       "      <td>F</td>\n",
       "      <td>NaN</td>\n",
       "      <td>U</td>\n",
       "      <td>GT3</td>\n",
       "      <td>A</td>\n",
       "      <td>4</td>\n",
       "      <td>4</td>\n",
       "      <td>at_home</td>\n",
       "      <td>teacher</td>\n",
       "      <td>...</td>\n",
       "      <td>4</td>\n",
       "      <td>3</td>\n",
       "      <td>\"4\"</td>\n",
       "      <td>1</td>\n",
       "      <td>1</td>\n",
       "      <td>\"3\"</td>\n",
       "      <td>6</td>\n",
       "      <td>5</td>\n",
       "      <td>6</td>\n",
       "      <td>6</td>\n",
       "    </tr>\n",
       "    <tr>\n",
       "      <th>1</th>\n",
       "      <td>GP</td>\n",
       "      <td>F</td>\n",
       "      <td>\"17\"</td>\n",
       "      <td>U</td>\n",
       "      <td>GT3</td>\n",
       "      <td>T</td>\n",
       "      <td>1</td>\n",
       "      <td>1</td>\n",
       "      <td>at_home</td>\n",
       "      <td>other</td>\n",
       "      <td>...</td>\n",
       "      <td>5</td>\n",
       "      <td>3</td>\n",
       "      <td>\"3\"</td>\n",
       "      <td>1</td>\n",
       "      <td>1</td>\n",
       "      <td>\"3\"</td>\n",
       "      <td>4</td>\n",
       "      <td>5</td>\n",
       "      <td>5</td>\n",
       "      <td>6</td>\n",
       "    </tr>\n",
       "    <tr>\n",
       "      <th>2</th>\n",
       "      <td>GP</td>\n",
       "      <td>F</td>\n",
       "      <td>\"15\"</td>\n",
       "      <td>U</td>\n",
       "      <td>LE3</td>\n",
       "      <td>T</td>\n",
       "      <td>1</td>\n",
       "      <td>1</td>\n",
       "      <td>at_home</td>\n",
       "      <td>other</td>\n",
       "      <td>...</td>\n",
       "      <td>4</td>\n",
       "      <td>3</td>\n",
       "      <td>\"2\"</td>\n",
       "      <td>2</td>\n",
       "      <td>3</td>\n",
       "      <td>\"3\"</td>\n",
       "      <td>10</td>\n",
       "      <td>NaN</td>\n",
       "      <td>8</td>\n",
       "      <td>10</td>\n",
       "    </tr>\n",
       "    <tr>\n",
       "      <th>3</th>\n",
       "      <td>GP</td>\n",
       "      <td>F</td>\n",
       "      <td>\"15\"</td>\n",
       "      <td>U</td>\n",
       "      <td>GT3</td>\n",
       "      <td>T</td>\n",
       "      <td>4</td>\n",
       "      <td>2</td>\n",
       "      <td>health</td>\n",
       "      <td>services</td>\n",
       "      <td>...</td>\n",
       "      <td>3</td>\n",
       "      <td>2</td>\n",
       "      <td>\"2\"</td>\n",
       "      <td>1</td>\n",
       "      <td>1</td>\n",
       "      <td>\"5\"</td>\n",
       "      <td>2</td>\n",
       "      <td>15</td>\n",
       "      <td>14</td>\n",
       "      <td>15</td>\n",
       "    </tr>\n",
       "    <tr>\n",
       "      <th>4</th>\n",
       "      <td>GP</td>\n",
       "      <td>F</td>\n",
       "      <td>NaN</td>\n",
       "      <td>U</td>\n",
       "      <td>GT3</td>\n",
       "      <td>T</td>\n",
       "      <td>3</td>\n",
       "      <td>3</td>\n",
       "      <td>other</td>\n",
       "      <td>other</td>\n",
       "      <td>...</td>\n",
       "      <td>4</td>\n",
       "      <td>3</td>\n",
       "      <td>\"2\"</td>\n",
       "      <td>1</td>\n",
       "      <td>2</td>\n",
       "      <td>\"5\"</td>\n",
       "      <td>4</td>\n",
       "      <td>6</td>\n",
       "      <td>10</td>\n",
       "      <td>10</td>\n",
       "    </tr>\n",
       "  </tbody>\n",
       "</table>\n",
       "<p>5 rows × 33 columns</p>\n",
       "</div>"
      ],
      "text/plain": [
       "  school sex   age address famsize Pstatus Medu Fedu     Mjob      Fjob  ...  \\\n",
       "0     GP   F   NaN       U     GT3       A    4    4  at_home   teacher  ...   \n",
       "1     GP   F  \"17\"       U     GT3       T    1    1  at_home     other  ...   \n",
       "2     GP   F  \"15\"       U     LE3       T    1    1  at_home     other  ...   \n",
       "3     GP   F  \"15\"       U     GT3       T    4    2   health  services  ...   \n",
       "4     GP   F   NaN       U     GT3       T    3    3    other     other  ...   \n",
       "\n",
       "  famrel freetime goout Dalc Walc health absences   G1  G2  G3  \n",
       "0      4        3   \"4\"    1    1    \"3\"        6    5   6   6  \n",
       "1      5        3   \"3\"    1    1    \"3\"        4    5   5   6  \n",
       "2      4        3   \"2\"    2    3    \"3\"       10  NaN   8  10  \n",
       "3      3        2   \"2\"    1    1    \"5\"        2   15  14  15  \n",
       "4      4        3   \"2\"    1    2    \"5\"        4    6  10  10  \n",
       "\n",
       "[5 rows x 33 columns]"
      ]
     },
     "execution_count": 3,
     "metadata": {},
     "output_type": "execute_result"
    }
   ],
   "source": [
    "df.replace({'nulidade': np.nan, 'sem validade': np.nan, 'zero': np.nan}, inplace=True)\n",
    "df.head()"
   ]
  },
  {
   "cell_type": "code",
   "execution_count": 4,
   "metadata": {},
   "outputs": [
    {
     "data": {
      "text/html": [
       "<div>\n",
       "<style scoped>\n",
       "    .dataframe tbody tr th:only-of-type {\n",
       "        vertical-align: middle;\n",
       "    }\n",
       "\n",
       "    .dataframe tbody tr th {\n",
       "        vertical-align: top;\n",
       "    }\n",
       "\n",
       "    .dataframe thead th {\n",
       "        text-align: right;\n",
       "    }\n",
       "</style>\n",
       "<table border=\"1\" class=\"dataframe\">\n",
       "  <thead>\n",
       "    <tr style=\"text-align: right;\">\n",
       "      <th></th>\n",
       "      <th>school</th>\n",
       "      <th>sex</th>\n",
       "      <th>age</th>\n",
       "      <th>address</th>\n",
       "      <th>famsize</th>\n",
       "      <th>Pstatus</th>\n",
       "      <th>Medu</th>\n",
       "      <th>Fedu</th>\n",
       "      <th>Mjob</th>\n",
       "      <th>Fjob</th>\n",
       "      <th>...</th>\n",
       "      <th>famrel</th>\n",
       "      <th>freetime</th>\n",
       "      <th>goout</th>\n",
       "      <th>Dalc</th>\n",
       "      <th>Walc</th>\n",
       "      <th>health</th>\n",
       "      <th>absences</th>\n",
       "      <th>G1</th>\n",
       "      <th>G2</th>\n",
       "      <th>G3</th>\n",
       "    </tr>\n",
       "  </thead>\n",
       "  <tbody>\n",
       "    <tr>\n",
       "      <th>0</th>\n",
       "      <td>GP</td>\n",
       "      <td>F</td>\n",
       "      <td>NaN</td>\n",
       "      <td>U</td>\n",
       "      <td>GT3</td>\n",
       "      <td>A</td>\n",
       "      <td>4</td>\n",
       "      <td>4</td>\n",
       "      <td>at_home</td>\n",
       "      <td>teacher</td>\n",
       "      <td>...</td>\n",
       "      <td>4</td>\n",
       "      <td>3</td>\n",
       "      <td>\"4\"</td>\n",
       "      <td>1</td>\n",
       "      <td>1</td>\n",
       "      <td>\"3\"</td>\n",
       "      <td>6</td>\n",
       "      <td>5</td>\n",
       "      <td>6</td>\n",
       "      <td>6</td>\n",
       "    </tr>\n",
       "    <tr>\n",
       "      <th>1</th>\n",
       "      <td>GP</td>\n",
       "      <td>F</td>\n",
       "      <td>\"17\"</td>\n",
       "      <td>U</td>\n",
       "      <td>GT3</td>\n",
       "      <td>T</td>\n",
       "      <td>1</td>\n",
       "      <td>1</td>\n",
       "      <td>at_home</td>\n",
       "      <td>other</td>\n",
       "      <td>...</td>\n",
       "      <td>5</td>\n",
       "      <td>3</td>\n",
       "      <td>\"3\"</td>\n",
       "      <td>1</td>\n",
       "      <td>1</td>\n",
       "      <td>\"3\"</td>\n",
       "      <td>4</td>\n",
       "      <td>5</td>\n",
       "      <td>5</td>\n",
       "      <td>6</td>\n",
       "    </tr>\n",
       "    <tr>\n",
       "      <th>2</th>\n",
       "      <td>GP</td>\n",
       "      <td>F</td>\n",
       "      <td>\"15\"</td>\n",
       "      <td>U</td>\n",
       "      <td>LE3</td>\n",
       "      <td>T</td>\n",
       "      <td>1</td>\n",
       "      <td>1</td>\n",
       "      <td>at_home</td>\n",
       "      <td>other</td>\n",
       "      <td>...</td>\n",
       "      <td>4</td>\n",
       "      <td>3</td>\n",
       "      <td>\"2\"</td>\n",
       "      <td>2</td>\n",
       "      <td>3</td>\n",
       "      <td>\"3\"</td>\n",
       "      <td>10</td>\n",
       "      <td>NaN</td>\n",
       "      <td>8</td>\n",
       "      <td>10</td>\n",
       "    </tr>\n",
       "    <tr>\n",
       "      <th>3</th>\n",
       "      <td>GP</td>\n",
       "      <td>F</td>\n",
       "      <td>\"15\"</td>\n",
       "      <td>U</td>\n",
       "      <td>GT3</td>\n",
       "      <td>T</td>\n",
       "      <td>4</td>\n",
       "      <td>2</td>\n",
       "      <td>health</td>\n",
       "      <td>services</td>\n",
       "      <td>...</td>\n",
       "      <td>3</td>\n",
       "      <td>2</td>\n",
       "      <td>\"2\"</td>\n",
       "      <td>1</td>\n",
       "      <td>1</td>\n",
       "      <td>\"5\"</td>\n",
       "      <td>2</td>\n",
       "      <td>15</td>\n",
       "      <td>14</td>\n",
       "      <td>15</td>\n",
       "    </tr>\n",
       "    <tr>\n",
       "      <th>4</th>\n",
       "      <td>GP</td>\n",
       "      <td>F</td>\n",
       "      <td>NaN</td>\n",
       "      <td>U</td>\n",
       "      <td>GT3</td>\n",
       "      <td>T</td>\n",
       "      <td>3</td>\n",
       "      <td>3</td>\n",
       "      <td>other</td>\n",
       "      <td>other</td>\n",
       "      <td>...</td>\n",
       "      <td>4</td>\n",
       "      <td>3</td>\n",
       "      <td>\"2\"</td>\n",
       "      <td>1</td>\n",
       "      <td>2</td>\n",
       "      <td>\"5\"</td>\n",
       "      <td>4</td>\n",
       "      <td>6</td>\n",
       "      <td>10</td>\n",
       "      <td>10</td>\n",
       "    </tr>\n",
       "  </tbody>\n",
       "</table>\n",
       "<p>5 rows × 33 columns</p>\n",
       "</div>"
      ],
      "text/plain": [
       "  school sex   age address famsize Pstatus Medu Fedu     Mjob      Fjob  ...  \\\n",
       "0     GP   F   NaN       U     GT3       A    4    4  at_home   teacher  ...   \n",
       "1     GP   F  \"17\"       U     GT3       T    1    1  at_home     other  ...   \n",
       "2     GP   F  \"15\"       U     LE3       T    1    1  at_home     other  ...   \n",
       "3     GP   F  \"15\"       U     GT3       T    4    2   health  services  ...   \n",
       "4     GP   F   NaN       U     GT3       T    3    3    other     other  ...   \n",
       "\n",
       "  famrel freetime goout Dalc Walc health absences   G1  G2  G3  \n",
       "0      4        3   \"4\"    1    1    \"3\"        6    5   6   6  \n",
       "1      5        3   \"3\"    1    1    \"3\"        4    5   5   6  \n",
       "2      4        3   \"2\"    2    3    \"3\"       10  NaN   8  10  \n",
       "3      3        2   \"2\"    1    1    \"5\"        2   15  14  15  \n",
       "4      4        3   \"2\"    1    2    \"5\"        4    6  10  10  \n",
       "\n",
       "[5 rows x 33 columns]"
      ]
     },
     "execution_count": 4,
     "metadata": {},
     "output_type": "execute_result"
    }
   ],
   "source": [
    "df.head()"
   ]
  },
  {
   "cell_type": "code",
   "execution_count": 5,
   "metadata": {},
   "outputs": [
    {
     "name": "stdout",
     "output_type": "stream",
     "text": [
      "<class 'pandas.core.frame.DataFrame'>\n",
      "RangeIndex: 395 entries, 0 to 394\n",
      "Data columns (total 33 columns):\n",
      "school        390 non-null object\n",
      "sex           392 non-null object\n",
      "age           391 non-null object\n",
      "address       393 non-null object\n",
      "famsize       391 non-null object\n",
      "Pstatus       389 non-null object\n",
      "Medu          392 non-null object\n",
      "Fedu          390 non-null object\n",
      "Mjob          389 non-null object\n",
      "Fjob          395 non-null object\n",
      "reason        391 non-null object\n",
      "guardian      391 non-null object\n",
      "traveltime    392 non-null object\n",
      "studytime     390 non-null object\n",
      "failures      390 non-null object\n",
      "schoolsup     387 non-null object\n",
      "famsup        390 non-null object\n",
      "paid          394 non-null object\n",
      "activities    390 non-null object\n",
      "nursery       389 non-null object\n",
      "higher        389 non-null object\n",
      "internet      392 non-null object\n",
      "romantic      393 non-null object\n",
      "famrel        390 non-null object\n",
      "freetime      393 non-null object\n",
      "goout         390 non-null object\n",
      "Dalc          392 non-null object\n",
      "Walc          390 non-null object\n",
      "health        391 non-null object\n",
      "absences      391 non-null object\n",
      "G1            391 non-null object\n",
      "G2            395 non-null int64\n",
      "G3            392 non-null object\n",
      "dtypes: int64(1), object(32)\n",
      "memory usage: 101.9+ KB\n"
     ]
    }
   ],
   "source": [
    "df.info()"
   ]
  },
  {
   "cell_type": "markdown",
   "metadata": {},
   "source": [
    "## Inspección de datos perdidos en las variables"
   ]
  },
  {
   "cell_type": "code",
   "execution_count": 6,
   "metadata": {},
   "outputs": [
    {
     "data": {
      "text/plain": [
       "<matplotlib.axes._subplots.AxesSubplot at 0x7f6b590976a0>"
      ]
     },
     "execution_count": 6,
     "metadata": {},
     "output_type": "execute_result"
    },
    {
     "data": {
      "image/png": "[encoded data removed]",
      "text/plain": [
       "<Figure size 1800x720 with 2 Axes>"
      ]
     },
     "metadata": {
      "needs_background": "light"
     },
     "output_type": "display_data"
    }
   ],
   "source": [
    "missingno.matrix(df)"
   ]
  },
  {
   "cell_type": "code",
   "execution_count": 7,
   "metadata": {},
   "outputs": [
    {
     "data": {
      "text/plain": [
       "school        1.27\n",
       "sex           0.76\n",
       "age           1.01\n",
       "address       0.51\n",
       "famsize       1.01\n",
       "Pstatus       1.52\n",
       "Medu          0.76\n",
       "Fedu          1.27\n",
       "Mjob          1.52\n",
       "Fjob          0.00\n",
       "reason        1.01\n",
       "guardian      1.01\n",
       "traveltime    0.76\n",
       "studytime     1.27\n",
       "failures      1.27\n",
       "schoolsup     2.03\n",
       "famsup        1.27\n",
       "paid          0.25\n",
       "activities    1.27\n",
       "nursery       1.52\n",
       "higher        1.52\n",
       "internet      0.76\n",
       "romantic      0.51\n",
       "famrel        1.27\n",
       "freetime      0.51\n",
       "goout         1.27\n",
       "Dalc          0.76\n",
       "Walc          1.27\n",
       "health        1.01\n",
       "absences      1.01\n",
       "G1            1.01\n",
       "G2            0.00\n",
       "G3            0.76\n",
       "dtype: float64"
      ]
     },
     "execution_count": 7,
     "metadata": {},
     "output_type": "execute_result"
    }
   ],
   "source": [
    "round(df.isnull().sum()/df.shape[0]*100, 2)"
   ]
  },
  {
   "cell_type": "markdown",
   "metadata": {},
   "source": [
    "__Se observa que a lo largo de todas las variables las tasas de datos perdidos son bajas, no superando el 2% del total de las observaciones.__"
   ]
  },
  {
   "cell_type": "code",
   "execution_count": 8,
   "metadata": {},
   "outputs": [],
   "source": [
    "df_dropped = df.dropna()"
   ]
  },
  {
   "cell_type": "code",
   "execution_count": 9,
   "metadata": {},
   "outputs": [
    {
     "name": "stdout",
     "output_type": "stream",
     "text": [
      "El porcentaje de datos perdidos si eliminamos todos los N/A es de: 28.1%\n"
     ]
    }
   ],
   "source": [
    "print(f\"El porcentaje de datos perdidos si eliminamos todos los N/A es de: {round(100-len(df_dropped)/len(df)*100, 2)}%\")"
   ]
  },
  {
   "cell_type": "code",
   "execution_count": 10,
   "metadata": {},
   "outputs": [
    {
     "name": "stdout",
     "output_type": "stream",
     "text": [
      "DataFrame sin aplicar dropna\n",
      "Cantidad de registros:395, Cantidad de columnas: 33\n"
     ]
    }
   ],
   "source": [
    "print(\"DataFrame sin aplicar dropna\")\n",
    "print(\"Cantidad de registros:{}, Cantidad de columnas: {}\".format(df.shape[0], df.shape[1]))"
   ]
  },
  {
   "cell_type": "code",
   "execution_count": 11,
   "metadata": {},
   "outputs": [
    {
     "name": "stdout",
     "output_type": "stream",
     "text": [
      "DataFrame aplicando dropna\n",
      "Cantidad de registros:284, Cantidad de columnas: 33\n"
     ]
    }
   ],
   "source": [
    "print(\"DataFrame aplicando dropna\")\n",
    "print(\"Cantidad de registros:{}, Cantidad de columnas: {}\".format(df_dropped.shape[0], df_dropped.shape[1]))"
   ]
  },
  {
   "cell_type": "markdown",
   "metadata": {},
   "source": [
    "__Vamos a continuar con nuestro analisis con 111 registros menos en comparación con la muestra original__"
   ]
  },
  {
   "cell_type": "code",
   "execution_count": 12,
   "metadata": {},
   "outputs": [
    {
     "data": {
      "text/plain": [
       "school        0.0\n",
       "sex           0.0\n",
       "age           0.0\n",
       "address       0.0\n",
       "famsize       0.0\n",
       "Pstatus       0.0\n",
       "Medu          0.0\n",
       "Fedu          0.0\n",
       "Mjob          0.0\n",
       "Fjob          0.0\n",
       "reason        0.0\n",
       "guardian      0.0\n",
       "traveltime    0.0\n",
       "studytime     0.0\n",
       "failures      0.0\n",
       "schoolsup     0.0\n",
       "famsup        0.0\n",
       "paid          0.0\n",
       "activities    0.0\n",
       "nursery       0.0\n",
       "higher        0.0\n",
       "internet      0.0\n",
       "romantic      0.0\n",
       "famrel        0.0\n",
       "freetime      0.0\n",
       "goout         0.0\n",
       "Dalc          0.0\n",
       "Walc          0.0\n",
       "health        0.0\n",
       "absences      0.0\n",
       "G1            0.0\n",
       "G2            0.0\n",
       "G3            0.0\n",
       "dtype: float64"
      ]
     },
     "execution_count": 12,
     "metadata": {},
     "output_type": "execute_result"
    }
   ],
   "source": [
    "df_dropped.isna().sum()/df_dropped.shape[0]*100"
   ]
  },
  {
   "cell_type": "markdown",
   "metadata": {},
   "source": [
    "## Proceso de preprocesamiento y recodificación de las variables"
   ]
  },
  {
   "cell_type": "markdown",
   "metadata": {},
   "source": [
    "* Para simplficar el análisis y su posterior inclusión en un modelo predictivo, se sugiere recodificar las variables binarias como 0 y 1. Se recomienda seguir en criterio de asignarle 1 a aquellas categorías minoritarias.\n",
    "\n",
    "* El procedimiento también debe aplicarse para aquelas variables nominales con más de 2 categorías siguiendo la misma lógica."
   ]
  },
  {
   "cell_type": "code",
   "execution_count": 13,
   "metadata": {},
   "outputs": [],
   "source": [
    "#Corregir variables (age, goout, health) numéricas que se registraron como strings\n",
    "df_dropped['age'] = df_dropped['age'].astype(str).str.replace(\"\\\"\", \"\")\n",
    "df_dropped['age'] = df_dropped['age'].astype('float32')\n",
    "df_dropped['goout'] = df_dropped['goout'].astype(str).str.replace(\"\\\"\", \"\")\n",
    "df_dropped['goout'] = df_dropped['goout'].astype('float32')\n",
    "df_dropped['health'] = df_dropped['health'].astype(str).str.replace(\"\\\"\", \"\")\n",
    "df_dropped['health'] = df_dropped['health'].astype('float32')\n",
    "\n",
    "# Recodificar variables con valores yes / no\n",
    "d = {'yes': 1, 'no': 0}\n",
    "df_dropped['schoolsup'] = df_dropped['schoolsup'].map(d)\n",
    "df_dropped['famsup'] = df_dropped['famsup'].map(d)\n",
    "df_dropped['paid'] = df_dropped['paid'].map(d)\n",
    "df_dropped['activities'] = df_dropped['activities'].map(d)\n",
    "df_dropped['nursery'] = df_dropped['nursery'].map(d)\n",
    "df_dropped['higher'] = df_dropped['higher'].map(d)\n",
    "df_dropped['internet'] = df_dropped['internet'].map(d)\n",
    "df_dropped['romantic'] = df_dropped['romantic'].map(d)\n",
    "\n",
    "# Cambiar tipo de datos\n",
    "df_dropped['schoolsup'] = df_dropped['schoolsup'].astype('float32')\n",
    "df_dropped['famsup'] = df_dropped['famsup'].astype('float32')\n",
    "df_dropped['paid'] = df_dropped['paid'].astype('float32')\n",
    "df_dropped['activities'] = df_dropped['activities'].astype('float32')\n",
    "df_dropped['nursery'] = df_dropped['nursery'].astype('float32')\n",
    "df_dropped['higher'] = df_dropped['higher'].astype('float32')\n",
    "df_dropped['internet'] = df_dropped['internet'].astype('float32')\n",
    "df_dropped['romantic'] = df_dropped['romantic'].astype('float32')\n",
    "df_dropped['studytime'] = df_dropped['studytime'].astype('float32')\n",
    "df_dropped['absences'] = df_dropped['absences'].astype('float32')\n",
    "df_dropped['Walc'] = df_dropped['Walc'].astype('float32')\n",
    "df_dropped['Dalc'] = df_dropped['Dalc'].astype('float32')\n",
    "df_dropped['famrel'] = df_dropped['famrel'].astype('float32')\n",
    "df_dropped['goout'] = df_dropped['goout'].astype('float32')\n",
    "df_dropped['G1'] = df_dropped['G1'].astype('float32')\n",
    "df_dropped['G2'] = df_dropped['G2'].astype('float32')\n",
    "df_dropped['G3'] = df_dropped['G3'].astype('float32')"
   ]
  },
  {
   "cell_type": "code",
   "execution_count": 14,
   "metadata": {},
   "outputs": [
    {
     "name": "stdout",
     "output_type": "stream",
     "text": [
      "<class 'pandas.core.frame.DataFrame'>\n",
      "Int64Index: 284 entries, 1 to 394\n",
      "Data columns (total 33 columns):\n",
      "school        284 non-null object\n",
      "sex           284 non-null object\n",
      "age           284 non-null float32\n",
      "address       284 non-null object\n",
      "famsize       284 non-null object\n",
      "Pstatus       284 non-null object\n",
      "Medu          284 non-null object\n",
      "Fedu          284 non-null object\n",
      "Mjob          284 non-null object\n",
      "Fjob          284 non-null object\n",
      "reason        284 non-null object\n",
      "guardian      284 non-null object\n",
      "traveltime    284 non-null object\n",
      "studytime     284 non-null float32\n",
      "failures      284 non-null object\n",
      "schoolsup     284 non-null float32\n",
      "famsup        284 non-null float32\n",
      "paid          284 non-null float32\n",
      "activities    284 non-null float32\n",
      "nursery       284 non-null float32\n",
      "higher        284 non-null float32\n",
      "internet      284 non-null float32\n",
      "romantic      284 non-null float32\n",
      "famrel        284 non-null float32\n",
      "freetime      284 non-null object\n",
      "goout         284 non-null float32\n",
      "Dalc          284 non-null float32\n",
      "Walc          284 non-null float32\n",
      "health        284 non-null float32\n",
      "absences      284 non-null float32\n",
      "G1            284 non-null float32\n",
      "G2            284 non-null float32\n",
      "G3            284 non-null float32\n",
      "dtypes: float32(19), object(14)\n",
      "memory usage: 54.4+ KB\n"
     ]
    }
   ],
   "source": [
    "df_dropped.info()"
   ]
  },
  {
   "cell_type": "markdown",
   "metadata": {},
   "source": [
    "## Inspección visual de las variables"
   ]
  },
  {
   "cell_type": "code",
   "execution_count": 15,
   "metadata": {},
   "outputs": [
    {
     "name": "stdout",
     "output_type": "stream",
     "text": [
      "#### school ####\n",
      "GP    0.87\n",
      "MS    0.13\n",
      "Name: school, dtype: float64\n",
      "\n",
      "#### sex ####\n",
      "F    0.52\n",
      "M    0.48\n",
      "Name: sex, dtype: float64\n",
      "\n",
      "#### age ####\n",
      "16.0    0.26\n",
      "18.0    0.25\n",
      "15.0    0.21\n",
      "17.0    0.21\n",
      "19.0    0.05\n",
      "20.0    0.01\n",
      "21.0    0.00\n",
      "Name: age, dtype: float64\n",
      "\n",
      "#### address ####\n",
      "U    0.75\n",
      "R    0.25\n",
      "Name: address, dtype: float64\n",
      "\n",
      "#### famsize ####\n",
      "GT3    0.74\n",
      "LE3    0.26\n",
      "Name: famsize, dtype: float64\n",
      "\n",
      "#### Pstatus ####\n",
      "T    0.9\n",
      "A    0.1\n",
      "Name: Pstatus, dtype: float64\n",
      "\n",
      "#### Medu ####\n",
      "4    0.35\n",
      "2    0.25\n",
      "3    0.25\n",
      "1    0.15\n",
      "0    0.00\n",
      "Name: Medu, dtype: float64\n",
      "\n",
      "#### Fedu ####\n",
      "2    0.27\n",
      "3    0.27\n",
      "4    0.24\n",
      "1    0.22\n",
      "0    0.00\n",
      "Name: Fedu, dtype: float64\n",
      "\n",
      "#### Mjob ####\n",
      "other       0.36\n",
      "services    0.24\n",
      "teacher     0.15\n",
      "at_home     0.15\n",
      "health      0.09\n",
      "Name: Mjob, dtype: float64\n",
      "\n",
      "#### Fjob ####\n",
      "other       0.56\n",
      "services    0.28\n",
      "teacher     0.07\n",
      "health      0.05\n",
      "at_home     0.04\n",
      "Name: Fjob, dtype: float64\n",
      "\n",
      "#### reason ####\n",
      "course        0.36\n",
      "home          0.27\n",
      "reputation    0.27\n",
      "other         0.10\n",
      "Name: reason, dtype: float64\n",
      "\n",
      "#### guardian ####\n",
      "mother    0.70\n",
      "father    0.21\n",
      "other     0.08\n",
      "Name: guardian, dtype: float64\n",
      "\n",
      "#### traveltime ####\n",
      "1    0.62\n",
      "2    0.30\n",
      "3    0.06\n",
      "4    0.02\n",
      "Name: traveltime, dtype: float64\n",
      "\n",
      "#### studytime ####\n",
      "2.0    0.49\n",
      "1.0    0.26\n",
      "3.0    0.18\n",
      "4.0    0.07\n",
      "Name: studytime, dtype: float64\n",
      "\n",
      "#### failures ####\n",
      "0    0.79\n",
      "1    0.13\n",
      "2    0.05\n",
      "3    0.04\n",
      "Name: failures, dtype: float64\n",
      "\n",
      "#### schoolsup ####\n",
      "0.0    0.87\n",
      "1.0    0.13\n",
      "Name: schoolsup, dtype: float64\n",
      "\n",
      "#### famsup ####\n",
      "1.0    0.61\n",
      "0.0    0.39\n",
      "Name: famsup, dtype: float64\n",
      "\n",
      "#### paid ####\n",
      "0.0    0.56\n",
      "1.0    0.44\n",
      "Name: paid, dtype: float64\n",
      "\n",
      "#### activities ####\n",
      "1.0    0.52\n",
      "0.0    0.48\n",
      "Name: activities, dtype: float64\n",
      "\n",
      "#### nursery ####\n",
      "1.0    0.79\n",
      "0.0    0.21\n",
      "Name: nursery, dtype: float64\n",
      "\n",
      "#### higher ####\n",
      "1.0    0.95\n",
      "0.0    0.05\n",
      "Name: higher, dtype: float64\n",
      "\n",
      "#### internet ####\n",
      "1.0    0.81\n",
      "0.0    0.19\n",
      "Name: internet, dtype: float64\n",
      "\n",
      "#### romantic ####\n",
      "0.0    0.67\n",
      "1.0    0.33\n",
      "Name: romantic, dtype: float64\n",
      "\n",
      "#### famrel ####\n",
      "4.0    0.51\n",
      "5.0    0.26\n",
      "3.0    0.17\n",
      "2.0    0.05\n",
      "1.0    0.02\n",
      "Name: famrel, dtype: float64\n",
      "\n",
      "#### freetime ####\n",
      "3    0.40\n",
      "4    0.27\n",
      "2    0.17\n",
      "5    0.10\n",
      "1    0.06\n",
      "Name: freetime, dtype: float64\n",
      "\n",
      "#### goout ####\n",
      "3.0    0.36\n",
      "2.0    0.27\n",
      "4.0    0.20\n",
      "5.0    0.12\n",
      "1.0    0.05\n",
      "Name: goout, dtype: float64\n",
      "\n",
      "#### Dalc ####\n",
      "1.0    0.70\n",
      "2.0    0.19\n",
      "3.0    0.07\n",
      "4.0    0.03\n",
      "5.0    0.02\n",
      "Name: Dalc, dtype: float64\n",
      "\n",
      "#### Walc ####\n",
      "1.0    0.41\n",
      "2.0    0.20\n",
      "3.0    0.19\n",
      "4.0    0.13\n",
      "5.0    0.06\n",
      "Name: Walc, dtype: float64\n",
      "\n",
      "#### health ####\n",
      "5.0    0.37\n",
      "3.0    0.26\n",
      "4.0    0.18\n",
      "2.0    0.10\n",
      "1.0    0.10\n",
      "Name: health, dtype: float64\n",
      "\n",
      "#### absences ####\n",
      "count    284.0\n",
      "mean       6.0\n",
      "std        8.0\n",
      "min        0.0\n",
      "25%        0.0\n",
      "50%        4.0\n",
      "75%        7.0\n",
      "max       75.0\n",
      "Name: absences, dtype: float64\n",
      "\n",
      "#### G1 ####\n",
      "count    284.0\n",
      "mean      11.0\n",
      "std        3.0\n",
      "min        4.0\n",
      "25%        8.0\n",
      "50%       11.0\n",
      "75%       13.0\n",
      "max       19.0\n",
      "Name: G1, dtype: float64\n",
      "\n",
      "#### G2 ####\n",
      "count    284.0\n",
      "mean      11.0\n",
      "std        4.0\n",
      "min        0.0\n",
      "25%        9.0\n",
      "50%       10.0\n",
      "75%       13.0\n",
      "max       19.0\n",
      "Name: G2, dtype: float64\n",
      "\n",
      "#### G3 ####\n",
      "count    284.0\n",
      "mean      10.0\n",
      "std        5.0\n",
      "min        0.0\n",
      "25%        8.0\n",
      "50%       11.0\n",
      "75%       13.0\n",
      "max       20.0\n",
      "Name: G3, dtype: float64\n",
      "\n"
     ]
    }
   ],
   "source": [
    "for i in df.columns:\n",
    "    if len(df_dropped[i].value_counts()) < 10 or df_dropped[i].dtypes == 'object':\n",
    "        print('#### {} ####'.format(i))\n",
    "        print(round(df_dropped[i].value_counts('%'),2))\n",
    "        print()\n",
    "    else:\n",
    "        print('#### {} ####'.format(i))\n",
    "        print(round(df_dropped[i].describe()))\n",
    "        print()"
   ]
  },
  {
   "cell_type": "code",
   "execution_count": 16,
   "metadata": {},
   "outputs": [
    {
     "data": {
      "text/html": [
       "<div>\n",
       "<style scoped>\n",
       "    .dataframe tbody tr th:only-of-type {\n",
       "        vertical-align: middle;\n",
       "    }\n",
       "\n",
       "    .dataframe tbody tr th {\n",
       "        vertical-align: top;\n",
       "    }\n",
       "\n",
       "    .dataframe thead th {\n",
       "        text-align: right;\n",
       "    }\n",
       "</style>\n",
       "<table border=\"1\" class=\"dataframe\">\n",
       "  <thead>\n",
       "    <tr style=\"text-align: right;\">\n",
       "      <th></th>\n",
       "      <th>age</th>\n",
       "      <th>studytime</th>\n",
       "      <th>schoolsup</th>\n",
       "      <th>famsup</th>\n",
       "      <th>paid</th>\n",
       "      <th>activities</th>\n",
       "      <th>nursery</th>\n",
       "      <th>higher</th>\n",
       "      <th>internet</th>\n",
       "      <th>romantic</th>\n",
       "      <th>famrel</th>\n",
       "      <th>goout</th>\n",
       "      <th>Dalc</th>\n",
       "      <th>Walc</th>\n",
       "      <th>health</th>\n",
       "      <th>absences</th>\n",
       "      <th>G1</th>\n",
       "      <th>G2</th>\n",
       "      <th>G3</th>\n",
       "    </tr>\n",
       "  </thead>\n",
       "  <tbody>\n",
       "    <tr>\n",
       "      <th>count</th>\n",
       "      <td>284.000000</td>\n",
       "      <td>284.000000</td>\n",
       "      <td>284.000000</td>\n",
       "      <td>284.000000</td>\n",
       "      <td>284.000000</td>\n",
       "      <td>284.000000</td>\n",
       "      <td>284.000000</td>\n",
       "      <td>284.000000</td>\n",
       "      <td>284.000000</td>\n",
       "      <td>284.000000</td>\n",
       "      <td>284.000000</td>\n",
       "      <td>284.000000</td>\n",
       "      <td>284.000000</td>\n",
       "      <td>284.000000</td>\n",
       "      <td>284.000000</td>\n",
       "      <td>284.000000</td>\n",
       "      <td>284.000000</td>\n",
       "      <td>284.000000</td>\n",
       "      <td>284.000000</td>\n",
       "    </tr>\n",
       "    <tr>\n",
       "      <th>mean</th>\n",
       "      <td>16.707747</td>\n",
       "      <td>2.049296</td>\n",
       "      <td>0.133803</td>\n",
       "      <td>0.612676</td>\n",
       "      <td>0.443662</td>\n",
       "      <td>0.521127</td>\n",
       "      <td>0.785211</td>\n",
       "      <td>0.947183</td>\n",
       "      <td>0.813380</td>\n",
       "      <td>0.334507</td>\n",
       "      <td>3.940141</td>\n",
       "      <td>3.084507</td>\n",
       "      <td>1.482394</td>\n",
       "      <td>2.239437</td>\n",
       "      <td>3.626760</td>\n",
       "      <td>5.588028</td>\n",
       "      <td>10.933099</td>\n",
       "      <td>10.640845</td>\n",
       "      <td>10.394366</td>\n",
       "    </tr>\n",
       "    <tr>\n",
       "      <th>std</th>\n",
       "      <td>1.284239</td>\n",
       "      <td>0.843411</td>\n",
       "      <td>0.341040</td>\n",
       "      <td>0.487999</td>\n",
       "      <td>0.497693</td>\n",
       "      <td>0.500436</td>\n",
       "      <td>0.411401</td>\n",
       "      <td>0.224062</td>\n",
       "      <td>0.390294</td>\n",
       "      <td>0.472651</td>\n",
       "      <td>0.881660</td>\n",
       "      <td>1.076528</td>\n",
       "      <td>0.879513</td>\n",
       "      <td>1.285579</td>\n",
       "      <td>1.319112</td>\n",
       "      <td>8.156332</td>\n",
       "      <td>3.289196</td>\n",
       "      <td>3.789221</td>\n",
       "      <td>4.565904</td>\n",
       "    </tr>\n",
       "    <tr>\n",
       "      <th>min</th>\n",
       "      <td>15.000000</td>\n",
       "      <td>1.000000</td>\n",
       "      <td>0.000000</td>\n",
       "      <td>0.000000</td>\n",
       "      <td>0.000000</td>\n",
       "      <td>0.000000</td>\n",
       "      <td>0.000000</td>\n",
       "      <td>0.000000</td>\n",
       "      <td>0.000000</td>\n",
       "      <td>0.000000</td>\n",
       "      <td>1.000000</td>\n",
       "      <td>1.000000</td>\n",
       "      <td>1.000000</td>\n",
       "      <td>1.000000</td>\n",
       "      <td>1.000000</td>\n",
       "      <td>0.000000</td>\n",
       "      <td>4.000000</td>\n",
       "      <td>0.000000</td>\n",
       "      <td>0.000000</td>\n",
       "    </tr>\n",
       "    <tr>\n",
       "      <th>25%</th>\n",
       "      <td>16.000000</td>\n",
       "      <td>1.000000</td>\n",
       "      <td>0.000000</td>\n",
       "      <td>0.000000</td>\n",
       "      <td>0.000000</td>\n",
       "      <td>0.000000</td>\n",
       "      <td>1.000000</td>\n",
       "      <td>1.000000</td>\n",
       "      <td>1.000000</td>\n",
       "      <td>0.000000</td>\n",
       "      <td>4.000000</td>\n",
       "      <td>2.000000</td>\n",
       "      <td>1.000000</td>\n",
       "      <td>1.000000</td>\n",
       "      <td>3.000000</td>\n",
       "      <td>0.000000</td>\n",
       "      <td>8.000000</td>\n",
       "      <td>9.000000</td>\n",
       "      <td>8.000000</td>\n",
       "    </tr>\n",
       "    <tr>\n",
       "      <th>50%</th>\n",
       "      <td>17.000000</td>\n",
       "      <td>2.000000</td>\n",
       "      <td>0.000000</td>\n",
       "      <td>1.000000</td>\n",
       "      <td>0.000000</td>\n",
       "      <td>1.000000</td>\n",
       "      <td>1.000000</td>\n",
       "      <td>1.000000</td>\n",
       "      <td>1.000000</td>\n",
       "      <td>0.000000</td>\n",
       "      <td>4.000000</td>\n",
       "      <td>3.000000</td>\n",
       "      <td>1.000000</td>\n",
       "      <td>2.000000</td>\n",
       "      <td>4.000000</td>\n",
       "      <td>4.000000</td>\n",
       "      <td>11.000000</td>\n",
       "      <td>10.500000</td>\n",
       "      <td>11.000000</td>\n",
       "    </tr>\n",
       "    <tr>\n",
       "      <th>75%</th>\n",
       "      <td>18.000000</td>\n",
       "      <td>2.000000</td>\n",
       "      <td>0.000000</td>\n",
       "      <td>1.000000</td>\n",
       "      <td>1.000000</td>\n",
       "      <td>1.000000</td>\n",
       "      <td>1.000000</td>\n",
       "      <td>1.000000</td>\n",
       "      <td>1.000000</td>\n",
       "      <td>1.000000</td>\n",
       "      <td>5.000000</td>\n",
       "      <td>4.000000</td>\n",
       "      <td>2.000000</td>\n",
       "      <td>3.000000</td>\n",
       "      <td>5.000000</td>\n",
       "      <td>7.000000</td>\n",
       "      <td>13.000000</td>\n",
       "      <td>13.000000</td>\n",
       "      <td>13.000000</td>\n",
       "    </tr>\n",
       "    <tr>\n",
       "      <th>max</th>\n",
       "      <td>21.000000</td>\n",
       "      <td>4.000000</td>\n",
       "      <td>1.000000</td>\n",
       "      <td>1.000000</td>\n",
       "      <td>1.000000</td>\n",
       "      <td>1.000000</td>\n",
       "      <td>1.000000</td>\n",
       "      <td>1.000000</td>\n",
       "      <td>1.000000</td>\n",
       "      <td>1.000000</td>\n",
       "      <td>5.000000</td>\n",
       "      <td>5.000000</td>\n",
       "      <td>5.000000</td>\n",
       "      <td>5.000000</td>\n",
       "      <td>5.000000</td>\n",
       "      <td>75.000000</td>\n",
       "      <td>19.000000</td>\n",
       "      <td>19.000000</td>\n",
       "      <td>20.000000</td>\n",
       "    </tr>\n",
       "  </tbody>\n",
       "</table>\n",
       "</div>"
      ],
      "text/plain": [
       "              age   studytime   schoolsup      famsup        paid  activities  \\\n",
       "count  284.000000  284.000000  284.000000  284.000000  284.000000  284.000000   \n",
       "mean    16.707747    2.049296    0.133803    0.612676    0.443662    0.521127   \n",
       "std      1.284239    0.843411    0.341040    0.487999    0.497693    0.500436   \n",
       "min     15.000000    1.000000    0.000000    0.000000    0.000000    0.000000   \n",
       "25%     16.000000    1.000000    0.000000    0.000000    0.000000    0.000000   \n",
       "50%     17.000000    2.000000    0.000000    1.000000    0.000000    1.000000   \n",
       "75%     18.000000    2.000000    0.000000    1.000000    1.000000    1.000000   \n",
       "max     21.000000    4.000000    1.000000    1.000000    1.000000    1.000000   \n",
       "\n",
       "          nursery      higher    internet    romantic      famrel       goout  \\\n",
       "count  284.000000  284.000000  284.000000  284.000000  284.000000  284.000000   \n",
       "mean     0.785211    0.947183    0.813380    0.334507    3.940141    3.084507   \n",
       "std      0.411401    0.224062    0.390294    0.472651    0.881660    1.076528   \n",
       "min      0.000000    0.000000    0.000000    0.000000    1.000000    1.000000   \n",
       "25%      1.000000    1.000000    1.000000    0.000000    4.000000    2.000000   \n",
       "50%      1.000000    1.000000    1.000000    0.000000    4.000000    3.000000   \n",
       "75%      1.000000    1.000000    1.000000    1.000000    5.000000    4.000000   \n",
       "max      1.000000    1.000000    1.000000    1.000000    5.000000    5.000000   \n",
       "\n",
       "             Dalc        Walc      health    absences          G1          G2  \\\n",
       "count  284.000000  284.000000  284.000000  284.000000  284.000000  284.000000   \n",
       "mean     1.482394    2.239437    3.626760    5.588028   10.933099   10.640845   \n",
       "std      0.879513    1.285579    1.319112    8.156332    3.289196    3.789221   \n",
       "min      1.000000    1.000000    1.000000    0.000000    4.000000    0.000000   \n",
       "25%      1.000000    1.000000    3.000000    0.000000    8.000000    9.000000   \n",
       "50%      1.000000    2.000000    4.000000    4.000000   11.000000   10.500000   \n",
       "75%      2.000000    3.000000    5.000000    7.000000   13.000000   13.000000   \n",
       "max      5.000000    5.000000    5.000000   75.000000   19.000000   19.000000   \n",
       "\n",
       "               G3  \n",
       "count  284.000000  \n",
       "mean    10.394366  \n",
       "std      4.565904  \n",
       "min      0.000000  \n",
       "25%      8.000000  \n",
       "50%     11.000000  \n",
       "75%     13.000000  \n",
       "max     20.000000  "
      ]
     },
     "execution_count": 16,
     "metadata": {},
     "output_type": "execute_result"
    }
   ],
   "source": [
    "df_dropped.describe()"
   ]
  },
  {
   "cell_type": "code",
   "execution_count": 17,
   "metadata": {},
   "outputs": [
    {
     "data": {
      "text/plain": [
       "<matplotlib.legend.Legend at 0x7f6b58a92860>"
      ]
     },
     "execution_count": 17,
     "metadata": {},
     "output_type": "execute_result"
    },
    {
     "data": {
      "image/png": "[encoded data removed]",
      "text/plain": [
       "<Figure size 720x432 with 1 Axes>"
      ]
     },
     "metadata": {
      "needs_background": "light"
     },
     "output_type": "display_data"
    }
   ],
   "source": [
    "plt.figure(figsize=(10,6))\n",
    "sns.kdeplot(df_dropped['G1'], color=\"b\", shade=True, label=\"Notas durante el primer semestre\")\n",
    "plt.axvline(round(np.mean(df_dropped['G1']), 3), color='b', linestyle='--')\n",
    "sns.kdeplot(df_dropped['G2'], color=\"y\", shade=True, label=\"Notas durante el segundo semestre\")\n",
    "plt.axvline(round(np.mean(df_dropped['G2']), 3), color='y', linestyle='--')\n",
    "sns.kdeplot(df_dropped['G3'], color=\"r\", shade=True, label=\"Promedio final\")\n",
    "plt.axvline(round(np.mean(df_dropped['G3']), 3), color='r', linestyle='--')\n",
    "plt.legend()"
   ]
  },
  {
   "cell_type": "markdown",
   "metadata": {},
   "source": [
    "__Observaciones:__\n",
    "\n",
    "__G1__: Notas durante el primer semestre (numérica: de 0 a 20)\n",
    "* La media de las notas durante el primer semestre es 10.9, la nota mínima es 3.2 y la máxima es 19.\n",
    "\n",
    "__G2__: Notas durante el segundo semestre (numérica: de 0 a 20).\n",
    "* La media de las notas durante el segundo semestre es 10.6, la nota mínima es 3.7 y la nota máxima es 19.\n",
    "\n",
    "__G3__: Promedio final (numérica: de 0 a 20).\n",
    "* El promedio de la nota final de los estudiantes es 10.3, la nota mínima es 4.5 y la nota máxima es 20.\n",
    "\n",
    "__Podemos observar que las notas de los estudiantes en el segundo semestre mejoraron en comparación con el primer semestre. El promedio final de los estudiantes tiene una distribución similar a las notas durante el segundo semestre pero con un rango menor.__"
   ]
  },
  {
   "cell_type": "code",
   "execution_count": 18,
   "metadata": {},
   "outputs": [
    {
     "data": {
      "image/png": "[encoded data removed]",
      "text/plain": [
       "<Figure size 1080x432 with 3 Axes>"
      ]
     },
     "metadata": {
      "needs_background": "light"
     },
     "output_type": "display_data"
    }
   ],
   "source": [
    "fig, (ax1,ax2, ax3) = plt.subplots(1, 3, figsize=(15, 6))\n",
    "sns.countplot(df_dropped['sex'], ax=ax1).set_title('Sexo del estudiante')\n",
    "sns.distplot(df_dropped['studytime'], ax=ax2).set_title('Horas semanales dedicadas al estudio')\n",
    "sns.countplot(x=\"studytime\", hue=\"sex\", data=df_dropped)\n",
    "plt.title('Distribución de \"studytime\" con \"Sex\"')\n",
    "plt.show()"
   ]
  },
  {
   "cell_type": "markdown",
   "metadata": {},
   "source": [
    "__Observaciones:__\n",
    "\n",
    "__sex:__ Sexo del estudiante.\n",
    "* El 52% de los estudiantes son mujeres y un 48% son hombres (Presenta 2 clases).\n",
    "\n",
    "__studytime:__ Horas semanales dedicadas al estudio.\n",
    "* Las tendencias mas altas para \"horas semanales dedicadas al estudio\" son las categorías  \"2 a 5 horas (2)\" con un 49% y \"<2 horas (1)\" con un 26%.\n",
    "\n",
    "__Podemos observar que las mujeres estudian mas horas en la semana que los hombres.__"
   ]
  },
  {
   "cell_type": "code",
   "execution_count": 19,
   "metadata": {},
   "outputs": [
    {
     "data": {
      "image/png": "[encoded data removed]",
      "text/plain": [
       "<Figure size 1080x432 with 2 Axes>"
      ]
     },
     "metadata": {
      "needs_background": "light"
     },
     "output_type": "display_data"
    }
   ],
   "source": [
    "fig, (ax1,ax2) = plt.subplots(1,2, figsize=(15, 6))\n",
    "sns.distplot(df_dropped['absences'], ax=ax1, hist=True, rug=True)\n",
    "sns.boxplot(x=df_dropped['sex'], y=df_dropped['absences']).set_title('Cantidad de ausencias escolares por genero')\n",
    "plt.show()"
   ]
  },
  {
   "cell_type": "markdown",
   "metadata": {},
   "source": [
    "__Observaciones__\n",
    "\n",
    "__absences__: Cantidad de ausencias escolares (numérica: de 0 a 93)\n",
    "* El promedio de ausencias de los estudiantes es de 5.6, la media es de 4.4 y el valor máximo es 75\n",
    "\n",
    "__Podemos observar que no existe una gran diferencia entre la cantidad de ausencias entre los hombres y las mujeres, para ambas clases existen casos outliers__"
   ]
  },
  {
   "cell_type": "code",
   "execution_count": 20,
   "metadata": {},
   "outputs": [
    {
     "data": {
      "image/png": "[encoded data removed]",
      "text/plain": [
       "<Figure size 1080x432 with 2 Axes>"
      ]
     },
     "metadata": {
      "needs_background": "light"
     },
     "output_type": "display_data"
    }
   ],
   "source": [
    "fig, (ax1,ax2) = plt.subplots(1,2, figsize=(15, 6))\n",
    "sns.boxplot(x=df_dropped['sex'], ax=ax1, y=df_dropped['age'])\n",
    "plt.axvline(round(np.mean(df_dropped['age']), 3), color='b', linestyle='--')\n",
    "sns.distplot(df_dropped['age'], ax=ax2, hist=True, rug=True)\n",
    "plt.show()"
   ]
  },
  {
   "cell_type": "markdown",
   "metadata": {},
   "source": [
    "__age:__ Edad del estudiante.\n",
    "* Los estudiantes tienen en promedio 16 años, la edad mínima es 15 y la edad máxima es 21 (Presenta 4 tendencias,). \n",
    "\n",
    "__Podemos observar que existen 4 tendencias para la variable edad, notamos que la distribución de la edades para las mujeres es menor.__"
   ]
  },
  {
   "cell_type": "code",
   "execution_count": 21,
   "metadata": {},
   "outputs": [
    {
     "data": {
      "text/plain": [
       "<Figure size 720x432 with 0 Axes>"
      ]
     },
     "metadata": {},
     "output_type": "display_data"
    },
    {
     "data": {
      "image/png": "[encoded data removed]",
      "text/plain": [
       "<Figure size 1080x432 with 2 Axes>"
      ]
     },
     "metadata": {
      "needs_background": "light"
     },
     "output_type": "display_data"
    }
   ],
   "source": [
    "plt.figure(figsize=(10,6))\n",
    "fig, (ax1,ax2) = plt.subplots(1,2, figsize=(15, 6))\n",
    "sns.distplot(df_dropped['famrel'], ax=ax1).set_title('Calidad de las relaciones familiares')\n",
    "sns.countplot(x=\"famrel\", hue=\"sex\", data=df_dropped)\n",
    "plt.title('Calidad de las relaciones familiares por genero')\n",
    "plt.show()"
   ]
  },
  {
   "cell_type": "markdown",
   "metadata": {},
   "source": [
    "__Observaciones:__\n",
    "\n",
    "__famrel__: Calidad de las relaciones familiares.\n",
    "* Las tendencias mas altas para  \"calidad de las relaciones familiares\" son las categorías \"(4) muy buena\" con un 51% y \"excelente (5)\" con un 26% (Presenta 5 clases).\n",
    "\n",
    "__Podemos observar que la mayoría de los estudiantes tiene una buena relación con la familia.__"
   ]
  },
  {
   "cell_type": "code",
   "execution_count": 22,
   "metadata": {},
   "outputs": [
    {
     "data": {
      "text/plain": [
       "<Figure size 720x432 with 0 Axes>"
      ]
     },
     "metadata": {},
     "output_type": "display_data"
    },
    {
     "data": {
      "image/png": "[encoded data removed]",
      "text/plain": [
       "<Figure size 900x360 with 5 Axes>"
      ]
     },
     "metadata": {
      "needs_background": "light"
     },
     "output_type": "display_data"
    }
   ],
   "source": [
    "plt.figure(figsize=(10,6))\n",
    "g = sns.FacetGrid(df_dropped, col='famrel', size=5, aspect=.5)\n",
    "g = g.map(sns.boxplot, 'sex', 'G3')"
   ]
  },
  {
   "cell_type": "markdown",
   "metadata": {},
   "source": [
    "__Observaciones:__\n",
    "\n",
    "__Podemos ver que los estudiantes que tienen malas relaciones familiares tienen notas mas bajas en comparación con los estudiantes que tiene excelentes relaciones familiares__"
   ]
  },
  {
   "cell_type": "code",
   "execution_count": 23,
   "metadata": {},
   "outputs": [
    {
     "data": {
      "text/plain": [
       "<Figure size 720x432 with 0 Axes>"
      ]
     },
     "metadata": {},
     "output_type": "display_data"
    },
    {
     "data": {
      "image/png": "[encoded data removed]",
      "text/plain": [
       "<Figure size 1080x432 with 2 Axes>"
      ]
     },
     "metadata": {
      "needs_background": "light"
     },
     "output_type": "display_data"
    }
   ],
   "source": [
    "plt.figure(figsize=(10,6))\n",
    "fig, (ax1,ax2) = plt.subplots(1,2, figsize=(15, 6))\n",
    "sns.distplot(df_dropped['Walc'], ax=ax1).set_title('Consumo de alcohol en fines de semana')\n",
    "sns.countplot(x=\"Walc\", hue=\"sex\", data=df_dropped)\n",
    "plt.title('Consumo de alcohol en fines de semana / Genero')\n",
    "plt.show()"
   ]
  },
  {
   "cell_type": "markdown",
   "metadata": {},
   "source": [
    "__Observaciones:__\n",
    "\n",
    "__Walc__: Consumo de alcohol en fines de semana (numérica: de 1 - muy bajo a 5 - muy alto)\n",
    "* Las tendencias mas altas para \"consumo de alcohol en fines de semana\" son las categorías \"1 (muy bajo)\" con un 41% y \"2 (bajo/poco)\" con un 20% (Presenta 5 clases)\n",
    "\n",
    "__Podemos observar que los estudiantes consumen poco alcohol los fines de semana__"
   ]
  },
  {
   "cell_type": "code",
   "execution_count": 24,
   "metadata": {},
   "outputs": [
    {
     "data": {
      "text/plain": [
       "<Figure size 720x432 with 0 Axes>"
      ]
     },
     "metadata": {},
     "output_type": "display_data"
    },
    {
     "data": {
      "image/png": "[encoded data removed]",
      "text/plain": [
       "<Figure size 900x360 with 5 Axes>"
      ]
     },
     "metadata": {
      "needs_background": "light"
     },
     "output_type": "display_data"
    }
   ],
   "source": [
    "plt.figure(figsize=(10,6))\n",
    "g = sns.FacetGrid(df_dropped, col='Walc', size=5, aspect=.5)\n",
    "g = g.map(sns.boxplot, 'sex', 'G3')\n",
    "plt.show()"
   ]
  },
  {
   "cell_type": "markdown",
   "metadata": {},
   "source": [
    "__Podemos observar que los estudiantes que beben más los fines de semana tienen un peor rendimiento académico, pero para la categoría Walc = 5 notamos que existen mujeres con notas (G3) altas (casos outliers), también vemos que para la categoría Walc=1 los hombres tienen mejores notas (G3) que las mujeres y para la categoría Walc = 3 las mujeres tienen mejores notas (G3) que los hombres__"
   ]
  },
  {
   "cell_type": "markdown",
   "metadata": {},
   "source": [
    "### Otras Interpretaciones:"
   ]
  },
  {
   "cell_type": "markdown",
   "metadata": {},
   "source": [
    "__school:__ Escuela del estudiante.\n",
    "* La mayoría de los estudiantes pertenecen a la escuela Gabriel Pereira (87%).\n",
    "\n",
    "__address:__ Ubicación de la casa del estudiante.\n",
    "* La mayoría de los estudiantes viven en sectores urbanos(75%) en comparación con los estudiantes que viven en sectores rurales (25%).\n",
    "\n",
    "__famsize:__ Tamaño de la familia.\n",
    "* El 74% de los estudiantes son de familias de máximo 3 personas, el 26% de los estudiantes son de familias mayores a 3 personas.\n",
    "\n",
    "__Pstatus:__ Estado cohabitacional de los padres.\n",
    "* La mayoría de los estudiantes viven con sus padres (90%), solo el 10% de los estudiantes viven separados de sus padres.\n",
    "\n",
    "__Medu:__ Nivel educacional de la madre.\n",
    "* Las tendencias mas altas para el nivel educacional de la madre son \"educación superior\" con un 35% y \"de 5to a 9\" con un 25%.\n",
    "\n",
    "__Fedu:__ Nivel educacional del padre.\n",
    "* Las tendencias mas altas para el nivel educacional del padre son las categorías \"educación media\" con un 27% y \"de 5to a 9, 3\" con un 27%.\n",
    "\n",
    "__Mjob:__ Ocupación de la madre.\n",
    "* Las tendencias mas altas para la ocupación de la madre son las categorías \"services\" con un 24% y \"teacher\" con un 15%.\n",
    "\n",
    "__Fjob:__ Ocupación del padre\n",
    "* Las tendencias mas altas para la ocupación del padre son las categorías \"other\" con un 56% y \"services\" con un 28%.\n",
    "\n",
    "__reason:__ Razón para escoger la escuela.\n",
    "* Las tendencias mas altas para saber porque razón el estudiante escogió la escuela son las categorías \"preferencia de cursos\" con un 36% y \"cercano a casa\" con un 27%.\n",
    "\n",
    "__guardian:__ Apoderado del estudiante.\n",
    "* El 70% de los estudiantes su apoderado es su madre, seguido por su padre con un 21%.\n",
    "\n",
    "__traveltime:__ Tiempo de viaje entre hogar y colegio.\n",
    "* Las tendencias mas altas para \"tiempo de viaje entre hogar y colegio\" son las categorías \"- <15 min\" con un 62% y \"15 a 30 min.\" con un 30%.\n",
    "\n",
    "__failures:__ Número de clases reprobadas.\n",
    "* La mayoría de los estudiantes no ha reprobado clases (79%).\n",
    "\n",
    "__schoolsup:__ Apoyo educacional del colegio.\n",
    "* La mayoría de los estudiantes tiene apoyo educacional del colegio (87%).\n",
    "\n",
    "__famsup:__ Apoyo educacional familiar.\n",
    "* El 61% de los estudiantes tienen apoyo educacional familiar en comparación con el 39% de los estudiantes que no tienen apoyo educacional familiar.\n",
    "\n",
    "__paid:__ Clases particulares pagadas (matemáticas o portugués)\n",
    "* El 56% de los estudiantes tienen clases particulares pagadas, el 44% de los estudiantes que no tienen clases particulares pagadas.\n",
    "\n",
    "__activities:__ Actividades extracurriculares.\n",
    "* El 52% de los estudiantes tienen actividades extracurriculares, el 48% de los estudiantes no tienen actividades extracurriculares.\n",
    "\n",
    "__nursery:__ Asistió a guardería infantil.\n",
    "* La mayoría de los estudiantes asistió a guardería infantil (79%).\n",
    "\n",
    "__higher:__ Desea proseguir estudios superiores.\n",
    "* La mayoría de los estudiantes desean seguir con estudios superiores (95%).\n",
    "\n",
    "__internet__: Acceso a Internet desde el hogar.\n",
    "* La mayoría de los estudiantes tiene acceso a Internet en el hogar (81%).\n",
    "\n",
    "__romantic__: Relación romántica.\n",
    "* El 67% de los estudiantes tiene una relación romántica, el 33% de los estudiantes no tienen una relación romántica.\n",
    "\n",
    "__freetime__: Tiempo libre fuera del colegio (numérica: de 1 - muy poco a 5 - mucho)\n",
    "* Las tendencias mas altas para \"tiempo libre fuera del colegio\" son las categorías \"3 (regular)\" con un 40% y \"4 (moderado)\" con un 27%.\n",
    "\n",
    "__goout__: Salidas con amigos (numérica: de 1 - muy pocas a 5 - muchas)\n",
    "* Las tendencias mas altas para \"salidas con amigos\" son las categorías \"3 (regular)\" con un 36% y \"2 (pocas)\" con un 27%.\n",
    "\n",
    "__Dalc__: Consumo de alcohol en día de semana (numérica: de 1 - muy bajo a 5 - muy alto)\n",
    "* La mayoria de los estudiantes consume muy poco alcohol en días de la semana (70%).\n",
    "\n",
    "\n",
    "__health__: Estado de salud actual (numérica: from 1 - muy malo to 5 - muy bueno)\n",
    "* Las tendencias mas altas para \"estado de salud actual\" son las categorías \"5 (muy bueno)\" con un 37% y \"3 (regular)\" con un 26%."
   ]
  }
 ],
 "metadata": {
  "kernelspec": {
   "display_name": "Python 3",
   "language": "python",
   "name": "python3"
  },
  "language_info": {
   "codemirror_mode": {
    "name": "ipython",
    "version": 3
   },
   "file_extension": ".py",
   "mimetype": "text/x-python",
   "name": "python",
   "nbconvert_exporter": "python",
   "pygments_lexer": "ipython3",
   "version": "3.7.3"
  }
 },
 "nbformat": 4,
 "nbformat_minor": 2
}
