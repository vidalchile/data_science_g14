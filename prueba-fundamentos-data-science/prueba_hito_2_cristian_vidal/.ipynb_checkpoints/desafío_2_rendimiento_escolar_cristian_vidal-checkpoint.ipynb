{
 "cells": [
  {
   "cell_type": "markdown",
   "metadata": {},
   "source": [
    "# Prueba - Fundamentos Data Science | Desafío 2: Rendimiento escolar\n",
    "### Cristian Vidal Muñoz"
   ]
  },
  {
   "cell_type": "markdown",
   "metadata": {},
   "source": [
    "# Prueba - Hito 1"
   ]
  },
  {
   "cell_type": "markdown",
   "metadata": {},
   "source": [
    "### Objetivo\n",
    "Completar el punto de __Preliminares__, así como __Aspectos computacionales__."
   ]
  },
  {
   "cell_type": "markdown",
   "metadata": {},
   "source": [
    "__Elementos a considerar__\n",
    "* Los dos enunciados deben estar clarificados, considerando el tipo de problema a resolver (regresión o clasificación). Para cada uno de los enunciados y su problema identificado, se debe justificar el uso de métricas para medir el desempeño del problema. __(3 puntos)__\n",
    "* Se debe considerar el uso de las librerías asociadas para la ingesta, preprocesamiento, visualización y modelación, así como métricas de evaluación. __(1 punto)__\n",
    "* Se debe detallar y considerar el proceso de preprocesamiento y recodificación de datos. __(1punto)__"
   ]
  },
  {
   "cell_type": "markdown",
   "metadata": {},
   "source": [
    "__INTRODUCCIÓN PROBLEMA:__\n",
    "\n",
    "Con el objetivo de identificar a los alumnos que presentan un bajo desempeño académico en una escuela Portuguesa, debemos desarrollar un modelo predictivo sobre el promedio final de un alumno en base a una serie de atributos sociodemográficos, conductuales y aspectos ambientales.\n",
    "\n",
    "__TIPO DE PROYECTO__\n",
    "\n",
    "Este caso vamos a implementar un predictor de __regresión lineal múltiple__, donde tenemos que predecir un valor numérico continuo, queremos predecir el promedio final de un alumno, para este algoritmo necesitamos \n",
    "obtener la relación entre variables independientes (X) y una variable dependiente (Y). El algoritmo de machine learning que utilizaremos sera __LinearRegression__. Para determinar cuáles van a ser los principales atributos a incluir en el modelo lo haremos mediante la generación de correlaciones parciales entre cada atributo y el vector objetivo.\n",
    "\n",
    "__MÉTRICAS__\n",
    "\n",
    "Algunas de las métricas que utilizaremos para evaluar el desempeño y precisión de nuestro modelo serán: Promedio del Error Cuadrático __(Mean Squared Error)__ y el estadístico __R-cuadrado__.\n",
    "\n",
    "__LIBRERÍAS Y MÓDULOS__\n",
    "\n",
    "Desarrollaremos este caso utilizando la __Suite__ de __Anaconda python__. Para la manipulación, operaciones y preparación de los datos usaremos __Pandas__ y __NumPy__. Para la visualización de los datos utilizaremos __missingno (matrix)__, __matplotlib (plt)__ y __Seaborn (sns)__. Nuestro análisis estadístico y econométrico lo haremos con __Statsmodels (ols)__. Los algoritmos de Machine Learning, validación y metricas de desempeño utilizaremos __Scikit-learn (LinearRegression, train_test_split, mean_squared_error, r2_score)__."
   ]
  },
  {
   "cell_type": "markdown",
   "metadata": {},
   "source": [
    "# Prueba - Hito 2"
   ]
  },
  {
   "cell_type": "markdown",
   "metadata": {},
   "source": [
    "### Objetivo\n",
    "\n",
    "Completar el punto de __Descripción__.\n",
    "\n",
    "sección llamada __Descripción__ donde se generará un análisis descriptivo considerando el\n",
    "tipo de variables (desde el punto de vista estadístico así como computacional). Esta sección\n",
    "debe considerar medidas univariadas/ frecuencias, datos perdidos y gráficos distributivos sobre\n",
    "las variables a analizar. A partir de ésta se debe clarificar la estrategia de preprocesamiento\n",
    "(datos perdidos, recodificaciones)."
   ]
  },
  {
   "cell_type": "markdown",
   "metadata": {},
   "source": [
    "### Elementos a considerar\n",
    "* La inspección visual del vector objetivo. (2 puntos)\n",
    "* La inspección visual de las variables. (2 puntos)\n",
    "* La inspección de datos perdidos en las variables. (1 punto)\n",
    "\n",
    "De ser necesario, se puede iterar en el proceso de preprocesamiento y recodificación de las variables"
   ]
  },
  {
   "cell_type": "code",
   "execution_count": 1,
   "metadata": {},
   "outputs": [],
   "source": [
    "#Importar librerias\n",
    "import pandas as pd\n",
    "import numpy as np\n",
    "import seaborn as sns\n",
    "import matplotlib.pyplot as plt\n",
    "import missingno\n",
    "\n",
    "#Importamos funciones auxiliares\n",
    "import helpers as funcion_auxiliar\n",
    "\n",
    "#Configuración de graficos\n",
    "plt.style.use('ggplot')\n",
    "\n",
    "#Ignorar Avisos\n",
    "import warnings\n",
    "warnings.filterwarnings(\"ignore\")"
   ]
  },
  {
   "cell_type": "markdown",
   "metadata": {},
   "source": [
    "## Aspectos adicionales a considerar"
   ]
  },
  {
   "cell_type": "markdown",
   "metadata": {},
   "source": [
    "* La base de datos presenta una serie de anomalías. En la escuela no tienen buenas prácticas sobre cómo ingresar datos, por lo que existen datos perdidos que están registrados bajo tres categorías: nulidade, sem validade, zero. De manera adicional, hay 3 variables numéricas que se registraron como strings, cuya interpretación en pandas devuelve una estructura de datos genérica. Finalmente, la base está con un encoding distinto al normal y los delimitadores son distintos."
   ]
  },
  {
   "cell_type": "code",
   "execution_count": 2,
   "metadata": {},
   "outputs": [
    {
     "data": {
      "text/html": [
       "<div>\n",
       "<style scoped>\n",
       "    .dataframe tbody tr th:only-of-type {\n",
       "        vertical-align: middle;\n",
       "    }\n",
       "\n",
       "    .dataframe tbody tr th {\n",
       "        vertical-align: top;\n",
       "    }\n",
       "\n",
       "    .dataframe thead th {\n",
       "        text-align: right;\n",
       "    }\n",
       "</style>\n",
       "<table border=\"1\" class=\"dataframe\">\n",
       "  <thead>\n",
       "    <tr style=\"text-align: right;\">\n",
       "      <th></th>\n",
       "      <th>school</th>\n",
       "      <th>sex</th>\n",
       "      <th>age</th>\n",
       "      <th>address</th>\n",
       "      <th>famsize</th>\n",
       "      <th>Pstatus</th>\n",
       "      <th>Medu</th>\n",
       "      <th>Fedu</th>\n",
       "      <th>Mjob</th>\n",
       "      <th>Fjob</th>\n",
       "      <th>...</th>\n",
       "      <th>famrel</th>\n",
       "      <th>freetime</th>\n",
       "      <th>goout</th>\n",
       "      <th>Dalc</th>\n",
       "      <th>Walc</th>\n",
       "      <th>health</th>\n",
       "      <th>absences</th>\n",
       "      <th>G1</th>\n",
       "      <th>G2</th>\n",
       "      <th>G3</th>\n",
       "    </tr>\n",
       "  </thead>\n",
       "  <tbody>\n",
       "    <tr>\n",
       "      <th>0</th>\n",
       "      <td>GP</td>\n",
       "      <td>F</td>\n",
       "      <td>nulidade</td>\n",
       "      <td>U</td>\n",
       "      <td>GT3</td>\n",
       "      <td>A</td>\n",
       "      <td>4</td>\n",
       "      <td>4</td>\n",
       "      <td>at_home</td>\n",
       "      <td>teacher</td>\n",
       "      <td>...</td>\n",
       "      <td>4</td>\n",
       "      <td>3</td>\n",
       "      <td>\"4\"</td>\n",
       "      <td>1</td>\n",
       "      <td>1</td>\n",
       "      <td>\"3\"</td>\n",
       "      <td>6</td>\n",
       "      <td>5</td>\n",
       "      <td>6</td>\n",
       "      <td>6</td>\n",
       "    </tr>\n",
       "    <tr>\n",
       "      <th>1</th>\n",
       "      <td>GP</td>\n",
       "      <td>F</td>\n",
       "      <td>\"17\"</td>\n",
       "      <td>U</td>\n",
       "      <td>GT3</td>\n",
       "      <td>T</td>\n",
       "      <td>1</td>\n",
       "      <td>1</td>\n",
       "      <td>at_home</td>\n",
       "      <td>other</td>\n",
       "      <td>...</td>\n",
       "      <td>5</td>\n",
       "      <td>3</td>\n",
       "      <td>\"3\"</td>\n",
       "      <td>1</td>\n",
       "      <td>1</td>\n",
       "      <td>\"3\"</td>\n",
       "      <td>4</td>\n",
       "      <td>5</td>\n",
       "      <td>5</td>\n",
       "      <td>6</td>\n",
       "    </tr>\n",
       "    <tr>\n",
       "      <th>2</th>\n",
       "      <td>GP</td>\n",
       "      <td>F</td>\n",
       "      <td>\"15\"</td>\n",
       "      <td>U</td>\n",
       "      <td>LE3</td>\n",
       "      <td>T</td>\n",
       "      <td>1</td>\n",
       "      <td>1</td>\n",
       "      <td>at_home</td>\n",
       "      <td>other</td>\n",
       "      <td>...</td>\n",
       "      <td>4</td>\n",
       "      <td>3</td>\n",
       "      <td>\"2\"</td>\n",
       "      <td>2</td>\n",
       "      <td>3</td>\n",
       "      <td>\"3\"</td>\n",
       "      <td>10</td>\n",
       "      <td>zero</td>\n",
       "      <td>8</td>\n",
       "      <td>10</td>\n",
       "    </tr>\n",
       "    <tr>\n",
       "      <th>3</th>\n",
       "      <td>GP</td>\n",
       "      <td>F</td>\n",
       "      <td>\"15\"</td>\n",
       "      <td>U</td>\n",
       "      <td>GT3</td>\n",
       "      <td>T</td>\n",
       "      <td>4</td>\n",
       "      <td>2</td>\n",
       "      <td>health</td>\n",
       "      <td>services</td>\n",
       "      <td>...</td>\n",
       "      <td>3</td>\n",
       "      <td>2</td>\n",
       "      <td>\"2\"</td>\n",
       "      <td>1</td>\n",
       "      <td>1</td>\n",
       "      <td>\"5\"</td>\n",
       "      <td>2</td>\n",
       "      <td>15</td>\n",
       "      <td>14</td>\n",
       "      <td>15</td>\n",
       "    </tr>\n",
       "    <tr>\n",
       "      <th>4</th>\n",
       "      <td>GP</td>\n",
       "      <td>F</td>\n",
       "      <td>sem validade</td>\n",
       "      <td>U</td>\n",
       "      <td>GT3</td>\n",
       "      <td>T</td>\n",
       "      <td>3</td>\n",
       "      <td>3</td>\n",
       "      <td>other</td>\n",
       "      <td>other</td>\n",
       "      <td>...</td>\n",
       "      <td>4</td>\n",
       "      <td>3</td>\n",
       "      <td>\"2\"</td>\n",
       "      <td>1</td>\n",
       "      <td>2</td>\n",
       "      <td>\"5\"</td>\n",
       "      <td>4</td>\n",
       "      <td>6</td>\n",
       "      <td>10</td>\n",
       "      <td>10</td>\n",
       "    </tr>\n",
       "  </tbody>\n",
       "</table>\n",
       "<p>5 rows × 33 columns</p>\n",
       "</div>"
      ],
      "text/plain": [
       "  school sex           age address famsize Pstatus Medu Fedu     Mjob  \\\n",
       "0     GP   F      nulidade       U     GT3       A    4    4  at_home   \n",
       "1     GP   F          \"17\"       U     GT3       T    1    1  at_home   \n",
       "2     GP   F          \"15\"       U     LE3       T    1    1  at_home   \n",
       "3     GP   F          \"15\"       U     GT3       T    4    2   health   \n",
       "4     GP   F  sem validade       U     GT3       T    3    3    other   \n",
       "\n",
       "       Fjob  ... famrel freetime goout Dalc Walc health absences    G1  G2  G3  \n",
       "0   teacher  ...      4        3   \"4\"    1    1    \"3\"        6     5   6   6  \n",
       "1     other  ...      5        3   \"3\"    1    1    \"3\"        4     5   5   6  \n",
       "2     other  ...      4        3   \"2\"    2    3    \"3\"       10  zero   8  10  \n",
       "3  services  ...      3        2   \"2\"    1    1    \"5\"        2    15  14  15  \n",
       "4     other  ...      4        3   \"2\"    1    2    \"5\"        4     6  10  10  \n",
       "\n",
       "[5 rows x 33 columns]"
      ]
     },
     "execution_count": 2,
     "metadata": {},
     "output_type": "execute_result"
    }
   ],
   "source": [
    "df = pd.read_csv('students.csv', sep='|', encoding='iso-8859-1').drop(columns = 'Unnamed: 0', axis = 1)\n",
    "df.head()"
   ]
  },
  {
   "cell_type": "markdown",
   "metadata": {},
   "source": [
    "* Corregir datos Perdidos nulidade, sem validade, zero"
   ]
  },
  {
   "cell_type": "code",
   "execution_count": 3,
   "metadata": {},
   "outputs": [
    {
     "data": {
      "text/html": [
       "<div>\n",
       "<style scoped>\n",
       "    .dataframe tbody tr th:only-of-type {\n",
       "        vertical-align: middle;\n",
       "    }\n",
       "\n",
       "    .dataframe tbody tr th {\n",
       "        vertical-align: top;\n",
       "    }\n",
       "\n",
       "    .dataframe thead th {\n",
       "        text-align: right;\n",
       "    }\n",
       "</style>\n",
       "<table border=\"1\" class=\"dataframe\">\n",
       "  <thead>\n",
       "    <tr style=\"text-align: right;\">\n",
       "      <th></th>\n",
       "      <th>school</th>\n",
       "      <th>sex</th>\n",
       "      <th>age</th>\n",
       "      <th>address</th>\n",
       "      <th>famsize</th>\n",
       "      <th>Pstatus</th>\n",
       "      <th>Medu</th>\n",
       "      <th>Fedu</th>\n",
       "      <th>Mjob</th>\n",
       "      <th>Fjob</th>\n",
       "      <th>...</th>\n",
       "      <th>famrel</th>\n",
       "      <th>freetime</th>\n",
       "      <th>goout</th>\n",
       "      <th>Dalc</th>\n",
       "      <th>Walc</th>\n",
       "      <th>health</th>\n",
       "      <th>absences</th>\n",
       "      <th>G1</th>\n",
       "      <th>G2</th>\n",
       "      <th>G3</th>\n",
       "    </tr>\n",
       "  </thead>\n",
       "  <tbody>\n",
       "    <tr>\n",
       "      <th>0</th>\n",
       "      <td>GP</td>\n",
       "      <td>F</td>\n",
       "      <td>NaN</td>\n",
       "      <td>U</td>\n",
       "      <td>GT3</td>\n",
       "      <td>A</td>\n",
       "      <td>4</td>\n",
       "      <td>4</td>\n",
       "      <td>at_home</td>\n",
       "      <td>teacher</td>\n",
       "      <td>...</td>\n",
       "      <td>4</td>\n",
       "      <td>3</td>\n",
       "      <td>\"4\"</td>\n",
       "      <td>1</td>\n",
       "      <td>1</td>\n",
       "      <td>\"3\"</td>\n",
       "      <td>6</td>\n",
       "      <td>5</td>\n",
       "      <td>6</td>\n",
       "      <td>6</td>\n",
       "    </tr>\n",
       "    <tr>\n",
       "      <th>1</th>\n",
       "      <td>GP</td>\n",
       "      <td>F</td>\n",
       "      <td>\"17\"</td>\n",
       "      <td>U</td>\n",
       "      <td>GT3</td>\n",
       "      <td>T</td>\n",
       "      <td>1</td>\n",
       "      <td>1</td>\n",
       "      <td>at_home</td>\n",
       "      <td>other</td>\n",
       "      <td>...</td>\n",
       "      <td>5</td>\n",
       "      <td>3</td>\n",
       "      <td>\"3\"</td>\n",
       "      <td>1</td>\n",
       "      <td>1</td>\n",
       "      <td>\"3\"</td>\n",
       "      <td>4</td>\n",
       "      <td>5</td>\n",
       "      <td>5</td>\n",
       "      <td>6</td>\n",
       "    </tr>\n",
       "    <tr>\n",
       "      <th>2</th>\n",
       "      <td>GP</td>\n",
       "      <td>F</td>\n",
       "      <td>\"15\"</td>\n",
       "      <td>U</td>\n",
       "      <td>LE3</td>\n",
       "      <td>T</td>\n",
       "      <td>1</td>\n",
       "      <td>1</td>\n",
       "      <td>at_home</td>\n",
       "      <td>other</td>\n",
       "      <td>...</td>\n",
       "      <td>4</td>\n",
       "      <td>3</td>\n",
       "      <td>\"2\"</td>\n",
       "      <td>2</td>\n",
       "      <td>3</td>\n",
       "      <td>\"3\"</td>\n",
       "      <td>10</td>\n",
       "      <td>NaN</td>\n",
       "      <td>8</td>\n",
       "      <td>10</td>\n",
       "    </tr>\n",
       "    <tr>\n",
       "      <th>3</th>\n",
       "      <td>GP</td>\n",
       "      <td>F</td>\n",
       "      <td>\"15\"</td>\n",
       "      <td>U</td>\n",
       "      <td>GT3</td>\n",
       "      <td>T</td>\n",
       "      <td>4</td>\n",
       "      <td>2</td>\n",
       "      <td>health</td>\n",
       "      <td>services</td>\n",
       "      <td>...</td>\n",
       "      <td>3</td>\n",
       "      <td>2</td>\n",
       "      <td>\"2\"</td>\n",
       "      <td>1</td>\n",
       "      <td>1</td>\n",
       "      <td>\"5\"</td>\n",
       "      <td>2</td>\n",
       "      <td>15</td>\n",
       "      <td>14</td>\n",
       "      <td>15</td>\n",
       "    </tr>\n",
       "    <tr>\n",
       "      <th>4</th>\n",
       "      <td>GP</td>\n",
       "      <td>F</td>\n",
       "      <td>NaN</td>\n",
       "      <td>U</td>\n",
       "      <td>GT3</td>\n",
       "      <td>T</td>\n",
       "      <td>3</td>\n",
       "      <td>3</td>\n",
       "      <td>other</td>\n",
       "      <td>other</td>\n",
       "      <td>...</td>\n",
       "      <td>4</td>\n",
       "      <td>3</td>\n",
       "      <td>\"2\"</td>\n",
       "      <td>1</td>\n",
       "      <td>2</td>\n",
       "      <td>\"5\"</td>\n",
       "      <td>4</td>\n",
       "      <td>6</td>\n",
       "      <td>10</td>\n",
       "      <td>10</td>\n",
       "    </tr>\n",
       "  </tbody>\n",
       "</table>\n",
       "<p>5 rows × 33 columns</p>\n",
       "</div>"
      ],
      "text/plain": [
       "  school sex   age address famsize Pstatus Medu Fedu     Mjob      Fjob  ...  \\\n",
       "0     GP   F   NaN       U     GT3       A    4    4  at_home   teacher  ...   \n",
       "1     GP   F  \"17\"       U     GT3       T    1    1  at_home     other  ...   \n",
       "2     GP   F  \"15\"       U     LE3       T    1    1  at_home     other  ...   \n",
       "3     GP   F  \"15\"       U     GT3       T    4    2   health  services  ...   \n",
       "4     GP   F   NaN       U     GT3       T    3    3    other     other  ...   \n",
       "\n",
       "  famrel freetime goout Dalc Walc health absences   G1  G2  G3  \n",
       "0      4        3   \"4\"    1    1    \"3\"        6    5   6   6  \n",
       "1      5        3   \"3\"    1    1    \"3\"        4    5   5   6  \n",
       "2      4        3   \"2\"    2    3    \"3\"       10  NaN   8  10  \n",
       "3      3        2   \"2\"    1    1    \"5\"        2   15  14  15  \n",
       "4      4        3   \"2\"    1    2    \"5\"        4    6  10  10  \n",
       "\n",
       "[5 rows x 33 columns]"
      ]
     },
     "execution_count": 3,
     "metadata": {},
     "output_type": "execute_result"
    }
   ],
   "source": [
    "df = df.replace('nulidade', np.nan)\n",
    "df = df.replace('sem validade', np.nan)\n",
    "df = df.replace('zero',np.nan)\n",
    "df.head()"
   ]
  },
  {
   "cell_type": "markdown",
   "metadata": {},
   "source": [
    "* Corregir variables (age, goout, health) numéricas que se registraron como strings"
   ]
  },
  {
   "cell_type": "code",
   "execution_count": 4,
   "metadata": {},
   "outputs": [],
   "source": [
    "df['age'] = df['age'].astype(str).str.replace(\"\\\"\", \"\")\n",
    "df['age'] = df['age'].astype('float32')\n",
    "\n",
    "df['goout'] = df['goout'].astype(str).str.replace(\"\\\"\", \"\")\n",
    "df['goout'] = df['goout'].astype('float32')\n",
    "\n",
    "df['health'] = df['health'].astype(str).str.replace(\"\\\"\", \"\")\n",
    "df['health'] = df['health'].astype('float32')"
   ]
  },
  {
   "cell_type": "code",
   "execution_count": 5,
   "metadata": {},
   "outputs": [
    {
     "data": {
      "text/html": [
       "<div>\n",
       "<style scoped>\n",
       "    .dataframe tbody tr th:only-of-type {\n",
       "        vertical-align: middle;\n",
       "    }\n",
       "\n",
       "    .dataframe tbody tr th {\n",
       "        vertical-align: top;\n",
       "    }\n",
       "\n",
       "    .dataframe thead th {\n",
       "        text-align: right;\n",
       "    }\n",
       "</style>\n",
       "<table border=\"1\" class=\"dataframe\">\n",
       "  <thead>\n",
       "    <tr style=\"text-align: right;\">\n",
       "      <th></th>\n",
       "      <th>school</th>\n",
       "      <th>sex</th>\n",
       "      <th>age</th>\n",
       "      <th>address</th>\n",
       "      <th>famsize</th>\n",
       "      <th>Pstatus</th>\n",
       "      <th>Medu</th>\n",
       "      <th>Fedu</th>\n",
       "      <th>Mjob</th>\n",
       "      <th>Fjob</th>\n",
       "      <th>...</th>\n",
       "      <th>famrel</th>\n",
       "      <th>freetime</th>\n",
       "      <th>goout</th>\n",
       "      <th>Dalc</th>\n",
       "      <th>Walc</th>\n",
       "      <th>health</th>\n",
       "      <th>absences</th>\n",
       "      <th>G1</th>\n",
       "      <th>G2</th>\n",
       "      <th>G3</th>\n",
       "    </tr>\n",
       "  </thead>\n",
       "  <tbody>\n",
       "    <tr>\n",
       "      <th>0</th>\n",
       "      <td>GP</td>\n",
       "      <td>F</td>\n",
       "      <td>NaN</td>\n",
       "      <td>U</td>\n",
       "      <td>GT3</td>\n",
       "      <td>A</td>\n",
       "      <td>4</td>\n",
       "      <td>4</td>\n",
       "      <td>at_home</td>\n",
       "      <td>teacher</td>\n",
       "      <td>...</td>\n",
       "      <td>4</td>\n",
       "      <td>3</td>\n",
       "      <td>4.0</td>\n",
       "      <td>1</td>\n",
       "      <td>1</td>\n",
       "      <td>3.0</td>\n",
       "      <td>6</td>\n",
       "      <td>5</td>\n",
       "      <td>6</td>\n",
       "      <td>6</td>\n",
       "    </tr>\n",
       "    <tr>\n",
       "      <th>1</th>\n",
       "      <td>GP</td>\n",
       "      <td>F</td>\n",
       "      <td>17.0</td>\n",
       "      <td>U</td>\n",
       "      <td>GT3</td>\n",
       "      <td>T</td>\n",
       "      <td>1</td>\n",
       "      <td>1</td>\n",
       "      <td>at_home</td>\n",
       "      <td>other</td>\n",
       "      <td>...</td>\n",
       "      <td>5</td>\n",
       "      <td>3</td>\n",
       "      <td>3.0</td>\n",
       "      <td>1</td>\n",
       "      <td>1</td>\n",
       "      <td>3.0</td>\n",
       "      <td>4</td>\n",
       "      <td>5</td>\n",
       "      <td>5</td>\n",
       "      <td>6</td>\n",
       "    </tr>\n",
       "    <tr>\n",
       "      <th>2</th>\n",
       "      <td>GP</td>\n",
       "      <td>F</td>\n",
       "      <td>15.0</td>\n",
       "      <td>U</td>\n",
       "      <td>LE3</td>\n",
       "      <td>T</td>\n",
       "      <td>1</td>\n",
       "      <td>1</td>\n",
       "      <td>at_home</td>\n",
       "      <td>other</td>\n",
       "      <td>...</td>\n",
       "      <td>4</td>\n",
       "      <td>3</td>\n",
       "      <td>2.0</td>\n",
       "      <td>2</td>\n",
       "      <td>3</td>\n",
       "      <td>3.0</td>\n",
       "      <td>10</td>\n",
       "      <td>NaN</td>\n",
       "      <td>8</td>\n",
       "      <td>10</td>\n",
       "    </tr>\n",
       "    <tr>\n",
       "      <th>3</th>\n",
       "      <td>GP</td>\n",
       "      <td>F</td>\n",
       "      <td>15.0</td>\n",
       "      <td>U</td>\n",
       "      <td>GT3</td>\n",
       "      <td>T</td>\n",
       "      <td>4</td>\n",
       "      <td>2</td>\n",
       "      <td>health</td>\n",
       "      <td>services</td>\n",
       "      <td>...</td>\n",
       "      <td>3</td>\n",
       "      <td>2</td>\n",
       "      <td>2.0</td>\n",
       "      <td>1</td>\n",
       "      <td>1</td>\n",
       "      <td>5.0</td>\n",
       "      <td>2</td>\n",
       "      <td>15</td>\n",
       "      <td>14</td>\n",
       "      <td>15</td>\n",
       "    </tr>\n",
       "    <tr>\n",
       "      <th>4</th>\n",
       "      <td>GP</td>\n",
       "      <td>F</td>\n",
       "      <td>NaN</td>\n",
       "      <td>U</td>\n",
       "      <td>GT3</td>\n",
       "      <td>T</td>\n",
       "      <td>3</td>\n",
       "      <td>3</td>\n",
       "      <td>other</td>\n",
       "      <td>other</td>\n",
       "      <td>...</td>\n",
       "      <td>4</td>\n",
       "      <td>3</td>\n",
       "      <td>2.0</td>\n",
       "      <td>1</td>\n",
       "      <td>2</td>\n",
       "      <td>5.0</td>\n",
       "      <td>4</td>\n",
       "      <td>6</td>\n",
       "      <td>10</td>\n",
       "      <td>10</td>\n",
       "    </tr>\n",
       "  </tbody>\n",
       "</table>\n",
       "<p>5 rows × 33 columns</p>\n",
       "</div>"
      ],
      "text/plain": [
       "  school sex   age address famsize Pstatus Medu Fedu     Mjob      Fjob  ...  \\\n",
       "0     GP   F   NaN       U     GT3       A    4    4  at_home   teacher  ...   \n",
       "1     GP   F  17.0       U     GT3       T    1    1  at_home     other  ...   \n",
       "2     GP   F  15.0       U     LE3       T    1    1  at_home     other  ...   \n",
       "3     GP   F  15.0       U     GT3       T    4    2   health  services  ...   \n",
       "4     GP   F   NaN       U     GT3       T    3    3    other     other  ...   \n",
       "\n",
       "  famrel freetime goout Dalc Walc health absences   G1  G2  G3  \n",
       "0      4        3   4.0    1    1    3.0        6    5   6   6  \n",
       "1      5        3   3.0    1    1    3.0        4    5   5   6  \n",
       "2      4        3   2.0    2    3    3.0       10  NaN   8  10  \n",
       "3      3        2   2.0    1    1    5.0        2   15  14  15  \n",
       "4      4        3   2.0    1    2    5.0        4    6  10  10  \n",
       "\n",
       "[5 rows x 33 columns]"
      ]
     },
     "execution_count": 5,
     "metadata": {},
     "output_type": "execute_result"
    }
   ],
   "source": [
    "df.head()"
   ]
  },
  {
   "cell_type": "code",
   "execution_count": 6,
   "metadata": {},
   "outputs": [
    {
     "name": "stdout",
     "output_type": "stream",
     "text": [
      "<class 'pandas.core.frame.DataFrame'>\n",
      "RangeIndex: 395 entries, 0 to 394\n",
      "Data columns (total 33 columns):\n",
      "school        390 non-null object\n",
      "sex           392 non-null object\n",
      "age           391 non-null float32\n",
      "address       393 non-null object\n",
      "famsize       391 non-null object\n",
      "Pstatus       389 non-null object\n",
      "Medu          392 non-null object\n",
      "Fedu          390 non-null object\n",
      "Mjob          389 non-null object\n",
      "Fjob          395 non-null object\n",
      "reason        391 non-null object\n",
      "guardian      391 non-null object\n",
      "traveltime    392 non-null object\n",
      "studytime     390 non-null object\n",
      "failures      390 non-null object\n",
      "schoolsup     387 non-null object\n",
      "famsup        390 non-null object\n",
      "paid          394 non-null object\n",
      "activities    390 non-null object\n",
      "nursery       389 non-null object\n",
      "higher        389 non-null object\n",
      "internet      392 non-null object\n",
      "romantic      393 non-null object\n",
      "famrel        390 non-null object\n",
      "freetime      393 non-null object\n",
      "goout         390 non-null float32\n",
      "Dalc          392 non-null object\n",
      "Walc          390 non-null object\n",
      "health        391 non-null float32\n",
      "absences      391 non-null object\n",
      "G1            391 non-null object\n",
      "G2            395 non-null int64\n",
      "G3            392 non-null object\n",
      "dtypes: float32(3), int64(1), object(29)\n",
      "memory usage: 97.3+ KB\n"
     ]
    }
   ],
   "source": [
    "df.info()"
   ]
  },
  {
   "cell_type": "markdown",
   "metadata": {},
   "source": [
    "## Inspección de datos perdidos en las variables"
   ]
  },
  {
   "cell_type": "code",
   "execution_count": 7,
   "metadata": {},
   "outputs": [
    {
     "data": {
      "text/plain": [
       "<matplotlib.axes._subplots.AxesSubplot at 0x7f9e5738d630>"
      ]
     },
     "execution_count": 7,
     "metadata": {},
     "output_type": "execute_result"
    },
    {
     "data": {
      "image/png": "[encoded data removed]",
      "text/plain": [
       "<Figure size 1800x720 with 2 Axes>"
      ]
     },
     "metadata": {
      "needs_background": "light"
     },
     "output_type": "display_data"
    }
   ],
   "source": [
    "missingno.matrix(df)"
   ]
  },
  {
   "cell_type": "code",
   "execution_count": 8,
   "metadata": {},
   "outputs": [
    {
     "data": {
      "text/plain": [
       "school        5\n",
       "sex           3\n",
       "age           4\n",
       "address       2\n",
       "famsize       4\n",
       "Pstatus       6\n",
       "Medu          3\n",
       "Fedu          5\n",
       "Mjob          6\n",
       "Fjob          0\n",
       "reason        4\n",
       "guardian      4\n",
       "traveltime    3\n",
       "studytime     5\n",
       "failures      5\n",
       "schoolsup     8\n",
       "famsup        5\n",
       "paid          1\n",
       "activities    5\n",
       "nursery       6\n",
       "higher        6\n",
       "internet      3\n",
       "romantic      2\n",
       "famrel        5\n",
       "freetime      2\n",
       "goout         5\n",
       "Dalc          3\n",
       "Walc          5\n",
       "health        4\n",
       "absences      4\n",
       "G1            4\n",
       "G2            0\n",
       "G3            3\n",
       "dtype: int64"
      ]
     },
     "execution_count": 8,
     "metadata": {},
     "output_type": "execute_result"
    }
   ],
   "source": [
    "df.isnull().sum()"
   ]
  },
  {
   "cell_type": "markdown",
   "metadata": {},
   "source": [
    "__Podemos ver que practicamente todas las columnas tienen datos perdidos, pero no superan los 8 registros__"
   ]
  },
  {
   "cell_type": "code",
   "execution_count": 9,
   "metadata": {},
   "outputs": [
    {
     "name": "stdout",
     "output_type": "stream",
     "text": [
      "DataFrame sin aplicar dropna\n",
      "Cantidad de registros:395, Cantidad de columnas: 33\n"
     ]
    }
   ],
   "source": [
    "print(\"DataFrame sin aplicar dropna\")\n",
    "print(\"Cantidad de registros:{}, Cantidad de columnas: {}\".format(df.shape[0], df.shape[1]))"
   ]
  },
  {
   "cell_type": "code",
   "execution_count": 10,
   "metadata": {},
   "outputs": [
    {
     "name": "stdout",
     "output_type": "stream",
     "text": [
      "DataFrame aplicando dropna\n",
      "Cantidad de registros:284, Cantidad de columnas: 33\n"
     ]
    }
   ],
   "source": [
    "df_dropped = df.dropna()\n",
    "print(\"DataFrame aplicando dropna\")\n",
    "print(\"Cantidad de registros:{}, Cantidad de columnas: {}\".format(df_dropped.shape[0], df_dropped.shape[1]))"
   ]
  },
  {
   "cell_type": "markdown",
   "metadata": {},
   "source": [
    "__Eliminamos 111 registros de nuestra muestra__"
   ]
  },
  {
   "cell_type": "markdown",
   "metadata": {},
   "source": [
    "## Proceso de preprocesamiento y recodificación de las variables"
   ]
  },
  {
   "cell_type": "markdown",
   "metadata": {},
   "source": [
    "* Para simplficar el análisis y su posterior inclusión en un modelo predictivo, se sugiere recodificar las variables binarias como 0 y 1. Se recomienda seguir en criterio de asignarle 1 a aquellas categorías minoritarias.\n",
    "\n",
    "* El procedimiento también debe aplicarse para aquelas variables nominales con más de 2 categorías siguiendo la misma lógica."
   ]
  },
  {
   "cell_type": "code",
   "execution_count": 34,
   "metadata": {},
   "outputs": [
    {
     "data": {
      "text/plain": [
       "0.0    0.87\n",
       "1.0    0.13\n",
       "Name: school, dtype: float64"
      ]
     },
     "execution_count": 34,
     "metadata": {},
     "output_type": "execute_result"
    }
   ],
   "source": [
    "round(df_dropped['school'].value_counts('%'), 2)"
   ]
  },
  {
   "cell_type": "code",
   "execution_count": 35,
   "metadata": {},
   "outputs": [
    {
     "data": {
      "text/plain": [
       "0.0    0.52\n",
       "1.0    0.48\n",
       "Name: sex, dtype: float64"
      ]
     },
     "execution_count": 35,
     "metadata": {},
     "output_type": "execute_result"
    }
   ],
   "source": [
    "round(df_dropped['sex'].value_counts('%'), 2)"
   ]
  },
  {
   "cell_type": "code",
   "execution_count": 30,
   "metadata": {},
   "outputs": [
    {
     "data": {
      "text/plain": [
       "16.0    0.26\n",
       "18.0    0.25\n",
       "15.0    0.21\n",
       "17.0    0.21\n",
       "19.0    0.05\n",
       "20.0    0.01\n",
       "21.0    0.00\n",
       "Name: age, dtype: float64"
      ]
     },
     "execution_count": 30,
     "metadata": {},
     "output_type": "execute_result"
    }
   ],
   "source": [
    "round(df_dropped['age'].value_counts('%'),2)"
   ]
  },
  {
   "cell_type": "code",
   "execution_count": 32,
   "metadata": {},
   "outputs": [
    {
     "data": {
      "text/plain": [
       "0.0    0.75\n",
       "1.0    0.25\n",
       "Name: address, dtype: float64"
      ]
     },
     "execution_count": 32,
     "metadata": {},
     "output_type": "execute_result"
    }
   ],
   "source": [
    "round(df_dropped['address'].value_counts('%'), 2)"
   ]
  },
  {
   "cell_type": "code",
   "execution_count": 33,
   "metadata": {},
   "outputs": [
    {
     "data": {
      "text/plain": [
       "0.0    0.74\n",
       "1.0    0.26\n",
       "Name: famsize, dtype: float64"
      ]
     },
     "execution_count": 33,
     "metadata": {},
     "output_type": "execute_result"
    }
   ],
   "source": [
    "round(df_dropped['famsize'].value_counts('%'), 2)"
   ]
  },
  {
   "cell_type": "code",
   "execution_count": 37,
   "metadata": {},
   "outputs": [
    {
     "data": {
      "text/plain": [
       "0.0    0.9\n",
       "1.0    0.1\n",
       "Name: Pstatus, dtype: float64"
      ]
     },
     "execution_count": 37,
     "metadata": {},
     "output_type": "execute_result"
    }
   ],
   "source": [
    "round(df_dropped['Pstatus'].value_counts('%'), 2)"
   ]
  },
  {
   "cell_type": "code",
   "execution_count": 38,
   "metadata": {},
   "outputs": [
    {
     "data": {
      "text/plain": [
       "4    0.35\n",
       "2    0.25\n",
       "3    0.25\n",
       "1    0.15\n",
       "0    0.00\n",
       "Name: Medu, dtype: float64"
      ]
     },
     "execution_count": 38,
     "metadata": {},
     "output_type": "execute_result"
    }
   ],
   "source": [
    "round(df_dropped['Medu'].value_counts('%'), 2)"
   ]
  },
  {
   "cell_type": "code",
   "execution_count": 39,
   "metadata": {},
   "outputs": [
    {
     "data": {
      "text/plain": [
       "2    0.27\n",
       "3    0.27\n",
       "4    0.24\n",
       "1    0.22\n",
       "0    0.00\n",
       "Name: Fedu, dtype: float64"
      ]
     },
     "execution_count": 39,
     "metadata": {},
     "output_type": "execute_result"
    }
   ],
   "source": [
    "round(df_dropped['Fedu'].value_counts('%'), 2)"
   ]
  },
  {
   "cell_type": "code",
   "execution_count": 52,
   "metadata": {},
   "outputs": [
    {
     "data": {
      "text/plain": [
       "0.0    0.87\n",
       "1.0    0.13\n",
       "Name: schoolsup, dtype: float64"
      ]
     },
     "execution_count": 52,
     "metadata": {},
     "output_type": "execute_result"
    }
   ],
   "source": [
    "round(df_dropped['schoolsup'].value_counts('%'), 2)"
   ]
  },
  {
   "cell_type": "code",
   "execution_count": 54,
   "metadata": {},
   "outputs": [
    {
     "data": {
      "text/plain": [
       "0.0    0.56\n",
       "1.0    0.44\n",
       "Name: paid, dtype: float64"
      ]
     },
     "execution_count": 54,
     "metadata": {},
     "output_type": "execute_result"
    }
   ],
   "source": [
    "round(df_dropped['paid'].value_counts('%'), 2)"
   ]
  },
  {
   "cell_type": "code",
   "execution_count": 55,
   "metadata": {},
   "outputs": [
    {
     "data": {
      "text/plain": [
       "1.0    0.52\n",
       "0.0    0.48\n",
       "Name: activities, dtype: float64"
      ]
     },
     "execution_count": 55,
     "metadata": {},
     "output_type": "execute_result"
    }
   ],
   "source": [
    "round(df_dropped['activities'].value_counts('%'), 2)"
   ]
  },
  {
   "cell_type": "code",
   "execution_count": 56,
   "metadata": {},
   "outputs": [
    {
     "data": {
      "text/plain": [
       "1.0    0.79\n",
       "0.0    0.21\n",
       "Name: nursery, dtype: float64"
      ]
     },
     "execution_count": 56,
     "metadata": {},
     "output_type": "execute_result"
    }
   ],
   "source": [
    "round(df_dropped['nursery'].value_counts('%'), 2)"
   ]
  },
  {
   "cell_type": "code",
   "execution_count": 57,
   "metadata": {},
   "outputs": [
    {
     "data": {
      "text/plain": [
       "1.0    0.95\n",
       "0.0    0.05\n",
       "Name: higher, dtype: float64"
      ]
     },
     "execution_count": 57,
     "metadata": {},
     "output_type": "execute_result"
    }
   ],
   "source": [
    "round(df_dropped['higher'].value_counts('%'), 2)"
   ]
  },
  {
   "cell_type": "code",
   "execution_count": 59,
   "metadata": {},
   "outputs": [
    {
     "data": {
      "text/plain": [
       "1.0    0.81\n",
       "0.0    0.19\n",
       "Name: internet, dtype: float64"
      ]
     },
     "execution_count": 59,
     "metadata": {},
     "output_type": "execute_result"
    }
   ],
   "source": [
    "round(df_dropped['internet'].value_counts('%'), 2)"
   ]
  },
  {
   "cell_type": "code",
   "execution_count": 61,
   "metadata": {},
   "outputs": [
    {
     "data": {
      "text/plain": [
       "0.0    0.67\n",
       "1.0    0.33\n",
       "Name: romantic, dtype: float64"
      ]
     },
     "execution_count": 61,
     "metadata": {},
     "output_type": "execute_result"
    }
   ],
   "source": [
    "round(df_dropped['romantic'].value_counts('%'), 2)"
   ]
  },
  {
   "cell_type": "code",
   "execution_count": 40,
   "metadata": {},
   "outputs": [
    {
     "data": {
      "text/plain": [
       "4.0    0.36\n",
       "3.0    0.24\n",
       "1.0    0.15\n",
       "2.0    0.15\n",
       "0.0    0.09\n",
       "Name: Mjob, dtype: float64"
      ]
     },
     "execution_count": 40,
     "metadata": {},
     "output_type": "execute_result"
    }
   ],
   "source": [
    "round(df_dropped['Mjob'].value_counts('%'), 2)"
   ]
  },
  {
   "cell_type": "code",
   "execution_count": 41,
   "metadata": {},
   "outputs": [
    {
     "data": {
      "text/plain": [
       "4.0    0.56\n",
       "3.0    0.28\n",
       "2.0    0.07\n",
       "0.0    0.05\n",
       "1.0    0.04\n",
       "Name: Fjob, dtype: float64"
      ]
     },
     "execution_count": 41,
     "metadata": {},
     "output_type": "execute_result"
    }
   ],
   "source": [
    "round(df_dropped['Fjob'].value_counts('%'), 2)"
   ]
  },
  {
   "cell_type": "code",
   "execution_count": 42,
   "metadata": {},
   "outputs": [
    {
     "data": {
      "text/plain": [
       "2.0    0.36\n",
       "1.0    0.27\n",
       "0.0    0.27\n",
       "3.0    0.10\n",
       "Name: reason, dtype: float64"
      ]
     },
     "execution_count": 42,
     "metadata": {},
     "output_type": "execute_result"
    }
   ],
   "source": [
    "round(df_dropped['reason'].value_counts('%'), 2)"
   ]
  },
  {
   "cell_type": "code",
   "execution_count": 43,
   "metadata": {},
   "outputs": [
    {
     "data": {
      "text/plain": [
       "1.0    0.70\n",
       "0.0    0.21\n",
       "2.0    0.08\n",
       "Name: guardian, dtype: float64"
      ]
     },
     "execution_count": 43,
     "metadata": {},
     "output_type": "execute_result"
    }
   ],
   "source": [
    "round(df_dropped['guardian'].value_counts('%'), 2)"
   ]
  },
  {
   "cell_type": "code",
   "execution_count": 46,
   "metadata": {},
   "outputs": [
    {
     "data": {
      "text/plain": [
       "1    0.62\n",
       "2    0.30\n",
       "3    0.06\n",
       "4    0.02\n",
       "Name: traveltime, dtype: float64"
      ]
     },
     "execution_count": 46,
     "metadata": {},
     "output_type": "execute_result"
    }
   ],
   "source": [
    "round(df_dropped['traveltime'].value_counts('%'), 2)"
   ]
  },
  {
   "cell_type": "code",
   "execution_count": 47,
   "metadata": {},
   "outputs": [
    {
     "data": {
      "text/plain": [
       "2    0.49\n",
       "1    0.26\n",
       "3    0.18\n",
       "4    0.07\n",
       "Name: studytime, dtype: float64"
      ]
     },
     "execution_count": 47,
     "metadata": {},
     "output_type": "execute_result"
    }
   ],
   "source": [
    "round(df_dropped['studytime'].value_counts('%'), 2)"
   ]
  },
  {
   "cell_type": "code",
   "execution_count": 50,
   "metadata": {},
   "outputs": [
    {
     "data": {
      "text/plain": [
       "0    0.79\n",
       "1    0.13\n",
       "2    0.05\n",
       "3    0.04\n",
       "Name: failures, dtype: float64"
      ]
     },
     "execution_count": 50,
     "metadata": {},
     "output_type": "execute_result"
    }
   ],
   "source": [
    "round(df_dropped['failures'].value_counts('%'), 2)"
   ]
  },
  {
   "cell_type": "code",
   "execution_count": 53,
   "metadata": {},
   "outputs": [
    {
     "data": {
      "text/plain": [
       "1.0    0.61\n",
       "0.0    0.39\n",
       "Name: famsup, dtype: float64"
      ]
     },
     "execution_count": 53,
     "metadata": {},
     "output_type": "execute_result"
    }
   ],
   "source": [
    "round(df_dropped['famsup'].value_counts('%'), 2)"
   ]
  },
  {
   "cell_type": "code",
   "execution_count": 62,
   "metadata": {},
   "outputs": [
    {
     "data": {
      "text/plain": [
       "4    0.51\n",
       "5    0.26\n",
       "3    0.17\n",
       "2    0.05\n",
       "1    0.02\n",
       "Name: famrel, dtype: float64"
      ]
     },
     "execution_count": 62,
     "metadata": {},
     "output_type": "execute_result"
    }
   ],
   "source": [
    "round(df_dropped['famrel'].value_counts('%'), 2)"
   ]
  },
  {
   "cell_type": "code",
   "execution_count": 27,
   "metadata": {},
   "outputs": [],
   "source": [
    "# Para las variables con valores yes / no\n",
    "d = {'yes': 1, 'no': 0}\n",
    "df_dropped['schoolsup'] = df_dropped['schoolsup'].map(d)\n",
    "df_dropped['famsup'] = df_dropped['famsup'].map(d)\n",
    "df_dropped['paid'] = df_dropped['paid'].map(d)\n",
    "df_dropped['activities'] = df_dropped['activities'].map(d)\n",
    "df_dropped['nursery'] = df_dropped['nursery'].map(d)\n",
    "df_dropped['higher'] = df_dropped['higher'].map(d)\n",
    "df_dropped['internet'] = df_dropped['internet'].map(d)\n",
    "df_dropped['romantic'] = df_dropped['romantic'].map(d)\n",
    "\n",
    "# Para las variables categoricas\n",
    "df_dropped['school'] = df_dropped['school'].map({'MS': 1, 'GP': 0})\n",
    "df_dropped['sex'] = df_dropped['sex'].map({'M': 1, 'F': 0})\n",
    "df_dropped['address'] = df_dropped['address'].map({'R': 1, 'U': 0})\n",
    "df_dropped['famsize'] = df_dropped['famsize'].map({'LE3': 1, 'GT3': 0})\n",
    "df_dropped['Pstatus'] = df_dropped['Pstatus'].map({'A': 1, 'T': 0})\n",
    "\n",
    "# Para las variables nominales\n",
    "df_dropped['Mjob'] = df_dropped['Mjob'].map({'health': 0, 'teacher': 1, 'at_home': 2, 'services': 3, 'other': 4})\n",
    "df_dropped['Fjob'] = df_dropped['Fjob'].map({'health': 0, 'at_home': 1, 'teacher': 2, 'services': 3, 'other': 4})\n",
    "df_dropped['reason'] = df_dropped['reason'].map({'reputation': 0, 'home': 1, 'course': 2, 'other': 3})\n",
    "df_dropped['guardian'] = df_dropped['guardian'].map({'father': 0, 'mother': 1, 'other': 2})\n",
    "\n",
    "# Cambiar el tipo de las variables\n",
    "df_dropped['schoolsup'] = df_dropped['schoolsup'].astype('float32')\n",
    "df_dropped['famsup'] = df_dropped['famsup'].astype('float32')\n",
    "df_dropped['paid'] = df_dropped['paid'].astype('float32')\n",
    "df_dropped['activities'] = df_dropped['activities'].astype('float32')\n",
    "df_dropped['nursery'] = df_dropped['nursery'].astype('float32')\n",
    "df_dropped['higher'] = df_dropped['higher'].astype('float32')\n",
    "df_dropped['internet'] = df_dropped['internet'].astype('float32')\n",
    "df_dropped['romantic'] = df_dropped['romantic'].astype('float32')\n",
    "df_dropped['school'] = df_dropped['school'].astype('float32')\n",
    "df_dropped['sex'] = df_dropped['sex'].astype('float32')\n",
    "df_dropped['address'] = df_dropped['address'].astype('float32')\n",
    "df_dropped['famsize'] = df_dropped['famsize'].astype('float32')\n",
    "df_dropped['Pstatus'] = df_dropped['Pstatus'].astype('float32')\n",
    "df_dropped['Mjob'] = df_dropped['Mjob'].astype('float32')\n",
    "df_dropped['Fjob'] = df_dropped['Fjob'].astype('float32')\n",
    "df_dropped['reason'] = df_dropped['reason'].astype('float32')\n",
    "df_dropped['guardian'] = df_dropped['guardian'].astype('float32')\n",
    "df_dropped['G1'] = df_dropped['G1'].astype('float32')\n",
    "df_dropped['G2'] = df_dropped['G2'].astype('float32')\n",
    "df_dropped['G3'] = df_dropped['G3'].astype('float32')"
   ]
  },
  {
   "cell_type": "markdown",
   "metadata": {},
   "source": [
    "## Inspección visual de las variables"
   ]
  },
  {
   "cell_type": "code",
   "execution_count": 28,
   "metadata": {},
   "outputs": [
    {
     "data": {
      "image/png": "[encoded data removed]",
      "text/plain": [
       "<Figure size 1080x1800 with 33 Axes>"
      ]
     },
     "metadata": {
      "needs_background": "light"
     },
     "output_type": "display_data"
    }
   ],
   "source": [
    "plt.rcParams['figure.figsize'] = (15, 25)\n",
    "funcion_auxiliar.explorar_variables(df_dropped)"
   ]
  },
  {
   "cell_type": "markdown",
   "metadata": {},
   "source": [
    "## Visualizar Estadísticas descriptivas"
   ]
  },
  {
   "cell_type": "code",
   "execution_count": 45,
   "metadata": {},
   "outputs": [
    {
     "data": {
      "text/html": [
       "<div>\n",
       "<style scoped>\n",
       "    .dataframe tbody tr th:only-of-type {\n",
       "        vertical-align: middle;\n",
       "    }\n",
       "\n",
       "    .dataframe tbody tr th {\n",
       "        vertical-align: top;\n",
       "    }\n",
       "\n",
       "    .dataframe thead th {\n",
       "        text-align: right;\n",
       "    }\n",
       "</style>\n",
       "<table border=\"1\" class=\"dataframe\">\n",
       "  <thead>\n",
       "    <tr style=\"text-align: right;\">\n",
       "      <th></th>\n",
       "      <th>school</th>\n",
       "      <th>sex</th>\n",
       "      <th>age</th>\n",
       "      <th>address</th>\n",
       "      <th>famsize</th>\n",
       "      <th>Pstatus</th>\n",
       "      <th>Mjob</th>\n",
       "      <th>Fjob</th>\n",
       "      <th>reason</th>\n",
       "      <th>guardian</th>\n",
       "      <th>...</th>\n",
       "      <th>activities</th>\n",
       "      <th>nursery</th>\n",
       "      <th>higher</th>\n",
       "      <th>internet</th>\n",
       "      <th>romantic</th>\n",
       "      <th>goout</th>\n",
       "      <th>health</th>\n",
       "      <th>G1</th>\n",
       "      <th>G2</th>\n",
       "      <th>G3</th>\n",
       "    </tr>\n",
       "  </thead>\n",
       "  <tbody>\n",
       "    <tr>\n",
       "      <th>count</th>\n",
       "      <td>284.000000</td>\n",
       "      <td>284.000000</td>\n",
       "      <td>284.000000</td>\n",
       "      <td>284.000000</td>\n",
       "      <td>284.000000</td>\n",
       "      <td>284.00000</td>\n",
       "      <td>284.000000</td>\n",
       "      <td>284.000000</td>\n",
       "      <td>284.000000</td>\n",
       "      <td>284.000000</td>\n",
       "      <td>...</td>\n",
       "      <td>284.000000</td>\n",
       "      <td>284.000000</td>\n",
       "      <td>284.000000</td>\n",
       "      <td>284.000000</td>\n",
       "      <td>284.000000</td>\n",
       "      <td>284.000000</td>\n",
       "      <td>284.000000</td>\n",
       "      <td>284.000000</td>\n",
       "      <td>284.000000</td>\n",
       "      <td>284.000000</td>\n",
       "    </tr>\n",
       "    <tr>\n",
       "      <th>mean</th>\n",
       "      <td>0.130282</td>\n",
       "      <td>0.482394</td>\n",
       "      <td>16.707747</td>\n",
       "      <td>0.246479</td>\n",
       "      <td>0.264085</td>\n",
       "      <td>0.09507</td>\n",
       "      <td>2.626760</td>\n",
       "      <td>3.271127</td>\n",
       "      <td>1.278169</td>\n",
       "      <td>0.873239</td>\n",
       "      <td>...</td>\n",
       "      <td>0.521127</td>\n",
       "      <td>0.785211</td>\n",
       "      <td>0.947183</td>\n",
       "      <td>0.813380</td>\n",
       "      <td>0.334507</td>\n",
       "      <td>3.084507</td>\n",
       "      <td>3.626760</td>\n",
       "      <td>10.933099</td>\n",
       "      <td>10.640845</td>\n",
       "      <td>10.394366</td>\n",
       "    </tr>\n",
       "    <tr>\n",
       "      <th>std</th>\n",
       "      <td>0.337207</td>\n",
       "      <td>0.500572</td>\n",
       "      <td>1.284239</td>\n",
       "      <td>0.431722</td>\n",
       "      <td>0.441623</td>\n",
       "      <td>0.29383</td>\n",
       "      <td>1.350875</td>\n",
       "      <td>1.063568</td>\n",
       "      <td>0.967720</td>\n",
       "      <td>0.529806</td>\n",
       "      <td>...</td>\n",
       "      <td>0.500436</td>\n",
       "      <td>0.411401</td>\n",
       "      <td>0.224062</td>\n",
       "      <td>0.390294</td>\n",
       "      <td>0.472651</td>\n",
       "      <td>1.076528</td>\n",
       "      <td>1.319112</td>\n",
       "      <td>3.289196</td>\n",
       "      <td>3.789221</td>\n",
       "      <td>4.565904</td>\n",
       "    </tr>\n",
       "    <tr>\n",
       "      <th>min</th>\n",
       "      <td>0.000000</td>\n",
       "      <td>0.000000</td>\n",
       "      <td>15.000000</td>\n",
       "      <td>0.000000</td>\n",
       "      <td>0.000000</td>\n",
       "      <td>0.00000</td>\n",
       "      <td>0.000000</td>\n",
       "      <td>0.000000</td>\n",
       "      <td>0.000000</td>\n",
       "      <td>0.000000</td>\n",
       "      <td>...</td>\n",
       "      <td>0.000000</td>\n",
       "      <td>0.000000</td>\n",
       "      <td>0.000000</td>\n",
       "      <td>0.000000</td>\n",
       "      <td>0.000000</td>\n",
       "      <td>1.000000</td>\n",
       "      <td>1.000000</td>\n",
       "      <td>4.000000</td>\n",
       "      <td>0.000000</td>\n",
       "      <td>0.000000</td>\n",
       "    </tr>\n",
       "    <tr>\n",
       "      <th>25%</th>\n",
       "      <td>0.000000</td>\n",
       "      <td>0.000000</td>\n",
       "      <td>16.000000</td>\n",
       "      <td>0.000000</td>\n",
       "      <td>0.000000</td>\n",
       "      <td>0.00000</td>\n",
       "      <td>2.000000</td>\n",
       "      <td>3.000000</td>\n",
       "      <td>0.000000</td>\n",
       "      <td>1.000000</td>\n",
       "      <td>...</td>\n",
       "      <td>0.000000</td>\n",
       "      <td>1.000000</td>\n",
       "      <td>1.000000</td>\n",
       "      <td>1.000000</td>\n",
       "      <td>0.000000</td>\n",
       "      <td>2.000000</td>\n",
       "      <td>3.000000</td>\n",
       "      <td>8.000000</td>\n",
       "      <td>9.000000</td>\n",
       "      <td>8.000000</td>\n",
       "    </tr>\n",
       "    <tr>\n",
       "      <th>50%</th>\n",
       "      <td>0.000000</td>\n",
       "      <td>0.000000</td>\n",
       "      <td>17.000000</td>\n",
       "      <td>0.000000</td>\n",
       "      <td>0.000000</td>\n",
       "      <td>0.00000</td>\n",
       "      <td>3.000000</td>\n",
       "      <td>4.000000</td>\n",
       "      <td>1.000000</td>\n",
       "      <td>1.000000</td>\n",
       "      <td>...</td>\n",
       "      <td>1.000000</td>\n",
       "      <td>1.000000</td>\n",
       "      <td>1.000000</td>\n",
       "      <td>1.000000</td>\n",
       "      <td>0.000000</td>\n",
       "      <td>3.000000</td>\n",
       "      <td>4.000000</td>\n",
       "      <td>11.000000</td>\n",
       "      <td>10.500000</td>\n",
       "      <td>11.000000</td>\n",
       "    </tr>\n",
       "    <tr>\n",
       "      <th>75%</th>\n",
       "      <td>0.000000</td>\n",
       "      <td>1.000000</td>\n",
       "      <td>18.000000</td>\n",
       "      <td>0.000000</td>\n",
       "      <td>1.000000</td>\n",
       "      <td>0.00000</td>\n",
       "      <td>4.000000</td>\n",
       "      <td>4.000000</td>\n",
       "      <td>2.000000</td>\n",
       "      <td>1.000000</td>\n",
       "      <td>...</td>\n",
       "      <td>1.000000</td>\n",
       "      <td>1.000000</td>\n",
       "      <td>1.000000</td>\n",
       "      <td>1.000000</td>\n",
       "      <td>1.000000</td>\n",
       "      <td>4.000000</td>\n",
       "      <td>5.000000</td>\n",
       "      <td>13.000000</td>\n",
       "      <td>13.000000</td>\n",
       "      <td>13.000000</td>\n",
       "    </tr>\n",
       "    <tr>\n",
       "      <th>max</th>\n",
       "      <td>1.000000</td>\n",
       "      <td>1.000000</td>\n",
       "      <td>21.000000</td>\n",
       "      <td>1.000000</td>\n",
       "      <td>1.000000</td>\n",
       "      <td>1.00000</td>\n",
       "      <td>4.000000</td>\n",
       "      <td>4.000000</td>\n",
       "      <td>3.000000</td>\n",
       "      <td>2.000000</td>\n",
       "      <td>...</td>\n",
       "      <td>1.000000</td>\n",
       "      <td>1.000000</td>\n",
       "      <td>1.000000</td>\n",
       "      <td>1.000000</td>\n",
       "      <td>1.000000</td>\n",
       "      <td>5.000000</td>\n",
       "      <td>5.000000</td>\n",
       "      <td>19.000000</td>\n",
       "      <td>19.000000</td>\n",
       "      <td>20.000000</td>\n",
       "    </tr>\n",
       "  </tbody>\n",
       "</table>\n",
       "<p>8 rows × 23 columns</p>\n",
       "</div>"
      ],
      "text/plain": [
       "           school         sex         age     address     famsize    Pstatus  \\\n",
       "count  284.000000  284.000000  284.000000  284.000000  284.000000  284.00000   \n",
       "mean     0.130282    0.482394   16.707747    0.246479    0.264085    0.09507   \n",
       "std      0.337207    0.500572    1.284239    0.431722    0.441623    0.29383   \n",
       "min      0.000000    0.000000   15.000000    0.000000    0.000000    0.00000   \n",
       "25%      0.000000    0.000000   16.000000    0.000000    0.000000    0.00000   \n",
       "50%      0.000000    0.000000   17.000000    0.000000    0.000000    0.00000   \n",
       "75%      0.000000    1.000000   18.000000    0.000000    1.000000    0.00000   \n",
       "max      1.000000    1.000000   21.000000    1.000000    1.000000    1.00000   \n",
       "\n",
       "             Mjob        Fjob      reason    guardian  ...  activities  \\\n",
       "count  284.000000  284.000000  284.000000  284.000000  ...  284.000000   \n",
       "mean     2.626760    3.271127    1.278169    0.873239  ...    0.521127   \n",
       "std      1.350875    1.063568    0.967720    0.529806  ...    0.500436   \n",
       "min      0.000000    0.000000    0.000000    0.000000  ...    0.000000   \n",
       "25%      2.000000    3.000000    0.000000    1.000000  ...    0.000000   \n",
       "50%      3.000000    4.000000    1.000000    1.000000  ...    1.000000   \n",
       "75%      4.000000    4.000000    2.000000    1.000000  ...    1.000000   \n",
       "max      4.000000    4.000000    3.000000    2.000000  ...    1.000000   \n",
       "\n",
       "          nursery      higher    internet    romantic       goout      health  \\\n",
       "count  284.000000  284.000000  284.000000  284.000000  284.000000  284.000000   \n",
       "mean     0.785211    0.947183    0.813380    0.334507    3.084507    3.626760   \n",
       "std      0.411401    0.224062    0.390294    0.472651    1.076528    1.319112   \n",
       "min      0.000000    0.000000    0.000000    0.000000    1.000000    1.000000   \n",
       "25%      1.000000    1.000000    1.000000    0.000000    2.000000    3.000000   \n",
       "50%      1.000000    1.000000    1.000000    0.000000    3.000000    4.000000   \n",
       "75%      1.000000    1.000000    1.000000    1.000000    4.000000    5.000000   \n",
       "max      1.000000    1.000000    1.000000    1.000000    5.000000    5.000000   \n",
       "\n",
       "               G1          G2          G3  \n",
       "count  284.000000  284.000000  284.000000  \n",
       "mean    10.933099   10.640845   10.394366  \n",
       "std      3.289196    3.789221    4.565904  \n",
       "min      4.000000    0.000000    0.000000  \n",
       "25%      8.000000    9.000000    8.000000  \n",
       "50%     11.000000   10.500000   11.000000  \n",
       "75%     13.000000   13.000000   13.000000  \n",
       "max     19.000000   19.000000   20.000000  \n",
       "\n",
       "[8 rows x 23 columns]"
      ]
     },
     "execution_count": 45,
     "metadata": {},
     "output_type": "execute_result"
    }
   ],
   "source": [
    "df_dropped.describe()"
   ]
  },
  {
   "cell_type": "markdown",
   "metadata": {},
   "source": [
    "__school:__ Escuela del estudiante.\n",
    "* La mayoría de los estudiantes pertenecen a la escuela Gabriel Pereira.\n",
    "\n",
    "__sex:__ Sexo del estudiante.\n",
    "* El 52% de los estudiantes son mujeres y un 48% son hombres.\n",
    "\n",
    "__age:__ Edad del estudiante.\n",
    "* Los estudiantes tienen en promedio 16 años, la edad mínima es 15 y la edad máxima es 21.\n",
    "\n",
    "__address:__ Ubicación de la casa del estudiante.\n",
    "* La mayoría de los estudiantes viven en sectores urbanos representan el 75% en comparación a los estudiantes que viven en sectores rurales\n",
    "\n",
    "__famsize:__ Tamaño de la familia.\n",
    "* El 75% de los estudiantes son de familias de máximo 3 personas, el 26% de los estudiantes son de familias mayores a 3 personas.\n",
    "\n",
    "__Pstatus:__ Estado cohabitacional de los padres.\n",
    "* La mayoría de los estudiantes viven con sus padres, solo el 10% de los estudiantes viven separados de sus padres.\n",
    "\n",
    "__Medu:__ Nivel educacional de la madre.\n",
    "* EL 35% de los estudiantes el nivel educacional de la madre es educación superior, el 25% de los estudiantes el nivel educacional de la madre es educación media y para el 15% de los estudiantes el nivel educacional de la madre es educación básica.\n",
    "\n",
    "__Fedu:__ Nivel educacional del padre.\n",
    "* El 27% de los estudiantes el nivel educacional del padre es educación media, el 24% de los estudiantes el nivel educacional del padre es educación superior y el 22% de los estudiantes el nivel educacional del padre es educación básica\n",
    "\n",
    "__Mjob:__ Ocupación de la madre.\n",
    "* EL 24% de los estudiantes su madre trabaja en administración pública o policía, el 15% de los estudiantes su madre es profesora.\n",
    "\n",
    "__Fjob:__ Ocupación del padre\n",
    "* EL 28% de los estudiantes su padre trabaja en administración pública o policía , el 7% de los estudiantes su padre es profesor y solo el 4 % de los estudiantes su padre trabaja en casa. \n",
    "\n",
    "__reason:__ Razón para escoger la escuela.\n",
    "* El 36% de los estudiantes la razón para escoger la escuela fue por preferencia de cursos, seguido por lo cercano a casa y su reputación con un 27%.\n",
    "\n",
    "__guardian:__ Apoderado del estudiante.\n",
    "* El 70% de los alumnos su apoderado es su madre, seguido por su padre con un 21%.\n",
    "\n",
    "__traveltime:__ Tiempo de viaje entre hogar y colegio.\n",
    "* El 62% de los estudiantes el tiempo de viaje entre su hogar y colegio es menos de 15 minutos, el 30% de los estudiantes el tiempo de viaje entre su hogar y colegio es entre 15 a 30 minutos, y el 8% de los estudiantes el tiempo de viaje entre su hogar y colegio es mas de 30 minutos.\n",
    "\n",
    "__studytime:__ Horas semanales dedicadas al estudio.\n",
    "* El 49% de los estudiantes dedican entre 2 a 5 horas de estudio en la semana, el 20% de los estudiantes dedica menos de 2 de horas de estudio en la semana, el 18% de los estudiantes dedica entre 15 a 10 horas de estudio en la semana y solo el 7% de los estudiantes dedica mas de 10 horas de estudios en la semana.\n",
    "\n",
    "__failures:__ Número de clases reprobadas.\n",
    "* La mayoría de los estudiantes no ha reprobado clases (79%)\n",
    "\n",
    "__schoolsup:__ Apoyo educacional del colegio.\n",
    "* La mayoría de los estudiantes tiene apoyo educacional del colegio (87%)\n",
    "\n",
    "__famsup:__ Apoyo educacional familiar.\n",
    "* El 61% de los estudiantes tienen apoyo educacional familiar en comparación con el 39% de los estudiantes que no tienen apoyo educacional familiar.\n",
    "\n",
    "__paid:__ Clases particulares pagadas (matemáticas o portugués)\n",
    "* El 56% de los estudiantes tienen clases particulares pagadas, en comparación del 44% de los estudiantes que no tienen clases particulares pagadas.\n",
    "\n",
    "__activities:__ Actividades extracurriculares.\n",
    "* El 52% de los estudiantes tienen actividades extracurriculares, el 48% de los estudiantes no tienen actividades extracurriculares.\n",
    "\n",
    "__nursery:__ Asistió a guardería infantil.\n",
    "* La mayoría de los estudiantes asistió a guardería infantil (79%)\n",
    "\n",
    "__higher:__ Desea proseguir estudios superiores.\n",
    "* La mayoría de los estudiantes desean seguir proseguir estudios superiores (95%)\n",
    "\n",
    "__internet__: Acceso a Internet desde el hogar.\n",
    "* La mayoría de los estudiantes tiene acceso a Internet en el hogar (81%).\n",
    "\n",
    "__romantic__: Relación romántica.\n",
    "* El 67% de los estudiantes tiene una relación romántica, el 33% de los estudiantes no tienen una relación romántica\n",
    "\n",
    "__famrel__: Calidad de las relaciones familiares.\n",
    "* El 77% de los estudiantes tiene una buena/excelente relación familiar."
   ]
  },
  {
   "cell_type": "markdown",
   "metadata": {},
   "source": [
    "## Inspección visual del vector objetivo"
   ]
  },
  {
   "cell_type": "code",
   "execution_count": null,
   "metadata": {},
   "outputs": [],
   "source": []
  },
  {
   "cell_type": "markdown",
   "metadata": {},
   "source": [
    "##  Inspección visual variables categóricas -> vector objetivo"
   ]
  },
  {
   "cell_type": "code",
   "execution_count": null,
   "metadata": {},
   "outputs": [],
   "source": []
  },
  {
   "cell_type": "markdown",
   "metadata": {},
   "source": [
    "## Inspección visual variables numéricas -> vector objetivo"
   ]
  },
  {
   "cell_type": "code",
   "execution_count": null,
   "metadata": {},
   "outputs": [],
   "source": []
  }
 ],
 "metadata": {
  "kernelspec": {
   "display_name": "Python 3",
   "language": "python",
   "name": "python3"
  },
  "language_info": {
   "codemirror_mode": {
    "name": "ipython",
    "version": 3
   },
   "file_extension": ".py",
   "mimetype": "text/x-python",
   "name": "python",
   "nbconvert_exporter": "python",
   "pygments_lexer": "ipython3",
   "version": "3.7.3"
  }
 },
 "nbformat": 4,
 "nbformat_minor": 2
}
