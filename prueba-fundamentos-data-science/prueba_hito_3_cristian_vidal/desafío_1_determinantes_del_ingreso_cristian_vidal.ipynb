{
 "cells": [
  {
   "cell_type": "markdown",
   "metadata": {},
   "source": [
    "# Prueba - Fundamentos Data Science | Desafío 1: Determinantes del ingreso\n",
    "### Cristian Vidal Muñoz"
   ]
  },
  {
   "cell_type": "markdown",
   "metadata": {},
   "source": [
    "# Prueba - Hito 1"
   ]
  },
  {
   "cell_type": "markdown",
   "metadata": {},
   "source": [
    "### Objetivo\n",
    "Completar el punto de __Preliminares__, así como __Aspectos computacionales__."
   ]
  },
  {
   "cell_type": "markdown",
   "metadata": {},
   "source": [
    "__Elementos a considerar__\n",
    "* Los dos enunciados deben estar clarificados, considerando el tipo de problema a resolver (regresión o clasificación). Para cada uno de los enunciados y su problema identificado, se debe justificar el uso de métricas para medir el desempeño del problema. __(3 puntos)__\n",
    "* Se debe considerar el uso de las librerías asociadas para la ingesta, preprocesamiento, visualización y modelación, así como métricas de evaluación. __(1 punto)__\n",
    "* Se debe detallar y considerar el proceso de preprocesamiento y recodificación de datos. __(1punto)__"
   ]
  },
  {
   "cell_type": "markdown",
   "metadata": {},
   "source": [
    "__INTRODUCCION PROBLEMA:__\n",
    "\n",
    "Con el objetivo de conocer las dinámicas socioeconómicas que determinan la desigualdad de ingreso y la erradicación de la pobreza extrema, enmarcado dentro de los objetivos del desarrollo del nuevo milenio del Programa de las Naciones Unidas para el Desarrollo, debemos desarrollar un modelo predictivo sobre la posibilidad de que un individuo presente salarios por sobre o bajo los 50.000 dólares anuales, en base\n",
    "a una serie de atributos sociodemográficos.\n",
    "\n",
    "__TIPO DE PROYECTO:__\n",
    "\n",
    "Este caso vamos a implementar un predictor de __clasificación binario__. El resultado o variable objetivo es de naturaleza __dicotómica__, donde tenemos que predecir si la salida pertenece a la __clase 1__ (sobre los 50.000 dolares anuales) o __clase 2__ (bajo los 50.000 dolares anuales). Utilizaremos algoritmos de __machine learning de clasificación__ con probabilidades como __LogisticRegression__, aplicaremos la __función logística__ o también llamada __sigmoide__ para obtener la probabilidad, si la salida de la __función sigmoide__ es mayor que 0.5, podemos clasificar el resultado como 1 o sobre50 (sobre los 50.000 dólares anuales) , y si es menor que 0.5 podemos clasificarlo como 0 o bajo50 (bajo los 50.000 dólares anuales). Por su parte si el resultado por ejemplo es .80, podemos decir en términos de probabilidad como, hay un 80% de probabilidades de que el individuo tenga un salario sobre los 50.000 dólares anuales y un 20% de probabilidades de tener un salario bajo los 50.000 dólares anuales.\n",
    "\n",
    "__METRICAS:__\n",
    "\n",
    "Algunas de las métricas que utilizaremos para evaluar el __desempeño__ y __precisión__ de nuestro modelo serán:\n",
    "la __Matriz de Confusión__, analizaremos los resultados predichos por nuestro modelo con los datos __\"reales\"__ (Verdaderos Positivos, Verdaderos Negativos, Falsos Positivos, Falsos Negativos). Las medidas de desempeño a medir serán las siguientes: __Exactitud, Precisión, Sensibilidad o Recall y Puntaje de F1__. Tambien es importante saber \"que tan bueno\" puede distinguir el modelo entre dos cosas, para esto utilizaremos __La curva AUC-ROC__.\n",
    "\n",
    "__LIBRERIAS Y MODULOS:__\n",
    "\n",
    "Desarrollaremos este caso utilizando la __Suite__ de __Anaconda python__. Para la manipulación, operaciones y preparación de los datos usaremos __Pandas__ y __NumPy__.  Para la visualización de los datos utilizaremos __missingno (matrix)__, __matplotlib (plt)__ y __Seaborn (sns)__. Nuestro análisis estadístico y econométrico lo haremos con __Statsmodels (smf.logit)__. Para los algoritmos de Machine Learning, validaciones y metricas de desempeño utilizaremos __Scikit-learn (LogisticRegression, train_test_split, classification_report, auc, roc_auc_score, roc_curve)__.\n",
    "\n",
    "__ASPECTOS COMPUTACIONALES__\n",
    "* python: 3.7.3\n",
    "* python-bits: 64\n",
    "* jupyter notebook 5.7.8\n",
    "* conda 4.8.3\n",
    "* pandas: 0.24.2\n",
    "* pip: 19.0.3\n",
    "* numpy: 1.16.2\n",
    "* scipy: 1.2.1\n",
    "* matplotlib: 3.0.3\n",
    "* seaborn 0.9.0\n",
    "* statsmodels 0.9.0\n",
    "* sklearn 0.20.3"
   ]
  },
  {
   "cell_type": "markdown",
   "metadata": {},
   "source": [
    "# Prueba - Hito 2"
   ]
  },
  {
   "cell_type": "markdown",
   "metadata": {},
   "source": [
    "### Objetivo\n",
    "\n",
    "Completar el punto de __Descripción__.\n",
    "\n",
    "sección llamada __Descripción__ donde se generará un análisis descriptivo considerando el\n",
    "tipo de variables (desde el punto de vista estadístico así como computacional). Esta sección\n",
    "debe considerar medidas univariadas/ frecuencias, datos perdidos y gráficos distributivos sobre\n",
    "las variables a analizar. A partir de ésta se debe clarificar la estrategia de preprocesamiento\n",
    "(datos perdidos, recodificaciones)."
   ]
  },
  {
   "cell_type": "markdown",
   "metadata": {},
   "source": [
    "### Elementos a considerar\n",
    "* La inspección visual del vector objetivo. (2 puntos)\n",
    "* La inspección visual de las variables. (2 puntos)\n",
    "* La inspección de datos perdidos en las variables. (1 punto)\n",
    "\n",
    "De ser necesario, se puede iterar en el proceso de preprocesamiento y recodificación de las variables"
   ]
  },
  {
   "cell_type": "code",
   "execution_count": 1,
   "metadata": {},
   "outputs": [],
   "source": [
    "#Importar librerias\n",
    "import pandas as pd\n",
    "import numpy as np\n",
    "import seaborn as sns\n",
    "import matplotlib.pyplot as plt\n",
    "import missingno\n",
    "import sklearn\n",
    "\n",
    "#Importamos funciones auxiliares\n",
    "import helpers as funcion_auxiliar\n",
    "\n",
    "#Configuración de graficos\n",
    "plt.style.use('ggplot')\n",
    "\n",
    "#Ignorar Avisos\n",
    "import warnings\n",
    "warnings.filterwarnings(\"ignore\")"
   ]
  },
  {
   "cell_type": "markdown",
   "metadata": {},
   "source": [
    "## Aspectos adicionales a considerar\n",
    "\n",
    "* La base de datos contiene los valores perdidos como ? . Deberá transformarlos para poder trabajar de forma adecuada."
   ]
  },
  {
   "cell_type": "code",
   "execution_count": 2,
   "metadata": {},
   "outputs": [
    {
     "data": {
      "text/html": [
       "<div>\n",
       "<style scoped>\n",
       "    .dataframe tbody tr th:only-of-type {\n",
       "        vertical-align: middle;\n",
       "    }\n",
       "\n",
       "    .dataframe tbody tr th {\n",
       "        vertical-align: top;\n",
       "    }\n",
       "\n",
       "    .dataframe thead th {\n",
       "        text-align: right;\n",
       "    }\n",
       "</style>\n",
       "<table border=\"1\" class=\"dataframe\">\n",
       "  <thead>\n",
       "    <tr style=\"text-align: right;\">\n",
       "      <th></th>\n",
       "      <th>age</th>\n",
       "      <th>workclass</th>\n",
       "      <th>fnlwgt</th>\n",
       "      <th>education</th>\n",
       "      <th>educational-num</th>\n",
       "      <th>marital-status</th>\n",
       "      <th>occupation</th>\n",
       "      <th>relationship</th>\n",
       "      <th>race</th>\n",
       "      <th>gender</th>\n",
       "      <th>capital-gain</th>\n",
       "      <th>capital-loss</th>\n",
       "      <th>hours-per-week</th>\n",
       "      <th>native-country</th>\n",
       "      <th>income</th>\n",
       "    </tr>\n",
       "  </thead>\n",
       "  <tbody>\n",
       "    <tr>\n",
       "      <th>0</th>\n",
       "      <td>25</td>\n",
       "      <td>Private</td>\n",
       "      <td>226802</td>\n",
       "      <td>11th</td>\n",
       "      <td>7</td>\n",
       "      <td>Never-married</td>\n",
       "      <td>Machine-op-inspct</td>\n",
       "      <td>Own-child</td>\n",
       "      <td>Black</td>\n",
       "      <td>Male</td>\n",
       "      <td>0</td>\n",
       "      <td>0</td>\n",
       "      <td>40</td>\n",
       "      <td>United-States</td>\n",
       "      <td>&lt;=50K</td>\n",
       "    </tr>\n",
       "    <tr>\n",
       "      <th>1</th>\n",
       "      <td>38</td>\n",
       "      <td>Private</td>\n",
       "      <td>89814</td>\n",
       "      <td>HS-grad</td>\n",
       "      <td>9</td>\n",
       "      <td>Married-civ-spouse</td>\n",
       "      <td>Farming-fishing</td>\n",
       "      <td>Husband</td>\n",
       "      <td>White</td>\n",
       "      <td>Male</td>\n",
       "      <td>0</td>\n",
       "      <td>0</td>\n",
       "      <td>50</td>\n",
       "      <td>United-States</td>\n",
       "      <td>&lt;=50K</td>\n",
       "    </tr>\n",
       "    <tr>\n",
       "      <th>2</th>\n",
       "      <td>28</td>\n",
       "      <td>Local-gov</td>\n",
       "      <td>336951</td>\n",
       "      <td>Assoc-acdm</td>\n",
       "      <td>12</td>\n",
       "      <td>Married-civ-spouse</td>\n",
       "      <td>Protective-serv</td>\n",
       "      <td>Husband</td>\n",
       "      <td>White</td>\n",
       "      <td>Male</td>\n",
       "      <td>0</td>\n",
       "      <td>0</td>\n",
       "      <td>40</td>\n",
       "      <td>United-States</td>\n",
       "      <td>&gt;50K</td>\n",
       "    </tr>\n",
       "    <tr>\n",
       "      <th>3</th>\n",
       "      <td>44</td>\n",
       "      <td>Private</td>\n",
       "      <td>160323</td>\n",
       "      <td>Some-college</td>\n",
       "      <td>10</td>\n",
       "      <td>Married-civ-spouse</td>\n",
       "      <td>Machine-op-inspct</td>\n",
       "      <td>Husband</td>\n",
       "      <td>Black</td>\n",
       "      <td>Male</td>\n",
       "      <td>7688</td>\n",
       "      <td>0</td>\n",
       "      <td>40</td>\n",
       "      <td>United-States</td>\n",
       "      <td>&gt;50K</td>\n",
       "    </tr>\n",
       "    <tr>\n",
       "      <th>4</th>\n",
       "      <td>18</td>\n",
       "      <td>?</td>\n",
       "      <td>103497</td>\n",
       "      <td>Some-college</td>\n",
       "      <td>10</td>\n",
       "      <td>Never-married</td>\n",
       "      <td>?</td>\n",
       "      <td>Own-child</td>\n",
       "      <td>White</td>\n",
       "      <td>Female</td>\n",
       "      <td>0</td>\n",
       "      <td>0</td>\n",
       "      <td>30</td>\n",
       "      <td>United-States</td>\n",
       "      <td>&lt;=50K</td>\n",
       "    </tr>\n",
       "  </tbody>\n",
       "</table>\n",
       "</div>"
      ],
      "text/plain": [
       "   age  workclass  fnlwgt     education  educational-num      marital-status  \\\n",
       "0   25    Private  226802          11th                7       Never-married   \n",
       "1   38    Private   89814       HS-grad                9  Married-civ-spouse   \n",
       "2   28  Local-gov  336951    Assoc-acdm               12  Married-civ-spouse   \n",
       "3   44    Private  160323  Some-college               10  Married-civ-spouse   \n",
       "4   18          ?  103497  Some-college               10       Never-married   \n",
       "\n",
       "          occupation relationship   race  gender  capital-gain  capital-loss  \\\n",
       "0  Machine-op-inspct    Own-child  Black    Male             0             0   \n",
       "1    Farming-fishing      Husband  White    Male             0             0   \n",
       "2    Protective-serv      Husband  White    Male             0             0   \n",
       "3  Machine-op-inspct      Husband  Black    Male          7688             0   \n",
       "4                  ?    Own-child  White  Female             0             0   \n",
       "\n",
       "   hours-per-week native-country income  \n",
       "0              40  United-States  <=50K  \n",
       "1              50  United-States  <=50K  \n",
       "2              40  United-States   >50K  \n",
       "3              40  United-States   >50K  \n",
       "4              30  United-States  <=50K  "
      ]
     },
     "execution_count": 2,
     "metadata": {},
     "output_type": "execute_result"
    }
   ],
   "source": [
    "df = pd.read_csv('income-db.csv')\n",
    "df.head()"
   ]
  },
  {
   "cell_type": "code",
   "execution_count": 3,
   "metadata": {},
   "outputs": [
    {
     "name": "stdout",
     "output_type": "stream",
     "text": [
      "<class 'pandas.core.frame.DataFrame'>\n",
      "RangeIndex: 48842 entries, 0 to 48841\n",
      "Data columns (total 15 columns):\n",
      "age                48842 non-null int64\n",
      "workclass          48842 non-null object\n",
      "fnlwgt             48842 non-null int64\n",
      "education          48842 non-null object\n",
      "educational-num    48842 non-null int64\n",
      "marital-status     48842 non-null object\n",
      "occupation         48842 non-null object\n",
      "relationship       48842 non-null object\n",
      "race               48842 non-null object\n",
      "gender             48842 non-null object\n",
      "capital-gain       48842 non-null int64\n",
      "capital-loss       48842 non-null int64\n",
      "hours-per-week     48842 non-null int64\n",
      "native-country     48842 non-null object\n",
      "income             48842 non-null object\n",
      "dtypes: int64(6), object(9)\n",
      "memory usage: 5.6+ MB\n"
     ]
    }
   ],
   "source": [
    "df.info()"
   ]
  },
  {
   "cell_type": "code",
   "execution_count": 4,
   "metadata": {},
   "outputs": [
    {
     "name": "stdout",
     "output_type": "stream",
     "text": [
      "Cantidad de registros:48842, Cantidad de columnas: 15\n"
     ]
    }
   ],
   "source": [
    "print(\"Cantidad de registros:{}, Cantidad de columnas: {}\".format(df.shape[0], df.shape[1]))"
   ]
  },
  {
   "cell_type": "markdown",
   "metadata": {},
   "source": [
    "* Corregir datos con valores \"?\""
   ]
  },
  {
   "cell_type": "code",
   "execution_count": 5,
   "metadata": {},
   "outputs": [
    {
     "data": {
      "text/html": [
       "<div>\n",
       "<style scoped>\n",
       "    .dataframe tbody tr th:only-of-type {\n",
       "        vertical-align: middle;\n",
       "    }\n",
       "\n",
       "    .dataframe tbody tr th {\n",
       "        vertical-align: top;\n",
       "    }\n",
       "\n",
       "    .dataframe thead th {\n",
       "        text-align: right;\n",
       "    }\n",
       "</style>\n",
       "<table border=\"1\" class=\"dataframe\">\n",
       "  <thead>\n",
       "    <tr style=\"text-align: right;\">\n",
       "      <th></th>\n",
       "      <th>age</th>\n",
       "      <th>workclass</th>\n",
       "      <th>fnlwgt</th>\n",
       "      <th>education</th>\n",
       "      <th>educational-num</th>\n",
       "      <th>marital-status</th>\n",
       "      <th>occupation</th>\n",
       "      <th>relationship</th>\n",
       "      <th>race</th>\n",
       "      <th>gender</th>\n",
       "      <th>capital-gain</th>\n",
       "      <th>capital-loss</th>\n",
       "      <th>hours-per-week</th>\n",
       "      <th>native-country</th>\n",
       "      <th>income</th>\n",
       "    </tr>\n",
       "  </thead>\n",
       "  <tbody>\n",
       "    <tr>\n",
       "      <th>0</th>\n",
       "      <td>25</td>\n",
       "      <td>Private</td>\n",
       "      <td>226802</td>\n",
       "      <td>11th</td>\n",
       "      <td>7</td>\n",
       "      <td>Never-married</td>\n",
       "      <td>Machine-op-inspct</td>\n",
       "      <td>Own-child</td>\n",
       "      <td>Black</td>\n",
       "      <td>Male</td>\n",
       "      <td>0</td>\n",
       "      <td>0</td>\n",
       "      <td>40</td>\n",
       "      <td>United-States</td>\n",
       "      <td>&lt;=50K</td>\n",
       "    </tr>\n",
       "    <tr>\n",
       "      <th>1</th>\n",
       "      <td>38</td>\n",
       "      <td>Private</td>\n",
       "      <td>89814</td>\n",
       "      <td>HS-grad</td>\n",
       "      <td>9</td>\n",
       "      <td>Married-civ-spouse</td>\n",
       "      <td>Farming-fishing</td>\n",
       "      <td>Husband</td>\n",
       "      <td>White</td>\n",
       "      <td>Male</td>\n",
       "      <td>0</td>\n",
       "      <td>0</td>\n",
       "      <td>50</td>\n",
       "      <td>United-States</td>\n",
       "      <td>&lt;=50K</td>\n",
       "    </tr>\n",
       "    <tr>\n",
       "      <th>2</th>\n",
       "      <td>28</td>\n",
       "      <td>Local-gov</td>\n",
       "      <td>336951</td>\n",
       "      <td>Assoc-acdm</td>\n",
       "      <td>12</td>\n",
       "      <td>Married-civ-spouse</td>\n",
       "      <td>Protective-serv</td>\n",
       "      <td>Husband</td>\n",
       "      <td>White</td>\n",
       "      <td>Male</td>\n",
       "      <td>0</td>\n",
       "      <td>0</td>\n",
       "      <td>40</td>\n",
       "      <td>United-States</td>\n",
       "      <td>&gt;50K</td>\n",
       "    </tr>\n",
       "    <tr>\n",
       "      <th>3</th>\n",
       "      <td>44</td>\n",
       "      <td>Private</td>\n",
       "      <td>160323</td>\n",
       "      <td>Some-college</td>\n",
       "      <td>10</td>\n",
       "      <td>Married-civ-spouse</td>\n",
       "      <td>Machine-op-inspct</td>\n",
       "      <td>Husband</td>\n",
       "      <td>Black</td>\n",
       "      <td>Male</td>\n",
       "      <td>7688</td>\n",
       "      <td>0</td>\n",
       "      <td>40</td>\n",
       "      <td>United-States</td>\n",
       "      <td>&gt;50K</td>\n",
       "    </tr>\n",
       "    <tr>\n",
       "      <th>4</th>\n",
       "      <td>18</td>\n",
       "      <td>NaN</td>\n",
       "      <td>103497</td>\n",
       "      <td>Some-college</td>\n",
       "      <td>10</td>\n",
       "      <td>Never-married</td>\n",
       "      <td>NaN</td>\n",
       "      <td>Own-child</td>\n",
       "      <td>White</td>\n",
       "      <td>Female</td>\n",
       "      <td>0</td>\n",
       "      <td>0</td>\n",
       "      <td>30</td>\n",
       "      <td>United-States</td>\n",
       "      <td>&lt;=50K</td>\n",
       "    </tr>\n",
       "  </tbody>\n",
       "</table>\n",
       "</div>"
      ],
      "text/plain": [
       "   age  workclass  fnlwgt     education  educational-num      marital-status  \\\n",
       "0   25    Private  226802          11th                7       Never-married   \n",
       "1   38    Private   89814       HS-grad                9  Married-civ-spouse   \n",
       "2   28  Local-gov  336951    Assoc-acdm               12  Married-civ-spouse   \n",
       "3   44    Private  160323  Some-college               10  Married-civ-spouse   \n",
       "4   18        NaN  103497  Some-college               10       Never-married   \n",
       "\n",
       "          occupation relationship   race  gender  capital-gain  capital-loss  \\\n",
       "0  Machine-op-inspct    Own-child  Black    Male             0             0   \n",
       "1    Farming-fishing      Husband  White    Male             0             0   \n",
       "2    Protective-serv      Husband  White    Male             0             0   \n",
       "3  Machine-op-inspct      Husband  Black    Male          7688             0   \n",
       "4                NaN    Own-child  White  Female             0             0   \n",
       "\n",
       "   hours-per-week native-country income  \n",
       "0              40  United-States  <=50K  \n",
       "1              50  United-States  <=50K  \n",
       "2              40  United-States   >50K  \n",
       "3              40  United-States   >50K  \n",
       "4              30  United-States  <=50K  "
      ]
     },
     "execution_count": 5,
     "metadata": {},
     "output_type": "execute_result"
    }
   ],
   "source": [
    "df = df.replace('?', np.nan)\n",
    "df.head()"
   ]
  },
  {
   "cell_type": "code",
   "execution_count": 6,
   "metadata": {},
   "outputs": [
    {
     "name": "stdout",
     "output_type": "stream",
     "text": [
      "<class 'pandas.core.frame.DataFrame'>\n",
      "RangeIndex: 48842 entries, 0 to 48841\n",
      "Data columns (total 15 columns):\n",
      "age                48842 non-null int64\n",
      "workclass          46043 non-null object\n",
      "fnlwgt             48842 non-null int64\n",
      "education          48842 non-null object\n",
      "educational-num    48842 non-null int64\n",
      "marital-status     48842 non-null object\n",
      "occupation         46033 non-null object\n",
      "relationship       48842 non-null object\n",
      "race               48842 non-null object\n",
      "gender             48842 non-null object\n",
      "capital-gain       48842 non-null int64\n",
      "capital-loss       48842 non-null int64\n",
      "hours-per-week     48842 non-null int64\n",
      "native-country     47985 non-null object\n",
      "income             48842 non-null object\n",
      "dtypes: int64(6), object(9)\n",
      "memory usage: 5.6+ MB\n"
     ]
    }
   ],
   "source": [
    "df.info()"
   ]
  },
  {
   "cell_type": "markdown",
   "metadata": {},
   "source": [
    "## Inspección de datos perdidos en las variables"
   ]
  },
  {
   "cell_type": "code",
   "execution_count": 7,
   "metadata": {},
   "outputs": [
    {
     "data": {
      "text/plain": [
       "<matplotlib.axes._subplots.AxesSubplot at 0x7fbe811394a8>"
      ]
     },
     "execution_count": 7,
     "metadata": {},
     "output_type": "execute_result"
    },
    {
     "data": {
      "image/png": "[encoded data removed]",
      "text/plain": [
       "<Figure size 1800x720 with 2 Axes>"
      ]
     },
     "metadata": {
      "needs_background": "light"
     },
     "output_type": "display_data"
    }
   ],
   "source": [
    "missingno.matrix(df)"
   ]
  },
  {
   "cell_type": "code",
   "execution_count": 8,
   "metadata": {},
   "outputs": [
    {
     "data": {
      "text/plain": [
       "age                   0\n",
       "workclass          2799\n",
       "fnlwgt                0\n",
       "education             0\n",
       "educational-num       0\n",
       "marital-status        0\n",
       "occupation         2809\n",
       "relationship          0\n",
       "race                  0\n",
       "gender                0\n",
       "capital-gain          0\n",
       "capital-loss          0\n",
       "hours-per-week        0\n",
       "native-country      857\n",
       "income                0\n",
       "dtype: int64"
      ]
     },
     "execution_count": 8,
     "metadata": {},
     "output_type": "execute_result"
    }
   ],
   "source": [
    "df.isnull().sum()"
   ]
  },
  {
   "cell_type": "code",
   "execution_count": 9,
   "metadata": {},
   "outputs": [
    {
     "data": {
      "text/plain": [
       "age                0.00\n",
       "workclass          5.73\n",
       "fnlwgt             0.00\n",
       "education          0.00\n",
       "educational-num    0.00\n",
       "marital-status     0.00\n",
       "occupation         5.75\n",
       "relationship       0.00\n",
       "race               0.00\n",
       "gender             0.00\n",
       "capital-gain       0.00\n",
       "capital-loss       0.00\n",
       "hours-per-week     0.00\n",
       "native-country     1.75\n",
       "income             0.00\n",
       "dtype: float64"
      ]
     },
     "execution_count": 9,
     "metadata": {},
     "output_type": "execute_result"
    }
   ],
   "source": [
    "round(df.isnull().sum()/df.shape[0]*100, 2)"
   ]
  },
  {
   "cell_type": "markdown",
   "metadata": {},
   "source": [
    "* La variable __occupation__ tiene 2.809 __(5.75%)__ datos perdidos\n",
    "* La variable __workclass__ tiene 2.799 __(5.73%)__ datos perdidos\n",
    "* La variable __native-country__ tiene 857 __(1.75%)__ datos perdidos \n",
    "\n",
    "__Se observa que a lo largo de todas las variables las tasas de datos perdidos son nulas (a excepción de occupation, workclass, native-country)__"
   ]
  },
  {
   "cell_type": "code",
   "execution_count": 10,
   "metadata": {},
   "outputs": [],
   "source": [
    "df_dropped = df.dropna()"
   ]
  },
  {
   "cell_type": "code",
   "execution_count": 11,
   "metadata": {},
   "outputs": [
    {
     "name": "stdout",
     "output_type": "stream",
     "text": [
      "El porcentaje de datos perdidos si eliminamos todos los N/A es de: 7.41%\n"
     ]
    }
   ],
   "source": [
    "print(f\"El porcentaje de datos perdidos si eliminamos todos los N/A es de: {round(100-len(df_dropped)/len(df)*100, 2)}%\")"
   ]
  },
  {
   "cell_type": "code",
   "execution_count": 12,
   "metadata": {},
   "outputs": [
    {
     "name": "stdout",
     "output_type": "stream",
     "text": [
      "DataFrame sin aplicar dropna\n",
      "Cantidad de registros:48842, Cantidad de columnas: 15\n"
     ]
    }
   ],
   "source": [
    "print(\"DataFrame sin aplicar dropna\")\n",
    "print(\"Cantidad de registros:{}, Cantidad de columnas: {}\".format(df.shape[0], df.shape[1]))"
   ]
  },
  {
   "cell_type": "code",
   "execution_count": 13,
   "metadata": {},
   "outputs": [
    {
     "name": "stdout",
     "output_type": "stream",
     "text": [
      "DataFrame aplicando dropna\n",
      "Cantidad de registros:45222, Cantidad de columnas: 15\n"
     ]
    }
   ],
   "source": [
    "print(\"DataFrame aplicando dropna\")\n",
    "print(\"Cantidad de registros:{}, Cantidad de columnas: {}\".format(df_dropped.shape[0], df_dropped.shape[1]))"
   ]
  },
  {
   "cell_type": "markdown",
   "metadata": {},
   "source": [
    "####  Podemos observar que si aplicamos dropna a nuestra muestra original vamos a eliminar  3.620 registros (Vamos a continuar con nuestro análisis aplicando dropna a nuestra muestra original)"
   ]
  },
  {
   "cell_type": "code",
   "execution_count": 14,
   "metadata": {},
   "outputs": [
    {
     "data": {
      "text/plain": [
       "age                0.0\n",
       "workclass          0.0\n",
       "fnlwgt             0.0\n",
       "education          0.0\n",
       "educational-num    0.0\n",
       "marital-status     0.0\n",
       "occupation         0.0\n",
       "relationship       0.0\n",
       "race               0.0\n",
       "gender             0.0\n",
       "capital-gain       0.0\n",
       "capital-loss       0.0\n",
       "hours-per-week     0.0\n",
       "native-country     0.0\n",
       "income             0.0\n",
       "dtype: float64"
      ]
     },
     "execution_count": 14,
     "metadata": {},
     "output_type": "execute_result"
    }
   ],
   "source": [
    "df_dropped.isna().sum()/df_dropped.shape[0]*100"
   ]
  },
  {
   "cell_type": "code",
   "execution_count": 15,
   "metadata": {},
   "outputs": [],
   "source": [
    "df = df.dropna()"
   ]
  },
  {
   "cell_type": "markdown",
   "metadata": {},
   "source": [
    "## Proceso de preprocesamiento y recodificación de las variables"
   ]
  },
  {
   "cell_type": "markdown",
   "metadata": {},
   "source": [
    "Desde la organización le sugieren que debe recodificar las siguientes variables acorde a las siguientes nomenclaturas:"
   ]
  },
  {
   "cell_type": "markdown",
   "metadata": {},
   "source": [
    "* __occupation__ debe recodificarse como __collars__ siguiendo una nomenclatura similar a:\n",
    "    * __white-collar__  $\\leftarrow$ Prof-specialty, Exec-managerial, Adm-clerical, Sales, Tech-support.\n",
    "    * __blue-collar__  $\\leftarrow$ Craft-repair, Machine-op-inspct, Transport-moving, Handlers-cleaners, Farming-fishing, Protective-serv, Priv-house-serv.\n",
    "    * __others__  $\\leftarrow$ Other-service, Armed-Forces"
   ]
  },
  {
   "cell_type": "code",
   "execution_count": 16,
   "metadata": {},
   "outputs": [],
   "source": [
    "#occupation -> white-collar\n",
    "df['occupation'] = df['occupation'].replace(['Prof-specialty', 'Exec-managerial', 'Adm-clerical', 'Sales', 'Tech-support'],\n",
    "                                            ['white-collar','white-collar','white-collar', 'white-collar', 'white-collar'])\n",
    "#occupation -> blue-collar\n",
    "df['occupation'] = df['occupation'].replace(['Craft-repair', 'Machine-op-inspct', 'Transport-moving', 'Handlers-cleaners', 'Farming-fishing', 'Protective-serv', 'Priv-house-serv'],\n",
    "                                            ['blue-collar', 'blue-collar', 'blue-collar', 'blue-collar', 'blue-collar', 'blue-collar', 'blue-collar'])\n",
    "#occupation -> others\n",
    "df['occupation'] = df['occupation'].replace(['Other-service', 'Armed-Forces'],\n",
    "                                            ['others', 'others'])\n",
    "\n",
    "#Renombramos la columna occupation por collars\n",
    "df = df.rename(columns={\"occupation\": \"collars\"})"
   ]
  },
  {
   "cell_type": "markdown",
   "metadata": {},
   "source": [
    "* __workclass__ debe recodificarse como __workclass_recod__ siguiendo una nomenclatura similar a :\n",
    "    * __federal-gov__ $\\leftarrow$ Federal-gov.\n",
    "    * __state-level-gov__ $\\leftarrow$ State-gov, Local-gov.\n",
    "    * __self-employed__ $\\leftarrow$ Self-emp-inc, Self-emp-not-inc\n",
    "    * __unemployed__ $\\leftarrow$ Never-worked, Without-pay."
   ]
  },
  {
   "cell_type": "code",
   "execution_count": 17,
   "metadata": {},
   "outputs": [],
   "source": [
    "#workclass -> federal-gov\n",
    "df['workclass'] = df['workclass'].replace(['Federal-gov'],\n",
    "                                          ['federal-gov'])\n",
    "\n",
    "#workclass -> state-level-gov\n",
    "df['workclass'] = df['workclass'].replace(['State-gov', 'Local-gov'],\n",
    "                                          ['state-level-gov', 'state-level-gov'])\n",
    "\n",
    "#workclass -> self-employed\n",
    "df['workclass'] = df['workclass'].replace(['Self-emp-inc', 'Self-emp-not-inc'],\n",
    "                                          ['self-employed', 'self-employed'])\n",
    "\n",
    "#workclass -> unemployed\n",
    "df['workclass'] = df['workclass'].replace(['Never-worked', 'Without-pay'],\n",
    "                                          ['unemployed', 'unemployed'])\n",
    "\n",
    "#Renombramos la columna workclass por workclass_recod\n",
    "df = df.rename(columns={\"workclass\": \"workclass_recod\"})"
   ]
  },
  {
   "cell_type": "markdown",
   "metadata": {},
   "source": [
    "* __education__ debe recodificarse como __educ_recod__ siguiendo una nomenclatura similar a :\n",
    "    * __preschool__ $\\leftarrow$ Preschool\n",
    "    * __elementary-school__ $\\leftarrow$ 1st-4th, 5th-6th\n",
    "    * __high-school__ $\\leftarrow$ 7th-8th, 9th, 10th,11th, 12th, HS-grad\n",
    "    * __college__ $\\leftarrow$ Assoc-voc, Assoc-acdm, Some-college\n",
    "    * __university__ $\\leftarrow$ Bachelors, Masters, Prof-school, Doctorate"
   ]
  },
  {
   "cell_type": "code",
   "execution_count": 18,
   "metadata": {},
   "outputs": [],
   "source": [
    "#education -> preschool\n",
    "df['education'] = df['education'].replace(['Preschool'],\n",
    "                                          ['preschool'])\n",
    "\n",
    "#education -> elementary-school\n",
    "df['education'] = df['education'].replace(['1st-4th', '5th-6th'],\n",
    "                                          ['elementary-school', 'elementary-school'])\n",
    "\n",
    "#education -> high-school\n",
    "df['education'] = df['education'].replace(['7th-8th', '9th', '10th', '11th', '12th', 'HS-grad'],\n",
    "                                          ['high-school', 'high-school', 'high-school', 'high-school', 'high-school', 'high-school'])\n",
    "\n",
    "#education -> college\n",
    "df['education'] = df['education'].replace(['Assoc-voc', 'Assoc-acdm', 'Some-college'], \n",
    "                                          ['college', 'college', 'college'])\n",
    "\n",
    "#education -> university\n",
    "df['education'] = df['education'].replace(['Bachelors', 'Masters', 'Prof-school', 'Doctorate'], \n",
    "                                          ['university', 'university', 'university', 'university'])\n",
    "\n",
    "#Renombramos la columna education por educ_recod\n",
    "df = df.rename(columns={\"education\": \"educ_recod\"})"
   ]
  },
  {
   "cell_type": "markdown",
   "metadata": {},
   "source": [
    "* __marital-status__ debe recodificarse como __civstatus__ siguiendo una nomenclatura similar a:\n",
    "    * __married__ $\\leftarrow$ Married-civ-spouse, Married-spouse-absent, Married-AF-spouse\n",
    "    * __divorced__ $\\leftarrow$ Divorced\n",
    "    * __separated__ $\\leftarrow$ Separated\n",
    "    * __widowed__ $\\leftarrow$ Widowed."
   ]
  },
  {
   "cell_type": "code",
   "execution_count": 19,
   "metadata": {},
   "outputs": [],
   "source": [
    "#marital-status -> married\n",
    "df['marital-status'] = df['marital-status'].replace(['Married-civ-spouse', 'Married-spouse-absent', 'Married-AF-spouse'],\n",
    "                                                    ['married', 'married', 'married'])\n",
    "\n",
    "#marital-status -> divorced\n",
    "df['marital-status'] = df['marital-status'].replace(['Divorced'],\n",
    "                                                    ['divorced'])\n",
    "\n",
    "#marital-status -> separated\n",
    "df['marital-status'] = df['marital-status'].replace(['Separated'],\n",
    "                                                    ['separated'])\n",
    "\n",
    "#marital-status -> widowed\n",
    "df['marital-status'] = df['marital-status'].replace(['Widowed'],\n",
    "                                                    ['widowed'])\n",
    "\n",
    "#Renombramos la columna marital-status por civstatus\n",
    "df = df.rename(columns={\"marital-status\": \"civstatus\"})"
   ]
  },
  {
   "cell_type": "markdown",
   "metadata": {},
   "source": [
    "* __native-country__ debe recodificarse como __region__ donde cada país debe asignarse a uno de los 5 continentes"
   ]
  },
  {
   "cell_type": "code",
   "execution_count": 20,
   "metadata": {},
   "outputs": [],
   "source": [
    "#native-country -> america\n",
    "df['native-country'] = df['native-country'].replace([\n",
    "    'United-States', 'Mexico', 'Puerto-Rico',\n",
    "    'Canada', 'El-Salvador', 'Cuba',\n",
    "    'Jamaica', 'Dominican-Republic', 'Guatemala',\n",
    "    'Columbia', 'Haiti', 'Nicaragua',\n",
    "    'Peru', 'Ecuador', 'Trinadad&Tobago', \n",
    "    'Outlying-US(Guam-USVI-etc)', 'Honduras'\n",
    "],[\n",
    "    'america', 'america', 'america', \n",
    "    'america', 'america', 'america', \n",
    "    'america', 'america', 'america',\n",
    "    'america', 'america', 'america',\n",
    "    'america', 'america', 'america',\n",
    "    'america', 'america'\n",
    "])\n",
    "\n",
    "#native-country -> asia\n",
    "df['native-country'] = df['native-country'].replace([\n",
    "    'Philippines', 'India', 'China',\n",
    "    'Japan', 'Vietnam', 'Taiwan',\n",
    "    'Iran', 'Hong', 'Thailand',\n",
    "    'Cambodia', 'Laos', 'South'\n",
    "],[\n",
    "    'asia', 'asia','asia', \n",
    "    'asia', 'asia', 'asia', \n",
    "    'asia', 'asia', 'asia',\n",
    "    'asia', 'asia','asia'\n",
    "])\n",
    "\n",
    "\n",
    "#native-country -> europa\n",
    "df['native-country'] = df['native-country'].replace([\n",
    "    'Germany', 'England', 'Italy',\n",
    "    'Poland', 'Portugal', 'Greece',\n",
    "    'France', 'Ireland', 'Yugoslavia',\n",
    "    'Scotland', 'Hungary', 'Holand-Netherlands'\n",
    "],[\n",
    "    'europa', 'europa','europa', \n",
    "    'europa', 'europa', 'europa', \n",
    "    'europa', 'europa', 'europa',\n",
    "    'europa', 'europa','europa'\n",
    "])\n",
    "\n",
    "#Renombramos el nombre de la columna\n",
    "df = df.rename(columns={\"native-country\": \"region\"})"
   ]
  },
  {
   "cell_type": "markdown",
   "metadata": {},
   "source": [
    "* __income__ debe recodificarse de forma binaria."
   ]
  },
  {
   "cell_type": "code",
   "execution_count": 21,
   "metadata": {},
   "outputs": [],
   "source": [
    "df['income'] = np.where(df['income'] == '>50K', 1, 0)"
   ]
  },
  {
   "cell_type": "code",
   "execution_count": 22,
   "metadata": {},
   "outputs": [
    {
     "name": "stdout",
     "output_type": "stream",
     "text": [
      "<class 'pandas.core.frame.DataFrame'>\n",
      "Int64Index: 45222 entries, 0 to 48841\n",
      "Data columns (total 15 columns):\n",
      "age                45222 non-null int64\n",
      "workclass_recod    45222 non-null object\n",
      "fnlwgt             45222 non-null int64\n",
      "educ_recod         45222 non-null object\n",
      "educational-num    45222 non-null int64\n",
      "civstatus          45222 non-null object\n",
      "collars            45222 non-null object\n",
      "relationship       45222 non-null object\n",
      "race               45222 non-null object\n",
      "gender             45222 non-null object\n",
      "capital-gain       45222 non-null int64\n",
      "capital-loss       45222 non-null int64\n",
      "hours-per-week     45222 non-null int64\n",
      "region             45222 non-null object\n",
      "income             45222 non-null int64\n",
      "dtypes: int64(7), object(8)\n",
      "memory usage: 5.5+ MB\n"
     ]
    }
   ],
   "source": [
    "df.info()"
   ]
  },
  {
   "cell_type": "code",
   "execution_count": 23,
   "metadata": {},
   "outputs": [
    {
     "data": {
      "text/html": [
       "<div>\n",
       "<style scoped>\n",
       "    .dataframe tbody tr th:only-of-type {\n",
       "        vertical-align: middle;\n",
       "    }\n",
       "\n",
       "    .dataframe tbody tr th {\n",
       "        vertical-align: top;\n",
       "    }\n",
       "\n",
       "    .dataframe thead th {\n",
       "        text-align: right;\n",
       "    }\n",
       "</style>\n",
       "<table border=\"1\" class=\"dataframe\">\n",
       "  <thead>\n",
       "    <tr style=\"text-align: right;\">\n",
       "      <th></th>\n",
       "      <th>age</th>\n",
       "      <th>workclass_recod</th>\n",
       "      <th>fnlwgt</th>\n",
       "      <th>educ_recod</th>\n",
       "      <th>educational-num</th>\n",
       "      <th>civstatus</th>\n",
       "      <th>collars</th>\n",
       "      <th>relationship</th>\n",
       "      <th>race</th>\n",
       "      <th>gender</th>\n",
       "      <th>capital-gain</th>\n",
       "      <th>capital-loss</th>\n",
       "      <th>hours-per-week</th>\n",
       "      <th>region</th>\n",
       "      <th>income</th>\n",
       "    </tr>\n",
       "  </thead>\n",
       "  <tbody>\n",
       "    <tr>\n",
       "      <th>19053</th>\n",
       "      <td>20</td>\n",
       "      <td>Private</td>\n",
       "      <td>436253</td>\n",
       "      <td>college</td>\n",
       "      <td>10</td>\n",
       "      <td>Never-married</td>\n",
       "      <td>others</td>\n",
       "      <td>Own-child</td>\n",
       "      <td>White</td>\n",
       "      <td>Male</td>\n",
       "      <td>0</td>\n",
       "      <td>0</td>\n",
       "      <td>35</td>\n",
       "      <td>america</td>\n",
       "      <td>0</td>\n",
       "    </tr>\n",
       "    <tr>\n",
       "      <th>23190</th>\n",
       "      <td>40</td>\n",
       "      <td>self-employed</td>\n",
       "      <td>192507</td>\n",
       "      <td>college</td>\n",
       "      <td>12</td>\n",
       "      <td>divorced</td>\n",
       "      <td>white-collar</td>\n",
       "      <td>Not-in-family</td>\n",
       "      <td>White</td>\n",
       "      <td>Female</td>\n",
       "      <td>0</td>\n",
       "      <td>0</td>\n",
       "      <td>50</td>\n",
       "      <td>america</td>\n",
       "      <td>0</td>\n",
       "    </tr>\n",
       "    <tr>\n",
       "      <th>41088</th>\n",
       "      <td>32</td>\n",
       "      <td>Private</td>\n",
       "      <td>184207</td>\n",
       "      <td>high-school</td>\n",
       "      <td>9</td>\n",
       "      <td>divorced</td>\n",
       "      <td>blue-collar</td>\n",
       "      <td>Not-in-family</td>\n",
       "      <td>White</td>\n",
       "      <td>Male</td>\n",
       "      <td>0</td>\n",
       "      <td>0</td>\n",
       "      <td>40</td>\n",
       "      <td>america</td>\n",
       "      <td>0</td>\n",
       "    </tr>\n",
       "    <tr>\n",
       "      <th>24080</th>\n",
       "      <td>28</td>\n",
       "      <td>Private</td>\n",
       "      <td>183885</td>\n",
       "      <td>high-school</td>\n",
       "      <td>9</td>\n",
       "      <td>Never-married</td>\n",
       "      <td>others</td>\n",
       "      <td>Own-child</td>\n",
       "      <td>White</td>\n",
       "      <td>Male</td>\n",
       "      <td>0</td>\n",
       "      <td>0</td>\n",
       "      <td>30</td>\n",
       "      <td>america</td>\n",
       "      <td>0</td>\n",
       "    </tr>\n",
       "    <tr>\n",
       "      <th>6555</th>\n",
       "      <td>31</td>\n",
       "      <td>state-level-gov</td>\n",
       "      <td>498267</td>\n",
       "      <td>high-school</td>\n",
       "      <td>9</td>\n",
       "      <td>separated</td>\n",
       "      <td>others</td>\n",
       "      <td>Own-child</td>\n",
       "      <td>Black</td>\n",
       "      <td>Male</td>\n",
       "      <td>0</td>\n",
       "      <td>0</td>\n",
       "      <td>40</td>\n",
       "      <td>america</td>\n",
       "      <td>0</td>\n",
       "    </tr>\n",
       "  </tbody>\n",
       "</table>\n",
       "</div>"
      ],
      "text/plain": [
       "       age  workclass_recod  fnlwgt   educ_recod  educational-num  \\\n",
       "19053   20          Private  436253      college               10   \n",
       "23190   40    self-employed  192507      college               12   \n",
       "41088   32          Private  184207  high-school                9   \n",
       "24080   28          Private  183885  high-school                9   \n",
       "6555    31  state-level-gov  498267  high-school                9   \n",
       "\n",
       "           civstatus       collars   relationship   race  gender  \\\n",
       "19053  Never-married        others      Own-child  White    Male   \n",
       "23190       divorced  white-collar  Not-in-family  White  Female   \n",
       "41088       divorced   blue-collar  Not-in-family  White    Male   \n",
       "24080  Never-married        others      Own-child  White    Male   \n",
       "6555       separated        others      Own-child  Black    Male   \n",
       "\n",
       "       capital-gain  capital-loss  hours-per-week   region  income  \n",
       "19053             0             0              35  america       0  \n",
       "23190             0             0              50  america       0  \n",
       "41088             0             0              40  america       0  \n",
       "24080             0             0              30  america       0  \n",
       "6555              0             0              40  america       0  "
      ]
     },
     "execution_count": 23,
     "metadata": {},
     "output_type": "execute_result"
    }
   ],
   "source": [
    "df.sample(5)"
   ]
  },
  {
   "cell_type": "markdown",
   "metadata": {},
   "source": [
    "## Inspección visual de las variables"
   ]
  },
  {
   "cell_type": "code",
   "execution_count": 24,
   "metadata": {},
   "outputs": [
    {
     "name": "stdout",
     "output_type": "stream",
     "text": [
      "-------------------------------------------\n",
      "#### age ####\n",
      "count    45222.0\n",
      "mean        39.0\n",
      "std         13.0\n",
      "min         17.0\n",
      "25%         28.0\n",
      "50%         37.0\n",
      "75%         47.0\n",
      "max         90.0\n",
      "Name: age, dtype: float64\n",
      "\n",
      "-------------------------------------------\n",
      "#### workclass_recod ####\n",
      "Private            0.74\n",
      "self-employed      0.12\n",
      "state-level-gov    0.11\n",
      "federal-gov        0.03\n",
      "unemployed         0.00\n",
      "Name: workclass_recod, dtype: float64\n",
      "\n",
      "-------------------------------------------\n",
      "#### fnlwgt ####\n",
      "count      45222.0\n",
      "mean      189735.0\n",
      "std       105639.0\n",
      "min        13492.0\n",
      "25%       117388.0\n",
      "50%       178316.0\n",
      "75%       237926.0\n",
      "max      1490400.0\n",
      "Name: fnlwgt, dtype: float64\n",
      "\n",
      "-------------------------------------------\n",
      "#### educ_recod ####\n",
      "high-school          0.44\n",
      "college              0.30\n",
      "university           0.25\n",
      "elementary-school    0.01\n",
      "preschool            0.00\n",
      "Name: educ_recod, dtype: float64\n",
      "\n",
      "-------------------------------------------\n",
      "#### educational-num ####\n",
      "count    45222.0\n",
      "mean        10.0\n",
      "std          3.0\n",
      "min          1.0\n",
      "25%          9.0\n",
      "50%         10.0\n",
      "75%         13.0\n",
      "max         16.0\n",
      "Name: educational-num, dtype: float64\n",
      "\n",
      "-------------------------------------------\n",
      "#### civstatus ####\n",
      "married          0.48\n",
      "Never-married    0.32\n",
      "divorced         0.14\n",
      "separated        0.03\n",
      "widowed          0.03\n",
      "Name: civstatus, dtype: float64\n",
      "\n",
      "-------------------------------------------\n",
      "#### collars ####\n",
      "white-collar    0.54\n",
      "blue-collar     0.35\n",
      "others          0.11\n",
      "Name: collars, dtype: float64\n",
      "\n",
      "-------------------------------------------\n",
      "#### relationship ####\n",
      "Husband           0.41\n",
      "Not-in-family     0.26\n",
      "Own-child         0.15\n",
      "Unmarried         0.11\n",
      "Wife              0.05\n",
      "Other-relative    0.03\n",
      "Name: relationship, dtype: float64\n",
      "\n",
      "-------------------------------------------\n",
      "#### race ####\n",
      "White                 0.86\n",
      "Black                 0.09\n",
      "Asian-Pac-Islander    0.03\n",
      "Amer-Indian-Eskimo    0.01\n",
      "Other                 0.01\n",
      "Name: race, dtype: float64\n",
      "\n",
      "-------------------------------------------\n",
      "#### gender ####\n",
      "Male      0.68\n",
      "Female    0.32\n",
      "Name: gender, dtype: float64\n",
      "\n",
      "-------------------------------------------\n",
      "#### capital-gain ####\n",
      "count    45222.0\n",
      "mean      1101.0\n",
      "std       7506.0\n",
      "min          0.0\n",
      "25%          0.0\n",
      "50%          0.0\n",
      "75%          0.0\n",
      "max      99999.0\n",
      "Name: capital-gain, dtype: float64\n",
      "\n",
      "-------------------------------------------\n",
      "#### capital-loss ####\n",
      "count    45222.0\n",
      "mean        89.0\n",
      "std        405.0\n",
      "min          0.0\n",
      "25%          0.0\n",
      "50%          0.0\n",
      "75%          0.0\n",
      "max       4356.0\n",
      "Name: capital-loss, dtype: float64\n",
      "\n",
      "-------------------------------------------\n",
      "#### hours-per-week ####\n",
      "count    45222.0\n",
      "mean        41.0\n",
      "std         12.0\n",
      "min          1.0\n",
      "25%         40.0\n",
      "50%         40.0\n",
      "75%         45.0\n",
      "max         99.0\n",
      "Name: hours-per-week, dtype: float64\n",
      "\n",
      "-------------------------------------------\n",
      "#### region ####\n",
      "america    0.96\n",
      "asia       0.02\n",
      "europa     0.02\n",
      "Name: region, dtype: float64\n",
      "\n",
      "-------------------------------------------\n",
      "#### income ####\n",
      "0    0.75\n",
      "1    0.25\n",
      "Name: income, dtype: float64\n",
      "\n"
     ]
    }
   ],
   "source": [
    "for i in df.columns:\n",
    "    if len(df[i].value_counts()) < 10 or df[i].dtypes == 'object':\n",
    "        print('-------------------------------------------')\n",
    "        print('#### {} ####'.format(i))\n",
    "        print(round(df[i].value_counts('%'),2))\n",
    "        print()\n",
    "    else:\n",
    "        print('-------------------------------------------')\n",
    "        print('#### {} ####'.format(i))\n",
    "        print(round(df[i].describe()))\n",
    "        print()"
   ]
  },
  {
   "cell_type": "code",
   "execution_count": 25,
   "metadata": {},
   "outputs": [
    {
     "data": {
      "text/html": [
       "<div>\n",
       "<style scoped>\n",
       "    .dataframe tbody tr th:only-of-type {\n",
       "        vertical-align: middle;\n",
       "    }\n",
       "\n",
       "    .dataframe tbody tr th {\n",
       "        vertical-align: top;\n",
       "    }\n",
       "\n",
       "    .dataframe thead th {\n",
       "        text-align: right;\n",
       "    }\n",
       "</style>\n",
       "<table border=\"1\" class=\"dataframe\">\n",
       "  <thead>\n",
       "    <tr style=\"text-align: right;\">\n",
       "      <th></th>\n",
       "      <th>age</th>\n",
       "      <th>fnlwgt</th>\n",
       "      <th>educational-num</th>\n",
       "      <th>capital-gain</th>\n",
       "      <th>capital-loss</th>\n",
       "      <th>hours-per-week</th>\n",
       "      <th>income</th>\n",
       "    </tr>\n",
       "  </thead>\n",
       "  <tbody>\n",
       "    <tr>\n",
       "      <th>count</th>\n",
       "      <td>45222.000000</td>\n",
       "      <td>4.522200e+04</td>\n",
       "      <td>45222.000000</td>\n",
       "      <td>45222.000000</td>\n",
       "      <td>45222.000000</td>\n",
       "      <td>45222.000000</td>\n",
       "      <td>45222.000000</td>\n",
       "    </tr>\n",
       "    <tr>\n",
       "      <th>mean</th>\n",
       "      <td>38.547941</td>\n",
       "      <td>1.897347e+05</td>\n",
       "      <td>10.118460</td>\n",
       "      <td>1101.430344</td>\n",
       "      <td>88.595418</td>\n",
       "      <td>40.938017</td>\n",
       "      <td>0.247844</td>\n",
       "    </tr>\n",
       "    <tr>\n",
       "      <th>std</th>\n",
       "      <td>13.217870</td>\n",
       "      <td>1.056392e+05</td>\n",
       "      <td>2.552881</td>\n",
       "      <td>7506.430084</td>\n",
       "      <td>404.956092</td>\n",
       "      <td>12.007508</td>\n",
       "      <td>0.431766</td>\n",
       "    </tr>\n",
       "    <tr>\n",
       "      <th>min</th>\n",
       "      <td>17.000000</td>\n",
       "      <td>1.349200e+04</td>\n",
       "      <td>1.000000</td>\n",
       "      <td>0.000000</td>\n",
       "      <td>0.000000</td>\n",
       "      <td>1.000000</td>\n",
       "      <td>0.000000</td>\n",
       "    </tr>\n",
       "    <tr>\n",
       "      <th>25%</th>\n",
       "      <td>28.000000</td>\n",
       "      <td>1.173882e+05</td>\n",
       "      <td>9.000000</td>\n",
       "      <td>0.000000</td>\n",
       "      <td>0.000000</td>\n",
       "      <td>40.000000</td>\n",
       "      <td>0.000000</td>\n",
       "    </tr>\n",
       "    <tr>\n",
       "      <th>50%</th>\n",
       "      <td>37.000000</td>\n",
       "      <td>1.783160e+05</td>\n",
       "      <td>10.000000</td>\n",
       "      <td>0.000000</td>\n",
       "      <td>0.000000</td>\n",
       "      <td>40.000000</td>\n",
       "      <td>0.000000</td>\n",
       "    </tr>\n",
       "    <tr>\n",
       "      <th>75%</th>\n",
       "      <td>47.000000</td>\n",
       "      <td>2.379260e+05</td>\n",
       "      <td>13.000000</td>\n",
       "      <td>0.000000</td>\n",
       "      <td>0.000000</td>\n",
       "      <td>45.000000</td>\n",
       "      <td>0.000000</td>\n",
       "    </tr>\n",
       "    <tr>\n",
       "      <th>max</th>\n",
       "      <td>90.000000</td>\n",
       "      <td>1.490400e+06</td>\n",
       "      <td>16.000000</td>\n",
       "      <td>99999.000000</td>\n",
       "      <td>4356.000000</td>\n",
       "      <td>99.000000</td>\n",
       "      <td>1.000000</td>\n",
       "    </tr>\n",
       "  </tbody>\n",
       "</table>\n",
       "</div>"
      ],
      "text/plain": [
       "                age        fnlwgt  educational-num  capital-gain  \\\n",
       "count  45222.000000  4.522200e+04     45222.000000  45222.000000   \n",
       "mean      38.547941  1.897347e+05        10.118460   1101.430344   \n",
       "std       13.217870  1.056392e+05         2.552881   7506.430084   \n",
       "min       17.000000  1.349200e+04         1.000000      0.000000   \n",
       "25%       28.000000  1.173882e+05         9.000000      0.000000   \n",
       "50%       37.000000  1.783160e+05        10.000000      0.000000   \n",
       "75%       47.000000  2.379260e+05        13.000000      0.000000   \n",
       "max       90.000000  1.490400e+06        16.000000  99999.000000   \n",
       "\n",
       "       capital-loss  hours-per-week        income  \n",
       "count  45222.000000    45222.000000  45222.000000  \n",
       "mean      88.595418       40.938017      0.247844  \n",
       "std      404.956092       12.007508      0.431766  \n",
       "min        0.000000        1.000000      0.000000  \n",
       "25%        0.000000       40.000000      0.000000  \n",
       "50%        0.000000       40.000000      0.000000  \n",
       "75%        0.000000       45.000000      0.000000  \n",
       "max     4356.000000       99.000000      1.000000  "
      ]
     },
     "execution_count": 25,
     "metadata": {},
     "output_type": "execute_result"
    }
   ],
   "source": [
    "df.describe()"
   ]
  },
  {
   "cell_type": "code",
   "execution_count": 26,
   "metadata": {},
   "outputs": [
    {
     "data": {
      "image/png": "[encoded data removed]",
      "text/plain": [
       "<Figure size 1080x1080 with 15 Axes>"
      ]
     },
     "metadata": {
      "needs_background": "light"
     },
     "output_type": "display_data"
    }
   ],
   "source": [
    "plt.rcParams['figure.figsize'] = (15, 15)\n",
    "funcion_auxiliar.explorar_variables(df)"
   ]
  },
  {
   "cell_type": "markdown",
   "metadata": {},
   "source": [
    "__Interpretación variables:__\n",
    "\n",
    "__age:__ Edad del individuo\n",
    "* Observamos que el promedio de edad de las personas de la muestra es __38 años__, la edad mínima es __17 años__ y la edad máxima es __90 años__, si bien el __75%__ de las personas no superan los __48 años__, existen personas mayores de __75 años__ que aún trabajan.\n",
    "\n",
    "__workclass_recod:__ Naturaleza de la organización que emplea al individuo\n",
    "* A simple vista podemos notar que la mayoría de las personas de la muestra trabajan en el sector __privado__ (Presenta 5 clases).\n",
    "\n",
    "__educ_recod:__ Nivel educacional del individuo\n",
    "* La mayoría de las personas tienen un titulo de secundaria (7mo-8vo, 1ro medio, 2do medio, 3ro medio, Secundaria completa) con un 44%, seguido de personas que tienen un titulo de nivel superior con un 30%.\n",
    "\n",
    "__civstatus:__ Estado civil del individuo\n",
    "* La mayoría de las personas de la muestra están casados/as (casadas, cónyuge civil) con un 48%, seguido por personas solteras/os con un 32% (Presenta 5 clases).\n",
    "\n",
    "__collars:__ Ocupación del individuo\n",
    "* La mayoría de las personas de la muestra trabajan en la categoría __\"white-collar\"__ (54%) es decir trabajan como Profesores, Ejecutivo administrativos, Administrativos servicio al cliente, Ventas o Soporte técnico (Presenta 3 clases). \n",
    "\n",
    "__relationship:__ Relación respecto a su familia\n",
    "* La mayoría de las personas de la muestra están en una relación como __\"esposo\"__ (41%). (Presenta 6 clases)\n",
    "\n",
    "__race:__ Raza del encuestado\n",
    "* La mayoría de las personas de la muestra son de raza __\"Blanco caucásico\"__ (86%). (Presenta 5 clases)\n",
    "\n",
    "__gender:__ Genero del encuestado\n",
    "* La mayoría de las personas de la muestra son de genero __\"masculino\"__ (68%). (Presenta 2 clases)\n",
    "\n",
    "__capital-gains:__ Ingresos generados por inversiones fuera del trabajo\n",
    "* Se puede observar que muy pocas personas tienen ingresos generados por inversiones fuera del trabajo.\n",
    "\n",
    "__capital-losses:__ Pérdidas generadas por inversiones fuera del trabajo\n",
    "* La mayoría de las personas de la muestra no invierten mucho (fuera del trabajo), por este motivo las personas no tienen perdidas generadas por inversiones.\n",
    "\n",
    "__hours-per-week:__ Cantidad de horas trabajadas por semana\n",
    "* Observamos que el promedio de la cantidad de horas trabajadas por semana es 40,4. El 75% de las personas trabajan alrededor de 45 horas por semana.\n",
    "\n",
    "__region:__ País de origen\n",
    "* La mayoría de las personas de la muestra son del continente __americano__ (96%) (Presenta 3 clases).\n",
    "\n",
    "__income:__ Si el individuo percibe ingresos >50K o <=50K \n",
    "La mayoría de las personas de la muestra tienen __ingresos inferiores a 50.000 dolares anuales__ (75%) (Presenta 2 clases)."
   ]
  },
  {
   "cell_type": "code",
   "execution_count": 27,
   "metadata": {},
   "outputs": [
    {
     "name": "stdout",
     "output_type": "stream",
     "text": [
      "Las variables numéricas son ['age', 'fnlwgt', 'educational-num', 'capital-gain', 'capital-loss', 'hours-per-week', 'income']\n",
      "Las variables catergóricas son ['workclass_recod', 'educ_recod', 'civstatus', 'collars', 'relationship', 'race', 'gender', 'region']\n"
     ]
    }
   ],
   "source": [
    "var_numericas, var_categoricas = funcion_auxiliar.get_var_categoricas_numericas(df)\n",
    "print(\"Las variables numéricas son {}\".format(var_numericas))\n",
    "print(\"Las variables catergóricas son {}\".format(var_categoricas))"
   ]
  },
  {
   "cell_type": "code",
   "execution_count": 28,
   "metadata": {},
   "outputs": [
    {
     "data": {
      "image/png": "[encoded data removed]",
      "text/plain": [
       "<Figure size 1080x1080 with 8 Axes>"
      ]
     },
     "metadata": {
      "needs_background": "light"
     },
     "output_type": "display_data"
    }
   ],
   "source": [
    "fig = plt.figure(figsize=(15,15))\n",
    "funcion_auxiliar.inspeccionar_vector_objetivo(df, var_categoricas, 'income')"
   ]
  },
  {
   "cell_type": "markdown",
   "metadata": {},
   "source": [
    "__Podemos observar que muy pocas personas tienen ingresos superiores a los 50.000 dolares anuales, pero podemos ver que para aquellas personas que tienen un \"titulo universitario\" o que están en una relación, estado civil como \"Casado/a\" existe una cantidad significativa de individuos que tienen ingresos superiores a los 50.000 dolares anuales.__"
   ]
  },
  {
   "cell_type": "code",
   "execution_count": 29,
   "metadata": {},
   "outputs": [
    {
     "data": {
      "image/png": "[encoded data removed]",
      "text/plain": [
       "<Figure size 1080x1080 with 6 Axes>"
      ]
     },
     "metadata": {
      "needs_background": "light"
     },
     "output_type": "display_data"
    }
   ],
   "source": [
    "fig = plt.figure(figsize=(15,15))\n",
    "funcion_auxiliar.inspeccionar_vector_objetivo(df, var_numericas, 'income', 'boxplot')"
   ]
  },
  {
   "cell_type": "markdown",
   "metadata": {},
   "source": [
    "* __Podemos observar que las personas que tienen ingresos superiores a los 50.000 dolares anuales tienen mas edad en comparación con las personas que tienen ingresos inferiores a los 50.000 dolares anuales__.\n",
    "* __Las personas que tienen ingresos superiores a los 50.000 dolares anuales tienen mas años de estudios en comparación con las personas que tienen ingresos inferiores a los 50.000 dolares anuales__.\n",
    "* __Las personas que tienen ingresos superiores a los 50.000 dolares anuales trabajan mas horas semanales en comparación con las personas que tienen ingresos inferiores a los 50.000 dolares anuales__."
   ]
  }
 ],
 "metadata": {
  "kernelspec": {
   "display_name": "Python 3",
   "language": "python",
   "name": "python3"
  },
  "language_info": {
   "codemirror_mode": {
    "name": "ipython",
    "version": 3
   },
   "file_extension": ".py",
   "mimetype": "text/x-python",
   "name": "python",
   "nbconvert_exporter": "python",
   "pygments_lexer": "ipython3",
   "version": "3.7.3"
  }
 },
 "nbformat": 4,
 "nbformat_minor": 2
}
