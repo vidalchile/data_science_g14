{
 "cells": [
  {
   "cell_type": "markdown",
   "metadata": {},
   "source": [
    "# Desafío - Regresión desde el aprendizaje de máquinas\n",
    "## Jose Gomez\n",
    "## Fecha de la clase: 03-05-2020\n",
    "\n",
    "# Contexto\n",
    "En esta sesión trabajaremos una base de datos sobre los precios de las viviendas en Boston, utilizada en el paper Harrison Jr, D., & Rubinfeld, D. L. (1978). Hedonic housing prices and the demand for clean air. Journal of environmental economics and management, 5(1), 81-102.<br>\n",
    "\n",
    "Nuestro objetivo es desarrollar un modelo predictivo para __el valor mediano de las casas (medv)__ mediante el entrenamiento de un modelo de regresión lineal.\n",
    "\n",
    "\n",
    "- __crim :__ Tasa de criminalidad por sector de Boston\n",
    "- __zn :__ proporción de terreno residencial asignado para terrenos baldíos.\n",
    "- __indus :__ proporción de negocios no asociados al comercio por sector.\n",
    "- __chas :__ Dummy 1: Si el sector colinda con el río Charles, 0: de lo contrario.\n",
    "- __nox :__ Concentración de Dioxido de Carbono.\n",
    "- __rm :__ cantidad promedio de habitaciones por casa.\n",
    "- __age :__ proporción de casas construídas antes de 1940 \n",
    "- __dis :__ distancia promedio a cinco centros de empleos. \n",
    "- __rad :__ índice de accesibilidad a autopistas.\n",
    "- __tax :__ nivel de impuestos asociados a viviendas. \n",
    "- __ptratio :__ razón alumno:profesor por sector de Boston.\n",
    "- __black :__ proporción de afroamericanos por sector de Boston.\n",
    "- __lstat :__ porcentaje de población de estratos bajos.\n",
    "- __medv :__ valor mediano de las casas"
   ]
  },
  {
   "cell_type": "markdown",
   "metadata": {},
   "source": [
    "## Desafío 1: Prepare el ambiente de trabajo\n",
    "- Importe las librerías básicas para el análisis de datos.<br>\n",
    "- Importe el módulo __linear_model__ , y las funciones __mean_squared_error__ , __r2_score__ y __train_test_split__.<br>\n",
    "- Importe la base de datos boston.csv y elimine la columna Unnamed: 0 .<br>\n",
    "- Obtenga las medidas descriptivas de la base de datos con .describe() ."
   ]
  },
  {
   "cell_type": "code",
   "execution_count": 1,
   "metadata": {},
   "outputs": [
    {
     "data": {
      "text/html": [
       "<div>\n",
       "<style scoped>\n",
       "    .dataframe tbody tr th:only-of-type {\n",
       "        vertical-align: middle;\n",
       "    }\n",
       "\n",
       "    .dataframe tbody tr th {\n",
       "        vertical-align: top;\n",
       "    }\n",
       "\n",
       "    .dataframe thead th {\n",
       "        text-align: right;\n",
       "    }\n",
       "</style>\n",
       "<table border=\"1\" class=\"dataframe\">\n",
       "  <thead>\n",
       "    <tr style=\"text-align: right;\">\n",
       "      <th></th>\n",
       "      <th>crim</th>\n",
       "      <th>zn</th>\n",
       "      <th>indus</th>\n",
       "      <th>chas</th>\n",
       "      <th>nox</th>\n",
       "      <th>rm</th>\n",
       "      <th>age</th>\n",
       "      <th>dis</th>\n",
       "      <th>rad</th>\n",
       "      <th>tax</th>\n",
       "      <th>ptratio</th>\n",
       "      <th>black</th>\n",
       "      <th>lstat</th>\n",
       "      <th>medv</th>\n",
       "    </tr>\n",
       "  </thead>\n",
       "  <tbody>\n",
       "    <tr>\n",
       "      <th>count</th>\n",
       "      <td>506.00</td>\n",
       "      <td>506.00</td>\n",
       "      <td>506.00</td>\n",
       "      <td>506.00</td>\n",
       "      <td>506.00</td>\n",
       "      <td>506.00</td>\n",
       "      <td>506.00</td>\n",
       "      <td>506.00</td>\n",
       "      <td>506.00</td>\n",
       "      <td>506.00</td>\n",
       "      <td>506.00</td>\n",
       "      <td>506.00</td>\n",
       "      <td>506.00</td>\n",
       "      <td>506.00</td>\n",
       "    </tr>\n",
       "    <tr>\n",
       "      <th>mean</th>\n",
       "      <td>3.61</td>\n",
       "      <td>11.36</td>\n",
       "      <td>11.14</td>\n",
       "      <td>0.07</td>\n",
       "      <td>0.55</td>\n",
       "      <td>6.28</td>\n",
       "      <td>68.57</td>\n",
       "      <td>3.80</td>\n",
       "      <td>9.55</td>\n",
       "      <td>408.24</td>\n",
       "      <td>18.46</td>\n",
       "      <td>356.67</td>\n",
       "      <td>12.65</td>\n",
       "      <td>22.53</td>\n",
       "    </tr>\n",
       "    <tr>\n",
       "      <th>std</th>\n",
       "      <td>8.60</td>\n",
       "      <td>23.32</td>\n",
       "      <td>6.86</td>\n",
       "      <td>0.25</td>\n",
       "      <td>0.12</td>\n",
       "      <td>0.70</td>\n",
       "      <td>28.15</td>\n",
       "      <td>2.11</td>\n",
       "      <td>8.71</td>\n",
       "      <td>168.54</td>\n",
       "      <td>2.16</td>\n",
       "      <td>91.29</td>\n",
       "      <td>7.14</td>\n",
       "      <td>9.20</td>\n",
       "    </tr>\n",
       "    <tr>\n",
       "      <th>min</th>\n",
       "      <td>0.01</td>\n",
       "      <td>0.00</td>\n",
       "      <td>0.46</td>\n",
       "      <td>0.00</td>\n",
       "      <td>0.38</td>\n",
       "      <td>3.56</td>\n",
       "      <td>2.90</td>\n",
       "      <td>1.13</td>\n",
       "      <td>1.00</td>\n",
       "      <td>187.00</td>\n",
       "      <td>12.60</td>\n",
       "      <td>0.32</td>\n",
       "      <td>1.73</td>\n",
       "      <td>5.00</td>\n",
       "    </tr>\n",
       "    <tr>\n",
       "      <th>25%</th>\n",
       "      <td>0.08</td>\n",
       "      <td>0.00</td>\n",
       "      <td>5.19</td>\n",
       "      <td>0.00</td>\n",
       "      <td>0.45</td>\n",
       "      <td>5.89</td>\n",
       "      <td>45.02</td>\n",
       "      <td>2.10</td>\n",
       "      <td>4.00</td>\n",
       "      <td>279.00</td>\n",
       "      <td>17.40</td>\n",
       "      <td>375.38</td>\n",
       "      <td>6.95</td>\n",
       "      <td>17.02</td>\n",
       "    </tr>\n",
       "    <tr>\n",
       "      <th>50%</th>\n",
       "      <td>0.26</td>\n",
       "      <td>0.00</td>\n",
       "      <td>9.69</td>\n",
       "      <td>0.00</td>\n",
       "      <td>0.54</td>\n",
       "      <td>6.21</td>\n",
       "      <td>77.50</td>\n",
       "      <td>3.21</td>\n",
       "      <td>5.00</td>\n",
       "      <td>330.00</td>\n",
       "      <td>19.05</td>\n",
       "      <td>391.44</td>\n",
       "      <td>11.36</td>\n",
       "      <td>21.20</td>\n",
       "    </tr>\n",
       "    <tr>\n",
       "      <th>75%</th>\n",
       "      <td>3.68</td>\n",
       "      <td>12.50</td>\n",
       "      <td>18.10</td>\n",
       "      <td>0.00</td>\n",
       "      <td>0.62</td>\n",
       "      <td>6.62</td>\n",
       "      <td>94.07</td>\n",
       "      <td>5.19</td>\n",
       "      <td>24.00</td>\n",
       "      <td>666.00</td>\n",
       "      <td>20.20</td>\n",
       "      <td>396.22</td>\n",
       "      <td>16.96</td>\n",
       "      <td>25.00</td>\n",
       "    </tr>\n",
       "    <tr>\n",
       "      <th>max</th>\n",
       "      <td>88.98</td>\n",
       "      <td>100.00</td>\n",
       "      <td>27.74</td>\n",
       "      <td>1.00</td>\n",
       "      <td>0.87</td>\n",
       "      <td>8.78</td>\n",
       "      <td>100.00</td>\n",
       "      <td>12.13</td>\n",
       "      <td>24.00</td>\n",
       "      <td>711.00</td>\n",
       "      <td>22.00</td>\n",
       "      <td>396.90</td>\n",
       "      <td>37.97</td>\n",
       "      <td>50.00</td>\n",
       "    </tr>\n",
       "  </tbody>\n",
       "</table>\n",
       "</div>"
      ],
      "text/plain": [
       "         crim      zn   indus    chas     nox      rm     age     dis     rad  \\\n",
       "count  506.00  506.00  506.00  506.00  506.00  506.00  506.00  506.00  506.00   \n",
       "mean     3.61   11.36   11.14    0.07    0.55    6.28   68.57    3.80    9.55   \n",
       "std      8.60   23.32    6.86    0.25    0.12    0.70   28.15    2.11    8.71   \n",
       "min      0.01    0.00    0.46    0.00    0.38    3.56    2.90    1.13    1.00   \n",
       "25%      0.08    0.00    5.19    0.00    0.45    5.89   45.02    2.10    4.00   \n",
       "50%      0.26    0.00    9.69    0.00    0.54    6.21   77.50    3.21    5.00   \n",
       "75%      3.68   12.50   18.10    0.00    0.62    6.62   94.07    5.19   24.00   \n",
       "max     88.98  100.00   27.74    1.00    0.87    8.78  100.00   12.13   24.00   \n",
       "\n",
       "          tax  ptratio   black   lstat    medv  \n",
       "count  506.00   506.00  506.00  506.00  506.00  \n",
       "mean   408.24    18.46  356.67   12.65   22.53  \n",
       "std    168.54     2.16   91.29    7.14    9.20  \n",
       "min    187.00    12.60    0.32    1.73    5.00  \n",
       "25%    279.00    17.40  375.38    6.95   17.02  \n",
       "50%    330.00    19.05  391.44   11.36   21.20  \n",
       "75%    666.00    20.20  396.22   16.96   25.00  \n",
       "max    711.00    22.00  396.90   37.97   50.00  "
      ]
     },
     "execution_count": 1,
     "metadata": {},
     "output_type": "execute_result"
    }
   ],
   "source": [
    "import pandas as pd\n",
    "import numpy as np\n",
    "import matplotlib.pyplot as plt\n",
    "import seaborn as sns\n",
    "from sklearn import linear_model\n",
    "from sklearn.model_selection import train_test_split\n",
    "from sklearn.metrics import mean_squared_error, r2_score\n",
    "\n",
    "df = pd.read_csv('boston.csv')\n",
    "df_droped = df.drop(['Unnamed: 0'], axis=1)\n",
    "df_droped.describe().round(2)"
   ]
  },
  {
   "cell_type": "markdown",
   "metadata": {},
   "source": [
    "## Desafío 2: División de la muestra\n",
    "- Genere conjuntos de entrenamiento y validación con train_test_split.<br>\n",
    "- Genere segmentaciones del __33%__ para las muestras de validación.<br>\n",
    "- Incluya una semilla pseudoaleatoria"
   ]
  },
  {
   "cell_type": "code",
   "execution_count": 2,
   "metadata": {},
   "outputs": [],
   "source": [
    "# Separacion de vectores\n",
    "y_vec = df_droped.loc[:'medv']\n",
    "x_mat = df_droped.drop('medv', axis=1)\n",
    "\n",
    "# División entre entrenamiento y validación\n",
    "x_train, x_test, y_train, y_test = train_test_split(x_mat, y_vec, test_size = .33, random_state=1111)\n",
    "\n"
   ]
  },
  {
   "cell_type": "markdown",
   "metadata": {},
   "source": [
    "## Desafío 3: Generación de modelos\n",
    "- Ahora implementaremos dos versiones del modelo lineal:\n",
    "> - Con intercepto y atributos normalizados.<br>\n",
    "> - Sin intercepto y atributos no normalizados.\n",
    "\n",
    "- Cada versión debe generarse en un nuevo objeto inicializado.\n",
    "- Posteriormente se deben entrenar los modelos especificando la matriz y vector de entrenamiento.\n",
    "- Con los modelos entrenados, genere una predicción de matriz de validación.\n",
    "\n",
    "<div class=\"alert alert-block alert-warning\">\n",
    "<b>fit_intercept:</b> Incluimos la estimación del intercepto ($\\beta_0$) en el modelo.<br>\n",
    "<b>normalize:</b> Reescalar cada uno de los atributos en la muestra de prueba mediante la norma euclídea.\n",
    "</div>\n"
   ]
  },
  {
   "cell_type": "code",
   "execution_count": 3,
   "metadata": {},
   "outputs": [],
   "source": [
    "model_con_i = linear_model.LinearRegression(fit_intercept=True, normalize=True)\n",
    "model_sin_i = linear_model.LinearRegression(fit_intercept=False, normalize=False)"
   ]
  },
  {
   "cell_type": "markdown",
   "metadata": {},
   "source": [
    "##### Entrenamiento (con \".fit\")"
   ]
  },
  {
   "cell_type": "code",
   "execution_count": 4,
   "metadata": {},
   "outputs": [
    {
     "data": {
      "text/plain": [
       "LinearRegression(copy_X=True, fit_intercept=True, n_jobs=None, normalize=True)"
      ]
     },
     "execution_count": 4,
     "metadata": {},
     "output_type": "execute_result"
    }
   ],
   "source": [
    "model_con_i.fit(x_train, y_train)"
   ]
  },
  {
   "cell_type": "code",
   "execution_count": 5,
   "metadata": {},
   "outputs": [
    {
     "data": {
      "text/plain": [
       "LinearRegression(copy_X=True, fit_intercept=False, n_jobs=None,\n",
       "         normalize=False)"
      ]
     },
     "execution_count": 5,
     "metadata": {},
     "output_type": "execute_result"
    }
   ],
   "source": [
    "model_sin_i.fit(x_train, y_train)"
   ]
  },
  {
   "cell_type": "markdown",
   "metadata": {},
   "source": [
    "##### Generación de los puntajes predichos $\\hat{y}$ con \".predict\""
   ]
  },
  {
   "cell_type": "code",
   "execution_count": 6,
   "metadata": {},
   "outputs": [],
   "source": [
    "model_con_predicted = model_con_i.predict(x_test)"
   ]
  },
  {
   "cell_type": "code",
   "execution_count": 7,
   "metadata": {},
   "outputs": [],
   "source": [
    "model_sin_predicted = model_sin_i.predict(x_test)"
   ]
  },
  {
   "cell_type": "code",
   "execution_count": 8,
   "metadata": {},
   "outputs": [],
   "source": [
    "#print(len(model_con_predicted)) #167\n",
    "#print(len(model_sin_predicted)) #167\n",
    "#print(len(y_vec)) # 506\n",
    "\n",
    "#print(model_con_i.intercept_) # Imprime los interceptos de cada columna\n",
    "#print(y_test.shape) # (167, 14) 167 registros, 14 columnas"
   ]
  },
  {
   "cell_type": "markdown",
   "metadata": {},
   "source": [
    "## Desafío 4: Obtención de métricas\n",
    "- Ahora generemos una función llamada report_scores que ingrese como argumentos el vector de datos predichos y el vector de datos por validar.<br>\n",
    "- La función debe imprimir las métricas del __Error Cuadrático Promedio__ y __$R^2$__.<br>\n",
    "- Reporte las métricas para ambos modelos. En base a ello, __seleccione el mejor modelo.__"
   ]
  },
  {
   "cell_type": "markdown",
   "metadata": {},
   "source": [
    "\n",
    "\n",
    "<div class=\"alert alert-block alert-warning\">\n",
    "- <b>Promedio del Error Cuadrático (Mean Squared Error):</b> Representa la expectativa del error cuadrático. Es un indicador de calidad con valores no negativos, donde <b>menores valores indican mejores niveles de ajuste</b>. Una medida similar que se presenta en algunos trabajos es el Root Mean Squared Error que representa la raíz cuadrada del MSE.<br>\n",
    "- <b>R-cuadrado:</b> Representa la capacidad explicativa de nuestro conjunto de atributos en la variabilidad de nuestro vector objetivo. Tiene la misma interpretación que la enseñada desde la econometría.\n",
    "</div>"
   ]
  },
  {
   "cell_type": "code",
   "execution_count": 9,
   "metadata": {},
   "outputs": [],
   "source": [
    "def report_scores(test,modelo):\n",
    "    mse = mean_squared_error(test,modelo).round(2)\n",
    "    r2 = r2_score(test,modelo).round(2)\n",
    "    print(f\"MSE: {mse}\\nR2: {r2}\")"
   ]
  },
  {
   "cell_type": "markdown",
   "metadata": {},
   "source": [
    "### <center> Estadísticas Datos Empíricos vs Modelos Predichos\n"
   ]
  },
  {
   "cell_type": "code",
   "execution_count": 10,
   "metadata": {},
   "outputs": [
    {
     "name": "stdout",
     "output_type": "stream",
     "text": [
      "\n",
      "Test vs Modelo con Intercepto y Atributos Normalizados\n",
      "MSE: 1.21\n",
      "R2: 0.98\n",
      "\n",
      "Test vs Modelo sin Intercepto ni Atributos Normalizados\n",
      "MSE: 1.09\n",
      "R2: 0.98\n"
     ]
    }
   ],
   "source": [
    "\n",
    "print(\"\\nTest vs Modelo con Intercepto y Atributos Normalizados\")\n",
    "report_scores(y_test,model_con_predicted)\n",
    "print(\"\\nTest vs Modelo sin Intercepto ni Atributos Normalizados\")\n",
    "report_scores(y_test,model_sin_predicted)"
   ]
  },
  {
   "cell_type": "markdown",
   "metadata": {},
   "source": [
    "\n",
    "<div class=\"alert alert-block alert-success\">\n",
    "<b> Selección del mejor modelo</b><br>\n",
    "Dado que $R^2$ entregó valores similares, la discriminación del modelo es a través del <b>MSE</b> (Error Cuadrático Medio, donde valores menores indican mejores niveles de ajustes o cuán cerca están los puntos de los datos observados con los valores predichos del modelo), por lo tanto el modelo <b>sin intercepto ni atributos normalizados</b> sería <font color='blue'><b>El Mejor</b></font>.  \n",
    "</div>"
   ]
  },
  {
   "cell_type": "markdown",
   "metadata": {},
   "source": [
    "## Desafío 5: Refactorización del modelo\n",
    "- Genere una función llamada __fetch_features__ que ingrese como argumentos __la base de datos__ y __el nombre del vector objetivo__. El nombre del vector debe ser __medv por defecto__.<br>\n",
    "- La función debe retornar una lista con las correlaciones entre cada atributo y el vector objetivo y su nombre. <br>\n",
    "- Reporte brevemente cuales los 6 atributos con una mayor correlación con __medv__"
   ]
  },
  {
   "cell_type": "code",
   "execution_count": 11,
   "metadata": {},
   "outputs": [],
   "source": [
    "def fetch_features(df,vector_objetivo='medv'):\n",
    "    # extraemos los nombres de las columnas en la base de datos\n",
    "    columnas = df.columns\n",
    "    \n",
    "    # generamos 3 arrays vacíos para guardar los valores \n",
    "    # nombre de la variable\n",
    "    attr_name = []\n",
    "    # correlación de pearson\n",
    "    pearson_r = []\n",
    "    # valor absoluto de la correlación \n",
    "    abs_pearson_r = []\n",
    "    \n",
    "    # para cada columna en el array de columnas\n",
    "    for col in columnas:\n",
    "        # si la columna no es la dependiente \n",
    "        if col != vector_objetivo:\n",
    "            # adjuntar el nombre de la variable en attr_name\n",
    "            attr_name.append(col)\n",
    "            # adjuntar la correlación de pearson \n",
    "            pearson_r.append(df[col].corr(df[vector_objetivo]))\n",
    "            # adjuntar el valor absoluto de la correlación de pearson \n",
    "            abs_pearson_r.append(abs(df[col].corr(df[vector_objetivo])))\n",
    "            \n",
    "    # transformamos los arrays en un DataFrame\n",
    "    features = pd.DataFrame({\n",
    "        f'{vector_objetivo} vs': attr_name, \n",
    "        'corr':pearson_r, \n",
    "        'abs_corr':abs_pearson_r\n",
    "    })\n",
    "    # generamos el index con los nombres de las variables\n",
    "    features = features.set_index(f'{vector_objetivo} vs')\n",
    "    # ordenamos los valores de forma descendiente \n",
    "    features.sort_values(by=['abs_corr'], ascending=False)\n",
    "    #print(f\"Correlaciones contra {vector_objetivo}\\n\")\n",
    "    return(features)\n",
    "    "
   ]
  },
  {
   "cell_type": "code",
   "execution_count": 12,
   "metadata": {},
   "outputs": [
    {
     "data": {
      "text/html": [
       "<div>\n",
       "<style scoped>\n",
       "    .dataframe tbody tr th:only-of-type {\n",
       "        vertical-align: middle;\n",
       "    }\n",
       "\n",
       "    .dataframe tbody tr th {\n",
       "        vertical-align: top;\n",
       "    }\n",
       "\n",
       "    .dataframe thead th {\n",
       "        text-align: right;\n",
       "    }\n",
       "</style>\n",
       "<table border=\"1\" class=\"dataframe\">\n",
       "  <thead>\n",
       "    <tr style=\"text-align: right;\">\n",
       "      <th></th>\n",
       "      <th>corr</th>\n",
       "      <th>abs_corr</th>\n",
       "    </tr>\n",
       "    <tr>\n",
       "      <th>medv vs</th>\n",
       "      <th></th>\n",
       "      <th></th>\n",
       "    </tr>\n",
       "  </thead>\n",
       "  <tbody>\n",
       "    <tr>\n",
       "      <th>crim</th>\n",
       "      <td>-0.388305</td>\n",
       "      <td>0.388305</td>\n",
       "    </tr>\n",
       "    <tr>\n",
       "      <th>zn</th>\n",
       "      <td>0.360445</td>\n",
       "      <td>0.360445</td>\n",
       "    </tr>\n",
       "    <tr>\n",
       "      <th>indus</th>\n",
       "      <td>-0.483725</td>\n",
       "      <td>0.483725</td>\n",
       "    </tr>\n",
       "    <tr>\n",
       "      <th>chas</th>\n",
       "      <td>0.175260</td>\n",
       "      <td>0.175260</td>\n",
       "    </tr>\n",
       "    <tr>\n",
       "      <th>nox</th>\n",
       "      <td>-0.427321</td>\n",
       "      <td>0.427321</td>\n",
       "    </tr>\n",
       "    <tr>\n",
       "      <th>rm</th>\n",
       "      <td>0.695360</td>\n",
       "      <td>0.695360</td>\n",
       "    </tr>\n",
       "    <tr>\n",
       "      <th>age</th>\n",
       "      <td>-0.376955</td>\n",
       "      <td>0.376955</td>\n",
       "    </tr>\n",
       "    <tr>\n",
       "      <th>dis</th>\n",
       "      <td>0.249929</td>\n",
       "      <td>0.249929</td>\n",
       "    </tr>\n",
       "    <tr>\n",
       "      <th>rad</th>\n",
       "      <td>-0.381626</td>\n",
       "      <td>0.381626</td>\n",
       "    </tr>\n",
       "    <tr>\n",
       "      <th>tax</th>\n",
       "      <td>-0.468536</td>\n",
       "      <td>0.468536</td>\n",
       "    </tr>\n",
       "    <tr>\n",
       "      <th>ptratio</th>\n",
       "      <td>-0.507787</td>\n",
       "      <td>0.507787</td>\n",
       "    </tr>\n",
       "    <tr>\n",
       "      <th>black</th>\n",
       "      <td>0.333461</td>\n",
       "      <td>0.333461</td>\n",
       "    </tr>\n",
       "    <tr>\n",
       "      <th>lstat</th>\n",
       "      <td>-0.737663</td>\n",
       "      <td>0.737663</td>\n",
       "    </tr>\n",
       "  </tbody>\n",
       "</table>\n",
       "</div>"
      ],
      "text/plain": [
       "             corr  abs_corr\n",
       "medv vs                    \n",
       "crim    -0.388305  0.388305\n",
       "zn       0.360445  0.360445\n",
       "indus   -0.483725  0.483725\n",
       "chas     0.175260  0.175260\n",
       "nox     -0.427321  0.427321\n",
       "rm       0.695360  0.695360\n",
       "age     -0.376955  0.376955\n",
       "dis      0.249929  0.249929\n",
       "rad     -0.381626  0.381626\n",
       "tax     -0.468536  0.468536\n",
       "ptratio -0.507787  0.507787\n",
       "black    0.333461  0.333461\n",
       "lstat   -0.737663  0.737663"
      ]
     },
     "execution_count": 12,
     "metadata": {},
     "output_type": "execute_result"
    }
   ],
   "source": [
    "fetch_features(df_droped)"
   ]
  },
  {
   "cell_type": "code",
   "execution_count": 13,
   "metadata": {},
   "outputs": [
    {
     "data": {
      "text/html": [
       "<div>\n",
       "<style scoped>\n",
       "    .dataframe tbody tr th:only-of-type {\n",
       "        vertical-align: middle;\n",
       "    }\n",
       "\n",
       "    .dataframe tbody tr th {\n",
       "        vertical-align: top;\n",
       "    }\n",
       "\n",
       "    .dataframe thead th {\n",
       "        text-align: right;\n",
       "    }\n",
       "</style>\n",
       "<table border=\"1\" class=\"dataframe\">\n",
       "  <thead>\n",
       "    <tr style=\"text-align: right;\">\n",
       "      <th></th>\n",
       "      <th>corr</th>\n",
       "      <th>abs_corr</th>\n",
       "    </tr>\n",
       "    <tr>\n",
       "      <th>crim vs</th>\n",
       "      <th></th>\n",
       "      <th></th>\n",
       "    </tr>\n",
       "  </thead>\n",
       "  <tbody>\n",
       "    <tr>\n",
       "      <th>zn</th>\n",
       "      <td>-0.200469</td>\n",
       "      <td>0.200469</td>\n",
       "    </tr>\n",
       "    <tr>\n",
       "      <th>indus</th>\n",
       "      <td>0.406583</td>\n",
       "      <td>0.406583</td>\n",
       "    </tr>\n",
       "    <tr>\n",
       "      <th>chas</th>\n",
       "      <td>-0.055892</td>\n",
       "      <td>0.055892</td>\n",
       "    </tr>\n",
       "    <tr>\n",
       "      <th>nox</th>\n",
       "      <td>0.420972</td>\n",
       "      <td>0.420972</td>\n",
       "    </tr>\n",
       "    <tr>\n",
       "      <th>rm</th>\n",
       "      <td>-0.219247</td>\n",
       "      <td>0.219247</td>\n",
       "    </tr>\n",
       "    <tr>\n",
       "      <th>age</th>\n",
       "      <td>0.352734</td>\n",
       "      <td>0.352734</td>\n",
       "    </tr>\n",
       "    <tr>\n",
       "      <th>dis</th>\n",
       "      <td>-0.379670</td>\n",
       "      <td>0.379670</td>\n",
       "    </tr>\n",
       "    <tr>\n",
       "      <th>rad</th>\n",
       "      <td>0.625505</td>\n",
       "      <td>0.625505</td>\n",
       "    </tr>\n",
       "    <tr>\n",
       "      <th>tax</th>\n",
       "      <td>0.582764</td>\n",
       "      <td>0.582764</td>\n",
       "    </tr>\n",
       "    <tr>\n",
       "      <th>ptratio</th>\n",
       "      <td>0.289946</td>\n",
       "      <td>0.289946</td>\n",
       "    </tr>\n",
       "    <tr>\n",
       "      <th>black</th>\n",
       "      <td>-0.385064</td>\n",
       "      <td>0.385064</td>\n",
       "    </tr>\n",
       "    <tr>\n",
       "      <th>lstat</th>\n",
       "      <td>0.455621</td>\n",
       "      <td>0.455621</td>\n",
       "    </tr>\n",
       "    <tr>\n",
       "      <th>medv</th>\n",
       "      <td>-0.388305</td>\n",
       "      <td>0.388305</td>\n",
       "    </tr>\n",
       "  </tbody>\n",
       "</table>\n",
       "</div>"
      ],
      "text/plain": [
       "             corr  abs_corr\n",
       "crim vs                    \n",
       "zn      -0.200469  0.200469\n",
       "indus    0.406583  0.406583\n",
       "chas    -0.055892  0.055892\n",
       "nox      0.420972  0.420972\n",
       "rm      -0.219247  0.219247\n",
       "age      0.352734  0.352734\n",
       "dis     -0.379670  0.379670\n",
       "rad      0.625505  0.625505\n",
       "tax      0.582764  0.582764\n",
       "ptratio  0.289946  0.289946\n",
       "black   -0.385064  0.385064\n",
       "lstat    0.455621  0.455621\n",
       "medv    -0.388305  0.388305"
      ]
     },
     "execution_count": 13,
     "metadata": {},
     "output_type": "execute_result"
    }
   ],
   "source": [
    "fetch_features(df_droped,'crim')"
   ]
  },
  {
   "cell_type": "markdown",
   "metadata": {},
   "source": [
    "#### Reporte brevemente cuales los 6 atributos con una mayor correlación con __medv__"
   ]
  },
  {
   "cell_type": "code",
   "execution_count": 14,
   "metadata": {},
   "outputs": [
    {
     "data": {
      "text/html": [
       "<div>\n",
       "<style scoped>\n",
       "    .dataframe tbody tr th:only-of-type {\n",
       "        vertical-align: middle;\n",
       "    }\n",
       "\n",
       "    .dataframe tbody tr th {\n",
       "        vertical-align: top;\n",
       "    }\n",
       "\n",
       "    .dataframe thead th {\n",
       "        text-align: right;\n",
       "    }\n",
       "</style>\n",
       "<table border=\"1\" class=\"dataframe\">\n",
       "  <thead>\n",
       "    <tr style=\"text-align: right;\">\n",
       "      <th></th>\n",
       "      <th>corr</th>\n",
       "      <th>abs_corr</th>\n",
       "    </tr>\n",
       "    <tr>\n",
       "      <th>medv vs</th>\n",
       "      <th></th>\n",
       "      <th></th>\n",
       "    </tr>\n",
       "  </thead>\n",
       "  <tbody>\n",
       "    <tr>\n",
       "      <th>lstat</th>\n",
       "      <td>-0.737663</td>\n",
       "      <td>0.737663</td>\n",
       "    </tr>\n",
       "    <tr>\n",
       "      <th>rm</th>\n",
       "      <td>0.695360</td>\n",
       "      <td>0.695360</td>\n",
       "    </tr>\n",
       "    <tr>\n",
       "      <th>ptratio</th>\n",
       "      <td>-0.507787</td>\n",
       "      <td>0.507787</td>\n",
       "    </tr>\n",
       "    <tr>\n",
       "      <th>indus</th>\n",
       "      <td>-0.483725</td>\n",
       "      <td>0.483725</td>\n",
       "    </tr>\n",
       "    <tr>\n",
       "      <th>tax</th>\n",
       "      <td>-0.468536</td>\n",
       "      <td>0.468536</td>\n",
       "    </tr>\n",
       "    <tr>\n",
       "      <th>nox</th>\n",
       "      <td>-0.427321</td>\n",
       "      <td>0.427321</td>\n",
       "    </tr>\n",
       "  </tbody>\n",
       "</table>\n",
       "</div>"
      ],
      "text/plain": [
       "             corr  abs_corr\n",
       "medv vs                    \n",
       "lstat   -0.737663  0.737663\n",
       "rm       0.695360  0.695360\n",
       "ptratio -0.507787  0.507787\n",
       "indus   -0.483725  0.483725\n",
       "tax     -0.468536  0.468536\n",
       "nox     -0.427321  0.427321"
      ]
     },
     "execution_count": 14,
     "metadata": {},
     "output_type": "execute_result"
    }
   ],
   "source": [
    "dataframe_corr = fetch_features(df_droped)\n",
    "dataframe_corr.sort_values('abs_corr', ascending=False).head(6)"
   ]
  },
  {
   "cell_type": "markdown",
   "metadata": {},
   "source": [
    "<div class=\"alert alert-block alert-success\">\n",
    "<b> Selección del mejor modelo</b><br>\n",
    "Los Atributos con mayor correlación con <b>medv</b> (valor mediano de las casas) son:\n",
    "<br>- <b>lstat :</b> porcentaje de población de estratos bajos.\n",
    "<br>- <b>rm :</b> cantidad promedio de habitaciones por casa.    \n",
    "<br>- <b>ptratio :</b> razón alumno:profesor por sector de Boston.\n",
    "<br>- <b>indus :</b> proporción de negocios no asociados al comercio por sector.\n",
    "<br>- <b>tax :</b> nivel de impuestos asociados a viviendas.\n",
    "<br>- <b>nox :</b> Concentración de Dioxido de Carbono.\n",
    "\n",
    "</div>"
   ]
  },
  {
   "cell_type": "markdown",
   "metadata": {},
   "source": [
    "## Desafío 6: Refactorización del modelo predictivo\n",
    "- Genere otros conjuntos de entrenamiento y validación en base a una matriz con los 6 atributos identificados y el vector objetivo.<br>\n",
    "- Entrene un modelo en base al mejor desempeño.<br>\n",
    "- Reporte las métricas para el nuevo modelo."
   ]
  },
  {
   "cell_type": "code",
   "execution_count": 24,
   "metadata": {},
   "outputs": [],
   "source": [
    "df_6 = df_droped.loc[:,['medv','lstat','rm','ptratio','indus','tax','nox']]"
   ]
  },
  {
   "cell_type": "code",
   "execution_count": 25,
   "metadata": {},
   "outputs": [],
   "source": [
    "# Separacion de vectores\n",
    "y_vec_2 = df_6.loc[:,'medv']\n",
    "x_mat_2 = df_6.drop('medv', axis=1)"
   ]
  },
  {
   "cell_type": "code",
   "execution_count": 26,
   "metadata": {},
   "outputs": [],
   "source": [
    "# División entre entrenamiento y validación\n",
    "x_train_2, x_test_2, y_train_2, y_test_2 = train_test_split(x_mat_2, y_vec_2, test_size = .33, random_state=1111)"
   ]
  },
  {
   "cell_type": "code",
   "execution_count": 32,
   "metadata": {},
   "outputs": [
    {
     "data": {
      "text/plain": [
       "(167, 6)"
      ]
     },
     "execution_count": 32,
     "metadata": {},
     "output_type": "execute_result"
    }
   ],
   "source": [
    "x_test_2.shape"
   ]
  },
  {
   "cell_type": "code",
   "execution_count": 27,
   "metadata": {},
   "outputs": [
    {
     "data": {
      "text/plain": [
       "LinearRegression(copy_X=True, fit_intercept=False, n_jobs=None,\n",
       "         normalize=False)"
      ]
     },
     "execution_count": 27,
     "metadata": {},
     "output_type": "execute_result"
    }
   ],
   "source": [
    "model_sin_i_2 = linear_model.LinearRegression(fit_intercept=False, normalize=False)\n",
    "model_sin_i_2.fit(x_train_2, y_train_2)"
   ]
  },
  {
   "cell_type": "code",
   "execution_count": 28,
   "metadata": {},
   "outputs": [],
   "source": [
    "y_pred = model_sin_i_2.predict(x_test_2)"
   ]
  },
  {
   "cell_type": "code",
   "execution_count": 29,
   "metadata": {},
   "outputs": [
    {
     "name": "stdout",
     "output_type": "stream",
     "text": [
      "Test vs Modelo nuevo - sin Intercepto ni Atributos Normalizados:\n",
      "MSE: 18.38\n",
      "R2: 0.66\n"
     ]
    }
   ],
   "source": [
    "print(\"Test vs Modelo nuevo - sin Intercepto ni Atributos Normalizados:\")\n",
    "report_scores(y_test_2, y_pred)"
   ]
  },
  {
   "cell_type": "markdown",
   "metadata": {},
   "source": [
    "## Desafío 7: Predicción de casos\n",
    "<br>A continuación se generaron dos arrays que representan el peor escenario posible(worst_neighbor) y el mejor escenario posible (best_neighbor).\n",
    "<br>Ingrese los arrays en el modelo entrenado y reporte cuál sería el valor esperado dada las condiciones."
   ]
  },
  {
   "cell_type": "code",
   "execution_count": 30,
   "metadata": {},
   "outputs": [],
   "source": [
    "worst_neighbor = np.array([37.9, 12.6, 3.5, 27.7, 187, 0.87]).reshape(1,-1)\n",
    "best_neighbor = np.array([1.73, 22, 8.7, 0.46, 711, 0.38]).reshape(1,-1)"
   ]
  },
  {
   "cell_type": "markdown",
   "metadata": {},
   "source": [
    "#### Peor escenario"
   ]
  },
  {
   "cell_type": "code",
   "execution_count": 22,
   "metadata": {},
   "outputs": [
    {
     "name": "stdout",
     "output_type": "stream",
     "text": [
      "Valor esperado para el PEOR ESCENARIO: 65.099\n"
     ]
    }
   ],
   "source": [
    "worst_pred = model_sin_i_2.predict(worst_neighbor)\n",
    "\n",
    "print(\"Valor esperado para el PEOR ESCENARIO: {}\".format(round(next(i for i in worst_pred),3)))"
   ]
  },
  {
   "cell_type": "markdown",
   "metadata": {},
   "source": [
    "#### Mejor escenario"
   ]
  },
  {
   "cell_type": "code",
   "execution_count": 23,
   "metadata": {},
   "outputs": [
    {
     "name": "stdout",
     "output_type": "stream",
     "text": [
      "Valor esperado para el PEOR ESCENARIO: 137.781\n"
     ]
    }
   ],
   "source": [
    "best_pred = model_sin_i_2.predict(best_neighbor)\n",
    "\n",
    "print(\"Valor esperado para el PEOR ESCENARIO: {}\".format(round(next(i for i in best_pred),3)))"
   ]
  },
  {
   "cell_type": "code",
   "execution_count": null,
   "metadata": {},
   "outputs": [],
   "source": []
  }
 ],
 "metadata": {
  "kernelspec": {
   "display_name": "Python 3",
   "language": "python",
   "name": "python3"
  },
  "language_info": {
   "codemirror_mode": {
    "name": "ipython",
    "version": 3
   },
   "file_extension": ".py",
   "mimetype": "text/x-python",
   "name": "python",
   "nbconvert_exporter": "python",
   "pygments_lexer": "ipython3",
   "version": "3.7.3"
  }
 },
 "nbformat": 4,
 "nbformat_minor": 2
}
