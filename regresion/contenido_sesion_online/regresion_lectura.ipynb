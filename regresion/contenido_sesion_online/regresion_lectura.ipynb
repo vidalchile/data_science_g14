{
 "cells": [
  {
   "cell_type": "markdown",
   "metadata": {},
   "source": [
    "# Regresion"
   ]
  },
  {
   "cell_type": "markdown",
   "metadata": {},
   "source": [
    "## ¿Cómo el cambio de una variable afecta el valor de otra variable?"
   ]
  },
  {
   "cell_type": "markdown",
   "metadata": {},
   "source": [
    "### la regresión lineal"
   ]
  },
  {
   "cell_type": "markdown",
   "metadata": {},
   "source": [
    "Por lineal hablamos del caso donde nuestra variable objetivo (o dependiente) es contínua y la relación entre esta y los atributos (o variables independientes) es mediante una combinación lineal de los últimos"
   ]
  },
  {
   "cell_type": "markdown",
   "metadata": {},
   "source": [
    "Se dice <b>regresión lineal simple</b> a aquella que tiene <b>un regresor como atributo (o variable\n",
    "independiente)</b>. Más adelante hablaremos de la <b>regresión lineal múltiple</b>, aquella que tiene <b>más\n",
    "de un regresor como atributo (o variable independiente)</b>."
   ]
  },
  {
   "cell_type": "markdown",
   "metadata": {},
   "source": [
    "## Nuestro primer modelo de regresión"
   ]
  },
  {
   "cell_type": "code",
   "execution_count": 1,
   "metadata": {},
   "outputs": [],
   "source": [
    "%matplotlib inline\n",
    "import pandas as pd\n",
    "import numpy as np\n",
    "import scipy.stats as stats\n",
    "import matplotlib.pyplot as plt\n",
    "import statsmodels.api as sm\n",
    "import statsmodels.formula.api as smf\n",
    "import seaborn as sns\n",
    "import warnings\n",
    "warnings.filterwarnings(\"ignore\", category=DeprecationWarning)\n",
    "import lec5_graphs as gfx\n",
    "plt.style.use('seaborn-whitegrid') # Gráficos estilo seaborn\n",
    "plt.rcParams[\"figure.figsize\"] = (6, 4) # Tamaño gráficos\n",
    "plt.rcParams[\"figure.dpi\"] = 300 # resolución gráficos"
   ]
  },
  {
   "cell_type": "markdown",
   "metadata": {},
   "source": [
    "### statsmodels"
   ]
  },
  {
   "cell_type": "markdown",
   "metadata": {},
   "source": [
    "Ésta es una librería orientada a la modelación econométrica"
   ]
  },
  {
   "cell_type": "code",
   "execution_count": 2,
   "metadata": {},
   "outputs": [
    {
     "data": {
      "text/html": [
       "<div>\n",
       "<style scoped>\n",
       "    .dataframe tbody tr th:only-of-type {\n",
       "        vertical-align: middle;\n",
       "    }\n",
       "\n",
       "    .dataframe tbody tr th {\n",
       "        vertical-align: top;\n",
       "    }\n",
       "\n",
       "    .dataframe thead th {\n",
       "        text-align: right;\n",
       "    }\n",
       "</style>\n",
       "<table border=\"1\" class=\"dataframe\">\n",
       "  <thead>\n",
       "    <tr style=\"text-align: right;\">\n",
       "      <th></th>\n",
       "      <th>Unnamed: 0</th>\n",
       "      <th>earn</th>\n",
       "      <th>height1</th>\n",
       "      <th>height2</th>\n",
       "      <th>sex</th>\n",
       "      <th>race</th>\n",
       "      <th>hisp</th>\n",
       "      <th>ed</th>\n",
       "      <th>yearbn</th>\n",
       "      <th>height</th>\n",
       "      <th>age</th>\n",
       "      <th>age_category</th>\n",
       "      <th>eth</th>\n",
       "      <th>male</th>\n",
       "    </tr>\n",
       "  </thead>\n",
       "  <tbody>\n",
       "    <tr>\n",
       "      <th>0</th>\n",
       "      <td>3</td>\n",
       "      <td>50000.0</td>\n",
       "      <td>6</td>\n",
       "      <td>2</td>\n",
       "      <td>1</td>\n",
       "      <td>1</td>\n",
       "      <td>2</td>\n",
       "      <td>16</td>\n",
       "      <td>45</td>\n",
       "      <td>74</td>\n",
       "      <td>45</td>\n",
       "      <td>2</td>\n",
       "      <td>3</td>\n",
       "      <td>1</td>\n",
       "    </tr>\n",
       "    <tr>\n",
       "      <th>1</th>\n",
       "      <td>4</td>\n",
       "      <td>60000.0</td>\n",
       "      <td>5</td>\n",
       "      <td>6</td>\n",
       "      <td>2</td>\n",
       "      <td>1</td>\n",
       "      <td>2</td>\n",
       "      <td>16</td>\n",
       "      <td>32</td>\n",
       "      <td>66</td>\n",
       "      <td>58</td>\n",
       "      <td>3</td>\n",
       "      <td>3</td>\n",
       "      <td>0</td>\n",
       "    </tr>\n",
       "    <tr>\n",
       "      <th>2</th>\n",
       "      <td>5</td>\n",
       "      <td>30000.0</td>\n",
       "      <td>5</td>\n",
       "      <td>4</td>\n",
       "      <td>2</td>\n",
       "      <td>1</td>\n",
       "      <td>2</td>\n",
       "      <td>16</td>\n",
       "      <td>61</td>\n",
       "      <td>64</td>\n",
       "      <td>29</td>\n",
       "      <td>1</td>\n",
       "      <td>3</td>\n",
       "      <td>0</td>\n",
       "    </tr>\n",
       "    <tr>\n",
       "      <th>3</th>\n",
       "      <td>9</td>\n",
       "      <td>51000.0</td>\n",
       "      <td>5</td>\n",
       "      <td>3</td>\n",
       "      <td>2</td>\n",
       "      <td>1</td>\n",
       "      <td>2</td>\n",
       "      <td>17</td>\n",
       "      <td>51</td>\n",
       "      <td>63</td>\n",
       "      <td>39</td>\n",
       "      <td>2</td>\n",
       "      <td>3</td>\n",
       "      <td>0</td>\n",
       "    </tr>\n",
       "    <tr>\n",
       "      <th>4</th>\n",
       "      <td>10</td>\n",
       "      <td>9000.0</td>\n",
       "      <td>5</td>\n",
       "      <td>4</td>\n",
       "      <td>2</td>\n",
       "      <td>1</td>\n",
       "      <td>2</td>\n",
       "      <td>15</td>\n",
       "      <td>64</td>\n",
       "      <td>64</td>\n",
       "      <td>26</td>\n",
       "      <td>1</td>\n",
       "      <td>3</td>\n",
       "      <td>0</td>\n",
       "    </tr>\n",
       "  </tbody>\n",
       "</table>\n",
       "</div>"
      ],
      "text/plain": [
       "   Unnamed: 0     earn  height1  height2  sex  race  hisp  ed  yearbn  height  \\\n",
       "0           3  50000.0        6        2    1     1     2  16      45      74   \n",
       "1           4  60000.0        5        6    2     1     2  16      32      66   \n",
       "2           5  30000.0        5        4    2     1     2  16      61      64   \n",
       "3           9  51000.0        5        3    2     1     2  17      51      63   \n",
       "4          10   9000.0        5        4    2     1     2  15      64      64   \n",
       "\n",
       "   age  age_category  eth  male  \n",
       "0   45             2    3     1  \n",
       "1   58             3    3     0  \n",
       "2   29             1    3     0  \n",
       "3   39             2    3     0  \n",
       "4   26             1    3     0  "
      ]
     },
     "execution_count": 2,
     "metadata": {},
     "output_type": "execute_result"
    }
   ],
   "source": [
    "df = pd.read_csv('earnings.csv')\n",
    "df.head()"
   ]
  },
  {
   "cell_type": "markdown",
   "metadata": {},
   "source": [
    "* <b>count:</b> La cantidad de observaciones en la muestra.\n",
    "* <b>mean:</b> La media aritmética de cada variable.\n",
    "* <b>std:</b> La desviación estandar de cada variable.\n",
    "* <b>min:</b> El valor mínimo observado de la variable en la muestra.\n",
    "* <b>25%:</b> El rango intercuartil inferior de la variable en la muestra.\n",
    "* <b>50%:</b> La mediana de la variable en la muestra.\n",
    "* <b>75%:</b> El rango intercuartil superior de la variable en la muestra.\n",
    "* <b>max:</b> El valor máximo observado de la variable en la muestra."
   ]
  },
  {
   "cell_type": "code",
   "execution_count": 3,
   "metadata": {},
   "outputs": [
    {
     "data": {
      "text/html": [
       "<div>\n",
       "<style scoped>\n",
       "    .dataframe tbody tr th:only-of-type {\n",
       "        vertical-align: middle;\n",
       "    }\n",
       "\n",
       "    .dataframe tbody tr th {\n",
       "        vertical-align: top;\n",
       "    }\n",
       "\n",
       "    .dataframe thead th {\n",
       "        text-align: right;\n",
       "    }\n",
       "</style>\n",
       "<table border=\"1\" class=\"dataframe\">\n",
       "  <thead>\n",
       "    <tr style=\"text-align: right;\">\n",
       "      <th></th>\n",
       "      <th>Unnamed: 0</th>\n",
       "      <th>earn</th>\n",
       "      <th>height1</th>\n",
       "      <th>height2</th>\n",
       "      <th>sex</th>\n",
       "      <th>race</th>\n",
       "      <th>hisp</th>\n",
       "      <th>ed</th>\n",
       "      <th>yearbn</th>\n",
       "      <th>height</th>\n",
       "      <th>age</th>\n",
       "      <th>age_category</th>\n",
       "      <th>eth</th>\n",
       "      <th>male</th>\n",
       "    </tr>\n",
       "  </thead>\n",
       "  <tbody>\n",
       "    <tr>\n",
       "      <th>count</th>\n",
       "      <td>1374.000000</td>\n",
       "      <td>1374.000000</td>\n",
       "      <td>1374.000000</td>\n",
       "      <td>1374.000000</td>\n",
       "      <td>1374.000000</td>\n",
       "      <td>1374.000000</td>\n",
       "      <td>1374.000000</td>\n",
       "      <td>1374.000000</td>\n",
       "      <td>1374.000000</td>\n",
       "      <td>1374.000000</td>\n",
       "      <td>1374.000000</td>\n",
       "      <td>1374.000000</td>\n",
       "      <td>1374.000000</td>\n",
       "      <td>1374.000000</td>\n",
       "    </tr>\n",
       "    <tr>\n",
       "      <th>mean</th>\n",
       "      <td>1029.446143</td>\n",
       "      <td>19981.433770</td>\n",
       "      <td>5.128821</td>\n",
       "      <td>5.050218</td>\n",
       "      <td>1.622999</td>\n",
       "      <td>1.167394</td>\n",
       "      <td>1.941776</td>\n",
       "      <td>13.353712</td>\n",
       "      <td>48.848617</td>\n",
       "      <td>66.596070</td>\n",
       "      <td>41.151383</td>\n",
       "      <td>1.861718</td>\n",
       "      <td>2.780204</td>\n",
       "      <td>0.377001</td>\n",
       "    </tr>\n",
       "    <tr>\n",
       "      <th>std</th>\n",
       "      <td>587.765286</td>\n",
       "      <td>19781.488482</td>\n",
       "      <td>0.360261</td>\n",
       "      <td>3.173719</td>\n",
       "      <td>0.484812</td>\n",
       "      <td>0.641772</td>\n",
       "      <td>0.234252</td>\n",
       "      <td>2.440269</td>\n",
       "      <td>15.542169</td>\n",
       "      <td>3.803324</td>\n",
       "      <td>15.542169</td>\n",
       "      <td>0.814886</td>\n",
       "      <td>0.628077</td>\n",
       "      <td>0.484812</td>\n",
       "    </tr>\n",
       "    <tr>\n",
       "      <th>min</th>\n",
       "      <td>3.000000</td>\n",
       "      <td>0.000000</td>\n",
       "      <td>4.000000</td>\n",
       "      <td>0.000000</td>\n",
       "      <td>1.000000</td>\n",
       "      <td>1.000000</td>\n",
       "      <td>1.000000</td>\n",
       "      <td>3.000000</td>\n",
       "      <td>3.000000</td>\n",
       "      <td>58.000000</td>\n",
       "      <td>18.000000</td>\n",
       "      <td>1.000000</td>\n",
       "      <td>1.000000</td>\n",
       "      <td>0.000000</td>\n",
       "    </tr>\n",
       "    <tr>\n",
       "      <th>25%</th>\n",
       "      <td>520.250000</td>\n",
       "      <td>6000.000000</td>\n",
       "      <td>5.000000</td>\n",
       "      <td>3.000000</td>\n",
       "      <td>1.000000</td>\n",
       "      <td>1.000000</td>\n",
       "      <td>2.000000</td>\n",
       "      <td>12.000000</td>\n",
       "      <td>39.000000</td>\n",
       "      <td>64.000000</td>\n",
       "      <td>29.000000</td>\n",
       "      <td>1.000000</td>\n",
       "      <td>3.000000</td>\n",
       "      <td>0.000000</td>\n",
       "    </tr>\n",
       "    <tr>\n",
       "      <th>50%</th>\n",
       "      <td>1027.500000</td>\n",
       "      <td>16000.000000</td>\n",
       "      <td>5.000000</td>\n",
       "      <td>5.000000</td>\n",
       "      <td>2.000000</td>\n",
       "      <td>1.000000</td>\n",
       "      <td>2.000000</td>\n",
       "      <td>13.000000</td>\n",
       "      <td>52.000000</td>\n",
       "      <td>66.000000</td>\n",
       "      <td>38.000000</td>\n",
       "      <td>2.000000</td>\n",
       "      <td>3.000000</td>\n",
       "      <td>0.000000</td>\n",
       "    </tr>\n",
       "    <tr>\n",
       "      <th>75%</th>\n",
       "      <td>1536.750000</td>\n",
       "      <td>28000.000000</td>\n",
       "      <td>5.000000</td>\n",
       "      <td>8.000000</td>\n",
       "      <td>2.000000</td>\n",
       "      <td>1.000000</td>\n",
       "      <td>2.000000</td>\n",
       "      <td>15.000000</td>\n",
       "      <td>61.000000</td>\n",
       "      <td>69.000000</td>\n",
       "      <td>51.000000</td>\n",
       "      <td>3.000000</td>\n",
       "      <td>3.000000</td>\n",
       "      <td>1.000000</td>\n",
       "    </tr>\n",
       "    <tr>\n",
       "      <th>max</th>\n",
       "      <td>2029.000000</td>\n",
       "      <td>200000.000000</td>\n",
       "      <td>6.000000</td>\n",
       "      <td>11.000000</td>\n",
       "      <td>2.000000</td>\n",
       "      <td>9.000000</td>\n",
       "      <td>2.000000</td>\n",
       "      <td>18.000000</td>\n",
       "      <td>72.000000</td>\n",
       "      <td>77.000000</td>\n",
       "      <td>87.000000</td>\n",
       "      <td>3.000000</td>\n",
       "      <td>4.000000</td>\n",
       "      <td>1.000000</td>\n",
       "    </tr>\n",
       "  </tbody>\n",
       "</table>\n",
       "</div>"
      ],
      "text/plain": [
       "        Unnamed: 0           earn      height1      height2          sex  \\\n",
       "count  1374.000000    1374.000000  1374.000000  1374.000000  1374.000000   \n",
       "mean   1029.446143   19981.433770     5.128821     5.050218     1.622999   \n",
       "std     587.765286   19781.488482     0.360261     3.173719     0.484812   \n",
       "min       3.000000       0.000000     4.000000     0.000000     1.000000   \n",
       "25%     520.250000    6000.000000     5.000000     3.000000     1.000000   \n",
       "50%    1027.500000   16000.000000     5.000000     5.000000     2.000000   \n",
       "75%    1536.750000   28000.000000     5.000000     8.000000     2.000000   \n",
       "max    2029.000000  200000.000000     6.000000    11.000000     2.000000   \n",
       "\n",
       "              race         hisp           ed       yearbn       height  \\\n",
       "count  1374.000000  1374.000000  1374.000000  1374.000000  1374.000000   \n",
       "mean      1.167394     1.941776    13.353712    48.848617    66.596070   \n",
       "std       0.641772     0.234252     2.440269    15.542169     3.803324   \n",
       "min       1.000000     1.000000     3.000000     3.000000    58.000000   \n",
       "25%       1.000000     2.000000    12.000000    39.000000    64.000000   \n",
       "50%       1.000000     2.000000    13.000000    52.000000    66.000000   \n",
       "75%       1.000000     2.000000    15.000000    61.000000    69.000000   \n",
       "max       9.000000     2.000000    18.000000    72.000000    77.000000   \n",
       "\n",
       "               age  age_category          eth         male  \n",
       "count  1374.000000   1374.000000  1374.000000  1374.000000  \n",
       "mean     41.151383      1.861718     2.780204     0.377001  \n",
       "std      15.542169      0.814886     0.628077     0.484812  \n",
       "min      18.000000      1.000000     1.000000     0.000000  \n",
       "25%      29.000000      1.000000     3.000000     0.000000  \n",
       "50%      38.000000      2.000000     3.000000     0.000000  \n",
       "75%      51.000000      3.000000     3.000000     1.000000  \n",
       "max      87.000000      3.000000     4.000000     1.000000  "
      ]
     },
     "execution_count": 3,
     "metadata": {},
     "output_type": "execute_result"
    }
   ],
   "source": [
    "df.describe()"
   ]
  },
  {
   "cell_type": "code",
   "execution_count": 4,
   "metadata": {},
   "outputs": [
    {
     "name": "stdout",
     "output_type": "stream",
     "text": [
      "\n",
      " sex\n",
      "2    856\n",
      "1    518\n",
      "Name: sex, dtype: int64\n",
      "2    0.622999\n",
      "1    0.377001\n",
      "Name: sex, dtype: float64\n",
      "\n",
      " race\n",
      "1    1216\n",
      "2     126\n",
      "3      17\n",
      "4      10\n",
      "9       5\n",
      "Name: race, dtype: int64\n",
      "1    0.885007\n",
      "2    0.091703\n",
      "3    0.012373\n",
      "4    0.007278\n",
      "9    0.003639\n",
      "Name: race, dtype: float64\n",
      "\n",
      " hisp\n",
      "2    1294\n",
      "1      80\n",
      "Name: hisp, dtype: int64\n",
      "2    0.941776\n",
      "1    0.058224\n",
      "Name: hisp, dtype: float64\n",
      "\n",
      " age_category\n",
      "1    564\n",
      "2    436\n",
      "3    374\n",
      "Name: age_category, dtype: int64\n",
      "1    0.410480\n",
      "2    0.317322\n",
      "3    0.272198\n",
      "Name: age_category, dtype: float64\n",
      "\n",
      " eth\n",
      "3    1144\n",
      "1     126\n",
      "2      77\n",
      "4      27\n",
      "Name: eth, dtype: int64\n",
      "3    0.832606\n",
      "1    0.091703\n",
      "2    0.056041\n",
      "4    0.019651\n",
      "Name: eth, dtype: float64\n",
      "\n",
      " male\n",
      "0    856\n",
      "1    518\n",
      "Name: male, dtype: int64\n",
      "0    0.622999\n",
      "1    0.377001\n",
      "Name: male, dtype: float64\n"
     ]
    }
   ],
   "source": [
    "# separemos todas las variables que son categóricas\n",
    "categorical_columns = ['sex', 'race', 'hisp', 'age_category', 'eth', 'male']\n",
    "\n",
    "# iniciamos un loop para cada variable categórica donde:\n",
    "for cat in categorical_columns:\n",
    "    # imprimimos el nombre\n",
    "    print(\"\\n\",cat)\n",
    "    # solicitamos la frecuencia relativa de cada categoría dentro de la variable\n",
    "    print(df[cat].value_counts())\n",
    "    # solicitamos el porcentaje de la frecuencia relativa\n",
    "    print((df[cat].value_counts()/len(df[cat])))"
   ]
  },
  {
   "cell_type": "markdown",
   "metadata": {},
   "source": [
    "### ¿Existe alguna asociación entre los ingresos generados y la altura de cada individuo?"
   ]
  },
  {
   "cell_type": "markdown",
   "metadata": {},
   "source": [
    "* <b>Primero generemos un diagrama de dispersión con sns.jointplot()</b>\n",
    "* <b>sns.jointplot(<var. independiente>, <var. dependiente>)</b>"
   ]
  },
  {
   "cell_type": "code",
   "execution_count": 5,
   "metadata": {},
   "outputs": [
    {
     "data": {
      "image/png": "[encoded data removed]",
      "text/plain": [
       "<Figure size 432x432 with 3 Axes>"
      ]
     },
     "metadata": {
      "needs_background": "light"
     },
     "output_type": "display_data"
    }
   ],
   "source": [
    "sns.jointplot(df['height'], df['earn'], kind='reg');"
   ]
  },
  {
   "cell_type": "markdown",
   "metadata": {},
   "source": [
    "* El diagrama nos informa de una asociación positiva entre ambas variables (es relativamente débil, su r de Pearson es de .30)\n",
    "* baja correlación: distribución de las variables , height => distribución relativamente normal, earn fuertemente sesgada hacia valores bajos.\n",
    "* Otro motivo que pueda estar influyendo levemente es que, si nos fijamos en los valores que toma la variable height de la tabla entregada por el método describe, los valores al parecer fueron redondeados (min, max y los cuartiles son numeros enteros), esta es la razón también de que se vean 'franjas' en el gráfico de dispersión."
   ]
  },
  {
   "cell_type": "markdown",
   "metadata": {},
   "source": [
    "## ¿Como examinar la normalidad de nuestras variables?"
   ]
  },
  {
   "cell_type": "markdown",
   "metadata": {},
   "source": [
    "### statsmodels | statsmodels"
   ]
  },
  {
   "cell_type": "code",
   "execution_count": 6,
   "metadata": {},
   "outputs": [
    {
     "data": {
      "image/png": "[encoded data removed]",
      "text/plain": [
       "<Figure size 432x288 with 1 Axes>"
      ]
     },
     "metadata": {
      "needs_background": "light"
     },
     "output_type": "display_data"
    }
   ],
   "source": [
    "sm.qqplot(df['earn'],line='q');"
   ]
  },
  {
   "cell_type": "markdown",
   "metadata": {},
   "source": [
    "<b>En el gráfico podemos observar que la variable escapa de los valores esperados en los extremos\n",
    "de la distribución. Ésto es un punto a considerar en la modelación que veremos más adelante.</b>"
   ]
  },
  {
   "cell_type": "markdown",
   "metadata": {},
   "source": [
    "<b>La opción line='q' permite trazar una línea entre cantidades observadas y esperadas en los\n",
    "cuantiles de nuestra variable. Una distribución normal tendrá la mayoría de sus datos cercanos a la\n",
    "línea.</b>"
   ]
  },
  {
   "cell_type": "markdown",
   "metadata": {},
   "source": [
    "## ejecutamos el mismo diagnóstico para height"
   ]
  },
  {
   "cell_type": "code",
   "execution_count": 7,
   "metadata": {},
   "outputs": [
    {
     "data": {
      "image/png": "[encoded data removed]",
      "text/plain": [
       "<Figure size 432x288 with 1 Axes>"
      ]
     },
     "metadata": {
      "needs_background": "light"
     },
     "output_type": "display_data"
    }
   ],
   "source": [
    "sm.qqplot(df['height'], line='q');"
   ]
  },
  {
   "cell_type": "markdown",
   "metadata": {},
   "source": [
    "## Inspeccionando contribuciones en nuestra variable dependiente: Regresión Lineal"
   ]
  },
  {
   "cell_type": "markdown",
   "metadata": {},
   "source": [
    "## ¿Como extraer información sobre cómo una variable independiente contribuye en una variable dependiente?"
   ]
  },
  {
   "cell_type": "markdown",
   "metadata": {},
   "source": [
    "## Nuestra primera regresión"
   ]
  },
  {
   "cell_type": "markdown",
   "metadata": {},
   "source": [
    "* <b>B0: intercepto (representa el punto de partida de la función lineal)</b>\n",
    "* <b>B1: pendiente (representa la contribución de X en Y cuando X cambia en 1 unidad)</b>"
   ]
  },
  {
   "cell_type": "markdown",
   "metadata": {},
   "source": [
    "## smf.ols | Método de Mínimos Cuadrados (Ordinary Least Squares)"
   ]
  },
  {
   "cell_type": "code",
   "execution_count": 8,
   "metadata": {},
   "outputs": [],
   "source": [
    "# generamos un objeto que contenga nuestra ecuación descrita\n",
    "model1 = smf.ols('earn ~ height', data = df)"
   ]
  },
  {
   "cell_type": "code",
   "execution_count": 9,
   "metadata": {},
   "outputs": [
    {
     "data": {
      "text/plain": [
       "statsmodels.regression.linear_model.OLS"
      ]
     },
     "execution_count": 9,
     "metadata": {},
     "output_type": "execute_result"
    }
   ],
   "source": [
    "# pidamos la extensión de la clase en nuestro objeto.\n",
    "model1.__class__"
   ]
  },
  {
   "cell_type": "markdown",
   "metadata": {},
   "source": [
    "## ¿Como estimar nuestro modelo? | .fit()"
   ]
  },
  {
   "cell_type": "code",
   "execution_count": 10,
   "metadata": {},
   "outputs": [],
   "source": [
    "model1 = model1.fit()"
   ]
  },
  {
   "cell_type": "markdown",
   "metadata": {},
   "source": [
    "## ¿Como solicitar los resultados? | .summary()"
   ]
  },
  {
   "cell_type": "code",
   "execution_count": 11,
   "metadata": {},
   "outputs": [
    {
     "data": {
      "text/html": [
       "<table class=\"simpletable\">\n",
       "<caption>OLS Regression Results</caption>\n",
       "<tr>\n",
       "  <th>Dep. Variable:</th>          <td>earn</td>       <th>  R-squared:         </th> <td>   0.092</td> \n",
       "</tr>\n",
       "<tr>\n",
       "  <th>Model:</th>                   <td>OLS</td>       <th>  Adj. R-squared:    </th> <td>   0.091</td> \n",
       "</tr>\n",
       "<tr>\n",
       "  <th>Method:</th>             <td>Least Squares</td>  <th>  F-statistic:       </th> <td>   138.4</td> \n",
       "</tr>\n",
       "<tr>\n",
       "  <th>Date:</th>             <td>Sun, 21 Jun 2020</td> <th>  Prob (F-statistic):</th> <td>1.65e-30</td> \n",
       "</tr>\n",
       "<tr>\n",
       "  <th>Time:</th>                 <td>20:05:47</td>     <th>  Log-Likelihood:    </th> <td> -15475.</td> \n",
       "</tr>\n",
       "<tr>\n",
       "  <th>No. Observations:</th>      <td>  1374</td>      <th>  AIC:               </th> <td>3.095e+04</td>\n",
       "</tr>\n",
       "<tr>\n",
       "  <th>Df Residuals:</th>          <td>  1372</td>      <th>  BIC:               </th> <td>3.097e+04</td>\n",
       "</tr>\n",
       "<tr>\n",
       "  <th>Df Model:</th>              <td>     1</td>      <th>                     </th>     <td> </td>    \n",
       "</tr>\n",
       "<tr>\n",
       "  <th>Covariance Type:</th>      <td>nonrobust</td>    <th>                     </th>     <td> </td>    \n",
       "</tr>\n",
       "</table>\n",
       "<table class=\"simpletable\">\n",
       "<tr>\n",
       "      <td></td>         <th>coef</th>     <th>std err</th>      <th>t</th>      <th>P>|t|</th>  <th>[0.025</th>    <th>0.975]</th>  \n",
       "</tr>\n",
       "<tr>\n",
       "  <th>Intercept</th> <td>-8.487e+04</td> <td> 8926.986</td> <td>   -9.507</td> <td> 0.000</td> <td>-1.02e+05</td> <td>-6.74e+04</td>\n",
       "</tr>\n",
       "<tr>\n",
       "  <th>height</th>    <td> 1574.4103</td> <td>  133.829</td> <td>   11.764</td> <td> 0.000</td> <td> 1311.879</td> <td> 1836.942</td>\n",
       "</tr>\n",
       "</table>\n",
       "<table class=\"simpletable\">\n",
       "<tr>\n",
       "  <th>Omnibus:</th>       <td>868.584</td> <th>  Durbin-Watson:     </th> <td>   1.903</td> \n",
       "</tr>\n",
       "<tr>\n",
       "  <th>Prob(Omnibus):</th> <td> 0.000</td>  <th>  Jarque-Bera (JB):  </th> <td>13733.247</td>\n",
       "</tr>\n",
       "<tr>\n",
       "  <th>Skew:</th>          <td> 2.677</td>  <th>  Prob(JB):          </th> <td>    0.00</td> \n",
       "</tr>\n",
       "<tr>\n",
       "  <th>Kurtosis:</th>      <td>17.533</td>  <th>  Cond. No.          </th> <td>1.17e+03</td> \n",
       "</tr>\n",
       "</table><br/><br/>Warnings:<br/>[1] Standard Errors assume that the covariance matrix of the errors is correctly specified.<br/>[2] The condition number is large, 1.17e+03. This might indicate that there are<br/>strong multicollinearity or other numerical problems."
      ],
      "text/plain": [
       "<class 'statsmodels.iolib.summary.Summary'>\n",
       "\"\"\"\n",
       "                            OLS Regression Results                            \n",
       "==============================================================================\n",
       "Dep. Variable:                   earn   R-squared:                       0.092\n",
       "Model:                            OLS   Adj. R-squared:                  0.091\n",
       "Method:                 Least Squares   F-statistic:                     138.4\n",
       "Date:                Sun, 21 Jun 2020   Prob (F-statistic):           1.65e-30\n",
       "Time:                        20:05:47   Log-Likelihood:                -15475.\n",
       "No. Observations:                1374   AIC:                         3.095e+04\n",
       "Df Residuals:                    1372   BIC:                         3.097e+04\n",
       "Df Model:                           1                                         \n",
       "Covariance Type:            nonrobust                                         \n",
       "==============================================================================\n",
       "                 coef    std err          t      P>|t|      [0.025      0.975]\n",
       "------------------------------------------------------------------------------\n",
       "Intercept  -8.487e+04   8926.986     -9.507      0.000   -1.02e+05   -6.74e+04\n",
       "height      1574.4103    133.829     11.764      0.000    1311.879    1836.942\n",
       "==============================================================================\n",
       "Omnibus:                      868.584   Durbin-Watson:                   1.903\n",
       "Prob(Omnibus):                  0.000   Jarque-Bera (JB):            13733.247\n",
       "Skew:                           2.677   Prob(JB):                         0.00\n",
       "Kurtosis:                      17.533   Cond. No.                     1.17e+03\n",
       "==============================================================================\n",
       "\n",
       "Warnings:\n",
       "[1] Standard Errors assume that the covariance matrix of the errors is correctly specified.\n",
       "[2] The condition number is large, 1.17e+03. This might indicate that there are\n",
       "strong multicollinearity or other numerical problems.\n",
       "\"\"\""
      ]
     },
     "execution_count": 11,
     "metadata": {},
     "output_type": "execute_result"
    }
   ],
   "source": [
    "model1.summary()"
   ]
  },
  {
   "cell_type": "markdown",
   "metadata": {},
   "source": [
    "## Interpretación de un modelo de regresión"
   ]
  },
  {
   "cell_type": "markdown",
   "metadata": {},
   "source": [
    "<b>Estadísticos de Bondad de Ajuste</b>"
   ]
  },
  {
   "cell_type": "markdown",
   "metadata": {},
   "source": [
    "<b>R-squared y Adj R-squared: </b>capacidad explicativa de nuestros <b>regresores (variables independientes)</b> en la variabilidad de nuestro <b>objetivo (variable dependiente)</b>. Para nuestro modelo ejecutado, la variabilidad de los ingresos en la muestra se explica en un <b>9.2%</b> por la altura de los individuos en la muestra"
   ]
  },
  {
   "cell_type": "markdown",
   "metadata": {},
   "source": [
    "<b>Adj. R-squared: </b>entrega un estadístico similar al <b>R-squared</b>, pero penalizado por la cantidad de parámetros a estimar. Dado que no hay más parámetros a estimar, las diferencias entre ambos no son substanciales"
   ]
  },
  {
   "cell_type": "markdown",
   "metadata": {},
   "source": [
    "<b>F-statistic y Prob(F-statistic): </b> distribución F, rango de variabilidad entre partes explicadas y no explicadas, El valor de F se contrasta a un <b>puntaje de corte</b>. En esta prueba se genera una hipótesis nula donde <b>el modelo no es estadísticamente válido</b> y una hipótesis alternativa donde <b>el modelo es estadísticamente válido</b>. Prob(F-statistic) <= 0.05, <b>tenemos evidencia en contra de la hipótesis nula y hay más evidencia a favor de la significancia estadística general del modelo</b>"
   ]
  },
  {
   "cell_type": "markdown",
   "metadata": {},
   "source": [
    "<b>Parámetros Estimados:</b> estimación paramétrica\n",
    "* <b>coef</b> : El parámetro estimado en sí.\n",
    "* <b>std err</b>: El error estandar asociado al parámetro.\n",
    "* <b>t</b>: El valor crítico del coeficiente.\n",
    "* <b>P>|t|</b>: El valor p que pone a prueba la <b>significancia estadística</b> del coeficiente.\n",
    "* <b>[0.025 0.975]</b>: El intervalo de confianza al 95% del parámetro."
   ]
  },
  {
   "cell_type": "markdown",
   "metadata": {},
   "source": [
    "El intercepto informa sobre el punto de partida de nuestra recta. En nuestro primer modelo, nos\n",
    "sugiere que un individuo en la muestra con 0 pulgadas de altura tendrá en promedio un salario de\n",
    "8847 dólares. La estimación de este coeficiente es significativa al 95% (nuestro valor p es menor a\n",
    "0.05)."
   ]
  },
  {
   "cell_type": "markdown",
   "metadata": {},
   "source": [
    "## Iterpretacion\n",
    "\n",
    "El coeficiente de height informa en cuánto cambia nuestro\n",
    "cuando aumenta en 1 unidad. Con un valor estimado de 1574 estadísticamente significativo al 95%, esperamos que la diferencia entre dos individuos de similares características que difieren sólo en una pulgada, sea de 1574 dólares."
   ]
  },
  {
   "cell_type": "markdown",
   "metadata": {},
   "source": [
    "<b>¿Qué pasa con un individuo que por X motivo disminuye su altura?</b>"
   ]
  },
  {
   "cell_type": "markdown",
   "metadata": {},
   "source": [
    "## Validez de las estimaciones | Mínimos Cuadrados Ordinarios (MCO)"
   ]
  },
  {
   "cell_type": "markdown",
   "metadata": {},
   "source": [
    "El objetivo del MCO es <b>encontrar un estimador que reduzca la distancia residual entre los\n",
    "valores predichos y sus correlatos observados.</b>"
   ]
  },
  {
   "cell_type": "markdown",
   "metadata": {},
   "source": [
    "<b>Observación:</b> <b>MCO</b> es un método intuitivo y fácil de entender y programar, sin embargo, está lejos\n",
    "de ser perfecto, una de las más grandes debilidades de MCO es que es extremadamente sensible a\n",
    "valores extremos <b>(outliers)</b>."
   ]
  },
  {
   "cell_type": "code",
   "execution_count": 12,
   "metadata": {},
   "outputs": [
    {
     "data": {
      "image/png": "[encoded data removed]",
      "text/plain": [
       "<Figure size 432x288 with 1 Axes>"
      ]
     },
     "metadata": {
      "needs_background": "light"
     },
     "output_type": "display_data"
    }
   ],
   "source": [
    "gfx.gauss_markov()"
   ]
  },
  {
   "cell_type": "markdown",
   "metadata": {},
   "source": [
    "<b>El cumplimiento de las condiciones de Gauss Markov nos asegurará que el estimador será el\n",
    "estimador lineal insesgado y óptimo, obteniendo el estimador eficiente dentro de la clase de\n",
    "estimadores lineales insesgados.</b>"
   ]
  },
  {
   "cell_type": "markdown",
   "metadata": {},
   "source": [
    "### ¿Cuáles son las condiciones de Gauss-Markov?"
   ]
  },
  {
   "cell_type": "markdown",
   "metadata": {},
   "source": [
    "* <b>La media del error es 0</b>\n",
    "* <b>Independencia del error y las variables explicativas</b>\n",
    "* <b>Ausencia de correlación entre los residuos</b>\n",
    "* <b>Ausencia de correlación entre la varianza y las variables</b>\n",
    "* <b>Distribución normal de los errores</b>"
   ]
  },
  {
   "cell_type": "markdown",
   "metadata": {},
   "source": [
    "### Digresión: ¿Qué supuestos son los más relevantes?"
   ]
  },
  {
   "cell_type": "markdown",
   "metadata": {},
   "source": [
    "## Diagnósticos de nuestro modelo"
   ]
  },
  {
   "cell_type": "markdown",
   "metadata": {},
   "source": [
    "### statsmodels | plot_regress_exog"
   ]
  },
  {
   "cell_type": "code",
   "execution_count": 13,
   "metadata": {},
   "outputs": [
    {
     "data": {
      "image/png": "[encoded data removed]",
      "text/plain": [
       "<Figure size 432x288 with 4 Axes>"
      ]
     },
     "metadata": {
      "needs_background": "light"
     },
     "output_type": "display_data"
    }
   ],
   "source": [
    "sm.graphics.plot_regress_exog(model1, 'height');"
   ]
  },
  {
   "cell_type": "markdown",
   "metadata": {},
   "source": [
    "* <b>Y and Fitted vs. X: </b>Grafica los valores predichos ( ) y valores empíricos a lo largo de X. Sirve\n",
    "para visualizar en qué valores de X se genera una mejor predicción de los valores empíricos.\n",
    "Observamos que hay valores que se escapan substancialmente de lo predicho cuando la\n",
    "altura es cercana a las 70 pulgadas.\n",
    "* <b>Residuals versus X:</b> Permite visualizar la heterocedasticidad del modelo al graficar el error\n",
    "residual ( ) a lo largo de nuestra variable exógena.\n",
    "* <b>Partial regression plot:</b> Grafica la evolución de la expectativa de la variable dependiente\n",
    "condicional a los valores de la variable independiente estandarizada.\n",
    "* <b>CCPR Plot (Component and Component Plus Residual): </b>Generan un gráfico entre el\n",
    "componente (X) y los residuales de predicción. Permiten diagnosticar espeficicaciones a la\n",
    "variable."
   ]
  },
  {
   "cell_type": "markdown",
   "metadata": {},
   "source": [
    "## Variables independientes binarias y sus amigas"
   ]
  },
  {
   "cell_type": "markdown",
   "metadata": {},
   "source": [
    "### Regresión con una variable binaria"
   ]
  },
  {
   "cell_type": "markdown",
   "metadata": {},
   "source": [
    "<b>variable independiente puede tomar dos valores ejem:</b> 1 para hombres y 0 para mujeres (Binaria)"
   ]
  },
  {
   "cell_type": "markdown",
   "metadata": {},
   "source": [
    "## ¿Existe alguna relacion el ser hombre en los salarios? "
   ]
  },
  {
   "cell_type": "code",
   "execution_count": 14,
   "metadata": {},
   "outputs": [
    {
     "data": {
      "text/plain": [
       "19125.0"
      ]
     },
     "execution_count": 14,
     "metadata": {},
     "output_type": "execute_result"
    }
   ],
   "source": [
    "df.loc[df['male'] == 0 ]['earn'].quantile(.75) - df.loc[df['male'] == 0]['earn'].quantile(.25)"
   ]
  },
  {
   "cell_type": "code",
   "execution_count": 15,
   "metadata": {},
   "outputs": [
    {
     "data": {
      "text/plain": [
       "<matplotlib.axes._subplots.AxesSubplot at 0x7f94aab27240>"
      ]
     },
     "execution_count": 15,
     "metadata": {},
     "output_type": "execute_result"
    },
    {
     "data": {
      "image/png": "[encoded data removed]",
      "text/plain": [
       "<Figure size 432x288 with 1 Axes>"
      ]
     },
     "metadata": {
      "needs_background": "light"
     },
     "output_type": "display_data"
    }
   ],
   "source": [
    "sns.boxplot(x=df['male'], y=df['earn'])"
   ]
  },
  {
   "cell_type": "markdown",
   "metadata": {},
   "source": [
    "### Interpretacion \n",
    "<b>observamos que el rango del salario para los hombres es mucho mayor que el de las mujeres y la mediana se sitúa en salarios más altos.</b>"
   ]
  },
  {
   "cell_type": "markdown",
   "metadata": {},
   "source": [
    "### Digresión: Sobre las variables binarias"
   ]
  },
  {
   "cell_type": "code",
   "execution_count": 16,
   "metadata": {},
   "outputs": [
    {
     "data": {
      "text/html": [
       "<table class=\"simpletable\">\n",
       "<caption>OLS Regression Results</caption>\n",
       "<tr>\n",
       "  <th>Dep. Variable:</th>          <td>earn</td>       <th>  R-squared:         </th> <td>   0.124</td> \n",
       "</tr>\n",
       "<tr>\n",
       "  <th>Model:</th>                   <td>OLS</td>       <th>  Adj. R-squared:    </th> <td>   0.124</td> \n",
       "</tr>\n",
       "<tr>\n",
       "  <th>Method:</th>             <td>Least Squares</td>  <th>  F-statistic:       </th> <td>   194.5</td> \n",
       "</tr>\n",
       "<tr>\n",
       "  <th>Date:</th>             <td>Sun, 21 Jun 2020</td> <th>  Prob (F-statistic):</th> <td>1.95e-41</td> \n",
       "</tr>\n",
       "<tr>\n",
       "  <th>Time:</th>                 <td>20:05:50</td>     <th>  Log-Likelihood:    </th> <td> -15450.</td> \n",
       "</tr>\n",
       "<tr>\n",
       "  <th>No. Observations:</th>      <td>  1374</td>      <th>  AIC:               </th> <td>3.090e+04</td>\n",
       "</tr>\n",
       "<tr>\n",
       "  <th>Df Residuals:</th>          <td>  1372</td>      <th>  BIC:               </th> <td>3.092e+04</td>\n",
       "</tr>\n",
       "<tr>\n",
       "  <th>Df Model:</th>              <td>     1</td>      <th>                     </th>     <td> </td>    \n",
       "</tr>\n",
       "<tr>\n",
       "  <th>Covariance Type:</th>      <td>nonrobust</td>    <th>                     </th>     <td> </td>    \n",
       "</tr>\n",
       "</table>\n",
       "<table class=\"simpletable\">\n",
       "<tr>\n",
       "      <td></td>         <th>coef</th>     <th>std err</th>      <th>t</th>      <th>P>|t|</th>  <th>[0.025</th>    <th>0.975]</th>  \n",
       "</tr>\n",
       "<tr>\n",
       "  <th>Intercept</th> <td> 1.456e+04</td> <td>  632.986</td> <td>   23.004</td> <td> 0.000</td> <td> 1.33e+04</td> <td> 1.58e+04</td>\n",
       "</tr>\n",
       "<tr>\n",
       "  <th>male</th>      <td> 1.438e+04</td> <td> 1030.915</td> <td>   13.946</td> <td> 0.000</td> <td> 1.24e+04</td> <td> 1.64e+04</td>\n",
       "</tr>\n",
       "</table>\n",
       "<table class=\"simpletable\">\n",
       "<tr>\n",
       "  <th>Omnibus:</th>       <td>864.521</td> <th>  Durbin-Watson:     </th> <td>   1.912</td> \n",
       "</tr>\n",
       "<tr>\n",
       "  <th>Prob(Omnibus):</th> <td> 0.000</td>  <th>  Jarque-Bera (JB):  </th> <td>13531.216</td>\n",
       "</tr>\n",
       "<tr>\n",
       "  <th>Skew:</th>          <td> 2.664</td>  <th>  Prob(JB):          </th> <td>    0.00</td> \n",
       "</tr>\n",
       "<tr>\n",
       "  <th>Kurtosis:</th>      <td>17.421</td>  <th>  Cond. No.          </th> <td>    2.43</td> \n",
       "</tr>\n",
       "</table><br/><br/>Warnings:<br/>[1] Standard Errors assume that the covariance matrix of the errors is correctly specified."
      ],
      "text/plain": [
       "<class 'statsmodels.iolib.summary.Summary'>\n",
       "\"\"\"\n",
       "                            OLS Regression Results                            \n",
       "==============================================================================\n",
       "Dep. Variable:                   earn   R-squared:                       0.124\n",
       "Model:                            OLS   Adj. R-squared:                  0.124\n",
       "Method:                 Least Squares   F-statistic:                     194.5\n",
       "Date:                Sun, 21 Jun 2020   Prob (F-statistic):           1.95e-41\n",
       "Time:                        20:05:50   Log-Likelihood:                -15450.\n",
       "No. Observations:                1374   AIC:                         3.090e+04\n",
       "Df Residuals:                    1372   BIC:                         3.092e+04\n",
       "Df Model:                           1                                         \n",
       "Covariance Type:            nonrobust                                         \n",
       "==============================================================================\n",
       "                 coef    std err          t      P>|t|      [0.025      0.975]\n",
       "------------------------------------------------------------------------------\n",
       "Intercept   1.456e+04    632.986     23.004      0.000    1.33e+04    1.58e+04\n",
       "male        1.438e+04   1030.915     13.946      0.000    1.24e+04    1.64e+04\n",
       "==============================================================================\n",
       "Omnibus:                      864.521   Durbin-Watson:                   1.912\n",
       "Prob(Omnibus):                  0.000   Jarque-Bera (JB):            13531.216\n",
       "Skew:                           2.664   Prob(JB):                         0.00\n",
       "Kurtosis:                      17.421   Cond. No.                         2.43\n",
       "==============================================================================\n",
       "\n",
       "Warnings:\n",
       "[1] Standard Errors assume that the covariance matrix of the errors is correctly specified.\n",
       "\"\"\""
      ]
     },
     "execution_count": 16,
     "metadata": {},
     "output_type": "execute_result"
    }
   ],
   "source": [
    "model_dummy = smf.ols('earn ~male', data = df).fit()\n",
    "model_dummy.summary()"
   ]
  },
  {
   "cell_type": "markdown",
   "metadata": {},
   "source": [
    "### Interpretacion\n",
    "Si ejecutamos el modelo con una variable binaria de forma 'earn ~ male', observamos que el\n",
    "sexo del individuo explica en un <b>12.4%</b> la variabilidad en el <b>salario de la muestra</b> (esto al ver el R-squared reportado).El intercepto sugiere que para las <b>mujeres</b> el salario promedio es de <b>14,560\n",
    "dólares</b>, mientras que los hombres presentan una diferencia de <b>14,380 dólares más en promedio</b>.\n",
    "Ambos coeficientes son significativos al <b>99%</b>."
   ]
  },
  {
   "cell_type": "markdown",
   "metadata": {},
   "source": [
    "## Regresión con una variable polinomial"
   ]
  },
  {
   "cell_type": "markdown",
   "metadata": {},
   "source": [
    "<b>no linealidades en las variables independientes</b>"
   ]
  },
  {
   "cell_type": "markdown",
   "metadata": {},
   "source": [
    "## ¿los individuos con mayor edad tienden a percibir menores niveles de ingreso?"
   ]
  },
  {
   "cell_type": "markdown",
   "metadata": {},
   "source": [
    "### sns.regplot"
   ]
  },
  {
   "cell_type": "code",
   "execution_count": 17,
   "metadata": {},
   "outputs": [
    {
     "data": {
      "image/png": "[encoded data removed]",
      "text/plain": [
       "<Figure size 432x288 with 1 Axes>"
      ]
     },
     "metadata": {
      "needs_background": "light"
     },
     "output_type": "display_data"
    }
   ],
   "source": [
    "# generamos un scatterplot entre age y earn\n",
    "sns.regplot(df['age'], df['earn'],\n",
    "# donde definimos que estimaremos una recta con dos grados polinomiales\n",
    "order=2,\n",
    "# y declaramos el color de la recta para diferenciar.\n",
    "line_kws={'color':'tomato'});"
   ]
  },
  {
   "cell_type": "markdown",
   "metadata": {},
   "source": [
    "## Interpretacion\n",
    "Se aprecia que la recta indica una <b>parábola negativa</b>: esperamos <b>un peak</b> en el salario percibido\n",
    "cuando los individuos están cerca a los 50 años de edad, <b>declinando</b> después de esa edad."
   ]
  },
  {
   "cell_type": "code",
   "execution_count": 18,
   "metadata": {},
   "outputs": [
    {
     "data": {
      "text/html": [
       "<table class=\"simpletable\">\n",
       "<caption>OLS Regression Results</caption>\n",
       "<tr>\n",
       "  <th>Dep. Variable:</th>          <td>earn</td>       <th>  R-squared:         </th> <td>   0.057</td> \n",
       "</tr>\n",
       "<tr>\n",
       "  <th>Model:</th>                   <td>OLS</td>       <th>  Adj. R-squared:    </th> <td>   0.055</td> \n",
       "</tr>\n",
       "<tr>\n",
       "  <th>Method:</th>             <td>Least Squares</td>  <th>  F-statistic:       </th> <td>   41.06</td> \n",
       "</tr>\n",
       "<tr>\n",
       "  <th>Date:</th>             <td>Sun, 21 Jun 2020</td> <th>  Prob (F-statistic):</th> <td>4.80e-18</td> \n",
       "</tr>\n",
       "<tr>\n",
       "  <th>Time:</th>                 <td>21:07:42</td>     <th>  Log-Likelihood:    </th> <td> -15501.</td> \n",
       "</tr>\n",
       "<tr>\n",
       "  <th>No. Observations:</th>      <td>  1374</td>      <th>  AIC:               </th> <td>3.101e+04</td>\n",
       "</tr>\n",
       "<tr>\n",
       "  <th>Df Residuals:</th>          <td>  1371</td>      <th>  BIC:               </th> <td>3.102e+04</td>\n",
       "</tr>\n",
       "<tr>\n",
       "  <th>Df Model:</th>              <td>     2</td>      <th>                     </th>     <td> </td>    \n",
       "</tr>\n",
       "<tr>\n",
       "  <th>Covariance Type:</th>      <td>nonrobust</td>    <th>                     </th>     <td> </td>    \n",
       "</tr>\n",
       "</table>\n",
       "<table class=\"simpletable\">\n",
       "<tr>\n",
       "      <td></td>         <th>coef</th>     <th>std err</th>      <th>t</th>      <th>P>|t|</th>  <th>[0.025</th>    <th>0.975]</th>  \n",
       "</tr>\n",
       "<tr>\n",
       "  <th>Intercept</th> <td>-1.566e+04</td> <td> 3975.144</td> <td>   -3.940</td> <td> 0.000</td> <td>-2.35e+04</td> <td>-7863.055</td>\n",
       "</tr>\n",
       "<tr>\n",
       "  <th>age</th>       <td> 1664.1728</td> <td>  184.765</td> <td>    9.007</td> <td> 0.000</td> <td> 1301.719</td> <td> 2026.626</td>\n",
       "</tr>\n",
       "<tr>\n",
       "  <th>age_sq</th>    <td>  -16.9734</td> <td>    1.956</td> <td>   -8.678</td> <td> 0.000</td> <td>  -20.810</td> <td>  -13.137</td>\n",
       "</tr>\n",
       "</table>\n",
       "<table class=\"simpletable\">\n",
       "<tr>\n",
       "  <th>Omnibus:</th>       <td>843.307</td> <th>  Durbin-Watson:     </th> <td>   1.956</td> \n",
       "</tr>\n",
       "<tr>\n",
       "  <th>Prob(Omnibus):</th> <td> 0.000</td>  <th>  Jarque-Bera (JB):  </th> <td>12732.413</td>\n",
       "</tr>\n",
       "<tr>\n",
       "  <th>Skew:</th>          <td> 2.585</td>  <th>  Prob(JB):          </th> <td>    0.00</td> \n",
       "</tr>\n",
       "<tr>\n",
       "  <th>Kurtosis:</th>      <td>16.988</td>  <th>  Cond. No.          </th> <td>1.86e+04</td> \n",
       "</tr>\n",
       "</table><br/><br/>Warnings:<br/>[1] Standard Errors assume that the covariance matrix of the errors is correctly specified.<br/>[2] The condition number is large, 1.86e+04. This might indicate that there are<br/>strong multicollinearity or other numerical problems."
      ],
      "text/plain": [
       "<class 'statsmodels.iolib.summary.Summary'>\n",
       "\"\"\"\n",
       "                            OLS Regression Results                            \n",
       "==============================================================================\n",
       "Dep. Variable:                   earn   R-squared:                       0.057\n",
       "Model:                            OLS   Adj. R-squared:                  0.055\n",
       "Method:                 Least Squares   F-statistic:                     41.06\n",
       "Date:                Sun, 21 Jun 2020   Prob (F-statistic):           4.80e-18\n",
       "Time:                        21:07:42   Log-Likelihood:                -15501.\n",
       "No. Observations:                1374   AIC:                         3.101e+04\n",
       "Df Residuals:                    1371   BIC:                         3.102e+04\n",
       "Df Model:                           2                                         \n",
       "Covariance Type:            nonrobust                                         \n",
       "==============================================================================\n",
       "                 coef    std err          t      P>|t|      [0.025      0.975]\n",
       "------------------------------------------------------------------------------\n",
       "Intercept  -1.566e+04   3975.144     -3.940      0.000   -2.35e+04   -7863.055\n",
       "age         1664.1728    184.765      9.007      0.000    1301.719    2026.626\n",
       "age_sq       -16.9734      1.956     -8.678      0.000     -20.810     -13.137\n",
       "==============================================================================\n",
       "Omnibus:                      843.307   Durbin-Watson:                   1.956\n",
       "Prob(Omnibus):                  0.000   Jarque-Bera (JB):            12732.413\n",
       "Skew:                           2.585   Prob(JB):                         0.00\n",
       "Kurtosis:                      16.988   Cond. No.                     1.86e+04\n",
       "==============================================================================\n",
       "\n",
       "Warnings:\n",
       "[1] Standard Errors assume that the covariance matrix of the errors is correctly specified.\n",
       "[2] The condition number is large, 1.86e+04. This might indicate that there are\n",
       "strong multicollinearity or other numerical problems.\n",
       "\"\"\""
      ]
     },
     "execution_count": 18,
     "metadata": {},
     "output_type": "execute_result"
    }
   ],
   "source": [
    "# generamos una nueva columna que guarde los resultados de elevar al cuadrado la edad\n",
    "df['age_sq'] = df['age'] ** 2\n",
    "# iniciamos el modelo incluyendo ambos términos\n",
    "model3= smf.ols('earn ~ age + age_sq', data=df).fit()\n",
    "# pedimos los resultados\n",
    "model3.summary()"
   ]
  },
  {
   "cell_type": "markdown",
   "metadata": {},
   "source": [
    "## Interpretacion"
   ]
  },
  {
   "cell_type": "markdown",
   "metadata": {},
   "source": [
    "El modelo presenta observaciones similares a las del gráfico, mientras que el primer término indica\n",
    "que hay una <b>diferencia de 1.664 dólares</b> entre <b>dos individuos</b> que <b>difieren en 1 año</b>; el segundo\n",
    "término indica una <b>penalización de 16 dólares</b> entre <b>dos individuos</b> que <b>difieren en un año de edad</b> cuando superan <b>la cúspide de ingresos</b>."
   ]
  },
  {
   "cell_type": "markdown",
   "metadata": {},
   "source": [
    "## Regresión con más de una variable independiente | regresión lineal múltiple."
   ]
  },
  {
   "cell_type": "markdown",
   "metadata": {},
   "source": [
    "## Efecto que tiene la educación y el sexo del individuo en cuánto salario percibe"
   ]
  },
  {
   "cell_type": "markdown",
   "metadata": {},
   "source": [
    "## 'variabledependiente ~ varindp1 + varindp2'"
   ]
  },
  {
   "cell_type": "code",
   "execution_count": 20,
   "metadata": {},
   "outputs": [
    {
     "data": {
      "text/html": [
       "<table class=\"simpletable\">\n",
       "<caption>OLS Regression Results</caption>\n",
       "<tr>\n",
       "  <th>Dep. Variable:</th>          <td>earn</td>       <th>  R-squared:         </th> <td>   0.231</td> \n",
       "</tr>\n",
       "<tr>\n",
       "  <th>Model:</th>                   <td>OLS</td>       <th>  Adj. R-squared:    </th> <td>   0.230</td> \n",
       "</tr>\n",
       "<tr>\n",
       "  <th>Method:</th>             <td>Least Squares</td>  <th>  F-statistic:       </th> <td>   206.4</td> \n",
       "</tr>\n",
       "<tr>\n",
       "  <th>Date:</th>             <td>Sun, 21 Jun 2020</td> <th>  Prob (F-statistic):</th> <td>4.42e-79</td> \n",
       "</tr>\n",
       "<tr>\n",
       "  <th>Time:</th>                 <td>22:55:44</td>     <th>  Log-Likelihood:    </th> <td> -15361.</td> \n",
       "</tr>\n",
       "<tr>\n",
       "  <th>No. Observations:</th>      <td>  1374</td>      <th>  AIC:               </th> <td>3.073e+04</td>\n",
       "</tr>\n",
       "<tr>\n",
       "  <th>Df Residuals:</th>          <td>  1371</td>      <th>  BIC:               </th> <td>3.074e+04</td>\n",
       "</tr>\n",
       "<tr>\n",
       "  <th>Df Model:</th>              <td>     2</td>      <th>                     </th>     <td> </td>    \n",
       "</tr>\n",
       "<tr>\n",
       "  <th>Covariance Type:</th>      <td>nonrobust</td>    <th>                     </th>     <td> </td>    \n",
       "</tr>\n",
       "</table>\n",
       "<table class=\"simpletable\">\n",
       "<tr>\n",
       "      <td></td>         <th>coef</th>     <th>std err</th>      <th>t</th>      <th>P>|t|</th>  <th>[0.025</th>    <th>0.975]</th>  \n",
       "</tr>\n",
       "<tr>\n",
       "  <th>Intercept</th> <td>-2.064e+04</td> <td> 2613.174</td> <td>   -7.898</td> <td> 0.000</td> <td>-2.58e+04</td> <td>-1.55e+04</td>\n",
       "</tr>\n",
       "<tr>\n",
       "  <th>ed</th>        <td> 2660.1759</td> <td>  192.327</td> <td>   13.832</td> <td> 0.000</td> <td> 2282.889</td> <td> 3037.462</td>\n",
       "</tr>\n",
       "<tr>\n",
       "  <th>male</th>      <td> 1.352e+04</td> <td>  968.064</td> <td>   13.968</td> <td> 0.000</td> <td> 1.16e+04</td> <td> 1.54e+04</td>\n",
       "</tr>\n",
       "</table>\n",
       "<table class=\"simpletable\">\n",
       "<tr>\n",
       "  <th>Omnibus:</th>       <td>829.868</td> <th>  Durbin-Watson:     </th> <td>   1.943</td> \n",
       "</tr>\n",
       "<tr>\n",
       "  <th>Prob(Omnibus):</th> <td> 0.000</td>  <th>  Jarque-Bera (JB):  </th> <td>12917.525</td>\n",
       "</tr>\n",
       "<tr>\n",
       "  <th>Skew:</th>          <td> 2.515</td>  <th>  Prob(JB):          </th> <td>    0.00</td> \n",
       "</tr>\n",
       "<tr>\n",
       "  <th>Kurtosis:</th>      <td>17.154</td>  <th>  Cond. No.          </th> <td>    76.2</td> \n",
       "</tr>\n",
       "</table><br/><br/>Warnings:<br/>[1] Standard Errors assume that the covariance matrix of the errors is correctly specified."
      ],
      "text/plain": [
       "<class 'statsmodels.iolib.summary.Summary'>\n",
       "\"\"\"\n",
       "                            OLS Regression Results                            \n",
       "==============================================================================\n",
       "Dep. Variable:                   earn   R-squared:                       0.231\n",
       "Model:                            OLS   Adj. R-squared:                  0.230\n",
       "Method:                 Least Squares   F-statistic:                     206.4\n",
       "Date:                Sun, 21 Jun 2020   Prob (F-statistic):           4.42e-79\n",
       "Time:                        22:55:44   Log-Likelihood:                -15361.\n",
       "No. Observations:                1374   AIC:                         3.073e+04\n",
       "Df Residuals:                    1371   BIC:                         3.074e+04\n",
       "Df Model:                           2                                         \n",
       "Covariance Type:            nonrobust                                         \n",
       "==============================================================================\n",
       "                 coef    std err          t      P>|t|      [0.025      0.975]\n",
       "------------------------------------------------------------------------------\n",
       "Intercept  -2.064e+04   2613.174     -7.898      0.000   -2.58e+04   -1.55e+04\n",
       "ed          2660.1759    192.327     13.832      0.000    2282.889    3037.462\n",
       "male        1.352e+04    968.064     13.968      0.000    1.16e+04    1.54e+04\n",
       "==============================================================================\n",
       "Omnibus:                      829.868   Durbin-Watson:                   1.943\n",
       "Prob(Omnibus):                  0.000   Jarque-Bera (JB):            12917.525\n",
       "Skew:                           2.515   Prob(JB):                         0.00\n",
       "Kurtosis:                      17.154   Cond. No.                         76.2\n",
       "==============================================================================\n",
       "\n",
       "Warnings:\n",
       "[1] Standard Errors assume that the covariance matrix of the errors is correctly specified.\n",
       "\"\"\""
      ]
     },
     "execution_count": 20,
     "metadata": {},
     "output_type": "execute_result"
    }
   ],
   "source": [
    "model2 = smf.ols('earn ~ ed + male', data=df)\n",
    "model2 = model2.fit()\n",
    "model2.summary()"
   ]
  },
  {
   "cell_type": "markdown",
   "metadata": {},
   "source": [
    "### Interpretacion:\n",
    "se aprecia que si bien la diferencia en los salarios entre dos personas\n",
    "con similares características pero que difieren en un año de educación es de <b>2660 dólares</b>. De\n",
    "manera similar a nuestro <b>modelo binario</b>, la diferencia entre hombres y mujeres en los salarios es\n",
    "de <b>13520 dólares</b> en promedio."
   ]
  },
  {
   "cell_type": "markdown",
   "metadata": {},
   "source": [
    "En este caso nuestra regresión considera una variable contínua y una variable binaria. Para este\n",
    "caso es útil separar nuestra ecuación detallada en dos posibles estimaciones:"
   ]
  },
  {
   "cell_type": "markdown",
   "metadata": {},
   "source": [
    "* <b>Ecuación para Hombres</b> donde se considera el parámetro estimado male\n",
    "* <b>Ecuación para Mujeres</b> donde la ausencia de atributo male implica que el parámetro estimado no se incluye en esa estimación"
   ]
  },
  {
   "cell_type": "code",
   "execution_count": 23,
   "metadata": {},
   "outputs": [
    {
     "data": {
      "text/html": [
       "<div>\n",
       "<style scoped>\n",
       "    .dataframe tbody tr th:only-of-type {\n",
       "        vertical-align: middle;\n",
       "    }\n",
       "\n",
       "    .dataframe tbody tr th {\n",
       "        vertical-align: top;\n",
       "    }\n",
       "\n",
       "    .dataframe thead th {\n",
       "        text-align: right;\n",
       "    }\n",
       "</style>\n",
       "<table border=\"1\" class=\"dataframe\">\n",
       "  <thead>\n",
       "    <tr style=\"text-align: right;\">\n",
       "      <th></th>\n",
       "      <th>Unnamed: 0</th>\n",
       "      <th>earn</th>\n",
       "      <th>height1</th>\n",
       "      <th>height2</th>\n",
       "      <th>sex</th>\n",
       "      <th>race</th>\n",
       "      <th>hisp</th>\n",
       "      <th>ed</th>\n",
       "      <th>yearbn</th>\n",
       "      <th>height</th>\n",
       "      <th>age</th>\n",
       "      <th>age_category</th>\n",
       "      <th>eth</th>\n",
       "      <th>male</th>\n",
       "      <th>age_sq</th>\n",
       "      <th>yhat</th>\n",
       "    </tr>\n",
       "  </thead>\n",
       "  <tbody>\n",
       "    <tr>\n",
       "      <th>0</th>\n",
       "      <td>3</td>\n",
       "      <td>50000.0</td>\n",
       "      <td>6</td>\n",
       "      <td>2</td>\n",
       "      <td>1</td>\n",
       "      <td>1</td>\n",
       "      <td>2</td>\n",
       "      <td>16</td>\n",
       "      <td>45</td>\n",
       "      <td>74</td>\n",
       "      <td>45</td>\n",
       "      <td>2</td>\n",
       "      <td>3</td>\n",
       "      <td>1</td>\n",
       "      <td>2025</td>\n",
       "      <td>35444.862717</td>\n",
       "    </tr>\n",
       "    <tr>\n",
       "      <th>1</th>\n",
       "      <td>4</td>\n",
       "      <td>60000.0</td>\n",
       "      <td>5</td>\n",
       "      <td>6</td>\n",
       "      <td>2</td>\n",
       "      <td>1</td>\n",
       "      <td>2</td>\n",
       "      <td>16</td>\n",
       "      <td>32</td>\n",
       "      <td>66</td>\n",
       "      <td>58</td>\n",
       "      <td>3</td>\n",
       "      <td>3</td>\n",
       "      <td>0</td>\n",
       "      <td>3364</td>\n",
       "      <td>21923.423771</td>\n",
       "    </tr>\n",
       "    <tr>\n",
       "      <th>2</th>\n",
       "      <td>5</td>\n",
       "      <td>30000.0</td>\n",
       "      <td>5</td>\n",
       "      <td>4</td>\n",
       "      <td>2</td>\n",
       "      <td>1</td>\n",
       "      <td>2</td>\n",
       "      <td>16</td>\n",
       "      <td>61</td>\n",
       "      <td>64</td>\n",
       "      <td>29</td>\n",
       "      <td>1</td>\n",
       "      <td>3</td>\n",
       "      <td>0</td>\n",
       "      <td>841</td>\n",
       "      <td>21923.423771</td>\n",
       "    </tr>\n",
       "    <tr>\n",
       "      <th>3</th>\n",
       "      <td>9</td>\n",
       "      <td>51000.0</td>\n",
       "      <td>5</td>\n",
       "      <td>3</td>\n",
       "      <td>2</td>\n",
       "      <td>1</td>\n",
       "      <td>2</td>\n",
       "      <td>17</td>\n",
       "      <td>51</td>\n",
       "      <td>63</td>\n",
       "      <td>39</td>\n",
       "      <td>2</td>\n",
       "      <td>3</td>\n",
       "      <td>0</td>\n",
       "      <td>1521</td>\n",
       "      <td>24583.599688</td>\n",
       "    </tr>\n",
       "    <tr>\n",
       "      <th>4</th>\n",
       "      <td>10</td>\n",
       "      <td>9000.0</td>\n",
       "      <td>5</td>\n",
       "      <td>4</td>\n",
       "      <td>2</td>\n",
       "      <td>1</td>\n",
       "      <td>2</td>\n",
       "      <td>15</td>\n",
       "      <td>64</td>\n",
       "      <td>64</td>\n",
       "      <td>26</td>\n",
       "      <td>1</td>\n",
       "      <td>3</td>\n",
       "      <td>0</td>\n",
       "      <td>676</td>\n",
       "      <td>19263.247854</td>\n",
       "    </tr>\n",
       "  </tbody>\n",
       "</table>\n",
       "</div>"
      ],
      "text/plain": [
       "   Unnamed: 0     earn  height1  height2  sex  race  hisp  ed  yearbn  height  \\\n",
       "0           3  50000.0        6        2    1     1     2  16      45      74   \n",
       "1           4  60000.0        5        6    2     1     2  16      32      66   \n",
       "2           5  30000.0        5        4    2     1     2  16      61      64   \n",
       "3           9  51000.0        5        3    2     1     2  17      51      63   \n",
       "4          10   9000.0        5        4    2     1     2  15      64      64   \n",
       "\n",
       "   age  age_category  eth  male  age_sq          yhat  \n",
       "0   45             2    3     1    2025  35444.862717  \n",
       "1   58             3    3     0    3364  21923.423771  \n",
       "2   29             1    3     0     841  21923.423771  \n",
       "3   39             2    3     0    1521  24583.599688  \n",
       "4   26             1    3     0     676  19263.247854  "
      ]
     },
     "execution_count": 23,
     "metadata": {},
     "output_type": "execute_result"
    }
   ],
   "source": [
    "# una buena práctica es generar copias de nuestro objeto para evitar modificación.\n",
    "df_dummy = df.copy()\n",
    "model_3 = smf.ols('earn ~ ed + male', df).fit()\n",
    "# ahora guardemos los valores predichos de nuestro modelo en nuestra base.\n",
    "df_dummy['yhat'] = model_3.predict()\n",
    "df_dummy.head()\n",
    "# output omitido"
   ]
  },
  {
   "cell_type": "code",
   "execution_count": 28,
   "metadata": {},
   "outputs": [
    {
     "data": {
      "text/plain": [
       "<matplotlib.legend.Legend at 0x7f94a9283f28>"
      ]
     },
     "execution_count": 28,
     "metadata": {},
     "output_type": "execute_result"
    },
    {
     "data": {
      "image/png": "[encoded data removed]",
      "text/plain": [
       "<Figure size 432x288 with 1 Axes>"
      ]
     },
     "metadata": {
      "needs_background": "light"
     },
     "output_type": "display_data"
    }
   ],
   "source": [
    "# comencemos por graficar todos los puntos en la relación\n",
    "plt.scatter(df_dummy['ed'], df_dummy['earn'], color='grey',\n",
    "label = 'Observaciones')\n",
    "\n",
    "# grafiquemos la proyección para hombres\n",
    "plt.plot(df_dummy.query('male == 1').ed,\n",
    "         df_dummy.query('male == 1').yhat, color = 'dodgerblue', label = 'Predicción Hombres')\n",
    "\n",
    "# grafiquemos la proyección para mujeres\n",
    "plt.plot(df_dummy.query('male == 0').ed, \n",
    "         df_dummy.query('male == 0').yhat, color = 'tomato', label = 'Predicción Mujeres')\n",
    "\n",
    "plt.legend()"
   ]
  },
  {
   "cell_type": "markdown",
   "metadata": {},
   "source": [
    "### Interpretar\n",
    "* El efecto estimado de ser hombre en el salario se mantiene de forma constante en la medida que cambiamos el valor del educación."
   ]
  },
  {
   "cell_type": "code",
   "execution_count": null,
   "metadata": {},
   "outputs": [],
   "source": []
  }
 ],
 "metadata": {
  "kernelspec": {
   "display_name": "Python 3",
   "language": "python",
   "name": "python3"
  },
  "language_info": {
   "codemirror_mode": {
    "name": "ipython",
    "version": 3
   },
   "file_extension": ".py",
   "mimetype": "text/x-python",
   "name": "python",
   "nbconvert_exporter": "python",
   "pygments_lexer": "ipython3",
   "version": "3.7.3"
  }
 },
 "nbformat": 4,
 "nbformat_minor": 2
}
