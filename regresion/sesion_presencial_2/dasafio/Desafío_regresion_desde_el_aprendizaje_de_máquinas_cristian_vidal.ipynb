{
 "cells": [
  {
   "cell_type": "markdown",
   "metadata": {},
   "source": [
    "## Desafío - Regresión desde el aprendizaje de máquinas\n",
    "### Cristian Vidal Muñoz"
   ]
  },
  {
   "cell_type": "markdown",
   "metadata": {},
   "source": [
    "En esta sesión trabajaremos una base de datos sobre los precios de las viviendas en Boston, utilizada en el paper Harrison Jr, D., & Rubinfeld, D. L. (1978). Hedonic housing prices and the demand for clean air. Journal of environmental economics and management, 5(1), 81-102.<br>\n",
    "\n",
    "Nuestro objetivo es __desarrollar un modelo predictivo para el valor mediano de las casas (medv)__ mediante el entrenamiento de un modelo de regresión lineal.\n",
    "\n",
    "\n",
    "- __crim :__ Tasa de criminalidad por sector de Boston\n",
    "- __zn :__ proporción de terreno residencial asignado para terrenos baldíos.\n",
    "- __indus :__ proporción de negocios no asociados al comercio por sector.\n",
    "- __chas :__ Dummy 1: Si el sector colinda con el río Charles, 0: de lo contrario.\n",
    "- __nox :__ Concentración de Dioxido de Carbono.\n",
    "- __rm :__ cantidad promedio de habitaciones por casa.\n",
    "- __age :__ proporción de casas construídas antes de 1940 \n",
    "- __dis :__ distancia promedio a cinco centros de empleos. \n",
    "- __rad :__ índice de accesibilidad a autopistas.\n",
    "- __tax :__ nivel de impuestos asociados a viviendas. \n",
    "- __ptratio :__ razón alumno:profesor por sector de Boston.\n",
    "- __black :__ proporción de afroamericanos por sector de Boston.\n",
    "- __lstat :__ porcentaje de población de estratos bajos.\n",
    "- __medv :__ valor mediano de las casas"
   ]
  },
  {
   "cell_type": "markdown",
   "metadata": {},
   "source": [
    "### Desafío 1: Prepare el ambiente de trabajo"
   ]
  },
  {
   "cell_type": "markdown",
   "metadata": {},
   "source": [
    "* Importe las librerías básicas para el análisis de datos.\n",
    "* Importe el módulo linear_model , y las funciones mean_squared_error , r2_score y train_test_split"
   ]
  },
  {
   "cell_type": "code",
   "execution_count": 1,
   "metadata": {},
   "outputs": [],
   "source": [
    "import pandas as pd\n",
    "import numpy as np\n",
    "import matplotlib.pyplot as plt\n",
    "import seaborn as sns\n",
    "from sklearn import linear_model\n",
    "from sklearn.model_selection import train_test_split\n",
    "from sklearn.metrics import mean_squared_error, r2_score"
   ]
  },
  {
   "cell_type": "markdown",
   "metadata": {},
   "source": [
    "* Importe la base de datos boston.csv y elimine la columna Unnamed: 0 ."
   ]
  },
  {
   "cell_type": "code",
   "execution_count": 2,
   "metadata": {},
   "outputs": [],
   "source": [
    "df = pd.read_csv('boston.csv')\n",
    "df_droped = df.drop(['Unnamed: 0'], axis=1)"
   ]
  },
  {
   "cell_type": "markdown",
   "metadata": {},
   "source": [
    "* Obtenga las medidas descriptivas de la base de datos con .describe()"
   ]
  },
  {
   "cell_type": "code",
   "execution_count": 3,
   "metadata": {},
   "outputs": [
    {
     "data": {
      "text/html": [
       "<div>\n",
       "<style scoped>\n",
       "    .dataframe tbody tr th:only-of-type {\n",
       "        vertical-align: middle;\n",
       "    }\n",
       "\n",
       "    .dataframe tbody tr th {\n",
       "        vertical-align: top;\n",
       "    }\n",
       "\n",
       "    .dataframe thead th {\n",
       "        text-align: right;\n",
       "    }\n",
       "</style>\n",
       "<table border=\"1\" class=\"dataframe\">\n",
       "  <thead>\n",
       "    <tr style=\"text-align: right;\">\n",
       "      <th></th>\n",
       "      <th>crim</th>\n",
       "      <th>zn</th>\n",
       "      <th>indus</th>\n",
       "      <th>chas</th>\n",
       "      <th>nox</th>\n",
       "      <th>rm</th>\n",
       "      <th>age</th>\n",
       "      <th>dis</th>\n",
       "      <th>rad</th>\n",
       "      <th>tax</th>\n",
       "      <th>ptratio</th>\n",
       "      <th>black</th>\n",
       "      <th>lstat</th>\n",
       "      <th>medv</th>\n",
       "    </tr>\n",
       "  </thead>\n",
       "  <tbody>\n",
       "    <tr>\n",
       "      <th>count</th>\n",
       "      <td>506.00</td>\n",
       "      <td>506.00</td>\n",
       "      <td>506.00</td>\n",
       "      <td>506.00</td>\n",
       "      <td>506.00</td>\n",
       "      <td>506.00</td>\n",
       "      <td>506.00</td>\n",
       "      <td>506.00</td>\n",
       "      <td>506.00</td>\n",
       "      <td>506.00</td>\n",
       "      <td>506.00</td>\n",
       "      <td>506.00</td>\n",
       "      <td>506.00</td>\n",
       "      <td>506.00</td>\n",
       "    </tr>\n",
       "    <tr>\n",
       "      <th>mean</th>\n",
       "      <td>3.61</td>\n",
       "      <td>11.36</td>\n",
       "      <td>11.14</td>\n",
       "      <td>0.07</td>\n",
       "      <td>0.55</td>\n",
       "      <td>6.28</td>\n",
       "      <td>68.57</td>\n",
       "      <td>3.80</td>\n",
       "      <td>9.55</td>\n",
       "      <td>408.24</td>\n",
       "      <td>18.46</td>\n",
       "      <td>356.67</td>\n",
       "      <td>12.65</td>\n",
       "      <td>22.53</td>\n",
       "    </tr>\n",
       "    <tr>\n",
       "      <th>std</th>\n",
       "      <td>8.60</td>\n",
       "      <td>23.32</td>\n",
       "      <td>6.86</td>\n",
       "      <td>0.25</td>\n",
       "      <td>0.12</td>\n",
       "      <td>0.70</td>\n",
       "      <td>28.15</td>\n",
       "      <td>2.11</td>\n",
       "      <td>8.71</td>\n",
       "      <td>168.54</td>\n",
       "      <td>2.16</td>\n",
       "      <td>91.29</td>\n",
       "      <td>7.14</td>\n",
       "      <td>9.20</td>\n",
       "    </tr>\n",
       "    <tr>\n",
       "      <th>min</th>\n",
       "      <td>0.01</td>\n",
       "      <td>0.00</td>\n",
       "      <td>0.46</td>\n",
       "      <td>0.00</td>\n",
       "      <td>0.38</td>\n",
       "      <td>3.56</td>\n",
       "      <td>2.90</td>\n",
       "      <td>1.13</td>\n",
       "      <td>1.00</td>\n",
       "      <td>187.00</td>\n",
       "      <td>12.60</td>\n",
       "      <td>0.32</td>\n",
       "      <td>1.73</td>\n",
       "      <td>5.00</td>\n",
       "    </tr>\n",
       "    <tr>\n",
       "      <th>25%</th>\n",
       "      <td>0.08</td>\n",
       "      <td>0.00</td>\n",
       "      <td>5.19</td>\n",
       "      <td>0.00</td>\n",
       "      <td>0.45</td>\n",
       "      <td>5.89</td>\n",
       "      <td>45.02</td>\n",
       "      <td>2.10</td>\n",
       "      <td>4.00</td>\n",
       "      <td>279.00</td>\n",
       "      <td>17.40</td>\n",
       "      <td>375.38</td>\n",
       "      <td>6.95</td>\n",
       "      <td>17.02</td>\n",
       "    </tr>\n",
       "    <tr>\n",
       "      <th>50%</th>\n",
       "      <td>0.26</td>\n",
       "      <td>0.00</td>\n",
       "      <td>9.69</td>\n",
       "      <td>0.00</td>\n",
       "      <td>0.54</td>\n",
       "      <td>6.21</td>\n",
       "      <td>77.50</td>\n",
       "      <td>3.21</td>\n",
       "      <td>5.00</td>\n",
       "      <td>330.00</td>\n",
       "      <td>19.05</td>\n",
       "      <td>391.44</td>\n",
       "      <td>11.36</td>\n",
       "      <td>21.20</td>\n",
       "    </tr>\n",
       "    <tr>\n",
       "      <th>75%</th>\n",
       "      <td>3.68</td>\n",
       "      <td>12.50</td>\n",
       "      <td>18.10</td>\n",
       "      <td>0.00</td>\n",
       "      <td>0.62</td>\n",
       "      <td>6.62</td>\n",
       "      <td>94.07</td>\n",
       "      <td>5.19</td>\n",
       "      <td>24.00</td>\n",
       "      <td>666.00</td>\n",
       "      <td>20.20</td>\n",
       "      <td>396.22</td>\n",
       "      <td>16.96</td>\n",
       "      <td>25.00</td>\n",
       "    </tr>\n",
       "    <tr>\n",
       "      <th>max</th>\n",
       "      <td>88.98</td>\n",
       "      <td>100.00</td>\n",
       "      <td>27.74</td>\n",
       "      <td>1.00</td>\n",
       "      <td>0.87</td>\n",
       "      <td>8.78</td>\n",
       "      <td>100.00</td>\n",
       "      <td>12.13</td>\n",
       "      <td>24.00</td>\n",
       "      <td>711.00</td>\n",
       "      <td>22.00</td>\n",
       "      <td>396.90</td>\n",
       "      <td>37.97</td>\n",
       "      <td>50.00</td>\n",
       "    </tr>\n",
       "  </tbody>\n",
       "</table>\n",
       "</div>"
      ],
      "text/plain": [
       "         crim      zn   indus    chas     nox      rm     age     dis     rad  \\\n",
       "count  506.00  506.00  506.00  506.00  506.00  506.00  506.00  506.00  506.00   \n",
       "mean     3.61   11.36   11.14    0.07    0.55    6.28   68.57    3.80    9.55   \n",
       "std      8.60   23.32    6.86    0.25    0.12    0.70   28.15    2.11    8.71   \n",
       "min      0.01    0.00    0.46    0.00    0.38    3.56    2.90    1.13    1.00   \n",
       "25%      0.08    0.00    5.19    0.00    0.45    5.89   45.02    2.10    4.00   \n",
       "50%      0.26    0.00    9.69    0.00    0.54    6.21   77.50    3.21    5.00   \n",
       "75%      3.68   12.50   18.10    0.00    0.62    6.62   94.07    5.19   24.00   \n",
       "max     88.98  100.00   27.74    1.00    0.87    8.78  100.00   12.13   24.00   \n",
       "\n",
       "          tax  ptratio   black   lstat    medv  \n",
       "count  506.00   506.00  506.00  506.00  506.00  \n",
       "mean   408.24    18.46  356.67   12.65   22.53  \n",
       "std    168.54     2.16   91.29    7.14    9.20  \n",
       "min    187.00    12.60    0.32    1.73    5.00  \n",
       "25%    279.00    17.40  375.38    6.95   17.02  \n",
       "50%    330.00    19.05  391.44   11.36   21.20  \n",
       "75%    666.00    20.20  396.22   16.96   25.00  \n",
       "max    711.00    22.00  396.90   37.97   50.00  "
      ]
     },
     "execution_count": 3,
     "metadata": {},
     "output_type": "execute_result"
    }
   ],
   "source": [
    "df_droped.describe().round(2)"
   ]
  },
  {
   "cell_type": "markdown",
   "metadata": {},
   "source": [
    "### Desafío 2: División de la muestra"
   ]
  },
  {
   "cell_type": "markdown",
   "metadata": {},
   "source": [
    "* Genere conjuntos de entrenamiento y validación con __train_test_split__ .\n",
    "* Genere segmentaciones del 33% para las muestras de validación.\n",
    "* Incluya una semilla pseudoaleatoria"
   ]
  },
  {
   "cell_type": "code",
   "execution_count": 4,
   "metadata": {},
   "outputs": [],
   "source": [
    "# separemos los vectores a trabajar\n",
    "y_vec= df_droped.loc[:, 'medv']\n",
    "X_mat = df_droped.drop('medv', axis=1)"
   ]
  },
  {
   "cell_type": "code",
   "execution_count": 5,
   "metadata": {},
   "outputs": [
    {
     "data": {
      "text/plain": [
       "(506,)"
      ]
     },
     "execution_count": 5,
     "metadata": {},
     "output_type": "execute_result"
    }
   ],
   "source": [
    "y_vec.shape"
   ]
  },
  {
   "cell_type": "code",
   "execution_count": 6,
   "metadata": {},
   "outputs": [
    {
     "data": {
      "text/plain": [
       "326    23.0\n",
       "271    25.2\n",
       "282    46.0\n",
       "58     23.3\n",
       "455    14.1\n",
       "Name: medv, dtype: float64"
      ]
     },
     "execution_count": 6,
     "metadata": {},
     "output_type": "execute_result"
    }
   ],
   "source": [
    "y_vec.sample(5)"
   ]
  },
  {
   "cell_type": "code",
   "execution_count": 7,
   "metadata": {},
   "outputs": [
    {
     "data": {
      "text/plain": [
       "(506, 13)"
      ]
     },
     "execution_count": 7,
     "metadata": {},
     "output_type": "execute_result"
    }
   ],
   "source": [
    "X_mat.shape"
   ]
  },
  {
   "cell_type": "code",
   "execution_count": 8,
   "metadata": {},
   "outputs": [
    {
     "data": {
      "text/html": [
       "<div>\n",
       "<style scoped>\n",
       "    .dataframe tbody tr th:only-of-type {\n",
       "        vertical-align: middle;\n",
       "    }\n",
       "\n",
       "    .dataframe tbody tr th {\n",
       "        vertical-align: top;\n",
       "    }\n",
       "\n",
       "    .dataframe thead th {\n",
       "        text-align: right;\n",
       "    }\n",
       "</style>\n",
       "<table border=\"1\" class=\"dataframe\">\n",
       "  <thead>\n",
       "    <tr style=\"text-align: right;\">\n",
       "      <th></th>\n",
       "      <th>crim</th>\n",
       "      <th>zn</th>\n",
       "      <th>indus</th>\n",
       "      <th>chas</th>\n",
       "      <th>nox</th>\n",
       "      <th>rm</th>\n",
       "      <th>age</th>\n",
       "      <th>dis</th>\n",
       "      <th>rad</th>\n",
       "      <th>tax</th>\n",
       "      <th>ptratio</th>\n",
       "      <th>black</th>\n",
       "      <th>lstat</th>\n",
       "    </tr>\n",
       "  </thead>\n",
       "  <tbody>\n",
       "    <tr>\n",
       "      <th>49</th>\n",
       "      <td>0.21977</td>\n",
       "      <td>0.0</td>\n",
       "      <td>6.91</td>\n",
       "      <td>0</td>\n",
       "      <td>0.448</td>\n",
       "      <td>5.602</td>\n",
       "      <td>62.0</td>\n",
       "      <td>6.0877</td>\n",
       "      <td>3</td>\n",
       "      <td>233</td>\n",
       "      <td>17.9</td>\n",
       "      <td>396.90</td>\n",
       "      <td>16.20</td>\n",
       "    </tr>\n",
       "    <tr>\n",
       "      <th>251</th>\n",
       "      <td>0.21409</td>\n",
       "      <td>22.0</td>\n",
       "      <td>5.86</td>\n",
       "      <td>0</td>\n",
       "      <td>0.431</td>\n",
       "      <td>6.438</td>\n",
       "      <td>8.9</td>\n",
       "      <td>7.3967</td>\n",
       "      <td>7</td>\n",
       "      <td>330</td>\n",
       "      <td>19.1</td>\n",
       "      <td>377.07</td>\n",
       "      <td>3.59</td>\n",
       "    </tr>\n",
       "    <tr>\n",
       "      <th>129</th>\n",
       "      <td>0.88125</td>\n",
       "      <td>0.0</td>\n",
       "      <td>21.89</td>\n",
       "      <td>0</td>\n",
       "      <td>0.624</td>\n",
       "      <td>5.637</td>\n",
       "      <td>94.7</td>\n",
       "      <td>1.9799</td>\n",
       "      <td>4</td>\n",
       "      <td>437</td>\n",
       "      <td>21.2</td>\n",
       "      <td>396.90</td>\n",
       "      <td>18.34</td>\n",
       "    </tr>\n",
       "    <tr>\n",
       "      <th>78</th>\n",
       "      <td>0.05646</td>\n",
       "      <td>0.0</td>\n",
       "      <td>12.83</td>\n",
       "      <td>0</td>\n",
       "      <td>0.437</td>\n",
       "      <td>6.232</td>\n",
       "      <td>53.7</td>\n",
       "      <td>5.0141</td>\n",
       "      <td>5</td>\n",
       "      <td>398</td>\n",
       "      <td>18.7</td>\n",
       "      <td>386.40</td>\n",
       "      <td>12.34</td>\n",
       "    </tr>\n",
       "    <tr>\n",
       "      <th>81</th>\n",
       "      <td>0.04462</td>\n",
       "      <td>25.0</td>\n",
       "      <td>4.86</td>\n",
       "      <td>0</td>\n",
       "      <td>0.426</td>\n",
       "      <td>6.619</td>\n",
       "      <td>70.4</td>\n",
       "      <td>5.4007</td>\n",
       "      <td>4</td>\n",
       "      <td>281</td>\n",
       "      <td>19.0</td>\n",
       "      <td>395.63</td>\n",
       "      <td>7.22</td>\n",
       "    </tr>\n",
       "  </tbody>\n",
       "</table>\n",
       "</div>"
      ],
      "text/plain": [
       "        crim    zn  indus  chas    nox     rm   age     dis  rad  tax  \\\n",
       "49   0.21977   0.0   6.91     0  0.448  5.602  62.0  6.0877    3  233   \n",
       "251  0.21409  22.0   5.86     0  0.431  6.438   8.9  7.3967    7  330   \n",
       "129  0.88125   0.0  21.89     0  0.624  5.637  94.7  1.9799    4  437   \n",
       "78   0.05646   0.0  12.83     0  0.437  6.232  53.7  5.0141    5  398   \n",
       "81   0.04462  25.0   4.86     0  0.426  6.619  70.4  5.4007    4  281   \n",
       "\n",
       "     ptratio   black  lstat  \n",
       "49      17.9  396.90  16.20  \n",
       "251     19.1  377.07   3.59  \n",
       "129     21.2  396.90  18.34  \n",
       "78      18.7  386.40  12.34  \n",
       "81      19.0  395.63   7.22  "
      ]
     },
     "execution_count": 8,
     "metadata": {},
     "output_type": "execute_result"
    }
   ],
   "source": [
    "X_mat.sample(5)"
   ]
  },
  {
   "cell_type": "code",
   "execution_count": null,
   "metadata": {},
   "outputs": [],
   "source": [
    "X_train, X_test, y_train, y_test = train_test_split(X_mat, y_vec, test_size=.33, random_state=4968)"
   ]
  },
  {
   "cell_type": "code",
   "execution_count": null,
   "metadata": {},
   "outputs": [
    {
     "data": {
      "text/plain": [
       "(339, 13)"
      ]
     },
     "execution_count": 10,
     "metadata": {},
     "output_type": "execute_result"
    }
   ],
   "source": [
    "X_train.shape"
   ]
  },
  {
   "cell_type": "code",
   "execution_count": null,
   "metadata": {},
   "outputs": [
    {
     "data": {
      "text/html": [
       "<div>\n",
       "<style scoped>\n",
       "    .dataframe tbody tr th:only-of-type {\n",
       "        vertical-align: middle;\n",
       "    }\n",
       "\n",
       "    .dataframe tbody tr th {\n",
       "        vertical-align: top;\n",
       "    }\n",
       "\n",
       "    .dataframe thead th {\n",
       "        text-align: right;\n",
       "    }\n",
       "</style>\n",
       "<table border=\"1\" class=\"dataframe\">\n",
       "  <thead>\n",
       "    <tr style=\"text-align: right;\">\n",
       "      <th></th>\n",
       "      <th>crim</th>\n",
       "      <th>zn</th>\n",
       "      <th>indus</th>\n",
       "      <th>chas</th>\n",
       "      <th>nox</th>\n",
       "      <th>rm</th>\n",
       "      <th>age</th>\n",
       "      <th>dis</th>\n",
       "      <th>rad</th>\n",
       "      <th>tax</th>\n",
       "      <th>ptratio</th>\n",
       "      <th>black</th>\n",
       "      <th>lstat</th>\n",
       "    </tr>\n",
       "  </thead>\n",
       "  <tbody>\n",
       "    <tr>\n",
       "      <th>485</th>\n",
       "      <td>3.67367</td>\n",
       "      <td>0.0</td>\n",
       "      <td>18.10</td>\n",
       "      <td>0</td>\n",
       "      <td>0.583</td>\n",
       "      <td>6.312</td>\n",
       "      <td>51.9</td>\n",
       "      <td>3.9917</td>\n",
       "      <td>24</td>\n",
       "      <td>666</td>\n",
       "      <td>20.2</td>\n",
       "      <td>388.62</td>\n",
       "      <td>10.58</td>\n",
       "    </tr>\n",
       "    <tr>\n",
       "      <th>231</th>\n",
       "      <td>0.46296</td>\n",
       "      <td>0.0</td>\n",
       "      <td>6.20</td>\n",
       "      <td>0</td>\n",
       "      <td>0.504</td>\n",
       "      <td>7.412</td>\n",
       "      <td>76.9</td>\n",
       "      <td>3.6715</td>\n",
       "      <td>8</td>\n",
       "      <td>307</td>\n",
       "      <td>17.4</td>\n",
       "      <td>376.14</td>\n",
       "      <td>5.25</td>\n",
       "    </tr>\n",
       "    <tr>\n",
       "      <th>327</th>\n",
       "      <td>0.24103</td>\n",
       "      <td>0.0</td>\n",
       "      <td>7.38</td>\n",
       "      <td>0</td>\n",
       "      <td>0.493</td>\n",
       "      <td>6.083</td>\n",
       "      <td>43.7</td>\n",
       "      <td>5.4159</td>\n",
       "      <td>5</td>\n",
       "      <td>287</td>\n",
       "      <td>19.6</td>\n",
       "      <td>396.90</td>\n",
       "      <td>12.79</td>\n",
       "    </tr>\n",
       "    <tr>\n",
       "      <th>422</th>\n",
       "      <td>12.04820</td>\n",
       "      <td>0.0</td>\n",
       "      <td>18.10</td>\n",
       "      <td>0</td>\n",
       "      <td>0.614</td>\n",
       "      <td>5.648</td>\n",
       "      <td>87.6</td>\n",
       "      <td>1.9512</td>\n",
       "      <td>24</td>\n",
       "      <td>666</td>\n",
       "      <td>20.2</td>\n",
       "      <td>291.55</td>\n",
       "      <td>14.10</td>\n",
       "    </tr>\n",
       "    <tr>\n",
       "      <th>248</th>\n",
       "      <td>0.16439</td>\n",
       "      <td>22.0</td>\n",
       "      <td>5.86</td>\n",
       "      <td>0</td>\n",
       "      <td>0.431</td>\n",
       "      <td>6.433</td>\n",
       "      <td>49.1</td>\n",
       "      <td>7.8265</td>\n",
       "      <td>7</td>\n",
       "      <td>330</td>\n",
       "      <td>19.1</td>\n",
       "      <td>374.71</td>\n",
       "      <td>9.52</td>\n",
       "    </tr>\n",
       "  </tbody>\n",
       "</table>\n",
       "</div>"
      ],
      "text/plain": [
       "         crim    zn  indus  chas    nox     rm   age     dis  rad  tax  \\\n",
       "485   3.67367   0.0  18.10     0  0.583  6.312  51.9  3.9917   24  666   \n",
       "231   0.46296   0.0   6.20     0  0.504  7.412  76.9  3.6715    8  307   \n",
       "327   0.24103   0.0   7.38     0  0.493  6.083  43.7  5.4159    5  287   \n",
       "422  12.04820   0.0  18.10     0  0.614  5.648  87.6  1.9512   24  666   \n",
       "248   0.16439  22.0   5.86     0  0.431  6.433  49.1  7.8265    7  330   \n",
       "\n",
       "     ptratio   black  lstat  \n",
       "485     20.2  388.62  10.58  \n",
       "231     17.4  376.14   5.25  \n",
       "327     19.6  396.90  12.79  \n",
       "422     20.2  291.55  14.10  \n",
       "248     19.1  374.71   9.52  "
      ]
     },
     "execution_count": 11,
     "metadata": {},
     "output_type": "execute_result"
    }
   ],
   "source": [
    "X_train.sample(5)"
   ]
  },
  {
   "cell_type": "code",
   "execution_count": null,
   "metadata": {},
   "outputs": [
    {
     "data": {
      "text/plain": [
       "(339,)"
      ]
     },
     "execution_count": 12,
     "metadata": {},
     "output_type": "execute_result"
    }
   ],
   "source": [
    "y_train.shape"
   ]
  },
  {
   "cell_type": "code",
   "execution_count": null,
   "metadata": {},
   "outputs": [
    {
     "data": {
      "text/plain": [
       "25     13.9\n",
       "228    46.7\n",
       "278    29.1\n",
       "6      22.9\n",
       "13     20.4\n",
       "Name: medv, dtype: float64"
      ]
     },
     "execution_count": 13,
     "metadata": {},
     "output_type": "execute_result"
    }
   ],
   "source": [
    "y_train.sample(5)"
   ]
  },
  {
   "cell_type": "code",
   "execution_count": null,
   "metadata": {},
   "outputs": [],
   "source": [
    "X_test.shape"
   ]
  },
  {
   "cell_type": "code",
   "execution_count": null,
   "metadata": {},
   "outputs": [],
   "source": [
    "X_test.sample(5)"
   ]
  },
  {
   "cell_type": "code",
   "execution_count": null,
   "metadata": {},
   "outputs": [],
   "source": [
    "y_test.shape"
   ]
  },
  {
   "cell_type": "code",
   "execution_count": null,
   "metadata": {},
   "outputs": [],
   "source": [
    "y_test.sample(5)"
   ]
  },
  {
   "cell_type": "markdown",
   "metadata": {},
   "source": [
    "### Desafío 3: Generación de modelos"
   ]
  },
  {
   "cell_type": "markdown",
   "metadata": {},
   "source": [
    "* Ahora implementaremos dos versiones del modelo lineal:\n",
    "    * Con intercepto y atributos normalizados.\n",
    "    * Sin intercepto y atributos no normalizados.\n",
    "* Cada versión debe generarse en un nuevo objeto inicializado.\n",
    "* Posteriormente se deben entrenar los modelos especificando la matriz y vector de entrenamiento.\n",
    "* Con los modelos entrenados, genere una predicción de matriz de validación."
   ]
  },
  {
   "cell_type": "markdown",
   "metadata": {},
   "source": [
    "___Modelo de regresión Con intercepto y atributos normalizados___"
   ]
  },
  {
   "cell_type": "code",
   "execution_count": null,
   "metadata": {},
   "outputs": [],
   "source": [
    "modelo_con_intercepto_normalizado = linear_model.LinearRegression(fit_intercept=True, normalize=True)\n",
    "modelo_con_intercepto_normalizado"
   ]
  },
  {
   "cell_type": "code",
   "execution_count": null,
   "metadata": {},
   "outputs": [],
   "source": [
    "modelo_con_intercepto_normalizado.fit(X_train, y_train) # aprendizaje, entrenar\n",
    "modelo_con_intercepto_normalizado_predict = modelo_con_intercepto_normalizado.predict(X_test)\n",
    "modelo_con_intercepto_normalizado_predict.shape"
   ]
  },
  {
   "cell_type": "markdown",
   "metadata": {},
   "source": [
    "___Modelo de regresion Sin intercepto y atributos no normalizados___"
   ]
  },
  {
   "cell_type": "code",
   "execution_count": null,
   "metadata": {},
   "outputs": [],
   "source": [
    "modelo_sin_intercepto_no_normalizado = linear_model.LinearRegression(fit_intercept=False, normalize=False)\n",
    "modelo_sin_intercepto_no_normalizado"
   ]
  },
  {
   "cell_type": "code",
   "execution_count": null,
   "metadata": {},
   "outputs": [],
   "source": [
    "modelo_sin_intercepto_no_normalizado.fit(X_train, y_train) # aprendizaje, entrenar\n",
    "modelo_sin_intercepto_no_normalizado_predict = modelo_sin_intercepto_no_normalizado.predict(X_test)\n",
    "modelo_sin_intercepto_no_normalizado_predict.shape"
   ]
  },
  {
   "cell_type": "markdown",
   "metadata": {},
   "source": [
    "### Desafío 4: Obtención de métricas"
   ]
  },
  {
   "cell_type": "markdown",
   "metadata": {},
   "source": [
    "* Ahora generemos una función llamada __report_scores__ que ingrese como argumentos el vector de datos predichos y el vector de datos por validar.\n",
    "* La función debe imprimir las métricas del __Error Cuadrático Promedio__ y __R2__.\n",
    "* Reporte las métricas para ambos modelos. En base a ello, __seleccione el mejor modelo__."
   ]
  },
  {
   "cell_type": "code",
   "execution_count": null,
   "metadata": {},
   "outputs": [],
   "source": [
    "# Comparar el poder predictivo entre los dos modelos mediante el promedio del error__\n",
    "def report_scores(y_test, modelo_predict):\n",
    "    mse_modelo = mean_squared_error(y_test, modelo_predict).round(0)\n",
    "    r2_modelo = r2_score(y_test, modelo_predict).round(2)\n",
    "    print(\"Mean Squared Error: {}\".format(mse_modelo))\n",
    "    print(\"R-cuadrado: {}\".format(r2_modelo))"
   ]
  },
  {
   "cell_type": "code",
   "execution_count": null,
   "metadata": {},
   "outputs": [],
   "source": [
    "print(\"Modelo con Intercepto y Atributos Normalizados\")\n",
    "print(\"------------------------------------------------\")\n",
    "report_scores(y_test, modelo_con_intercepto_normalizado_predict)"
   ]
  },
  {
   "cell_type": "code",
   "execution_count": null,
   "metadata": {},
   "outputs": [],
   "source": [
    "print(\"Modelo sin Intercepto y Atributos no Normalizados\")\n",
    "print(\"------------------------------------------------\")\n",
    "report_scores(y_test, modelo_sin_intercepto_no_normalizado_predict)"
   ]
  },
  {
   "cell_type": "markdown",
   "metadata": {},
   "source": [
    "__Existe evidencia para preferir el Modelo con Intercepto y Atributos Normalizados, dado que presenta un mejor nivel de ajuste (Mean Squared Error) y una mejor capacidad explicativa (R-cuadrado) en la variabilidad de nuestro vector objetivo.__"
   ]
  },
  {
   "cell_type": "markdown",
   "metadata": {},
   "source": [
    "### Desafío 5: Refactorización del modelo"
   ]
  },
  {
   "cell_type": "markdown",
   "metadata": {},
   "source": [
    "* Genere una función llamada fetch_features que ingrese como argumentos la base de datos y el nombre del vector objetivo. El nombre del vector debe ser medv por defecto\n",
    "* La función debe retornar una lista con las correlaciones entre cada atributo y el vector objetivo y su nombre.\n",
    "* Reporte brevemente cuales los 6 atributos con una mayor correlación con medv"
   ]
  },
  {
   "cell_type": "code",
   "execution_count": null,
   "metadata": {},
   "outputs": [],
   "source": [
    "def fetch_features(dataframe, vector_objetivo=\"medv\"):\n",
    "    # extraemos los nombres de las columnas en la base de datos\n",
    "    columns = dataframe.columns\n",
    "    # generamos 3 arrays vacíos para guardar los valores\n",
    "    # nombre de la variable\n",
    "    attr_name = []\n",
    "    # correlación de pearson\n",
    "    pearson_r = []\n",
    "    # valor absoluto de la correlación\n",
    "    abs_pearson_r = []\n",
    "    # para cada columna en el array de columnas\n",
    "    for col in columns:\n",
    "        # si la columna no es la dependiente\n",
    "        if col != vector_objetivo:\n",
    "            # adjuntar el nombre de la variable en attr_name\n",
    "            attr_name.append(col)\n",
    "            # adjuntar la correlación de pearson\n",
    "            pearson_r.append(dataframe[col].corr(dataframe[vector_objetivo]))\n",
    "            # adjuntar el absoluto de la correlación de pearson\n",
    "            abs_pearson_r.append(abs(dataframe[col].corr(dataframe[vector_objetivo])))\n",
    "    # transformamos los arrays en un DataFrame\n",
    "    features = pd.DataFrame({\n",
    "        'attribute': attr_name,\n",
    "        'corr':pearson_r,\n",
    "        'abs_corr':abs_pearson_r\n",
    "    })\n",
    "    # generamos el index con los nombres de las variables\n",
    "    features = features.set_index('attribute')\n",
    "    # ordenamos los valores de forma descendiente\n",
    "    return features.sort_values(by=['abs_corr'], ascending=False)"
   ]
  },
  {
   "cell_type": "code",
   "execution_count": null,
   "metadata": {},
   "outputs": [],
   "source": [
    "fetch_features(df_droped)"
   ]
  },
  {
   "cell_type": "markdown",
   "metadata": {},
   "source": [
    "__Para reducir el error cuadrático seleccionaremos aquellas correlaciones que sean superior al .40.__"
   ]
  },
  {
   "cell_type": "code",
   "execution_count": null,
   "metadata": {},
   "outputs": [],
   "source": [
    "fetch_features(df_droped).head(6)"
   ]
  },
  {
   "cell_type": "markdown",
   "metadata": {},
   "source": [
    "__Los 6 atributos con una mayor correlación con el valor mediano de las casas (medv) son: porcentaje de población de estratos bajos (lstat), cantidad promedio de habitaciones por casa (rm), cantidad promedio de habitaciones por casa (ptratio), proporción de negocios no asociados al comercio por sector (indus), nivel de impuestos asociados a viviendas (tax) y Concentración de dióxido de carbono (nox).__"
   ]
  },
  {
   "cell_type": "markdown",
   "metadata": {},
   "source": [
    "### Desafío 6: Refactorización del modelo predictivo"
   ]
  },
  {
   "cell_type": "markdown",
   "metadata": {},
   "source": [
    "* Genere otros conjuntos de entrenamiento y validación en base a una matriz con los 6 atributos identificados y el vector objetivo.\n",
    "* Entrene un modelo en base al mejor desempeño.\n",
    "* Reporte las métricas para el nuevo modelo"
   ]
  },
  {
   "cell_type": "code",
   "execution_count": null,
   "metadata": {},
   "outputs": [],
   "source": [
    "# separemos los vectores a trabajar\n",
    "y_vec_ref = df.loc[:, 'medv']\n",
    "X_mat_ref = df.loc[:, ['lstat', 'rm', 'ptratio', 'indus', 'tax', 'nox']]"
   ]
  },
  {
   "cell_type": "code",
   "execution_count": null,
   "metadata": {},
   "outputs": [],
   "source": [
    "X_train_ref, X_test_ref, y_train_ref, y_test_ref = train_test_split(X_mat_ref, \n",
    "                                                                    y_vec_ref, \n",
    "                                                                    test_size=.33, \n",
    "                                                                    random_state=4968)"
   ]
  },
  {
   "cell_type": "code",
   "execution_count": null,
   "metadata": {},
   "outputs": [],
   "source": [
    "modelo_refactorizado = linear_model.LinearRegression(fit_intercept=True, normalize=True)\n",
    "modelo_refactorizado.fit(X_train_ref, y_train_ref)\n",
    "modelo_refactorizado_predict = modelo_refactorizado.predict(X_test_ref)"
   ]
  },
  {
   "cell_type": "code",
   "execution_count": null,
   "metadata": {},
   "outputs": [],
   "source": [
    "modelo_refactorizado_predict.shape"
   ]
  },
  {
   "cell_type": "code",
   "execution_count": null,
   "metadata": {},
   "outputs": [],
   "source": [
    "report_scores(y_test, modelo_con_intercepto_normalizado_predict)"
   ]
  },
  {
   "cell_type": "code",
   "execution_count": null,
   "metadata": {},
   "outputs": [],
   "source": [
    "print(\"Modelo con Intercepto y Atributos Normalizados (Refactorizado) \")\n",
    "print(\"------------------------------------------------\")\n",
    "report_scores(y_test_ref, modelo_refactorizado_predict)"
   ]
  },
  {
   "cell_type": "markdown",
   "metadata": {},
   "source": [
    "__Podemos observar que el modelo \"refactorizado\" presenta un \"aumento leve\" en el valor de Mean Squared Error y una \"disminución\" del valor R-cuadrado en comparación con el Modelo con Intercepto y Atributos Normalizados elegido__"
   ]
  },
  {
   "cell_type": "markdown",
   "metadata": {},
   "source": [
    "### Desafío 7: Predicción de casos | (Pendiente)"
   ]
  },
  {
   "cell_type": "code",
   "execution_count": null,
   "metadata": {},
   "outputs": [],
   "source": []
  }
 ],
 "metadata": {
  "kernelspec": {
   "display_name": "Python 3",
   "language": "python",
   "name": "python3"
  },
  "language_info": {
   "codemirror_mode": {
    "name": "ipython",
    "version": 3
   },
   "file_extension": ".py",
   "mimetype": "text/x-python",
   "name": "python",
   "nbconvert_exporter": "python",
   "pygments_lexer": "ipython3",
   "version": "3.7.3"
  }
 },
 "nbformat": 4,
 "nbformat_minor": 2
}
