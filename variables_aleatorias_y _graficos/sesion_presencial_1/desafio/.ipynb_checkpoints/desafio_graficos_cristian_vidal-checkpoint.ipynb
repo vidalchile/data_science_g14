{
 "cells": [
  {
   "cell_type": "markdown",
   "metadata": {},
   "source": [
    "# Desafío - Gráficos\n",
    "## Cristian Vidal"
   ]
  },
  {
   "cell_type": "code",
   "execution_count": 1,
   "metadata": {},
   "outputs": [],
   "source": [
    "import pandas as pd\n",
    "import numpy as np\n",
    "import matplotlib.pyplot as plt"
   ]
  },
  {
   "cell_type": "code",
   "execution_count": 2,
   "metadata": {},
   "outputs": [],
   "source": [
    "df = pd.read_csv('qog_std_cs_jan18.csv');"
   ]
  },
  {
   "cell_type": "markdown",
   "metadata": {},
   "source": [
    "### 1. Genere una submuestra de casos"
   ]
  },
  {
   "cell_type": "markdown",
   "metadata": {},
   "source": [
    "* Utilice los últimos 4 dígitos de su rut como semilla pseudoaleatoria"
   ]
  },
  {
   "cell_type": "code",
   "execution_count": 3,
   "metadata": {},
   "outputs": [],
   "source": [
    "semilla_pseudoaleatoria = 4968"
   ]
  },
  {
   "cell_type": "markdown",
   "metadata": {},
   "source": [
    "* Seleccione el 50% de los casos\n",
    "* Cada base generada debe contener los siguientes elementos:\n",
    "    * El índice de desarrollo humano ( undp_hdi )\n",
    "    * El nombre del país ( ccodealp )\n",
    "    * La región a la que pertenece ( ht_region )\n",
    "    * El PIB per capita. ( gle_cgdpc )\n",
    "    * El total de la población ( imf_pop )\n",
    "* Si su apellido está entre la N y la Z, escoja las siguientes variables del módulo Salud:\n",
    "    * wef_imort : Infant mortality, deaths/1000 live births\n",
    "    * who_alc2000 : Alcohol consumption per capita (2000-)\n",
    "    * who_tobt : Current smoking of any tobacco product (Total).\n",
    "    * wdi_exph : Government expenditure on health, total (% of GDP)\n",
    "* Guarde esta tabla procesada en un nuevo objeto"
   ]
  },
  {
   "cell_type": "code",
   "execution_count": 4,
   "metadata": {},
   "outputs": [],
   "source": [
    "submuestra_pseudoaleatoria = df.sample(frac=0.5, random_state=semilla_pseudoaleatoria)\n",
    "submuestra = submuestra_pseudoaleatoria.loc[:,['undp_hdi', 'ccodealp', 'cname', 'ht_region', \n",
    "                                                'gle_cgdpc', 'imf_pop', 'wef_imort',\n",
    "                                                'who_alc2000', 'who_tobt', 'wdi_exph']]"
   ]
  },
  {
   "cell_type": "code",
   "execution_count": 5,
   "metadata": {},
   "outputs": [
    {
     "data": {
      "text/html": [
       "<div>\n",
       "<style scoped>\n",
       "    .dataframe tbody tr th:only-of-type {\n",
       "        vertical-align: middle;\n",
       "    }\n",
       "\n",
       "    .dataframe tbody tr th {\n",
       "        vertical-align: top;\n",
       "    }\n",
       "\n",
       "    .dataframe thead th {\n",
       "        text-align: right;\n",
       "    }\n",
       "</style>\n",
       "<table border=\"1\" class=\"dataframe\">\n",
       "  <thead>\n",
       "    <tr style=\"text-align: right;\">\n",
       "      <th></th>\n",
       "      <th>undp_hdi</th>\n",
       "      <th>ccodealp</th>\n",
       "      <th>cname</th>\n",
       "      <th>ht_region</th>\n",
       "      <th>gle_cgdpc</th>\n",
       "      <th>imf_pop</th>\n",
       "      <th>wef_imort</th>\n",
       "      <th>who_alc2000</th>\n",
       "      <th>who_tobt</th>\n",
       "      <th>wdi_exph</th>\n",
       "    </tr>\n",
       "  </thead>\n",
       "  <tbody>\n",
       "    <tr>\n",
       "      <th>147</th>\n",
       "      <td>0.720</td>\n",
       "      <td>VCT</td>\n",
       "      <td>St Vincent and the Grenadines</td>\n",
       "      <td>10</td>\n",
       "      <td>7454.87990</td>\n",
       "      <td>0.110000</td>\n",
       "      <td>NaN</td>\n",
       "      <td>7.01</td>\n",
       "      <td>NaN</td>\n",
       "      <td>8.630239</td>\n",
       "    </tr>\n",
       "    <tr>\n",
       "      <th>186</th>\n",
       "      <td>0.918</td>\n",
       "      <td>USA</td>\n",
       "      <td>United States</td>\n",
       "      <td>5</td>\n",
       "      <td>47769.69900</td>\n",
       "      <td>318.789001</td>\n",
       "      <td>6.000000</td>\n",
       "      <td>8.82</td>\n",
       "      <td>18.100000</td>\n",
       "      <td>17.140755</td>\n",
       "    </tr>\n",
       "    <tr>\n",
       "      <th>140</th>\n",
       "      <td>0.603</td>\n",
       "      <td>TLS</td>\n",
       "      <td>Timor-Leste</td>\n",
       "      <td>7</td>\n",
       "      <td>1957.81010</td>\n",
       "      <td>1.146000</td>\n",
       "      <td>47.799999</td>\n",
       "      <td>0.50</td>\n",
       "      <td>NaN</td>\n",
       "      <td>1.475303</td>\n",
       "    </tr>\n",
       "    <tr>\n",
       "      <th>63</th>\n",
       "      <td>0.450</td>\n",
       "      <td>GMB</td>\n",
       "      <td>Gambia</td>\n",
       "      <td>4</td>\n",
       "      <td>1601.88000</td>\n",
       "      <td>NaN</td>\n",
       "      <td>49.200001</td>\n",
       "      <td>3.41</td>\n",
       "      <td>NaN</td>\n",
       "      <td>7.340401</td>\n",
       "    </tr>\n",
       "    <tr>\n",
       "      <th>35</th>\n",
       "      <td>0.845</td>\n",
       "      <td>CHL</td>\n",
       "      <td>Chile</td>\n",
       "      <td>2</td>\n",
       "      <td>15519.08000</td>\n",
       "      <td>17.819000</td>\n",
       "      <td>7.800000</td>\n",
       "      <td>7.16</td>\n",
       "      <td>38.900002</td>\n",
       "      <td>7.785858</td>\n",
       "    </tr>\n",
       "    <tr>\n",
       "      <th>26</th>\n",
       "      <td>0.406</td>\n",
       "      <td>BDI</td>\n",
       "      <td>Burundi</td>\n",
       "      <td>4</td>\n",
       "      <td>663.57001</td>\n",
       "      <td>NaN</td>\n",
       "      <td>66.900002</td>\n",
       "      <td>4.16</td>\n",
       "      <td>NaN</td>\n",
       "      <td>7.535565</td>\n",
       "    </tr>\n",
       "    <tr>\n",
       "      <th>95</th>\n",
       "      <td>0.495</td>\n",
       "      <td>LSO</td>\n",
       "      <td>Lesotho</td>\n",
       "      <td>4</td>\n",
       "      <td>1539.79000</td>\n",
       "      <td>NaN</td>\n",
       "      <td>74.199997</td>\n",
       "      <td>2.39</td>\n",
       "      <td>25.400000</td>\n",
       "      <td>10.617677</td>\n",
       "    </tr>\n",
       "    <tr>\n",
       "      <th>65</th>\n",
       "      <td>0.575</td>\n",
       "      <td>GHA</td>\n",
       "      <td>Ghana</td>\n",
       "      <td>4</td>\n",
       "      <td>2584.60010</td>\n",
       "      <td>NaN</td>\n",
       "      <td>48.599998</td>\n",
       "      <td>1.64</td>\n",
       "      <td>6.300000</td>\n",
       "      <td>3.557292</td>\n",
       "    </tr>\n",
       "    <tr>\n",
       "      <th>146</th>\n",
       "      <td>0.735</td>\n",
       "      <td>LCA</td>\n",
       "      <td>St Lucia</td>\n",
       "      <td>10</td>\n",
       "      <td>11095.80000</td>\n",
       "      <td>0.167000</td>\n",
       "      <td>NaN</td>\n",
       "      <td>9.97</td>\n",
       "      <td>NaN</td>\n",
       "      <td>6.719041</td>\n",
       "    </tr>\n",
       "    <tr>\n",
       "      <th>23</th>\n",
       "      <td>0.864</td>\n",
       "      <td>BRN</td>\n",
       "      <td>Brunei</td>\n",
       "      <td>7</td>\n",
       "      <td>46103.84000</td>\n",
       "      <td>0.412000</td>\n",
       "      <td>5.600000</td>\n",
       "      <td>0.97</td>\n",
       "      <td>16.400000</td>\n",
       "      <td>2.648163</td>\n",
       "    </tr>\n",
       "  </tbody>\n",
       "</table>\n",
       "</div>"
      ],
      "text/plain": [
       "     undp_hdi ccodealp                          cname  ht_region    gle_cgdpc  \\\n",
       "147     0.720      VCT  St Vincent and the Grenadines         10   7454.87990   \n",
       "186     0.918      USA                  United States          5  47769.69900   \n",
       "140     0.603      TLS                    Timor-Leste          7   1957.81010   \n",
       "63      0.450      GMB                         Gambia          4   1601.88000   \n",
       "35      0.845      CHL                          Chile          2  15519.08000   \n",
       "26      0.406      BDI                        Burundi          4    663.57001   \n",
       "95      0.495      LSO                        Lesotho          4   1539.79000   \n",
       "65      0.575      GHA                          Ghana          4   2584.60010   \n",
       "146     0.735      LCA                       St Lucia         10  11095.80000   \n",
       "23      0.864      BRN                         Brunei          7  46103.84000   \n",
       "\n",
       "        imf_pop  wef_imort  who_alc2000   who_tobt   wdi_exph  \n",
       "147    0.110000        NaN         7.01        NaN   8.630239  \n",
       "186  318.789001   6.000000         8.82  18.100000  17.140755  \n",
       "140    1.146000  47.799999         0.50        NaN   1.475303  \n",
       "63          NaN  49.200001         3.41        NaN   7.340401  \n",
       "35    17.819000   7.800000         7.16  38.900002   7.785858  \n",
       "26          NaN  66.900002         4.16        NaN   7.535565  \n",
       "95          NaN  74.199997         2.39  25.400000  10.617677  \n",
       "65          NaN  48.599998         1.64   6.300000   3.557292  \n",
       "146    0.167000        NaN         9.97        NaN   6.719041  \n",
       "23     0.412000   5.600000         0.97  16.400000   2.648163  "
      ]
     },
     "execution_count": 5,
     "metadata": {},
     "output_type": "execute_result"
    }
   ],
   "source": [
    "submuestra.sample(10)"
   ]
  },
  {
   "cell_type": "markdown",
   "metadata": {},
   "source": [
    "#### Renombre las categorías de la variable ht_region de números a regiones"
   ]
  },
  {
   "cell_type": "code",
   "execution_count": 6,
   "metadata": {},
   "outputs": [],
   "source": [
    "submuestra['region_recod'] = submuestra['ht_region'].replace([1, 2, 3, 4, 5, 6, 7, 8, 9, 10],\n",
    "                                                            ['EastEurope', 'LatAm', 'NorthAfrica',\n",
    "                                                            'SubSaharian', 'WesternDem', 'EastAsia',\n",
    "                                                            'SouthEastAsia','SouthAsia','Pacific', \n",
    "                                                            'Caribbean' ])"
   ]
  },
  {
   "cell_type": "code",
   "execution_count": 7,
   "metadata": {},
   "outputs": [
    {
     "data": {
      "text/html": [
       "<div>\n",
       "<style scoped>\n",
       "    .dataframe tbody tr th:only-of-type {\n",
       "        vertical-align: middle;\n",
       "    }\n",
       "\n",
       "    .dataframe tbody tr th {\n",
       "        vertical-align: top;\n",
       "    }\n",
       "\n",
       "    .dataframe thead th {\n",
       "        text-align: right;\n",
       "    }\n",
       "</style>\n",
       "<table border=\"1\" class=\"dataframe\">\n",
       "  <thead>\n",
       "    <tr style=\"text-align: right;\">\n",
       "      <th></th>\n",
       "      <th>undp_hdi</th>\n",
       "      <th>ccodealp</th>\n",
       "      <th>cname</th>\n",
       "      <th>ht_region</th>\n",
       "      <th>gle_cgdpc</th>\n",
       "      <th>imf_pop</th>\n",
       "      <th>wef_imort</th>\n",
       "      <th>who_alc2000</th>\n",
       "      <th>who_tobt</th>\n",
       "      <th>wdi_exph</th>\n",
       "      <th>region_recod</th>\n",
       "    </tr>\n",
       "  </thead>\n",
       "  <tbody>\n",
       "    <tr>\n",
       "      <th>147</th>\n",
       "      <td>0.720</td>\n",
       "      <td>VCT</td>\n",
       "      <td>St Vincent and the Grenadines</td>\n",
       "      <td>10</td>\n",
       "      <td>7454.8799</td>\n",
       "      <td>0.110000</td>\n",
       "      <td>NaN</td>\n",
       "      <td>7.01</td>\n",
       "      <td>NaN</td>\n",
       "      <td>8.630239</td>\n",
       "      <td>Caribbean</td>\n",
       "    </tr>\n",
       "    <tr>\n",
       "      <th>86</th>\n",
       "      <td>0.793</td>\n",
       "      <td>KAZ</td>\n",
       "      <td>Kazakhstan</td>\n",
       "      <td>1</td>\n",
       "      <td>14098.8800</td>\n",
       "      <td>17.422001</td>\n",
       "      <td>16.700001</td>\n",
       "      <td>6.29</td>\n",
       "      <td>26.299999</td>\n",
       "      <td>4.355940</td>\n",
       "      <td>EastEurope</td>\n",
       "    </tr>\n",
       "    <tr>\n",
       "      <th>69</th>\n",
       "      <td>0.637</td>\n",
       "      <td>GTM</td>\n",
       "      <td>Guatemala</td>\n",
       "      <td>2</td>\n",
       "      <td>4438.0000</td>\n",
       "      <td>NaN</td>\n",
       "      <td>26.500000</td>\n",
       "      <td>1.88</td>\n",
       "      <td>NaN</td>\n",
       "      <td>6.202302</td>\n",
       "      <td>LatAm</td>\n",
       "    </tr>\n",
       "    <tr>\n",
       "      <th>111</th>\n",
       "      <td>NaN</td>\n",
       "      <td>MCO</td>\n",
       "      <td>Monaco</td>\n",
       "      <td>5</td>\n",
       "      <td>108481.1300</td>\n",
       "      <td>NaN</td>\n",
       "      <td>NaN</td>\n",
       "      <td>NaN</td>\n",
       "      <td>NaN</td>\n",
       "      <td>4.337683</td>\n",
       "      <td>WesternDem</td>\n",
       "    </tr>\n",
       "    <tr>\n",
       "      <th>148</th>\n",
       "      <td>NaN</td>\n",
       "      <td>SMR</td>\n",
       "      <td>San Marino</td>\n",
       "      <td>5</td>\n",
       "      <td>42664.2110</td>\n",
       "      <td>0.034000</td>\n",
       "      <td>NaN</td>\n",
       "      <td>NaN</td>\n",
       "      <td>NaN</td>\n",
       "      <td>6.129065</td>\n",
       "      <td>WesternDem</td>\n",
       "    </tr>\n",
       "  </tbody>\n",
       "</table>\n",
       "</div>"
      ],
      "text/plain": [
       "     undp_hdi ccodealp                          cname  ht_region    gle_cgdpc  \\\n",
       "147     0.720      VCT  St Vincent and the Grenadines         10    7454.8799   \n",
       "86      0.793      KAZ                     Kazakhstan          1   14098.8800   \n",
       "69      0.637      GTM                      Guatemala          2    4438.0000   \n",
       "111       NaN      MCO                         Monaco          5  108481.1300   \n",
       "148       NaN      SMR                     San Marino          5   42664.2110   \n",
       "\n",
       "       imf_pop  wef_imort  who_alc2000   who_tobt  wdi_exph region_recod  \n",
       "147   0.110000        NaN         7.01        NaN  8.630239    Caribbean  \n",
       "86   17.422001  16.700001         6.29  26.299999  4.355940   EastEurope  \n",
       "69         NaN  26.500000         1.88        NaN  6.202302        LatAm  \n",
       "111        NaN        NaN          NaN        NaN  4.337683   WesternDem  \n",
       "148   0.034000        NaN          NaN        NaN  6.129065   WesternDem  "
      ]
     },
     "execution_count": 7,
     "metadata": {},
     "output_type": "execute_result"
    }
   ],
   "source": [
    "submuestra.sample(5)"
   ]
  },
  {
   "cell_type": "markdown",
   "metadata": {},
   "source": [
    "### 2. Genere una función que ingrese su objeto y devuelva:"
   ]
  },
  {
   "cell_type": "markdown",
   "metadata": {},
   "source": [
    "* Por cada variable existente en su objeto, calcule las medidas descriptivas para los casos contínuos\n",
    "* Para cada variable discreta, que calcule la frecuencia."
   ]
  },
  {
   "cell_type": "code",
   "execution_count": 8,
   "metadata": {},
   "outputs": [],
   "source": [
    "def calcular_medidas_descriptivas(objeto):\n",
    "    \"\"\"\n",
    "    calcular_medidas_descriptivas:\n",
    "        Función que permite calcular las medidas descriptivas para los casos contínuos \n",
    "        o la frecuencias absolutas para las variables discretas.\n",
    "    parameters:\n",
    "        objeto: objeto tipo DataFrame\n",
    "    returns:\n",
    "        medidas descriptivas o frecuencias absolutas\n",
    "    \"\"\"\n",
    "    \n",
    "    variables_continuas = ['float64', 'int64']\n",
    "    variables_discretas = ['object']\n",
    "    \n",
    "    for nombre_columna, serie in objeto.iteritems():\n",
    "        if isinstance(serie, pd.Series):\n",
    "            print(nombre_columna, serie.dtypes)\n",
    "            print('*************************************************************')\n",
    "            if serie.dtype in variables_continuas:\n",
    "                # vamos a eliminar los datos perdidos en la columna\n",
    "                serie = serie.dropna()\n",
    "                print(round(serie.describe(),2))\n",
    "            if serie.dtype in variables_discretas:\n",
    "                print(serie.value_counts())"
   ]
  },
  {
   "cell_type": "code",
   "execution_count": 9,
   "metadata": {},
   "outputs": [
    {
     "name": "stdout",
     "output_type": "stream",
     "text": [
      "undp_hdi float64\n",
      "*************************************************************\n",
      "count    94.00\n",
      "mean      0.71\n",
      "std       0.14\n",
      "min       0.40\n",
      "25%       0.60\n",
      "50%       0.74\n",
      "75%       0.80\n",
      "max       0.95\n",
      "Name: undp_hdi, dtype: float64\n",
      "ccodealp object\n",
      "*************************************************************\n",
      "CYP    1\n",
      "COL    1\n",
      "STP    1\n",
      "BRN    1\n",
      "TUN    1\n",
      "AZE    1\n",
      "COM    1\n",
      "OMN    1\n",
      "JOR    1\n",
      "TKM    1\n",
      "TLS    1\n",
      "CHN    1\n",
      "EGY    1\n",
      "TON    1\n",
      "BEL    1\n",
      "NLD    1\n",
      "LBY    1\n",
      "KHM    1\n",
      "UKR    1\n",
      "GMB    1\n",
      "MDG    1\n",
      "KIR    1\n",
      "CPV    1\n",
      "URY    1\n",
      "SLB    1\n",
      "LKA    1\n",
      "ECU    1\n",
      "GUY    1\n",
      "SVN    1\n",
      "MLT    1\n",
      "      ..\n",
      "COG    1\n",
      "ZAF    1\n",
      "MUS    1\n",
      "TWN    1\n",
      "DOM    1\n",
      "LVA    1\n",
      "BIH    1\n",
      "MKD    1\n",
      "SDN    1\n",
      "NOR    1\n",
      "BRB    1\n",
      "BLR    1\n",
      "BLZ    1\n",
      "PLW    1\n",
      "UGA    1\n",
      "USA    1\n",
      "SUR    1\n",
      "GHA    1\n",
      "LBN    1\n",
      "GIN    1\n",
      "BTN    1\n",
      "GRD    1\n",
      "TTO    1\n",
      "LCA    1\n",
      "ARM    1\n",
      "BHS    1\n",
      "ATG    1\n",
      "POL    1\n",
      "CHL    1\n",
      "PRT    1\n",
      "Name: ccodealp, Length: 97, dtype: int64\n",
      "cname object\n",
      "*************************************************************\n",
      "Kyrgyzstan                       1\n",
      "Suriname                         1\n",
      "St Vincent and the Grenadines    1\n",
      "Latvia                           1\n",
      "Dominican Republic               1\n",
      "China                            1\n",
      "Iceland                          1\n",
      "Colombia                         1\n",
      "Gambia                           1\n",
      "United Kingdom                   1\n",
      "Barbados                         1\n",
      "Sao Tome and Principe            1\n",
      "Kenya                            1\n",
      "Portugal                         1\n",
      "Egypt                            1\n",
      "Congo                            1\n",
      "Costa Rica                       1\n",
      "Palau                            1\n",
      "Sri Lanka                        1\n",
      "Timor-Leste                      1\n",
      "El Salvador                      1\n",
      "Liechtenstein                    1\n",
      "Burundi                          1\n",
      "Poland                           1\n",
      "Croatia                          1\n",
      "Bosnia and Herzegovina           1\n",
      "Kuwait                           1\n",
      "Macedonia                        1\n",
      "Azerbaijan                       1\n",
      "Ghana                            1\n",
      "                                ..\n",
      "Cameroon                         1\n",
      "Albania                          1\n",
      "Slovenia                         1\n",
      "Ukraine                          1\n",
      "Monaco                           1\n",
      "Taiwan                           1\n",
      "Brazil                           1\n",
      "Cyprus (1975-)                   1\n",
      "Mexico                           1\n",
      "Austria                          1\n",
      "Kiribati                         1\n",
      "India                            1\n",
      "Bhutan                           1\n",
      "Nigeria                          1\n",
      "Belarus                          1\n",
      "Belgium                          1\n",
      "Guatemala                        1\n",
      "South Africa                     1\n",
      "Uruguay                          1\n",
      "San Marino                       1\n",
      "Armenia                          1\n",
      "Norway                           1\n",
      "Kazakhstan                       1\n",
      "Tunisia                          1\n",
      "Haiti                            1\n",
      "Brunei                           1\n",
      "Cape Verde                       1\n",
      "Ecuador                          1\n",
      "Turkmenistan                     1\n",
      "Bahrain                          1\n",
      "Name: cname, Length: 97, dtype: int64\n",
      "ht_region int64\n",
      "*************************************************************\n",
      "count    97.00\n",
      "mean      4.47\n",
      "std       2.81\n",
      "min       1.00\n",
      "25%       2.00\n",
      "50%       4.00\n",
      "75%       5.00\n",
      "max      10.00\n",
      "Name: ht_region, dtype: float64\n",
      "gle_cgdpc float64\n",
      "*************************************************************\n",
      "count        96.00\n",
      "mean      16390.70\n",
      "std       21470.27\n",
      "min         332.27\n",
      "25%        2922.31\n",
      "50%        9051.72\n",
      "75%       21776.31\n",
      "max      108481.13\n",
      "Name: gle_cgdpc, dtype: float64\n",
      "imf_pop float64\n",
      "*************************************************************\n",
      "count     71.00\n",
      "mean      22.37\n",
      "std       50.32\n",
      "min        0.02\n",
      "25%        0.77\n",
      "50%        4.38\n",
      "75%       17.14\n",
      "max      318.79\n",
      "Name: imf_pop, dtype: float64\n",
      "wef_imort float64\n",
      "*************************************************************\n",
      "count    78.00\n",
      "mean     22.64\n",
      "std      20.53\n",
      "min       1.70\n",
      "25%       6.35\n",
      "50%      14.85\n",
      "75%      33.75\n",
      "max      77.80\n",
      "Name: wef_imort, dtype: float64\n",
      "who_alc2000 float64\n",
      "*************************************************************\n",
      "count    91.00\n",
      "mean      5.22\n",
      "std       3.66\n",
      "min       0.00\n",
      "25%       1.86\n",
      "50%       5.07\n",
      "75%       8.36\n",
      "max      13.94\n",
      "Name: who_alc2000, dtype: float64\n",
      "who_tobt float64\n",
      "*************************************************************\n",
      "count    61.00\n",
      "mean     22.00\n",
      "std       9.49\n",
      "min       6.30\n",
      "25%      14.20\n",
      "50%      22.60\n",
      "75%      27.40\n",
      "max      54.00\n",
      "Name: who_tobt, dtype: float64\n",
      "wdi_exph float64\n",
      "*************************************************************\n",
      "count    95.00\n",
      "mean      6.60\n",
      "std       2.45\n",
      "min       1.48\n",
      "25%       4.97\n",
      "50%       6.33\n",
      "75%       8.34\n",
      "max      17.14\n",
      "Name: wdi_exph, dtype: float64\n",
      "region_recod object\n",
      "*************************************************************\n",
      "SubSaharian      23\n",
      "EastEurope       15\n",
      "WesternDem       13\n",
      "LatAm            12\n",
      "NorthAfrica      10\n",
      "Caribbean        10\n",
      "Pacific           5\n",
      "EastAsia          3\n",
      "SouthAsia         3\n",
      "SouthEastAsia     3\n",
      "Name: region_recod, dtype: int64\n"
     ]
    }
   ],
   "source": [
    "calcular_medidas_descriptivas(submuestra)"
   ]
  },
  {
   "cell_type": "markdown",
   "metadata": {},
   "source": [
    "#### Reporte las estadísticas descriptivas para gle_cgdpc , undp_hdi , imf_pop  (Muestra de los 50% de los casos)"
   ]
  },
  {
   "cell_type": "markdown",
   "metadata": {},
   "source": [
    "#####  gle_cgdpc"
   ]
  },
  {
   "cell_type": "markdown",
   "metadata": {},
   "source": [
    "* El promedio PIB per capita es de aproximadamente 16390.70.\n",
    "* El 50% de los paises tienen un PIB per capita  menor que o igual a 9051.72, mientras que el otro 50% de los paises tienen un PIB per capita mayor que o igual a 9051.72.\n",
    "* El PIB per capita de los paises de la muestra tiene una desviación, en promedio de 21470.27 respecto a la media."
   ]
  },
  {
   "cell_type": "markdown",
   "metadata": {},
   "source": [
    "##### undp_hdi"
   ]
  },
  {
   "cell_type": "markdown",
   "metadata": {},
   "source": [
    "* El promedio del índice de desarrollo humano es de aproximadamente 0.71.\n",
    "* El 50% de los paises tienen un índice de desarrollo humano menor que o igual a 0.74, mientras que el otro 50% de los paises tienen un índice de desarrollo humano mayor que o igual a 0.74.\n",
    "* El índice de desarrollo humano de los paises de la muestra tiene una desviación, en promedio de 0.14 respecto a la media."
   ]
  },
  {
   "cell_type": "markdown",
   "metadata": {},
   "source": [
    "##### imf_pop"
   ]
  },
  {
   "cell_type": "markdown",
   "metadata": {},
   "source": [
    "* El promedio del total de la población es de aproximadamente 22.37.\n",
    "* El 50% de los paises tienen un total de la población menor que o igual a 4.38, mientras que el otro 50% de los paises tienen un total de la población mayor que o igual a 4.38.\n",
    "* El total de la población de los paises de la muestra tiene una desviación, en promedio de 50.32 respecto a la media."
   ]
  },
  {
   "cell_type": "markdown",
   "metadata": {},
   "source": [
    "### 3. Genere una función que liste las observaciones perdidas de una variable"
   ]
  },
  {
   "cell_type": "markdown",
   "metadata": {},
   "source": [
    "* La función debe contener los siguientes argumentos:\n",
    "    * dataframe : La función debe ingresar un objeto DataFrame.\n",
    "    * var : Variable a inspeccionar.\n",
    "    * print_list : Opción para imprimir la lista de observaciones perdidas en la variable. Debe ser False por defecto."
   ]
  },
  {
   "cell_type": "code",
   "execution_count": 10,
   "metadata": {},
   "outputs": [],
   "source": [
    "def observaciones_perdidas(dataframe, var, print_list=False):\n",
    "    \"\"\"\n",
    "    observaciones_perdidas:\n",
    "        Función que permite listar las observaciones perdidas de una variable\n",
    "    parameters:\n",
    "        dataframe: objeto DataFrame.\n",
    "        var: Variable a inspeccionar.\n",
    "        print_list : Opción para imprimir la lista de observaciones perdidas en la variable, \n",
    "        por defecto es False.\n",
    "    return:\n",
    "        cantidad de casos perdidos, porcentaje correspondiente\n",
    "    \"\"\"\n",
    "    # Cuando print_list = True , debe retornar la lista de casos\n",
    "    if print_list:\n",
    "        return dataframe[dataframe[var].isna()]\n",
    "    \n",
    "    # La función debe retornar la cantidad de casos perdidos y el porcentaje correspondiente\n",
    "    cantidad = dataframe[var].isnull().sum()\n",
    "    porcentaje = cantidad / len(dataframe)\n",
    "    resultado = {\"cantidad\": cantidad, \"porcentaje\": round(porcentaje, 2), 'tipo': dataframe[var].dtypes}\n",
    "    return resultado"
   ]
  },
  {
   "cell_type": "markdown",
   "metadata": {},
   "source": [
    "<b>La función debe retornar la cantidad de casos perdidos y el porcentaje correspondiente.</b>"
   ]
  },
  {
   "cell_type": "code",
   "execution_count": 11,
   "metadata": {},
   "outputs": [
    {
     "data": {
      "text/plain": [
       "{'cantidad': 3, 'porcentaje': 0.03, 'tipo': dtype('float64')}"
      ]
     },
     "execution_count": 11,
     "metadata": {},
     "output_type": "execute_result"
    }
   ],
   "source": [
    "observaciones_perdidas(submuestra, 'undp_hdi')"
   ]
  },
  {
   "cell_type": "markdown",
   "metadata": {},
   "source": [
    "<b>Cuando print_list = True , debe retornar la lista de casos.</b>"
   ]
  },
  {
   "cell_type": "code",
   "execution_count": 12,
   "metadata": {},
   "outputs": [
    {
     "data": {
      "text/html": [
       "<div>\n",
       "<style scoped>\n",
       "    .dataframe tbody tr th:only-of-type {\n",
       "        vertical-align: middle;\n",
       "    }\n",
       "\n",
       "    .dataframe tbody tr th {\n",
       "        vertical-align: top;\n",
       "    }\n",
       "\n",
       "    .dataframe thead th {\n",
       "        text-align: right;\n",
       "    }\n",
       "</style>\n",
       "<table border=\"1\" class=\"dataframe\">\n",
       "  <thead>\n",
       "    <tr style=\"text-align: right;\">\n",
       "      <th></th>\n",
       "      <th>undp_hdi</th>\n",
       "      <th>ccodealp</th>\n",
       "      <th>cname</th>\n",
       "      <th>ht_region</th>\n",
       "      <th>gle_cgdpc</th>\n",
       "      <th>imf_pop</th>\n",
       "      <th>wef_imort</th>\n",
       "      <th>who_alc2000</th>\n",
       "      <th>who_tobt</th>\n",
       "      <th>wdi_exph</th>\n",
       "      <th>region_recod</th>\n",
       "    </tr>\n",
       "  </thead>\n",
       "  <tbody>\n",
       "    <tr>\n",
       "      <th>37</th>\n",
       "      <td>NaN</td>\n",
       "      <td>TWN</td>\n",
       "      <td>Taiwan</td>\n",
       "      <td>6</td>\n",
       "      <td>33965.871</td>\n",
       "      <td>23.434</td>\n",
       "      <td>3.934564</td>\n",
       "      <td>NaN</td>\n",
       "      <td>NaN</td>\n",
       "      <td>NaN</td>\n",
       "      <td>EastAsia</td>\n",
       "    </tr>\n",
       "    <tr>\n",
       "      <th>148</th>\n",
       "      <td>NaN</td>\n",
       "      <td>SMR</td>\n",
       "      <td>San Marino</td>\n",
       "      <td>5</td>\n",
       "      <td>42664.211</td>\n",
       "      <td>0.034</td>\n",
       "      <td>NaN</td>\n",
       "      <td>NaN</td>\n",
       "      <td>NaN</td>\n",
       "      <td>6.129065</td>\n",
       "      <td>WesternDem</td>\n",
       "    </tr>\n",
       "    <tr>\n",
       "      <th>111</th>\n",
       "      <td>NaN</td>\n",
       "      <td>MCO</td>\n",
       "      <td>Monaco</td>\n",
       "      <td>5</td>\n",
       "      <td>108481.130</td>\n",
       "      <td>NaN</td>\n",
       "      <td>NaN</td>\n",
       "      <td>NaN</td>\n",
       "      <td>NaN</td>\n",
       "      <td>4.337683</td>\n",
       "      <td>WesternDem</td>\n",
       "    </tr>\n",
       "  </tbody>\n",
       "</table>\n",
       "</div>"
      ],
      "text/plain": [
       "     undp_hdi ccodealp       cname  ht_region   gle_cgdpc  imf_pop  wef_imort  \\\n",
       "37        NaN      TWN      Taiwan          6   33965.871   23.434   3.934564   \n",
       "148       NaN      SMR  San Marino          5   42664.211    0.034        NaN   \n",
       "111       NaN      MCO      Monaco          5  108481.130      NaN        NaN   \n",
       "\n",
       "     who_alc2000  who_tobt  wdi_exph region_recod  \n",
       "37           NaN       NaN       NaN     EastAsia  \n",
       "148          NaN       NaN  6.129065   WesternDem  \n",
       "111          NaN       NaN  4.337683   WesternDem  "
      ]
     },
     "execution_count": 12,
     "metadata": {},
     "output_type": "execute_result"
    }
   ],
   "source": [
    "observaciones_perdidas(submuestra, 'undp_hdi', True)"
   ]
  },
  {
   "cell_type": "markdown",
   "metadata": {},
   "source": [
    "<b>Analice todas las variables y sus casos perdidos</b>"
   ]
  },
  {
   "cell_type": "code",
   "execution_count": 13,
   "metadata": {},
   "outputs": [
    {
     "name": "stdout",
     "output_type": "stream",
     "text": [
      "undp_hdi {'cantidad': 3, 'porcentaje': 0.03, 'tipo': dtype('float64')}\n",
      "ccodealp {'cantidad': 0, 'porcentaje': 0.0, 'tipo': dtype('O')}\n",
      "cname {'cantidad': 0, 'porcentaje': 0.0, 'tipo': dtype('O')}\n",
      "ht_region {'cantidad': 0, 'porcentaje': 0.0, 'tipo': dtype('int64')}\n",
      "gle_cgdpc {'cantidad': 1, 'porcentaje': 0.01, 'tipo': dtype('float64')}\n",
      "imf_pop {'cantidad': 26, 'porcentaje': 0.27, 'tipo': dtype('float64')}\n",
      "wef_imort {'cantidad': 19, 'porcentaje': 0.2, 'tipo': dtype('float64')}\n",
      "who_alc2000 {'cantidad': 6, 'porcentaje': 0.06, 'tipo': dtype('float64')}\n",
      "who_tobt {'cantidad': 36, 'porcentaje': 0.37, 'tipo': dtype('float64')}\n",
      "wdi_exph {'cantidad': 2, 'porcentaje': 0.02, 'tipo': dtype('float64')}\n",
      "region_recod {'cantidad': 0, 'porcentaje': 0.0, 'tipo': dtype('O')}\n"
     ]
    }
   ],
   "source": [
    "for variable in submuestra.columns:\n",
    "    print(variable, observaciones_perdidas(submuestra, variable))"
   ]
  },
  {
   "cell_type": "markdown",
   "metadata": {},
   "source": [
    "<b>Para las 3 variables con un mayor porcentaje de casos perdidos, solicite la lista de países con\n",
    "ausencia de datos.</b>"
   ]
  },
  {
   "cell_type": "code",
   "execution_count": 14,
   "metadata": {},
   "outputs": [
    {
     "name": "stdout",
     "output_type": "stream",
     "text": [
      "wef_imort\n",
      "27                           Belarus\n",
      "10                           Bahamas\n",
      "173                            Tonga\n",
      "66                          Kiribati\n",
      "39                           Comoros\n",
      "68                           Grenada\n",
      "5                Antigua and Barbuda\n",
      "99                     Liechtenstein\n",
      "40                             Congo\n",
      "130                            Palau\n",
      "178                     Turkmenistan\n",
      "148                       San Marino\n",
      "111                           Monaco\n",
      "149            Sao Tome and Principe\n",
      "22                   Solomon Islands\n",
      "146                         St Lucia\n",
      "133                 Papua New Guinea\n",
      "164                    Sudan (2012-)\n",
      "147    St Vincent and the Grenadines\n",
      "Name: cname, dtype: object\n",
      "*************************************************************\n",
      "imf_pop\n",
      "118                  Namibia\n",
      "72                     Haiti\n",
      "97                   Liberia\n",
      "69                 Guatemala\n",
      "68                   Grenada\n",
      "5        Antigua and Barbuda\n",
      "36                     China\n",
      "29                  Cameroon\n",
      "65                     Ghana\n",
      "26                   Burundi\n",
      "52               El Salvador\n",
      "99             Liechtenstein\n",
      "40                     Congo\n",
      "61                     Gabon\n",
      "50        Dominican Republic\n",
      "178             Turkmenistan\n",
      "176                  Tunisia\n",
      "111                   Monaco\n",
      "102               Madagascar\n",
      "63                    Gambia\n",
      "42                Costa Rica\n",
      "149    Sao Tome and Principe\n",
      "1                    Albania\n",
      "76                     India\n",
      "95                   Lesotho\n",
      "164            Sudan (2012-)\n",
      "Name: cname, dtype: object\n",
      "*************************************************************\n",
      "who_tobt\n",
      "45                    Cyprus (1975-)\n",
      "37                            Taiwan\n",
      "10                           Bahamas\n",
      "21                            Belize\n",
      "9                            Austria\n",
      "69                         Guatemala\n",
      "68                           Grenada\n",
      "141                            Qatar\n",
      "5                Antigua and Barbuda\n",
      "26                           Burundi\n",
      "52                       El Salvador\n",
      "165                         Suriname\n",
      "99                     Liechtenstein\n",
      "61                             Gabon\n",
      "130                            Palau\n",
      "178                     Turkmenistan\n",
      "176                          Tunisia\n",
      "16                            Bhutan\n",
      "148                       San Marino\n",
      "111                           Monaco\n",
      "102                       Madagascar\n",
      "63                            Gambia\n",
      "140                      Timor-Leste\n",
      "149            Sao Tome and Principe\n",
      "17                           Bolivia\n",
      "22                   Solomon Islands\n",
      "98                             Libya\n",
      "146                         St Lucia\n",
      "133                 Papua New Guinea\n",
      "174              Trinidad and Tobago\n",
      "71                            Guyana\n",
      "70                            Guinea\n",
      "91                            Kuwait\n",
      "182                        Macedonia\n",
      "164                    Sudan (2012-)\n",
      "147    St Vincent and the Grenadines\n",
      "Name: cname, dtype: object\n",
      "*************************************************************\n"
     ]
    }
   ],
   "source": [
    "for variable in ['wef_imort', 'imf_pop', 'who_tobt']:\n",
    "    print(variable)\n",
    "    print(submuestra[submuestra[variable].isna()]['cname']) # ccodealp\n",
    "    print('*************************************************************')"
   ]
  },
  {
   "cell_type": "markdown",
   "metadata": {},
   "source": [
    "### 4. Grafique los histogramas"
   ]
  },
  {
   "cell_type": "markdown",
   "metadata": {},
   "source": [
    "Genere una función que grafique un histograma en conjunto y señale las medias. La función debe incluír los siguientes argumentos:\n",
    "* dataframe : La base de datos donde se encuentran los datos específicos.\n",
    "* var : La variable a graficar.\n",
    "* sample_mean : Booleano. Si es verdadero, debe generar una recta vertical indicando la media de la variable en la selección muestral. Por defecto debe ser False .\n",
    "* true_mean : Booleano. Si es verdadero, debe generar una recta vertical indicando la media de variable en la base de datos completa."
   ]
  },
  {
   "cell_type": "code",
   "execution_count": 15,
   "metadata": {},
   "outputs": [],
   "source": [
    "def crear_histograma(dataframe, var, sample_mean=False, true_mean=False):\n",
    "    \"\"\"\n",
    "    crear_histograma:\n",
    "        Función que permite crear un histograma\n",
    "    parameters:\n",
    "        dataframe : La base de datos donde se encuentran los datos específicos.\n",
    "        var : La variable a graficar.\n",
    "        sample_mean : Booleano. Si es verdadero, debe generar una recta vertical indicando la\n",
    "        media de la variable en la selección muestral. Por defecto debe ser False.\n",
    "        true_mean : Booleano. Si es verdadero, debe generar una recta vertical indicando la\n",
    "        media de variable en la base de datos completa.\n",
    "    returns:\n",
    "        histograma\n",
    "    \"\"\"\n",
    "    # Limpiar muestra\n",
    "    muestra = dataframe[var].dropna()\n",
    "    \n",
    "    # Si es verdadero, debe generar una recta vertical indicando la media de la variable en la sel. muestral\n",
    "    if sample_mean:\n",
    "        plt.axvline(muestra.mean(), \n",
    "                    lw=3, \n",
    "                    color='tomato', \n",
    "                    linestyle='--', \n",
    "                    label=f\"Media Sel. Muestral ({round(muestra.mean(), 2)}%)\")\n",
    "        plt.legend()\n",
    "\n",
    "    # Si es verdadero, debe generar una recta vertical indicando la media de variable en la bd completa\n",
    "    if true_mean:\n",
    "        muestra_completa = df[var].dropna()\n",
    "        plt.axvline(muestra_completa.mean(), \n",
    "                    lw=3,\n",
    "                    color='green', \n",
    "                    linestyle='--', \n",
    "                    label=f\"Media Muestra Global ({round(muestra_completa.mean(), 2)}%)\")\n",
    "        plt.legend()\n",
    "\n",
    "    plt.hist(muestra, color='lightgrey')\n",
    "    plt.xlabel(var)\n",
    "    plt.ylabel('Frecuencia')\n",
    "    plt.show()"
   ]
  },
  {
   "cell_type": "markdown",
   "metadata": {},
   "source": [
    "<b>Implemente las funciones para las 4 variables seleccionadas según su grupo.</b>"
   ]
  },
  {
   "cell_type": "code",
   "execution_count": 16,
   "metadata": {},
   "outputs": [
    {
     "name": "stdout",
     "output_type": "stream",
     "text": [
      "HISTOGRAMA VARIABLE \"WEF_IMORT\"\n"
     ]
    },
    {
     "data": {
      "image/png": "[encoded data removed]",
      "text/plain": [
       "<Figure size 432x288 with 1 Axes>"
      ]
     },
     "metadata": {
      "needs_background": "light"
     },
     "output_type": "display_data"
    },
    {
     "name": "stdout",
     "output_type": "stream",
     "text": [
      "HISTOGRAMA VARIABLE \"WHO_ALC2000\"\n"
     ]
    },
    {
     "data": {
      "image/png": "[encoded data removed]",
      "text/plain": [
       "<Figure size 432x288 with 1 Axes>"
      ]
     },
     "metadata": {
      "needs_background": "light"
     },
     "output_type": "display_data"
    },
    {
     "name": "stdout",
     "output_type": "stream",
     "text": [
      "HISTOGRAMA VARIABLE \"WHO_TOBT\"\n"
     ]
    },
    {
     "data": {
      "image/png": "[encoded data removed]",
      "text/plain": [
       "<Figure size 432x288 with 1 Axes>"
      ]
     },
     "metadata": {
      "needs_background": "light"
     },
     "output_type": "display_data"
    },
    {
     "name": "stdout",
     "output_type": "stream",
     "text": [
      "HISTOGRAMA VARIABLE \"WDI_EXPH\"\n"
     ]
    },
    {
     "data": {
      "image/png": "[encoded data removed]",
      "text/plain": [
       "<Figure size 432x288 with 1 Axes>"
      ]
     },
     "metadata": {
      "needs_background": "light"
     },
     "output_type": "display_data"
    }
   ],
   "source": [
    "for variable in ['wef_imort','who_alc2000','who_tobt','wdi_exph']:\n",
    "    print('HISTOGRAMA VARIABLE \"{}\"'.format(variable.upper()))\n",
    "    crear_histograma(submuestra, variable, True, True)"
   ]
  },
  {
   "cell_type": "markdown",
   "metadata": {},
   "source": [
    "<b>¿En qué variables la media de la submuestra es mayor a la de la muestra completa?</b>"
   ]
  },
  {
   "cell_type": "markdown",
   "metadata": {},
   "source": [
    "Se puede observar que la variable <b>who_alc2000</b> la media de la submuestra es mayor a la de la muestra completa. Para las variables wef_imort, who_tobt y wdi_exph la media de la sumuestra es menor a la de la muestra completa."
   ]
  },
  {
   "cell_type": "markdown",
   "metadata": {},
   "source": [
    "### 5. Genere una función que devuelva un dotplot"
   ]
  },
  {
   "cell_type": "markdown",
   "metadata": {},
   "source": [
    "La función debe contener los siguientes argumentos como argumentos:\n",
    "* dataframe : La tabla de datos donde buscar las variables.\n",
    "* plot_var : La variable a analizar y extraer las medias.\n",
    "* plot_by : La variable agrupadora.\n",
    "* global_stat : Booleano. Si es True debe graficar la media global de la variable. Por defecto debe ser False.\n",
    "* statistic: Debe presentar dos opciones. mean para la media y median para la mediana.Por defecto debe ser mean ."
   ]
  },
  {
   "cell_type": "code",
   "execution_count": 35,
   "metadata": {},
   "outputs": [],
   "source": [
    "def crear_dotplot(dataframe, plot_var, plot_by, global_stat=False, statistic='mean'):\n",
    "    \"\"\"\n",
    "    crear_dotplot:\n",
    "        Función que permite crear un dotplot\n",
    "    parameters:\n",
    "        dataframe : La tabla de datos donde buscar las variables.\n",
    "        plot_var : La variable a analizar y extraer las medias.\n",
    "        plot_by : La variable agrupadora.\n",
    "        global_stat : Booleano. Si es True debe graficar la media global de la variable. Por\n",
    "        defecto debe ser False .\n",
    "        statistic: Debe presentar dos opciones. mean para la media y median para la mediana.\n",
    "        Por defecto debe ser mean .\n",
    "    returns:\n",
    "        dotplot\n",
    "    \"\"\"\n",
    "    # Medidas de tendencia variable\n",
    "    variable = plot_var\n",
    "    media_muestra = round(dataframe[variable].mean(),2);\n",
    "    mediana_muestra = round(dataframe[variable].median(),2);\n",
    "    media_global = round(df[variable].mean(),2);\n",
    "    mediana_global = round(df[variable].median(),2);\n",
    "    \n",
    "    # Datos agrupados\n",
    "    submuestra_agrupada = dataframe.groupby(plot_by)[variable]\n",
    "\n",
    "    # mean para la media\n",
    "    if statistic == 'mean':\n",
    "        media_mediana_muestra = media_muestra;\n",
    "        promedios_continentes = round(submuestra_agrupada.mean(),2)\n",
    "        label_muestra = f\"Media Sel. Muestral ({round(media_muestra, 2)}%)\"\n",
    "        \n",
    "    # median para la mediana           \n",
    "    if statistic == 'median':\n",
    "        media_mediana_muestra = mediana_muestra;\n",
    "        promedios_continentes = round(submuestra_agrupada.median(),2)\n",
    "        label_muestra = f\"Mediana Sel. Muestral ({round(mediana_muestra, 2)}%)\"\n",
    "    \n",
    "    # Si es True debe graficar la media global de la variable\n",
    "    if global_stat and  statistic is 'mean':\n",
    "        plt.axvline(media_global,\n",
    "                    lw=3,\n",
    "                    color='green',\n",
    "                    linestyle='--', \n",
    "                    label=f\"Media Muestra Global ({round(media_global, 2)}%)\")\n",
    "        plt.legend()\n",
    "        \n",
    "    # Si es True debe graficar la mediana global de la variable\n",
    "    if global_stat and  statistic is 'median':\n",
    "        plt.axvline(mediana_global,\n",
    "                    lw=3,\n",
    "                    color='green',\n",
    "                    linestyle='--', \n",
    "                    label=f\"Mediana Muestra Global ({round(mediana_global, 2)}%)\")\n",
    "        plt.legend()\n",
    "    \n",
    "    # Graficar la media o mediana según valor de statistic\n",
    "    plt.axvline(media_mediana_muestra,\n",
    "                lw=3, \n",
    "                color='tomato', \n",
    "                linestyle='--', \n",
    "                label=label_muestra)\n",
    "    \n",
    "    # Crear dotplot\n",
    "    plt.title('Dotplot variable {}'.format(variable))\n",
    "    promedios = promedios_continentes.values\n",
    "    continentes = promedios_continentes.index\n",
    "    plt.plot(promedios, continentes, 's', color='#0066FF') \n",
    "    plt.legend()\n",
    "    plt.show()"
   ]
  },
  {
   "cell_type": "markdown",
   "metadata": {},
   "source": [
    "<b>Implemente la función en las 3 variables con una menor cantidad de datos perdidos</b>"
   ]
  },
  {
   "cell_type": "code",
   "execution_count": 36,
   "metadata": {},
   "outputs": [
    {
     "data": {
      "image/png": "[encoded data removed]",
      "text/plain": [
       "<Figure size 432x288 with 1 Axes>"
      ]
     },
     "metadata": {
      "needs_background": "light"
     },
     "output_type": "display_data"
    },
    {
     "data": {
      "image/png": "[encoded data removed]",
      "text/plain": [
       "<Figure size 432x288 with 1 Axes>"
      ]
     },
     "metadata": {
      "needs_background": "light"
     },
     "output_type": "display_data"
    },
    {
     "name": "stdout",
     "output_type": "stream",
     "text": [
      "**************************************************************\n"
     ]
    },
    {
     "data": {
      "image/png": "[encoded data removed]",
      "text/plain": [
       "<Figure size 432x288 with 1 Axes>"
      ]
     },
     "metadata": {
      "needs_background": "light"
     },
     "output_type": "display_data"
    },
    {
     "data": {
      "image/png": "[encoded data removed]",
      "text/plain": [
       "<Figure size 432x288 with 1 Axes>"
      ]
     },
     "metadata": {
      "needs_background": "light"
     },
     "output_type": "display_data"
    },
    {
     "name": "stdout",
     "output_type": "stream",
     "text": [
      "**************************************************************\n"
     ]
    },
    {
     "data": {
      "image/png": "[encoded data removed]",
      "text/plain": [
       "<Figure size 432x288 with 1 Axes>"
      ]
     },
     "metadata": {
      "needs_background": "light"
     },
     "output_type": "display_data"
    },
    {
     "data": {
      "image/png": "[encoded data removed]",
      "text/plain": [
       "<Figure size 432x288 with 1 Axes>"
      ]
     },
     "metadata": {
      "needs_background": "light"
     },
     "output_type": "display_data"
    },
    {
     "name": "stdout",
     "output_type": "stream",
     "text": [
      "**************************************************************\n"
     ]
    }
   ],
   "source": [
    "for variable in ['ht_region', 'gle_cgdpc', 'wdi_exph']:\n",
    "    crear_dotplot(submuestra, variable, 'region_recod', True, 'mean')\n",
    "    crear_dotplot(submuestra, variable, 'region_recod', True, 'median')\n",
    "    print('****************************************************************************')"
   ]
  },
  {
   "cell_type": "markdown",
   "metadata": {},
   "source": [
    "## 6. Guarde la base de datos"
   ]
  },
  {
   "cell_type": "markdown",
   "metadata": {},
   "source": [
    "La submuestra creada tiene un método llamado to_csv . Acceda a éste y guarde la base subsample_<iniciales>_demo.csv . (Súbala a la plataforma, junto al desafío)"
   ]
  },
  {
   "cell_type": "code",
   "execution_count": 19,
   "metadata": {},
   "outputs": [],
   "source": [
    "submuestra.to_csv('subsample_cvm_demo.csv')"
   ]
  },
  {
   "cell_type": "code",
   "execution_count": null,
   "metadata": {},
   "outputs": [],
   "source": []
  }
 ],
 "metadata": {
  "kernelspec": {
   "display_name": "Python 3",
   "language": "python",
   "name": "python3"
  },
  "language_info": {
   "codemirror_mode": {
    "name": "ipython",
    "version": 3
   },
   "file_extension": ".py",
   "mimetype": "text/x-python",
   "name": "python",
   "nbconvert_exporter": "python",
   "pygments_lexer": "ipython3",
   "version": "3.7.3"
  }
 },
 "nbformat": 4,
 "nbformat_minor": 2
}
