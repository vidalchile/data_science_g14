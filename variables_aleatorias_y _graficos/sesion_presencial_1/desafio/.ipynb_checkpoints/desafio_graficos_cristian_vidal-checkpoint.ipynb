{
 "cells": [
  {
   "cell_type": "markdown",
   "metadata": {},
   "source": [
    "# Desafío - Gráficos\n",
    "## Cristian Vidal"
   ]
  },
  {
   "cell_type": "code",
   "execution_count": 1,
   "metadata": {},
   "outputs": [],
   "source": [
    "import pandas as pd\n",
    "import numpy as np\n",
    "import matplotlib.pyplot as plt"
   ]
  },
  {
   "cell_type": "code",
   "execution_count": 2,
   "metadata": {},
   "outputs": [],
   "source": [
    "df = pd.read_csv('qog_std_cs_jan18.csv');"
   ]
  },
  {
   "cell_type": "markdown",
   "metadata": {},
   "source": [
    "### 1. Genere una submuestra de casos"
   ]
  },
  {
   "cell_type": "markdown",
   "metadata": {},
   "source": [
    "* Utilice los últimos 4 dígitos de su rut como semilla pseudoaleatoria"
   ]
  },
  {
   "cell_type": "code",
   "execution_count": 3,
   "metadata": {},
   "outputs": [],
   "source": [
    "semilla_pseudoaleatoria = 4968"
   ]
  },
  {
   "cell_type": "markdown",
   "metadata": {},
   "source": [
    "* Seleccione el 50% de los casos\n",
    "* Cada base generada debe contener los siguientes elementos:\n",
    "    * El índice de desarrollo humano ( undp_hdi )\n",
    "    * El nombre del país ( ccodealp )\n",
    "    * La región a la que pertenece ( ht_region )\n",
    "    * El PIB per capita. ( gle_cgdpc )\n",
    "    * El total de la población ( imf_pop )\n",
    "* Si su apellido está entre la N y la Z, escoja las siguientes variables del módulo Salud:\n",
    "    * wef_imort : Infant mortality, deaths/1000 live births\n",
    "    * who_alc2000 : Alcohol consumption per capita (2000-)\n",
    "    * who_tobt : Current smoking of any tobacco product (Total).\n",
    "    * wdi_exph : Government expenditure on health, total (% of GDP)\n",
    "* Guarde esta tabla procesada en un nuevo objeto"
   ]
  },
  {
   "cell_type": "code",
   "execution_count": 4,
   "metadata": {},
   "outputs": [],
   "source": [
    "submuestra_pseudoaleatoria = df.sample(frac=0.5, random_state=semilla_pseudoaleatoria)\n",
    "submuestra = submuestra_pseudoaleatoria.loc[:,['undp_hdi', 'ccodealp', 'cname', 'ht_region', \n",
    "                                                'gle_cgdpc', 'imf_pop', 'wef_imort',\n",
    "                                                'who_alc2000', 'who_tobt', 'wdi_exph']]"
   ]
  },
  {
   "cell_type": "code",
   "execution_count": 5,
   "metadata": {},
   "outputs": [
    {
     "data": {
      "text/html": [
       "<div>\n",
       "<style scoped>\n",
       "    .dataframe tbody tr th:only-of-type {\n",
       "        vertical-align: middle;\n",
       "    }\n",
       "\n",
       "    .dataframe tbody tr th {\n",
       "        vertical-align: top;\n",
       "    }\n",
       "\n",
       "    .dataframe thead th {\n",
       "        text-align: right;\n",
       "    }\n",
       "</style>\n",
       "<table border=\"1\" class=\"dataframe\">\n",
       "  <thead>\n",
       "    <tr style=\"text-align: right;\">\n",
       "      <th></th>\n",
       "      <th>undp_hdi</th>\n",
       "      <th>ccodealp</th>\n",
       "      <th>cname</th>\n",
       "      <th>ht_region</th>\n",
       "      <th>gle_cgdpc</th>\n",
       "      <th>imf_pop</th>\n",
       "      <th>wef_imort</th>\n",
       "      <th>who_alc2000</th>\n",
       "      <th>who_tobt</th>\n",
       "      <th>wdi_exph</th>\n",
       "    </tr>\n",
       "  </thead>\n",
       "  <tbody>\n",
       "    <tr>\n",
       "      <th>188</th>\n",
       "      <td>0.794</td>\n",
       "      <td>URY</td>\n",
       "      <td>Uruguay</td>\n",
       "      <td>2</td>\n",
       "      <td>12804.84000</td>\n",
       "      <td>3.454000</td>\n",
       "      <td>6.200000</td>\n",
       "      <td>6.03</td>\n",
       "      <td>24.799999</td>\n",
       "      <td>8.581491</td>\n",
       "    </tr>\n",
       "    <tr>\n",
       "      <th>31</th>\n",
       "      <td>0.646</td>\n",
       "      <td>CPV</td>\n",
       "      <td>Cape Verde</td>\n",
       "      <td>4</td>\n",
       "      <td>3972.61010</td>\n",
       "      <td>0.512000</td>\n",
       "      <td>18.900000</td>\n",
       "      <td>5.07</td>\n",
       "      <td>12.200000</td>\n",
       "      <td>4.759696</td>\n",
       "    </tr>\n",
       "    <tr>\n",
       "      <th>47</th>\n",
       "      <td>0.481</td>\n",
       "      <td>BEN</td>\n",
       "      <td>Benin</td>\n",
       "      <td>4</td>\n",
       "      <td>1413.05000</td>\n",
       "      <td>10.320000</td>\n",
       "      <td>56.200001</td>\n",
       "      <td>1.40</td>\n",
       "      <td>8.800000</td>\n",
       "      <td>4.594296</td>\n",
       "    </tr>\n",
       "    <tr>\n",
       "      <th>127</th>\n",
       "      <td>0.948</td>\n",
       "      <td>NOR</td>\n",
       "      <td>Norway</td>\n",
       "      <td>5</td>\n",
       "      <td>57634.77000</td>\n",
       "      <td>5.156000</td>\n",
       "      <td>2.200000</td>\n",
       "      <td>6.06</td>\n",
       "      <td>24.100000</td>\n",
       "      <td>9.719718</td>\n",
       "    </tr>\n",
       "    <tr>\n",
       "      <th>110</th>\n",
       "      <td>0.758</td>\n",
       "      <td>MEX</td>\n",
       "      <td>Mexico</td>\n",
       "      <td>2</td>\n",
       "      <td>13609.42000</td>\n",
       "      <td>119.712997</td>\n",
       "      <td>13.900000</td>\n",
       "      <td>5.26</td>\n",
       "      <td>14.500000</td>\n",
       "      <td>6.296421</td>\n",
       "    </tr>\n",
       "    <tr>\n",
       "      <th>51</th>\n",
       "      <td>0.739</td>\n",
       "      <td>ECU</td>\n",
       "      <td>Ecuador</td>\n",
       "      <td>2</td>\n",
       "      <td>7259.52000</td>\n",
       "      <td>15.775000</td>\n",
       "      <td>19.100000</td>\n",
       "      <td>3.82</td>\n",
       "      <td>9.000000</td>\n",
       "      <td>9.161088</td>\n",
       "    </tr>\n",
       "    <tr>\n",
       "      <th>101</th>\n",
       "      <td>0.896</td>\n",
       "      <td>LUX</td>\n",
       "      <td>Luxembourg</td>\n",
       "      <td>5</td>\n",
       "      <td>61404.48000</td>\n",
       "      <td>0.550000</td>\n",
       "      <td>1.700000</td>\n",
       "      <td>11.12</td>\n",
       "      <td>24.400000</td>\n",
       "      <td>6.937873</td>\n",
       "    </tr>\n",
       "    <tr>\n",
       "      <th>90</th>\n",
       "      <td>0.899</td>\n",
       "      <td>KOR</td>\n",
       "      <td>Korea, South</td>\n",
       "      <td>6</td>\n",
       "      <td>33181.89100</td>\n",
       "      <td>50.747002</td>\n",
       "      <td>3.300000</td>\n",
       "      <td>9.33</td>\n",
       "      <td>27.400000</td>\n",
       "      <td>7.373113</td>\n",
       "    </tr>\n",
       "    <tr>\n",
       "      <th>22</th>\n",
       "      <td>0.514</td>\n",
       "      <td>SLB</td>\n",
       "      <td>Solomon Islands</td>\n",
       "      <td>9</td>\n",
       "      <td>2113.06010</td>\n",
       "      <td>0.562000</td>\n",
       "      <td>NaN</td>\n",
       "      <td>0.99</td>\n",
       "      <td>NaN</td>\n",
       "      <td>5.051063</td>\n",
       "    </tr>\n",
       "    <tr>\n",
       "      <th>97</th>\n",
       "      <td>0.427</td>\n",
       "      <td>LBR</td>\n",
       "      <td>Liberia</td>\n",
       "      <td>4</td>\n",
       "      <td>488.26999</td>\n",
       "      <td>NaN</td>\n",
       "      <td>53.599998</td>\n",
       "      <td>3.72</td>\n",
       "      <td>14.200000</td>\n",
       "      <td>10.036333</td>\n",
       "    </tr>\n",
       "  </tbody>\n",
       "</table>\n",
       "</div>"
      ],
      "text/plain": [
       "     undp_hdi ccodealp            cname  ht_region    gle_cgdpc     imf_pop  \\\n",
       "188     0.794      URY          Uruguay          2  12804.84000    3.454000   \n",
       "31      0.646      CPV       Cape Verde          4   3972.61010    0.512000   \n",
       "47      0.481      BEN            Benin          4   1413.05000   10.320000   \n",
       "127     0.948      NOR           Norway          5  57634.77000    5.156000   \n",
       "110     0.758      MEX           Mexico          2  13609.42000  119.712997   \n",
       "51      0.739      ECU          Ecuador          2   7259.52000   15.775000   \n",
       "101     0.896      LUX       Luxembourg          5  61404.48000    0.550000   \n",
       "90      0.899      KOR     Korea, South          6  33181.89100   50.747002   \n",
       "22      0.514      SLB  Solomon Islands          9   2113.06010    0.562000   \n",
       "97      0.427      LBR          Liberia          4    488.26999         NaN   \n",
       "\n",
       "     wef_imort  who_alc2000   who_tobt   wdi_exph  \n",
       "188   6.200000         6.03  24.799999   8.581491  \n",
       "31   18.900000         5.07  12.200000   4.759696  \n",
       "47   56.200001         1.40   8.800000   4.594296  \n",
       "127   2.200000         6.06  24.100000   9.719718  \n",
       "110  13.900000         5.26  14.500000   6.296421  \n",
       "51   19.100000         3.82   9.000000   9.161088  \n",
       "101   1.700000        11.12  24.400000   6.937873  \n",
       "90    3.300000         9.33  27.400000   7.373113  \n",
       "22         NaN         0.99        NaN   5.051063  \n",
       "97   53.599998         3.72  14.200000  10.036333  "
      ]
     },
     "execution_count": 5,
     "metadata": {},
     "output_type": "execute_result"
    }
   ],
   "source": [
    "submuestra.sample(10)"
   ]
  },
  {
   "cell_type": "markdown",
   "metadata": {},
   "source": [
    "#### Renombre las categorías de la variable ht_region de números a regiones"
   ]
  },
  {
   "cell_type": "code",
   "execution_count": 6,
   "metadata": {},
   "outputs": [],
   "source": [
    "submuestra['region_recod'] = submuestra['ht_region'].replace([1, 2, 3, 4, 5, 6, 7, 8, 9, 10],\n",
    "                                                            ['EastEurope', 'LatAm', 'NorthAfrica',\n",
    "                                                            'SubSaharian', 'WesternDem', 'EastAsia',\n",
    "                                                            'SouthEastAsia','SouthAsia','Pacific', \n",
    "                                                            'Caribbean' ])"
   ]
  },
  {
   "cell_type": "markdown",
   "metadata": {},
   "source": [
    "### 2. Genere una función que ingrese su objeto y devuelva:"
   ]
  },
  {
   "cell_type": "markdown",
   "metadata": {},
   "source": [
    "* Por cada variable existente en su objeto, calcule las medidas descriptivas para los casos contínuos\n",
    "* Para cada variable discreta, que calcule la frecuencia."
   ]
  },
  {
   "cell_type": "code",
   "execution_count": 7,
   "metadata": {},
   "outputs": [],
   "source": [
    "def calcular_medidas_descriptivas(objeto):\n",
    "    \"\"\"\n",
    "    calcular_medidas_descriptivas:\n",
    "        Función que permite calcular las medidas descriptivas para los casos contínuos \n",
    "        o la frecuencias absolutas para las variables discretas.\n",
    "    parameters:\n",
    "        objeto: objeto tipo DataFrame\n",
    "    returns:\n",
    "        medidas descriptivas o frecuencias absolutas\n",
    "    \"\"\"\n",
    "    \n",
    "    variables_continuas = ['float64', 'int64']\n",
    "    variables_discretas = ['object']\n",
    "    \n",
    "    for nombre_columna, serie in objeto.iteritems():\n",
    "        if isinstance(serie, pd.Series):\n",
    "            print(nombre_columna)\n",
    "            print('*************************************************************')\n",
    "            if serie.dtype in variables_continuas:\n",
    "                # vamos a eliminar los datos perdidos en la columna\n",
    "                serie = serie.dropna()\n",
    "                print(round(serie.describe(),2))\n",
    "            if serie.dtype in variables_discretas:\n",
    "                print(serie.value_counts())"
   ]
  },
  {
   "cell_type": "code",
   "execution_count": 8,
   "metadata": {},
   "outputs": [
    {
     "name": "stdout",
     "output_type": "stream",
     "text": [
      "undp_hdi\n",
      "*************************************************************\n",
      "count    94.00\n",
      "mean      0.71\n",
      "std       0.14\n",
      "min       0.40\n",
      "25%       0.60\n",
      "50%       0.74\n",
      "75%       0.80\n",
      "max       0.95\n",
      "Name: undp_hdi, dtype: float64\n",
      "ccodealp\n",
      "*************************************************************\n",
      "MKD    1\n",
      "ATG    1\n",
      "LBY    1\n",
      "CMR    1\n",
      "OMN    1\n",
      "TTO    1\n",
      "BDI    1\n",
      "TON    1\n",
      "GUY    1\n",
      "URY    1\n",
      "BFA    1\n",
      "ECU    1\n",
      "SMR    1\n",
      "KAZ    1\n",
      "GHA    1\n",
      "MDG    1\n",
      "KWT    1\n",
      "KIR    1\n",
      "ROU    1\n",
      "BLR    1\n",
      "ARM    1\n",
      "LIE    1\n",
      "SLB    1\n",
      "HRV    1\n",
      "BLZ    1\n",
      "COM    1\n",
      "COL    1\n",
      "NGA    1\n",
      "SUR    1\n",
      "NOR    1\n",
      "      ..\n",
      "ZAF    1\n",
      "SLV    1\n",
      "UGA    1\n",
      "SDN    1\n",
      "SVN    1\n",
      "USA    1\n",
      "BRB    1\n",
      "ISL    1\n",
      "CPV    1\n",
      "MCO    1\n",
      "COG    1\n",
      "NLD    1\n",
      "AUT    1\n",
      "BOL    1\n",
      "TWN    1\n",
      "BRN    1\n",
      "JOR    1\n",
      "STP    1\n",
      "GAB    1\n",
      "POL    1\n",
      "KEN    1\n",
      "MEX    1\n",
      "PLW    1\n",
      "ALB    1\n",
      "TLS    1\n",
      "PRT    1\n",
      "LBR    1\n",
      "LCA    1\n",
      "KGZ    1\n",
      "BTN    1\n",
      "Name: ccodealp, Length: 97, dtype: int64\n",
      "cname\n",
      "*************************************************************\n",
      "Tonga                            1\n",
      "Ecuador                          1\n",
      "Brunei                           1\n",
      "Costa Rica                       1\n",
      "Taiwan                           1\n",
      "Swaziland                        1\n",
      "Jordan                           1\n",
      "St Lucia                         1\n",
      "Trinidad and Tobago              1\n",
      "Comoros                          1\n",
      "Antigua and Barbuda              1\n",
      "Belarus                          1\n",
      "Guyana                           1\n",
      "Armenia                          1\n",
      "Latvia                           1\n",
      "India                            1\n",
      "Qatar                            1\n",
      "Belgium                          1\n",
      "Grenada                          1\n",
      "Portugal                         1\n",
      "Cyprus (1975-)                   1\n",
      "Guatemala                        1\n",
      "Kenya                            1\n",
      "Burundi                          1\n",
      "Sudan (2012-)                    1\n",
      "Gambia                           1\n",
      "United States                    1\n",
      "Luxembourg                       1\n",
      "St Vincent and the Grenadines    1\n",
      "Mexico                           1\n",
      "                                ..\n",
      "Macedonia                        1\n",
      "Uruguay                          1\n",
      "Suriname                         1\n",
      "China                            1\n",
      "Liechtenstein                    1\n",
      "Chile                            1\n",
      "Cape Verde                       1\n",
      "Timor-Leste                      1\n",
      "Liberia                          1\n",
      "United Kingdom                   1\n",
      "Kyrgyzstan                       1\n",
      "Colombia                         1\n",
      "Kiribati                         1\n",
      "Sri Lanka                        1\n",
      "Sao Tome and Principe            1\n",
      "Slovenia                         1\n",
      "Cambodia                         1\n",
      "Haiti                            1\n",
      "Cameroon                         1\n",
      "Romania                          1\n",
      "Bahrain                          1\n",
      "Nigeria                          1\n",
      "Papua New Guinea                 1\n",
      "Kuwait                           1\n",
      "Iceland                          1\n",
      "Ghana                            1\n",
      "Libya                            1\n",
      "Austria                          1\n",
      "Madagascar                       1\n",
      "Egypt                            1\n",
      "Name: cname, Length: 97, dtype: int64\n",
      "ht_region\n",
      "*************************************************************\n",
      "count    97.00\n",
      "mean      4.47\n",
      "std       2.81\n",
      "min       1.00\n",
      "25%       2.00\n",
      "50%       4.00\n",
      "75%       5.00\n",
      "max      10.00\n",
      "Name: ht_region, dtype: float64\n",
      "gle_cgdpc\n",
      "*************************************************************\n",
      "count        96.00\n",
      "mean      16390.70\n",
      "std       21470.27\n",
      "min         332.27\n",
      "25%        2922.31\n",
      "50%        9051.72\n",
      "75%       21776.31\n",
      "max      108481.13\n",
      "Name: gle_cgdpc, dtype: float64\n",
      "imf_pop\n",
      "*************************************************************\n",
      "count     71.00\n",
      "mean      22.37\n",
      "std       50.32\n",
      "min        0.02\n",
      "25%        0.77\n",
      "50%        4.38\n",
      "75%       17.14\n",
      "max      318.79\n",
      "Name: imf_pop, dtype: float64\n",
      "wef_imort\n",
      "*************************************************************\n",
      "count    78.00\n",
      "mean     22.64\n",
      "std      20.53\n",
      "min       1.70\n",
      "25%       6.35\n",
      "50%      14.85\n",
      "75%      33.75\n",
      "max      77.80\n",
      "Name: wef_imort, dtype: float64\n",
      "who_alc2000\n",
      "*************************************************************\n",
      "count    91.00\n",
      "mean      5.22\n",
      "std       3.66\n",
      "min       0.00\n",
      "25%       1.86\n",
      "50%       5.07\n",
      "75%       8.36\n",
      "max      13.94\n",
      "Name: who_alc2000, dtype: float64\n",
      "who_tobt\n",
      "*************************************************************\n",
      "count    61.00\n",
      "mean     22.00\n",
      "std       9.49\n",
      "min       6.30\n",
      "25%      14.20\n",
      "50%      22.60\n",
      "75%      27.40\n",
      "max      54.00\n",
      "Name: who_tobt, dtype: float64\n",
      "wdi_exph\n",
      "*************************************************************\n",
      "count    95.00\n",
      "mean      6.60\n",
      "std       2.45\n",
      "min       1.48\n",
      "25%       4.97\n",
      "50%       6.33\n",
      "75%       8.34\n",
      "max      17.14\n",
      "Name: wdi_exph, dtype: float64\n",
      "region_recod\n",
      "*************************************************************\n",
      "SubSaharian      23\n",
      "EastEurope       15\n",
      "WesternDem       13\n",
      "LatAm            12\n",
      "Caribbean        10\n",
      "NorthAfrica      10\n",
      "Pacific           5\n",
      "SouthAsia         3\n",
      "SouthEastAsia     3\n",
      "EastAsia          3\n",
      "Name: region_recod, dtype: int64\n"
     ]
    }
   ],
   "source": [
    "calcular_medidas_descriptivas(submuestra)"
   ]
  },
  {
   "cell_type": "markdown",
   "metadata": {},
   "source": [
    "#### Reporte las estadísticas descriptivas para gle_cgdpc , undp_hdi , imf_pop  (Muestra de los 50% de los casos)"
   ]
  },
  {
   "cell_type": "markdown",
   "metadata": {},
   "source": [
    "#####  gle_cgdpc"
   ]
  },
  {
   "cell_type": "markdown",
   "metadata": {},
   "source": [
    "* El promedio PIB per capita es de aproximadamente 16390.70.\n",
    "* El 50% de los paises tienen un PIB per capita  menor que o igual a 9051.72, mientras que el otro 50% de los paises tienen un PIB per capita mayor que o igual a 9051.72.\n",
    "* El PIB per capita de los paises de la muestra tiene una desviación, en promedio de 21470.27 respecto a la media."
   ]
  },
  {
   "cell_type": "markdown",
   "metadata": {},
   "source": [
    "##### undp_hdi"
   ]
  },
  {
   "cell_type": "markdown",
   "metadata": {},
   "source": [
    "* El promedio del índice de desarrollo humano es de aproximadamente 0.71.\n",
    "* El 50% de los paises tienen un índice de desarrollo humano menor que o igual a 0.74, mientras que el otro 50% de los paises tienen un índice de desarrollo humano mayor que o igual a 0.74.\n",
    "* El índice de desarrollo humano de los paises de la muestra tiene una desviación, en promedio de 0.14 respecto a la media."
   ]
  },
  {
   "cell_type": "markdown",
   "metadata": {},
   "source": [
    "##### imf_pop"
   ]
  },
  {
   "cell_type": "markdown",
   "metadata": {},
   "source": [
    "* El promedio del total de la población es de aproximadamente 22.37.\n",
    "* El 50% de los paises tienen un total de la población menor que o igual a 4.38, mientras que el otro 50% de los paises tienen un total de la población mayor que o igual a 4.38.\n",
    "* El total de la población de los paises de la muestra tiene una desviación, en promedio de 50.32 respecto a la media."
   ]
  },
  {
   "cell_type": "markdown",
   "metadata": {},
   "source": [
    "### 3. Genere una función que liste las observaciones perdidas de una variable"
   ]
  },
  {
   "cell_type": "markdown",
   "metadata": {},
   "source": [
    "* La función debe contener los siguientes argumentos:\n",
    "    * dataframe : La función debe ingresar un objeto DataFrame.\n",
    "    * var : Variable a inspeccionar.\n",
    "    * print_list : Opción para imprimir la lista de observaciones perdidas en la variable. Debe ser False por defecto."
   ]
  },
  {
   "cell_type": "code",
   "execution_count": 9,
   "metadata": {},
   "outputs": [],
   "source": [
    "def observaciones_perdidas(dataframe, var, print_list=False):\n",
    "    \"\"\"\n",
    "    observaciones_perdidas:\n",
    "        Función que permite listar las observaciones perdidas de una variable\n",
    "    parameters:\n",
    "        dataframe: objeto DataFrame.\n",
    "        var: Variable a inspeccionar.\n",
    "        print_list : Opción para imprimir la lista de observaciones perdidas en la variable, \n",
    "        por defecto es False.\n",
    "    return:\n",
    "        cantidad de casos perdidos, porcentaje correspondiente\n",
    "    \"\"\"\n",
    "    # Cuando print_list = True , debe retornar la lista de casos\n",
    "    if print_list:\n",
    "        return dataframe[dataframe[var].isna()]\n",
    "    \n",
    "    # La función debe retornar la cantidad de casos perdidos y el porcentaje correspondiente\n",
    "    cantidad = dataframe[var].isnull().sum()\n",
    "    porcentaje = cantidad / len(dataframe)\n",
    "    resultado = {\"cantidad\": cantidad, \"porcentaje\": round(porcentaje, 2), 'tipo': dataframe[var].dtypes}\n",
    "    return resultado"
   ]
  },
  {
   "cell_type": "markdown",
   "metadata": {},
   "source": [
    "<b>La función debe retornar la cantidad de casos perdidos y el porcentaje correspondiente.</b>"
   ]
  },
  {
   "cell_type": "code",
   "execution_count": 10,
   "metadata": {},
   "outputs": [
    {
     "data": {
      "text/plain": [
       "{'cantidad': 3, 'porcentaje': 0.03, 'tipo': dtype('float64')}"
      ]
     },
     "execution_count": 10,
     "metadata": {},
     "output_type": "execute_result"
    }
   ],
   "source": [
    "observaciones_perdidas(submuestra, 'undp_hdi')"
   ]
  },
  {
   "cell_type": "markdown",
   "metadata": {},
   "source": [
    "<b>Cuando print_list = True , debe retornar la lista de casos.</b>"
   ]
  },
  {
   "cell_type": "code",
   "execution_count": 11,
   "metadata": {},
   "outputs": [
    {
     "data": {
      "text/html": [
       "<div>\n",
       "<style scoped>\n",
       "    .dataframe tbody tr th:only-of-type {\n",
       "        vertical-align: middle;\n",
       "    }\n",
       "\n",
       "    .dataframe tbody tr th {\n",
       "        vertical-align: top;\n",
       "    }\n",
       "\n",
       "    .dataframe thead th {\n",
       "        text-align: right;\n",
       "    }\n",
       "</style>\n",
       "<table border=\"1\" class=\"dataframe\">\n",
       "  <thead>\n",
       "    <tr style=\"text-align: right;\">\n",
       "      <th></th>\n",
       "      <th>undp_hdi</th>\n",
       "      <th>ccodealp</th>\n",
       "      <th>cname</th>\n",
       "      <th>ht_region</th>\n",
       "      <th>gle_cgdpc</th>\n",
       "      <th>imf_pop</th>\n",
       "      <th>wef_imort</th>\n",
       "      <th>who_alc2000</th>\n",
       "      <th>who_tobt</th>\n",
       "      <th>wdi_exph</th>\n",
       "      <th>region_recod</th>\n",
       "    </tr>\n",
       "  </thead>\n",
       "  <tbody>\n",
       "    <tr>\n",
       "      <th>37</th>\n",
       "      <td>NaN</td>\n",
       "      <td>TWN</td>\n",
       "      <td>Taiwan</td>\n",
       "      <td>6</td>\n",
       "      <td>33965.871</td>\n",
       "      <td>23.434</td>\n",
       "      <td>3.934564</td>\n",
       "      <td>NaN</td>\n",
       "      <td>NaN</td>\n",
       "      <td>NaN</td>\n",
       "      <td>EastAsia</td>\n",
       "    </tr>\n",
       "    <tr>\n",
       "      <th>148</th>\n",
       "      <td>NaN</td>\n",
       "      <td>SMR</td>\n",
       "      <td>San Marino</td>\n",
       "      <td>5</td>\n",
       "      <td>42664.211</td>\n",
       "      <td>0.034</td>\n",
       "      <td>NaN</td>\n",
       "      <td>NaN</td>\n",
       "      <td>NaN</td>\n",
       "      <td>6.129065</td>\n",
       "      <td>WesternDem</td>\n",
       "    </tr>\n",
       "    <tr>\n",
       "      <th>111</th>\n",
       "      <td>NaN</td>\n",
       "      <td>MCO</td>\n",
       "      <td>Monaco</td>\n",
       "      <td>5</td>\n",
       "      <td>108481.130</td>\n",
       "      <td>NaN</td>\n",
       "      <td>NaN</td>\n",
       "      <td>NaN</td>\n",
       "      <td>NaN</td>\n",
       "      <td>4.337683</td>\n",
       "      <td>WesternDem</td>\n",
       "    </tr>\n",
       "  </tbody>\n",
       "</table>\n",
       "</div>"
      ],
      "text/plain": [
       "     undp_hdi ccodealp       cname  ht_region   gle_cgdpc  imf_pop  wef_imort  \\\n",
       "37        NaN      TWN      Taiwan          6   33965.871   23.434   3.934564   \n",
       "148       NaN      SMR  San Marino          5   42664.211    0.034        NaN   \n",
       "111       NaN      MCO      Monaco          5  108481.130      NaN        NaN   \n",
       "\n",
       "     who_alc2000  who_tobt  wdi_exph region_recod  \n",
       "37           NaN       NaN       NaN     EastAsia  \n",
       "148          NaN       NaN  6.129065   WesternDem  \n",
       "111          NaN       NaN  4.337683   WesternDem  "
      ]
     },
     "execution_count": 11,
     "metadata": {},
     "output_type": "execute_result"
    }
   ],
   "source": [
    "observaciones_perdidas(submuestra, 'undp_hdi', True)"
   ]
  },
  {
   "cell_type": "markdown",
   "metadata": {},
   "source": [
    "<b>Analice todas las variables y sus casos perdidos</b>"
   ]
  },
  {
   "cell_type": "code",
   "execution_count": 12,
   "metadata": {},
   "outputs": [
    {
     "name": "stdout",
     "output_type": "stream",
     "text": [
      "undp_hdi {'cantidad': 3, 'porcentaje': 0.03, 'tipo': dtype('float64')}\n",
      "ccodealp {'cantidad': 0, 'porcentaje': 0.0, 'tipo': dtype('O')}\n",
      "cname {'cantidad': 0, 'porcentaje': 0.0, 'tipo': dtype('O')}\n",
      "ht_region {'cantidad': 0, 'porcentaje': 0.0, 'tipo': dtype('int64')}\n",
      "gle_cgdpc {'cantidad': 1, 'porcentaje': 0.01, 'tipo': dtype('float64')}\n",
      "imf_pop {'cantidad': 26, 'porcentaje': 0.27, 'tipo': dtype('float64')}\n",
      "wef_imort {'cantidad': 19, 'porcentaje': 0.2, 'tipo': dtype('float64')}\n",
      "who_alc2000 {'cantidad': 6, 'porcentaje': 0.06, 'tipo': dtype('float64')}\n",
      "who_tobt {'cantidad': 36, 'porcentaje': 0.37, 'tipo': dtype('float64')}\n",
      "wdi_exph {'cantidad': 2, 'porcentaje': 0.02, 'tipo': dtype('float64')}\n",
      "region_recod {'cantidad': 0, 'porcentaje': 0.0, 'tipo': dtype('O')}\n"
     ]
    }
   ],
   "source": [
    "for variable in submuestra.columns:\n",
    "    print(variable, observaciones_perdidas(submuestra, variable))"
   ]
  },
  {
   "cell_type": "markdown",
   "metadata": {},
   "source": [
    "<b>Para las 3 variables con un mayor porcentaje de casos perdidos, solicite la lista de países con\n",
    "ausencia de datos.</b>"
   ]
  },
  {
   "cell_type": "code",
   "execution_count": 13,
   "metadata": {},
   "outputs": [
    {
     "name": "stdout",
     "output_type": "stream",
     "text": [
      "wef_imort\n",
      "27                           Belarus\n",
      "10                           Bahamas\n",
      "173                            Tonga\n",
      "66                          Kiribati\n",
      "39                           Comoros\n",
      "68                           Grenada\n",
      "5                Antigua and Barbuda\n",
      "99                     Liechtenstein\n",
      "40                             Congo\n",
      "130                            Palau\n",
      "178                     Turkmenistan\n",
      "148                       San Marino\n",
      "111                           Monaco\n",
      "149            Sao Tome and Principe\n",
      "22                   Solomon Islands\n",
      "146                         St Lucia\n",
      "133                 Papua New Guinea\n",
      "164                    Sudan (2012-)\n",
      "147    St Vincent and the Grenadines\n",
      "Name: cname, dtype: object\n",
      "*************************************************************\n",
      "imf_pop\n",
      "118                  Namibia\n",
      "72                     Haiti\n",
      "97                   Liberia\n",
      "69                 Guatemala\n",
      "68                   Grenada\n",
      "5        Antigua and Barbuda\n",
      "36                     China\n",
      "29                  Cameroon\n",
      "65                     Ghana\n",
      "26                   Burundi\n",
      "52               El Salvador\n",
      "99             Liechtenstein\n",
      "40                     Congo\n",
      "61                     Gabon\n",
      "50        Dominican Republic\n",
      "178             Turkmenistan\n",
      "176                  Tunisia\n",
      "111                   Monaco\n",
      "102               Madagascar\n",
      "63                    Gambia\n",
      "42                Costa Rica\n",
      "149    Sao Tome and Principe\n",
      "1                    Albania\n",
      "76                     India\n",
      "95                   Lesotho\n",
      "164            Sudan (2012-)\n",
      "Name: cname, dtype: object\n",
      "*************************************************************\n",
      "who_tobt\n",
      "45                    Cyprus (1975-)\n",
      "37                            Taiwan\n",
      "10                           Bahamas\n",
      "21                            Belize\n",
      "9                            Austria\n",
      "69                         Guatemala\n",
      "68                           Grenada\n",
      "141                            Qatar\n",
      "5                Antigua and Barbuda\n",
      "26                           Burundi\n",
      "52                       El Salvador\n",
      "165                         Suriname\n",
      "99                     Liechtenstein\n",
      "61                             Gabon\n",
      "130                            Palau\n",
      "178                     Turkmenistan\n",
      "176                          Tunisia\n",
      "16                            Bhutan\n",
      "148                       San Marino\n",
      "111                           Monaco\n",
      "102                       Madagascar\n",
      "63                            Gambia\n",
      "140                      Timor-Leste\n",
      "149            Sao Tome and Principe\n",
      "17                           Bolivia\n",
      "22                   Solomon Islands\n",
      "98                             Libya\n",
      "146                         St Lucia\n",
      "133                 Papua New Guinea\n",
      "174              Trinidad and Tobago\n",
      "71                            Guyana\n",
      "70                            Guinea\n",
      "91                            Kuwait\n",
      "182                        Macedonia\n",
      "164                    Sudan (2012-)\n",
      "147    St Vincent and the Grenadines\n",
      "Name: cname, dtype: object\n",
      "*************************************************************\n"
     ]
    }
   ],
   "source": [
    "for variable in ['wef_imort', 'imf_pop', 'who_tobt']:\n",
    "    print(variable)\n",
    "    print(submuestra[submuestra[variable].isna()]['cname']) # ccodealp\n",
    "    print('*************************************************************')"
   ]
  },
  {
   "cell_type": "code",
   "execution_count": 14,
   "metadata": {},
   "outputs": [
    {
     "data": {
      "text/plain": [
       "45                    Cyprus (1975-)\n",
       "37                            Taiwan\n",
       "10                           Bahamas\n",
       "21                            Belize\n",
       "9                            Austria\n",
       "69                         Guatemala\n",
       "68                           Grenada\n",
       "141                            Qatar\n",
       "5                Antigua and Barbuda\n",
       "26                           Burundi\n",
       "52                       El Salvador\n",
       "165                         Suriname\n",
       "99                     Liechtenstein\n",
       "61                             Gabon\n",
       "130                            Palau\n",
       "178                     Turkmenistan\n",
       "176                          Tunisia\n",
       "16                            Bhutan\n",
       "148                       San Marino\n",
       "111                           Monaco\n",
       "102                       Madagascar\n",
       "63                            Gambia\n",
       "140                      Timor-Leste\n",
       "149            Sao Tome and Principe\n",
       "17                           Bolivia\n",
       "22                   Solomon Islands\n",
       "98                             Libya\n",
       "146                         St Lucia\n",
       "133                 Papua New Guinea\n",
       "174              Trinidad and Tobago\n",
       "71                            Guyana\n",
       "70                            Guinea\n",
       "91                            Kuwait\n",
       "182                        Macedonia\n",
       "164                    Sudan (2012-)\n",
       "147    St Vincent and the Grenadines\n",
       "Name: cname, dtype: object"
      ]
     },
     "execution_count": 14,
     "metadata": {},
     "output_type": "execute_result"
    }
   ],
   "source": [
    "observaciones_perdidas(submuestra, 'who_tobt', True)['cname']"
   ]
  },
  {
   "cell_type": "markdown",
   "metadata": {},
   "source": [
    "### 4. Grafique los histogramas"
   ]
  },
  {
   "cell_type": "markdown",
   "metadata": {},
   "source": [
    "Genere una función que grafique un histograma en conjunto y señale las medias. La función debe incluír los siguientes argumentos:\n",
    "* dataframe : La base de datos donde se encuentran los datos específicos.\n",
    "* var : La variable a graficar.\n",
    "* sample_mean : Booleano. Si es verdadero, debe generar una recta vertical indicando la media de la variable en la selección muestral. Por defecto debe ser False .\n",
    "* true_mean : Booleano. Si es verdadero, debe generar una recta vertical indicando la media de variable en la base de datos completa."
   ]
  },
  {
   "cell_type": "code",
   "execution_count": 15,
   "metadata": {},
   "outputs": [],
   "source": [
    "def crear_histograma(dataframe, var, sample_mean=False, true_mean=False):\n",
    "    \"\"\"\n",
    "    crear_histograma:\n",
    "        Función que permite crear un histograma\n",
    "    parameters:\n",
    "        dataframe : La base de datos donde se encuentran los datos específicos.\n",
    "        var : La variable a graficar.\n",
    "        sample_mean : Booleano. Si es verdadero, debe generar una recta vertical indicando la\n",
    "        media de la variable en la selección muestral. Por defecto debe ser False.\n",
    "        true_mean : Booleano. Si es verdadero, debe generar una recta vertical indicando la\n",
    "        media de variable en la base de datos completa.\n",
    "    returns:\n",
    "        histograma\n",
    "    \"\"\"\n",
    "    muestra = dataframe[var].dropna()\n",
    "    \n",
    "    if sample_mean:\n",
    "        media_var_muestra = muestra.mean()\n",
    "        plt.axvline(media_var_muestra, \n",
    "                    lw=3, \n",
    "                    color='tomato', \n",
    "                    linestyle='--', \n",
    "                    label=f\"Media Sel. Muestral ({round(media_var_muestra, 2)}%)\")\n",
    "        plt.legend()\n",
    "\n",
    "    if true_mean:\n",
    "        muestra_completa = df[var].dropna()\n",
    "        media_var_muestra_comp = muestra_completa.mean()\n",
    "        plt.axvline(media_var_muestra_comp, \n",
    "                    lw=3,\n",
    "                    color='green', \n",
    "                    linestyle='--', \n",
    "                    label=f\"Media Muestra Global ({round(media_var_muestra_comp, 2)}%)\")\n",
    "        plt.legend()\n",
    "\n",
    "    plt.hist(muestra, color='lightgrey')\n",
    "    plt.xlabel(var)\n",
    "    plt.ylabel('Frecuencia')\n",
    "    plt.show()"
   ]
  },
  {
   "cell_type": "code",
   "execution_count": 16,
   "metadata": {},
   "outputs": [
    {
     "name": "stdout",
     "output_type": "stream",
     "text": [
      "HISTOGRAMA VARIABLE \"WEF_IMORT\"\n"
     ]
    },
    {
     "data": {
      "image/png": "[encoded data removed]",
      "text/plain": [
       "<Figure size 432x288 with 1 Axes>"
      ]
     },
     "metadata": {
      "needs_background": "light"
     },
     "output_type": "display_data"
    },
    {
     "name": "stdout",
     "output_type": "stream",
     "text": [
      "HISTOGRAMA VARIABLE \"WHO_ALC2000\"\n"
     ]
    },
    {
     "data": {
      "image/png": "[encoded data removed]",
      "text/plain": [
       "<Figure size 432x288 with 1 Axes>"
      ]
     },
     "metadata": {
      "needs_background": "light"
     },
     "output_type": "display_data"
    },
    {
     "name": "stdout",
     "output_type": "stream",
     "text": [
      "HISTOGRAMA VARIABLE \"WHO_TOBT\"\n"
     ]
    },
    {
     "data": {
      "image/png": "[encoded data removed]",
      "text/plain": [
       "<Figure size 432x288 with 1 Axes>"
      ]
     },
     "metadata": {
      "needs_background": "light"
     },
     "output_type": "display_data"
    },
    {
     "name": "stdout",
     "output_type": "stream",
     "text": [
      "HISTOGRAMA VARIABLE \"WDI_EXPH\"\n"
     ]
    },
    {
     "data": {
      "image/png": "[encoded data removed]",
      "text/plain": [
       "<Figure size 432x288 with 1 Axes>"
      ]
     },
     "metadata": {
      "needs_background": "light"
     },
     "output_type": "display_data"
    }
   ],
   "source": [
    "for variable in ['wef_imort','who_alc2000','who_tobt','wdi_exph']:\n",
    "    print('HISTOGRAMA VARIABLE \"{}\"'.format(variable.upper()))\n",
    "    crear_histograma(submuestra, variable, True, True)"
   ]
  },
  {
   "cell_type": "markdown",
   "metadata": {},
   "source": [
    "<b>¿En qué variables la media de la submuestra es mayor a la de la muestra completa?</b>"
   ]
  },
  {
   "cell_type": "markdown",
   "metadata": {},
   "source": [
    "Se puede observar que la variable <b>who_alc2000</b> la media de la submuestra es mayor a la de la muestra completa. Para las variables wef_imort, who_tobt y wdi_exph la media de la sumuestra es menor a la de la muestra completa."
   ]
  },
  {
   "cell_type": "markdown",
   "metadata": {},
   "source": [
    "### 5. Genere una función que devuelva un dotplot"
   ]
  },
  {
   "cell_type": "markdown",
   "metadata": {},
   "source": [
    "La función debe contener los siguientes argumentos como argumentos:\n",
    "* dataframe : La tabla de datos donde buscar las variables.\n",
    "* plot_var : La variable a analizar y extraer las medias.\n",
    "* plot_by : La variable agrupadora.\n",
    "* global_stat : Booleano. Si es True debe graficar la media global de la variable. Por defecto debe ser False.\n",
    "* statistic: Debe presentar dos opciones. mean para la media y median para la mediana.Por defecto debe ser mean ."
   ]
  },
  {
   "cell_type": "code",
   "execution_count": 17,
   "metadata": {},
   "outputs": [],
   "source": [
    "def crear_dotplot(dataframe, plot_var, plot_by, global_stat=False, statistic='mean'):\n",
    "    \"\"\"\n",
    "    crear_dotplot:\n",
    "        Función que permite crear un dotplot\n",
    "    parameters:\n",
    "        dataframe : La tabla de datos donde buscar las variables.\n",
    "        plot_var : La variable a analizar y extraer las medias.\n",
    "        plot_by : La variable agrupadora.\n",
    "        global_stat : Booleano. Si es True debe graficar la media global de la variable. Por\n",
    "        defecto debe ser False .\n",
    "        statistic: Debe presentar dos opciones. mean para la media y median para la mediana.\n",
    "        Por defecto debe ser mean .\n",
    "    returns:\n",
    "        dotplot\n",
    "    \"\"\"\n",
    "    # Medidas de tendencia variable\n",
    "    variable = plot_var\n",
    "    media_muestra = round(submuestra[variable].mean(),2);\n",
    "    mediana_muestra = round(submuestra[variable].median(),2);\n",
    "    media_global = round(df[variable].mean(),2);\n",
    "    \n",
    "    # Datos agrupados\n",
    "    submuestra_agrupada = submuestra.groupby(plot_by)[variable]\n",
    "\n",
    "    # mean para la media\n",
    "    if statistic == 'mean':\n",
    "        media_mediana_muestra = media_muestra;\n",
    "        promedios_continentes = round(submuestra_agrupada.mean(),2)\n",
    "        promedios = promedios_continentes.values\n",
    "        continentes = promedios_continentes.index\n",
    "        label_muestra = f\"Media Sel. Muestral ({round(media_muestra, 2)}%)\"\n",
    "        \n",
    "    # median para la mediana           \n",
    "    if statistic == 'median':\n",
    "        media_mediana_muestra = mediana_muestra;\n",
    "        promedios_continentes = round(submuestra_agrupada.median(),2)\n",
    "        promedios = promedios_continentes.values\n",
    "        continentes = promedios_continentes.index\n",
    "        label_muestra = f\"Mediana Sel. Muestral ({round(mediana_muestra, 2)}%)\"\n",
    "    \n",
    "    # Graficar la media global de la variable\n",
    "    if global_stat:\n",
    "        plt.axvline(media_global, \n",
    "                    lw=3,\n",
    "                    color='green',\n",
    "                    linestyle='--', \n",
    "                    label=f\"Media Muestra Global ({round(media_global, 2)}%)\")\n",
    "        plt.legend()\n",
    "        \n",
    "    # Crear dotplot\n",
    "    plt.title('Dotplot variable {}'.format(variable))\n",
    "    plt.plot(promedios, continentes, 's', color='#0066FF')   \n",
    "        \n",
    "    # Graficar la media o mediana según valor de statistic\n",
    "    plt.axvline(media_mediana_muestra,\n",
    "                lw=3, \n",
    "                color='tomato', \n",
    "                linestyle='--', \n",
    "                label=label_muestra)\n",
    "    plt.legend()\n",
    "    plt.show()"
   ]
  },
  {
   "cell_type": "markdown",
   "metadata": {},
   "source": [
    "<b>Implemente la función en las 3 variables con una menor cantidad de datos perdidos</b>"
   ]
  },
  {
   "cell_type": "code",
   "execution_count": 18,
   "metadata": {},
   "outputs": [
    {
     "data": {
      "image/png": "[encoded data removed]",
      "text/plain": [
       "<Figure size 432x288 with 1 Axes>"
      ]
     },
     "metadata": {
      "needs_background": "light"
     },
     "output_type": "display_data"
    },
    {
     "data": {
      "image/png": "[encoded data removed]",
      "text/plain": [
       "<Figure size 432x288 with 1 Axes>"
      ]
     },
     "metadata": {
      "needs_background": "light"
     },
     "output_type": "display_data"
    },
    {
     "data": {
      "image/png": "[encoded data removed]",
      "text/plain": [
       "<Figure size 432x288 with 1 Axes>"
      ]
     },
     "metadata": {
      "needs_background": "light"
     },
     "output_type": "display_data"
    }
   ],
   "source": [
    "for variable in ['ht_region', 'gle_cgdpc', 'wdi_exph']:\n",
    "    crear_dotplot(submuestra, variable, 'region_recod', True, 'mean')"
   ]
  },
  {
   "cell_type": "markdown",
   "metadata": {},
   "source": [
    "## 6. Guarde la base de datos"
   ]
  },
  {
   "cell_type": "markdown",
   "metadata": {},
   "source": [
    "La submuestra creada tiene un método llamado to_csv . Acceda a éste y guarde la base subsample_<iniciales>_demo.csv . (Súbala a la plataforma, junto al desafío)"
   ]
  },
  {
   "cell_type": "code",
   "execution_count": 19,
   "metadata": {},
   "outputs": [],
   "source": [
    "submuestra.to_csv('subsample_cvm_demo.csv')"
   ]
  },
  {
   "cell_type": "code",
   "execution_count": null,
   "metadata": {},
   "outputs": [],
   "source": []
  }
 ],
 "metadata": {
  "kernelspec": {
   "display_name": "Python 3",
   "language": "python",
   "name": "python3"
  },
  "language_info": {
   "codemirror_mode": {
    "name": "ipython",
    "version": 3
   },
   "file_extension": ".py",
   "mimetype": "text/x-python",
   "name": "python",
   "nbconvert_exporter": "python",
   "pygments_lexer": "ipython3",
   "version": "3.7.3"
  }
 },
 "nbformat": 4,
 "nbformat_minor": 2
}
