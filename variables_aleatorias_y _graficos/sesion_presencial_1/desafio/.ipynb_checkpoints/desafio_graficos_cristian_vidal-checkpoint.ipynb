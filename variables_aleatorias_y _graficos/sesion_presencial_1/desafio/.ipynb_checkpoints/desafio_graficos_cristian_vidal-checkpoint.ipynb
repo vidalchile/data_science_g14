{
 "cells": [
  {
   "cell_type": "markdown",
   "metadata": {},
   "source": [
    "# Desafío - Gráficos\n",
    "## Cristian Vidal"
   ]
  },
  {
   "cell_type": "code",
   "execution_count": 1,
   "metadata": {},
   "outputs": [],
   "source": [
    "import pandas as pd\n",
    "import numpy as np\n",
    "import matplotlib.pyplot as plt"
   ]
  },
  {
   "cell_type": "code",
   "execution_count": 3,
   "metadata": {},
   "outputs": [],
   "source": [
    "df = pd.read_csv('qog_std_cs_jan18.csv');"
   ]
  },
  {
   "cell_type": "markdown",
   "metadata": {},
   "source": [
    "### 1. Genere una submuestra de casos"
   ]
  },
  {
   "cell_type": "markdown",
   "metadata": {},
   "source": [
    "* Utilice los últimos 4 dígitos de su rut como semilla pseudoaleatoria"
   ]
  },
  {
   "cell_type": "code",
   "execution_count": 11,
   "metadata": {},
   "outputs": [],
   "source": [
    "semilla_pseudoaleatoria = 4968"
   ]
  },
  {
   "cell_type": "markdown",
   "metadata": {},
   "source": [
    "* Seleccione el 50% de los casos\n",
    "* Cada base generada debe contener los siguientes elementos:\n",
    "    * El índice de desarrollo humano ( undp_hdi )\n",
    "    * El nombre del país ( ccodealp )\n",
    "    * La región a la que pertenece ( ht_region )\n",
    "    * El PIB per capita. ( gle_cgdpc )\n",
    "    * El total de la población ( imf_pop )\n",
    "* Si su apellido está entre la N y la Z, escoja las siguientes variables del módulo Salud:\n",
    "    * wef_imort : Infant mortality, deaths/1000 live births\n",
    "    * who_alc2000 : Alcohol consumption per capita (2000-)\n",
    "    * who_tobt : Current smoking of any tobacco product (Total).\n",
    "    * wdi_exph : Government expenditure on health, total (% of GDP)\n",
    "* Guarde esta tabla procesada en un nuevo objeto"
   ]
  },
  {
   "cell_type": "code",
   "execution_count": 19,
   "metadata": {},
   "outputs": [],
   "source": [
    "submuestra_pseudoaleatoria = df.sample(frac=0.5, random_state=semilla_pseudoaleatoria)\n",
    "submuestra = submuestra_pseudoaleatoria.loc[:,['undp_hdi', 'ccodealp', 'ht_region', \n",
    "                                                'gle_cgdpc', 'imf_pop', 'wef_imort',\n",
    "                                                'who_alc2000', 'who_tobt', 'wdi_exph']]"
   ]
  },
  {
   "cell_type": "code",
   "execution_count": 48,
   "metadata": {},
   "outputs": [
    {
     "data": {
      "text/html": [
       "<div>\n",
       "<style scoped>\n",
       "    .dataframe tbody tr th:only-of-type {\n",
       "        vertical-align: middle;\n",
       "    }\n",
       "\n",
       "    .dataframe tbody tr th {\n",
       "        vertical-align: top;\n",
       "    }\n",
       "\n",
       "    .dataframe thead th {\n",
       "        text-align: right;\n",
       "    }\n",
       "</style>\n",
       "<table border=\"1\" class=\"dataframe\">\n",
       "  <thead>\n",
       "    <tr style=\"text-align: right;\">\n",
       "      <th></th>\n",
       "      <th>undp_hdi</th>\n",
       "      <th>ccodealp</th>\n",
       "      <th>ht_region</th>\n",
       "      <th>gle_cgdpc</th>\n",
       "      <th>imf_pop</th>\n",
       "      <th>wef_imort</th>\n",
       "      <th>who_alc2000</th>\n",
       "      <th>who_tobt</th>\n",
       "      <th>wdi_exph</th>\n",
       "      <th>region_recod</th>\n",
       "    </tr>\n",
       "  </thead>\n",
       "  <tbody>\n",
       "    <tr>\n",
       "      <th>186</th>\n",
       "      <td>0.918</td>\n",
       "      <td>USA</td>\n",
       "      <td>5</td>\n",
       "      <td>47769.6990</td>\n",
       "      <td>318.789001</td>\n",
       "      <td>6.0</td>\n",
       "      <td>8.82</td>\n",
       "      <td>18.100000</td>\n",
       "      <td>17.140755</td>\n",
       "      <td>WesternDem</td>\n",
       "    </tr>\n",
       "    <tr>\n",
       "      <th>40</th>\n",
       "      <td>0.590</td>\n",
       "      <td>COG</td>\n",
       "      <td>4</td>\n",
       "      <td>2369.8401</td>\n",
       "      <td>NaN</td>\n",
       "      <td>NaN</td>\n",
       "      <td>3.82</td>\n",
       "      <td>18.500000</td>\n",
       "      <td>5.151412</td>\n",
       "      <td>SubSaharian</td>\n",
       "    </tr>\n",
       "    <tr>\n",
       "      <th>35</th>\n",
       "      <td>0.845</td>\n",
       "      <td>CHL</td>\n",
       "      <td>2</td>\n",
       "      <td>15519.0800</td>\n",
       "      <td>17.819000</td>\n",
       "      <td>7.8</td>\n",
       "      <td>7.16</td>\n",
       "      <td>38.900002</td>\n",
       "      <td>7.785858</td>\n",
       "      <td>LatAm</td>\n",
       "    </tr>\n",
       "    <tr>\n",
       "      <th>5</th>\n",
       "      <td>0.784</td>\n",
       "      <td>ATG</td>\n",
       "      <td>10</td>\n",
       "      <td>12257.7100</td>\n",
       "      <td>NaN</td>\n",
       "      <td>NaN</td>\n",
       "      <td>8.56</td>\n",
       "      <td>NaN</td>\n",
       "      <td>5.541683</td>\n",
       "      <td>Caribbean</td>\n",
       "    </tr>\n",
       "    <tr>\n",
       "      <th>101</th>\n",
       "      <td>0.896</td>\n",
       "      <td>LUX</td>\n",
       "      <td>5</td>\n",
       "      <td>61404.4800</td>\n",
       "      <td>0.550000</td>\n",
       "      <td>1.7</td>\n",
       "      <td>11.12</td>\n",
       "      <td>24.400000</td>\n",
       "      <td>6.937873</td>\n",
       "      <td>WesternDem</td>\n",
       "    </tr>\n",
       "    <tr>\n",
       "      <th>42</th>\n",
       "      <td>0.775</td>\n",
       "      <td>CRI</td>\n",
       "      <td>2</td>\n",
       "      <td>9485.7100</td>\n",
       "      <td>NaN</td>\n",
       "      <td>8.6</td>\n",
       "      <td>3.45</td>\n",
       "      <td>14.200000</td>\n",
       "      <td>9.313112</td>\n",
       "      <td>LatAm</td>\n",
       "    </tr>\n",
       "    <tr>\n",
       "      <th>176</th>\n",
       "      <td>0.723</td>\n",
       "      <td>TUN</td>\n",
       "      <td>3</td>\n",
       "      <td>6912.2798</td>\n",
       "      <td>NaN</td>\n",
       "      <td>13.8</td>\n",
       "      <td>1.39</td>\n",
       "      <td>NaN</td>\n",
       "      <td>7.003858</td>\n",
       "      <td>NorthAfrica</td>\n",
       "    </tr>\n",
       "    <tr>\n",
       "      <th>33</th>\n",
       "      <td>0.764</td>\n",
       "      <td>LKA</td>\n",
       "      <td>8</td>\n",
       "      <td>5466.8701</td>\n",
       "      <td>20.541000</td>\n",
       "      <td>8.3</td>\n",
       "      <td>2.37</td>\n",
       "      <td>14.100000</td>\n",
       "      <td>3.503350</td>\n",
       "      <td>SouthAsia</td>\n",
       "    </tr>\n",
       "    <tr>\n",
       "      <th>130</th>\n",
       "      <td>0.783</td>\n",
       "      <td>PLW</td>\n",
       "      <td>9</td>\n",
       "      <td>9392.5996</td>\n",
       "      <td>0.018000</td>\n",
       "      <td>NaN</td>\n",
       "      <td>NaN</td>\n",
       "      <td>NaN</td>\n",
       "      <td>9.021533</td>\n",
       "      <td>Pacific</td>\n",
       "    </tr>\n",
       "    <tr>\n",
       "      <th>36</th>\n",
       "      <td>0.734</td>\n",
       "      <td>CHN</td>\n",
       "      <td>6</td>\n",
       "      <td>9283.3799</td>\n",
       "      <td>NaN</td>\n",
       "      <td>12.1</td>\n",
       "      <td>5.78</td>\n",
       "      <td>25.900000</td>\n",
       "      <td>5.548228</td>\n",
       "      <td>EastAsia</td>\n",
       "    </tr>\n",
       "  </tbody>\n",
       "</table>\n",
       "</div>"
      ],
      "text/plain": [
       "     undp_hdi ccodealp  ht_region   gle_cgdpc     imf_pop  wef_imort  \\\n",
       "186     0.918      USA          5  47769.6990  318.789001        6.0   \n",
       "40      0.590      COG          4   2369.8401         NaN        NaN   \n",
       "35      0.845      CHL          2  15519.0800   17.819000        7.8   \n",
       "5       0.784      ATG         10  12257.7100         NaN        NaN   \n",
       "101     0.896      LUX          5  61404.4800    0.550000        1.7   \n",
       "42      0.775      CRI          2   9485.7100         NaN        8.6   \n",
       "176     0.723      TUN          3   6912.2798         NaN       13.8   \n",
       "33      0.764      LKA          8   5466.8701   20.541000        8.3   \n",
       "130     0.783      PLW          9   9392.5996    0.018000        NaN   \n",
       "36      0.734      CHN          6   9283.3799         NaN       12.1   \n",
       "\n",
       "     who_alc2000   who_tobt   wdi_exph region_recod  \n",
       "186         8.82  18.100000  17.140755   WesternDem  \n",
       "40          3.82  18.500000   5.151412  SubSaharian  \n",
       "35          7.16  38.900002   7.785858        LatAm  \n",
       "5           8.56        NaN   5.541683    Caribbean  \n",
       "101        11.12  24.400000   6.937873   WesternDem  \n",
       "42          3.45  14.200000   9.313112        LatAm  \n",
       "176         1.39        NaN   7.003858  NorthAfrica  \n",
       "33          2.37  14.100000   3.503350    SouthAsia  \n",
       "130          NaN        NaN   9.021533      Pacific  \n",
       "36          5.78  25.900000   5.548228     EastAsia  "
      ]
     },
     "execution_count": 48,
     "metadata": {},
     "output_type": "execute_result"
    }
   ],
   "source": [
    "submuestra.sample(10)"
   ]
  },
  {
   "cell_type": "markdown",
   "metadata": {},
   "source": [
    "#### Renombre las categorías de la variable ht_region de números a regiones"
   ]
  },
  {
   "cell_type": "code",
   "execution_count": 21,
   "metadata": {},
   "outputs": [],
   "source": [
    "submuestra['region_recod'] = submuestra['ht_region'].replace([1, 2, 3, 4, 5, 6, 7, 8, 9, 10],\n",
    "                                                            ['EastEurope', 'LatAm', 'NorthAfrica',\n",
    "                                                            'SubSaharian', 'WesternDem', 'EastAsia',\n",
    "                                                            'SouthEastAsia','SouthAsia','Pacific', \n",
    "                                                            'Caribbean' ])"
   ]
  },
  {
   "cell_type": "markdown",
   "metadata": {},
   "source": [
    "### 2. Genere una función que ingrese su objeto y devuelva:"
   ]
  },
  {
   "cell_type": "markdown",
   "metadata": {},
   "source": [
    "* Por cada variable existente en su objeto, calcule las medidas descriptivas para los casos contínuos\n",
    "* Para cada variable discreta, que calcule la frecuencia."
   ]
  },
  {
   "cell_type": "code",
   "execution_count": 44,
   "metadata": {},
   "outputs": [],
   "source": [
    "def calcular_medidas_descriptivas(objeto):\n",
    "    \"\"\"\n",
    "    calcular_medidas_descriptivas:\n",
    "        Función que permite calcular las medidas descriptivas para los casos contínuos \n",
    "        o la frecuencias absolutas para las variables discretas.\n",
    "    parameters:\n",
    "        objeto: objeto tipo DataFrame\n",
    "    returns:\n",
    "        medidas descriptivas o frecuencias absolutas\n",
    "    \"\"\"\n",
    "    \n",
    "    variables_continuas = ['float64', 'int64']\n",
    "    variables_discretas = ['object']\n",
    "    \n",
    "    for nombre_columna, serie in objeto.iteritems():\n",
    "        if isinstance(serie, pd.Series):\n",
    "            print(nombre_columna)\n",
    "            print('*******************************')\n",
    "            if serie.dtype in variables_continuas:\n",
    "                # vamos a eliminar los datos perdidos en la columna\n",
    "                serie = serie.dropna()\n",
    "                print(round(serie.describe(),2))\n",
    "            if serie.dtype in variables_discretas:\n",
    "                print(serie.value_counts())"
   ]
  },
  {
   "cell_type": "code",
   "execution_count": 45,
   "metadata": {},
   "outputs": [
    {
     "name": "stdout",
     "output_type": "stream",
     "text": [
      "undp_hdi\n",
      "*******************************\n",
      "count    94.00\n",
      "mean      0.71\n",
      "std       0.14\n",
      "min       0.40\n",
      "25%       0.60\n",
      "50%       0.74\n",
      "75%       0.80\n",
      "max       0.95\n",
      "Name: undp_hdi, dtype: float64\n",
      "ccodealp\n",
      "*******************************\n",
      "NLD    1\n",
      "MDG    1\n",
      "BDI    1\n",
      "SVN    1\n",
      "GIN    1\n",
      "HRV    1\n",
      "BEN    1\n",
      "SUR    1\n",
      "SDN    1\n",
      "TLS    1\n",
      "USA    1\n",
      "CHL    1\n",
      "PRT    1\n",
      "BHS    1\n",
      "GHA    1\n",
      "PNG    1\n",
      "BRN    1\n",
      "TON    1\n",
      "AZE    1\n",
      "KGZ    1\n",
      "TTO    1\n",
      "GAB    1\n",
      "BLR    1\n",
      "ISL    1\n",
      "BIH    1\n",
      "MLT    1\n",
      "DOM    1\n",
      "ZAF    1\n",
      "GTM    1\n",
      "KHM    1\n",
      "      ..\n",
      "CRI    1\n",
      "UGA    1\n",
      "BFA    1\n",
      "CHN    1\n",
      "TUN    1\n",
      "OMN    1\n",
      "NGA    1\n",
      "POL    1\n",
      "STP    1\n",
      "KIR    1\n",
      "UKR    1\n",
      "GRD    1\n",
      "GUY    1\n",
      "HTI    1\n",
      "ROU    1\n",
      "ATG    1\n",
      "MEX    1\n",
      "LKA    1\n",
      "LIE    1\n",
      "EGY    1\n",
      "NOR    1\n",
      "COG    1\n",
      "TWN    1\n",
      "KWT    1\n",
      "MKD    1\n",
      "LCA    1\n",
      "COL    1\n",
      "AUT    1\n",
      "MCO    1\n",
      "LBR    1\n",
      "Name: ccodealp, Length: 97, dtype: int64\n",
      "ht_region\n",
      "*******************************\n",
      "count    97.00\n",
      "mean      4.47\n",
      "std       2.81\n",
      "min       1.00\n",
      "25%       2.00\n",
      "50%       4.00\n",
      "75%       5.00\n",
      "max      10.00\n",
      "Name: ht_region, dtype: float64\n",
      "gle_cgdpc\n",
      "*******************************\n",
      "count        96.00\n",
      "mean      16390.70\n",
      "std       21470.27\n",
      "min         332.27\n",
      "25%        2922.31\n",
      "50%        9051.72\n",
      "75%       21776.31\n",
      "max      108481.13\n",
      "Name: gle_cgdpc, dtype: float64\n",
      "imf_pop\n",
      "*******************************\n",
      "count     71.00\n",
      "mean      22.37\n",
      "std       50.32\n",
      "min        0.02\n",
      "25%        0.77\n",
      "50%        4.38\n",
      "75%       17.14\n",
      "max      318.79\n",
      "Name: imf_pop, dtype: float64\n",
      "wef_imort\n",
      "*******************************\n",
      "count    78.00\n",
      "mean     22.64\n",
      "std      20.53\n",
      "min       1.70\n",
      "25%       6.35\n",
      "50%      14.85\n",
      "75%      33.75\n",
      "max      77.80\n",
      "Name: wef_imort, dtype: float64\n",
      "who_alc2000\n",
      "*******************************\n",
      "count    91.00\n",
      "mean      5.22\n",
      "std       3.66\n",
      "min       0.00\n",
      "25%       1.86\n",
      "50%       5.07\n",
      "75%       8.36\n",
      "max      13.94\n",
      "Name: who_alc2000, dtype: float64\n",
      "who_tobt\n",
      "*******************************\n",
      "count    61.00\n",
      "mean     22.00\n",
      "std       9.49\n",
      "min       6.30\n",
      "25%      14.20\n",
      "50%      22.60\n",
      "75%      27.40\n",
      "max      54.00\n",
      "Name: who_tobt, dtype: float64\n",
      "wdi_exph\n",
      "*******************************\n",
      "count    95.00\n",
      "mean      6.60\n",
      "std       2.45\n",
      "min       1.48\n",
      "25%       4.97\n",
      "50%       6.33\n",
      "75%       8.34\n",
      "max      17.14\n",
      "Name: wdi_exph, dtype: float64\n",
      "region_recod\n",
      "*******************************\n",
      "SubSaharian      23\n",
      "EastEurope       15\n",
      "WesternDem       13\n",
      "LatAm            12\n",
      "Caribbean        10\n",
      "NorthAfrica      10\n",
      "Pacific           5\n",
      "SouthAsia         3\n",
      "EastAsia          3\n",
      "SouthEastAsia     3\n",
      "Name: region_recod, dtype: int64\n"
     ]
    }
   ],
   "source": [
    "calcular_medidas_descriptivas(submuestra)"
   ]
  },
  {
   "cell_type": "markdown",
   "metadata": {},
   "source": [
    "#### Reporte las estadísticas descriptivas para gle_cgdpc , undp_hdi , imf_pop ."
   ]
  },
  {
   "cell_type": "markdown",
   "metadata": {},
   "source": [
    "#####  gle_cgdpc"
   ]
  },
  {
   "cell_type": "markdown",
   "metadata": {},
   "source": [
    "* El promedio PIB per capita es de aproximadamente 16390.70.\n",
    "* El 50% de los paises tienen un PIB per capita  menor que o igual a 9051.72, mientras que el otro 50% de los paises tienen un PIB per capita mayor que o igual a 9051.72.\n",
    "* El PIB per capita de los paises de la muestra tiene una desviación, en promedio de 21470.27 respecto a la media."
   ]
  },
  {
   "cell_type": "markdown",
   "metadata": {},
   "source": [
    "##### undp_hdi"
   ]
  },
  {
   "cell_type": "markdown",
   "metadata": {},
   "source": [
    "* El promedio del índice de desarrollo humano es de aproximadamente 0.71.\n",
    "* El 50% de los paises tienen un índice de desarrollo humano menor que o igual a 0.74, mientras que el otro 50% de los paises tienen un índice de desarrollo humano mayor que o igual a 0.74.\n",
    "* El índice de desarrollo humano de los paises de la muestra tiene una desviación, en promedio de 0.14 respecto a la media."
   ]
  },
  {
   "cell_type": "markdown",
   "metadata": {},
   "source": [
    "##### imf_pop"
   ]
  },
  {
   "cell_type": "markdown",
   "metadata": {},
   "source": [
    "* El promedio del total de la población es de aproximadamente 22.37.\n",
    "* El 50% de los paises tienen un total de la población menor que o igual a 4.38, mientras que el otro 50% de los paises tienen un total de la población mayor que o igual a 4.38.\n",
    "* El total de la población de los paises de la muestra tiene una desviación, en promedio de 50.32 respecto a la media."
   ]
  },
  {
   "cell_type": "markdown",
   "metadata": {},
   "source": [
    "### 3. Genere una función que liste las observaciones perdidas de una variable"
   ]
  },
  {
   "cell_type": "code",
   "execution_count": null,
   "metadata": {},
   "outputs": [],
   "source": []
  },
  {
   "cell_type": "code",
   "execution_count": null,
   "metadata": {},
   "outputs": [],
   "source": []
  },
  {
   "cell_type": "code",
   "execution_count": null,
   "metadata": {},
   "outputs": [],
   "source": []
  },
  {
   "cell_type": "code",
   "execution_count": null,
   "metadata": {},
   "outputs": [],
   "source": []
  },
  {
   "cell_type": "code",
   "execution_count": null,
   "metadata": {},
   "outputs": [],
   "source": []
  },
  {
   "cell_type": "markdown",
   "metadata": {},
   "source": [
    "### 4. Grafique los histogramas"
   ]
  },
  {
   "cell_type": "code",
   "execution_count": null,
   "metadata": {},
   "outputs": [],
   "source": []
  },
  {
   "cell_type": "code",
   "execution_count": null,
   "metadata": {},
   "outputs": [],
   "source": []
  },
  {
   "cell_type": "code",
   "execution_count": null,
   "metadata": {},
   "outputs": [],
   "source": []
  },
  {
   "cell_type": "code",
   "execution_count": null,
   "metadata": {},
   "outputs": [],
   "source": []
  },
  {
   "cell_type": "code",
   "execution_count": null,
   "metadata": {},
   "outputs": [],
   "source": []
  },
  {
   "cell_type": "markdown",
   "metadata": {},
   "source": [
    "### 5. Genere una función que devuelva un dotplot"
   ]
  },
  {
   "cell_type": "code",
   "execution_count": null,
   "metadata": {},
   "outputs": [],
   "source": []
  },
  {
   "cell_type": "code",
   "execution_count": null,
   "metadata": {},
   "outputs": [],
   "source": []
  },
  {
   "cell_type": "code",
   "execution_count": null,
   "metadata": {},
   "outputs": [],
   "source": []
  },
  {
   "cell_type": "code",
   "execution_count": null,
   "metadata": {},
   "outputs": [],
   "source": []
  },
  {
   "cell_type": "code",
   "execution_count": null,
   "metadata": {},
   "outputs": [],
   "source": []
  }
 ],
 "metadata": {
  "kernelspec": {
   "display_name": "Python 3",
   "language": "python",
   "name": "python3"
  },
  "language_info": {
   "codemirror_mode": {
    "name": "ipython",
    "version": 3
   },
   "file_extension": ".py",
   "mimetype": "text/x-python",
   "name": "python",
   "nbconvert_exporter": "python",
   "pygments_lexer": "ipython3",
   "version": "3.7.3"
  }
 },
 "nbformat": 4,
 "nbformat_minor": 2
}
