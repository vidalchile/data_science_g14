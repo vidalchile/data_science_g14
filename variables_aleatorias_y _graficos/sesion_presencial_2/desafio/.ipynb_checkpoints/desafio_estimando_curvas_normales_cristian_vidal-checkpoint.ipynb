{
 "cells": [
  {
   "cell_type": "markdown",
   "metadata": {},
   "source": [
    "## Desafío - Estimando curvas normales\n",
    "## Cristian Vidal"
   ]
  },
  {
   "cell_type": "markdown",
   "metadata": {},
   "source": [
    "## 1. Importe un csv desde internet"
   ]
  },
  {
   "cell_type": "markdown",
   "metadata": {},
   "source": [
    "<b>Utilice la base de datos de un compañero creada en la sesión pasada.</b>"
   ]
  },
  {
   "cell_type": "code",
   "execution_count": 1,
   "metadata": {},
   "outputs": [],
   "source": [
    "import pandas as pd\n",
    "import numpy as np\n",
    "import matplotlib.pyplot as plt\n",
    "# importamos scipy.stats que ayudará a generar distribuciones\n",
    "import scipy.stats as stats"
   ]
  },
  {
   "cell_type": "code",
   "execution_count": 2,
   "metadata": {},
   "outputs": [
    {
     "data": {
      "text/html": [
       "<div>\n",
       "<style scoped>\n",
       "    .dataframe tbody tr th:only-of-type {\n",
       "        vertical-align: middle;\n",
       "    }\n",
       "\n",
       "    .dataframe tbody tr th {\n",
       "        vertical-align: top;\n",
       "    }\n",
       "\n",
       "    .dataframe thead th {\n",
       "        text-align: right;\n",
       "    }\n",
       "</style>\n",
       "<table border=\"1\" class=\"dataframe\">\n",
       "  <thead>\n",
       "    <tr style=\"text-align: right;\">\n",
       "      <th></th>\n",
       "      <th>cname</th>\n",
       "      <th>undp_hdi</th>\n",
       "      <th>ccodealp</th>\n",
       "      <th>ht_region</th>\n",
       "      <th>gle_cgdpc</th>\n",
       "      <th>imf_pop</th>\n",
       "      <th>ffp_hf</th>\n",
       "      <th>wef_qes</th>\n",
       "      <th>wdi_expedu</th>\n",
       "      <th>wdi_ners</th>\n",
       "    </tr>\n",
       "  </thead>\n",
       "  <tbody>\n",
       "    <tr>\n",
       "      <th>0</th>\n",
       "      <td>Grenada</td>\n",
       "      <td>0.751</td>\n",
       "      <td>GRD</td>\n",
       "      <td>Caribbean</td>\n",
       "      <td>8314.5596</td>\n",
       "      <td>NaN</td>\n",
       "      <td>8.4</td>\n",
       "      <td>NaN</td>\n",
       "      <td>NaN</td>\n",
       "      <td>82.359642</td>\n",
       "    </tr>\n",
       "    <tr>\n",
       "      <th>1</th>\n",
       "      <td>Bolivia</td>\n",
       "      <td>0.671</td>\n",
       "      <td>BOL</td>\n",
       "      <td>LatAm</td>\n",
       "      <td>4023.8701</td>\n",
       "      <td>10.078000</td>\n",
       "      <td>6.4</td>\n",
       "      <td>3.348756</td>\n",
       "      <td>7.28546</td>\n",
       "      <td>76.535461</td>\n",
       "    </tr>\n",
       "    <tr>\n",
       "      <th>2</th>\n",
       "      <td>Tanzania</td>\n",
       "      <td>0.519</td>\n",
       "      <td>TZA</td>\n",
       "      <td>SubSaharian</td>\n",
       "      <td>1416.3000</td>\n",
       "      <td>43.880001</td>\n",
       "      <td>7.0</td>\n",
       "      <td>3.004210</td>\n",
       "      <td>3.47914</td>\n",
       "      <td>NaN</td>\n",
       "    </tr>\n",
       "    <tr>\n",
       "      <th>3</th>\n",
       "      <td>Rwanda</td>\n",
       "      <td>0.493</td>\n",
       "      <td>RWA</td>\n",
       "      <td>SubSaharian</td>\n",
       "      <td>1440.3900</td>\n",
       "      <td>10.200000</td>\n",
       "      <td>7.5</td>\n",
       "      <td>4.037596</td>\n",
       "      <td>3.79746</td>\n",
       "      <td>27.239189</td>\n",
       "    </tr>\n",
       "    <tr>\n",
       "      <th>4</th>\n",
       "      <td>Vanuatu</td>\n",
       "      <td>0.598</td>\n",
       "      <td>VUT</td>\n",
       "      <td>Pacific</td>\n",
       "      <td>2877.0100</td>\n",
       "      <td>0.257000</td>\n",
       "      <td>NaN</td>\n",
       "      <td>NaN</td>\n",
       "      <td>4.91083</td>\n",
       "      <td>49.496300</td>\n",
       "    </tr>\n",
       "  </tbody>\n",
       "</table>\n",
       "</div>"
      ],
      "text/plain": [
       "      cname  undp_hdi ccodealp    ht_region  gle_cgdpc    imf_pop  ffp_hf  \\\n",
       "0   Grenada     0.751      GRD    Caribbean  8314.5596        NaN     8.4   \n",
       "1   Bolivia     0.671      BOL        LatAm  4023.8701  10.078000     6.4   \n",
       "2  Tanzania     0.519      TZA  SubSaharian  1416.3000  43.880001     7.0   \n",
       "3    Rwanda     0.493      RWA  SubSaharian  1440.3900  10.200000     7.5   \n",
       "4   Vanuatu     0.598      VUT      Pacific  2877.0100   0.257000     NaN   \n",
       "\n",
       "    wef_qes  wdi_expedu   wdi_ners  \n",
       "0       NaN         NaN  82.359642  \n",
       "1  3.348756     7.28546  76.535461  \n",
       "2  3.004210     3.47914        NaN  \n",
       "3  4.037596     3.79746  27.239189  \n",
       "4       NaN     4.91083  49.496300  "
      ]
     },
     "execution_count": 2,
     "metadata": {},
     "output_type": "execute_result"
    }
   ],
   "source": [
    "df = pd.read_csv('subsample_AEMG_demo.csv'); # Alfredo Martínez Guerrero\n",
    "df = df.drop(columns=\"Unnamed: 0\")\n",
    "df.head(5)"
   ]
  },
  {
   "cell_type": "code",
   "execution_count": 3,
   "metadata": {},
   "outputs": [
    {
     "data": {
      "text/plain": [
       "(97, 10)"
      ]
     },
     "execution_count": 3,
     "metadata": {},
     "output_type": "execute_result"
    }
   ],
   "source": [
    "df.shape"
   ]
  },
  {
   "cell_type": "markdown",
   "metadata": {},
   "source": [
    "## 2. Importe su conjunto de funciones"
   ]
  },
  {
   "cell_type": "markdown",
   "metadata": {},
   "source": [
    "<b>Genere un archivo ancilliary_funcs.py para guardar las funciones creadas en la sesión\n",
    "pasada e impórtelo</b>"
   ]
  },
  {
   "cell_type": "code",
   "execution_count": 4,
   "metadata": {},
   "outputs": [],
   "source": [
    "import ancilliary_funcs as funciones_auxiliares"
   ]
  },
  {
   "cell_type": "markdown",
   "metadata": {},
   "source": [
    "<b>Utilice las funciones creadas para inspeccionar la cantidad de casos perdidos de la muestra de\n",
    "su compañero.</b>"
   ]
  },
  {
   "cell_type": "code",
   "execution_count": 5,
   "metadata": {},
   "outputs": [
    {
     "name": "stdout",
     "output_type": "stream",
     "text": [
      "cname {'cantidad': 0, 'porcentaje': 0.0, 'tipo': dtype('O')}\n",
      "undp_hdi {'cantidad': 5, 'porcentaje': 0.05, 'tipo': dtype('float64')}\n",
      "ccodealp {'cantidad': 0, 'porcentaje': 0.0, 'tipo': dtype('O')}\n",
      "ht_region {'cantidad': 0, 'porcentaje': 0.0, 'tipo': dtype('O')}\n",
      "gle_cgdpc {'cantidad': 0, 'porcentaje': 0.0, 'tipo': dtype('float64')}\n",
      "imf_pop {'cantidad': 24, 'porcentaje': 0.25, 'tipo': dtype('float64')}\n",
      "ffp_hf {'cantidad': 12, 'porcentaje': 0.12, 'tipo': dtype('float64')}\n",
      "wef_qes {'cantidad': 23, 'porcentaje': 0.24, 'tipo': dtype('float64')}\n",
      "wdi_expedu {'cantidad': 28, 'porcentaje': 0.29, 'tipo': dtype('float64')}\n",
      "wdi_ners {'cantidad': 31, 'porcentaje': 0.32, 'tipo': dtype('float64')}\n"
     ]
    }
   ],
   "source": [
    "for columna in df.columns:\n",
    "    print(columna, funciones_auxiliares.observaciones_perdidas(df, columna))"
   ]
  },
  {
   "cell_type": "markdown",
   "metadata": {},
   "source": [
    "## 3. Estime el puntaje Z"
   ]
  },
  {
   "cell_type": "markdown",
   "metadata": {},
   "source": [
    "<b>Estime el puntaze Z para las 10 primeras y últimas observaciones de las variables con una menor\n",
    "cantidad de datos perdidos.</b>"
   ]
  },
  {
   "cell_type": "markdown",
   "metadata": {},
   "source": [
    "<b>Genere una nueva columna en la tabla de datos mediante funciones vectorizadas. Recuerde que para calcular el puntaje z de una observación utilizando la fórmula.</b>"
   ]
  },
  {
   "cell_type": "code",
   "execution_count": 6,
   "metadata": {},
   "outputs": [],
   "source": [
    "variables_menor_datos_perdidos = ['gle_cgdpc','undp_hdi','ffp_hf']\n",
    "for variable in variables_menor_datos_perdidos:\n",
    "    df[variable + '_z'] = df[variable].apply(lambda x: round((x - df[variable].dropna().mean()) / df[variable].dropna().std(), 2))"
   ]
  },
  {
   "cell_type": "code",
   "execution_count": 7,
   "metadata": {},
   "outputs": [
    {
     "data": {
      "text/html": [
       "<div>\n",
       "<style scoped>\n",
       "    .dataframe tbody tr th:only-of-type {\n",
       "        vertical-align: middle;\n",
       "    }\n",
       "\n",
       "    .dataframe tbody tr th {\n",
       "        vertical-align: top;\n",
       "    }\n",
       "\n",
       "    .dataframe thead th {\n",
       "        text-align: right;\n",
       "    }\n",
       "</style>\n",
       "<table border=\"1\" class=\"dataframe\">\n",
       "  <thead>\n",
       "    <tr style=\"text-align: right;\">\n",
       "      <th></th>\n",
       "      <th>cname</th>\n",
       "      <th>undp_hdi</th>\n",
       "      <th>ccodealp</th>\n",
       "      <th>ht_region</th>\n",
       "      <th>gle_cgdpc</th>\n",
       "      <th>imf_pop</th>\n",
       "      <th>ffp_hf</th>\n",
       "      <th>wef_qes</th>\n",
       "      <th>wdi_expedu</th>\n",
       "      <th>wdi_ners</th>\n",
       "      <th>gle_cgdpc_z</th>\n",
       "      <th>undp_hdi_z</th>\n",
       "      <th>ffp_hf_z</th>\n",
       "    </tr>\n",
       "  </thead>\n",
       "  <tbody>\n",
       "    <tr>\n",
       "      <th>0</th>\n",
       "      <td>Grenada</td>\n",
       "      <td>0.751</td>\n",
       "      <td>GRD</td>\n",
       "      <td>Caribbean</td>\n",
       "      <td>8314.5596</td>\n",
       "      <td>NaN</td>\n",
       "      <td>8.4</td>\n",
       "      <td>NaN</td>\n",
       "      <td>NaN</td>\n",
       "      <td>82.359642</td>\n",
       "      <td>-0.36</td>\n",
       "      <td>0.32</td>\n",
       "      <td>1.35</td>\n",
       "    </tr>\n",
       "    <tr>\n",
       "      <th>1</th>\n",
       "      <td>Bolivia</td>\n",
       "      <td>0.671</td>\n",
       "      <td>BOL</td>\n",
       "      <td>LatAm</td>\n",
       "      <td>4023.8701</td>\n",
       "      <td>10.078000</td>\n",
       "      <td>6.4</td>\n",
       "      <td>3.348756</td>\n",
       "      <td>7.28546</td>\n",
       "      <td>76.535461</td>\n",
       "      <td>-0.56</td>\n",
       "      <td>-0.20</td>\n",
       "      <td>0.36</td>\n",
       "    </tr>\n",
       "    <tr>\n",
       "      <th>2</th>\n",
       "      <td>Tanzania</td>\n",
       "      <td>0.519</td>\n",
       "      <td>TZA</td>\n",
       "      <td>SubSaharian</td>\n",
       "      <td>1416.3000</td>\n",
       "      <td>43.880001</td>\n",
       "      <td>7.0</td>\n",
       "      <td>3.004210</td>\n",
       "      <td>3.47914</td>\n",
       "      <td>NaN</td>\n",
       "      <td>-0.69</td>\n",
       "      <td>-1.20</td>\n",
       "      <td>0.66</td>\n",
       "    </tr>\n",
       "    <tr>\n",
       "      <th>3</th>\n",
       "      <td>Rwanda</td>\n",
       "      <td>0.493</td>\n",
       "      <td>RWA</td>\n",
       "      <td>SubSaharian</td>\n",
       "      <td>1440.3900</td>\n",
       "      <td>10.200000</td>\n",
       "      <td>7.5</td>\n",
       "      <td>4.037596</td>\n",
       "      <td>3.79746</td>\n",
       "      <td>27.239189</td>\n",
       "      <td>-0.68</td>\n",
       "      <td>-1.37</td>\n",
       "      <td>0.91</td>\n",
       "    </tr>\n",
       "    <tr>\n",
       "      <th>4</th>\n",
       "      <td>Vanuatu</td>\n",
       "      <td>0.598</td>\n",
       "      <td>VUT</td>\n",
       "      <td>Pacific</td>\n",
       "      <td>2877.0100</td>\n",
       "      <td>0.257000</td>\n",
       "      <td>NaN</td>\n",
       "      <td>NaN</td>\n",
       "      <td>4.91083</td>\n",
       "      <td>49.496300</td>\n",
       "      <td>-0.62</td>\n",
       "      <td>-0.68</td>\n",
       "      <td>NaN</td>\n",
       "    </tr>\n",
       "    <tr>\n",
       "      <th>5</th>\n",
       "      <td>Belgium</td>\n",
       "      <td>0.895</td>\n",
       "      <td>BEL</td>\n",
       "      <td>WesternDem</td>\n",
       "      <td>33764.7110</td>\n",
       "      <td>11.181000</td>\n",
       "      <td>1.9</td>\n",
       "      <td>5.328891</td>\n",
       "      <td>6.58514</td>\n",
       "      <td>95.285599</td>\n",
       "      <td>0.84</td>\n",
       "      <td>1.27</td>\n",
       "      <td>-1.88</td>\n",
       "    </tr>\n",
       "    <tr>\n",
       "      <th>6</th>\n",
       "      <td>Zambia</td>\n",
       "      <td>0.576</td>\n",
       "      <td>ZMB</td>\n",
       "      <td>SubSaharian</td>\n",
       "      <td>1916.7900</td>\n",
       "      <td>NaN</td>\n",
       "      <td>7.8</td>\n",
       "      <td>4.328835</td>\n",
       "      <td>NaN</td>\n",
       "      <td>NaN</td>\n",
       "      <td>-0.66</td>\n",
       "      <td>-0.83</td>\n",
       "      <td>1.06</td>\n",
       "    </tr>\n",
       "    <tr>\n",
       "      <th>7</th>\n",
       "      <td>Cambodia</td>\n",
       "      <td>0.558</td>\n",
       "      <td>KHM</td>\n",
       "      <td>SouthEastAsia</td>\n",
       "      <td>1927.0601</td>\n",
       "      <td>14.605000</td>\n",
       "      <td>7.5</td>\n",
       "      <td>3.176270</td>\n",
       "      <td>1.90197</td>\n",
       "      <td>NaN</td>\n",
       "      <td>-0.66</td>\n",
       "      <td>-0.95</td>\n",
       "      <td>0.91</td>\n",
       "    </tr>\n",
       "    <tr>\n",
       "      <th>8</th>\n",
       "      <td>Yemen</td>\n",
       "      <td>0.499</td>\n",
       "      <td>YEM</td>\n",
       "      <td>NorthAfrica</td>\n",
       "      <td>2170.9299</td>\n",
       "      <td>NaN</td>\n",
       "      <td>7.5</td>\n",
       "      <td>1.896328</td>\n",
       "      <td>NaN</td>\n",
       "      <td>41.721760</td>\n",
       "      <td>-0.65</td>\n",
       "      <td>-1.33</td>\n",
       "      <td>0.91</td>\n",
       "    </tr>\n",
       "    <tr>\n",
       "      <th>9</th>\n",
       "      <td>Monaco</td>\n",
       "      <td>NaN</td>\n",
       "      <td>MCO</td>\n",
       "      <td>WesternDem</td>\n",
       "      <td>108481.1300</td>\n",
       "      <td>NaN</td>\n",
       "      <td>NaN</td>\n",
       "      <td>NaN</td>\n",
       "      <td>1.02195</td>\n",
       "      <td>NaN</td>\n",
       "      <td>4.37</td>\n",
       "      <td>NaN</td>\n",
       "      <td>NaN</td>\n",
       "    </tr>\n",
       "  </tbody>\n",
       "</table>\n",
       "</div>"
      ],
      "text/plain": [
       "      cname  undp_hdi ccodealp      ht_region    gle_cgdpc    imf_pop  ffp_hf  \\\n",
       "0   Grenada     0.751      GRD      Caribbean    8314.5596        NaN     8.4   \n",
       "1   Bolivia     0.671      BOL          LatAm    4023.8701  10.078000     6.4   \n",
       "2  Tanzania     0.519      TZA    SubSaharian    1416.3000  43.880001     7.0   \n",
       "3    Rwanda     0.493      RWA    SubSaharian    1440.3900  10.200000     7.5   \n",
       "4   Vanuatu     0.598      VUT        Pacific    2877.0100   0.257000     NaN   \n",
       "5   Belgium     0.895      BEL     WesternDem   33764.7110  11.181000     1.9   \n",
       "6    Zambia     0.576      ZMB    SubSaharian    1916.7900        NaN     7.8   \n",
       "7  Cambodia     0.558      KHM  SouthEastAsia    1927.0601  14.605000     7.5   \n",
       "8     Yemen     0.499      YEM    NorthAfrica    2170.9299        NaN     7.5   \n",
       "9    Monaco       NaN      MCO     WesternDem  108481.1300        NaN     NaN   \n",
       "\n",
       "    wef_qes  wdi_expedu   wdi_ners  gle_cgdpc_z  undp_hdi_z  ffp_hf_z  \n",
       "0       NaN         NaN  82.359642        -0.36        0.32      1.35  \n",
       "1  3.348756     7.28546  76.535461        -0.56       -0.20      0.36  \n",
       "2  3.004210     3.47914        NaN        -0.69       -1.20      0.66  \n",
       "3  4.037596     3.79746  27.239189        -0.68       -1.37      0.91  \n",
       "4       NaN     4.91083  49.496300        -0.62       -0.68       NaN  \n",
       "5  5.328891     6.58514  95.285599         0.84        1.27     -1.88  \n",
       "6  4.328835         NaN        NaN        -0.66       -0.83      1.06  \n",
       "7  3.176270     1.90197        NaN        -0.66       -0.95      0.91  \n",
       "8  1.896328         NaN  41.721760        -0.65       -1.33      0.91  \n",
       "9       NaN     1.02195        NaN         4.37         NaN       NaN  "
      ]
     },
     "execution_count": 7,
     "metadata": {},
     "output_type": "execute_result"
    }
   ],
   "source": [
    "df.head(10)"
   ]
  },
  {
   "cell_type": "markdown",
   "metadata": {},
   "source": [
    "<b>Para ordenar los valores pueden utilzar la función sort_values del DataFrame analizado.</b>"
   ]
  },
  {
   "cell_type": "code",
   "execution_count": 8,
   "metadata": {},
   "outputs": [],
   "source": [
    "my_sorted_df = df.sort_values(by=variables_menor_datos_perdidos)"
   ]
  },
  {
   "cell_type": "markdown",
   "metadata": {},
   "source": [
    "<b>Asegúrense de eliminar las observaciones que tengan valores perdidos con dropna . Lean la\n",
    "documentación asociada al método subset</b>"
   ]
  },
  {
   "cell_type": "code",
   "execution_count": 9,
   "metadata": {},
   "outputs": [],
   "source": [
    "my_sorted_no_na_df = my_sorted_df.dropna(subset=variables_menor_datos_perdidos)"
   ]
  },
  {
   "cell_type": "markdown",
   "metadata": {},
   "source": [
    "<b>Seleccionen las primeras y últimas 10 observaciones de la base reordenada.</b>"
   ]
  },
  {
   "cell_type": "code",
   "execution_count": 10,
   "metadata": {},
   "outputs": [
    {
     "data": {
      "text/html": [
       "<div>\n",
       "<style scoped>\n",
       "    .dataframe tbody tr th:only-of-type {\n",
       "        vertical-align: middle;\n",
       "    }\n",
       "\n",
       "    .dataframe tbody tr th {\n",
       "        vertical-align: top;\n",
       "    }\n",
       "\n",
       "    .dataframe thead th {\n",
       "        text-align: right;\n",
       "    }\n",
       "</style>\n",
       "<table border=\"1\" class=\"dataframe\">\n",
       "  <thead>\n",
       "    <tr style=\"text-align: right;\">\n",
       "      <th></th>\n",
       "      <th>cname</th>\n",
       "      <th>undp_hdi</th>\n",
       "      <th>ccodealp</th>\n",
       "      <th>ht_region</th>\n",
       "      <th>gle_cgdpc</th>\n",
       "      <th>imf_pop</th>\n",
       "      <th>ffp_hf</th>\n",
       "      <th>wef_qes</th>\n",
       "      <th>wdi_expedu</th>\n",
       "      <th>wdi_ners</th>\n",
       "      <th>gle_cgdpc_z</th>\n",
       "      <th>undp_hdi_z</th>\n",
       "      <th>ffp_hf_z</th>\n",
       "    </tr>\n",
       "  </thead>\n",
       "  <tbody>\n",
       "    <tr>\n",
       "      <th>58</th>\n",
       "      <td>El Salvador</td>\n",
       "      <td>0.678</td>\n",
       "      <td>SLV</td>\n",
       "      <td>LatAm</td>\n",
       "      <td>332.26999</td>\n",
       "      <td>NaN</td>\n",
       "      <td>6.9</td>\n",
       "      <td>3.804579</td>\n",
       "      <td>3.44857</td>\n",
       "      <td>70.171722</td>\n",
       "      <td>-0.74</td>\n",
       "      <td>-0.16</td>\n",
       "      <td>0.61</td>\n",
       "    </tr>\n",
       "    <tr>\n",
       "      <th>42</th>\n",
       "      <td>Liberia</td>\n",
       "      <td>0.427</td>\n",
       "      <td>LBR</td>\n",
       "      <td>SubSaharian</td>\n",
       "      <td>488.26999</td>\n",
       "      <td>NaN</td>\n",
       "      <td>6.6</td>\n",
       "      <td>3.472222</td>\n",
       "      <td>2.75756</td>\n",
       "      <td>NaN</td>\n",
       "      <td>-0.73</td>\n",
       "      <td>-1.81</td>\n",
       "      <td>0.46</td>\n",
       "    </tr>\n",
       "    <tr>\n",
       "      <th>88</th>\n",
       "      <td>Niger</td>\n",
       "      <td>0.351</td>\n",
       "      <td>NER</td>\n",
       "      <td>SubSaharian</td>\n",
       "      <td>644.53998</td>\n",
       "      <td>NaN</td>\n",
       "      <td>6.9</td>\n",
       "      <td>NaN</td>\n",
       "      <td>6.70941</td>\n",
       "      <td>15.665040</td>\n",
       "      <td>-0.72</td>\n",
       "      <td>-2.31</td>\n",
       "      <td>0.61</td>\n",
       "    </tr>\n",
       "    <tr>\n",
       "      <th>73</th>\n",
       "      <td>Guinea-Bissau</td>\n",
       "      <td>0.421</td>\n",
       "      <td>GNB</td>\n",
       "      <td>SubSaharian</td>\n",
       "      <td>961.26001</td>\n",
       "      <td>NaN</td>\n",
       "      <td>8.5</td>\n",
       "      <td>NaN</td>\n",
       "      <td>2.17313</td>\n",
       "      <td>NaN</td>\n",
       "      <td>-0.71</td>\n",
       "      <td>-1.85</td>\n",
       "      <td>1.40</td>\n",
       "    </tr>\n",
       "    <tr>\n",
       "      <th>81</th>\n",
       "      <td>Sierra Leone</td>\n",
       "      <td>0.431</td>\n",
       "      <td>SLE</td>\n",
       "      <td>SubSaharian</td>\n",
       "      <td>979.95001</td>\n",
       "      <td>6.232000</td>\n",
       "      <td>8.4</td>\n",
       "      <td>2.986086</td>\n",
       "      <td>2.66167</td>\n",
       "      <td>NaN</td>\n",
       "      <td>-0.71</td>\n",
       "      <td>-1.78</td>\n",
       "      <td>1.35</td>\n",
       "    </tr>\n",
       "    <tr>\n",
       "      <th>41</th>\n",
       "      <td>Guinea</td>\n",
       "      <td>0.414</td>\n",
       "      <td>GIN</td>\n",
       "      <td>SubSaharian</td>\n",
       "      <td>993.83002</td>\n",
       "      <td>11.745000</td>\n",
       "      <td>7.2</td>\n",
       "      <td>2.425785</td>\n",
       "      <td>3.20817</td>\n",
       "      <td>31.788179</td>\n",
       "      <td>-0.71</td>\n",
       "      <td>-1.89</td>\n",
       "      <td>0.76</td>\n",
       "    </tr>\n",
       "    <tr>\n",
       "      <th>74</th>\n",
       "      <td>Mali</td>\n",
       "      <td>0.438</td>\n",
       "      <td>MLI</td>\n",
       "      <td>SubSaharian</td>\n",
       "      <td>1063.26000</td>\n",
       "      <td>14.854000</td>\n",
       "      <td>8.4</td>\n",
       "      <td>3.003276</td>\n",
       "      <td>3.73929</td>\n",
       "      <td>34.616100</td>\n",
       "      <td>-0.70</td>\n",
       "      <td>-1.74</td>\n",
       "      <td>1.35</td>\n",
       "    </tr>\n",
       "    <tr>\n",
       "      <th>62</th>\n",
       "      <td>Afghanistan</td>\n",
       "      <td>0.479</td>\n",
       "      <td>AFG</td>\n",
       "      <td>SouthAsia</td>\n",
       "      <td>1282.64000</td>\n",
       "      <td>29.825001</td>\n",
       "      <td>8.1</td>\n",
       "      <td>NaN</td>\n",
       "      <td>3.78028</td>\n",
       "      <td>48.750320</td>\n",
       "      <td>-0.69</td>\n",
       "      <td>-1.47</td>\n",
       "      <td>1.20</td>\n",
       "    </tr>\n",
       "    <tr>\n",
       "      <th>60</th>\n",
       "      <td>Cote d'Ivoire</td>\n",
       "      <td>0.466</td>\n",
       "      <td>CIV</td>\n",
       "      <td>SubSaharian</td>\n",
       "      <td>1354.29000</td>\n",
       "      <td>22.524000</td>\n",
       "      <td>6.7</td>\n",
       "      <td>3.562079</td>\n",
       "      <td>4.72938</td>\n",
       "      <td>NaN</td>\n",
       "      <td>-0.69</td>\n",
       "      <td>-1.55</td>\n",
       "      <td>0.51</td>\n",
       "    </tr>\n",
       "    <tr>\n",
       "      <th>67</th>\n",
       "      <td>Benin</td>\n",
       "      <td>0.481</td>\n",
       "      <td>BEN</td>\n",
       "      <td>SubSaharian</td>\n",
       "      <td>1413.05000</td>\n",
       "      <td>10.320000</td>\n",
       "      <td>6.8</td>\n",
       "      <td>2.393939</td>\n",
       "      <td>4.32068</td>\n",
       "      <td>44.969818</td>\n",
       "      <td>-0.69</td>\n",
       "      <td>-1.45</td>\n",
       "      <td>0.56</td>\n",
       "    </tr>\n",
       "  </tbody>\n",
       "</table>\n",
       "</div>"
      ],
      "text/plain": [
       "            cname  undp_hdi ccodealp    ht_region   gle_cgdpc    imf_pop  \\\n",
       "58    El Salvador     0.678      SLV        LatAm   332.26999        NaN   \n",
       "42        Liberia     0.427      LBR  SubSaharian   488.26999        NaN   \n",
       "88          Niger     0.351      NER  SubSaharian   644.53998        NaN   \n",
       "73  Guinea-Bissau     0.421      GNB  SubSaharian   961.26001        NaN   \n",
       "81   Sierra Leone     0.431      SLE  SubSaharian   979.95001   6.232000   \n",
       "41         Guinea     0.414      GIN  SubSaharian   993.83002  11.745000   \n",
       "74           Mali     0.438      MLI  SubSaharian  1063.26000  14.854000   \n",
       "62    Afghanistan     0.479      AFG    SouthAsia  1282.64000  29.825001   \n",
       "60  Cote d'Ivoire     0.466      CIV  SubSaharian  1354.29000  22.524000   \n",
       "67          Benin     0.481      BEN  SubSaharian  1413.05000  10.320000   \n",
       "\n",
       "    ffp_hf   wef_qes  wdi_expedu   wdi_ners  gle_cgdpc_z  undp_hdi_z  ffp_hf_z  \n",
       "58     6.9  3.804579     3.44857  70.171722        -0.74       -0.16      0.61  \n",
       "42     6.6  3.472222     2.75756        NaN        -0.73       -1.81      0.46  \n",
       "88     6.9       NaN     6.70941  15.665040        -0.72       -2.31      0.61  \n",
       "73     8.5       NaN     2.17313        NaN        -0.71       -1.85      1.40  \n",
       "81     8.4  2.986086     2.66167        NaN        -0.71       -1.78      1.35  \n",
       "41     7.2  2.425785     3.20817  31.788179        -0.71       -1.89      0.76  \n",
       "74     8.4  3.003276     3.73929  34.616100        -0.70       -1.74      1.35  \n",
       "62     8.1       NaN     3.78028  48.750320        -0.69       -1.47      1.20  \n",
       "60     6.7  3.562079     4.72938        NaN        -0.69       -1.55      0.51  \n",
       "67     6.8  2.393939     4.32068  44.969818        -0.69       -1.45      0.56  "
      ]
     },
     "execution_count": 10,
     "metadata": {},
     "output_type": "execute_result"
    }
   ],
   "source": [
    "my_sorted_no_na_df.head(10)"
   ]
  },
  {
   "cell_type": "code",
   "execution_count": 11,
   "metadata": {},
   "outputs": [
    {
     "data": {
      "text/html": [
       "<div>\n",
       "<style scoped>\n",
       "    .dataframe tbody tr th:only-of-type {\n",
       "        vertical-align: middle;\n",
       "    }\n",
       "\n",
       "    .dataframe tbody tr th {\n",
       "        vertical-align: top;\n",
       "    }\n",
       "\n",
       "    .dataframe thead th {\n",
       "        text-align: right;\n",
       "    }\n",
       "</style>\n",
       "<table border=\"1\" class=\"dataframe\">\n",
       "  <thead>\n",
       "    <tr style=\"text-align: right;\">\n",
       "      <th></th>\n",
       "      <th>cname</th>\n",
       "      <th>undp_hdi</th>\n",
       "      <th>ccodealp</th>\n",
       "      <th>ht_region</th>\n",
       "      <th>gle_cgdpc</th>\n",
       "      <th>imf_pop</th>\n",
       "      <th>ffp_hf</th>\n",
       "      <th>wef_qes</th>\n",
       "      <th>wdi_expedu</th>\n",
       "      <th>wdi_ners</th>\n",
       "      <th>gle_cgdpc_z</th>\n",
       "      <th>undp_hdi_z</th>\n",
       "      <th>ffp_hf_z</th>\n",
       "    </tr>\n",
       "  </thead>\n",
       "  <tbody>\n",
       "    <tr>\n",
       "      <th>36</th>\n",
       "      <td>United Kingdom</td>\n",
       "      <td>0.908</td>\n",
       "      <td>GBR</td>\n",
       "      <td>WesternDem</td>\n",
       "      <td>34791.051</td>\n",
       "      <td>64.597000</td>\n",
       "      <td>2.1</td>\n",
       "      <td>4.633322</td>\n",
       "      <td>5.73449</td>\n",
       "      <td>98.279984</td>\n",
       "      <td>0.89</td>\n",
       "      <td>1.36</td>\n",
       "      <td>-1.78</td>\n",
       "    </tr>\n",
       "    <tr>\n",
       "      <th>79</th>\n",
       "      <td>Japan</td>\n",
       "      <td>0.902</td>\n",
       "      <td>JPN</td>\n",
       "      <td>EastAsia</td>\n",
       "      <td>36123.770</td>\n",
       "      <td>127.120003</td>\n",
       "      <td>2.6</td>\n",
       "      <td>4.430102</td>\n",
       "      <td>3.59184</td>\n",
       "      <td>99.042671</td>\n",
       "      <td>0.95</td>\n",
       "      <td>1.32</td>\n",
       "      <td>-1.53</td>\n",
       "    </tr>\n",
       "    <tr>\n",
       "      <th>71</th>\n",
       "      <td>Canada</td>\n",
       "      <td>0.919</td>\n",
       "      <td>CAN</td>\n",
       "      <td>WesternDem</td>\n",
       "      <td>36577.078</td>\n",
       "      <td>35.495998</td>\n",
       "      <td>2.2</td>\n",
       "      <td>5.245897</td>\n",
       "      <td>5.28122</td>\n",
       "      <td>NaN</td>\n",
       "      <td>0.98</td>\n",
       "      <td>1.43</td>\n",
       "      <td>-1.73</td>\n",
       "    </tr>\n",
       "    <tr>\n",
       "      <th>38</th>\n",
       "      <td>Sweden</td>\n",
       "      <td>0.909</td>\n",
       "      <td>SWE</td>\n",
       "      <td>WesternDem</td>\n",
       "      <td>39000.910</td>\n",
       "      <td>9.645000</td>\n",
       "      <td>1.5</td>\n",
       "      <td>4.577006</td>\n",
       "      <td>7.67509</td>\n",
       "      <td>96.651558</td>\n",
       "      <td>1.09</td>\n",
       "      <td>1.37</td>\n",
       "      <td>-2.08</td>\n",
       "    </tr>\n",
       "    <tr>\n",
       "      <th>68</th>\n",
       "      <td>Brunei</td>\n",
       "      <td>0.864</td>\n",
       "      <td>BRN</td>\n",
       "      <td>SouthEastAsia</td>\n",
       "      <td>46103.840</td>\n",
       "      <td>0.412000</td>\n",
       "      <td>4.6</td>\n",
       "      <td>4.417221</td>\n",
       "      <td>3.35319</td>\n",
       "      <td>87.032318</td>\n",
       "      <td>1.43</td>\n",
       "      <td>1.07</td>\n",
       "      <td>-0.54</td>\n",
       "    </tr>\n",
       "    <tr>\n",
       "      <th>85</th>\n",
       "      <td>Ireland</td>\n",
       "      <td>0.920</td>\n",
       "      <td>IRL</td>\n",
       "      <td>WesternDem</td>\n",
       "      <td>46422.070</td>\n",
       "      <td>4.621000</td>\n",
       "      <td>2.8</td>\n",
       "      <td>5.434197</td>\n",
       "      <td>5.32457</td>\n",
       "      <td>99.573357</td>\n",
       "      <td>1.44</td>\n",
       "      <td>1.44</td>\n",
       "      <td>-1.43</td>\n",
       "    </tr>\n",
       "    <tr>\n",
       "      <th>12</th>\n",
       "      <td>Switzerland</td>\n",
       "      <td>0.938</td>\n",
       "      <td>CHE</td>\n",
       "      <td>WesternDem</td>\n",
       "      <td>50454.410</td>\n",
       "      <td>8.140000</td>\n",
       "      <td>2.1</td>\n",
       "      <td>5.986858</td>\n",
       "      <td>5.09608</td>\n",
       "      <td>84.246483</td>\n",
       "      <td>1.63</td>\n",
       "      <td>1.56</td>\n",
       "      <td>-1.78</td>\n",
       "    </tr>\n",
       "    <tr>\n",
       "      <th>48</th>\n",
       "      <td>Singapore</td>\n",
       "      <td>0.924</td>\n",
       "      <td>SGP</td>\n",
       "      <td>SouthEastAsia</td>\n",
       "      <td>54268.148</td>\n",
       "      <td>5.470000</td>\n",
       "      <td>3.3</td>\n",
       "      <td>5.797279</td>\n",
       "      <td>2.91579</td>\n",
       "      <td>NaN</td>\n",
       "      <td>1.81</td>\n",
       "      <td>1.46</td>\n",
       "      <td>-1.18</td>\n",
       "    </tr>\n",
       "    <tr>\n",
       "      <th>24</th>\n",
       "      <td>Luxembourg</td>\n",
       "      <td>0.896</td>\n",
       "      <td>LUX</td>\n",
       "      <td>WesternDem</td>\n",
       "      <td>61404.480</td>\n",
       "      <td>0.550000</td>\n",
       "      <td>2.1</td>\n",
       "      <td>4.580255</td>\n",
       "      <td>4.08388</td>\n",
       "      <td>84.603470</td>\n",
       "      <td>2.15</td>\n",
       "      <td>1.28</td>\n",
       "      <td>-1.78</td>\n",
       "    </tr>\n",
       "    <tr>\n",
       "      <th>14</th>\n",
       "      <td>Qatar</td>\n",
       "      <td>0.855</td>\n",
       "      <td>QAT</td>\n",
       "      <td>NorthAfrica</td>\n",
       "      <td>104049.440</td>\n",
       "      <td>2.045000</td>\n",
       "      <td>3.1</td>\n",
       "      <td>5.820522</td>\n",
       "      <td>3.60719</td>\n",
       "      <td>72.464622</td>\n",
       "      <td>4.16</td>\n",
       "      <td>1.01</td>\n",
       "      <td>-1.28</td>\n",
       "    </tr>\n",
       "  </tbody>\n",
       "</table>\n",
       "</div>"
      ],
      "text/plain": [
       "             cname  undp_hdi ccodealp      ht_region   gle_cgdpc     imf_pop  \\\n",
       "36  United Kingdom     0.908      GBR     WesternDem   34791.051   64.597000   \n",
       "79           Japan     0.902      JPN       EastAsia   36123.770  127.120003   \n",
       "71          Canada     0.919      CAN     WesternDem   36577.078   35.495998   \n",
       "38          Sweden     0.909      SWE     WesternDem   39000.910    9.645000   \n",
       "68          Brunei     0.864      BRN  SouthEastAsia   46103.840    0.412000   \n",
       "85         Ireland     0.920      IRL     WesternDem   46422.070    4.621000   \n",
       "12     Switzerland     0.938      CHE     WesternDem   50454.410    8.140000   \n",
       "48       Singapore     0.924      SGP  SouthEastAsia   54268.148    5.470000   \n",
       "24      Luxembourg     0.896      LUX     WesternDem   61404.480    0.550000   \n",
       "14           Qatar     0.855      QAT    NorthAfrica  104049.440    2.045000   \n",
       "\n",
       "    ffp_hf   wef_qes  wdi_expedu   wdi_ners  gle_cgdpc_z  undp_hdi_z  ffp_hf_z  \n",
       "36     2.1  4.633322     5.73449  98.279984         0.89        1.36     -1.78  \n",
       "79     2.6  4.430102     3.59184  99.042671         0.95        1.32     -1.53  \n",
       "71     2.2  5.245897     5.28122        NaN         0.98        1.43     -1.73  \n",
       "38     1.5  4.577006     7.67509  96.651558         1.09        1.37     -2.08  \n",
       "68     4.6  4.417221     3.35319  87.032318         1.43        1.07     -0.54  \n",
       "85     2.8  5.434197     5.32457  99.573357         1.44        1.44     -1.43  \n",
       "12     2.1  5.986858     5.09608  84.246483         1.63        1.56     -1.78  \n",
       "48     3.3  5.797279     2.91579        NaN         1.81        1.46     -1.18  \n",
       "24     2.1  4.580255     4.08388  84.603470         2.15        1.28     -1.78  \n",
       "14     3.1  5.820522     3.60719  72.464622         4.16        1.01     -1.28  "
      ]
     },
     "execution_count": 11,
     "metadata": {},
     "output_type": "execute_result"
    }
   ],
   "source": [
    "my_sorted_no_na_df.tail(10)"
   ]
  },
  {
   "cell_type": "markdown",
   "metadata": {},
   "source": [
    "<b>¿Qué\n",
    "características en común se encuentran?</b>"
   ]
  },
  {
   "cell_type": "markdown",
   "metadata": {},
   "source": [
    "* La evidencia sugiere que el <b>PIB per capita (gle_cgdpc)</b> para la region de <b>SubSaharian</b> comparado al promedio mundial es menor, sitúandose entre <b>-0.69</b> y <b>-0.74</b> desviaciones estandar por debajo de la media.\n",
    "\n",
    "* Tambien la evidencia sugiere que el <b>PIB per capita (gle_cgdpc)</b> para las regiones <b>WesternDem, NorthAfrica, EastAsia y SouthEastAsia</b> comparado al promedio mundial es mayor. sitúandose entre <b>0.89</b> y <b>4.16</b> desviaciones estandar por sobre la media."
   ]
  },
  {
   "cell_type": "markdown",
   "metadata": {},
   "source": [
    "## 4. Estime el puntaje z de las regiones"
   ]
  },
  {
   "cell_type": "markdown",
   "metadata": {},
   "source": [
    "<b>Para ello, modifique la función para generar dotplots de la semana pasada, donde deberá agregar\n",
    "una opción al argumento statistic para calcular el puntaje z.</b>"
   ]
  },
  {
   "cell_type": "code",
   "execution_count": 12,
   "metadata": {},
   "outputs": [
    {
     "data": {
      "image/png": "[encoded data removed]",
      "text/plain": [
       "<Figure size 432x288 with 1 Axes>"
      ]
     },
     "metadata": {
      "needs_background": "light"
     },
     "output_type": "display_data"
    },
    {
     "data": {
      "image/png": "[encoded data removed]",
      "text/plain": [
       "<Figure size 432x288 with 1 Axes>"
      ]
     },
     "metadata": {
      "needs_background": "light"
     },
     "output_type": "display_data"
    },
    {
     "data": {
      "image/png": "[encoded data removed]",
      "text/plain": [
       "<Figure size 432x288 with 1 Axes>"
      ]
     },
     "metadata": {
      "needs_background": "light"
     },
     "output_type": "display_data"
    }
   ],
   "source": [
    "for variable in ['gle_cgdpc', 'undp_hdi', 'ffp_hf']:\n",
    "    funciones_auxiliares.crear_dotplot(my_sorted_no_na_df, variable, 'ht_region', False, 'zscore')"
   ]
  },
  {
   "cell_type": "markdown",
   "metadata": {},
   "source": [
    "## 5. Genere un método que devuelva un gráfico comparando dos curvas de densidad"
   ]
  },
  {
   "cell_type": "markdown",
   "metadata": {},
   "source": [
    "<b>* El método debe contener los siguientes argumentos:\n",
    "    * df1 : Tabla de datos 1.\n",
    "    * df2 : Tabla de datos 2.\n",
    "    * variable : Variable a contrastar.\n",
    "    * log : Booleano. Si es True transformar la variable al logaritmo. Por defecto debe ser False .\n",
    "* Grafique las curvas para imf_pop , gle_cgdpc y undp_hdi.\n",
    "</b>"
   ]
  },
  {
   "cell_type": "code",
   "execution_count": 13,
   "metadata": {},
   "outputs": [
    {
     "data": {
      "image/png": "[encoded data removed]",
      "text/plain": [
       "<Figure size 432x288 with 1 Axes>"
      ]
     },
     "metadata": {
      "needs_background": "light"
     },
     "output_type": "display_data"
    },
    {
     "data": {
      "image/png": "[encoded data removed]",
      "text/plain": [
       "<Figure size 432x288 with 1 Axes>"
      ]
     },
     "metadata": {
      "needs_background": "light"
     },
     "output_type": "display_data"
    },
    {
     "name": "stdout",
     "output_type": "stream",
     "text": [
      "*************************************************************************\n"
     ]
    },
    {
     "data": {
      "image/png": "[encoded data removed]",
      "text/plain": [
       "<Figure size 432x288 with 1 Axes>"
      ]
     },
     "metadata": {
      "needs_background": "light"
     },
     "output_type": "display_data"
    },
    {
     "data": {
      "image/png": "[encoded data removed]",
      "text/plain": [
       "<Figure size 432x288 with 1 Axes>"
      ]
     },
     "metadata": {
      "needs_background": "light"
     },
     "output_type": "display_data"
    },
    {
     "name": "stdout",
     "output_type": "stream",
     "text": [
      "*************************************************************************\n"
     ]
    },
    {
     "data": {
      "image/png": "[encoded data removed]",
      "text/plain": [
       "<Figure size 432x288 with 1 Axes>"
      ]
     },
     "metadata": {
      "needs_background": "light"
     },
     "output_type": "display_data"
    },
    {
     "data": {
      "image/png": "[encoded data removed]",
      "text/plain": [
       "<Figure size 432x288 with 1 Axes>"
      ]
     },
     "metadata": {
      "needs_background": "light"
     },
     "output_type": "display_data"
    },
    {
     "name": "stdout",
     "output_type": "stream",
     "text": [
      "*************************************************************************\n"
     ]
    }
   ],
   "source": [
    "for variable in ['imf_pop', 'gle_cgdpc', 'undp_hdi']:\n",
    "    funciones_auxiliares.generar_curvas_de_densidad(my_sorted_no_na_df, df, variable)\n",
    "    funciones_auxiliares.generar_curvas_de_densidad(my_sorted_no_na_df, df, variable, True)\n",
    "    print('*************************************************************************')"
   ]
  },
  {
   "cell_type": "markdown",
   "metadata": {},
   "source": [
    "<b>¿En qué casos es necesario utilizar logaritmos? ¿Por qué?</b>"
   ]
  },
  {
   "cell_type": "markdown",
   "metadata": {},
   "source": [
    "Observamos que las distribuciónes para las variables <b>gle_cgdpc</b> y <b>imf_pop</b> son altamente sesgada donde algunos valores se escapan de forma substancial de la muestra, por este motivo se puede corregir mediante la <b>distribución lognormal</b>. Para la variable <b>undp_hdi</b> no es necesario utilizar logaritmos ya que presenta una <b>distribución normal</b>."
   ]
  }
 ],
 "metadata": {
  "kernelspec": {
   "display_name": "Python 3",
   "language": "python",
   "name": "python3"
  },
  "language_info": {
   "codemirror_mode": {
    "name": "ipython",
    "version": 3
   },
   "file_extension": ".py",
   "mimetype": "text/x-python",
   "name": "python",
   "nbconvert_exporter": "python",
   "pygments_lexer": "ipython3",
   "version": "3.7.3"
  }
 },
 "nbformat": 4,
 "nbformat_minor": 2
}
